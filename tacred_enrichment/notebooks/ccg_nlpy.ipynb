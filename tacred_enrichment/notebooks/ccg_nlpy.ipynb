{
 "cells": [
  {
   "cell_type": "code",
   "execution_count": 1,
   "metadata": {},
   "outputs": [],
   "source": [
    "from ccg_nlpy import remote_pipeline"
   ]
  },
  {
   "cell_type": "code",
   "execution_count": 2,
   "metadata": {},
   "outputs": [
    {
     "name": "stderr",
     "output_type": "stream",
     "text": [
      "WARNING:ccg_nlpy.pipeline_config:Models not found. To use pipeline locally, please refer the documentation for downloading models.\n",
      "INFO:ccg_nlpy.pipeline_config:Using pipeline web server with API: http://3.15.153.165:8080\n",
      "INFO:ccg_nlpy.remote_pipeline:pipeline has been set up\n"
     ]
    }
   ],
   "source": [
    "from ccg_nlpy import remote_pipeline\n",
    "pipeline = remote_pipeline.RemotePipeline(server_api='http://3.15.153.165:8080') "
   ]
  },
  {
   "cell_type": "code",
   "execution_count": 24,
   "metadata": {},
   "outputs": [],
   "source": [
    "doc = pipeline.doc( \"Tom Thabane resigned in October last year to form the All Basotho Convention (ABC), crossing the floor with 17 members of parliament, causing constitutional monarch King Letsie III to dissolve parliament and call the snap election.\")"
   ]
  },
  {
   "cell_type": "code",
   "execution_count": 26,
   "metadata": {},
   "outputs": [
    {
     "name": "stdout",
     "output_type": "stream",
     "text": [
      "NER_ONTONOTES view: (PERSON Tom Thabane) (DATE October last year) (ORG the All Basotho Convention) (ORG ABC) (CARDINAL 17) (PERSON Letsie III) \n"
     ]
    }
   ],
   "source": [
    "print(doc.get_ner_ontonotes)"
   ]
  },
  {
   "cell_type": "code",
   "execution_count": 25,
   "metadata": {},
   "outputs": [
    {
     "name": "stdout",
     "output_type": "stream",
     "text": [
      "NER_CONLL view: (PER Tom Thabane) (ORG All Basotho Convention) (ORG ABC) (PER Letsie III) \n"
     ]
    }
   ],
   "source": [
    "print(doc.get_ner_conll)"
   ]
  },
  {
   "cell_type": "code",
   "execution_count": 2,
   "metadata": {},
   "outputs": [],
   "source": [
    "import spacy\n",
    "\n",
    "spacy.prefer_gpu()\n",
    "nlp = spacy.load(\"en_core_web_md\")"
   ]
  },
  {
   "cell_type": "code",
   "execution_count": 3,
   "metadata": {},
   "outputs": [],
   "source": [
    "ner = nlp.create_pipe(\"ner\")"
   ]
  },
  {
   "cell_type": "code",
   "execution_count": 5,
   "metadata": {},
   "outputs": [
    {
     "name": "stdout",
     "output_type": "stream",
     "text": [
      "[('Tom Thabane', 'PERSON'), ('October last year', 'DATE'), ('the All Basotho Convention', 'EVENT'), ('ABC', 'ORG'), ('17', 'CARDINAL'), ('Letsie III', 'PERSON')]\n"
     ]
    }
   ],
   "source": [
    "doc = nlp('Tom Thabane resigned in October last year to form the All Basotho Convention (ABC), crossing the floor with 17 members of parliament, causing constitutional monarch King Letsie III to dissolve parliament and call the snap election.')\n",
    "print([(X.text, X.label_) for X in doc.ents])"
   ]
  },
  {
   "cell_type": "code",
   "execution_count": null,
   "metadata": {},
   "outputs": [],
   "source": []
  }
 ],
 "metadata": {
  "kernelspec": {
   "display_name": "Python 3",
   "language": "python",
   "name": "python3"
  },
  "language_info": {
   "codemirror_mode": {
    "name": "ipython",
    "version": 3
   },
   "file_extension": ".py",
   "mimetype": "text/x-python",
   "name": "python",
   "nbconvert_exporter": "python",
   "pygments_lexer": "ipython3",
   "version": "3.7.6"
  }
 },
 "nbformat": 4,
 "nbformat_minor": 4
}
