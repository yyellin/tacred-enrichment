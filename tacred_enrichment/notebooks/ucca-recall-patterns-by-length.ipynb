{
 "cells": [
  {
   "cell_type": "code",
   "execution_count": 1,
   "metadata": {},
   "outputs": [
    {
     "data": {
      "text/html": [
       "        <script type=\"text/javascript\">\n",
       "        window.PlotlyConfig = {MathJaxConfig: 'local'};\n",
       "        if (window.MathJax) {MathJax.Hub.Config({SVG: {font: \"STIX-Web\"}});}\n",
       "        if (typeof require !== 'undefined') {\n",
       "        require.undef(\"plotly\");\n",
       "        requirejs.config({\n",
       "            paths: {\n",
       "                'plotly': ['https://cdn.plot.ly/plotly-latest.min']\n",
       "            }\n",
       "        });\n",
       "        require(['plotly'], function(Plotly) {\n",
       "            window._Plotly = Plotly;\n",
       "        });\n",
       "        }\n",
       "        </script>\n",
       "        "
      ]
     },
     "metadata": {},
     "output_type": "display_data"
    }
   ],
   "source": [
    "from _plotly_future_ import v4_subplots\n",
    "from plotly.offline import download_plotlyjs, init_notebook_mode, plot, iplot\n",
    "from plotly.subplots import make_subplots\n",
    "import plotly.graph_objs as go\n",
    "\n",
    "init_notebook_mode(connected=True)"
   ]
  },
  {
   "cell_type": "code",
   "execution_count": 2,
   "metadata": {},
   "outputs": [],
   "source": [
    "import pandas\n",
    "\n",
    "train = pandas.read_json(r'C:\\Users\\JYellin\\re_1\\tacred\\data\\json-enhanced\\train.json')\n",
    "test = pandas.read_json(r'C:\\Users\\JYellin\\re_1\\tacred\\data\\json-enhanced\\test.json')\n",
    "\n",
    "# no point to consider 'no_relation' sentences when considering recall ,,,\n",
    "train = train[ train['relation'] != 'no_relation']\n",
    "test = test[ test['relation'] != 'no_relation']\n"
   ]
  },
  {
   "cell_type": "code",
   "execution_count": 3,
   "metadata": {},
   "outputs": [],
   "source": [
    "train_total_by_r_and_p = train.groupby(['relation','ucca_path'])['id'].count().reset_index().rename(columns={'id': 'total'}).sort_values(['relation','total'], ascending=[True,False]).reset_index(drop=True)"
   ]
  },
  {
   "cell_type": "code",
   "execution_count": 4,
   "metadata": {},
   "outputs": [],
   "source": [
    "# the following command will effectivly remove all rows in test that do not have a match\n",
    "\n",
    "test = test.merge(train_total_by_r_and_p, on=['relation', 'ucca_path'])"
   ]
  },
  {
   "cell_type": "code",
   "execution_count": 5,
   "metadata": {},
   "outputs": [],
   "source": [
    "test_total_by_relation_and_len = test.groupby(['relation','ucca_path_len'])['id'].count().reset_index().rename(columns={'id': 'total'}).sort_values(['relation','total'], ascending=[False,False]).reset_index(drop=True)"
   ]
  },
  {
   "cell_type": "code",
   "execution_count": 6,
   "metadata": {},
   "outputs": [],
   "source": [
    "test_total_by_relation = test.groupby(['relation'])['id'].count().reset_index().rename(columns={'id': 'total'}).sort_values(['total'], ascending=[False]).reset_index(drop=True)\n",
    "\n",
    "relations = test_total_by_relation['relation'].to_list()\n",
    "totals = test_total_by_relation['total'].to_list()\n",
    "\n",
    "labels = [ '{} ({} matches)'.format(relation, total) for relation,total in zip(relations,totals) ]"
   ]
  },
  {
   "cell_type": "code",
   "execution_count": 7,
   "metadata": {},
   "outputs": [],
   "source": [
    "import math\n",
    "\n",
    "relations = test_total_by_relation['relation'].unique().tolist()\n",
    "num_relations = len(relations)\n",
    "\n",
    "num_columns = 4\n",
    "num_rows = math.ceil(num_relations/num_columns)"
   ]
  },
  {
   "cell_type": "code",
   "execution_count": 26,
   "metadata": {},
   "outputs": [
    {
     "data": {
      "application/vnd.plotly.v1+json": {
       "config": {
        "plotlyServerURL": "https://plot.ly"
       },
       "data": [
        {
         "domain": {
          "x": [
           0,
           0.2125
          ],
          "y": [
           0.9450000000000001,
           1
          ]
         },
         "hoverinfo": "label+percent",
         "labels": [
          4,
          5,
          3,
          6,
          7,
          8,
          2
         ],
         "marker": {
          "colors": [
           "#FFED6F",
           "#CCEBC5",
           "#BC80BD",
           "#D9D9D9",
           "#FCCDE5",
           "#80B1D3"
          ]
         },
         "textfont": {
          "size": 10
         },
         "textinfo": "label+value",
         "type": "pie",
         "uid": "add4280e-4253-44b8-8ed1-c30180178edd",
         "values": [
          220,
          87,
          54,
          33,
          18,
          5,
          2
         ]
        },
        {
         "domain": {
          "x": [
           0.2625,
           0.475
          ],
          "y": [
           0.9450000000000001,
           1
          ]
         },
         "hoverinfo": "label+percent",
         "labels": [
          5,
          6,
          4,
          3,
          7,
          8,
          9
         ],
         "marker": {
          "colors": [
           "#FFED6F",
           "#CCEBC5",
           "#BC80BD",
           "#D9D9D9",
           "#FCCDE5",
           "#80B1D3"
          ]
         },
         "textfont": {
          "size": 10
         },
         "textinfo": "label+value",
         "type": "pie",
         "uid": "537dde46-0a3b-4641-9f99-c1a69a8db8e4",
         "values": [
          181,
          52,
          48,
          11,
          6,
          4,
          2
         ]
        },
        {
         "domain": {
          "x": [
           0.525,
           0.7375
          ],
          "y": [
           0.9450000000000001,
           1
          ]
         },
         "hoverinfo": "label+percent",
         "labels": [
          5,
          4,
          6,
          7,
          3,
          8,
          9
         ],
         "marker": {
          "colors": [
           "#FFED6F",
           "#CCEBC5",
           "#BC80BD",
           "#D9D9D9",
           "#FCCDE5",
           "#80B1D3"
          ]
         },
         "textfont": {
          "size": 10
         },
         "textinfo": "label+value",
         "type": "pie",
         "uid": "bdee959b-0cf7-400b-b8fa-929a7a24db19",
         "values": [
          75,
          61,
          39,
          11,
          10,
          4,
          2
         ]
        },
        {
         "domain": {
          "x": [
           0.7875,
           1
          ],
          "y": [
           0.9450000000000001,
           1
          ]
         },
         "hoverinfo": "label+percent",
         "labels": [
          3,
          4,
          5,
          6,
          2,
          7
         ],
         "marker": {
          "colors": [
           "#FFED6F",
           "#CCEBC5",
           "#BC80BD",
           "#D9D9D9",
           "#FCCDE5",
           "#80B1D3"
          ]
         },
         "textfont": {
          "size": 10
         },
         "textinfo": "label+value",
         "type": "pie",
         "uid": "e8dc3056-ffbf-45e0-8cd3-06708d4e9941",
         "values": [
          138,
          38,
          3,
          2,
          1,
          1
         ]
        },
        {
         "domain": {
          "x": [
           0,
           0.2125
          ],
          "y": [
           0.8400000000000001,
           0.8950000000000001
          ]
         },
         "hoverinfo": "label+percent",
         "labels": [
          3,
          4,
          5,
          6,
          2,
          7
         ],
         "marker": {
          "colors": [
           "#FFED6F",
           "#CCEBC5",
           "#BC80BD",
           "#D9D9D9",
           "#FCCDE5",
           "#80B1D3"
          ]
         },
         "textfont": {
          "size": 10
         },
         "textinfo": "label+value",
         "type": "pie",
         "uid": "b4bdd4f9-ed1d-4f3b-b6ed-87b95886a90f",
         "values": [
          88,
          45,
          26,
          9,
          2,
          1
         ]
        },
        {
         "domain": {
          "x": [
           0.2625,
           0.475
          ],
          "y": [
           0.8400000000000001,
           0.8950000000000001
          ]
         },
         "hoverinfo": "label+percent",
         "labels": [
          4,
          5,
          6,
          7,
          3,
          8,
          9
         ],
         "marker": {
          "colors": [
           "#FFED6F",
           "#CCEBC5",
           "#BC80BD",
           "#D9D9D9",
           "#FCCDE5",
           "#80B1D3"
          ]
         },
         "textfont": {
          "size": 10
         },
         "textinfo": "label+value",
         "type": "pie",
         "uid": "fb364c62-8bb7-4e4f-a423-fe023b7cfb8d",
         "values": [
          55,
          35,
          25,
          9,
          4,
          1,
          1
         ]
        },
        {
         "domain": {
          "x": [
           0.525,
           0.7375
          ],
          "y": [
           0.8400000000000001,
           0.8950000000000001
          ]
         },
         "hoverinfo": "label+percent",
         "labels": [
          4,
          5,
          6,
          8,
          7,
          3
         ],
         "marker": {
          "colors": [
           "#FFED6F",
           "#CCEBC5",
           "#BC80BD",
           "#D9D9D9",
           "#FCCDE5",
           "#80B1D3"
          ]
         },
         "textfont": {
          "size": 10
         },
         "textinfo": "label+value",
         "type": "pie",
         "uid": "b4943412-b425-4656-b7e2-bfb069a78d65",
         "values": [
          34,
          26,
          15,
          10,
          6,
          5
         ]
        },
        {
         "domain": {
          "x": [
           0.7875,
           1
          ],
          "y": [
           0.8400000000000001,
           0.8950000000000001
          ]
         },
         "hoverinfo": "label+percent",
         "labels": [
          4,
          5,
          3,
          6,
          7
         ],
         "marker": {
          "colors": [
           "#FFED6F",
           "#CCEBC5",
           "#BC80BD",
           "#D9D9D9",
           "#FCCDE5",
           "#80B1D3"
          ]
         },
         "textfont": {
          "size": 10
         },
         "textinfo": "label+value",
         "type": "pie",
         "uid": "2d8bf622-9fe1-4dec-a4e8-97ddf31d7ad5",
         "values": [
          49,
          25,
          14,
          6,
          2
         ]
        },
        {
         "domain": {
          "x": [
           0,
           0.2125
          ],
          "y": [
           0.7350000000000001,
           0.7900000000000001
          ]
         },
         "hoverinfo": "label+percent",
         "labels": [
          4,
          5,
          6,
          2,
          3,
          7
         ],
         "marker": {
          "colors": [
           "#FFED6F",
           "#CCEBC5",
           "#BC80BD",
           "#D9D9D9",
           "#FCCDE5",
           "#80B1D3"
          ]
         },
         "textfont": {
          "size": 10
         },
         "textinfo": "label+value",
         "type": "pie",
         "uid": "de3ed043-75ee-42d2-b212-d2efc328d084",
         "values": [
          24,
          24,
          8,
          5,
          3,
          1
         ]
        },
        {
         "domain": {
          "x": [
           0.2625,
           0.475
          ],
          "y": [
           0.7350000000000001,
           0.7900000000000001
          ]
         },
         "hoverinfo": "label+percent",
         "labels": [
          4,
          5,
          6,
          7,
          8,
          3,
          11
         ],
         "marker": {
          "colors": [
           "#FFED6F",
           "#CCEBC5",
           "#BC80BD",
           "#D9D9D9",
           "#FCCDE5",
           "#80B1D3"
          ]
         },
         "textfont": {
          "size": 10
         },
         "textinfo": "label+value",
         "type": "pie",
         "uid": "75d05e08-ce7b-44f4-9eb3-652b1f3fb2ad",
         "values": [
          22,
          13,
          8,
          6,
          6,
          2,
          1
         ]
        },
        {
         "domain": {
          "x": [
           0.525,
           0.7375
          ],
          "y": [
           0.7350000000000001,
           0.7900000000000001
          ]
         },
         "hoverinfo": "label+percent",
         "labels": [
          4,
          5,
          6,
          7,
          3,
          8
         ],
         "marker": {
          "colors": [
           "#FFED6F",
           "#CCEBC5",
           "#BC80BD",
           "#D9D9D9",
           "#FCCDE5",
           "#80B1D3"
          ]
         },
         "textfont": {
          "size": 10
         },
         "textinfo": "label+value",
         "type": "pie",
         "uid": "eacf538d-936d-48d9-b3dc-8ee8bfc14661",
         "values": [
          22,
          22,
          9,
          2,
          1,
          1
         ]
        },
        {
         "domain": {
          "x": [
           0.7875,
           1
          ],
          "y": [
           0.7350000000000001,
           0.7900000000000001
          ]
         },
         "hoverinfo": "label+percent",
         "labels": [
          4,
          5,
          3,
          6,
          7
         ],
         "marker": {
          "colors": [
           "#FFED6F",
           "#CCEBC5",
           "#BC80BD",
           "#D9D9D9",
           "#FCCDE5",
           "#80B1D3"
          ]
         },
         "textfont": {
          "size": 10
         },
         "textinfo": "label+value",
         "type": "pie",
         "uid": "88259afc-71d3-4151-b2ca-ec72f28872d9",
         "values": [
          17,
          17,
          5,
          2,
          1
         ]
        },
        {
         "domain": {
          "x": [
           0,
           0.2125
          ],
          "y": [
           0.6300000000000001,
           0.6850000000000002
          ]
         },
         "hoverinfo": "label+percent",
         "labels": [
          4,
          5,
          6,
          3,
          7
         ],
         "marker": {
          "colors": [
           "#FFED6F",
           "#CCEBC5",
           "#BC80BD",
           "#D9D9D9",
           "#FCCDE5",
           "#80B1D3"
          ]
         },
         "textfont": {
          "size": 10
         },
         "textinfo": "label+value",
         "type": "pie",
         "uid": "9f4c2428-e45d-4965-b585-3058707bb17e",
         "values": [
          17,
          11,
          9,
          1,
          1
         ]
        },
        {
         "domain": {
          "x": [
           0.2625,
           0.475
          ],
          "y": [
           0.6300000000000001,
           0.6850000000000002
          ]
         },
         "hoverinfo": "label+percent",
         "labels": [
          4,
          5,
          6,
          3,
          2,
          7
         ],
         "marker": {
          "colors": [
           "#FFED6F",
           "#CCEBC5",
           "#BC80BD",
           "#D9D9D9",
           "#FCCDE5",
           "#80B1D3"
          ]
         },
         "textfont": {
          "size": 10
         },
         "textinfo": "label+value",
         "type": "pie",
         "uid": "9fad90d8-f0ae-4247-93f6-43593edf2ce7",
         "values": [
          14,
          9,
          8,
          3,
          2,
          2
         ]
        },
        {
         "domain": {
          "x": [
           0.525,
           0.7375
          ],
          "y": [
           0.6300000000000001,
           0.6850000000000002
          ]
         },
         "hoverinfo": "label+percent",
         "labels": [
          4,
          5,
          6,
          3,
          7,
          8
         ],
         "marker": {
          "colors": [
           "#FFED6F",
           "#CCEBC5",
           "#BC80BD",
           "#D9D9D9",
           "#FCCDE5",
           "#80B1D3"
          ]
         },
         "textfont": {
          "size": 10
         },
         "textinfo": "label+value",
         "type": "pie",
         "uid": "1b061553-9ae9-47fa-a2d6-c778d5a7218e",
         "values": [
          19,
          9,
          5,
          2,
          1,
          1
         ]
        },
        {
         "domain": {
          "x": [
           0.7875,
           1
          ],
          "y": [
           0.6300000000000001,
           0.6850000000000002
          ]
         },
         "hoverinfo": "label+percent",
         "labels": [
          4,
          3,
          5,
          6,
          7,
          8,
          9
         ],
         "marker": {
          "colors": [
           "#FFED6F",
           "#CCEBC5",
           "#BC80BD",
           "#D9D9D9",
           "#FCCDE5",
           "#80B1D3"
          ]
         },
         "textfont": {
          "size": 10
         },
         "textinfo": "label+value",
         "type": "pie",
         "uid": "bbf95910-dea1-4023-946c-ada993305c77",
         "values": [
          15,
          6,
          6,
          4,
          1,
          1,
          1
         ]
        },
        {
         "domain": {
          "x": [
           0,
           0.2125
          ],
          "y": [
           0.525,
           0.5800000000000001
          ]
         },
         "hoverinfo": "label+percent",
         "labels": [
          4,
          5,
          6,
          7
         ],
         "marker": {
          "colors": [
           "#FFED6F",
           "#CCEBC5",
           "#BC80BD",
           "#D9D9D9",
           "#FCCDE5",
           "#80B1D3"
          ]
         },
         "textfont": {
          "size": 10
         },
         "textinfo": "label+value",
         "type": "pie",
         "uid": "d875f934-0b6b-4c64-b81e-c0e8a06c4c65",
         "values": [
          17,
          14,
          2,
          1
         ]
        },
        {
         "domain": {
          "x": [
           0.2625,
           0.475
          ],
          "y": [
           0.525,
           0.5800000000000001
          ]
         },
         "hoverinfo": "label+percent",
         "labels": [
          4,
          5,
          6,
          3,
          7
         ],
         "marker": {
          "colors": [
           "#FFED6F",
           "#CCEBC5",
           "#BC80BD",
           "#D9D9D9",
           "#FCCDE5",
           "#80B1D3"
          ]
         },
         "textfont": {
          "size": 10
         },
         "textinfo": "label+value",
         "type": "pie",
         "uid": "01343ea3-098e-4e5a-a9ee-e3e9c5750e52",
         "values": [
          14,
          11,
          5,
          1,
          1
         ]
        },
        {
         "domain": {
          "x": [
           0.525,
           0.7375
          ],
          "y": [
           0.525,
           0.5800000000000001
          ]
         },
         "hoverinfo": "label+percent",
         "labels": [
          4,
          5,
          2,
          6
         ],
         "marker": {
          "colors": [
           "#FFED6F",
           "#CCEBC5",
           "#BC80BD",
           "#D9D9D9",
           "#FCCDE5",
           "#80B1D3"
          ]
         },
         "textfont": {
          "size": 10
         },
         "textinfo": "label+value",
         "type": "pie",
         "uid": "b514e2de-55f5-419d-80a9-9ab9fb4dbc27",
         "values": [
          14,
          14,
          3,
          1
         ]
        },
        {
         "domain": {
          "x": [
           0.7875,
           1
          ],
          "y": [
           0.525,
           0.5800000000000001
          ]
         },
         "hoverinfo": "label+percent",
         "labels": [
          4,
          5,
          6,
          3,
          7
         ],
         "marker": {
          "colors": [
           "#FFED6F",
           "#CCEBC5",
           "#BC80BD",
           "#D9D9D9",
           "#FCCDE5",
           "#80B1D3"
          ]
         },
         "textfont": {
          "size": 10
         },
         "textinfo": "label+value",
         "type": "pie",
         "uid": "074b73a0-75ef-4ded-b6db-8cee890eec67",
         "values": [
          9,
          8,
          7,
          6,
          2
         ]
        },
        {
         "domain": {
          "x": [
           0,
           0.2125
          ],
          "y": [
           0.42000000000000004,
           0.47500000000000003
          ]
         },
         "hoverinfo": "label+percent",
         "labels": [
          4,
          5,
          3,
          6,
          7
         ],
         "marker": {
          "colors": [
           "#FFED6F",
           "#CCEBC5",
           "#BC80BD",
           "#D9D9D9",
           "#FCCDE5",
           "#80B1D3"
          ]
         },
         "textfont": {
          "size": 10
         },
         "textinfo": "label+value",
         "type": "pie",
         "uid": "2bc261b1-2e09-4bd6-acac-bb946a05c577",
         "values": [
          15,
          11,
          1,
          1,
          1
         ]
        },
        {
         "domain": {
          "x": [
           0.2625,
           0.475
          ],
          "y": [
           0.42000000000000004,
           0.47500000000000003
          ]
         },
         "hoverinfo": "label+percent",
         "labels": [
          4,
          5,
          3,
          7,
          6
         ],
         "marker": {
          "colors": [
           "#FFED6F",
           "#CCEBC5",
           "#BC80BD",
           "#D9D9D9",
           "#FCCDE5",
           "#80B1D3"
          ]
         },
         "textfont": {
          "size": 10
         },
         "textinfo": "label+value",
         "type": "pie",
         "uid": "d6aca6e6-b192-4068-b12c-b890efeeebba",
         "values": [
          13,
          8,
          2,
          2,
          1
         ]
        },
        {
         "domain": {
          "x": [
           0.525,
           0.7375
          ],
          "y": [
           0.42000000000000004,
           0.47500000000000003
          ]
         },
         "hoverinfo": "label+percent",
         "labels": [
          4,
          5,
          3,
          6
         ],
         "marker": {
          "colors": [
           "#FFED6F",
           "#CCEBC5",
           "#BC80BD",
           "#D9D9D9",
           "#FCCDE5",
           "#80B1D3"
          ]
         },
         "textfont": {
          "size": 10
         },
         "textinfo": "label+value",
         "type": "pie",
         "uid": "0d4aebc7-353a-4b22-8fc4-1914aa012335",
         "values": [
          9,
          5,
          4,
          1
         ]
        },
        {
         "domain": {
          "x": [
           0.7875,
           1
          ],
          "y": [
           0.42000000000000004,
           0.47500000000000003
          ]
         },
         "hoverinfo": "label+percent",
         "labels": [
          5,
          4,
          7,
          3,
          6
         ],
         "marker": {
          "colors": [
           "#FFED6F",
           "#CCEBC5",
           "#BC80BD",
           "#D9D9D9",
           "#FCCDE5",
           "#80B1D3"
          ]
         },
         "textfont": {
          "size": 10
         },
         "textinfo": "label+value",
         "type": "pie",
         "uid": "5a718237-4f2b-46e2-966c-822eea1ff75b",
         "values": [
          6,
          4,
          2,
          1,
          1
         ]
        },
        {
         "domain": {
          "x": [
           0,
           0.2125
          ],
          "y": [
           0.31500000000000006,
           0.37000000000000005
          ]
         },
         "hoverinfo": "label+percent",
         "labels": [
          4,
          5
         ],
         "marker": {
          "colors": [
           "#FFED6F",
           "#CCEBC5",
           "#BC80BD",
           "#D9D9D9",
           "#FCCDE5",
           "#80B1D3"
          ]
         },
         "textfont": {
          "size": 10
         },
         "textinfo": "label+value",
         "type": "pie",
         "uid": "61aa2481-207d-4e79-bb39-12f84550b01e",
         "values": [
          10,
          4
         ]
        },
        {
         "domain": {
          "x": [
           0.2625,
           0.475
          ],
          "y": [
           0.31500000000000006,
           0.37000000000000005
          ]
         },
         "hoverinfo": "label+percent",
         "labels": [
          4,
          5,
          6,
          3,
          9
         ],
         "marker": {
          "colors": [
           "#FFED6F",
           "#CCEBC5",
           "#BC80BD",
           "#D9D9D9",
           "#FCCDE5",
           "#80B1D3"
          ]
         },
         "textfont": {
          "size": 10
         },
         "textinfo": "label+value",
         "type": "pie",
         "uid": "51dd8ab2-e2f6-49b9-a22c-ec59ae80e8c9",
         "values": [
          4,
          4,
          2,
          1,
          1
         ]
        },
        {
         "domain": {
          "x": [
           0.525,
           0.7375
          ],
          "y": [
           0.31500000000000006,
           0.37000000000000005
          ]
         },
         "hoverinfo": "label+percent",
         "labels": [
          4,
          5,
          7,
          8
         ],
         "marker": {
          "colors": [
           "#FFED6F",
           "#CCEBC5",
           "#BC80BD",
           "#D9D9D9",
           "#FCCDE5",
           "#80B1D3"
          ]
         },
         "textfont": {
          "size": 10
         },
         "textinfo": "label+value",
         "type": "pie",
         "uid": "068701ba-d782-4bd2-bcb7-7519727625ec",
         "values": [
          4,
          3,
          2,
          1
         ]
        },
        {
         "domain": {
          "x": [
           0.7875,
           1
          ],
          "y": [
           0.31500000000000006,
           0.37000000000000005
          ]
         },
         "hoverinfo": "label+percent",
         "labels": [
          3,
          4
         ],
         "marker": {
          "colors": [
           "#FFED6F",
           "#CCEBC5",
           "#BC80BD",
           "#D9D9D9",
           "#FCCDE5",
           "#80B1D3"
          ]
         },
         "textfont": {
          "size": 10
         },
         "textinfo": "label+value",
         "type": "pie",
         "uid": "82c84ad6-bafe-4422-9a9f-0dfb5bbb603b",
         "values": [
          7,
          3
         ]
        },
        {
         "domain": {
          "x": [
           0,
           0.2125
          ],
          "y": [
           0.21000000000000002,
           0.265
          ]
         },
         "hoverinfo": "label+percent",
         "labels": [
          5,
          3,
          4
         ],
         "marker": {
          "colors": [
           "#FFED6F",
           "#CCEBC5",
           "#BC80BD",
           "#D9D9D9",
           "#FCCDE5",
           "#80B1D3"
          ]
         },
         "textfont": {
          "size": 10
         },
         "textinfo": "label+value",
         "type": "pie",
         "uid": "8815ad63-b6ae-4e9f-9cb8-a6c20d0e4107",
         "values": [
          5,
          2,
          2
         ]
        },
        {
         "domain": {
          "x": [
           0.2625,
           0.475
          ],
          "y": [
           0.21000000000000002,
           0.265
          ]
         },
         "hoverinfo": "label+percent",
         "labels": [
          4,
          7,
          5
         ],
         "marker": {
          "colors": [
           "#FFED6F",
           "#CCEBC5",
           "#BC80BD",
           "#D9D9D9",
           "#FCCDE5",
           "#80B1D3"
          ]
         },
         "textfont": {
          "size": 10
         },
         "textinfo": "label+value",
         "type": "pie",
         "uid": "af15e831-8f40-40ad-ab56-d9543f0bcdcc",
         "values": [
          4,
          4,
          1
         ]
        },
        {
         "domain": {
          "x": [
           0.525,
           0.7375
          ],
          "y": [
           0.21000000000000002,
           0.265
          ]
         },
         "hoverinfo": "label+percent",
         "labels": [
          4,
          3
         ],
         "marker": {
          "colors": [
           "#FFED6F",
           "#CCEBC5",
           "#BC80BD",
           "#D9D9D9",
           "#FCCDE5",
           "#80B1D3"
          ]
         },
         "textfont": {
          "size": 10
         },
         "textinfo": "label+value",
         "type": "pie",
         "uid": "ed34bdb2-49fd-4c06-a8e3-f9c59f0804b0",
         "values": [
          5,
          2
         ]
        },
        {
         "domain": {
          "x": [
           0.7875,
           1
          ],
          "y": [
           0.21000000000000002,
           0.265
          ]
         },
         "hoverinfo": "label+percent",
         "labels": [
          3,
          5,
          4,
          6,
          7
         ],
         "marker": {
          "colors": [
           "#FFED6F",
           "#CCEBC5",
           "#BC80BD",
           "#D9D9D9",
           "#FCCDE5",
           "#80B1D3"
          ]
         },
         "textfont": {
          "size": 10
         },
         "textinfo": "label+value",
         "type": "pie",
         "uid": "cfa5d3a3-b083-4bf1-b7da-f6f167619cef",
         "values": [
          2,
          2,
          1,
          1,
          1
         ]
        },
        {
         "domain": {
          "x": [
           0,
           0.2125
          ],
          "y": [
           0.10500000000000001,
           0.16000000000000003
          ]
         },
         "hoverinfo": "label+percent",
         "labels": [
          3,
          7,
          4,
          5
         ],
         "marker": {
          "colors": [
           "#FFED6F",
           "#CCEBC5",
           "#BC80BD",
           "#D9D9D9",
           "#FCCDE5",
           "#80B1D3"
          ]
         },
         "textfont": {
          "size": 10
         },
         "textinfo": "label+value",
         "type": "pie",
         "uid": "87e756a3-f9b6-4ae8-a763-3456a1fa470e",
         "values": [
          2,
          2,
          1,
          1
         ]
        },
        {
         "domain": {
          "x": [
           0.2625,
           0.475
          ],
          "y": [
           0.10500000000000001,
           0.16000000000000003
          ]
         },
         "hoverinfo": "label+percent",
         "labels": [
          5,
          3,
          4
         ],
         "marker": {
          "colors": [
           "#FFED6F",
           "#CCEBC5",
           "#BC80BD",
           "#D9D9D9",
           "#FCCDE5",
           "#80B1D3"
          ]
         },
         "textfont": {
          "size": 10
         },
         "textinfo": "label+value",
         "type": "pie",
         "uid": "d4ea284e-2356-4141-b12a-3e4c11986c87",
         "values": [
          3,
          1,
          1
         ]
        },
        {
         "domain": {
          "x": [
           0.525,
           0.7375
          ],
          "y": [
           0.10500000000000001,
           0.16000000000000003
          ]
         },
         "hoverinfo": "label+percent",
         "labels": [
          4
         ],
         "marker": {
          "colors": [
           "#FFED6F",
           "#CCEBC5",
           "#BC80BD",
           "#D9D9D9",
           "#FCCDE5",
           "#80B1D3"
          ]
         },
         "textfont": {
          "size": 10
         },
         "textinfo": "label+value",
         "type": "pie",
         "uid": "c5221006-30d4-49e7-90af-6be08461db15",
         "values": [
          4
         ]
        },
        {
         "domain": {
          "x": [
           0.7875,
           1
          ],
          "y": [
           0.10500000000000001,
           0.16000000000000003
          ]
         },
         "hoverinfo": "label+percent",
         "labels": [
          4,
          5
         ],
         "marker": {
          "colors": [
           "#FFED6F",
           "#CCEBC5",
           "#BC80BD",
           "#D9D9D9",
           "#FCCDE5",
           "#80B1D3"
          ]
         },
         "textfont": {
          "size": 10
         },
         "textinfo": "label+value",
         "type": "pie",
         "uid": "23856c4a-e025-483b-a39b-ae1182c1a618",
         "values": [
          1,
          1
         ]
        },
        {
         "domain": {
          "x": [
           0,
           0.2125
          ],
          "y": [
           0,
           0.05500000000000001
          ]
         },
         "hoverinfo": "label+percent",
         "labels": [
          3,
          5
         ],
         "marker": {
          "colors": [
           "#FFED6F",
           "#CCEBC5",
           "#BC80BD",
           "#D9D9D9",
           "#FCCDE5",
           "#80B1D3"
          ]
         },
         "textfont": {
          "size": 10
         },
         "textinfo": "label+value",
         "type": "pie",
         "uid": "6954dcdc-61b5-4c34-9d08-e5d1f9ebae2e",
         "values": [
          1,
          1
         ]
        },
        {
         "domain": {
          "x": [
           0.2625,
           0.475
          ],
          "y": [
           0,
           0.05500000000000001
          ]
         },
         "hoverinfo": "label+percent",
         "labels": [
          4
         ],
         "marker": {
          "colors": [
           "#FFED6F",
           "#CCEBC5",
           "#BC80BD",
           "#D9D9D9",
           "#FCCDE5",
           "#80B1D3"
          ]
         },
         "textfont": {
          "size": 10
         },
         "textinfo": "label+value",
         "type": "pie",
         "uid": "8d87d99e-8063-4ab6-a75f-787af7411441",
         "values": [
          2
         ]
        },
        {
         "domain": {
          "x": [
           0.525,
           0.7375
          ],
          "y": [
           0,
           0.05500000000000001
          ]
         },
         "hoverinfo": "label+percent",
         "labels": [
          4
         ],
         "marker": {
          "colors": [
           "#FFED6F",
           "#CCEBC5",
           "#BC80BD",
           "#D9D9D9",
           "#FCCDE5",
           "#80B1D3"
          ]
         },
         "textfont": {
          "size": 10
         },
         "textinfo": "label+value",
         "type": "pie",
         "uid": "f690d703-5bb3-4dea-92d2-57ce9de0bcc6",
         "values": [
          1
         ]
        }
       ],
       "layout": {
        "annotations": [
         {
          "font": {
           "family": "Arial",
           "size": 10
          },
          "showarrow": false,
          "text": "per:title (419 matches)",
          "x": 0.10625,
          "xanchor": "center",
          "xref": "paper",
          "y": 1,
          "yanchor": "bottom",
          "yref": "paper"
         },
         {
          "font": {
           "family": "Arial",
           "size": 10
          },
          "showarrow": false,
          "text": "org:top_members/employees (304 matches)",
          "x": 0.36875,
          "xanchor": "center",
          "xref": "paper",
          "y": 1,
          "yanchor": "bottom",
          "yref": "paper"
         },
         {
          "font": {
           "family": "Arial",
           "size": 10
          },
          "showarrow": false,
          "text": "per:employee_of (202 matches)",
          "x": 0.6312500000000001,
          "xanchor": "center",
          "xref": "paper",
          "y": 1,
          "yanchor": "bottom",
          "yref": "paper"
         },
         {
          "font": {
           "family": "Arial",
           "size": 10
          },
          "showarrow": false,
          "text": "org:alternate_names (183 matches)",
          "x": 0.89375,
          "xanchor": "center",
          "xref": "paper",
          "y": 1,
          "yanchor": "bottom",
          "yref": "paper"
         },
         {
          "font": {
           "family": "Arial",
           "size": 10
          },
          "showarrow": false,
          "text": "per:age (171 matches)",
          "x": 0.10625,
          "xanchor": "center",
          "xref": "paper",
          "y": 0.8950000000000001,
          "yanchor": "bottom",
          "yref": "paper"
         },
         {
          "font": {
           "family": "Arial",
           "size": 10
          },
          "showarrow": false,
          "text": "per:cities_of_residence (130 matches)",
          "x": 0.36875,
          "xanchor": "center",
          "xref": "paper",
          "y": 0.8950000000000001,
          "yanchor": "bottom",
          "yref": "paper"
         },
         {
          "font": {
           "family": "Arial",
           "size": 10
          },
          "showarrow": false,
          "text": "per:countries_of_residence (96 matches)",
          "x": 0.6312500000000001,
          "xanchor": "center",
          "xref": "paper",
          "y": 0.8950000000000001,
          "yanchor": "bottom",
          "yref": "paper"
         },
         {
          "font": {
           "family": "Arial",
           "size": 10
          },
          "showarrow": false,
          "text": "per:origin (96 matches)",
          "x": 0.89375,
          "xanchor": "center",
          "xref": "paper",
          "y": 0.8950000000000001,
          "yanchor": "bottom",
          "yref": "paper"
         },
         {
          "font": {
           "family": "Arial",
           "size": 10
          },
          "showarrow": false,
          "text": "org:city_of_headquarters (65 matches)",
          "x": 0.10625,
          "xanchor": "center",
          "xref": "paper",
          "y": 0.7900000000000001,
          "yanchor": "bottom",
          "yref": "paper"
         },
         {
          "font": {
           "family": "Arial",
           "size": 10
          },
          "showarrow": false,
          "text": "org:country_of_headquarters (58 matches)",
          "x": 0.36875,
          "xanchor": "center",
          "xref": "paper",
          "y": 0.7900000000000001,
          "yanchor": "bottom",
          "yref": "paper"
         },
         {
          "font": {
           "family": "Arial",
           "size": 10
          },
          "showarrow": false,
          "text": "per:stateorprovinces_of_residence (57 matches)",
          "x": 0.6312500000000001,
          "xanchor": "center",
          "xref": "paper",
          "y": 0.7900000000000001,
          "yanchor": "bottom",
          "yref": "paper"
         },
         {
          "font": {
           "family": "Arial",
           "size": 10
          },
          "showarrow": false,
          "text": "org:founded_by (42 matches)",
          "x": 0.89375,
          "xanchor": "center",
          "xref": "paper",
          "y": 0.7900000000000001,
          "yanchor": "bottom",
          "yref": "paper"
         },
         {
          "font": {
           "family": "Arial",
           "size": 10
          },
          "showarrow": false,
          "text": "per:parents (39 matches)",
          "x": 0.10625,
          "xanchor": "center",
          "xref": "paper",
          "y": 0.6850000000000002,
          "yanchor": "bottom",
          "yref": "paper"
         },
         {
          "font": {
           "family": "Arial",
           "size": 10
          },
          "showarrow": false,
          "text": "org:parents (38 matches)",
          "x": 0.36875,
          "xanchor": "center",
          "xref": "paper",
          "y": 0.6850000000000002,
          "yanchor": "bottom",
          "yref": "paper"
         },
         {
          "font": {
           "family": "Arial",
           "size": 10
          },
          "showarrow": false,
          "text": "per:spouse (37 matches)",
          "x": 0.6312500000000001,
          "xanchor": "center",
          "xref": "paper",
          "y": 0.6850000000000002,
          "yanchor": "bottom",
          "yref": "paper"
         },
         {
          "font": {
           "family": "Arial",
           "size": 10
          },
          "showarrow": false,
          "text": "per:charges (34 matches)",
          "x": 0.89375,
          "xanchor": "center",
          "xref": "paper",
          "y": 0.6850000000000002,
          "yanchor": "bottom",
          "yref": "paper"
         },
         {
          "font": {
           "family": "Arial",
           "size": 10
          },
          "showarrow": false,
          "text": "per:other_family (34 matches)",
          "x": 0.10625,
          "xanchor": "center",
          "xref": "paper",
          "y": 0.5800000000000001,
          "yanchor": "bottom",
          "yref": "paper"
         },
         {
          "font": {
           "family": "Arial",
           "size": 10
          },
          "showarrow": false,
          "text": "per:date_of_death (32 matches)",
          "x": 0.36875,
          "xanchor": "center",
          "xref": "paper",
          "y": 0.5800000000000001,
          "yanchor": "bottom",
          "yref": "paper"
         },
         {
          "font": {
           "family": "Arial",
           "size": 10
          },
          "showarrow": false,
          "text": "org:stateorprovince_of_headquarters (32 matches)",
          "x": 0.6312500000000001,
          "xanchor": "center",
          "xref": "paper",
          "y": 0.5800000000000001,
          "yanchor": "bottom",
          "yref": "paper"
         },
         {
          "font": {
           "family": "Arial",
           "size": 10
          },
          "showarrow": false,
          "text": "per:siblings (32 matches)",
          "x": 0.89375,
          "xanchor": "center",
          "xref": "paper",
          "y": 0.5800000000000001,
          "yanchor": "bottom",
          "yref": "paper"
         },
         {
          "font": {
           "family": "Arial",
           "size": 10
          },
          "showarrow": false,
          "text": "org:founded (29 matches)",
          "x": 0.10625,
          "xanchor": "center",
          "xref": "paper",
          "y": 0.47500000000000003,
          "yanchor": "bottom",
          "yref": "paper"
         },
         {
          "font": {
           "family": "Arial",
           "size": 10
          },
          "showarrow": false,
          "text": "org:subsidiaries (26 matches)",
          "x": 0.36875,
          "xanchor": "center",
          "xref": "paper",
          "y": 0.47500000000000003,
          "yanchor": "bottom",
          "yref": "paper"
         },
         {
          "font": {
           "family": "Arial",
           "size": 10
          },
          "showarrow": false,
          "text": "per:religion (19 matches)",
          "x": 0.6312500000000001,
          "xanchor": "center",
          "xref": "paper",
          "y": 0.47500000000000003,
          "yanchor": "bottom",
          "yref": "paper"
         },
         {
          "font": {
           "family": "Arial",
           "size": 10
          },
          "showarrow": false,
          "text": "org:number_of_employees/members (14 matches)",
          "x": 0.89375,
          "xanchor": "center",
          "xref": "paper",
          "y": 0.47500000000000003,
          "yanchor": "bottom",
          "yref": "paper"
         },
         {
          "font": {
           "family": "Arial",
           "size": 10
          },
          "showarrow": false,
          "text": "per:schools_attended (14 matches)",
          "x": 0.10625,
          "xanchor": "center",
          "xref": "paper",
          "y": 0.37000000000000005,
          "yanchor": "bottom",
          "yref": "paper"
         },
         {
          "font": {
           "family": "Arial",
           "size": 10
          },
          "showarrow": false,
          "text": "per:children (12 matches)",
          "x": 0.36875,
          "xanchor": "center",
          "xref": "paper",
          "y": 0.37000000000000005,
          "yanchor": "bottom",
          "yref": "paper"
         },
         {
          "font": {
           "family": "Arial",
           "size": 10
          },
          "showarrow": false,
          "text": "per:city_of_death (10 matches)",
          "x": 0.6312500000000001,
          "xanchor": "center",
          "xref": "paper",
          "y": 0.37000000000000005,
          "yanchor": "bottom",
          "yref": "paper"
         },
         {
          "font": {
           "family": "Arial",
           "size": 10
          },
          "showarrow": false,
          "text": "org:website (10 matches)",
          "x": 0.89375,
          "xanchor": "center",
          "xref": "paper",
          "y": 0.37000000000000005,
          "yanchor": "bottom",
          "yref": "paper"
         },
         {
          "font": {
           "family": "Arial",
           "size": 10
          },
          "showarrow": false,
          "text": "per:cause_of_death (9 matches)",
          "x": 0.10625,
          "xanchor": "center",
          "xref": "paper",
          "y": 0.265,
          "yanchor": "bottom",
          "yref": "paper"
         },
         {
          "font": {
           "family": "Arial",
           "size": 10
          },
          "showarrow": false,
          "text": "org:members (9 matches)",
          "x": 0.36875,
          "xanchor": "center",
          "xref": "paper",
          "y": 0.265,
          "yanchor": "bottom",
          "yref": "paper"
         },
         {
          "font": {
           "family": "Arial",
           "size": 10
          },
          "showarrow": false,
          "text": "per:date_of_birth (7 matches)",
          "x": 0.6312500000000001,
          "xanchor": "center",
          "xref": "paper",
          "y": 0.265,
          "yanchor": "bottom",
          "yref": "paper"
         },
         {
          "font": {
           "family": "Arial",
           "size": 10
          },
          "showarrow": false,
          "text": "org:member_of (7 matches)",
          "x": 0.89375,
          "xanchor": "center",
          "xref": "paper",
          "y": 0.265,
          "yanchor": "bottom",
          "yref": "paper"
         },
         {
          "font": {
           "family": "Arial",
           "size": 10
          },
          "showarrow": false,
          "text": "per:alternate_names (6 matches)",
          "x": 0.10625,
          "xanchor": "center",
          "xref": "paper",
          "y": 0.16000000000000003,
          "yanchor": "bottom",
          "yref": "paper"
         },
         {
          "font": {
           "family": "Arial",
           "size": 10
          },
          "showarrow": false,
          "text": "org:political/religious_affiliation (5 matches)",
          "x": 0.36875,
          "xanchor": "center",
          "xref": "paper",
          "y": 0.16000000000000003,
          "yanchor": "bottom",
          "yref": "paper"
         },
         {
          "font": {
           "family": "Arial",
           "size": 10
          },
          "showarrow": false,
          "text": "per:stateorprovince_of_birth (4 matches)",
          "x": 0.6312500000000001,
          "xanchor": "center",
          "xref": "paper",
          "y": 0.16000000000000003,
          "yanchor": "bottom",
          "yref": "paper"
         },
         {
          "font": {
           "family": "Arial",
           "size": 10
          },
          "showarrow": false,
          "text": "per:country_of_birth (2 matches)",
          "x": 0.89375,
          "xanchor": "center",
          "xref": "paper",
          "y": 0.16000000000000003,
          "yanchor": "bottom",
          "yref": "paper"
         },
         {
          "font": {
           "family": "Arial",
           "size": 10
          },
          "showarrow": false,
          "text": "org:shareholders (2 matches)",
          "x": 0.10625,
          "xanchor": "center",
          "xref": "paper",
          "y": 0.05500000000000001,
          "yanchor": "bottom",
          "yref": "paper"
         },
         {
          "font": {
           "family": "Arial",
           "size": 10
          },
          "showarrow": false,
          "text": "per:city_of_birth (2 matches)",
          "x": 0.36875,
          "xanchor": "center",
          "xref": "paper",
          "y": 0.05500000000000001,
          "yanchor": "bottom",
          "yref": "paper"
         },
         {
          "font": {
           "family": "Arial",
           "size": 10
          },
          "showarrow": false,
          "text": "per:stateorprovince_of_death (1 matches)",
          "x": 0.6312500000000001,
          "xanchor": "center",
          "xref": "paper",
          "y": 0.05500000000000001,
          "yanchor": "bottom",
          "yref": "paper"
         }
        ],
        "font": {
         "family": "Arial",
         "size": 12
        },
        "height": 3500,
        "title": {
         "text": "UCCA path coverage"
        },
        "width": 950
       }
      },
      "text/html": [
       "<div>\n",
       "        \n",
       "        \n",
       "            <div id=\"6e28f654-ef82-4b20-9309-61f77c63748b\" class=\"plotly-graph-div\" style=\"height:3500px; width:950px;\"></div>\n",
       "            <script type=\"text/javascript\">\n",
       "                require([\"plotly\"], function(Plotly) {\n",
       "                    window.PLOTLYENV=window.PLOTLYENV || {};\n",
       "                    window.PLOTLYENV.BASE_URL='https://plot.ly';\n",
       "                    \n",
       "                if (document.getElementById(\"6e28f654-ef82-4b20-9309-61f77c63748b\")) {\n",
       "                    Plotly.newPlot(\n",
       "                        '6e28f654-ef82-4b20-9309-61f77c63748b',\n",
       "                        [{\"domain\": {\"x\": [0.0, 0.2125], \"y\": [0.9450000000000001, 1.0]}, \"hoverinfo\": \"label+percent\", \"labels\": [4, 5, 3, 6, 7, 8, 2], \"marker\": {\"colors\": [\"#FFED6F\", \"#CCEBC5\", \"#BC80BD\", \"#D9D9D9\", \"#FCCDE5\", \"#80B1D3\"]}, \"textfont\": {\"size\": 10}, \"textinfo\": \"label+value\", \"type\": \"pie\", \"uid\": \"add4280e-4253-44b8-8ed1-c30180178edd\", \"values\": [220, 87, 54, 33, 18, 5, 2]}, {\"domain\": {\"x\": [0.2625, 0.475], \"y\": [0.9450000000000001, 1.0]}, \"hoverinfo\": \"label+percent\", \"labels\": [5, 6, 4, 3, 7, 8, 9], \"marker\": {\"colors\": [\"#FFED6F\", \"#CCEBC5\", \"#BC80BD\", \"#D9D9D9\", \"#FCCDE5\", \"#80B1D3\"]}, \"textfont\": {\"size\": 10}, \"textinfo\": \"label+value\", \"type\": \"pie\", \"uid\": \"537dde46-0a3b-4641-9f99-c1a69a8db8e4\", \"values\": [181, 52, 48, 11, 6, 4, 2]}, {\"domain\": {\"x\": [0.525, 0.7375], \"y\": [0.9450000000000001, 1.0]}, \"hoverinfo\": \"label+percent\", \"labels\": [5, 4, 6, 7, 3, 8, 9], \"marker\": {\"colors\": [\"#FFED6F\", \"#CCEBC5\", \"#BC80BD\", \"#D9D9D9\", \"#FCCDE5\", \"#80B1D3\"]}, \"textfont\": {\"size\": 10}, \"textinfo\": \"label+value\", \"type\": \"pie\", \"uid\": \"bdee959b-0cf7-400b-b8fa-929a7a24db19\", \"values\": [75, 61, 39, 11, 10, 4, 2]}, {\"domain\": {\"x\": [0.7875, 1.0], \"y\": [0.9450000000000001, 1.0]}, \"hoverinfo\": \"label+percent\", \"labels\": [3, 4, 5, 6, 2, 7], \"marker\": {\"colors\": [\"#FFED6F\", \"#CCEBC5\", \"#BC80BD\", \"#D9D9D9\", \"#FCCDE5\", \"#80B1D3\"]}, \"textfont\": {\"size\": 10}, \"textinfo\": \"label+value\", \"type\": \"pie\", \"uid\": \"e8dc3056-ffbf-45e0-8cd3-06708d4e9941\", \"values\": [138, 38, 3, 2, 1, 1]}, {\"domain\": {\"x\": [0.0, 0.2125], \"y\": [0.8400000000000001, 0.8950000000000001]}, \"hoverinfo\": \"label+percent\", \"labels\": [3, 4, 5, 6, 2, 7], \"marker\": {\"colors\": [\"#FFED6F\", \"#CCEBC5\", \"#BC80BD\", \"#D9D9D9\", \"#FCCDE5\", \"#80B1D3\"]}, \"textfont\": {\"size\": 10}, \"textinfo\": \"label+value\", \"type\": \"pie\", \"uid\": \"b4bdd4f9-ed1d-4f3b-b6ed-87b95886a90f\", \"values\": [88, 45, 26, 9, 2, 1]}, {\"domain\": {\"x\": [0.2625, 0.475], \"y\": [0.8400000000000001, 0.8950000000000001]}, \"hoverinfo\": \"label+percent\", \"labels\": [4, 5, 6, 7, 3, 8, 9], \"marker\": {\"colors\": [\"#FFED6F\", \"#CCEBC5\", \"#BC80BD\", \"#D9D9D9\", \"#FCCDE5\", \"#80B1D3\"]}, \"textfont\": {\"size\": 10}, \"textinfo\": \"label+value\", \"type\": \"pie\", \"uid\": \"fb364c62-8bb7-4e4f-a423-fe023b7cfb8d\", \"values\": [55, 35, 25, 9, 4, 1, 1]}, {\"domain\": {\"x\": [0.525, 0.7375], \"y\": [0.8400000000000001, 0.8950000000000001]}, \"hoverinfo\": \"label+percent\", \"labels\": [4, 5, 6, 8, 7, 3], \"marker\": {\"colors\": [\"#FFED6F\", \"#CCEBC5\", \"#BC80BD\", \"#D9D9D9\", \"#FCCDE5\", \"#80B1D3\"]}, \"textfont\": {\"size\": 10}, \"textinfo\": \"label+value\", \"type\": \"pie\", \"uid\": \"b4943412-b425-4656-b7e2-bfb069a78d65\", \"values\": [34, 26, 15, 10, 6, 5]}, {\"domain\": {\"x\": [0.7875, 1.0], \"y\": [0.8400000000000001, 0.8950000000000001]}, \"hoverinfo\": \"label+percent\", \"labels\": [4, 5, 3, 6, 7], \"marker\": {\"colors\": [\"#FFED6F\", \"#CCEBC5\", \"#BC80BD\", \"#D9D9D9\", \"#FCCDE5\", \"#80B1D3\"]}, \"textfont\": {\"size\": 10}, \"textinfo\": \"label+value\", \"type\": \"pie\", \"uid\": \"2d8bf622-9fe1-4dec-a4e8-97ddf31d7ad5\", \"values\": [49, 25, 14, 6, 2]}, {\"domain\": {\"x\": [0.0, 0.2125], \"y\": [0.7350000000000001, 0.7900000000000001]}, \"hoverinfo\": \"label+percent\", \"labels\": [4, 5, 6, 2, 3, 7], \"marker\": {\"colors\": [\"#FFED6F\", \"#CCEBC5\", \"#BC80BD\", \"#D9D9D9\", \"#FCCDE5\", \"#80B1D3\"]}, \"textfont\": {\"size\": 10}, \"textinfo\": \"label+value\", \"type\": \"pie\", \"uid\": \"de3ed043-75ee-42d2-b212-d2efc328d084\", \"values\": [24, 24, 8, 5, 3, 1]}, {\"domain\": {\"x\": [0.2625, 0.475], \"y\": [0.7350000000000001, 0.7900000000000001]}, \"hoverinfo\": \"label+percent\", \"labels\": [4, 5, 6, 7, 8, 3, 11], \"marker\": {\"colors\": [\"#FFED6F\", \"#CCEBC5\", \"#BC80BD\", \"#D9D9D9\", \"#FCCDE5\", \"#80B1D3\"]}, \"textfont\": {\"size\": 10}, \"textinfo\": \"label+value\", \"type\": \"pie\", \"uid\": \"75d05e08-ce7b-44f4-9eb3-652b1f3fb2ad\", \"values\": [22, 13, 8, 6, 6, 2, 1]}, {\"domain\": {\"x\": [0.525, 0.7375], \"y\": [0.7350000000000001, 0.7900000000000001]}, \"hoverinfo\": \"label+percent\", \"labels\": [4, 5, 6, 7, 3, 8], \"marker\": {\"colors\": [\"#FFED6F\", \"#CCEBC5\", \"#BC80BD\", \"#D9D9D9\", \"#FCCDE5\", \"#80B1D3\"]}, \"textfont\": {\"size\": 10}, \"textinfo\": \"label+value\", \"type\": \"pie\", \"uid\": \"eacf538d-936d-48d9-b3dc-8ee8bfc14661\", \"values\": [22, 22, 9, 2, 1, 1]}, {\"domain\": {\"x\": [0.7875, 1.0], \"y\": [0.7350000000000001, 0.7900000000000001]}, \"hoverinfo\": \"label+percent\", \"labels\": [4, 5, 3, 6, 7], \"marker\": {\"colors\": [\"#FFED6F\", \"#CCEBC5\", \"#BC80BD\", \"#D9D9D9\", \"#FCCDE5\", \"#80B1D3\"]}, \"textfont\": {\"size\": 10}, \"textinfo\": \"label+value\", \"type\": \"pie\", \"uid\": \"88259afc-71d3-4151-b2ca-ec72f28872d9\", \"values\": [17, 17, 5, 2, 1]}, {\"domain\": {\"x\": [0.0, 0.2125], \"y\": [0.6300000000000001, 0.6850000000000002]}, \"hoverinfo\": \"label+percent\", \"labels\": [4, 5, 6, 3, 7], \"marker\": {\"colors\": [\"#FFED6F\", \"#CCEBC5\", \"#BC80BD\", \"#D9D9D9\", \"#FCCDE5\", \"#80B1D3\"]}, \"textfont\": {\"size\": 10}, \"textinfo\": \"label+value\", \"type\": \"pie\", \"uid\": \"9f4c2428-e45d-4965-b585-3058707bb17e\", \"values\": [17, 11, 9, 1, 1]}, {\"domain\": {\"x\": [0.2625, 0.475], \"y\": [0.6300000000000001, 0.6850000000000002]}, \"hoverinfo\": \"label+percent\", \"labels\": [4, 5, 6, 3, 2, 7], \"marker\": {\"colors\": [\"#FFED6F\", \"#CCEBC5\", \"#BC80BD\", \"#D9D9D9\", \"#FCCDE5\", \"#80B1D3\"]}, \"textfont\": {\"size\": 10}, \"textinfo\": \"label+value\", \"type\": \"pie\", \"uid\": \"9fad90d8-f0ae-4247-93f6-43593edf2ce7\", \"values\": [14, 9, 8, 3, 2, 2]}, {\"domain\": {\"x\": [0.525, 0.7375], \"y\": [0.6300000000000001, 0.6850000000000002]}, \"hoverinfo\": \"label+percent\", \"labels\": [4, 5, 6, 3, 7, 8], \"marker\": {\"colors\": [\"#FFED6F\", \"#CCEBC5\", \"#BC80BD\", \"#D9D9D9\", \"#FCCDE5\", \"#80B1D3\"]}, \"textfont\": {\"size\": 10}, \"textinfo\": \"label+value\", \"type\": \"pie\", \"uid\": \"1b061553-9ae9-47fa-a2d6-c778d5a7218e\", \"values\": [19, 9, 5, 2, 1, 1]}, {\"domain\": {\"x\": [0.7875, 1.0], \"y\": [0.6300000000000001, 0.6850000000000002]}, \"hoverinfo\": \"label+percent\", \"labels\": [4, 3, 5, 6, 7, 8, 9], \"marker\": {\"colors\": [\"#FFED6F\", \"#CCEBC5\", \"#BC80BD\", \"#D9D9D9\", \"#FCCDE5\", \"#80B1D3\"]}, \"textfont\": {\"size\": 10}, \"textinfo\": \"label+value\", \"type\": \"pie\", \"uid\": \"bbf95910-dea1-4023-946c-ada993305c77\", \"values\": [15, 6, 6, 4, 1, 1, 1]}, {\"domain\": {\"x\": [0.0, 0.2125], \"y\": [0.525, 0.5800000000000001]}, \"hoverinfo\": \"label+percent\", \"labels\": [4, 5, 6, 7], \"marker\": {\"colors\": [\"#FFED6F\", \"#CCEBC5\", \"#BC80BD\", \"#D9D9D9\", \"#FCCDE5\", \"#80B1D3\"]}, \"textfont\": {\"size\": 10}, \"textinfo\": \"label+value\", \"type\": \"pie\", \"uid\": \"d875f934-0b6b-4c64-b81e-c0e8a06c4c65\", \"values\": [17, 14, 2, 1]}, {\"domain\": {\"x\": [0.2625, 0.475], \"y\": [0.525, 0.5800000000000001]}, \"hoverinfo\": \"label+percent\", \"labels\": [4, 5, 6, 3, 7], \"marker\": {\"colors\": [\"#FFED6F\", \"#CCEBC5\", \"#BC80BD\", \"#D9D9D9\", \"#FCCDE5\", \"#80B1D3\"]}, \"textfont\": {\"size\": 10}, \"textinfo\": \"label+value\", \"type\": \"pie\", \"uid\": \"01343ea3-098e-4e5a-a9ee-e3e9c5750e52\", \"values\": [14, 11, 5, 1, 1]}, {\"domain\": {\"x\": [0.525, 0.7375], \"y\": [0.525, 0.5800000000000001]}, \"hoverinfo\": \"label+percent\", \"labels\": [4, 5, 2, 6], \"marker\": {\"colors\": [\"#FFED6F\", \"#CCEBC5\", \"#BC80BD\", \"#D9D9D9\", \"#FCCDE5\", \"#80B1D3\"]}, \"textfont\": {\"size\": 10}, \"textinfo\": \"label+value\", \"type\": \"pie\", \"uid\": \"b514e2de-55f5-419d-80a9-9ab9fb4dbc27\", \"values\": [14, 14, 3, 1]}, {\"domain\": {\"x\": [0.7875, 1.0], \"y\": [0.525, 0.5800000000000001]}, \"hoverinfo\": \"label+percent\", \"labels\": [4, 5, 6, 3, 7], \"marker\": {\"colors\": [\"#FFED6F\", \"#CCEBC5\", \"#BC80BD\", \"#D9D9D9\", \"#FCCDE5\", \"#80B1D3\"]}, \"textfont\": {\"size\": 10}, \"textinfo\": \"label+value\", \"type\": \"pie\", \"uid\": \"074b73a0-75ef-4ded-b6db-8cee890eec67\", \"values\": [9, 8, 7, 6, 2]}, {\"domain\": {\"x\": [0.0, 0.2125], \"y\": [0.42000000000000004, 0.47500000000000003]}, \"hoverinfo\": \"label+percent\", \"labels\": [4, 5, 3, 6, 7], \"marker\": {\"colors\": [\"#FFED6F\", \"#CCEBC5\", \"#BC80BD\", \"#D9D9D9\", \"#FCCDE5\", \"#80B1D3\"]}, \"textfont\": {\"size\": 10}, \"textinfo\": \"label+value\", \"type\": \"pie\", \"uid\": \"2bc261b1-2e09-4bd6-acac-bb946a05c577\", \"values\": [15, 11, 1, 1, 1]}, {\"domain\": {\"x\": [0.2625, 0.475], \"y\": [0.42000000000000004, 0.47500000000000003]}, \"hoverinfo\": \"label+percent\", \"labels\": [4, 5, 3, 7, 6], \"marker\": {\"colors\": [\"#FFED6F\", \"#CCEBC5\", \"#BC80BD\", \"#D9D9D9\", \"#FCCDE5\", \"#80B1D3\"]}, \"textfont\": {\"size\": 10}, \"textinfo\": \"label+value\", \"type\": \"pie\", \"uid\": \"d6aca6e6-b192-4068-b12c-b890efeeebba\", \"values\": [13, 8, 2, 2, 1]}, {\"domain\": {\"x\": [0.525, 0.7375], \"y\": [0.42000000000000004, 0.47500000000000003]}, \"hoverinfo\": \"label+percent\", \"labels\": [4, 5, 3, 6], \"marker\": {\"colors\": [\"#FFED6F\", \"#CCEBC5\", \"#BC80BD\", \"#D9D9D9\", \"#FCCDE5\", \"#80B1D3\"]}, \"textfont\": {\"size\": 10}, \"textinfo\": \"label+value\", \"type\": \"pie\", \"uid\": \"0d4aebc7-353a-4b22-8fc4-1914aa012335\", \"values\": [9, 5, 4, 1]}, {\"domain\": {\"x\": [0.7875, 1.0], \"y\": [0.42000000000000004, 0.47500000000000003]}, \"hoverinfo\": \"label+percent\", \"labels\": [5, 4, 7, 3, 6], \"marker\": {\"colors\": [\"#FFED6F\", \"#CCEBC5\", \"#BC80BD\", \"#D9D9D9\", \"#FCCDE5\", \"#80B1D3\"]}, \"textfont\": {\"size\": 10}, \"textinfo\": \"label+value\", \"type\": \"pie\", \"uid\": \"5a718237-4f2b-46e2-966c-822eea1ff75b\", \"values\": [6, 4, 2, 1, 1]}, {\"domain\": {\"x\": [0.0, 0.2125], \"y\": [0.31500000000000006, 0.37000000000000005]}, \"hoverinfo\": \"label+percent\", \"labels\": [4, 5], \"marker\": {\"colors\": [\"#FFED6F\", \"#CCEBC5\", \"#BC80BD\", \"#D9D9D9\", \"#FCCDE5\", \"#80B1D3\"]}, \"textfont\": {\"size\": 10}, \"textinfo\": \"label+value\", \"type\": \"pie\", \"uid\": \"61aa2481-207d-4e79-bb39-12f84550b01e\", \"values\": [10, 4]}, {\"domain\": {\"x\": [0.2625, 0.475], \"y\": [0.31500000000000006, 0.37000000000000005]}, \"hoverinfo\": \"label+percent\", \"labels\": [4, 5, 6, 3, 9], \"marker\": {\"colors\": [\"#FFED6F\", \"#CCEBC5\", \"#BC80BD\", \"#D9D9D9\", \"#FCCDE5\", \"#80B1D3\"]}, \"textfont\": {\"size\": 10}, \"textinfo\": \"label+value\", \"type\": \"pie\", \"uid\": \"51dd8ab2-e2f6-49b9-a22c-ec59ae80e8c9\", \"values\": [4, 4, 2, 1, 1]}, {\"domain\": {\"x\": [0.525, 0.7375], \"y\": [0.31500000000000006, 0.37000000000000005]}, \"hoverinfo\": \"label+percent\", \"labels\": [4, 5, 7, 8], \"marker\": {\"colors\": [\"#FFED6F\", \"#CCEBC5\", \"#BC80BD\", \"#D9D9D9\", \"#FCCDE5\", \"#80B1D3\"]}, \"textfont\": {\"size\": 10}, \"textinfo\": \"label+value\", \"type\": \"pie\", \"uid\": \"068701ba-d782-4bd2-bcb7-7519727625ec\", \"values\": [4, 3, 2, 1]}, {\"domain\": {\"x\": [0.7875, 1.0], \"y\": [0.31500000000000006, 0.37000000000000005]}, \"hoverinfo\": \"label+percent\", \"labels\": [3, 4], \"marker\": {\"colors\": [\"#FFED6F\", \"#CCEBC5\", \"#BC80BD\", \"#D9D9D9\", \"#FCCDE5\", \"#80B1D3\"]}, \"textfont\": {\"size\": 10}, \"textinfo\": \"label+value\", \"type\": \"pie\", \"uid\": \"82c84ad6-bafe-4422-9a9f-0dfb5bbb603b\", \"values\": [7, 3]}, {\"domain\": {\"x\": [0.0, 0.2125], \"y\": [0.21000000000000002, 0.265]}, \"hoverinfo\": \"label+percent\", \"labels\": [5, 3, 4], \"marker\": {\"colors\": [\"#FFED6F\", \"#CCEBC5\", \"#BC80BD\", \"#D9D9D9\", \"#FCCDE5\", \"#80B1D3\"]}, \"textfont\": {\"size\": 10}, \"textinfo\": \"label+value\", \"type\": \"pie\", \"uid\": \"8815ad63-b6ae-4e9f-9cb8-a6c20d0e4107\", \"values\": [5, 2, 2]}, {\"domain\": {\"x\": [0.2625, 0.475], \"y\": [0.21000000000000002, 0.265]}, \"hoverinfo\": \"label+percent\", \"labels\": [4, 7, 5], \"marker\": {\"colors\": [\"#FFED6F\", \"#CCEBC5\", \"#BC80BD\", \"#D9D9D9\", \"#FCCDE5\", \"#80B1D3\"]}, \"textfont\": {\"size\": 10}, \"textinfo\": \"label+value\", \"type\": \"pie\", \"uid\": \"af15e831-8f40-40ad-ab56-d9543f0bcdcc\", \"values\": [4, 4, 1]}, {\"domain\": {\"x\": [0.525, 0.7375], \"y\": [0.21000000000000002, 0.265]}, \"hoverinfo\": \"label+percent\", \"labels\": [4, 3], \"marker\": {\"colors\": [\"#FFED6F\", \"#CCEBC5\", \"#BC80BD\", \"#D9D9D9\", \"#FCCDE5\", \"#80B1D3\"]}, \"textfont\": {\"size\": 10}, \"textinfo\": \"label+value\", \"type\": \"pie\", \"uid\": \"ed34bdb2-49fd-4c06-a8e3-f9c59f0804b0\", \"values\": [5, 2]}, {\"domain\": {\"x\": [0.7875, 1.0], \"y\": [0.21000000000000002, 0.265]}, \"hoverinfo\": \"label+percent\", \"labels\": [3, 5, 4, 6, 7], \"marker\": {\"colors\": [\"#FFED6F\", \"#CCEBC5\", \"#BC80BD\", \"#D9D9D9\", \"#FCCDE5\", \"#80B1D3\"]}, \"textfont\": {\"size\": 10}, \"textinfo\": \"label+value\", \"type\": \"pie\", \"uid\": \"cfa5d3a3-b083-4bf1-b7da-f6f167619cef\", \"values\": [2, 2, 1, 1, 1]}, {\"domain\": {\"x\": [0.0, 0.2125], \"y\": [0.10500000000000001, 0.16000000000000003]}, \"hoverinfo\": \"label+percent\", \"labels\": [3, 7, 4, 5], \"marker\": {\"colors\": [\"#FFED6F\", \"#CCEBC5\", \"#BC80BD\", \"#D9D9D9\", \"#FCCDE5\", \"#80B1D3\"]}, \"textfont\": {\"size\": 10}, \"textinfo\": \"label+value\", \"type\": \"pie\", \"uid\": \"87e756a3-f9b6-4ae8-a763-3456a1fa470e\", \"values\": [2, 2, 1, 1]}, {\"domain\": {\"x\": [0.2625, 0.475], \"y\": [0.10500000000000001, 0.16000000000000003]}, \"hoverinfo\": \"label+percent\", \"labels\": [5, 3, 4], \"marker\": {\"colors\": [\"#FFED6F\", \"#CCEBC5\", \"#BC80BD\", \"#D9D9D9\", \"#FCCDE5\", \"#80B1D3\"]}, \"textfont\": {\"size\": 10}, \"textinfo\": \"label+value\", \"type\": \"pie\", \"uid\": \"d4ea284e-2356-4141-b12a-3e4c11986c87\", \"values\": [3, 1, 1]}, {\"domain\": {\"x\": [0.525, 0.7375], \"y\": [0.10500000000000001, 0.16000000000000003]}, \"hoverinfo\": \"label+percent\", \"labels\": [4], \"marker\": {\"colors\": [\"#FFED6F\", \"#CCEBC5\", \"#BC80BD\", \"#D9D9D9\", \"#FCCDE5\", \"#80B1D3\"]}, \"textfont\": {\"size\": 10}, \"textinfo\": \"label+value\", \"type\": \"pie\", \"uid\": \"c5221006-30d4-49e7-90af-6be08461db15\", \"values\": [4]}, {\"domain\": {\"x\": [0.7875, 1.0], \"y\": [0.10500000000000001, 0.16000000000000003]}, \"hoverinfo\": \"label+percent\", \"labels\": [4, 5], \"marker\": {\"colors\": [\"#FFED6F\", \"#CCEBC5\", \"#BC80BD\", \"#D9D9D9\", \"#FCCDE5\", \"#80B1D3\"]}, \"textfont\": {\"size\": 10}, \"textinfo\": \"label+value\", \"type\": \"pie\", \"uid\": \"23856c4a-e025-483b-a39b-ae1182c1a618\", \"values\": [1, 1]}, {\"domain\": {\"x\": [0.0, 0.2125], \"y\": [0.0, 0.05500000000000001]}, \"hoverinfo\": \"label+percent\", \"labels\": [3, 5], \"marker\": {\"colors\": [\"#FFED6F\", \"#CCEBC5\", \"#BC80BD\", \"#D9D9D9\", \"#FCCDE5\", \"#80B1D3\"]}, \"textfont\": {\"size\": 10}, \"textinfo\": \"label+value\", \"type\": \"pie\", \"uid\": \"6954dcdc-61b5-4c34-9d08-e5d1f9ebae2e\", \"values\": [1, 1]}, {\"domain\": {\"x\": [0.2625, 0.475], \"y\": [0.0, 0.05500000000000001]}, \"hoverinfo\": \"label+percent\", \"labels\": [4], \"marker\": {\"colors\": [\"#FFED6F\", \"#CCEBC5\", \"#BC80BD\", \"#D9D9D9\", \"#FCCDE5\", \"#80B1D3\"]}, \"textfont\": {\"size\": 10}, \"textinfo\": \"label+value\", \"type\": \"pie\", \"uid\": \"8d87d99e-8063-4ab6-a75f-787af7411441\", \"values\": [2]}, {\"domain\": {\"x\": [0.525, 0.7375], \"y\": [0.0, 0.05500000000000001]}, \"hoverinfo\": \"label+percent\", \"labels\": [4], \"marker\": {\"colors\": [\"#FFED6F\", \"#CCEBC5\", \"#BC80BD\", \"#D9D9D9\", \"#FCCDE5\", \"#80B1D3\"]}, \"textfont\": {\"size\": 10}, \"textinfo\": \"label+value\", \"type\": \"pie\", \"uid\": \"f690d703-5bb3-4dea-92d2-57ce9de0bcc6\", \"values\": [1]}],\n",
       "                        {\"annotations\": [{\"font\": {\"family\": \"Arial\", \"size\": 10}, \"showarrow\": false, \"text\": \"per:title (419 matches)\", \"x\": 0.10625, \"xanchor\": \"center\", \"xref\": \"paper\", \"y\": 1.0, \"yanchor\": \"bottom\", \"yref\": \"paper\"}, {\"font\": {\"family\": \"Arial\", \"size\": 10}, \"showarrow\": false, \"text\": \"org:top_members/employees (304 matches)\", \"x\": 0.36875, \"xanchor\": \"center\", \"xref\": \"paper\", \"y\": 1.0, \"yanchor\": \"bottom\", \"yref\": \"paper\"}, {\"font\": {\"family\": \"Arial\", \"size\": 10}, \"showarrow\": false, \"text\": \"per:employee_of (202 matches)\", \"x\": 0.6312500000000001, \"xanchor\": \"center\", \"xref\": \"paper\", \"y\": 1.0, \"yanchor\": \"bottom\", \"yref\": \"paper\"}, {\"font\": {\"family\": \"Arial\", \"size\": 10}, \"showarrow\": false, \"text\": \"org:alternate_names (183 matches)\", \"x\": 0.89375, \"xanchor\": \"center\", \"xref\": \"paper\", \"y\": 1.0, \"yanchor\": \"bottom\", \"yref\": \"paper\"}, {\"font\": {\"family\": \"Arial\", \"size\": 10}, \"showarrow\": false, \"text\": \"per:age (171 matches)\", \"x\": 0.10625, \"xanchor\": \"center\", \"xref\": \"paper\", \"y\": 0.8950000000000001, \"yanchor\": \"bottom\", \"yref\": \"paper\"}, {\"font\": {\"family\": \"Arial\", \"size\": 10}, \"showarrow\": false, \"text\": \"per:cities_of_residence (130 matches)\", \"x\": 0.36875, \"xanchor\": \"center\", \"xref\": \"paper\", \"y\": 0.8950000000000001, \"yanchor\": \"bottom\", \"yref\": \"paper\"}, {\"font\": {\"family\": \"Arial\", \"size\": 10}, \"showarrow\": false, \"text\": \"per:countries_of_residence (96 matches)\", \"x\": 0.6312500000000001, \"xanchor\": \"center\", \"xref\": \"paper\", \"y\": 0.8950000000000001, \"yanchor\": \"bottom\", \"yref\": \"paper\"}, {\"font\": {\"family\": \"Arial\", \"size\": 10}, \"showarrow\": false, \"text\": \"per:origin (96 matches)\", \"x\": 0.89375, \"xanchor\": \"center\", \"xref\": \"paper\", \"y\": 0.8950000000000001, \"yanchor\": \"bottom\", \"yref\": \"paper\"}, {\"font\": {\"family\": \"Arial\", \"size\": 10}, \"showarrow\": false, \"text\": \"org:city_of_headquarters (65 matches)\", \"x\": 0.10625, \"xanchor\": \"center\", \"xref\": \"paper\", \"y\": 0.7900000000000001, \"yanchor\": \"bottom\", \"yref\": \"paper\"}, {\"font\": {\"family\": \"Arial\", \"size\": 10}, \"showarrow\": false, \"text\": \"org:country_of_headquarters (58 matches)\", \"x\": 0.36875, \"xanchor\": \"center\", \"xref\": \"paper\", \"y\": 0.7900000000000001, \"yanchor\": \"bottom\", \"yref\": \"paper\"}, {\"font\": {\"family\": \"Arial\", \"size\": 10}, \"showarrow\": false, \"text\": \"per:stateorprovinces_of_residence (57 matches)\", \"x\": 0.6312500000000001, \"xanchor\": \"center\", \"xref\": \"paper\", \"y\": 0.7900000000000001, \"yanchor\": \"bottom\", \"yref\": \"paper\"}, {\"font\": {\"family\": \"Arial\", \"size\": 10}, \"showarrow\": false, \"text\": \"org:founded_by (42 matches)\", \"x\": 0.89375, \"xanchor\": \"center\", \"xref\": \"paper\", \"y\": 0.7900000000000001, \"yanchor\": \"bottom\", \"yref\": \"paper\"}, {\"font\": {\"family\": \"Arial\", \"size\": 10}, \"showarrow\": false, \"text\": \"per:parents (39 matches)\", \"x\": 0.10625, \"xanchor\": \"center\", \"xref\": \"paper\", \"y\": 0.6850000000000002, \"yanchor\": \"bottom\", \"yref\": \"paper\"}, {\"font\": {\"family\": \"Arial\", \"size\": 10}, \"showarrow\": false, \"text\": \"org:parents (38 matches)\", \"x\": 0.36875, \"xanchor\": \"center\", \"xref\": \"paper\", \"y\": 0.6850000000000002, \"yanchor\": \"bottom\", \"yref\": \"paper\"}, {\"font\": {\"family\": \"Arial\", \"size\": 10}, \"showarrow\": false, \"text\": \"per:spouse (37 matches)\", \"x\": 0.6312500000000001, \"xanchor\": \"center\", \"xref\": \"paper\", \"y\": 0.6850000000000002, \"yanchor\": \"bottom\", \"yref\": \"paper\"}, {\"font\": {\"family\": \"Arial\", \"size\": 10}, \"showarrow\": false, \"text\": \"per:charges (34 matches)\", \"x\": 0.89375, \"xanchor\": \"center\", \"xref\": \"paper\", \"y\": 0.6850000000000002, \"yanchor\": \"bottom\", \"yref\": \"paper\"}, {\"font\": {\"family\": \"Arial\", \"size\": 10}, \"showarrow\": false, \"text\": \"per:other_family (34 matches)\", \"x\": 0.10625, \"xanchor\": \"center\", \"xref\": \"paper\", \"y\": 0.5800000000000001, \"yanchor\": \"bottom\", \"yref\": \"paper\"}, {\"font\": {\"family\": \"Arial\", \"size\": 10}, \"showarrow\": false, \"text\": \"per:date_of_death (32 matches)\", \"x\": 0.36875, \"xanchor\": \"center\", \"xref\": \"paper\", \"y\": 0.5800000000000001, \"yanchor\": \"bottom\", \"yref\": \"paper\"}, {\"font\": {\"family\": \"Arial\", \"size\": 10}, \"showarrow\": false, \"text\": \"org:stateorprovince_of_headquarters (32 matches)\", \"x\": 0.6312500000000001, \"xanchor\": \"center\", \"xref\": \"paper\", \"y\": 0.5800000000000001, \"yanchor\": \"bottom\", \"yref\": \"paper\"}, {\"font\": {\"family\": \"Arial\", \"size\": 10}, \"showarrow\": false, \"text\": \"per:siblings (32 matches)\", \"x\": 0.89375, \"xanchor\": \"center\", \"xref\": \"paper\", \"y\": 0.5800000000000001, \"yanchor\": \"bottom\", \"yref\": \"paper\"}, {\"font\": {\"family\": \"Arial\", \"size\": 10}, \"showarrow\": false, \"text\": \"org:founded (29 matches)\", \"x\": 0.10625, \"xanchor\": \"center\", \"xref\": \"paper\", \"y\": 0.47500000000000003, \"yanchor\": \"bottom\", \"yref\": \"paper\"}, {\"font\": {\"family\": \"Arial\", \"size\": 10}, \"showarrow\": false, \"text\": \"org:subsidiaries (26 matches)\", \"x\": 0.36875, \"xanchor\": \"center\", \"xref\": \"paper\", \"y\": 0.47500000000000003, \"yanchor\": \"bottom\", \"yref\": \"paper\"}, {\"font\": {\"family\": \"Arial\", \"size\": 10}, \"showarrow\": false, \"text\": \"per:religion (19 matches)\", \"x\": 0.6312500000000001, \"xanchor\": \"center\", \"xref\": \"paper\", \"y\": 0.47500000000000003, \"yanchor\": \"bottom\", \"yref\": \"paper\"}, {\"font\": {\"family\": \"Arial\", \"size\": 10}, \"showarrow\": false, \"text\": \"org:number_of_employees/members (14 matches)\", \"x\": 0.89375, \"xanchor\": \"center\", \"xref\": \"paper\", \"y\": 0.47500000000000003, \"yanchor\": \"bottom\", \"yref\": \"paper\"}, {\"font\": {\"family\": \"Arial\", \"size\": 10}, \"showarrow\": false, \"text\": \"per:schools_attended (14 matches)\", \"x\": 0.10625, \"xanchor\": \"center\", \"xref\": \"paper\", \"y\": 0.37000000000000005, \"yanchor\": \"bottom\", \"yref\": \"paper\"}, {\"font\": {\"family\": \"Arial\", \"size\": 10}, \"showarrow\": false, \"text\": \"per:children (12 matches)\", \"x\": 0.36875, \"xanchor\": \"center\", \"xref\": \"paper\", \"y\": 0.37000000000000005, \"yanchor\": \"bottom\", \"yref\": \"paper\"}, {\"font\": {\"family\": \"Arial\", \"size\": 10}, \"showarrow\": false, \"text\": \"per:city_of_death (10 matches)\", \"x\": 0.6312500000000001, \"xanchor\": \"center\", \"xref\": \"paper\", \"y\": 0.37000000000000005, \"yanchor\": \"bottom\", \"yref\": \"paper\"}, {\"font\": {\"family\": \"Arial\", \"size\": 10}, \"showarrow\": false, \"text\": \"org:website (10 matches)\", \"x\": 0.89375, \"xanchor\": \"center\", \"xref\": \"paper\", \"y\": 0.37000000000000005, \"yanchor\": \"bottom\", \"yref\": \"paper\"}, {\"font\": {\"family\": \"Arial\", \"size\": 10}, \"showarrow\": false, \"text\": \"per:cause_of_death (9 matches)\", \"x\": 0.10625, \"xanchor\": \"center\", \"xref\": \"paper\", \"y\": 0.265, \"yanchor\": \"bottom\", \"yref\": \"paper\"}, {\"font\": {\"family\": \"Arial\", \"size\": 10}, \"showarrow\": false, \"text\": \"org:members (9 matches)\", \"x\": 0.36875, \"xanchor\": \"center\", \"xref\": \"paper\", \"y\": 0.265, \"yanchor\": \"bottom\", \"yref\": \"paper\"}, {\"font\": {\"family\": \"Arial\", \"size\": 10}, \"showarrow\": false, \"text\": \"per:date_of_birth (7 matches)\", \"x\": 0.6312500000000001, \"xanchor\": \"center\", \"xref\": \"paper\", \"y\": 0.265, \"yanchor\": \"bottom\", \"yref\": \"paper\"}, {\"font\": {\"family\": \"Arial\", \"size\": 10}, \"showarrow\": false, \"text\": \"org:member_of (7 matches)\", \"x\": 0.89375, \"xanchor\": \"center\", \"xref\": \"paper\", \"y\": 0.265, \"yanchor\": \"bottom\", \"yref\": \"paper\"}, {\"font\": {\"family\": \"Arial\", \"size\": 10}, \"showarrow\": false, \"text\": \"per:alternate_names (6 matches)\", \"x\": 0.10625, \"xanchor\": \"center\", \"xref\": \"paper\", \"y\": 0.16000000000000003, \"yanchor\": \"bottom\", \"yref\": \"paper\"}, {\"font\": {\"family\": \"Arial\", \"size\": 10}, \"showarrow\": false, \"text\": \"org:political/religious_affiliation (5 matches)\", \"x\": 0.36875, \"xanchor\": \"center\", \"xref\": \"paper\", \"y\": 0.16000000000000003, \"yanchor\": \"bottom\", \"yref\": \"paper\"}, {\"font\": {\"family\": \"Arial\", \"size\": 10}, \"showarrow\": false, \"text\": \"per:stateorprovince_of_birth (4 matches)\", \"x\": 0.6312500000000001, \"xanchor\": \"center\", \"xref\": \"paper\", \"y\": 0.16000000000000003, \"yanchor\": \"bottom\", \"yref\": \"paper\"}, {\"font\": {\"family\": \"Arial\", \"size\": 10}, \"showarrow\": false, \"text\": \"per:country_of_birth (2 matches)\", \"x\": 0.89375, \"xanchor\": \"center\", \"xref\": \"paper\", \"y\": 0.16000000000000003, \"yanchor\": \"bottom\", \"yref\": \"paper\"}, {\"font\": {\"family\": \"Arial\", \"size\": 10}, \"showarrow\": false, \"text\": \"org:shareholders (2 matches)\", \"x\": 0.10625, \"xanchor\": \"center\", \"xref\": \"paper\", \"y\": 0.05500000000000001, \"yanchor\": \"bottom\", \"yref\": \"paper\"}, {\"font\": {\"family\": \"Arial\", \"size\": 10}, \"showarrow\": false, \"text\": \"per:city_of_birth (2 matches)\", \"x\": 0.36875, \"xanchor\": \"center\", \"xref\": \"paper\", \"y\": 0.05500000000000001, \"yanchor\": \"bottom\", \"yref\": \"paper\"}, {\"font\": {\"family\": \"Arial\", \"size\": 10}, \"showarrow\": false, \"text\": \"per:stateorprovince_of_death (1 matches)\", \"x\": 0.6312500000000001, \"xanchor\": \"center\", \"xref\": \"paper\", \"y\": 0.05500000000000001, \"yanchor\": \"bottom\", \"yref\": \"paper\"}], \"font\": {\"family\": \"Arial\", \"size\": 12}, \"height\": 3500, \"title\": {\"text\": \"UCCA path coverage\"}, \"width\": 950},\n",
       "                        {\"plotlyServerURL\": \"https://plot.ly\", \"responsive\": true}\n",
       "                    ).then(function(){\n",
       "                            \n",
       "var gd = document.getElementById('6e28f654-ef82-4b20-9309-61f77c63748b');\n",
       "var x = new MutationObserver(function (mutations, observer) {{\n",
       "        var display = window.getComputedStyle(gd).display;\n",
       "        if (!display || display === 'none') {{\n",
       "            console.log([gd, 'removed!']);\n",
       "            Plotly.purge(gd);\n",
       "            observer.disconnect();\n",
       "        }}\n",
       "}});\n",
       "\n",
       "// Listen for the removal of the full notebook cells\n",
       "var notebookContainer = gd.closest('#notebook-container');\n",
       "if (notebookContainer) {{\n",
       "    x.observe(notebookContainer, {childList: true});\n",
       "}}\n",
       "\n",
       "// Listen for the clearing of the current output cell\n",
       "var outputEl = gd.closest('.output');\n",
       "if (outputEl) {{\n",
       "    x.observe(outputEl, {childList: true});\n",
       "}}\n",
       "\n",
       "                        })\n",
       "                };\n",
       "                });\n",
       "            </script>\n",
       "        </div>"
      ]
     },
     "metadata": {},
     "output_type": "display_data"
    }
   ],
   "source": [
    "layout = go.Layout(\n",
    "    title='UCCA path coverage',\n",
    "    width=950,\n",
    "    height=3500,\n",
    "    font=dict(family=\"Arial\", size=12)\n",
    ")\n",
    "\n",
    "fig = make_subplots(\n",
    "    rows=num_rows, \n",
    "    cols=num_columns,\n",
    "    subplot_titles=labels,\n",
    "    specs=[[{\"type\": \"pie\"}] * num_columns] * num_rows \n",
    ")\n",
    "\n",
    "not_interested_in_output = fig['layout'].update(layout)\n",
    "\n",
    "\n",
    "for ind, relation in enumerate(relations):\n",
    "    \n",
    "    row_num, column_num = divmod(ind,num_columns)\n",
    "    \n",
    "    column_num += 1\n",
    "    row_num +=1 \n",
    "    \n",
    "    pie =  go.Pie(\n",
    "            labels=test_total_by_relation_and_len[test_total_by_relation_and_len['relation']==relation]['ucca_path_len'].tolist(),\n",
    "            values=test_total_by_relation_and_len[test_total_by_relation_and_len['relation']==relation]['total'].tolist()\n",
    "        )\n",
    "    \n",
    "    fig.add_trace(\n",
    "        pie,\n",
    "        row=row_num, \n",
    "        col=column_num)\n",
    "\n",
    "colors = ['#FEBFB3', '#E1396C', '#96D38C', '#D0F9B1']\n",
    "colors = ['#BAA7AE', '#F2A939', '#BA688E', '#5D3D6A']\n",
    "colors = ['#3C464C', '#6AA2B5', '#F05A71', '#C0AC9F']\n",
    "colors = ['#FFED6F', '#CCEBC5', '#BC80BD',  '#D9D9D9',  '#FCCDE5',  '#80B1D3' ]#,  '#FDB462',  '#B3DE69',  '#FB8072'] #,  '#BEBADA',  '#FFFFB3', '#8DD3C7']\n",
    "\n",
    "fig.update_traces(\n",
    "    hoverinfo='label+percent', \n",
    "    textinfo='label+value', \n",
    "    textfont_size=10,\n",
    "    marker=dict(colors=colors)\n",
    ")\n",
    "    \n",
    "    \n",
    "for i in fig['layout']['annotations']:\n",
    "    i['font'] = dict(family=\"Arial\", size=10)\n",
    "\n",
    "    \n",
    "\n",
    "fig.show()\n",
    "    "
   ]
  },
  {
   "cell_type": "code",
   "execution_count": null,
   "metadata": {},
   "outputs": [],
   "source": []
  }
 ],
 "metadata": {
  "kernelspec": {
   "display_name": "Python 3",
   "language": "python",
   "name": "python3"
  },
  "language_info": {
   "codemirror_mode": {
    "name": "ipython",
    "version": 3
   },
   "file_extension": ".py",
   "mimetype": "text/x-python",
   "name": "python",
   "nbconvert_exporter": "python",
   "pygments_lexer": "ipython3",
   "version": "3.7.6"
  }
 },
 "nbformat": 4,
 "nbformat_minor": 2
}
