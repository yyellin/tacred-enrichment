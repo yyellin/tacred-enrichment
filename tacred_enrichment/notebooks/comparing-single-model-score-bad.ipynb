{
 "cells": [
  {
   "cell_type": "code",
   "execution_count": 1,
   "metadata": {},
   "outputs": [],
   "source": [
    "import numpy"
   ]
  },
  {
   "cell_type": "code",
   "execution_count": 3,
   "metadata": {},
   "outputs": [],
   "source": [
    "values1 = numpy.random.normal(66, 0.3, 50000)\n",
    "values2 = numpy.random.normal(66, 0.3, 50000)\n",
    "values = numpy.concatenate((values1, values2))\n"
   ]
  },
  {
   "cell_type": "code",
   "execution_count": 4,
   "metadata": {},
   "outputs": [],
   "source": [
    "indices = list(range(100000))"
   ]
  },
  {
   "cell_type": "code",
   "execution_count": 5,
   "metadata": {},
   "outputs": [],
   "source": [
    "mean_deltas = []\n",
    "\n",
    "for _ in range(10000):\n",
    "    sample_indices = numpy.random.choice(indices, 50, replace=True)\n",
    "    \n",
    "    sample1_sum = 0\n",
    "    sample1_count = 0\n",
    "    sample2_sum = 0\n",
    "    sample2_count = 0\n",
    "    \n",
    "    for index in sample_indices:\n",
    "        value = values[index]\n",
    "        if index < 50000:\n",
    "            sample1_sum += value\n",
    "            sample1_count += 1\n",
    "        else:\n",
    "            sample2_sum += value\n",
    "            sample2_count += 1\n",
    "    \n",
    "    if sample1_count > 0 and sample2_count > 0:\n",
    "    \n",
    "        mean1 = sample1_sum / sample1_count\n",
    "        mean2 = sample2_sum / sample2_count\n",
    "\n",
    "        mean_deltas.append(mean2-mean1)\n",
    "    \n",
    "    "
   ]
  },
  {
   "cell_type": "code",
   "execution_count": 14,
   "metadata": {},
   "outputs": [
    {
     "name": "stdout",
     "output_type": "stream",
     "text": [
      "0.18588\n"
     ]
    }
   ],
   "source": [
    "value_deltas = values2 - values1\n",
    "percentile95 = numpy.percentile(mean_deltas, 95)\n",
    "\n",
    "count = 0\n",
    "for delta in value_deltas:\n",
    "    if delta > percentile95:\n",
    "        count += 1\n",
    "print(count/100000)"
   ]
  },
  {
   "cell_type": "code",
   "execution_count": 3,
   "metadata": {},
   "outputs": [],
   "source": [
    "from scipy import stats"
   ]
  },
  {
   "cell_type": "code",
   "execution_count": 23,
   "metadata": {},
   "outputs": [],
   "source": [
    "strange = 0\n",
    "\n",
    "for i in range(2000):\n",
    "    start = i * 25\n",
    "    end = start + 25\n",
    "    stat_result = stats.ttest_ind(values1[start:end], values2[start:end], equal_var=False)\n",
    "\n",
    "    if stat_result.pvalue < 0.05:\n",
    "        strange += 1\n",
    "    "
   ]
  },
  {
   "cell_type": "code",
   "execution_count": 24,
   "metadata": {},
   "outputs": [
    {
     "data": {
      "text/plain": [
       "94"
      ]
     },
     "execution_count": 24,
     "metadata": {},
     "output_type": "execute_result"
    }
   ],
   "source": [
    "strange"
   ]
  },
  {
   "cell_type": "code",
   "execution_count": 49,
   "metadata": {},
   "outputs": [
    {
     "data": {
      "text/plain": [
       "0.028962262848652314"
      ]
     },
     "execution_count": 49,
     "metadata": {},
     "output_type": "execute_result"
    }
   ],
   "source": [
    "best =  [67.699, 67.819, 67.961, 66.934, 67.534, 67.574, 67.779, 66.916, 67.283, 66.945, 67.436, 67.315, 67.162, 67.580, 66.586, 66.855, 68.064, 67.053, 66.575]\n",
    "worst = [66.464, 66.503, 66.420, 66.078, 65.959, 66.749, 66.760, 65.866, 66.422, 66.286, 66.462, 65.798, 66.065, 66.585, 66.093, 65.168, 67.009, 65.916, 66.240, 66.585]\n",
    "\n",
    "best = [67.699, 67.819, 67.961, 66.934, 67.534, 67.574, 67.779, 66.916, 67.283, 66.945, 67.436, 67.315, 67.162, 67.580, 66.586, 66.855, 68.064, 67.053, 66.575, 67.102, 67.459, 67.000, 66.343, 65.960, 66.851, 65.642, 66.781, 67.107, 67.154, 67.486, 67.634, 66.616, 67.165, 67.766, 67.313, 66.902, 67.375, 67.193, 67.366, 67.603, 67.758, 65.855, 66.626]\n",
    "worst = [66.503, 66.420, 66.078, 65.959, 66.749, 66.760, 65.866, 66.422, 66.286, 66.462, 65.798, 66.065, 66.585, 66.093, 65.168, 67.009, 65.916, 66.240, 66.585, 65.966, 65.564, 66.211, 66.594, 66.014, 65.363, 65.727, 65.983, 66.584, 67.119, 66.227, 65.882, 65.446, 66.791, 65.484, 66.033, 65.141, 66.452, 65.984, 66.040, 66.636, 66.139, 65.943, 66.615, 66.092, 67.158]\n",
    "\n",
    "\n",
    "stats.ttest_ind([(val-0.75) for val in best], [val for val in worst], equal_var=False).pvalue/2"
   ]
  },
  {
   "cell_type": "code",
   "execution_count": 55,
   "metadata": {},
   "outputs": [
    {
     "data": {
      "text/plain": [
       "MannwhitneyuResult(statistic=1229.5, pvalue=0.014522177748163731)"
      ]
     },
     "execution_count": 55,
     "metadata": {},
     "output_type": "execute_result"
    }
   ],
   "source": [
    "stats.mannwhitneyu([val-0.75 for val in best], worst, alternative='greater')\n"
   ]
  },
  {
   "cell_type": "code",
   "execution_count": null,
   "metadata": {},
   "outputs": [],
   "source": []
  }
 ],
 "metadata": {
  "kernelspec": {
   "display_name": "Python 3",
   "language": "python",
   "name": "python3"
  },
  "language_info": {
   "codemirror_mode": {
    "name": "ipython",
    "version": 3
   },
   "file_extension": ".py",
   "mimetype": "text/x-python",
   "name": "python",
   "nbconvert_exporter": "python",
   "pygments_lexer": "ipython3",
   "version": "3.7.6"
  }
 },
 "nbformat": 4,
 "nbformat_minor": 4
}
