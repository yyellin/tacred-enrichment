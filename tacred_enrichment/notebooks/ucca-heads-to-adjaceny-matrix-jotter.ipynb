{
 "cells": [
  {
   "cell_type": "code",
   "execution_count": 178,
   "metadata": {},
   "outputs": [],
   "source": [
    "import itertools\n",
    "import networkx\n",
    "import numpy"
   ]
  },
  {
   "cell_type": "code",
   "execution_count": 144,
   "metadata": {},
   "outputs": [],
   "source": [
    "# sentence  61b3a65fb9d8e146364d\n",
    "ucca_edges_tuples = [(3, 0), (0, 1), (3, 2), (9, 3), (8, 4), (8, 5), (8, 6), (8, 7), (3, 8), (-1, 9), (9, 10), (15, 11), (15, 12), (12, 13), (15, 14), (9, 15), (17, 16), (15, 17), (9, 18), (23, 19), (19, 20), (9, 21), (23, 22), (9, 23), (25, 24), (23, 25), (23, 26), (26, 27), (31, 28), (31, 29), (31, 30), (26, 31), (33, 32), (31, 33), (35, 34), (33, 35), (39, 36), (39, 37), (39, 38), (35, 39), (9, 40), (42, 41), (9, 42), (42, 43), (48, 44), (48, 45), (48, 46), (46, 47), (55, 48), (52, 49), (55, 50), (55, 51), (55, 52), (9, 53), (58, 54), (58, 55), (55, 56), (55, 57), (55, 58), (55, 59), (55, 60), (55, 61)]\n",
    "subj = [57]\n",
    "obj = [21]\n",
    "# sentence 61b3a65fb9b1a778e296\n",
    "ucca_edges_tuples = [(2, 0), (2, 1), (3, 2), (-1, 3), (3, 4), (4, 5), (4, 6), (4, 7), (7, 8), (7, 9), (7, 10), (10, 11), (4, 12), (4, 13), (4, 14), (14, 15), (14, 16), (14, 17), (14, 18), (14, 19), (14, 20), (14, 21), (21, 22), (21, 23), (21, 24), (24, 25), (21, 26), (21, 27), (21, 28), (28, 29), (28, 30), (28, 31), (31, 32), (31, 33), (31, 34), (34, 35), (4, 36), (4, 37), (4, 38), (38, 39), (38, 40), (38, 41), (41, 42), (41, 43), (41, 44), (44, 45), (4, 46), (4, 47), (4, 48), (48, 49), (48, 50), (48, 51), (51, 52), (51, 53), (51, 54), (54, 55), (54, 56), (4, 57), (4, 58), (4, 59), (59, 60), (59, 61), (59, 62), (59, 63), (59, 64), (59, 65), (59, 66), (66, 67), (66, 68), (66, 69), (69, 70), (66, 71), (66, 72)]\n",
    "subj = [43,44]\n",
    "obj = [68,69]\n"
   ]
  },
  {
   "cell_type": "code",
   "execution_count": 168,
   "metadata": {},
   "outputs": [],
   "source": [
    "ucca_edges = {(a,b):True for a,b in ucca_edges_tuples }"
   ]
  },
  {
   "cell_type": "code",
   "execution_count": 170,
   "metadata": {},
   "outputs": [],
   "source": [
    "extendend_edges = ucca_edges.copy()\n",
    "\n",
    "for a,b in itertools.combinations(subj, 2):\n",
    "    extendend_edges[(a,b)] = True\n",
    "\n",
    "for a,b in itertools.combinations(obj, 2):\n",
    "    extendend_edges[(a,b)] = True\n"
   ]
  },
  {
   "cell_type": "code",
   "execution_count": 172,
   "metadata": {},
   "outputs": [],
   "source": [
    "graph = networkx.Graph(list(extendend_edges.keys()))"
   ]
  },
  {
   "cell_type": "code",
   "execution_count": 173,
   "metadata": {},
   "outputs": [],
   "source": [
    "try:\n",
    "    shortest_path = networkx.shortest_path(graph, source=subj[0], target=obj[0])\n",
    "except networkx.NetworkXNoPath as nopath_eror:\n",
    "    print('no path')  "
   ]
  },
  {
   "cell_type": "code",
   "execution_count": 174,
   "metadata": {},
   "outputs": [
    {
     "data": {
      "text/plain": [
       "[43, 41, 38, 4, 59, 66, 68]"
      ]
     },
     "execution_count": 174,
     "metadata": {},
     "output_type": "execute_result"
    }
   ],
   "source": [
    "shortest_path"
   ]
  },
  {
   "cell_type": "code",
   "execution_count": 175,
   "metadata": {},
   "outputs": [],
   "source": [
    "all_shortest_paths_in_graph = {start:targets for start, targets in networkx.shortest_path_length(graph)}"
   ]
  },
  {
   "cell_type": "code",
   "execution_count": 176,
   "metadata": {},
   "outputs": [],
   "source": [
    "distances = []\n",
    "for i in range(73):\n",
    "    distance = 0\n",
    "    if i not in shortest_path:\n",
    "        distances_to_path = {target:distance_to_target for target, distance_to_target in all_shortest_paths_in_graph[i].items() if target in shortest_path }\n",
    "        distance = min(distances_to_path.values(), default=1e12)\n",
    "    \n",
    "    distances.append(distance)        \n"
   ]
  },
  {
   "cell_type": "code",
   "execution_count": 189,
   "metadata": {},
   "outputs": [],
   "source": [
    "adj_matrix = numpy.zeros((73, 73), dtype=numpy.float32)\n",
    "dgraph = networkx.DiGraph(list(ucca_edges.keys()))\n",
    "for i in graph.nodes():\n",
    "    if distances[i] <= 1:\n",
    "        for j in dgraph.successors(i):\n",
    "            adj_matrix[i,j] = 1\n",
    "adj_matrix = adj_matrix + adj_matrix.T    "
   ]
  },
  {
   "cell_type": "code",
   "execution_count": 195,
   "metadata": {},
   "outputs": [
    {
     "data": {
      "text/plain": [
       "array([0., 0., 0., 1., 0., 1., 1., 1., 0., 0., 0., 0., 1., 1., 1., 0., 0.,\n",
       "       0., 0., 0., 0., 0., 0., 0., 0., 0., 0., 0., 0., 0., 0., 0., 0., 0.,\n",
       "       0., 0., 1., 1., 1., 0., 0., 0., 0., 0., 0., 0., 1., 1., 1., 0., 0.,\n",
       "       0., 0., 0., 0., 0., 0., 1., 1., 1., 0., 0., 0., 0., 0., 0., 0., 0.,\n",
       "       0., 0., 0., 0., 0.], dtype=float32)"
      ]
     },
     "execution_count": 195,
     "metadata": {},
     "output_type": "execute_result"
    }
   ],
   "source": [
    "adj_matrix[4]"
   ]
  },
  {
   "cell_type": "code",
   "execution_count": null,
   "metadata": {},
   "outputs": [],
   "source": []
  }
 ],
 "metadata": {
  "kernelspec": {
   "display_name": "Python 3",
   "language": "python",
   "name": "python3"
  },
  "language_info": {
   "codemirror_mode": {
    "name": "ipython",
    "version": 3
   },
   "file_extension": ".py",
   "mimetype": "text/x-python",
   "name": "python",
   "nbconvert_exporter": "python",
   "pygments_lexer": "ipython3",
   "version": "3.7.6"
  }
 },
 "nbformat": 4,
 "nbformat_minor": 4
}
