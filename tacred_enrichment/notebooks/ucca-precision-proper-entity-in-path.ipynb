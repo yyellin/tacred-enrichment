{
 "cells": [
  {
   "cell_type": "code",
   "execution_count": 1,
   "metadata": {},
   "outputs": [
    {
     "data": {
      "text/html": [
       "        <script type=\"text/javascript\">\n",
       "        window.PlotlyConfig = {MathJaxConfig: 'local'};\n",
       "        if (window.MathJax) {MathJax.Hub.Config({SVG: {font: \"STIX-Web\"}});}\n",
       "        if (typeof require !== 'undefined') {\n",
       "        require.undef(\"plotly\");\n",
       "        requirejs.config({\n",
       "            paths: {\n",
       "                'plotly': ['https://cdn.plot.ly/plotly-latest.min']\n",
       "            }\n",
       "        });\n",
       "        require(['plotly'], function(Plotly) {\n",
       "            window._Plotly = Plotly;\n",
       "        });\n",
       "        }\n",
       "        </script>\n",
       "        "
      ]
     },
     "metadata": {},
     "output_type": "display_data"
    }
   ],
   "source": [
    "from plotly.offline import download_plotlyjs, init_notebook_mode, plot, iplot\n",
    "init_notebook_mode(connected=True)"
   ]
  },
  {
   "cell_type": "code",
   "execution_count": 2,
   "metadata": {},
   "outputs": [],
   "source": [
    "import pandas\n",
    "\n",
    "# Note the 'set_index' call !! \n",
    "# This is necessary for filtering out sentences with incorrect NER annotations:\n",
    "train = pandas.read_csv(r'C:\\Users\\JYellin\\re_1\\tacred\\results\\general\\train-ucca_paths_v0.0.5.csv').set_index(['id'])\n",
    "test = pandas.read_csv(r'C:\\Users\\JYellin\\re_1\\tacred\\results\\general\\test-ucca_paths_v0.0.5.csv').set_index(['id'])"
   ]
  },
  {
   "cell_type": "code",
   "execution_count": 3,
   "metadata": {},
   "outputs": [],
   "source": [
    "train_ner = pandas.read_csv(r'C:\\Users\\JYellin\\re_1\\tacred\\results\\general\\train-ud_paths_with_ner_v0.0.6.csv').set_index(['id'])\n",
    "test_ner = pandas.read_csv(r'C:\\Users\\JYellin\\re_1\\tacred\\results\\general\\test-ud_paths_with_ner_v0.0.6.csv').set_index(['id'])\n",
    "\n",
    "train_ids_with_proper_ner = train_ner[(train_ner['type1']==train_ner['type1_corenlp']) & (train_ner['type2']==train_ner['type2_corenlp'])].drop(['docid', 'tokens', 'relation', 'path', 'lemmas_on_path', 'type1', 'type2', 'ent1_head', 'ent2_head', 'type1_corenlp', 'type2_corenlp'], axis=1)\n",
    "test_ids_with_proper_ner = test_ner[(test_ner['type1']==test_ner['type1_corenlp']) & (test_ner['type2']==test_ner['type2_corenlp'])].drop(['docid', 'tokens', 'relation', 'path', 'lemmas_on_path', 'type1', 'type2', 'ent1_head', 'ent2_head', 'type1_corenlp', 'type2_corenlp'], axis=1)"
   ]
  },
  {
   "cell_type": "code",
   "execution_count": 4,
   "metadata": {},
   "outputs": [
    {
     "name": "stdout",
     "output_type": "stream",
     "text": [
      "Train shape  (67617, 10)\n",
      "Test shape  (15417, 10)\n"
     ]
    }
   ],
   "source": [
    "print('Train shape ', train.shape)\n",
    "print('Test shape ', test.shape)"
   ]
  },
  {
   "cell_type": "code",
   "execution_count": 5,
   "metadata": {},
   "outputs": [],
   "source": [
    "train = train_ids_with_proper_ner.join(train).dropna(axis=0).reset_index()\n",
    "test = test_ids_with_proper_ner.join(test).dropna(axis=0).reset_index()"
   ]
  },
  {
   "cell_type": "code",
   "execution_count": 6,
   "metadata": {},
   "outputs": [
    {
     "name": "stdout",
     "output_type": "stream",
     "text": [
      "Train shape  (56124, 11)\n",
      "Test shape  (12763, 11)\n"
     ]
    }
   ],
   "source": [
    "print('Train shape ', train.shape)\n",
    "print('Test shape ', test.shape)"
   ]
  },
  {
   "cell_type": "code",
   "execution_count": 7,
   "metadata": {},
   "outputs": [],
   "source": [
    "def transform_row(r):\n",
    "    return '{entity1} {org_path} {entity2}'.format(entity1=r.type1[0:3], org_path=r.path, entity2=r.type2[0:3])\n",
    "\n",
    "train['path'] = train.apply(transform_row, axis=1)\n",
    "test['path'] = test.apply(transform_row, axis=1)"
   ]
  },
  {
   "cell_type": "code",
   "execution_count": 8,
   "metadata": {},
   "outputs": [],
   "source": [
    "relation_to_paths = train.groupby(['relation'])['path'].unique().to_dict()"
   ]
  },
  {
   "cell_type": "code",
   "execution_count": 9,
   "metadata": {},
   "outputs": [],
   "source": [
    "def label_sentence_recall(test_row, relation):\n",
    "    path = test_row['path']\n",
    "    true_relation = test_row['relation']\n",
    "    \n",
    "    if path in relation_to_paths[relation]:\n",
    "        if true_relation == relation:\n",
    "            return 'TP'\n",
    "        else:\n",
    "            return 'FP'\n",
    "    else:\n",
    "        return 'N'"
   ]
  },
  {
   "cell_type": "code",
   "execution_count": 10,
   "metadata": {},
   "outputs": [],
   "source": [
    "for relation in filter(lambda relation: relation != 'no_relation', relation_to_paths.keys()):\n",
    "    test[relation] = test.apply(lambda row : label_sentence_recall(row, relation), axis=1)    "
   ]
  },
  {
   "cell_type": "code",
   "execution_count": 11,
   "metadata": {},
   "outputs": [],
   "source": [
    "stats = []\n",
    "overall_tp = 0\n",
    "overall_fp = 0\n",
    "\n",
    "for relation in filter(lambda relation: relation != 'no_relation', relation_to_paths.keys()):\n",
    "\n",
    "    counts = test[relation].value_counts().to_dict()\n",
    "        \n",
    "    tp = counts.get('TP', 0)\n",
    "    fp = counts.get('FP', 0)\n",
    "    precision = tp / (tp+fp)\n",
    "\n",
    "    stats.append( (relation, round(precision,4)) )\n",
    "    \n",
    "    overall_tp += tp\n",
    "    overall_fp += fp\n",
    "    \n",
    "overall_precision = overall_tp / (overall_tp+overall_fp)\n",
    "\n",
    "    \n",
    "\n",
    "stats.append( ('overall', round(overall_precision,4)) )\n",
    "stats = sorted(stats, key=lambda x: x[1], reverse=True)"
   ]
  },
  {
   "cell_type": "code",
   "execution_count": 12,
   "metadata": {},
   "outputs": [
    {
     "data": {
      "application/vnd.plotly.v1+json": {
       "config": {
        "linkText": "Export to plot.ly",
        "plotlyServerURL": "https://plot.ly",
        "showLink": false
       },
       "data": [
        {
         "marker": {
          "color": [
           "rgb(58,200,225)",
           "rgb(58,200,225)",
           "rgb(58,200,225)",
           "rgb(58,200,225)",
           "rgb(58,200,225)",
           "rgb(58,200,225)",
           "rgb(58,200,225)",
           "rgb(58,200,225)",
           "rgb(58,200,225)",
           "rgb(58,200,225)",
           "rgb(58,200,225)",
           "rgb(58,200,225)",
           "rgb(58,200,225)",
           "rgb(58,200,225)",
           "rgb(58,200,225)",
           "rgb(58,200,225)",
           "rgb(58,200,225)",
           "rgb(58,200,225)",
           "rgb(181,59,89)",
           "rgb(58,200,225)",
           "rgb(58,200,225)",
           "rgb(58,200,225)",
           "rgb(58,200,225)",
           "rgb(58,200,225)",
           "rgb(58,200,225)",
           "rgb(58,200,225)",
           "rgb(58,200,225)",
           "rgb(58,200,225)",
           "rgb(58,200,225)",
           "rgb(58,200,225)",
           "rgb(58,200,225)",
           "rgb(58,200,225)",
           "rgb(58,200,225)",
           "rgb(58,200,225)",
           "rgb(58,200,225)",
           "rgb(58,200,225)",
           "rgb(58,200,225)",
           "rgb(58,200,225)",
           "rgb(58,200,225)",
           "rgb(58,200,225)",
           "rgb(58,200,225)",
           "rgb(58,200,225)"
          ],
          "line": {
           "color": "rgb(8,48,107)",
           "width": 0.5
          }
         },
         "name": "Precision",
         "opacity": 0.6,
         "type": "bar",
         "uid": "83e657fc-634f-4c9e-ba00-0eb0c05187a9",
         "width": 0.5,
         "x": [
          "org:website",
          "per:charges",
          "per:title",
          "org:city_of_headquarters",
          "org:stateorprovince_of_headquarters",
          "org:top_members/employees",
          "per:religion",
          "per:stateorprovinces_of_residence",
          "per:cities_of_residence",
          "org:country_of_headquarters",
          "per:employee_of",
          "per:age",
          "org:alternate_names",
          "per:cause_of_death",
          "per:origin",
          "per:countries_of_residence",
          "org:founded",
          "per:stateorprovince_of_birth",
          "overall",
          "org:number_of_employees/members",
          "org:parents",
          "org:founded_by",
          "per:date_of_death",
          "per:city_of_death",
          "org:subsidiaries",
          "per:schools_attended",
          "per:parents",
          "per:country_of_birth",
          "per:date_of_birth",
          "per:siblings",
          "per:city_of_birth",
          "per:spouse",
          "per:other_family",
          "org:member_of",
          "org:members",
          "per:children",
          "per:alternate_names",
          "org:shareholders",
          "org:dissolved",
          "org:political/religious_affiliation",
          "per:country_of_death",
          "per:stateorprovince_of_death"
         ],
         "y": [
          0.625,
          0.5938,
          0.5923,
          0.5,
          0.4848,
          0.4417,
          0.4333,
          0.427,
          0.4219,
          0.398,
          0.3725,
          0.3634,
          0.325,
          0.3125,
          0.266,
          0.2578,
          0.1353,
          0.1333,
          0.1195,
          0.1148,
          0.0959,
          0.095,
          0.0846,
          0.0684,
          0.0682,
          0.0664,
          0.0339,
          0.0282,
          0.0277,
          0.0249,
          0.0247,
          0.0181,
          0.0176,
          0.0142,
          0.013,
          0.0098,
          0.0052,
          0.0035,
          0,
          0,
          0,
          0
         ]
        }
       ],
       "layout": {
        "barmode": "overlay",
        "title": {
         "text": "UCCA Path with Vetted Entity Type - Precision"
        },
        "width": 1200,
        "xaxis": {
         "automargin": true,
         "tickangle": 45,
         "title": {
          "text": "Relation"
         }
        },
        "yaxis": {
         "title": {
          "text": "Precision "
         }
        }
       }
      },
      "text/html": [
       "<div>\n",
       "        \n",
       "        \n",
       "            <div id=\"7c7ac8ca-32f0-4e5e-a7f0-45bf9563b971\" class=\"plotly-graph-div\" style=\"height:525px; width:1200px;\"></div>\n",
       "            <script type=\"text/javascript\">\n",
       "                require([\"plotly\"], function(Plotly) {\n",
       "                    window.PLOTLYENV=window.PLOTLYENV || {};\n",
       "                    window.PLOTLYENV.BASE_URL='https://plot.ly';\n",
       "                    \n",
       "                if (document.getElementById(\"7c7ac8ca-32f0-4e5e-a7f0-45bf9563b971\")) {\n",
       "                    Plotly.newPlot(\n",
       "                        '7c7ac8ca-32f0-4e5e-a7f0-45bf9563b971',\n",
       "                        [{\"marker\": {\"color\": [\"rgb(58,200,225)\", \"rgb(58,200,225)\", \"rgb(58,200,225)\", \"rgb(58,200,225)\", \"rgb(58,200,225)\", \"rgb(58,200,225)\", \"rgb(58,200,225)\", \"rgb(58,200,225)\", \"rgb(58,200,225)\", \"rgb(58,200,225)\", \"rgb(58,200,225)\", \"rgb(58,200,225)\", \"rgb(58,200,225)\", \"rgb(58,200,225)\", \"rgb(58,200,225)\", \"rgb(58,200,225)\", \"rgb(58,200,225)\", \"rgb(58,200,225)\", \"rgb(181,59,89)\", \"rgb(58,200,225)\", \"rgb(58,200,225)\", \"rgb(58,200,225)\", \"rgb(58,200,225)\", \"rgb(58,200,225)\", \"rgb(58,200,225)\", \"rgb(58,200,225)\", \"rgb(58,200,225)\", \"rgb(58,200,225)\", \"rgb(58,200,225)\", \"rgb(58,200,225)\", \"rgb(58,200,225)\", \"rgb(58,200,225)\", \"rgb(58,200,225)\", \"rgb(58,200,225)\", \"rgb(58,200,225)\", \"rgb(58,200,225)\", \"rgb(58,200,225)\", \"rgb(58,200,225)\", \"rgb(58,200,225)\", \"rgb(58,200,225)\", \"rgb(58,200,225)\", \"rgb(58,200,225)\"], \"line\": {\"color\": \"rgb(8,48,107)\", \"width\": 0.5}}, \"name\": \"Precision\", \"opacity\": 0.6, \"type\": \"bar\", \"uid\": \"83e657fc-634f-4c9e-ba00-0eb0c05187a9\", \"width\": 0.5, \"x\": [\"org:website\", \"per:charges\", \"per:title\", \"org:city_of_headquarters\", \"org:stateorprovince_of_headquarters\", \"org:top_members/employees\", \"per:religion\", \"per:stateorprovinces_of_residence\", \"per:cities_of_residence\", \"org:country_of_headquarters\", \"per:employee_of\", \"per:age\", \"org:alternate_names\", \"per:cause_of_death\", \"per:origin\", \"per:countries_of_residence\", \"org:founded\", \"per:stateorprovince_of_birth\", \"overall\", \"org:number_of_employees/members\", \"org:parents\", \"org:founded_by\", \"per:date_of_death\", \"per:city_of_death\", \"org:subsidiaries\", \"per:schools_attended\", \"per:parents\", \"per:country_of_birth\", \"per:date_of_birth\", \"per:siblings\", \"per:city_of_birth\", \"per:spouse\", \"per:other_family\", \"org:member_of\", \"org:members\", \"per:children\", \"per:alternate_names\", \"org:shareholders\", \"org:dissolved\", \"org:political/religious_affiliation\", \"per:country_of_death\", \"per:stateorprovince_of_death\"], \"y\": [0.625, 0.5938, 0.5923, 0.5, 0.4848, 0.4417, 0.4333, 0.427, 0.4219, 0.398, 0.3725, 0.3634, 0.325, 0.3125, 0.266, 0.2578, 0.1353, 0.1333, 0.1195, 0.1148, 0.0959, 0.095, 0.0846, 0.0684, 0.0682, 0.0664, 0.0339, 0.0282, 0.0277, 0.0249, 0.0247, 0.0181, 0.0176, 0.0142, 0.013, 0.0098, 0.0052, 0.0035, 0.0, 0.0, 0.0, 0.0]}],\n",
       "                        {\"barmode\": \"overlay\", \"title\": {\"text\": \"UCCA Path with Vetted Entity Type - Precision\"}, \"width\": 1200, \"xaxis\": {\"automargin\": true, \"tickangle\": 45, \"title\": {\"text\": \"Relation\"}}, \"yaxis\": {\"title\": {\"text\": \"Precision \"}}},\n",
       "                        {\"showLink\": false, \"linkText\": \"Export to plot.ly\", \"plotlyServerURL\": \"https://plot.ly\", \"responsive\": true}\n",
       "                    ).then(function(){\n",
       "                            \n",
       "var gd = document.getElementById('7c7ac8ca-32f0-4e5e-a7f0-45bf9563b971');\n",
       "var x = new MutationObserver(function (mutations, observer) {{\n",
       "        var display = window.getComputedStyle(gd).display;\n",
       "        if (!display || display === 'none') {{\n",
       "            console.log([gd, 'removed!']);\n",
       "            Plotly.purge(gd);\n",
       "            observer.disconnect();\n",
       "        }}\n",
       "}});\n",
       "\n",
       "// Listen for the removal of the full notebook cells\n",
       "var notebookContainer = gd.closest('#notebook-container');\n",
       "if (notebookContainer) {{\n",
       "    x.observe(notebookContainer, {childList: true});\n",
       "}}\n",
       "\n",
       "// Listen for the clearing of the current output cell\n",
       "var outputEl = gd.closest('.output');\n",
       "if (outputEl) {{\n",
       "    x.observe(outputEl, {childList: true});\n",
       "}}\n",
       "\n",
       "                        })\n",
       "                };\n",
       "                });\n",
       "            </script>\n",
       "        </div>"
      ]
     },
     "metadata": {},
     "output_type": "display_data"
    }
   ],
   "source": [
    "import plotly.graph_objs as go\n",
    "\n",
    "overall_index = next(i for (i, (relation, score)) in enumerate(stats) if relation == 'overall')\n",
    "\n",
    "colors = ['rgb(58,200,225)'] * len(stats)\n",
    "colors[overall_index] = 'rgb(181,59,89)'\n",
    "\n",
    "\n",
    "trace1 = go.Bar(\n",
    "    x=[stat[0] for stat in stats],\n",
    "    y=[stat[1] for stat in stats],\n",
    "    name='Precision',\n",
    "    width=0.5,\n",
    "    marker=dict(\n",
    "        color=colors,\n",
    "        line=dict(\n",
    "            color='rgb(8,48,107)',\n",
    "            width=0.5),\n",
    "        ),\n",
    "    opacity=0.6\n",
    ")\n",
    "\n",
    "data = [trace1]\n",
    "layout = go.Layout(\n",
    "    title='UCCA Path with Vetted Entity Type - Precision',\n",
    "    xaxis_title=\"Relation\",\n",
    "    yaxis_title=\"Precision \",        \n",
    "    barmode='overlay',\n",
    "    width=1200,\n",
    "    xaxis = go.layout.XAxis(\n",
    "        tickangle = 45,\n",
    "        automargin = True\n",
    "        \n",
    "    )\n",
    "    \n",
    "        \n",
    ")\n",
    "\n",
    "fig = go.Figure(data=data, layout=layout)\n",
    "iplot(fig)"
   ]
  },
  {
   "cell_type": "code",
   "execution_count": 13,
   "metadata": {},
   "outputs": [
    {
     "data": {
      "text/plain": [
       "[('org:website', 0.625),\n",
       " ('per:charges', 0.5938),\n",
       " ('per:title', 0.5923),\n",
       " ('org:city_of_headquarters', 0.5),\n",
       " ('org:stateorprovince_of_headquarters', 0.4848),\n",
       " ('org:top_members/employees', 0.4417),\n",
       " ('per:religion', 0.4333),\n",
       " ('per:stateorprovinces_of_residence', 0.427),\n",
       " ('per:cities_of_residence', 0.4219),\n",
       " ('org:country_of_headquarters', 0.398),\n",
       " ('per:employee_of', 0.3725),\n",
       " ('per:age', 0.3634),\n",
       " ('org:alternate_names', 0.325),\n",
       " ('per:cause_of_death', 0.3125),\n",
       " ('per:origin', 0.266),\n",
       " ('per:countries_of_residence', 0.2578),\n",
       " ('org:founded', 0.1353),\n",
       " ('per:stateorprovince_of_birth', 0.1333),\n",
       " ('overall', 0.1195),\n",
       " ('org:number_of_employees/members', 0.1148),\n",
       " ('org:parents', 0.0959),\n",
       " ('org:founded_by', 0.095),\n",
       " ('per:date_of_death', 0.0846),\n",
       " ('per:city_of_death', 0.0684),\n",
       " ('org:subsidiaries', 0.0682),\n",
       " ('per:schools_attended', 0.0664),\n",
       " ('per:parents', 0.0339),\n",
       " ('per:country_of_birth', 0.0282),\n",
       " ('per:date_of_birth', 0.0277),\n",
       " ('per:siblings', 0.0249),\n",
       " ('per:city_of_birth', 0.0247),\n",
       " ('per:spouse', 0.0181),\n",
       " ('per:other_family', 0.0176),\n",
       " ('org:member_of', 0.0142),\n",
       " ('org:members', 0.013),\n",
       " ('per:children', 0.0098),\n",
       " ('per:alternate_names', 0.0052),\n",
       " ('org:shareholders', 0.0035),\n",
       " ('org:dissolved', 0.0),\n",
       " ('org:political/religious_affiliation', 0.0),\n",
       " ('per:country_of_death', 0.0),\n",
       " ('per:stateorprovince_of_death', 0.0)]"
      ]
     },
     "execution_count": 13,
     "metadata": {},
     "output_type": "execute_result"
    }
   ],
   "source": [
    "stats"
   ]
  },
  {
   "cell_type": "code",
   "execution_count": null,
   "metadata": {},
   "outputs": [],
   "source": []
  }
 ],
 "metadata": {
  "kernelspec": {
   "display_name": "Python 3",
   "language": "python",
   "name": "python3"
  },
  "language_info": {
   "codemirror_mode": {
    "name": "ipython",
    "version": 3
   },
   "file_extension": ".py",
   "mimetype": "text/x-python",
   "name": "python",
   "nbconvert_exporter": "python",
   "pygments_lexer": "ipython3",
   "version": "3.7.6"
  }
 },
 "nbformat": 4,
 "nbformat_minor": 2
}
