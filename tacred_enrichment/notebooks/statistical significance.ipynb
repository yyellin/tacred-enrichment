{
 "cells": [
  {
   "cell_type": "code",
   "execution_count": 1,
   "metadata": {},
   "outputs": [],
   "source": [
    "import pandas as pd\n",
    "import numpy as np\n",
    "import matplotlib.pyplot as plt\n",
    "full_data = pd.read_csv('coffee_dataset.csv')\n"
   ]
  },
  {
   "cell_type": "code",
   "execution_count": 2,
   "metadata": {},
   "outputs": [
    {
     "data": {
      "image/png": "[encoded data removed]",
      "text/plain": [
       "<Figure size 432x288 with 1 Axes>"
      ]
     },
     "metadata": {
      "needs_background": "light"
     },
     "output_type": "display_data"
    }
   ],
   "source": [
    "sample_data = full_data.sample(200)\n",
    "# 1. Lets bootstrap using a subset of the data and note down means for coffee and non-coffee drinkers, as well as the differences in both.\n",
    "means = []\n",
    "no_coffee_means = []\n",
    "coffee_means = []\n",
    "for _ in range (10000):\n",
    "    bootstrap = sample_data.sample(200, replace=True)\n",
    "    coffeemean = bootstrap[bootstrap.drinks_coffee == True].height.mean()\n",
    "    nocoffeemean = bootstrap[bootstrap.drinks_coffee == False] .height.mean()\n",
    "    no_coffee_means.append(nocoffeemean)\n",
    "    coffee_means.append(coffeemean)\n",
    "    means.append(coffeemean - nocoffeemean)\n",
    "#Lets plot this\n",
    "plt.hist(coffee_means, alpha=0.5);\n",
    "plt.hist(no_coffee_means, alpha=0.5);"
   ]
  },
  {
   "cell_type": "code",
   "execution_count": 3,
   "metadata": {},
   "outputs": [
    {
     "data": {
      "image/png": "[encoded data removed]",
      "text/plain": [
       "<Figure size 432x288 with 1 Axes>"
      ]
     },
     "metadata": {
      "needs_background": "light"
     },
     "output_type": "display_data"
    }
   ],
   "source": [
    "# 2. Lets' pick samples from the null.\n",
    "null_val = np.random.normal(0, np.std(means), 10000)\n",
    "plt.hist(null_val);"
   ]
  },
  {
   "cell_type": "code",
   "execution_count": 8,
   "metadata": {},
   "outputs": [
    {
     "data": {
      "text/plain": [
       "1.0"
      ]
     },
     "execution_count": 8,
     "metadata": {},
     "output_type": "execute_result"
    }
   ],
   "source": [
    "# 3. Lets compare! Since our alternate hypothesis was: H1: Average height for coffee drinkers != Average height for non-coffee drinkers\n",
    "#well test to see what proportion of the samples from #(2) are not equal to our sample mean.\n",
    "(null_val != means).mean()"
   ]
  },
  {
   "cell_type": "code",
   "execution_count": 12,
   "metadata": {},
   "outputs": [
    {
     "data": {
      "text/plain": [
       "array([-1.91631948, -2.85307726, -2.0683286 , ..., -1.17055669,\n",
       "       -2.21849829, -2.41592039])"
      ]
     },
     "execution_count": 12,
     "metadata": {},
     "output_type": "execute_result"
    }
   ],
   "source": [
    "(null_val - means)"
   ]
  },
  {
   "cell_type": "code",
   "execution_count": 18,
   "metadata": {},
   "outputs": [],
   "source": [
    "data = pd.read_csv('base-and-final.csv')"
   ]
  },
  {
   "cell_type": "code",
   "execution_count": 32,
   "metadata": {},
   "outputs": [
    {
     "data": {
      "text/plain": [
       "(array([  11.,   94.,  495., 1542., 2828., 2828., 1574.,  522.,   98.,\n",
       "           8.]),\n",
       " array([-0.961   , -0.769085, -0.57717 , -0.385255, -0.19334 , -0.001425,\n",
       "         0.19049 ,  0.382405,  0.57432 ,  0.766235,  0.95815 ]),\n",
       " <a list of 10 Patch objects>)"
      ]
     },
     "execution_count": 32,
     "metadata": {},
     "output_type": "execute_result"
    },
    {
     "data": {
      "image/png": "[encoded data removed]",
      "text/plain": [
       "<Figure size 432x288 with 1 Axes>"
      ]
     },
     "metadata": {
      "needs_background": "light"
     },
     "output_type": "display_data"
    }
   ],
   "source": [
    "mean_deltas = []\n",
    "\n",
    "base_means = []\n",
    "improved_means = []\n",
    "\n",
    "for _ in range (10000):\n",
    "    bootstrap = data.sample(40, replace=True)\n",
    "    \n",
    "    base_mean = bootstrap[0:20].F1.mean()\n",
    "    improved_mean = bootstrap[20:40].F1.mean()\n",
    "    \n",
    "    base_means.append(base_mean)\n",
    "    improved_means.append(improved_mean)\n",
    "    \n",
    "    mean_delta = improved_mean - base_mean\n",
    "\n",
    "    mean_deltas.append(mean_delta)\n",
    "\n",
    "#Lets plot this\n",
    "#plt.hist(improved_means, alpha=0.5);\n",
    "#plt.hist(base_means, alpha=0.5);\n",
    "plt.hist(mean_deltas, alpha=0.5)"
   ]
  },
  {
   "cell_type": "code",
   "execution_count": 33,
   "metadata": {},
   "outputs": [
    {
     "data": {
      "text/plain": [
       "10000"
      ]
     },
     "execution_count": 33,
     "metadata": {},
     "output_type": "execute_result"
    }
   ],
   "source": [
    "len(mean_deltas)"
   ]
  },
  {
   "cell_type": "code",
   "execution_count": 38,
   "metadata": {},
   "outputs": [
    {
     "data": {
      "text/plain": [
       "0.0002"
      ]
     },
     "execution_count": 38,
     "metadata": {},
     "output_type": "execute_result"
    }
   ],
   "source": [
    "len([delta for delta in mean_deltas if delta > 0.8])/10000"
   ]
  },
  {
   "cell_type": "code",
   "execution_count": null,
   "metadata": {},
   "outputs": [],
   "source": []
  }
 ],
 "metadata": {
  "kernelspec": {
   "display_name": "Python 3",
   "language": "python",
   "name": "python3"
  },
  "language_info": {
   "codemirror_mode": {
    "name": "ipython",
    "version": 3
   },
   "file_extension": ".py",
   "mimetype": "text/x-python",
   "name": "python",
   "nbconvert_exporter": "python",
   "pygments_lexer": "ipython3",
   "version": "3.7.6"
  }
 },
 "nbformat": 4,
 "nbformat_minor": 4
}
