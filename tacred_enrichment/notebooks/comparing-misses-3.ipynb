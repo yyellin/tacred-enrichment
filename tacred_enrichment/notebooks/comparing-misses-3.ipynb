{
 "cells": [
  {
   "cell_type": "code",
   "execution_count": 1,
   "metadata": {},
   "outputs": [
    {
     "data": {
      "text/html": [
       "        <script type=\"text/javascript\">\n",
       "        window.PlotlyConfig = {MathJaxConfig: 'local'};\n",
       "        if (window.MathJax) {MathJax.Hub.Config({SVG: {font: \"STIX-Web\"}});}\n",
       "        if (typeof require !== 'undefined') {\n",
       "        require.undef(\"plotly\");\n",
       "        requirejs.config({\n",
       "            paths: {\n",
       "                'plotly': ['https://cdn.plot.ly/plotly-latest.min']\n",
       "            }\n",
       "        });\n",
       "        require(['plotly'], function(Plotly) {\n",
       "            window._Plotly = Plotly;\n",
       "        });\n",
       "        }\n",
       "        </script>\n",
       "        "
      ]
     },
     "metadata": {},
     "output_type": "display_data"
    }
   ],
   "source": [
    "from plotly.offline import download_plotlyjs, init_notebook_mode, plot, iplot\n",
    "import plotly.graph_objs as go\n",
    "\n",
    "init_notebook_mode(connected=True)"
   ]
  },
  {
   "cell_type": "code",
   "execution_count": 2,
   "metadata": {},
   "outputs": [],
   "source": [
    "import pandas"
   ]
  },
  {
   "cell_type": "code",
   "execution_count": 3,
   "metadata": {},
   "outputs": [],
   "source": [
    "unfiltered_misses = pandas.read_csv(r'C:\\Users\\JYellin\\re_1\\tacred\\analysis\\filtering-by-path-length\\comparing misses\\ucca\\comparison-3\\ucca-misses-nofilter.csv').rename(columns={'predicted':'no-filter-prediction'})\n",
    "filtered_misses = pandas.read_csv(r'C:\\Users\\JYellin\\re_1\\tacred\\analysis\\filtering-by-path-length\\comparing misses\\ucca\\comparison-3\\ucca-misses-filter9.csv').rename(columns={'predicted':'filter-prediction'})"
   ]
  },
  {
   "cell_type": "code",
   "execution_count": 4,
   "metadata": {},
   "outputs": [],
   "source": [
    "merged_misses = filtered_misses.merge(unfiltered_misses, how='outer', on=['id'], indicator=True)"
   ]
  },
  {
   "cell_type": "code",
   "execution_count": 5,
   "metadata": {},
   "outputs": [],
   "source": [
    "def get_gold(r):\n",
    "    if not pandas.isnull(r['gold_x']):\n",
    "        return r['gold_x']\n",
    "    \n",
    "    return r['gold_y']\n",
    "\n",
    "merged_misses['gold'] = merged_misses.apply(lambda r : get_gold(r), axis=1)\n",
    "merged_misses.drop(columns=['gold_x', 'gold_y'], inplace=True)"
   ]
  },
  {
   "cell_type": "code",
   "execution_count": 6,
   "metadata": {},
   "outputs": [],
   "source": [
    "train = pandas.read_json(r'C:\\Users\\JYellin\\re_1\\tacred\\data\\json-enhanced\\train.json')\n",
    "dev = pandas.read_json(r'C:\\Users\\JYellin\\re_1\\tacred\\data\\json-enhanced\\dev.json')\n",
    "test = pandas.read_json(r'C:\\Users\\JYellin\\re_1\\tacred\\data\\json-enhanced\\test.json')\n",
    "data = pandas.concat([train,dev,test])"
   ]
  },
  {
   "cell_type": "code",
   "execution_count": 7,
   "metadata": {},
   "outputs": [],
   "source": [
    "merged_misses = merged_misses.merge(data, how='left', on=['id'])"
   ]
  },
  {
   "cell_type": "code",
   "execution_count": 8,
   "metadata": {},
   "outputs": [],
   "source": [
    "common_misses = merged_misses[merged_misses['_merge']=='both'].drop(columns=['_merge']) \n",
    "filtered_only_misses = merged_misses[merged_misses['_merge']=='left_only'].drop(columns=['_merge','no-filter-prediction'])\n",
    "unfiltered_only_misses = merged_misses[merged_misses['_merge']=='right_only'].drop(columns=['_merge','filter-prediction'])"
   ]
  },
  {
   "cell_type": "code",
   "execution_count": 9,
   "metadata": {},
   "outputs": [
    {
     "name": "stdout",
     "output_type": "stream",
     "text": [
      "filtered miss count:       1993\n",
      "unfiltered miss count:     1943\n",
      "common miss count:         1658\n",
      "filtered only miss count:   335\n",
      "unfiltered only miss count: 285\n"
     ]
    }
   ],
   "source": [
    "print('filtered miss count:       {:4d}'.format(filtered_misses.shape[0]))\n",
    "print('unfiltered miss count:     {:4d}'.format(unfiltered_misses.shape[0]))\n",
    "print('common miss count:         {:4d}'.format(common_misses.shape[0]))\n",
    "print('filtered only miss count:  {:4d}'.format(filtered_only_misses.shape[0]))\n",
    "print('unfiltered only miss count:{:4d}'.format(unfiltered_only_misses.shape[0]))"
   ]
  },
  {
   "cell_type": "code",
   "execution_count": 10,
   "metadata": {},
   "outputs": [],
   "source": [
    "filtered_only_misses_by_gold = filtered_only_misses.groupby(['gold'])['id'].count().reset_index().rename(columns={'id': 'total'}).sort_values(['total'], ascending=[False]).reset_index(drop=True)\n",
    "filtered_only_misses_by_gold_dict = filtered_only_misses_by_gold.to_dict()\n",
    "filtered_lookup_index = dict((y,x) for x,y in filtered_only_misses_by_gold_dict['gold'].items())"
   ]
  },
  {
   "cell_type": "code",
   "execution_count": 11,
   "metadata": {},
   "outputs": [],
   "source": [
    "unfiltered_only_misses_by_gold = unfiltered_only_misses.groupby(['gold'])['id'].count().reset_index().rename(columns={'id': 'total'}).sort_values(['total'], ascending=[False]).reset_index(drop=True)\n",
    "unfiltered_only_misses_by_gold_dict = unfiltered_only_misses_by_gold.to_dict()\n",
    "unfiltered_lookup_index = dict((y,x) for x,y in unfiltered_only_misses_by_gold_dict['gold'].items())"
   ]
  },
  {
   "cell_type": "code",
   "execution_count": 12,
   "metadata": {},
   "outputs": [],
   "source": [
    "#relations = set(unfiltered_only_misses_by_gold_dict['gold'].values())\n",
    "#relations2 = set(filtered_only_misses_by_gold_dict['gold'].values())\n",
    "#relations.update(relations2)\n",
    "#relations.remove('no_relation')\n",
    "#relations = list(relations)\n",
    "\n",
    "relations= list(filtered_only_misses_by_gold_dict['gold'].values())\n",
    "\n",
    "for relation in unfiltered_only_misses_by_gold_dict['gold'].values():\n",
    "    if relation not in relations:\n",
    "        relations.append(relation)\n",
    "        \n",
    "relations.remove('no_relation')"
   ]
  },
  {
   "cell_type": "code",
   "execution_count": 13,
   "metadata": {},
   "outputs": [
    {
     "data": {
      "application/vnd.plotly.v1+json": {
       "config": {
        "plotlyServerURL": "https://plot.ly"
       },
       "data": [
        {
         "marker": {
          "color": "#BC80BD"
         },
         "mode": "lines",
         "name": "filtered",
         "type": "scatter",
         "uid": "5b3dbbde-976a-4e49-ab35-a338f9e52a88",
         "x": [
          "per:employee_of",
          "per:title",
          "per:countries_of_residence",
          "org:top_members/employees",
          "per:parents",
          "per:cities_of_residence",
          "per:religion",
          "per:stateorprovinces_of_residence",
          "org:country_of_headquarters",
          "per:charges",
          "org:subsidiaries",
          "per:children",
          "org:alternate_names",
          "per:origin",
          "per:siblings",
          "org:parents",
          "org:founded_by",
          "per:other_family",
          "org:stateorprovince_of_headquarters",
          "per:schools_attended",
          "per:cause_of_death",
          "org:number_of_employees/members",
          "per:age",
          "org:political/religious_affiliation",
          "per:city_of_death",
          "org:city_of_headquarters",
          "per:date_of_death",
          "org:founded",
          "per:spouse",
          "per:date_of_birth",
          "org:shareholders"
         ],
         "y": [
          20,
          18,
          13,
          13,
          8,
          6,
          6,
          5,
          5,
          5,
          5,
          4,
          3,
          3,
          3,
          3,
          3,
          2,
          2,
          2,
          1,
          1,
          1,
          1,
          0,
          0,
          0,
          0,
          0,
          0,
          0
         ]
        },
        {
         "marker": {
          "color": "#CCEBC5"
         },
         "mode": "lines",
         "name": "unfiltered",
         "type": "scatter",
         "uid": "771045fe-2de3-4a23-bd33-b6198778e753",
         "x": [
          "per:employee_of",
          "per:title",
          "per:countries_of_residence",
          "org:top_members/employees",
          "per:parents",
          "per:cities_of_residence",
          "per:religion",
          "per:stateorprovinces_of_residence",
          "org:country_of_headquarters",
          "per:charges",
          "org:subsidiaries",
          "per:children",
          "org:alternate_names",
          "per:origin",
          "per:siblings",
          "org:parents",
          "org:founded_by",
          "per:other_family",
          "org:stateorprovince_of_headquarters",
          "per:schools_attended",
          "per:cause_of_death",
          "org:number_of_employees/members",
          "per:age",
          "org:political/religious_affiliation",
          "per:city_of_death",
          "org:city_of_headquarters",
          "per:date_of_death",
          "org:founded",
          "per:spouse",
          "per:date_of_birth",
          "org:shareholders"
         ],
         "y": [
          13,
          15,
          7,
          11,
          4,
          18,
          0,
          7,
          2,
          4,
          1,
          0,
          1,
          14,
          3,
          0,
          12,
          1,
          3,
          0,
          2,
          4,
          5,
          2,
          6,
          4,
          3,
          2,
          2,
          1,
          1
         ]
        }
       ],
       "layout": {
        "barmode": "overlay",
        "title": {
         "text": "Miss Per Relation"
        },
        "width": 1050,
        "xaxis": {
         "automargin": true,
         "tickangle": 45,
         "title": {
          "text": "Path Length"
         }
        },
        "yaxis": {
         "title": {
          "text": "Number of Misses"
         }
        }
       }
      },
      "text/html": [
       "<div>\n",
       "        \n",
       "        \n",
       "            <div id=\"58e75725-a601-4b14-841d-c3396c44bd46\" class=\"plotly-graph-div\" style=\"height:525px; width:1050px;\"></div>\n",
       "            <script type=\"text/javascript\">\n",
       "                require([\"plotly\"], function(Plotly) {\n",
       "                    window.PLOTLYENV=window.PLOTLYENV || {};\n",
       "                    window.PLOTLYENV.BASE_URL='https://plot.ly';\n",
       "                    \n",
       "                if (document.getElementById(\"58e75725-a601-4b14-841d-c3396c44bd46\")) {\n",
       "                    Plotly.newPlot(\n",
       "                        '58e75725-a601-4b14-841d-c3396c44bd46',\n",
       "                        [{\"marker\": {\"color\": \"#BC80BD\"}, \"mode\": \"lines\", \"name\": \"filtered\", \"type\": \"scatter\", \"uid\": \"5b3dbbde-976a-4e49-ab35-a338f9e52a88\", \"x\": [\"per:employee_of\", \"per:title\", \"per:countries_of_residence\", \"org:top_members/employees\", \"per:parents\", \"per:cities_of_residence\", \"per:religion\", \"per:stateorprovinces_of_residence\", \"org:country_of_headquarters\", \"per:charges\", \"org:subsidiaries\", \"per:children\", \"org:alternate_names\", \"per:origin\", \"per:siblings\", \"org:parents\", \"org:founded_by\", \"per:other_family\", \"org:stateorprovince_of_headquarters\", \"per:schools_attended\", \"per:cause_of_death\", \"org:number_of_employees/members\", \"per:age\", \"org:political/religious_affiliation\", \"per:city_of_death\", \"org:city_of_headquarters\", \"per:date_of_death\", \"org:founded\", \"per:spouse\", \"per:date_of_birth\", \"org:shareholders\"], \"y\": [20, 18, 13, 13, 8, 6, 6, 5, 5, 5, 5, 4, 3, 3, 3, 3, 3, 2, 2, 2, 1, 1, 1, 1, 0, 0, 0, 0, 0, 0, 0]}, {\"marker\": {\"color\": \"#CCEBC5\"}, \"mode\": \"lines\", \"name\": \"unfiltered\", \"type\": \"scatter\", \"uid\": \"771045fe-2de3-4a23-bd33-b6198778e753\", \"x\": [\"per:employee_of\", \"per:title\", \"per:countries_of_residence\", \"org:top_members/employees\", \"per:parents\", \"per:cities_of_residence\", \"per:religion\", \"per:stateorprovinces_of_residence\", \"org:country_of_headquarters\", \"per:charges\", \"org:subsidiaries\", \"per:children\", \"org:alternate_names\", \"per:origin\", \"per:siblings\", \"org:parents\", \"org:founded_by\", \"per:other_family\", \"org:stateorprovince_of_headquarters\", \"per:schools_attended\", \"per:cause_of_death\", \"org:number_of_employees/members\", \"per:age\", \"org:political/religious_affiliation\", \"per:city_of_death\", \"org:city_of_headquarters\", \"per:date_of_death\", \"org:founded\", \"per:spouse\", \"per:date_of_birth\", \"org:shareholders\"], \"y\": [13, 15, 7, 11, 4, 18, 0, 7, 2, 4, 1, 0, 1, 14, 3, 0, 12, 1, 3, 0, 2, 4, 5, 2, 6, 4, 3, 2, 2, 1, 1]}],\n",
       "                        {\"barmode\": \"overlay\", \"title\": {\"text\": \"Miss Per Relation\"}, \"width\": 1050, \"xaxis\": {\"automargin\": true, \"tickangle\": 45, \"title\": {\"text\": \"Path Length\"}}, \"yaxis\": {\"title\": {\"text\": \"Number of Misses\"}}},\n",
       "                        {\"plotlyServerURL\": \"https://plot.ly\", \"responsive\": true}\n",
       "                    ).then(function(){\n",
       "                            \n",
       "var gd = document.getElementById('58e75725-a601-4b14-841d-c3396c44bd46');\n",
       "var x = new MutationObserver(function (mutations, observer) {{\n",
       "        var display = window.getComputedStyle(gd).display;\n",
       "        if (!display || display === 'none') {{\n",
       "            console.log([gd, 'removed!']);\n",
       "            Plotly.purge(gd);\n",
       "            observer.disconnect();\n",
       "        }}\n",
       "}});\n",
       "\n",
       "// Listen for the removal of the full notebook cells\n",
       "var notebookContainer = gd.closest('#notebook-container');\n",
       "if (notebookContainer) {{\n",
       "    x.observe(notebookContainer, {childList: true});\n",
       "}}\n",
       "\n",
       "// Listen for the clearing of the current output cell\n",
       "var outputEl = gd.closest('.output');\n",
       "if (outputEl) {{\n",
       "    x.observe(outputEl, {childList: true});\n",
       "}}\n",
       "\n",
       "                        })\n",
       "                };\n",
       "                });\n",
       "            </script>\n",
       "        </div>"
      ]
     },
     "metadata": {},
     "output_type": "display_data"
    }
   ],
   "source": [
    "scatter1 = go.Scatter(\n",
    "    x=[relation for relation in relations], \n",
    "    y=[filtered_only_misses_by_gold_dict['total'][filtered_lookup_index[relation]] if relation in filtered_lookup_index else 0 for relation in relations],\n",
    "    mode='lines',\n",
    "    name='filtered',\n",
    "    marker = dict(color='#BC80BD')\n",
    "    \n",
    ")\n",
    "\n",
    "scatter2= go.Scatter(\n",
    "    x=[relation for relation in relations], \n",
    "    y=[unfiltered_only_misses_by_gold_dict['total'][unfiltered_lookup_index[relation]] if relation in unfiltered_lookup_index else 0 for relation in relations],\n",
    "    mode='lines',\n",
    "    name='unfiltered',\n",
    "    marker = dict(color='#CCEBC5')\n",
    "\n",
    ")\n",
    "\n",
    "\n",
    "layout = go.Layout(\n",
    "    title='Miss Per Relation',\n",
    "    xaxis_title=\"Path Length\",\n",
    "    yaxis_title=\"Number of Misses\",        \n",
    "    barmode='overlay',\n",
    "    width=1050,\n",
    "    xaxis = go.layout.XAxis(\n",
    "        tickangle = 45,\n",
    "        automargin = True\n",
    "    )\n",
    ")\n",
    "\n",
    "fig = go.Figure(data=[scatter1,scatter2], layout=layout)\n",
    "\n",
    "\n",
    "fig.show()"
   ]
  },
  {
   "cell_type": "code",
   "execution_count": 14,
   "metadata": {},
   "outputs": [],
   "source": [
    "filtered_only_misses_by_ucca = filtered_only_misses.groupby(['ucca_path_len'])['id'].count().reset_index().rename(columns={'id': 'total'}).sort_values(['total'], ascending=[False]).reset_index(drop=True)\n",
    "filtered_only_misses_by_ucca_dict = filtered_only_misses_by_ucca.to_dict()"
   ]
  },
  {
   "cell_type": "code",
   "execution_count": 15,
   "metadata": {},
   "outputs": [],
   "source": [
    "unfiltered_only_misses_by_ucca = unfiltered_only_misses.groupby(['ucca_path_len'])['id'].count().reset_index().rename(columns={'id': 'total'}).sort_values(['total'], ascending=[False]).reset_index(drop=True)\n",
    "unfiltered_only_misses_by_ucca_dict = unfiltered_only_misses_by_ucca.to_dict()"
   ]
  },
  {
   "cell_type": "code",
   "execution_count": 16,
   "metadata": {},
   "outputs": [
    {
     "data": {
      "application/vnd.plotly.v1+json": {
       "config": {
        "plotlyServerURL": "https://plot.ly"
       },
       "data": [
        {
         "marker": {
          "color": "#BC80BD"
         },
         "mode": "lines",
         "name": "filtered",
         "type": "scatter",
         "uid": "f8fd9bb5-8283-4fd4-986b-e4e5fa034f91",
         "x": [
          -1,
          0,
          1,
          2,
          3,
          4,
          5,
          6,
          7,
          8,
          9
         ],
         "y": [
          85,
          74,
          60,
          36,
          29,
          21,
          17,
          8,
          3,
          1
         ]
        },
        {
         "marker": {
          "color": "#CCEBC5"
         },
         "mode": "lines",
         "name": "unfiltered",
         "type": "scatter",
         "uid": "1be14cd7-38fc-461e-b0fc-1c1ebfada86c",
         "x": [
          -1,
          0,
          1,
          2,
          3,
          4,
          5,
          6,
          7,
          8,
          9
         ],
         "y": [
          68,
          65,
          50,
          39,
          25,
          16,
          12,
          7,
          3,
          0
         ]
        }
       ],
       "layout": {
        "barmode": "overlay",
        "title": {
         "text": "UCCA Path Length Comparison"
        },
        "width": 900,
        "xaxis": {
         "automargin": true,
         "tickangle": 45,
         "title": {
          "text": "Path Length"
         }
        },
        "yaxis": {
         "title": {
          "text": "Number of Misses"
         }
        }
       }
      },
      "text/html": [
       "<div>\n",
       "        \n",
       "        \n",
       "            <div id=\"6c081fec-4617-48b1-a943-5759efd85678\" class=\"plotly-graph-div\" style=\"height:525px; width:900px;\"></div>\n",
       "            <script type=\"text/javascript\">\n",
       "                require([\"plotly\"], function(Plotly) {\n",
       "                    window.PLOTLYENV=window.PLOTLYENV || {};\n",
       "                    window.PLOTLYENV.BASE_URL='https://plot.ly';\n",
       "                    \n",
       "                if (document.getElementById(\"6c081fec-4617-48b1-a943-5759efd85678\")) {\n",
       "                    Plotly.newPlot(\n",
       "                        '6c081fec-4617-48b1-a943-5759efd85678',\n",
       "                        [{\"marker\": {\"color\": \"#BC80BD\"}, \"mode\": \"lines\", \"name\": \"filtered\", \"type\": \"scatter\", \"uid\": \"f8fd9bb5-8283-4fd4-986b-e4e5fa034f91\", \"x\": [-1, 0, 1, 2, 3, 4, 5, 6, 7, 8, 9], \"y\": [85, 74, 60, 36, 29, 21, 17, 8, 3, 1]}, {\"marker\": {\"color\": \"#CCEBC5\"}, \"mode\": \"lines\", \"name\": \"unfiltered\", \"type\": \"scatter\", \"uid\": \"1be14cd7-38fc-461e-b0fc-1c1ebfada86c\", \"x\": [-1, 0, 1, 2, 3, 4, 5, 6, 7, 8, 9], \"y\": [68, 65, 50, 39, 25, 16, 12, 7, 3, 0]}],\n",
       "                        {\"barmode\": \"overlay\", \"title\": {\"text\": \"UCCA Path Length Comparison\"}, \"width\": 900, \"xaxis\": {\"automargin\": true, \"tickangle\": 45, \"title\": {\"text\": \"Path Length\"}}, \"yaxis\": {\"title\": {\"text\": \"Number of Misses\"}}},\n",
       "                        {\"plotlyServerURL\": \"https://plot.ly\", \"responsive\": true}\n",
       "                    ).then(function(){\n",
       "                            \n",
       "var gd = document.getElementById('6c081fec-4617-48b1-a943-5759efd85678');\n",
       "var x = new MutationObserver(function (mutations, observer) {{\n",
       "        var display = window.getComputedStyle(gd).display;\n",
       "        if (!display || display === 'none') {{\n",
       "            console.log([gd, 'removed!']);\n",
       "            Plotly.purge(gd);\n",
       "            observer.disconnect();\n",
       "        }}\n",
       "}});\n",
       "\n",
       "// Listen for the removal of the full notebook cells\n",
       "var notebookContainer = gd.closest('#notebook-container');\n",
       "if (notebookContainer) {{\n",
       "    x.observe(notebookContainer, {childList: true});\n",
       "}}\n",
       "\n",
       "// Listen for the clearing of the current output cell\n",
       "var outputEl = gd.closest('.output');\n",
       "if (outputEl) {{\n",
       "    x.observe(outputEl, {childList: true});\n",
       "}}\n",
       "\n",
       "                        })\n",
       "                };\n",
       "                });\n",
       "            </script>\n",
       "        </div>"
      ]
     },
     "metadata": {},
     "output_type": "display_data"
    }
   ],
   "source": [
    "scatter1 = go.Scatter(\n",
    "    x=[i for i in range(-1,10)], \n",
    "    y=[filtered_only_misses_by_ucca_dict['total'].get(i, 0) for i in range(10)],\n",
    "    mode='lines',\n",
    "    name='filtered',\n",
    "    marker = dict(color='#BC80BD')    \n",
    ")\n",
    "\n",
    "scatter2= go.Scatter(\n",
    "    x=[i for i in range(-1,10)], \n",
    "    y=[unfiltered_only_misses_by_ucca_dict['total'].get(i, 0) for i in range(10)],\n",
    "    mode='lines',\n",
    "    name='unfiltered',\n",
    "    marker = dict(color='#CCEBC5')\n",
    ")\n",
    "\n",
    "\n",
    "layout = go.Layout(\n",
    "    title='UCCA Path Length Comparison',\n",
    "    xaxis_title=\"Path Length\",\n",
    "    yaxis_title=\"Number of Misses\",        \n",
    "    barmode='overlay',\n",
    "    width=900,\n",
    "    xaxis = go.layout.XAxis(\n",
    "        tickangle = 45,\n",
    "        automargin = True\n",
    "        \n",
    "    )\n",
    "    \n",
    "        \n",
    ")\n",
    "\n",
    "fig = go.Figure(data=[scatter1,scatter2], layout=layout)\n",
    "\n",
    "\n",
    "fig.show()"
   ]
  },
  {
   "cell_type": "code",
   "execution_count": 17,
   "metadata": {},
   "outputs": [],
   "source": [
    "filtered_only_misses_by_ud = filtered_only_misses.groupby(['ud_path_len'])['id'].count().reset_index().rename(columns={'id': 'total'}).sort_values(['total'], ascending=[False]).reset_index(drop=True)\n",
    "filtered_only_misses_by_ud_dict = filtered_only_misses_by_ud.to_dict()"
   ]
  },
  {
   "cell_type": "code",
   "execution_count": 18,
   "metadata": {},
   "outputs": [],
   "source": [
    "unfiltered_only_misses_by_ud = unfiltered_only_misses.groupby(['ud_path_len'])['id'].count().reset_index().rename(columns={'id': 'total'}).sort_values(['total'], ascending=[False]).reset_index(drop=True)\n",
    "unfiltered_only_misses_by_ud_dict = unfiltered_only_misses_by_ud.to_dict()"
   ]
  },
  {
   "cell_type": "code",
   "execution_count": 19,
   "metadata": {},
   "outputs": [
    {
     "data": {
      "application/vnd.plotly.v1+json": {
       "config": {
        "plotlyServerURL": "https://plot.ly"
       },
       "data": [
        {
         "marker": {
          "color": "#BC80BD"
         },
         "mode": "lines",
         "name": "filtered",
         "type": "scatter",
         "uid": "cb98cdba-55e7-45e1-87fa-6c120b870f2f",
         "x": [
          0,
          1,
          2,
          3,
          4,
          5,
          6,
          7,
          8,
          9
         ],
         "y": [
          89,
          69,
          63,
          44,
          37,
          17,
          10,
          3,
          3,
          0
         ]
        },
        {
         "marker": {
          "color": "#CCEBC5"
         },
         "mode": "lines",
         "name": "unfiltered",
         "type": "scatter",
         "uid": "1ec39e6b-b1fb-48e7-8495-b914933bbc9a",
         "x": [
          0,
          1,
          2,
          3,
          4,
          5,
          6,
          7,
          8,
          9
         ],
         "y": [
          67,
          64,
          49,
          41,
          30,
          20,
          5,
          3,
          3,
          2
         ]
        }
       ],
       "layout": {
        "barmode": "overlay",
        "title": {
         "text": "UD Path Length Comparison"
        },
        "width": 1200,
        "xaxis": {
         "automargin": true,
         "tickangle": 45,
         "title": {
          "text": "Path Length"
         }
        },
        "yaxis": {
         "title": {
          "text": "Number of Misses"
         }
        }
       }
      },
      "text/html": [
       "<div>\n",
       "        \n",
       "        \n",
       "            <div id=\"9ac57848-0b26-4d54-8ef8-d74d2bf15856\" class=\"plotly-graph-div\" style=\"height:525px; width:1200px;\"></div>\n",
       "            <script type=\"text/javascript\">\n",
       "                require([\"plotly\"], function(Plotly) {\n",
       "                    window.PLOTLYENV=window.PLOTLYENV || {};\n",
       "                    window.PLOTLYENV.BASE_URL='https://plot.ly';\n",
       "                    \n",
       "                if (document.getElementById(\"9ac57848-0b26-4d54-8ef8-d74d2bf15856\")) {\n",
       "                    Plotly.newPlot(\n",
       "                        '9ac57848-0b26-4d54-8ef8-d74d2bf15856',\n",
       "                        [{\"marker\": {\"color\": \"#BC80BD\"}, \"mode\": \"lines\", \"name\": \"filtered\", \"type\": \"scatter\", \"uid\": \"cb98cdba-55e7-45e1-87fa-6c120b870f2f\", \"x\": [0, 1, 2, 3, 4, 5, 6, 7, 8, 9], \"y\": [89, 69, 63, 44, 37, 17, 10, 3, 3, 0]}, {\"marker\": {\"color\": \"#CCEBC5\"}, \"mode\": \"lines\", \"name\": \"unfiltered\", \"type\": \"scatter\", \"uid\": \"1ec39e6b-b1fb-48e7-8495-b914933bbc9a\", \"x\": [0, 1, 2, 3, 4, 5, 6, 7, 8, 9], \"y\": [67, 64, 49, 41, 30, 20, 5, 3, 3, 2]}],\n",
       "                        {\"barmode\": \"overlay\", \"title\": {\"text\": \"UD Path Length Comparison\"}, \"width\": 1200, \"xaxis\": {\"automargin\": true, \"tickangle\": 45, \"title\": {\"text\": \"Path Length\"}}, \"yaxis\": {\"title\": {\"text\": \"Number of Misses\"}}},\n",
       "                        {\"plotlyServerURL\": \"https://plot.ly\", \"responsive\": true}\n",
       "                    ).then(function(){\n",
       "                            \n",
       "var gd = document.getElementById('9ac57848-0b26-4d54-8ef8-d74d2bf15856');\n",
       "var x = new MutationObserver(function (mutations, observer) {{\n",
       "        var display = window.getComputedStyle(gd).display;\n",
       "        if (!display || display === 'none') {{\n",
       "            console.log([gd, 'removed!']);\n",
       "            Plotly.purge(gd);\n",
       "            observer.disconnect();\n",
       "        }}\n",
       "}});\n",
       "\n",
       "// Listen for the removal of the full notebook cells\n",
       "var notebookContainer = gd.closest('#notebook-container');\n",
       "if (notebookContainer) {{\n",
       "    x.observe(notebookContainer, {childList: true});\n",
       "}}\n",
       "\n",
       "// Listen for the clearing of the current output cell\n",
       "var outputEl = gd.closest('.output');\n",
       "if (outputEl) {{\n",
       "    x.observe(outputEl, {childList: true});\n",
       "}}\n",
       "\n",
       "                        })\n",
       "                };\n",
       "                });\n",
       "            </script>\n",
       "        </div>"
      ]
     },
     "metadata": {},
     "output_type": "display_data"
    }
   ],
   "source": [
    "scatter1 = go.Scatter(\n",
    "    x=[i for i in range(10)], \n",
    "    y=[filtered_only_misses_by_ud_dict['total'].get(i, 0) for i in range(10)],\n",
    "    mode='lines',\n",
    "    name='filtered',\n",
    "    marker = dict(color='#BC80BD')\n",
    "\n",
    ")\n",
    "\n",
    "scatter2= go.Scatter(\n",
    "    x=[i for i in range(10)], \n",
    "    y=[unfiltered_only_misses_by_ud_dict['total'].get(i, 0) for i in range(10)],\n",
    "    mode='lines',\n",
    "    name='unfiltered',\n",
    "    marker = dict(color='#CCEBC5')\n",
    ")\n",
    "\n",
    "\n",
    "layout = go.Layout(\n",
    "    title='UD Path Length Comparison',\n",
    "    xaxis_title=\"Path Length\",\n",
    "    yaxis_title=\"Number of Misses\",        \n",
    "    barmode='overlay',\n",
    "    width=1200,\n",
    "    xaxis = go.layout.XAxis(\n",
    "        tickangle = 45,\n",
    "        automargin = True\n",
    "        \n",
    "    )\n",
    "    \n",
    "        \n",
    ")\n",
    "\n",
    "fig = go.Figure(data=[scatter1,scatter2], layout=layout)\n",
    "\n",
    "\n",
    "fig.show()"
   ]
  },
  {
   "cell_type": "code",
   "execution_count": null,
   "metadata": {},
   "outputs": [],
   "source": []
  }
 ],
 "metadata": {
  "kernelspec": {
   "display_name": "Python 3",
   "language": "python",
   "name": "python3"
  },
  "language_info": {
   "codemirror_mode": {
    "name": "ipython",
    "version": 3
   },
   "file_extension": ".py",
   "mimetype": "text/x-python",
   "name": "python",
   "nbconvert_exporter": "python",
   "pygments_lexer": "ipython3",
   "version": "3.7.6"
  }
 },
 "nbformat": 4,
 "nbformat_minor": 4
}
