{
 "cells": [
  {
   "cell_type": "code",
   "execution_count": 1,
   "metadata": {},
   "outputs": [
    {
     "data": {
      "text/html": [
       "        <script type=\"text/javascript\">\n",
       "        window.PlotlyConfig = {MathJaxConfig: 'local'};\n",
       "        if (window.MathJax) {MathJax.Hub.Config({SVG: {font: \"STIX-Web\"}});}\n",
       "        if (typeof require !== 'undefined') {\n",
       "        require.undef(\"plotly\");\n",
       "        requirejs.config({\n",
       "            paths: {\n",
       "                'plotly': ['https://cdn.plot.ly/plotly-latest.min']\n",
       "            }\n",
       "        });\n",
       "        require(['plotly'], function(Plotly) {\n",
       "            window._Plotly = Plotly;\n",
       "        });\n",
       "        }\n",
       "        </script>\n",
       "        "
      ]
     },
     "metadata": {},
     "output_type": "display_data"
    }
   ],
   "source": [
    "from plotly.offline import download_plotlyjs, init_notebook_mode, plot, iplot\n",
    "init_notebook_mode(connected=True)"
   ]
  },
  {
   "cell_type": "code",
   "execution_count": 2,
   "metadata": {},
   "outputs": [],
   "source": [
    "import pandas\n",
    "\n",
    "train = pandas.read_csv(r'C:\\Users\\JYellin\\re_1\\tacred\\results\\general\\train-ucca_paths_v0.0.5.csv')\n",
    "test = pandas.read_csv(r'C:\\Users\\JYellin\\re_1\\tacred\\results\\general\\test-ucca_paths_v0.0.5.csv')\n",
    "\n",
    "# no point to consider 'no_relation' sentences when considering recall ,,,\n",
    "train = train[ train['relation'] != 'no_relation']\n",
    "test = test[ test['relation'] != 'no_relation']\n"
   ]
  },
  {
   "cell_type": "code",
   "execution_count": 3,
   "metadata": {},
   "outputs": [],
   "source": [
    "test_total_by_r_and_p = test.groupby(['relation','path'])['id'].count().reset_index().rename(columns={'id': 'total'}).sort_values(['relation','total'], ascending=[False,False]).reset_index(drop=True)\n",
    "train_total_by_r_and_p = train.groupby(['relation','path'])['id'].count().reset_index().rename(columns={'id': 'total'}).sort_values(['relation','total'], ascending=[True,False]).reset_index(drop=True)\n",
    "train_total_by_p = train.groupby(['path'])['id'].count().reset_index().rename(columns={'id': 'total'}).sort_values(['total'], ascending=[False], inplace=True).reset_index(drop=True)\n"
   ]
  },
  {
   "cell_type": "code",
   "execution_count": 4,
   "metadata": {},
   "outputs": [],
   "source": [
    "def label_count_in_train_across_relations(test_row):\n",
    "    path = test_row['path']\n",
    "\n",
    "    train_row = train_total_by_p.loc[train_total_by_p['path'] == path]\n",
    "    if train_row.empty:\n",
    "        return 0\n",
    "    else:\n",
    "        compare  = train_row.values[0][1]\n",
    "        return compare\n",
    "\n",
    "def label_count_in_train_by_relation(test_row):\n",
    "    relation = test_row['relation']\n",
    "    path = test_row['path']\n",
    "\n",
    "    train_row = train_total_by_r_and_p.loc[\n",
    "        (train_total_by_r_and_p['relation'] == relation) & \n",
    "        (train_total_by_r_and_p['path'] == path)]\n",
    "    if train_row.empty:\n",
    "        return 0\n",
    "    else:\n",
    "        compare  = train_row.values[0][2]\n",
    "        return compare\n",
    "\n",
    "test_total_by_r_and_p['total-for-relation'] = test_total_by_r_and_p.apply(lambda row : label_count_in_train_by_relation(row), axis=1)\n",
    "test_total_by_r_and_p['total-across-relations'] = test_total_by_r_and_p.apply(lambda row : label_count_in_train_across_relations(row), axis=1)"
   ]
  },
  {
   "cell_type": "code",
   "execution_count": 5,
   "metadata": {},
   "outputs": [],
   "source": [
    "stats = []\n",
    "relations = train_total_by_r_and_p['relation'].unique().tolist()\n",
    "for relation in relations:\n",
    "    \n",
    "    df = test_total_by_r_and_p[test_total_by_r_and_p['relation']==relation]\n",
    "    \n",
    "    matched = sum(df[df['total-for-relation']>0]['total'].to_list())\n",
    "    total = sum(df['total'].to_list())\n",
    "    \n",
    "    stats.append( (relation, round(matched/total,4) ) )\n",
    "\n",
    "    \n",
    "overal_matched = sum(test_total_by_r_and_p[test_total_by_r_and_p['total-for-relation']>0]['total'].to_list())\n",
    "overal_total = sum(test_total_by_r_and_p['total'].to_list())\n",
    "\n",
    "stats.insert(0, ('overall', round(overal_matched/overal_total,4) ) )\n",
    "stats = sorted(stats, key=lambda x: x[1], reverse=True)"
   ]
  },
  {
   "cell_type": "code",
   "execution_count": 7,
   "metadata": {},
   "outputs": [
    {
     "data": {
      "application/vnd.plotly.v1+json": {
       "config": {
        "linkText": "Export to plot.ly",
        "plotlyServerURL": "https://plot.ly",
        "showLink": false
       },
       "data": [
        {
         "marker": {
          "color": [
           "rgb(58,200,225)",
           "rgb(58,200,225)",
           "rgb(58,200,225)",
           "rgb(58,200,225)",
           "rgb(58,200,225)",
           "rgb(58,200,225)",
           "rgb(58,200,225)",
           "rgb(58,200,225)",
           "rgb(58,200,225)",
           "rgb(58,200,225)",
           "rgb(58,200,225)",
           "rgb(181,59,89)",
           "rgb(58,200,225)",
           "rgb(58,200,225)",
           "rgb(58,200,225)",
           "rgb(58,200,225)",
           "rgb(58,200,225)",
           "rgb(58,200,225)",
           "rgb(58,200,225)",
           "rgb(58,200,225)",
           "rgb(58,200,225)",
           "rgb(58,200,225)",
           "rgb(58,200,225)",
           "rgb(58,200,225)",
           "rgb(58,200,225)",
           "rgb(58,200,225)",
           "rgb(58,200,225)",
           "rgb(58,200,225)",
           "rgb(58,200,225)",
           "rgb(58,200,225)",
           "rgb(58,200,225)",
           "rgb(58,200,225)",
           "rgb(58,200,225)",
           "rgb(58,200,225)",
           "rgb(58,200,225)",
           "rgb(58,200,225)",
           "rgb(58,200,225)",
           "rgb(58,200,225)",
           "rgb(58,200,225)",
           "rgb(58,200,225)",
           "rgb(58,200,225)",
           "rgb(58,200,225)"
          ],
          "line": {
           "color": "rgb(8,48,107)",
           "width": 0.5
          }
         },
         "name": "Recall",
         "opacity": 0.6,
         "type": "bar",
         "uid": "51512d43-e5c5-4194-8b41-beaf34850abe",
         "width": 0.5,
         "x": [
          "org:top_members/employees",
          "org:alternate_names",
          "per:age",
          "per:title",
          "org:founded",
          "org:city_of_headquarters",
          "per:date_of_birth",
          "per:employee_of",
          "org:number_of_employees/members",
          "per:origin",
          "per:stateorprovinces_of_residence",
          "overall",
          "per:cities_of_residence",
          "per:countries_of_residence",
          "org:founded_by",
          "per:alternate_names",
          "org:parents",
          "per:date_of_death",
          "org:subsidiaries",
          "per:siblings",
          "org:stateorprovince_of_headquarters",
          "per:other_family",
          "per:spouse",
          "org:country_of_headquarters",
          "org:political/religious_affiliation",
          "per:stateorprovince_of_birth",
          "per:schools_attended",
          "per:parents",
          "org:website",
          "per:religion",
          "per:city_of_birth",
          "per:country_of_birth",
          "org:member_of",
          "per:city_of_death",
          "per:charges",
          "per:children",
          "org:members",
          "per:cause_of_death",
          "org:shareholders",
          "per:stateorprovince_of_death",
          "org:dissolved",
          "per:country_of_death"
         ],
         "y": [
          0.8863,
          0.8798,
          0.8622,
          0.8441,
          0.8056,
          0.7895,
          0.7778,
          0.7769,
          0.7368,
          0.7273,
          0.7,
          0.6936,
          0.6862,
          0.6486,
          0.6324,
          0.6,
          0.5932,
          0.5926,
          0.5909,
          0.5818,
          0.5745,
          0.5667,
          0.5606,
          0.5421,
          0.5,
          0.5,
          0.4667,
          0.4432,
          0.4348,
          0.4043,
          0.4,
          0.4,
          0.3889,
          0.3571,
          0.3505,
          0.3243,
          0.2903,
          0.1765,
          0.1667,
          0.0714,
          0,
          0
         ]
        }
       ],
       "layout": {
        "barmode": "overlay",
        "title": {
         "text": "UCCA Path - Recall"
        },
        "width": 1200,
        "xaxis": {
         "automargin": true,
         "tickangle": 45,
         "title": {
          "text": "Relation"
         }
        },
        "yaxis": {
         "title": {
          "text": "Recall"
         }
        }
       }
      },
      "text/html": [
       "<div>\n",
       "        \n",
       "        \n",
       "            <div id=\"7ac24f6c-677d-42d9-97e4-038446738d75\" class=\"plotly-graph-div\" style=\"height:525px; width:1200px;\"></div>\n",
       "            <script type=\"text/javascript\">\n",
       "                require([\"plotly\"], function(Plotly) {\n",
       "                    window.PLOTLYENV=window.PLOTLYENV || {};\n",
       "                    window.PLOTLYENV.BASE_URL='https://plot.ly';\n",
       "                    \n",
       "                if (document.getElementById(\"7ac24f6c-677d-42d9-97e4-038446738d75\")) {\n",
       "                    Plotly.newPlot(\n",
       "                        '7ac24f6c-677d-42d9-97e4-038446738d75',\n",
       "                        [{\"marker\": {\"color\": [\"rgb(58,200,225)\", \"rgb(58,200,225)\", \"rgb(58,200,225)\", \"rgb(58,200,225)\", \"rgb(58,200,225)\", \"rgb(58,200,225)\", \"rgb(58,200,225)\", \"rgb(58,200,225)\", \"rgb(58,200,225)\", \"rgb(58,200,225)\", \"rgb(58,200,225)\", \"rgb(181,59,89)\", \"rgb(58,200,225)\", \"rgb(58,200,225)\", \"rgb(58,200,225)\", \"rgb(58,200,225)\", \"rgb(58,200,225)\", \"rgb(58,200,225)\", \"rgb(58,200,225)\", \"rgb(58,200,225)\", \"rgb(58,200,225)\", \"rgb(58,200,225)\", \"rgb(58,200,225)\", \"rgb(58,200,225)\", \"rgb(58,200,225)\", \"rgb(58,200,225)\", \"rgb(58,200,225)\", \"rgb(58,200,225)\", \"rgb(58,200,225)\", \"rgb(58,200,225)\", \"rgb(58,200,225)\", \"rgb(58,200,225)\", \"rgb(58,200,225)\", \"rgb(58,200,225)\", \"rgb(58,200,225)\", \"rgb(58,200,225)\", \"rgb(58,200,225)\", \"rgb(58,200,225)\", \"rgb(58,200,225)\", \"rgb(58,200,225)\", \"rgb(58,200,225)\", \"rgb(58,200,225)\"], \"line\": {\"color\": \"rgb(8,48,107)\", \"width\": 0.5}}, \"name\": \"Recall\", \"opacity\": 0.6, \"type\": \"bar\", \"uid\": \"51512d43-e5c5-4194-8b41-beaf34850abe\", \"width\": 0.5, \"x\": [\"org:top_members/employees\", \"org:alternate_names\", \"per:age\", \"per:title\", \"org:founded\", \"org:city_of_headquarters\", \"per:date_of_birth\", \"per:employee_of\", \"org:number_of_employees/members\", \"per:origin\", \"per:stateorprovinces_of_residence\", \"overall\", \"per:cities_of_residence\", \"per:countries_of_residence\", \"org:founded_by\", \"per:alternate_names\", \"org:parents\", \"per:date_of_death\", \"org:subsidiaries\", \"per:siblings\", \"org:stateorprovince_of_headquarters\", \"per:other_family\", \"per:spouse\", \"org:country_of_headquarters\", \"org:political/religious_affiliation\", \"per:stateorprovince_of_birth\", \"per:schools_attended\", \"per:parents\", \"org:website\", \"per:religion\", \"per:city_of_birth\", \"per:country_of_birth\", \"org:member_of\", \"per:city_of_death\", \"per:charges\", \"per:children\", \"org:members\", \"per:cause_of_death\", \"org:shareholders\", \"per:stateorprovince_of_death\", \"org:dissolved\", \"per:country_of_death\"], \"y\": [0.8863, 0.8798, 0.8622, 0.8441, 0.8056, 0.7895, 0.7778, 0.7769, 0.7368, 0.7273, 0.7, 0.6936, 0.6862, 0.6486, 0.6324, 0.6, 0.5932, 0.5926, 0.5909, 0.5818, 0.5745, 0.5667, 0.5606, 0.5421, 0.5, 0.5, 0.4667, 0.4432, 0.4348, 0.4043, 0.4, 0.4, 0.3889, 0.3571, 0.3505, 0.3243, 0.2903, 0.1765, 0.1667, 0.0714, 0.0, 0.0]}],\n",
       "                        {\"barmode\": \"overlay\", \"title\": {\"text\": \"UCCA Path - Recall\"}, \"width\": 1200, \"xaxis\": {\"automargin\": true, \"tickangle\": 45, \"title\": {\"text\": \"Relation\"}}, \"yaxis\": {\"title\": {\"text\": \"Recall\"}}},\n",
       "                        {\"showLink\": false, \"linkText\": \"Export to plot.ly\", \"plotlyServerURL\": \"https://plot.ly\", \"responsive\": true}\n",
       "                    ).then(function(){\n",
       "                            \n",
       "var gd = document.getElementById('7ac24f6c-677d-42d9-97e4-038446738d75');\n",
       "var x = new MutationObserver(function (mutations, observer) {{\n",
       "        var display = window.getComputedStyle(gd).display;\n",
       "        if (!display || display === 'none') {{\n",
       "            console.log([gd, 'removed!']);\n",
       "            Plotly.purge(gd);\n",
       "            observer.disconnect();\n",
       "        }}\n",
       "}});\n",
       "\n",
       "// Listen for the removal of the full notebook cells\n",
       "var notebookContainer = gd.closest('#notebook-container');\n",
       "if (notebookContainer) {{\n",
       "    x.observe(notebookContainer, {childList: true});\n",
       "}}\n",
       "\n",
       "// Listen for the clearing of the current output cell\n",
       "var outputEl = gd.closest('.output');\n",
       "if (outputEl) {{\n",
       "    x.observe(outputEl, {childList: true});\n",
       "}}\n",
       "\n",
       "                        })\n",
       "                };\n",
       "                });\n",
       "            </script>\n",
       "        </div>"
      ]
     },
     "metadata": {},
     "output_type": "display_data"
    }
   ],
   "source": [
    "import plotly.graph_objs as go\n",
    "\n",
    "\n",
    "overall_index = next(i for (i, stat) in enumerate(stats) if stat[0] == 'overall')\n",
    "\n",
    "colors = ['rgb(58,200,225)'] * len(stats)\n",
    "colors[overall_index] = 'rgb(181,59,89)'\n",
    "\n",
    "\n",
    "trace = go.Bar(\n",
    "    x=[stat[0] for stat in stats],\n",
    "    y=[stat[1] for stat in stats],\n",
    "    name='Recall',\n",
    "    width=0.5,\n",
    "    marker=dict(\n",
    "        color=colors,\n",
    "        line=dict(\n",
    "            color='rgb(8,48,107)',\n",
    "            width=0.5),\n",
    "        ),\n",
    "    opacity=0.6\n",
    ")\n",
    "\n",
    "data = [trace]\n",
    "layout = go.Layout(\n",
    "    title='UCCA Path - Recall',\n",
    "    xaxis_title=\"Relation\",\n",
    "    yaxis_title=\"Recall\",        \n",
    "    barmode='overlay',\n",
    "    width=1200,\n",
    "    xaxis = go.layout.XAxis(\n",
    "        tickangle = 45,\n",
    "        automargin = True\n",
    "        \n",
    "    )\n",
    "    \n",
    "        \n",
    ")\n",
    "\n",
    "fig = go.Figure(data=data, layout=layout)\n",
    "iplot(fig)"
   ]
  },
  {
   "cell_type": "code",
   "execution_count": 9,
   "metadata": {},
   "outputs": [
    {
     "data": {
      "text/plain": [
       "[('org:top_members/employees', 0.8863),\n",
       " ('org:alternate_names', 0.8798),\n",
       " ('per:age', 0.8622),\n",
       " ('per:title', 0.8441),\n",
       " ('org:founded', 0.8056),\n",
       " ('org:city_of_headquarters', 0.7895),\n",
       " ('per:date_of_birth', 0.7778),\n",
       " ('per:employee_of', 0.7769),\n",
       " ('org:number_of_employees/members', 0.7368),\n",
       " ('per:origin', 0.7273),\n",
       " ('per:stateorprovinces_of_residence', 0.7),\n",
       " ('overall', 0.6936),\n",
       " ('per:cities_of_residence', 0.6862),\n",
       " ('per:countries_of_residence', 0.6486),\n",
       " ('org:founded_by', 0.6324),\n",
       " ('per:alternate_names', 0.6),\n",
       " ('org:parents', 0.5932),\n",
       " ('per:date_of_death', 0.5926),\n",
       " ('org:subsidiaries', 0.5909),\n",
       " ('per:siblings', 0.5818),\n",
       " ('org:stateorprovince_of_headquarters', 0.5745),\n",
       " ('per:other_family', 0.5667),\n",
       " ('per:spouse', 0.5606),\n",
       " ('org:country_of_headquarters', 0.5421),\n",
       " ('org:political/religious_affiliation', 0.5),\n",
       " ('per:stateorprovince_of_birth', 0.5),\n",
       " ('per:schools_attended', 0.4667),\n",
       " ('per:parents', 0.4432),\n",
       " ('org:website', 0.4348),\n",
       " ('per:religion', 0.4043),\n",
       " ('per:city_of_birth', 0.4),\n",
       " ('per:country_of_birth', 0.4),\n",
       " ('org:member_of', 0.3889),\n",
       " ('per:city_of_death', 0.3571),\n",
       " ('per:charges', 0.3505),\n",
       " ('per:children', 0.3243),\n",
       " ('org:members', 0.2903),\n",
       " ('per:cause_of_death', 0.1765),\n",
       " ('org:shareholders', 0.1667),\n",
       " ('per:stateorprovince_of_death', 0.0714),\n",
       " ('org:dissolved', 0.0),\n",
       " ('per:country_of_death', 0.0)]"
      ]
     },
     "execution_count": 9,
     "metadata": {},
     "output_type": "execute_result"
    }
   ],
   "source": [
    "stats"
   ]
  },
  {
   "cell_type": "code",
   "execution_count": null,
   "metadata": {},
   "outputs": [],
   "source": []
  }
 ],
 "metadata": {
  "kernelspec": {
   "display_name": "Python 3",
   "language": "python",
   "name": "python3"
  },
  "language_info": {
   "codemirror_mode": {
    "name": "ipython",
    "version": 3
   },
   "file_extension": ".py",
   "mimetype": "text/x-python",
   "name": "python",
   "nbconvert_exporter": "python",
   "pygments_lexer": "ipython3",
   "version": "3.7.6"
  }
 },
 "nbformat": 4,
 "nbformat_minor": 2
}
