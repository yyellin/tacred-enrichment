{
 "cells": [
  {
   "cell_type": "code",
   "execution_count": 1,
   "metadata": {},
   "outputs": [
    {
     "data": {
      "text/html": [
       "        <script type=\"text/javascript\">\n",
       "        window.PlotlyConfig = {MathJaxConfig: 'local'};\n",
       "        if (window.MathJax) {MathJax.Hub.Config({SVG: {font: \"STIX-Web\"}});}\n",
       "        if (typeof require !== 'undefined') {\n",
       "        require.undef(\"plotly\");\n",
       "        requirejs.config({\n",
       "            paths: {\n",
       "                'plotly': ['https://cdn.plot.ly/plotly-latest.min']\n",
       "            }\n",
       "        });\n",
       "        require(['plotly'], function(Plotly) {\n",
       "            window._Plotly = Plotly;\n",
       "        });\n",
       "        }\n",
       "        </script>\n",
       "        "
      ]
     },
     "metadata": {},
     "output_type": "display_data"
    }
   ],
   "source": [
    "from _plotly_future_ import v4_subplots\n",
    "from plotly.offline import download_plotlyjs, init_notebook_mode, plot, iplot\n",
    "from plotly.subplots import make_subplots\n",
    "import plotly.graph_objs as go\n",
    "\n",
    "init_notebook_mode(connected=True)"
   ]
  },
  {
   "cell_type": "code",
   "execution_count": 2,
   "metadata": {},
   "outputs": [],
   "source": [
    "import pandas\n",
    "\n",
    "train = pandas.read_csv(r'C:\\Users\\JYellin\\re_1\\tacred\\results\\general\\train-ud_paths_v0.0.5.csv')\n",
    "test = pandas.read_csv(r'C:\\Users\\JYellin\\re_1\\tacred\\results\\general\\test-ud_paths_v0.0.5.csv')\n",
    "\n",
    "# no point to consider 'no_relation' in the 'recall' scenario ...\n",
    "train = train[ train['relation'] != 'no_relation']\n",
    "test = test[ test['relation'] != 'no_relation']\n",
    "\n",
    "\n",
    "# 07/03/2020 - turns out some rows don't have a path .. I forgot about that\n",
    "test.dropna(subset=['path'], inplace=True)"
   ]
  },
  {
   "cell_type": "code",
   "execution_count": 3,
   "metadata": {},
   "outputs": [],
   "source": [
    "test['len-path'] =  test.apply(lambda row : len(row['path'].split(' ')), axis=1)"
   ]
  },
  {
   "cell_type": "code",
   "execution_count": 4,
   "metadata": {},
   "outputs": [],
   "source": [
    "#path_len_stats = test.groupby(['len-path'])['id'].count().reset_index().rename(columns={'id': 'total-for-path-len'}).sort_values(['total-for-path-len'], ascending=[False]).reset_index(drop=True)\n",
    "#path_len_stats['per-for-path-len'] = path_len_stats.apply(lambda row : row['total-for-path-len'] / test.shape[0], axis = 1 )\n",
    "#path_len_to_percent = path_len_stats.set_index('len-path').drop(columns=['total-for-path-len']).to_dict()['per-for-path-len']"
   ]
  },
  {
   "cell_type": "code",
   "execution_count": 5,
   "metadata": {},
   "outputs": [],
   "source": [
    "path_len_to_percent_per_relation = {}\n",
    "\n",
    "for relation in test['relation'].unique().tolist():\n",
    "    \n",
    "    df = test[test['relation']==relation]\n",
    "\n",
    "    \n",
    "    path_len_stats = df.groupby(['len-path'])['id'].count().reset_index().rename(columns={'id': 'total-for-path-len'}).sort_values(['total-for-path-len'], ascending=[False]).reset_index(drop=True)\n",
    "    path_len_stats['per-for-path-len'] = path_len_stats.apply(lambda row : row['total-for-path-len'] / df.shape[0], axis = 1 )\n",
    "    path_len_to_percent = path_len_stats.set_index('len-path').drop(columns=['total-for-path-len']).to_dict()['per-for-path-len']    \n",
    "    \n",
    "    \n",
    "    path_len_to_percent_per_relation[relation] = path_len_to_percent\n",
    "    \n"
   ]
  },
  {
   "cell_type": "code",
   "execution_count": 6,
   "metadata": {},
   "outputs": [],
   "source": [
    "def transform_row(r):\n",
    "    return '{entity1} {org_path} {entity2}'.format(entity1=r.type1[0:3], org_path=r.path, entity2=r.type2[0:3])\n",
    "\n",
    "train['path'] = train.apply(transform_row, axis=1)\n",
    "test['path'] = test.apply(transform_row, axis=1)"
   ]
  },
  {
   "cell_type": "code",
   "execution_count": 7,
   "metadata": {},
   "outputs": [],
   "source": [
    "train_total_by_r_and_p = train.groupby(['relation','path'])['id'].count().reset_index().rename(columns={'id': 'total'}).sort_values(['relation','total'], ascending=[True,False]).reset_index(drop=True)"
   ]
  },
  {
   "cell_type": "code",
   "execution_count": 8,
   "metadata": {},
   "outputs": [],
   "source": [
    "def is_false_negative(test_row):\n",
    "    relation = test_row['relation']\n",
    "    path = test_row['path']\n",
    "\n",
    "    train_row = train_total_by_r_and_p.loc[\n",
    "        (train_total_by_r_and_p['relation'] == relation) & \n",
    "        (train_total_by_r_and_p['path'] == path)]\n",
    "    if train_row.empty:\n",
    "        return True\n",
    "    else:\n",
    "        return None\n",
    "\n",
    "test['false-negative'] = test.apply(lambda row : is_false_negative(row), axis=1)\n",
    "test.dropna(subset=['false-negative'], inplace=True)"
   ]
  },
  {
   "cell_type": "code",
   "execution_count": 9,
   "metadata": {},
   "outputs": [],
   "source": [
    "relations = test['relation'].unique().tolist()\n",
    "relation_to_fn_stats = {}\n",
    "\n",
    "for relation in relations:\n",
    "    \n",
    "    df = test[test['relation']==relation]\n",
    "\n",
    "    \n",
    "    path_len_to_percent = path_len_to_percent_per_relation[relation]\n",
    "    \n",
    "    \n",
    "    fn_len_path_stats = df.groupby(['len-path'])['id'].count().reset_index().rename(columns={'id': 'total'}).reset_index(drop=True)\n",
    "    fn_len_path_stats['weighted-total'] = fn_len_path_stats.apply(lambda row : row['total'] / path_len_to_percent[row['len-path']], axis=1)\n",
    "    weighted_total_sum = fn_len_path_stats['weighted-total'].sum()\n",
    "    fn_len_path_stats['weighted-total-per'] = fn_len_path_stats.apply(lambda row : row['weighted-total'] / weighted_total_sum, axis=1)\n",
    "    \n",
    "    fn_len_path_stats = fn_len_path_stats.sort_values(['len-path'], ascending=[True]).reset_index(drop=True)\n",
    "    relation_to_fn_stat = fn_len_path_stats.set_index(['len-path']).drop(columns=['total','weighted-total']).to_dict()['weighted-total-per']\n",
    "    \n",
    "    relation_to_fn_stats[relation] = relation_to_fn_stat\n"
   ]
  },
  {
   "cell_type": "code",
   "execution_count": 10,
   "metadata": {},
   "outputs": [],
   "source": [
    "num_relations = len(relations)"
   ]
  },
  {
   "cell_type": "code",
   "execution_count": 11,
   "metadata": {},
   "outputs": [
    {
     "data": {
      "text/plain": [
       "True"
      ]
     },
     "execution_count": 11,
     "metadata": {},
     "output_type": "execute_result"
    }
   ],
   "source": [
    "import math\n",
    "num_columns = 5\n",
    "num_rows = math.ceil(num_relations/num_columns)\n",
    "\n",
    "layout = go.Layout(\n",
    "    title='UD: Path length to weighted number of false negatives',\n",
    "    width=2000,\n",
    "    height=2000,\n",
    "    font=dict(family=\"Arial\", size=12)\n",
    ")\n",
    "\n",
    "fig = make_subplots(\n",
    "    rows=num_rows, \n",
    "    cols=num_columns,\n",
    "    subplot_titles=relations,\n",
    ")\n",
    "\n",
    "fig['layout'].update(layout)\n",
    "\n",
    "True\n",
    "\n",
    "#fig.update_layout(height=600, width=800)\n",
    "\n",
    "\n"
   ]
  },
  {
   "cell_type": "code",
   "execution_count": 12,
   "metadata": {},
   "outputs": [
    {
     "data": {
      "application/vnd.plotly.v1+json": {
       "config": {
        "plotlyServerURL": "https://plot.ly"
       },
       "data": [
        {
         "name": "per:title",
         "type": "scatter",
         "uid": "98f36be3-5149-4dee-942a-9672603b726c",
         "x": [
          2,
          3,
          4,
          5,
          6,
          7,
          8,
          9,
          10,
          11,
          12
         ],
         "xaxis": "x",
         "y": [
          0.006493421311539924,
          0.03751754535556401,
          0.06580000262360457,
          0.1023205782424473,
          0.11255263606669204,
          0.11255263606669202,
          0.11255263606669202,
          0.11255263606669202,
          0.11255263606669202,
          0.11255263606669202,
          0.11255263606669202
         ],
         "yaxis": "y"
        },
        {
         "name": "org:top_members/employees",
         "type": "scatter",
         "uid": "3610b551-3756-48f8-b970-96524c34c597",
         "x": [
          1,
          2,
          3,
          4,
          5,
          6,
          7,
          8,
          9
         ],
         "xaxis": "x2",
         "y": [
          0.06686169127151508,
          0.03085924212531465,
          0.06686169127151508,
          0.053489353017212055,
          0.05695625552758691,
          0.14327505272467514,
          0.18052656643309067,
          0.2005850738145452,
          0.2005850738145452
         ],
         "yaxis": "y2"
        },
        {
         "name": "org:country_of_headquarters",
         "type": "scatter",
         "uid": "80c9d9da-e192-4d2f-8d98-cf8d910a49e2",
         "x": [
          1,
          2,
          3,
          4,
          5,
          6,
          7,
          8,
          9,
          10
         ],
         "xaxis": "x3",
         "y": [
          0.11631663974151858,
          0.05815831987075929,
          0.03877221324717286,
          0.10177705977382875,
          0.10339256865912763,
          0.11631663974151858,
          0.11631663974151858,
          0.11631663974151858,
          0.11631663974151858,
          0.11631663974151858
         ],
         "yaxis": "y3"
        },
        {
         "name": "per:parents",
         "type": "scatter",
         "uid": "7cf74487-dafe-43d1-b5f0-be6c13fcc4ad",
         "x": [
          1,
          2,
          3,
          4,
          5,
          6,
          7
         ],
         "xaxis": "x4",
         "y": [
          0.166551724137931,
          0.1189655172413793,
          0.0832758620689655,
          0.1593103448275862,
          0.13879310344827586,
          0.166551724137931,
          0.166551724137931
         ],
         "yaxis": "y4"
        },
        {
         "name": "per:countries_of_residence",
         "type": "scatter",
         "uid": "44550707-151e-429f-bd05-9f2001002c30",
         "x": [
          1,
          2,
          3,
          4,
          5,
          6,
          7,
          8,
          9
         ],
         "xaxis": "x5",
         "y": [
          0.06502510160172126,
          0.06502510160172126,
          0.09347358355247432,
          0.12622519722687067,
          0.13005020320344252,
          0.13005020320344252,
          0.13005020320344252,
          0.13005020320344252,
          0.13005020320344252
         ],
         "yaxis": "y5"
        },
        {
         "name": "per:charges",
         "type": "scatter",
         "uid": "fedbd155-aa06-495b-9e10-457617a20d41",
         "x": [
          1,
          2,
          3,
          4,
          5,
          6,
          7,
          8,
          9,
          12
         ],
         "xaxis": "x6",
         "y": [
          0.102803738317757,
          0.10280373831775699,
          0.0794392523364486,
          0.09813084112149531,
          0.102803738317757,
          0.102803738317757,
          0.102803738317757,
          0.102803738317757,
          0.102803738317757,
          0.102803738317757
         ],
         "yaxis": "y6"
        },
        {
         "name": "per:cities_of_residence",
         "type": "scatter",
         "uid": "fb3898d7-cdb8-49d4-b649-90c13913939c",
         "x": [
          2,
          3,
          4,
          5,
          6,
          7,
          8,
          10,
          11
         ],
         "xaxis": "x7",
         "y": [
          0.12027427724240178,
          0.07653817642698296,
          0.0815418828762046,
          0.12027427724240178,
          0.12027427724240178,
          0.12027427724240178,
          0.12027427724240178,
          0.12027427724240178,
          0.12027427724240178
         ],
         "yaxis": "y7"
        },
        {
         "name": "per:origin",
         "type": "scatter",
         "uid": "01821ab6-9ec5-4363-9bcb-211ec03623db",
         "x": [
          2,
          3,
          4,
          5,
          6,
          7,
          9,
          14
         ],
         "xaxis": "x8",
         "y": [
          0.032883147386964184,
          0.11626541397533763,
          0.11098062243100411,
          0.1479741632413388,
          0.1479741632413388,
          0.1479741632413388,
          0.1479741632413388,
          0.1479741632413388
         ],
         "yaxis": "y8"
        },
        {
         "name": "per:siblings",
         "type": "scatter",
         "uid": "d72627ce-6f2b-4181-9907-45cceb15a5cf",
         "x": [
          1,
          2,
          3,
          4,
          5,
          6,
          7
         ],
         "xaxis": "x9",
         "y": [
          0.15825688073394495,
          0.1055045871559633,
          0.10321100917431192,
          0.15825688073394495,
          0.15825688073394495,
          0.15825688073394495,
          0.15825688073394495
         ],
         "yaxis": "y9"
        },
        {
         "name": "per:alternate_names",
         "type": "scatter",
         "uid": "f05d6881-6baa-446c-ad54-41a2185b2d8c",
         "x": [
          1,
          3,
          4,
          5,
          6,
          7,
          8
         ],
         "xaxis": "x10",
         "y": [
          0.14285714285714285,
          0.14285714285714285,
          0.14285714285714285,
          0.14285714285714285,
          0.14285714285714285,
          0.14285714285714285,
          0.14285714285714285
         ],
         "yaxis": "y10"
        },
        {
         "name": "per:age",
         "type": "scatter",
         "uid": "f798c140-7253-4ff0-a987-a6a7b3117ed1",
         "x": [
          2,
          3,
          4,
          5,
          7
         ],
         "xaxis": "x11",
         "y": [
          0.07398708162066941,
          0.09747504403992954,
          0.24368761009982387,
          0.2924251321197886,
          0.2924251321197886
         ],
         "yaxis": "y11"
        },
        {
         "name": "per:employee_of",
         "type": "scatter",
         "uid": "2b316420-e6e9-4672-87a9-31aa110921b1",
         "x": [
          1,
          2,
          3,
          4,
          5,
          6,
          7,
          8,
          9
         ],
         "xaxis": "x12",
         "y": [
          0.07229954312687502,
          0.06492203872617348,
          0.09738305808926022,
          0.0877076424817828,
          0.11857125072807503,
          0.12531920808658337,
          0.14459908625375004,
          0.14459908625375004,
          0.14459908625375004
         ],
         "yaxis": "y12"
        },
        {
         "name": "org:website",
         "type": "scatter",
         "uid": "90c30c4a-9556-4c91-95f9-163de2e02664",
         "x": [
          1,
          2,
          3,
          4,
          5,
          7
         ],
         "xaxis": "x13",
         "y": [
          0.2057142857142857,
          0.022857142857142857,
          0.15428571428571428,
          0.2057142857142857,
          0.2057142857142857,
          0.2057142857142857
         ],
         "yaxis": "y13"
        },
        {
         "name": "per:children",
         "type": "scatter",
         "uid": "1e51ce41-b9d1-4768-b751-c0369d7c2950",
         "x": [
          2,
          3,
          4,
          5,
          6,
          8
         ],
         "xaxis": "x14",
         "y": [
          0.031746031746031744,
          0.07936507936507936,
          0.2222222222222222,
          0.2222222222222222,
          0.2222222222222222,
          0.2222222222222222
         ],
         "yaxis": "y14"
        },
        {
         "name": "per:religion",
         "type": "scatter",
         "uid": "b2025ce8-4501-4e67-b26a-c29d66a6a1ea",
         "x": [
          1,
          2,
          3,
          4,
          5,
          6,
          10
         ],
         "xaxis": "x15",
         "y": [
          0.14754098360655737,
          0.1475409836065574,
          0.11475409836065575,
          0.1475409836065574,
          0.14754098360655737,
          0.14754098360655737,
          0.14754098360655737
         ],
         "yaxis": "y15"
        },
        {
         "name": "per:stateorprovince_of_death",
         "type": "scatter",
         "uid": "08747eb6-7f3e-42f1-ae88-80a029ea9366",
         "x": [
          4,
          5,
          6,
          7,
          8,
          9
         ],
         "xaxis": "x16",
         "y": [
          0.0625,
          0.1875,
          0.1875,
          0.1875,
          0.1875,
          0.1875
         ],
         "yaxis": "y16"
        },
        {
         "name": "org:parents",
         "type": "scatter",
         "uid": "0381268e-4279-4fba-82b6-908781ff477a",
         "x": [
          1,
          2,
          3,
          4,
          5,
          6,
          7,
          8
         ],
         "xaxis": "x17",
         "y": [
          0.03651037663335895,
          0.10953112990007685,
          0.13143735588009223,
          0.13835511145272866,
          0.1460415065334358,
          0.1460415065334358,
          0.1460415065334358,
          0.1460415065334358
         ],
         "yaxis": "y17"
        },
        {
         "name": "org:subsidiaries",
         "type": "scatter",
         "uid": "8e6a02e9-1a8a-47b3-b986-8cab67e120ce",
         "x": [
          2,
          3,
          4,
          5,
          6,
          7,
          9
         ],
         "xaxis": "x18",
         "y": [
          0.06417112299465241,
          0.13368983957219255,
          0.16042780748663102,
          0.16042780748663102,
          0.16042780748663102,
          0.16042780748663102,
          0.16042780748663102
         ],
         "yaxis": "y18"
        },
        {
         "name": "per:stateorprovinces_of_residence",
         "type": "scatter",
         "uid": "94b75d40-eb7a-4987-8aed-c434414caa8d",
         "x": [
          2,
          3,
          4,
          5,
          6,
          7,
          8,
          9
         ],
         "xaxis": "x19",
         "y": [
          0.13395020929720203,
          0.09165014320334876,
          0.12139237717558933,
          0.13395020929720203,
          0.11720643313505177,
          0.13395020929720203,
          0.13395020929720203,
          0.13395020929720203
         ],
         "yaxis": "y19"
        },
        {
         "name": "org:members",
         "type": "scatter",
         "uid": "bfb3255a-0c38-41b9-bb50-d74b80487984",
         "x": [
          1,
          2,
          3,
          4,
          5,
          6,
          7,
          8,
          9
         ],
         "xaxis": "x20",
         "y": [
          0.11538461538461538,
          0.07692307692307693,
          0.11538461538461538,
          0.11538461538461538,
          0.11538461538461538,
          0.11538461538461538,
          0.11538461538461538,
          0.11538461538461538,
          0.11538461538461538
         ],
         "yaxis": "y20"
        },
        {
         "name": "per:cause_of_death",
         "type": "scatter",
         "uid": "38cf8423-5760-4338-8c7e-0a5d5ec2d2ee",
         "x": [
          1,
          2,
          3,
          4,
          5,
          6,
          7,
          8,
          11,
          13
         ],
         "xaxis": "x21",
         "y": [
          0.07894736842105263,
          0.10526315789473684,
          0.10526315789473684,
          0.07894736842105263,
          0.10526315789473684,
          0.10526315789473684,
          0.10526315789473684,
          0.10526315789473684,
          0.10526315789473684,
          0.10526315789473684
         ],
         "yaxis": "y21"
        },
        {
         "name": "org:member_of",
         "type": "scatter",
         "uid": "89493d5e-cc87-4a3f-975c-2ba456a2e2be",
         "x": [
          1,
          2,
          3,
          4,
          5,
          6,
          7
         ],
         "xaxis": "x22",
         "y": [
          0.14285714285714285,
          0.14285714285714285,
          0.14285714285714285,
          0.14285714285714285,
          0.14285714285714285,
          0.14285714285714285,
          0.14285714285714285
         ],
         "yaxis": "y22"
        },
        {
         "name": "org:number_of_employees/members",
         "type": "scatter",
         "uid": "54870ca4-4d91-41d7-9fa4-dd7301fda471",
         "x": [
          1,
          2,
          4,
          5,
          6,
          7,
          8,
          11
         ],
         "xaxis": "x23",
         "y": [
          0.037037037037037035,
          0.07407407407407407,
          0.14814814814814814,
          0.14814814814814814,
          0.14814814814814814,
          0.14814814814814814,
          0.14814814814814814,
          0.14814814814814814
         ],
         "yaxis": "y23"
        },
        {
         "name": "per:country_of_birth",
         "type": "scatter",
         "uid": "48306c92-1c7b-4a6f-a004-1836ec84899e",
         "x": [
          2,
          3,
          5
         ],
         "xaxis": "x24",
         "y": [
          0.3333333333333333,
          0.3333333333333333,
          0.3333333333333333
         ],
         "yaxis": "y24"
        },
        {
         "name": "org:shareholders",
         "type": "scatter",
         "uid": "cef684aa-cf26-4881-b281-0edb8dc28135",
         "x": [
          2,
          3,
          4,
          5,
          6,
          7,
          8
         ],
         "xaxis": "x25",
         "y": [
          0.14285714285714285,
          0.14285714285714285,
          0.14285714285714285,
          0.14285714285714285,
          0.14285714285714285,
          0.14285714285714285,
          0.14285714285714285
         ],
         "yaxis": "y25"
        },
        {
         "name": "org:founded_by",
         "type": "scatter",
         "uid": "7082d128-5f41-49e8-bba0-aa41a6c38ee7",
         "x": [
          2,
          3,
          4,
          5,
          6,
          7
         ],
         "xaxis": "x26",
         "y": [
          0.16007886583419395,
          0.15716834100084498,
          0.12393202516195663,
          0.17463149000093886,
          0.19209463900103277,
          0.19209463900103277
         ],
         "yaxis": "y26"
        },
        {
         "name": "per:other_family",
         "type": "scatter",
         "uid": "7fa5ced0-3cee-41d3-8c60-d6cadb0e82c7",
         "x": [
          1,
          2,
          3,
          4,
          5,
          6,
          7,
          9,
          10
         ],
         "xaxis": "x27",
         "y": [
          0.12389380530973451,
          0.061946902654867256,
          0.07079646017699115,
          0.12389380530973451,
          0.12389380530973451,
          0.12389380530973451,
          0.12389380530973451,
          0.12389380530973451,
          0.12389380530973451
         ],
         "yaxis": "y27"
        },
        {
         "name": "org:stateorprovince_of_headquarters",
         "type": "scatter",
         "uid": "8a48de94-2efe-46d1-bf16-47529abd4544",
         "x": [
          1,
          2,
          3,
          4,
          5,
          6,
          9
         ],
         "xaxis": "x28",
         "y": [
          0.16772261260223476,
          0.07188111968667203,
          0.1153092961640364,
          0.14191913374035248,
          0.16772261260223476,
          0.16772261260223476,
          0.16772261260223476
         ],
         "yaxis": "y28"
        },
        {
         "name": "per:city_of_death",
         "type": "scatter",
         "uid": "efd3197e-cf93-455c-812b-00e9604799f5",
         "x": [
          4,
          5,
          6,
          7,
          11
         ],
         "xaxis": "x29",
         "y": [
          0.2,
          0.2,
          0.2,
          0.2,
          0.2
         ],
         "yaxis": "y29"
        },
        {
         "name": "org:alternate_names",
         "type": "scatter",
         "uid": "0789a52b-2b31-4d16-b8b4-ced3ffa5b267",
         "x": [
          2,
          3,
          4,
          5,
          6,
          7,
          8,
          9
         ],
         "xaxis": "x30",
         "y": [
          0.043911600908335346,
          0.007198623099727107,
          0.11856132245250545,
          0.12774283900606648,
          0.17564640363334139,
          0.1756464036333414,
          0.1756464036333414,
          0.1756464036333414
         ],
         "yaxis": "y30"
        },
        {
         "name": "per:spouse",
         "type": "scatter",
         "uid": "76997e28-8688-4fc9-b5a4-76d1410b60b0",
         "x": [
          2,
          3,
          4,
          5,
          6,
          7,
          8
         ],
         "xaxis": "x31",
         "y": [
          0.014650138305501487,
          0.11986476795410307,
          0.16227845507632416,
          0.17580165966601782,
          0.17580165966601782,
          0.17580165966601782,
          0.17580165966601782
         ],
         "yaxis": "y31"
        },
        {
         "name": "per:date_of_death",
         "type": "scatter",
         "uid": "82c573d4-8909-4684-b4a2-06cf1a456610",
         "x": [
          1,
          2,
          3,
          4,
          5,
          6,
          7
         ],
         "xaxis": "x32",
         "y": [
          0.12858192505510654,
          0.14401175606171931,
          0.11021307861866275,
          0.15429831006612785,
          0.15429831006612785,
          0.15429831006612785,
          0.15429831006612785
         ],
         "yaxis": "y32"
        },
        {
         "name": "org:city_of_headquarters",
         "type": "scatter",
         "uid": "96ed3198-c0fe-4c06-bd40-d56933f1d32f",
         "x": [
          2,
          3,
          4,
          5,
          6,
          7
         ],
         "xaxis": "x33",
         "y": [
          0.12390683820791792,
          0.07453770735945063,
          0.1751375501592686,
          0.1927439705456501,
          0.21683696686385637,
          0.21683696686385637
         ],
         "yaxis": "y33"
        },
        {
         "name": "per:schools_attended",
         "type": "scatter",
         "uid": "3dd780a4-c950-4f32-b305-a38bccfa696c",
         "x": [
          1,
          2,
          3,
          4,
          5,
          6
         ],
         "xaxis": "x34",
         "y": [
          0.10601941747572814,
          0.18174757281553397,
          0.14679611650485436,
          0.14135922330097087,
          0.21203883495145628,
          0.21203883495145628
         ],
         "yaxis": "y34"
        },
        {
         "name": "org:political/religious_affiliation",
         "type": "scatter",
         "uid": "d9f10b49-1745-4054-805e-f86d9bf391e2",
         "x": [
          2,
          3,
          4,
          5
         ],
         "xaxis": "x35",
         "y": [
          0.3333333333333333,
          0.16666666666666666,
          0.16666666666666666,
          0.3333333333333333
         ],
         "yaxis": "y35"
        },
        {
         "name": "per:date_of_birth",
         "type": "scatter",
         "uid": "b4a476e8-118e-4bf4-abe0-395be37d3429",
         "x": [
          2,
          4,
          5
         ],
         "xaxis": "x36",
         "y": [
          0.14285714285714285,
          0.42857142857142855,
          0.42857142857142855
         ],
         "yaxis": "y36"
        },
        {
         "name": "per:country_of_death",
         "type": "scatter",
         "uid": "76e59576-b7ad-4ca3-ac1e-7efbe555543b",
         "x": [
          1,
          3,
          4,
          6,
          7
         ],
         "xaxis": "x37",
         "y": [
          0.2,
          0.2,
          0.2,
          0.2,
          0.2
         ],
         "yaxis": "y37"
        },
        {
         "name": "org:founded",
         "type": "scatter",
         "uid": "9f0f3a07-d65f-4c7b-83f3-29659f8dd855",
         "x": [
          2,
          3,
          4,
          5,
          6,
          7
         ],
         "xaxis": "x38",
         "y": [
          0.16717697489283526,
          0.09552969993876301,
          0.06858542559706061,
          0.222902633190447,
          0.222902633190447,
          0.222902633190447
         ],
         "yaxis": "y38"
        },
        {
         "name": "per:stateorprovince_of_birth",
         "type": "scatter",
         "uid": "2e72fa4a-50f5-4643-b2f2-5efcea555553",
         "x": [
          3,
          5,
          7
         ],
         "xaxis": "x39",
         "y": [
          0.1111111111111111,
          0.4444444444444444,
          0.4444444444444444
         ],
         "yaxis": "y39"
        },
        {
         "name": "per:city_of_birth",
         "type": "scatter",
         "uid": "69f509c6-45c6-4489-bbf9-9e3239ebc298",
         "x": [
          3,
          4,
          5
         ],
         "xaxis": "x40",
         "y": [
          0.2,
          0.4,
          0.4
         ],
         "yaxis": "y40"
        },
        {
         "name": "org:dissolved",
         "type": "scatter",
         "uid": "ef744e6e-16ed-4bc5-99ca-c3a552ee3a78",
         "x": [
          2,
          4
         ],
         "xaxis": "x41",
         "y": [
          0.5,
          0.5
         ],
         "yaxis": "y41"
        }
       ],
       "layout": {
        "annotations": [
         {
          "font": {
           "family": "Arial",
           "size": 10
          },
          "showarrow": false,
          "text": "per:title",
          "x": 0.08399999999999999,
          "xanchor": "center",
          "xref": "paper",
          "y": 1,
          "yanchor": "bottom",
          "yref": "paper"
         },
         {
          "font": {
           "family": "Arial",
           "size": 10
          },
          "showarrow": false,
          "text": "org:top_members/employees",
          "x": 0.292,
          "xanchor": "center",
          "xref": "paper",
          "y": 1,
          "yanchor": "bottom",
          "yref": "paper"
         },
         {
          "font": {
           "family": "Arial",
           "size": 10
          },
          "showarrow": false,
          "text": "org:country_of_headquarters",
          "x": 0.5,
          "xanchor": "center",
          "xref": "paper",
          "y": 1,
          "yanchor": "bottom",
          "yref": "paper"
         },
         {
          "font": {
           "family": "Arial",
           "size": 10
          },
          "showarrow": false,
          "text": "per:parents",
          "x": 0.708,
          "xanchor": "center",
          "xref": "paper",
          "y": 1,
          "yanchor": "bottom",
          "yref": "paper"
         },
         {
          "font": {
           "family": "Arial",
           "size": 10
          },
          "showarrow": false,
          "text": "per:countries_of_residence",
          "x": 0.9159999999999999,
          "xanchor": "center",
          "xref": "paper",
          "y": 1,
          "yanchor": "bottom",
          "yref": "paper"
         },
         {
          "font": {
           "family": "Arial",
           "size": 10
          },
          "showarrow": false,
          "text": "per:charges",
          "x": 0.08399999999999999,
          "xanchor": "center",
          "xref": "paper",
          "y": 0.8827160493827161,
          "yanchor": "bottom",
          "yref": "paper"
         },
         {
          "font": {
           "family": "Arial",
           "size": 10
          },
          "showarrow": false,
          "text": "per:cities_of_residence",
          "x": 0.292,
          "xanchor": "center",
          "xref": "paper",
          "y": 0.8827160493827161,
          "yanchor": "bottom",
          "yref": "paper"
         },
         {
          "font": {
           "family": "Arial",
           "size": 10
          },
          "showarrow": false,
          "text": "per:origin",
          "x": 0.5,
          "xanchor": "center",
          "xref": "paper",
          "y": 0.8827160493827161,
          "yanchor": "bottom",
          "yref": "paper"
         },
         {
          "font": {
           "family": "Arial",
           "size": 10
          },
          "showarrow": false,
          "text": "per:siblings",
          "x": 0.708,
          "xanchor": "center",
          "xref": "paper",
          "y": 0.8827160493827161,
          "yanchor": "bottom",
          "yref": "paper"
         },
         {
          "font": {
           "family": "Arial",
           "size": 10
          },
          "showarrow": false,
          "text": "per:alternate_names",
          "x": 0.9159999999999999,
          "xanchor": "center",
          "xref": "paper",
          "y": 0.8827160493827161,
          "yanchor": "bottom",
          "yref": "paper"
         },
         {
          "font": {
           "family": "Arial",
           "size": 10
          },
          "showarrow": false,
          "text": "per:age",
          "x": 0.08399999999999999,
          "xanchor": "center",
          "xref": "paper",
          "y": 0.7654320987654322,
          "yanchor": "bottom",
          "yref": "paper"
         },
         {
          "font": {
           "family": "Arial",
           "size": 10
          },
          "showarrow": false,
          "text": "per:employee_of",
          "x": 0.292,
          "xanchor": "center",
          "xref": "paper",
          "y": 0.7654320987654322,
          "yanchor": "bottom",
          "yref": "paper"
         },
         {
          "font": {
           "family": "Arial",
           "size": 10
          },
          "showarrow": false,
          "text": "org:website",
          "x": 0.5,
          "xanchor": "center",
          "xref": "paper",
          "y": 0.7654320987654322,
          "yanchor": "bottom",
          "yref": "paper"
         },
         {
          "font": {
           "family": "Arial",
           "size": 10
          },
          "showarrow": false,
          "text": "per:children",
          "x": 0.708,
          "xanchor": "center",
          "xref": "paper",
          "y": 0.7654320987654322,
          "yanchor": "bottom",
          "yref": "paper"
         },
         {
          "font": {
           "family": "Arial",
           "size": 10
          },
          "showarrow": false,
          "text": "per:religion",
          "x": 0.9159999999999999,
          "xanchor": "center",
          "xref": "paper",
          "y": 0.7654320987654322,
          "yanchor": "bottom",
          "yref": "paper"
         },
         {
          "font": {
           "family": "Arial",
           "size": 10
          },
          "showarrow": false,
          "text": "per:stateorprovince_of_death",
          "x": 0.08399999999999999,
          "xanchor": "center",
          "xref": "paper",
          "y": 0.6481481481481483,
          "yanchor": "bottom",
          "yref": "paper"
         },
         {
          "font": {
           "family": "Arial",
           "size": 10
          },
          "showarrow": false,
          "text": "org:parents",
          "x": 0.292,
          "xanchor": "center",
          "xref": "paper",
          "y": 0.6481481481481483,
          "yanchor": "bottom",
          "yref": "paper"
         },
         {
          "font": {
           "family": "Arial",
           "size": 10
          },
          "showarrow": false,
          "text": "org:subsidiaries",
          "x": 0.5,
          "xanchor": "center",
          "xref": "paper",
          "y": 0.6481481481481483,
          "yanchor": "bottom",
          "yref": "paper"
         },
         {
          "font": {
           "family": "Arial",
           "size": 10
          },
          "showarrow": false,
          "text": "per:stateorprovinces_of_residence",
          "x": 0.708,
          "xanchor": "center",
          "xref": "paper",
          "y": 0.6481481481481483,
          "yanchor": "bottom",
          "yref": "paper"
         },
         {
          "font": {
           "family": "Arial",
           "size": 10
          },
          "showarrow": false,
          "text": "org:members",
          "x": 0.9159999999999999,
          "xanchor": "center",
          "xref": "paper",
          "y": 0.6481481481481483,
          "yanchor": "bottom",
          "yref": "paper"
         },
         {
          "font": {
           "family": "Arial",
           "size": 10
          },
          "showarrow": false,
          "text": "per:cause_of_death",
          "x": 0.08399999999999999,
          "xanchor": "center",
          "xref": "paper",
          "y": 0.5308641975308642,
          "yanchor": "bottom",
          "yref": "paper"
         },
         {
          "font": {
           "family": "Arial",
           "size": 10
          },
          "showarrow": false,
          "text": "org:member_of",
          "x": 0.292,
          "xanchor": "center",
          "xref": "paper",
          "y": 0.5308641975308642,
          "yanchor": "bottom",
          "yref": "paper"
         },
         {
          "font": {
           "family": "Arial",
           "size": 10
          },
          "showarrow": false,
          "text": "org:number_of_employees/members",
          "x": 0.5,
          "xanchor": "center",
          "xref": "paper",
          "y": 0.5308641975308642,
          "yanchor": "bottom",
          "yref": "paper"
         },
         {
          "font": {
           "family": "Arial",
           "size": 10
          },
          "showarrow": false,
          "text": "per:country_of_birth",
          "x": 0.708,
          "xanchor": "center",
          "xref": "paper",
          "y": 0.5308641975308642,
          "yanchor": "bottom",
          "yref": "paper"
         },
         {
          "font": {
           "family": "Arial",
           "size": 10
          },
          "showarrow": false,
          "text": "org:shareholders",
          "x": 0.9159999999999999,
          "xanchor": "center",
          "xref": "paper",
          "y": 0.5308641975308642,
          "yanchor": "bottom",
          "yref": "paper"
         },
         {
          "font": {
           "family": "Arial",
           "size": 10
          },
          "showarrow": false,
          "text": "org:founded_by",
          "x": 0.08399999999999999,
          "xanchor": "center",
          "xref": "paper",
          "y": 0.41358024691358025,
          "yanchor": "bottom",
          "yref": "paper"
         },
         {
          "font": {
           "family": "Arial",
           "size": 10
          },
          "showarrow": false,
          "text": "per:other_family",
          "x": 0.292,
          "xanchor": "center",
          "xref": "paper",
          "y": 0.41358024691358025,
          "yanchor": "bottom",
          "yref": "paper"
         },
         {
          "font": {
           "family": "Arial",
           "size": 10
          },
          "showarrow": false,
          "text": "org:stateorprovince_of_headquarters",
          "x": 0.5,
          "xanchor": "center",
          "xref": "paper",
          "y": 0.41358024691358025,
          "yanchor": "bottom",
          "yref": "paper"
         },
         {
          "font": {
           "family": "Arial",
           "size": 10
          },
          "showarrow": false,
          "text": "per:city_of_death",
          "x": 0.708,
          "xanchor": "center",
          "xref": "paper",
          "y": 0.41358024691358025,
          "yanchor": "bottom",
          "yref": "paper"
         },
         {
          "font": {
           "family": "Arial",
           "size": 10
          },
          "showarrow": false,
          "text": "org:alternate_names",
          "x": 0.9159999999999999,
          "xanchor": "center",
          "xref": "paper",
          "y": 0.41358024691358025,
          "yanchor": "bottom",
          "yref": "paper"
         },
         {
          "font": {
           "family": "Arial",
           "size": 10
          },
          "showarrow": false,
          "text": "per:spouse",
          "x": 0.08399999999999999,
          "xanchor": "center",
          "xref": "paper",
          "y": 0.2962962962962963,
          "yanchor": "bottom",
          "yref": "paper"
         },
         {
          "font": {
           "family": "Arial",
           "size": 10
          },
          "showarrow": false,
          "text": "per:date_of_death",
          "x": 0.292,
          "xanchor": "center",
          "xref": "paper",
          "y": 0.2962962962962963,
          "yanchor": "bottom",
          "yref": "paper"
         },
         {
          "font": {
           "family": "Arial",
           "size": 10
          },
          "showarrow": false,
          "text": "org:city_of_headquarters",
          "x": 0.5,
          "xanchor": "center",
          "xref": "paper",
          "y": 0.2962962962962963,
          "yanchor": "bottom",
          "yref": "paper"
         },
         {
          "font": {
           "family": "Arial",
           "size": 10
          },
          "showarrow": false,
          "text": "per:schools_attended",
          "x": 0.708,
          "xanchor": "center",
          "xref": "paper",
          "y": 0.2962962962962963,
          "yanchor": "bottom",
          "yref": "paper"
         },
         {
          "font": {
           "family": "Arial",
           "size": 10
          },
          "showarrow": false,
          "text": "org:political/religious_affiliation",
          "x": 0.9159999999999999,
          "xanchor": "center",
          "xref": "paper",
          "y": 0.2962962962962963,
          "yanchor": "bottom",
          "yref": "paper"
         },
         {
          "font": {
           "family": "Arial",
           "size": 10
          },
          "showarrow": false,
          "text": "per:date_of_birth",
          "x": 0.08399999999999999,
          "xanchor": "center",
          "xref": "paper",
          "y": 0.17901234567901234,
          "yanchor": "bottom",
          "yref": "paper"
         },
         {
          "font": {
           "family": "Arial",
           "size": 10
          },
          "showarrow": false,
          "text": "per:country_of_death",
          "x": 0.292,
          "xanchor": "center",
          "xref": "paper",
          "y": 0.17901234567901234,
          "yanchor": "bottom",
          "yref": "paper"
         },
         {
          "font": {
           "family": "Arial",
           "size": 10
          },
          "showarrow": false,
          "text": "org:founded",
          "x": 0.5,
          "xanchor": "center",
          "xref": "paper",
          "y": 0.17901234567901234,
          "yanchor": "bottom",
          "yref": "paper"
         },
         {
          "font": {
           "family": "Arial",
           "size": 10
          },
          "showarrow": false,
          "text": "per:stateorprovince_of_birth",
          "x": 0.708,
          "xanchor": "center",
          "xref": "paper",
          "y": 0.17901234567901234,
          "yanchor": "bottom",
          "yref": "paper"
         },
         {
          "font": {
           "family": "Arial",
           "size": 10
          },
          "showarrow": false,
          "text": "per:city_of_birth",
          "x": 0.9159999999999999,
          "xanchor": "center",
          "xref": "paper",
          "y": 0.17901234567901234,
          "yanchor": "bottom",
          "yref": "paper"
         },
         {
          "font": {
           "family": "Arial",
           "size": 10
          },
          "showarrow": false,
          "text": "org:dissolved",
          "x": 0.08399999999999999,
          "xanchor": "center",
          "xref": "paper",
          "y": 0.0617283950617284,
          "yanchor": "bottom",
          "yref": "paper"
         }
        ],
        "font": {
         "family": "Arial",
         "size": 12
        },
        "height": 2000,
        "title": {
         "text": "UD: Path length to weighted number of false negatives"
        },
        "width": 2000,
        "xaxis": {
         "anchor": "y",
         "domain": [
          0,
          0.16799999999999998
         ]
        },
        "xaxis10": {
         "anchor": "y10",
         "domain": [
          0.832,
          1
         ]
        },
        "xaxis11": {
         "anchor": "y11",
         "domain": [
          0,
          0.16799999999999998
         ]
        },
        "xaxis12": {
         "anchor": "y12",
         "domain": [
          0.208,
          0.376
         ]
        },
        "xaxis13": {
         "anchor": "y13",
         "domain": [
          0.416,
          0.584
         ]
        },
        "xaxis14": {
         "anchor": "y14",
         "domain": [
          0.624,
          0.792
         ]
        },
        "xaxis15": {
         "anchor": "y15",
         "domain": [
          0.832,
          1
         ]
        },
        "xaxis16": {
         "anchor": "y16",
         "domain": [
          0,
          0.16799999999999998
         ]
        },
        "xaxis17": {
         "anchor": "y17",
         "domain": [
          0.208,
          0.376
         ]
        },
        "xaxis18": {
         "anchor": "y18",
         "domain": [
          0.416,
          0.584
         ]
        },
        "xaxis19": {
         "anchor": "y19",
         "domain": [
          0.624,
          0.792
         ]
        },
        "xaxis2": {
         "anchor": "y2",
         "domain": [
          0.208,
          0.376
         ]
        },
        "xaxis20": {
         "anchor": "y20",
         "domain": [
          0.832,
          1
         ]
        },
        "xaxis21": {
         "anchor": "y21",
         "domain": [
          0,
          0.16799999999999998
         ]
        },
        "xaxis22": {
         "anchor": "y22",
         "domain": [
          0.208,
          0.376
         ]
        },
        "xaxis23": {
         "anchor": "y23",
         "domain": [
          0.416,
          0.584
         ]
        },
        "xaxis24": {
         "anchor": "y24",
         "domain": [
          0.624,
          0.792
         ]
        },
        "xaxis25": {
         "anchor": "y25",
         "domain": [
          0.832,
          1
         ]
        },
        "xaxis26": {
         "anchor": "y26",
         "domain": [
          0,
          0.16799999999999998
         ]
        },
        "xaxis27": {
         "anchor": "y27",
         "domain": [
          0.208,
          0.376
         ]
        },
        "xaxis28": {
         "anchor": "y28",
         "domain": [
          0.416,
          0.584
         ]
        },
        "xaxis29": {
         "anchor": "y29",
         "domain": [
          0.624,
          0.792
         ]
        },
        "xaxis3": {
         "anchor": "y3",
         "domain": [
          0.416,
          0.584
         ]
        },
        "xaxis30": {
         "anchor": "y30",
         "domain": [
          0.832,
          1
         ]
        },
        "xaxis31": {
         "anchor": "y31",
         "domain": [
          0,
          0.16799999999999998
         ]
        },
        "xaxis32": {
         "anchor": "y32",
         "domain": [
          0.208,
          0.376
         ]
        },
        "xaxis33": {
         "anchor": "y33",
         "domain": [
          0.416,
          0.584
         ]
        },
        "xaxis34": {
         "anchor": "y34",
         "domain": [
          0.624,
          0.792
         ]
        },
        "xaxis35": {
         "anchor": "y35",
         "domain": [
          0.832,
          1
         ]
        },
        "xaxis36": {
         "anchor": "y36",
         "domain": [
          0,
          0.16799999999999998
         ]
        },
        "xaxis37": {
         "anchor": "y37",
         "domain": [
          0.208,
          0.376
         ]
        },
        "xaxis38": {
         "anchor": "y38",
         "domain": [
          0.416,
          0.584
         ]
        },
        "xaxis39": {
         "anchor": "y39",
         "domain": [
          0.624,
          0.792
         ]
        },
        "xaxis4": {
         "anchor": "y4",
         "domain": [
          0.624,
          0.792
         ]
        },
        "xaxis40": {
         "anchor": "y40",
         "domain": [
          0.832,
          1
         ]
        },
        "xaxis41": {
         "anchor": "y41",
         "domain": [
          0,
          0.16799999999999998
         ]
        },
        "xaxis42": {
         "anchor": "y42",
         "domain": [
          0.208,
          0.376
         ]
        },
        "xaxis43": {
         "anchor": "y43",
         "domain": [
          0.416,
          0.584
         ]
        },
        "xaxis44": {
         "anchor": "y44",
         "domain": [
          0.624,
          0.792
         ]
        },
        "xaxis45": {
         "anchor": "y45",
         "domain": [
          0.832,
          1
         ]
        },
        "xaxis5": {
         "anchor": "y5",
         "domain": [
          0.832,
          1
         ]
        },
        "xaxis6": {
         "anchor": "y6",
         "domain": [
          0,
          0.16799999999999998
         ]
        },
        "xaxis7": {
         "anchor": "y7",
         "domain": [
          0.208,
          0.376
         ]
        },
        "xaxis8": {
         "anchor": "y8",
         "domain": [
          0.416,
          0.584
         ]
        },
        "xaxis9": {
         "anchor": "y9",
         "domain": [
          0.624,
          0.792
         ]
        },
        "yaxis": {
         "anchor": "x",
         "domain": [
          0.9382716049382716,
          1
         ]
        },
        "yaxis10": {
         "anchor": "x10",
         "domain": [
          0.8209876543209876,
          0.8827160493827161
         ]
        },
        "yaxis11": {
         "anchor": "x11",
         "domain": [
          0.7037037037037037,
          0.7654320987654322
         ]
        },
        "yaxis12": {
         "anchor": "x12",
         "domain": [
          0.7037037037037037,
          0.7654320987654322
         ]
        },
        "yaxis13": {
         "anchor": "x13",
         "domain": [
          0.7037037037037037,
          0.7654320987654322
         ]
        },
        "yaxis14": {
         "anchor": "x14",
         "domain": [
          0.7037037037037037,
          0.7654320987654322
         ]
        },
        "yaxis15": {
         "anchor": "x15",
         "domain": [
          0.7037037037037037,
          0.7654320987654322
         ]
        },
        "yaxis16": {
         "anchor": "x16",
         "domain": [
          0.5864197530864198,
          0.6481481481481483
         ]
        },
        "yaxis17": {
         "anchor": "x17",
         "domain": [
          0.5864197530864198,
          0.6481481481481483
         ]
        },
        "yaxis18": {
         "anchor": "x18",
         "domain": [
          0.5864197530864198,
          0.6481481481481483
         ]
        },
        "yaxis19": {
         "anchor": "x19",
         "domain": [
          0.5864197530864198,
          0.6481481481481483
         ]
        },
        "yaxis2": {
         "anchor": "x2",
         "domain": [
          0.9382716049382716,
          1
         ]
        },
        "yaxis20": {
         "anchor": "x20",
         "domain": [
          0.5864197530864198,
          0.6481481481481483
         ]
        },
        "yaxis21": {
         "anchor": "x21",
         "domain": [
          0.4691358024691358,
          0.5308641975308642
         ]
        },
        "yaxis22": {
         "anchor": "x22",
         "domain": [
          0.4691358024691358,
          0.5308641975308642
         ]
        },
        "yaxis23": {
         "anchor": "x23",
         "domain": [
          0.4691358024691358,
          0.5308641975308642
         ]
        },
        "yaxis24": {
         "anchor": "x24",
         "domain": [
          0.4691358024691358,
          0.5308641975308642
         ]
        },
        "yaxis25": {
         "anchor": "x25",
         "domain": [
          0.4691358024691358,
          0.5308641975308642
         ]
        },
        "yaxis26": {
         "anchor": "x26",
         "domain": [
          0.35185185185185186,
          0.41358024691358025
         ]
        },
        "yaxis27": {
         "anchor": "x27",
         "domain": [
          0.35185185185185186,
          0.41358024691358025
         ]
        },
        "yaxis28": {
         "anchor": "x28",
         "domain": [
          0.35185185185185186,
          0.41358024691358025
         ]
        },
        "yaxis29": {
         "anchor": "x29",
         "domain": [
          0.35185185185185186,
          0.41358024691358025
         ]
        },
        "yaxis3": {
         "anchor": "x3",
         "domain": [
          0.9382716049382716,
          1
         ]
        },
        "yaxis30": {
         "anchor": "x30",
         "domain": [
          0.35185185185185186,
          0.41358024691358025
         ]
        },
        "yaxis31": {
         "anchor": "x31",
         "domain": [
          0.2345679012345679,
          0.2962962962962963
         ]
        },
        "yaxis32": {
         "anchor": "x32",
         "domain": [
          0.2345679012345679,
          0.2962962962962963
         ]
        },
        "yaxis33": {
         "anchor": "x33",
         "domain": [
          0.2345679012345679,
          0.2962962962962963
         ]
        },
        "yaxis34": {
         "anchor": "x34",
         "domain": [
          0.2345679012345679,
          0.2962962962962963
         ]
        },
        "yaxis35": {
         "anchor": "x35",
         "domain": [
          0.2345679012345679,
          0.2962962962962963
         ]
        },
        "yaxis36": {
         "anchor": "x36",
         "domain": [
          0.11728395061728394,
          0.17901234567901234
         ]
        },
        "yaxis37": {
         "anchor": "x37",
         "domain": [
          0.11728395061728394,
          0.17901234567901234
         ]
        },
        "yaxis38": {
         "anchor": "x38",
         "domain": [
          0.11728395061728394,
          0.17901234567901234
         ]
        },
        "yaxis39": {
         "anchor": "x39",
         "domain": [
          0.11728395061728394,
          0.17901234567901234
         ]
        },
        "yaxis4": {
         "anchor": "x4",
         "domain": [
          0.9382716049382716,
          1
         ]
        },
        "yaxis40": {
         "anchor": "x40",
         "domain": [
          0.11728395061728394,
          0.17901234567901234
         ]
        },
        "yaxis41": {
         "anchor": "x41",
         "domain": [
          0,
          0.0617283950617284
         ]
        },
        "yaxis42": {
         "anchor": "x42",
         "domain": [
          0,
          0.0617283950617284
         ]
        },
        "yaxis43": {
         "anchor": "x43",
         "domain": [
          0,
          0.0617283950617284
         ]
        },
        "yaxis44": {
         "anchor": "x44",
         "domain": [
          0,
          0.0617283950617284
         ]
        },
        "yaxis45": {
         "anchor": "x45",
         "domain": [
          0,
          0.0617283950617284
         ]
        },
        "yaxis5": {
         "anchor": "x5",
         "domain": [
          0.9382716049382716,
          1
         ]
        },
        "yaxis6": {
         "anchor": "x6",
         "domain": [
          0.8209876543209876,
          0.8827160493827161
         ]
        },
        "yaxis7": {
         "anchor": "x7",
         "domain": [
          0.8209876543209876,
          0.8827160493827161
         ]
        },
        "yaxis8": {
         "anchor": "x8",
         "domain": [
          0.8209876543209876,
          0.8827160493827161
         ]
        },
        "yaxis9": {
         "anchor": "x9",
         "domain": [
          0.8209876543209876,
          0.8827160493827161
         ]
        }
       }
      },
      "text/html": [
       "<div>\n",
       "        \n",
       "        \n",
       "            <div id=\"934f6223-3c44-4930-a0e5-2d57dad291f4\" class=\"plotly-graph-div\" style=\"height:2000px; width:2000px;\"></div>\n",
       "            <script type=\"text/javascript\">\n",
       "                require([\"plotly\"], function(Plotly) {\n",
       "                    window.PLOTLYENV=window.PLOTLYENV || {};\n",
       "                    window.PLOTLYENV.BASE_URL='https://plot.ly';\n",
       "                    \n",
       "                if (document.getElementById(\"934f6223-3c44-4930-a0e5-2d57dad291f4\")) {\n",
       "                    Plotly.newPlot(\n",
       "                        '934f6223-3c44-4930-a0e5-2d57dad291f4',\n",
       "                        [{\"name\": \"per:title\", \"type\": \"scatter\", \"uid\": \"98f36be3-5149-4dee-942a-9672603b726c\", \"x\": [2, 3, 4, 5, 6, 7, 8, 9, 10, 11, 12], \"xaxis\": \"x\", \"y\": [0.006493421311539924, 0.03751754535556401, 0.06580000262360457, 0.1023205782424473, 0.11255263606669204, 0.11255263606669202, 0.11255263606669202, 0.11255263606669202, 0.11255263606669202, 0.11255263606669202, 0.11255263606669202], \"yaxis\": \"y\"}, {\"name\": \"org:top_members/employees\", \"type\": \"scatter\", \"uid\": \"3610b551-3756-48f8-b970-96524c34c597\", \"x\": [1, 2, 3, 4, 5, 6, 7, 8, 9], \"xaxis\": \"x2\", \"y\": [0.06686169127151508, 0.03085924212531465, 0.06686169127151508, 0.053489353017212055, 0.05695625552758691, 0.14327505272467514, 0.18052656643309067, 0.2005850738145452, 0.2005850738145452], \"yaxis\": \"y2\"}, {\"name\": \"org:country_of_headquarters\", \"type\": \"scatter\", \"uid\": \"80c9d9da-e192-4d2f-8d98-cf8d910a49e2\", \"x\": [1, 2, 3, 4, 5, 6, 7, 8, 9, 10], \"xaxis\": \"x3\", \"y\": [0.11631663974151858, 0.05815831987075929, 0.03877221324717286, 0.10177705977382875, 0.10339256865912763, 0.11631663974151858, 0.11631663974151858, 0.11631663974151858, 0.11631663974151858, 0.11631663974151858], \"yaxis\": \"y3\"}, {\"name\": \"per:parents\", \"type\": \"scatter\", \"uid\": \"7cf74487-dafe-43d1-b5f0-be6c13fcc4ad\", \"x\": [1, 2, 3, 4, 5, 6, 7], \"xaxis\": \"x4\", \"y\": [0.166551724137931, 0.1189655172413793, 0.0832758620689655, 0.1593103448275862, 0.13879310344827586, 0.166551724137931, 0.166551724137931], \"yaxis\": \"y4\"}, {\"name\": \"per:countries_of_residence\", \"type\": \"scatter\", \"uid\": \"44550707-151e-429f-bd05-9f2001002c30\", \"x\": [1, 2, 3, 4, 5, 6, 7, 8, 9], \"xaxis\": \"x5\", \"y\": [0.06502510160172126, 0.06502510160172126, 0.09347358355247432, 0.12622519722687067, 0.13005020320344252, 0.13005020320344252, 0.13005020320344252, 0.13005020320344252, 0.13005020320344252], \"yaxis\": \"y5\"}, {\"name\": \"per:charges\", \"type\": \"scatter\", \"uid\": \"fedbd155-aa06-495b-9e10-457617a20d41\", \"x\": [1, 2, 3, 4, 5, 6, 7, 8, 9, 12], \"xaxis\": \"x6\", \"y\": [0.102803738317757, 0.10280373831775699, 0.0794392523364486, 0.09813084112149531, 0.102803738317757, 0.102803738317757, 0.102803738317757, 0.102803738317757, 0.102803738317757, 0.102803738317757], \"yaxis\": \"y6\"}, {\"name\": \"per:cities_of_residence\", \"type\": \"scatter\", \"uid\": \"fb3898d7-cdb8-49d4-b649-90c13913939c\", \"x\": [2, 3, 4, 5, 6, 7, 8, 10, 11], \"xaxis\": \"x7\", \"y\": [0.12027427724240178, 0.07653817642698296, 0.0815418828762046, 0.12027427724240178, 0.12027427724240178, 0.12027427724240178, 0.12027427724240178, 0.12027427724240178, 0.12027427724240178], \"yaxis\": \"y7\"}, {\"name\": \"per:origin\", \"type\": \"scatter\", \"uid\": \"01821ab6-9ec5-4363-9bcb-211ec03623db\", \"x\": [2, 3, 4, 5, 6, 7, 9, 14], \"xaxis\": \"x8\", \"y\": [0.032883147386964184, 0.11626541397533763, 0.11098062243100411, 0.1479741632413388, 0.1479741632413388, 0.1479741632413388, 0.1479741632413388, 0.1479741632413388], \"yaxis\": \"y8\"}, {\"name\": \"per:siblings\", \"type\": \"scatter\", \"uid\": \"d72627ce-6f2b-4181-9907-45cceb15a5cf\", \"x\": [1, 2, 3, 4, 5, 6, 7], \"xaxis\": \"x9\", \"y\": [0.15825688073394495, 0.1055045871559633, 0.10321100917431192, 0.15825688073394495, 0.15825688073394495, 0.15825688073394495, 0.15825688073394495], \"yaxis\": \"y9\"}, {\"name\": \"per:alternate_names\", \"type\": \"scatter\", \"uid\": \"f05d6881-6baa-446c-ad54-41a2185b2d8c\", \"x\": [1, 3, 4, 5, 6, 7, 8], \"xaxis\": \"x10\", \"y\": [0.14285714285714285, 0.14285714285714285, 0.14285714285714285, 0.14285714285714285, 0.14285714285714285, 0.14285714285714285, 0.14285714285714285], \"yaxis\": \"y10\"}, {\"name\": \"per:age\", \"type\": \"scatter\", \"uid\": \"f798c140-7253-4ff0-a987-a6a7b3117ed1\", \"x\": [2, 3, 4, 5, 7], \"xaxis\": \"x11\", \"y\": [0.07398708162066941, 0.09747504403992954, 0.24368761009982387, 0.2924251321197886, 0.2924251321197886], \"yaxis\": \"y11\"}, {\"name\": \"per:employee_of\", \"type\": \"scatter\", \"uid\": \"2b316420-e6e9-4672-87a9-31aa110921b1\", \"x\": [1, 2, 3, 4, 5, 6, 7, 8, 9], \"xaxis\": \"x12\", \"y\": [0.07229954312687502, 0.06492203872617348, 0.09738305808926022, 0.0877076424817828, 0.11857125072807503, 0.12531920808658337, 0.14459908625375004, 0.14459908625375004, 0.14459908625375004], \"yaxis\": \"y12\"}, {\"name\": \"org:website\", \"type\": \"scatter\", \"uid\": \"90c30c4a-9556-4c91-95f9-163de2e02664\", \"x\": [1, 2, 3, 4, 5, 7], \"xaxis\": \"x13\", \"y\": [0.2057142857142857, 0.022857142857142857, 0.15428571428571428, 0.2057142857142857, 0.2057142857142857, 0.2057142857142857], \"yaxis\": \"y13\"}, {\"name\": \"per:children\", \"type\": \"scatter\", \"uid\": \"1e51ce41-b9d1-4768-b751-c0369d7c2950\", \"x\": [2, 3, 4, 5, 6, 8], \"xaxis\": \"x14\", \"y\": [0.031746031746031744, 0.07936507936507936, 0.2222222222222222, 0.2222222222222222, 0.2222222222222222, 0.2222222222222222], \"yaxis\": \"y14\"}, {\"name\": \"per:religion\", \"type\": \"scatter\", \"uid\": \"b2025ce8-4501-4e67-b26a-c29d66a6a1ea\", \"x\": [1, 2, 3, 4, 5, 6, 10], \"xaxis\": \"x15\", \"y\": [0.14754098360655737, 0.1475409836065574, 0.11475409836065575, 0.1475409836065574, 0.14754098360655737, 0.14754098360655737, 0.14754098360655737], \"yaxis\": \"y15\"}, {\"name\": \"per:stateorprovince_of_death\", \"type\": \"scatter\", \"uid\": \"08747eb6-7f3e-42f1-ae88-80a029ea9366\", \"x\": [4, 5, 6, 7, 8, 9], \"xaxis\": \"x16\", \"y\": [0.0625, 0.1875, 0.1875, 0.1875, 0.1875, 0.1875], \"yaxis\": \"y16\"}, {\"name\": \"org:parents\", \"type\": \"scatter\", \"uid\": \"0381268e-4279-4fba-82b6-908781ff477a\", \"x\": [1, 2, 3, 4, 5, 6, 7, 8], \"xaxis\": \"x17\", \"y\": [0.03651037663335895, 0.10953112990007685, 0.13143735588009223, 0.13835511145272866, 0.1460415065334358, 0.1460415065334358, 0.1460415065334358, 0.1460415065334358], \"yaxis\": \"y17\"}, {\"name\": \"org:subsidiaries\", \"type\": \"scatter\", \"uid\": \"8e6a02e9-1a8a-47b3-b986-8cab67e120ce\", \"x\": [2, 3, 4, 5, 6, 7, 9], \"xaxis\": \"x18\", \"y\": [0.06417112299465241, 0.13368983957219255, 0.16042780748663102, 0.16042780748663102, 0.16042780748663102, 0.16042780748663102, 0.16042780748663102], \"yaxis\": \"y18\"}, {\"name\": \"per:stateorprovinces_of_residence\", \"type\": \"scatter\", \"uid\": \"94b75d40-eb7a-4987-8aed-c434414caa8d\", \"x\": [2, 3, 4, 5, 6, 7, 8, 9], \"xaxis\": \"x19\", \"y\": [0.13395020929720203, 0.09165014320334876, 0.12139237717558933, 0.13395020929720203, 0.11720643313505177, 0.13395020929720203, 0.13395020929720203, 0.13395020929720203], \"yaxis\": \"y19\"}, {\"name\": \"org:members\", \"type\": \"scatter\", \"uid\": \"bfb3255a-0c38-41b9-bb50-d74b80487984\", \"x\": [1, 2, 3, 4, 5, 6, 7, 8, 9], \"xaxis\": \"x20\", \"y\": [0.11538461538461538, 0.07692307692307693, 0.11538461538461538, 0.11538461538461538, 0.11538461538461538, 0.11538461538461538, 0.11538461538461538, 0.11538461538461538, 0.11538461538461538], \"yaxis\": \"y20\"}, {\"name\": \"per:cause_of_death\", \"type\": \"scatter\", \"uid\": \"38cf8423-5760-4338-8c7e-0a5d5ec2d2ee\", \"x\": [1, 2, 3, 4, 5, 6, 7, 8, 11, 13], \"xaxis\": \"x21\", \"y\": [0.07894736842105263, 0.10526315789473684, 0.10526315789473684, 0.07894736842105263, 0.10526315789473684, 0.10526315789473684, 0.10526315789473684, 0.10526315789473684, 0.10526315789473684, 0.10526315789473684], \"yaxis\": \"y21\"}, {\"name\": \"org:member_of\", \"type\": \"scatter\", \"uid\": \"89493d5e-cc87-4a3f-975c-2ba456a2e2be\", \"x\": [1, 2, 3, 4, 5, 6, 7], \"xaxis\": \"x22\", \"y\": [0.14285714285714285, 0.14285714285714285, 0.14285714285714285, 0.14285714285714285, 0.14285714285714285, 0.14285714285714285, 0.14285714285714285], \"yaxis\": \"y22\"}, {\"name\": \"org:number_of_employees/members\", \"type\": \"scatter\", \"uid\": \"54870ca4-4d91-41d7-9fa4-dd7301fda471\", \"x\": [1, 2, 4, 5, 6, 7, 8, 11], \"xaxis\": \"x23\", \"y\": [0.037037037037037035, 0.07407407407407407, 0.14814814814814814, 0.14814814814814814, 0.14814814814814814, 0.14814814814814814, 0.14814814814814814, 0.14814814814814814], \"yaxis\": \"y23\"}, {\"name\": \"per:country_of_birth\", \"type\": \"scatter\", \"uid\": \"48306c92-1c7b-4a6f-a004-1836ec84899e\", \"x\": [2, 3, 5], \"xaxis\": \"x24\", \"y\": [0.3333333333333333, 0.3333333333333333, 0.3333333333333333], \"yaxis\": \"y24\"}, {\"name\": \"org:shareholders\", \"type\": \"scatter\", \"uid\": \"cef684aa-cf26-4881-b281-0edb8dc28135\", \"x\": [2, 3, 4, 5, 6, 7, 8], \"xaxis\": \"x25\", \"y\": [0.14285714285714285, 0.14285714285714285, 0.14285714285714285, 0.14285714285714285, 0.14285714285714285, 0.14285714285714285, 0.14285714285714285], \"yaxis\": \"y25\"}, {\"name\": \"org:founded_by\", \"type\": \"scatter\", \"uid\": \"7082d128-5f41-49e8-bba0-aa41a6c38ee7\", \"x\": [2, 3, 4, 5, 6, 7], \"xaxis\": \"x26\", \"y\": [0.16007886583419395, 0.15716834100084498, 0.12393202516195663, 0.17463149000093886, 0.19209463900103277, 0.19209463900103277], \"yaxis\": \"y26\"}, {\"name\": \"per:other_family\", \"type\": \"scatter\", \"uid\": \"7fa5ced0-3cee-41d3-8c60-d6cadb0e82c7\", \"x\": [1, 2, 3, 4, 5, 6, 7, 9, 10], \"xaxis\": \"x27\", \"y\": [0.12389380530973451, 0.061946902654867256, 0.07079646017699115, 0.12389380530973451, 0.12389380530973451, 0.12389380530973451, 0.12389380530973451, 0.12389380530973451, 0.12389380530973451], \"yaxis\": \"y27\"}, {\"name\": \"org:stateorprovince_of_headquarters\", \"type\": \"scatter\", \"uid\": \"8a48de94-2efe-46d1-bf16-47529abd4544\", \"x\": [1, 2, 3, 4, 5, 6, 9], \"xaxis\": \"x28\", \"y\": [0.16772261260223476, 0.07188111968667203, 0.1153092961640364, 0.14191913374035248, 0.16772261260223476, 0.16772261260223476, 0.16772261260223476], \"yaxis\": \"y28\"}, {\"name\": \"per:city_of_death\", \"type\": \"scatter\", \"uid\": \"efd3197e-cf93-455c-812b-00e9604799f5\", \"x\": [4, 5, 6, 7, 11], \"xaxis\": \"x29\", \"y\": [0.2, 0.2, 0.2, 0.2, 0.2], \"yaxis\": \"y29\"}, {\"name\": \"org:alternate_names\", \"type\": \"scatter\", \"uid\": \"0789a52b-2b31-4d16-b8b4-ced3ffa5b267\", \"x\": [2, 3, 4, 5, 6, 7, 8, 9], \"xaxis\": \"x30\", \"y\": [0.043911600908335346, 0.007198623099727107, 0.11856132245250545, 0.12774283900606648, 0.17564640363334139, 0.1756464036333414, 0.1756464036333414, 0.1756464036333414], \"yaxis\": \"y30\"}, {\"name\": \"per:spouse\", \"type\": \"scatter\", \"uid\": \"76997e28-8688-4fc9-b5a4-76d1410b60b0\", \"x\": [2, 3, 4, 5, 6, 7, 8], \"xaxis\": \"x31\", \"y\": [0.014650138305501487, 0.11986476795410307, 0.16227845507632416, 0.17580165966601782, 0.17580165966601782, 0.17580165966601782, 0.17580165966601782], \"yaxis\": \"y31\"}, {\"name\": \"per:date_of_death\", \"type\": \"scatter\", \"uid\": \"82c573d4-8909-4684-b4a2-06cf1a456610\", \"x\": [1, 2, 3, 4, 5, 6, 7], \"xaxis\": \"x32\", \"y\": [0.12858192505510654, 0.14401175606171931, 0.11021307861866275, 0.15429831006612785, 0.15429831006612785, 0.15429831006612785, 0.15429831006612785], \"yaxis\": \"y32\"}, {\"name\": \"org:city_of_headquarters\", \"type\": \"scatter\", \"uid\": \"96ed3198-c0fe-4c06-bd40-d56933f1d32f\", \"x\": [2, 3, 4, 5, 6, 7], \"xaxis\": \"x33\", \"y\": [0.12390683820791792, 0.07453770735945063, 0.1751375501592686, 0.1927439705456501, 0.21683696686385637, 0.21683696686385637], \"yaxis\": \"y33\"}, {\"name\": \"per:schools_attended\", \"type\": \"scatter\", \"uid\": \"3dd780a4-c950-4f32-b305-a38bccfa696c\", \"x\": [1, 2, 3, 4, 5, 6], \"xaxis\": \"x34\", \"y\": [0.10601941747572814, 0.18174757281553397, 0.14679611650485436, 0.14135922330097087, 0.21203883495145628, 0.21203883495145628], \"yaxis\": \"y34\"}, {\"name\": \"org:political/religious_affiliation\", \"type\": \"scatter\", \"uid\": \"d9f10b49-1745-4054-805e-f86d9bf391e2\", \"x\": [2, 3, 4, 5], \"xaxis\": \"x35\", \"y\": [0.3333333333333333, 0.16666666666666666, 0.16666666666666666, 0.3333333333333333], \"yaxis\": \"y35\"}, {\"name\": \"per:date_of_birth\", \"type\": \"scatter\", \"uid\": \"b4a476e8-118e-4bf4-abe0-395be37d3429\", \"x\": [2, 4, 5], \"xaxis\": \"x36\", \"y\": [0.14285714285714285, 0.42857142857142855, 0.42857142857142855], \"yaxis\": \"y36\"}, {\"name\": \"per:country_of_death\", \"type\": \"scatter\", \"uid\": \"76e59576-b7ad-4ca3-ac1e-7efbe555543b\", \"x\": [1, 3, 4, 6, 7], \"xaxis\": \"x37\", \"y\": [0.2, 0.2, 0.2, 0.2, 0.2], \"yaxis\": \"y37\"}, {\"name\": \"org:founded\", \"type\": \"scatter\", \"uid\": \"9f0f3a07-d65f-4c7b-83f3-29659f8dd855\", \"x\": [2, 3, 4, 5, 6, 7], \"xaxis\": \"x38\", \"y\": [0.16717697489283526, 0.09552969993876301, 0.06858542559706061, 0.222902633190447, 0.222902633190447, 0.222902633190447], \"yaxis\": \"y38\"}, {\"name\": \"per:stateorprovince_of_birth\", \"type\": \"scatter\", \"uid\": \"2e72fa4a-50f5-4643-b2f2-5efcea555553\", \"x\": [3, 5, 7], \"xaxis\": \"x39\", \"y\": [0.1111111111111111, 0.4444444444444444, 0.4444444444444444], \"yaxis\": \"y39\"}, {\"name\": \"per:city_of_birth\", \"type\": \"scatter\", \"uid\": \"69f509c6-45c6-4489-bbf9-9e3239ebc298\", \"x\": [3, 4, 5], \"xaxis\": \"x40\", \"y\": [0.2, 0.4, 0.4], \"yaxis\": \"y40\"}, {\"name\": \"org:dissolved\", \"type\": \"scatter\", \"uid\": \"ef744e6e-16ed-4bc5-99ca-c3a552ee3a78\", \"x\": [2, 4], \"xaxis\": \"x41\", \"y\": [0.5, 0.5], \"yaxis\": \"y41\"}],\n",
       "                        {\"annotations\": [{\"font\": {\"family\": \"Arial\", \"size\": 10}, \"showarrow\": false, \"text\": \"per:title\", \"x\": 0.08399999999999999, \"xanchor\": \"center\", \"xref\": \"paper\", \"y\": 1.0, \"yanchor\": \"bottom\", \"yref\": \"paper\"}, {\"font\": {\"family\": \"Arial\", \"size\": 10}, \"showarrow\": false, \"text\": \"org:top_members/employees\", \"x\": 0.292, \"xanchor\": \"center\", \"xref\": \"paper\", \"y\": 1.0, \"yanchor\": \"bottom\", \"yref\": \"paper\"}, {\"font\": {\"family\": \"Arial\", \"size\": 10}, \"showarrow\": false, \"text\": \"org:country_of_headquarters\", \"x\": 0.5, \"xanchor\": \"center\", \"xref\": \"paper\", \"y\": 1.0, \"yanchor\": \"bottom\", \"yref\": \"paper\"}, {\"font\": {\"family\": \"Arial\", \"size\": 10}, \"showarrow\": false, \"text\": \"per:parents\", \"x\": 0.708, \"xanchor\": \"center\", \"xref\": \"paper\", \"y\": 1.0, \"yanchor\": \"bottom\", \"yref\": \"paper\"}, {\"font\": {\"family\": \"Arial\", \"size\": 10}, \"showarrow\": false, \"text\": \"per:countries_of_residence\", \"x\": 0.9159999999999999, \"xanchor\": \"center\", \"xref\": \"paper\", \"y\": 1.0, \"yanchor\": \"bottom\", \"yref\": \"paper\"}, {\"font\": {\"family\": \"Arial\", \"size\": 10}, \"showarrow\": false, \"text\": \"per:charges\", \"x\": 0.08399999999999999, \"xanchor\": \"center\", \"xref\": \"paper\", \"y\": 0.8827160493827161, \"yanchor\": \"bottom\", \"yref\": \"paper\"}, {\"font\": {\"family\": \"Arial\", \"size\": 10}, \"showarrow\": false, \"text\": \"per:cities_of_residence\", \"x\": 0.292, \"xanchor\": \"center\", \"xref\": \"paper\", \"y\": 0.8827160493827161, \"yanchor\": \"bottom\", \"yref\": \"paper\"}, {\"font\": {\"family\": \"Arial\", \"size\": 10}, \"showarrow\": false, \"text\": \"per:origin\", \"x\": 0.5, \"xanchor\": \"center\", \"xref\": \"paper\", \"y\": 0.8827160493827161, \"yanchor\": \"bottom\", \"yref\": \"paper\"}, {\"font\": {\"family\": \"Arial\", \"size\": 10}, \"showarrow\": false, \"text\": \"per:siblings\", \"x\": 0.708, \"xanchor\": \"center\", \"xref\": \"paper\", \"y\": 0.8827160493827161, \"yanchor\": \"bottom\", \"yref\": \"paper\"}, {\"font\": {\"family\": \"Arial\", \"size\": 10}, \"showarrow\": false, \"text\": \"per:alternate_names\", \"x\": 0.9159999999999999, \"xanchor\": \"center\", \"xref\": \"paper\", \"y\": 0.8827160493827161, \"yanchor\": \"bottom\", \"yref\": \"paper\"}, {\"font\": {\"family\": \"Arial\", \"size\": 10}, \"showarrow\": false, \"text\": \"per:age\", \"x\": 0.08399999999999999, \"xanchor\": \"center\", \"xref\": \"paper\", \"y\": 0.7654320987654322, \"yanchor\": \"bottom\", \"yref\": \"paper\"}, {\"font\": {\"family\": \"Arial\", \"size\": 10}, \"showarrow\": false, \"text\": \"per:employee_of\", \"x\": 0.292, \"xanchor\": \"center\", \"xref\": \"paper\", \"y\": 0.7654320987654322, \"yanchor\": \"bottom\", \"yref\": \"paper\"}, {\"font\": {\"family\": \"Arial\", \"size\": 10}, \"showarrow\": false, \"text\": \"org:website\", \"x\": 0.5, \"xanchor\": \"center\", \"xref\": \"paper\", \"y\": 0.7654320987654322, \"yanchor\": \"bottom\", \"yref\": \"paper\"}, {\"font\": {\"family\": \"Arial\", \"size\": 10}, \"showarrow\": false, \"text\": \"per:children\", \"x\": 0.708, \"xanchor\": \"center\", \"xref\": \"paper\", \"y\": 0.7654320987654322, \"yanchor\": \"bottom\", \"yref\": \"paper\"}, {\"font\": {\"family\": \"Arial\", \"size\": 10}, \"showarrow\": false, \"text\": \"per:religion\", \"x\": 0.9159999999999999, \"xanchor\": \"center\", \"xref\": \"paper\", \"y\": 0.7654320987654322, \"yanchor\": \"bottom\", \"yref\": \"paper\"}, {\"font\": {\"family\": \"Arial\", \"size\": 10}, \"showarrow\": false, \"text\": \"per:stateorprovince_of_death\", \"x\": 0.08399999999999999, \"xanchor\": \"center\", \"xref\": \"paper\", \"y\": 0.6481481481481483, \"yanchor\": \"bottom\", \"yref\": \"paper\"}, {\"font\": {\"family\": \"Arial\", \"size\": 10}, \"showarrow\": false, \"text\": \"org:parents\", \"x\": 0.292, \"xanchor\": \"center\", \"xref\": \"paper\", \"y\": 0.6481481481481483, \"yanchor\": \"bottom\", \"yref\": \"paper\"}, {\"font\": {\"family\": \"Arial\", \"size\": 10}, \"showarrow\": false, \"text\": \"org:subsidiaries\", \"x\": 0.5, \"xanchor\": \"center\", \"xref\": \"paper\", \"y\": 0.6481481481481483, \"yanchor\": \"bottom\", \"yref\": \"paper\"}, {\"font\": {\"family\": \"Arial\", \"size\": 10}, \"showarrow\": false, \"text\": \"per:stateorprovinces_of_residence\", \"x\": 0.708, \"xanchor\": \"center\", \"xref\": \"paper\", \"y\": 0.6481481481481483, \"yanchor\": \"bottom\", \"yref\": \"paper\"}, {\"font\": {\"family\": \"Arial\", \"size\": 10}, \"showarrow\": false, \"text\": \"org:members\", \"x\": 0.9159999999999999, \"xanchor\": \"center\", \"xref\": \"paper\", \"y\": 0.6481481481481483, \"yanchor\": \"bottom\", \"yref\": \"paper\"}, {\"font\": {\"family\": \"Arial\", \"size\": 10}, \"showarrow\": false, \"text\": \"per:cause_of_death\", \"x\": 0.08399999999999999, \"xanchor\": \"center\", \"xref\": \"paper\", \"y\": 0.5308641975308642, \"yanchor\": \"bottom\", \"yref\": \"paper\"}, {\"font\": {\"family\": \"Arial\", \"size\": 10}, \"showarrow\": false, \"text\": \"org:member_of\", \"x\": 0.292, \"xanchor\": \"center\", \"xref\": \"paper\", \"y\": 0.5308641975308642, \"yanchor\": \"bottom\", \"yref\": \"paper\"}, {\"font\": {\"family\": \"Arial\", \"size\": 10}, \"showarrow\": false, \"text\": \"org:number_of_employees/members\", \"x\": 0.5, \"xanchor\": \"center\", \"xref\": \"paper\", \"y\": 0.5308641975308642, \"yanchor\": \"bottom\", \"yref\": \"paper\"}, {\"font\": {\"family\": \"Arial\", \"size\": 10}, \"showarrow\": false, \"text\": \"per:country_of_birth\", \"x\": 0.708, \"xanchor\": \"center\", \"xref\": \"paper\", \"y\": 0.5308641975308642, \"yanchor\": \"bottom\", \"yref\": \"paper\"}, {\"font\": {\"family\": \"Arial\", \"size\": 10}, \"showarrow\": false, \"text\": \"org:shareholders\", \"x\": 0.9159999999999999, \"xanchor\": \"center\", \"xref\": \"paper\", \"y\": 0.5308641975308642, \"yanchor\": \"bottom\", \"yref\": \"paper\"}, {\"font\": {\"family\": \"Arial\", \"size\": 10}, \"showarrow\": false, \"text\": \"org:founded_by\", \"x\": 0.08399999999999999, \"xanchor\": \"center\", \"xref\": \"paper\", \"y\": 0.41358024691358025, \"yanchor\": \"bottom\", \"yref\": \"paper\"}, {\"font\": {\"family\": \"Arial\", \"size\": 10}, \"showarrow\": false, \"text\": \"per:other_family\", \"x\": 0.292, \"xanchor\": \"center\", \"xref\": \"paper\", \"y\": 0.41358024691358025, \"yanchor\": \"bottom\", \"yref\": \"paper\"}, {\"font\": {\"family\": \"Arial\", \"size\": 10}, \"showarrow\": false, \"text\": \"org:stateorprovince_of_headquarters\", \"x\": 0.5, \"xanchor\": \"center\", \"xref\": \"paper\", \"y\": 0.41358024691358025, \"yanchor\": \"bottom\", \"yref\": \"paper\"}, {\"font\": {\"family\": \"Arial\", \"size\": 10}, \"showarrow\": false, \"text\": \"per:city_of_death\", \"x\": 0.708, \"xanchor\": \"center\", \"xref\": \"paper\", \"y\": 0.41358024691358025, \"yanchor\": \"bottom\", \"yref\": \"paper\"}, {\"font\": {\"family\": \"Arial\", \"size\": 10}, \"showarrow\": false, \"text\": \"org:alternate_names\", \"x\": 0.9159999999999999, \"xanchor\": \"center\", \"xref\": \"paper\", \"y\": 0.41358024691358025, \"yanchor\": \"bottom\", \"yref\": \"paper\"}, {\"font\": {\"family\": \"Arial\", \"size\": 10}, \"showarrow\": false, \"text\": \"per:spouse\", \"x\": 0.08399999999999999, \"xanchor\": \"center\", \"xref\": \"paper\", \"y\": 0.2962962962962963, \"yanchor\": \"bottom\", \"yref\": \"paper\"}, {\"font\": {\"family\": \"Arial\", \"size\": 10}, \"showarrow\": false, \"text\": \"per:date_of_death\", \"x\": 0.292, \"xanchor\": \"center\", \"xref\": \"paper\", \"y\": 0.2962962962962963, \"yanchor\": \"bottom\", \"yref\": \"paper\"}, {\"font\": {\"family\": \"Arial\", \"size\": 10}, \"showarrow\": false, \"text\": \"org:city_of_headquarters\", \"x\": 0.5, \"xanchor\": \"center\", \"xref\": \"paper\", \"y\": 0.2962962962962963, \"yanchor\": \"bottom\", \"yref\": \"paper\"}, {\"font\": {\"family\": \"Arial\", \"size\": 10}, \"showarrow\": false, \"text\": \"per:schools_attended\", \"x\": 0.708, \"xanchor\": \"center\", \"xref\": \"paper\", \"y\": 0.2962962962962963, \"yanchor\": \"bottom\", \"yref\": \"paper\"}, {\"font\": {\"family\": \"Arial\", \"size\": 10}, \"showarrow\": false, \"text\": \"org:political/religious_affiliation\", \"x\": 0.9159999999999999, \"xanchor\": \"center\", \"xref\": \"paper\", \"y\": 0.2962962962962963, \"yanchor\": \"bottom\", \"yref\": \"paper\"}, {\"font\": {\"family\": \"Arial\", \"size\": 10}, \"showarrow\": false, \"text\": \"per:date_of_birth\", \"x\": 0.08399999999999999, \"xanchor\": \"center\", \"xref\": \"paper\", \"y\": 0.17901234567901234, \"yanchor\": \"bottom\", \"yref\": \"paper\"}, {\"font\": {\"family\": \"Arial\", \"size\": 10}, \"showarrow\": false, \"text\": \"per:country_of_death\", \"x\": 0.292, \"xanchor\": \"center\", \"xref\": \"paper\", \"y\": 0.17901234567901234, \"yanchor\": \"bottom\", \"yref\": \"paper\"}, {\"font\": {\"family\": \"Arial\", \"size\": 10}, \"showarrow\": false, \"text\": \"org:founded\", \"x\": 0.5, \"xanchor\": \"center\", \"xref\": \"paper\", \"y\": 0.17901234567901234, \"yanchor\": \"bottom\", \"yref\": \"paper\"}, {\"font\": {\"family\": \"Arial\", \"size\": 10}, \"showarrow\": false, \"text\": \"per:stateorprovince_of_birth\", \"x\": 0.708, \"xanchor\": \"center\", \"xref\": \"paper\", \"y\": 0.17901234567901234, \"yanchor\": \"bottom\", \"yref\": \"paper\"}, {\"font\": {\"family\": \"Arial\", \"size\": 10}, \"showarrow\": false, \"text\": \"per:city_of_birth\", \"x\": 0.9159999999999999, \"xanchor\": \"center\", \"xref\": \"paper\", \"y\": 0.17901234567901234, \"yanchor\": \"bottom\", \"yref\": \"paper\"}, {\"font\": {\"family\": \"Arial\", \"size\": 10}, \"showarrow\": false, \"text\": \"org:dissolved\", \"x\": 0.08399999999999999, \"xanchor\": \"center\", \"xref\": \"paper\", \"y\": 0.0617283950617284, \"yanchor\": \"bottom\", \"yref\": \"paper\"}], \"font\": {\"family\": \"Arial\", \"size\": 12}, \"height\": 2000, \"title\": {\"text\": \"UD: Path length to weighted number of false negatives\"}, \"width\": 2000, \"xaxis\": {\"anchor\": \"y\", \"domain\": [0.0, 0.16799999999999998]}, \"xaxis10\": {\"anchor\": \"y10\", \"domain\": [0.832, 1.0]}, \"xaxis11\": {\"anchor\": \"y11\", \"domain\": [0.0, 0.16799999999999998]}, \"xaxis12\": {\"anchor\": \"y12\", \"domain\": [0.208, 0.376]}, \"xaxis13\": {\"anchor\": \"y13\", \"domain\": [0.416, 0.584]}, \"xaxis14\": {\"anchor\": \"y14\", \"domain\": [0.624, 0.792]}, \"xaxis15\": {\"anchor\": \"y15\", \"domain\": [0.832, 1.0]}, \"xaxis16\": {\"anchor\": \"y16\", \"domain\": [0.0, 0.16799999999999998]}, \"xaxis17\": {\"anchor\": \"y17\", \"domain\": [0.208, 0.376]}, \"xaxis18\": {\"anchor\": \"y18\", \"domain\": [0.416, 0.584]}, \"xaxis19\": {\"anchor\": \"y19\", \"domain\": [0.624, 0.792]}, \"xaxis2\": {\"anchor\": \"y2\", \"domain\": [0.208, 0.376]}, \"xaxis20\": {\"anchor\": \"y20\", \"domain\": [0.832, 1.0]}, \"xaxis21\": {\"anchor\": \"y21\", \"domain\": [0.0, 0.16799999999999998]}, \"xaxis22\": {\"anchor\": \"y22\", \"domain\": [0.208, 0.376]}, \"xaxis23\": {\"anchor\": \"y23\", \"domain\": [0.416, 0.584]}, \"xaxis24\": {\"anchor\": \"y24\", \"domain\": [0.624, 0.792]}, \"xaxis25\": {\"anchor\": \"y25\", \"domain\": [0.832, 1.0]}, \"xaxis26\": {\"anchor\": \"y26\", \"domain\": [0.0, 0.16799999999999998]}, \"xaxis27\": {\"anchor\": \"y27\", \"domain\": [0.208, 0.376]}, \"xaxis28\": {\"anchor\": \"y28\", \"domain\": [0.416, 0.584]}, \"xaxis29\": {\"anchor\": \"y29\", \"domain\": [0.624, 0.792]}, \"xaxis3\": {\"anchor\": \"y3\", \"domain\": [0.416, 0.584]}, \"xaxis30\": {\"anchor\": \"y30\", \"domain\": [0.832, 1.0]}, \"xaxis31\": {\"anchor\": \"y31\", \"domain\": [0.0, 0.16799999999999998]}, \"xaxis32\": {\"anchor\": \"y32\", \"domain\": [0.208, 0.376]}, \"xaxis33\": {\"anchor\": \"y33\", \"domain\": [0.416, 0.584]}, \"xaxis34\": {\"anchor\": \"y34\", \"domain\": [0.624, 0.792]}, \"xaxis35\": {\"anchor\": \"y35\", \"domain\": [0.832, 1.0]}, \"xaxis36\": {\"anchor\": \"y36\", \"domain\": [0.0, 0.16799999999999998]}, \"xaxis37\": {\"anchor\": \"y37\", \"domain\": [0.208, 0.376]}, \"xaxis38\": {\"anchor\": \"y38\", \"domain\": [0.416, 0.584]}, \"xaxis39\": {\"anchor\": \"y39\", \"domain\": [0.624, 0.792]}, \"xaxis4\": {\"anchor\": \"y4\", \"domain\": [0.624, 0.792]}, \"xaxis40\": {\"anchor\": \"y40\", \"domain\": [0.832, 1.0]}, \"xaxis41\": {\"anchor\": \"y41\", \"domain\": [0.0, 0.16799999999999998]}, \"xaxis42\": {\"anchor\": \"y42\", \"domain\": [0.208, 0.376]}, \"xaxis43\": {\"anchor\": \"y43\", \"domain\": [0.416, 0.584]}, \"xaxis44\": {\"anchor\": \"y44\", \"domain\": [0.624, 0.792]}, \"xaxis45\": {\"anchor\": \"y45\", \"domain\": [0.832, 1.0]}, \"xaxis5\": {\"anchor\": \"y5\", \"domain\": [0.832, 1.0]}, \"xaxis6\": {\"anchor\": \"y6\", \"domain\": [0.0, 0.16799999999999998]}, \"xaxis7\": {\"anchor\": \"y7\", \"domain\": [0.208, 0.376]}, \"xaxis8\": {\"anchor\": \"y8\", \"domain\": [0.416, 0.584]}, \"xaxis9\": {\"anchor\": \"y9\", \"domain\": [0.624, 0.792]}, \"yaxis\": {\"anchor\": \"x\", \"domain\": [0.9382716049382716, 1.0]}, \"yaxis10\": {\"anchor\": \"x10\", \"domain\": [0.8209876543209876, 0.8827160493827161]}, \"yaxis11\": {\"anchor\": \"x11\", \"domain\": [0.7037037037037037, 0.7654320987654322]}, \"yaxis12\": {\"anchor\": \"x12\", \"domain\": [0.7037037037037037, 0.7654320987654322]}, \"yaxis13\": {\"anchor\": \"x13\", \"domain\": [0.7037037037037037, 0.7654320987654322]}, \"yaxis14\": {\"anchor\": \"x14\", \"domain\": [0.7037037037037037, 0.7654320987654322]}, \"yaxis15\": {\"anchor\": \"x15\", \"domain\": [0.7037037037037037, 0.7654320987654322]}, \"yaxis16\": {\"anchor\": \"x16\", \"domain\": [0.5864197530864198, 0.6481481481481483]}, \"yaxis17\": {\"anchor\": \"x17\", \"domain\": [0.5864197530864198, 0.6481481481481483]}, \"yaxis18\": {\"anchor\": \"x18\", \"domain\": [0.5864197530864198, 0.6481481481481483]}, \"yaxis19\": {\"anchor\": \"x19\", \"domain\": [0.5864197530864198, 0.6481481481481483]}, \"yaxis2\": {\"anchor\": \"x2\", \"domain\": [0.9382716049382716, 1.0]}, \"yaxis20\": {\"anchor\": \"x20\", \"domain\": [0.5864197530864198, 0.6481481481481483]}, \"yaxis21\": {\"anchor\": \"x21\", \"domain\": [0.4691358024691358, 0.5308641975308642]}, \"yaxis22\": {\"anchor\": \"x22\", \"domain\": [0.4691358024691358, 0.5308641975308642]}, \"yaxis23\": {\"anchor\": \"x23\", \"domain\": [0.4691358024691358, 0.5308641975308642]}, \"yaxis24\": {\"anchor\": \"x24\", \"domain\": [0.4691358024691358, 0.5308641975308642]}, \"yaxis25\": {\"anchor\": \"x25\", \"domain\": [0.4691358024691358, 0.5308641975308642]}, \"yaxis26\": {\"anchor\": \"x26\", \"domain\": [0.35185185185185186, 0.41358024691358025]}, \"yaxis27\": {\"anchor\": \"x27\", \"domain\": [0.35185185185185186, 0.41358024691358025]}, \"yaxis28\": {\"anchor\": \"x28\", \"domain\": [0.35185185185185186, 0.41358024691358025]}, \"yaxis29\": {\"anchor\": \"x29\", \"domain\": [0.35185185185185186, 0.41358024691358025]}, \"yaxis3\": {\"anchor\": \"x3\", \"domain\": [0.9382716049382716, 1.0]}, \"yaxis30\": {\"anchor\": \"x30\", \"domain\": [0.35185185185185186, 0.41358024691358025]}, \"yaxis31\": {\"anchor\": \"x31\", \"domain\": [0.2345679012345679, 0.2962962962962963]}, \"yaxis32\": {\"anchor\": \"x32\", \"domain\": [0.2345679012345679, 0.2962962962962963]}, \"yaxis33\": {\"anchor\": \"x33\", \"domain\": [0.2345679012345679, 0.2962962962962963]}, \"yaxis34\": {\"anchor\": \"x34\", \"domain\": [0.2345679012345679, 0.2962962962962963]}, \"yaxis35\": {\"anchor\": \"x35\", \"domain\": [0.2345679012345679, 0.2962962962962963]}, \"yaxis36\": {\"anchor\": \"x36\", \"domain\": [0.11728395061728394, 0.17901234567901234]}, \"yaxis37\": {\"anchor\": \"x37\", \"domain\": [0.11728395061728394, 0.17901234567901234]}, \"yaxis38\": {\"anchor\": \"x38\", \"domain\": [0.11728395061728394, 0.17901234567901234]}, \"yaxis39\": {\"anchor\": \"x39\", \"domain\": [0.11728395061728394, 0.17901234567901234]}, \"yaxis4\": {\"anchor\": \"x4\", \"domain\": [0.9382716049382716, 1.0]}, \"yaxis40\": {\"anchor\": \"x40\", \"domain\": [0.11728395061728394, 0.17901234567901234]}, \"yaxis41\": {\"anchor\": \"x41\", \"domain\": [0.0, 0.0617283950617284]}, \"yaxis42\": {\"anchor\": \"x42\", \"domain\": [0.0, 0.0617283950617284]}, \"yaxis43\": {\"anchor\": \"x43\", \"domain\": [0.0, 0.0617283950617284]}, \"yaxis44\": {\"anchor\": \"x44\", \"domain\": [0.0, 0.0617283950617284]}, \"yaxis45\": {\"anchor\": \"x45\", \"domain\": [0.0, 0.0617283950617284]}, \"yaxis5\": {\"anchor\": \"x5\", \"domain\": [0.9382716049382716, 1.0]}, \"yaxis6\": {\"anchor\": \"x6\", \"domain\": [0.8209876543209876, 0.8827160493827161]}, \"yaxis7\": {\"anchor\": \"x7\", \"domain\": [0.8209876543209876, 0.8827160493827161]}, \"yaxis8\": {\"anchor\": \"x8\", \"domain\": [0.8209876543209876, 0.8827160493827161]}, \"yaxis9\": {\"anchor\": \"x9\", \"domain\": [0.8209876543209876, 0.8827160493827161]}},\n",
       "                        {\"plotlyServerURL\": \"https://plot.ly\", \"responsive\": true}\n",
       "                    ).then(function(){\n",
       "                            \n",
       "var gd = document.getElementById('934f6223-3c44-4930-a0e5-2d57dad291f4');\n",
       "var x = new MutationObserver(function (mutations, observer) {{\n",
       "        var display = window.getComputedStyle(gd).display;\n",
       "        if (!display || display === 'none') {{\n",
       "            console.log([gd, 'removed!']);\n",
       "            Plotly.purge(gd);\n",
       "            observer.disconnect();\n",
       "        }}\n",
       "}});\n",
       "\n",
       "// Listen for the removal of the full notebook cells\n",
       "var notebookContainer = gd.closest('#notebook-container');\n",
       "if (notebookContainer) {{\n",
       "    x.observe(notebookContainer, {childList: true});\n",
       "}}\n",
       "\n",
       "// Listen for the clearing of the current output cell\n",
       "var outputEl = gd.closest('.output');\n",
       "if (outputEl) {{\n",
       "    x.observe(outputEl, {childList: true});\n",
       "}}\n",
       "\n",
       "                        })\n",
       "                };\n",
       "                });\n",
       "            </script>\n",
       "        </div>"
      ]
     },
     "metadata": {},
     "output_type": "display_data"
    }
   ],
   "source": [
    "for ind, relation in enumerate(relations):\n",
    "    \n",
    "    row_num, column_num = divmod(ind,num_columns)\n",
    "    \n",
    "    column_num += 1\n",
    "    row_num +=1 \n",
    "    \n",
    "    \n",
    "    relation_to_fn_stat = relation_to_fn_stats[relation]\n",
    "    \n",
    "    \n",
    "    fig.add_trace(\n",
    "        go.Scatter(\n",
    "            x=list(relation_to_fn_stat.keys()),\n",
    "            y=list(relation_to_fn_stat.values()),\n",
    "            name=relation),\n",
    "        row=row_num, \n",
    "        col=column_num)\n",
    "\n",
    "\n",
    "for i in fig['layout']['annotations']:\n",
    "    i['font'] = dict(family=\"Arial\", size=10)\n",
    "\n",
    "    \n",
    "\n",
    "fig.show()\n",
    "    "
   ]
  },
  {
   "cell_type": "code",
   "execution_count": null,
   "metadata": {},
   "outputs": [],
   "source": []
  }
 ],
 "metadata": {
  "kernelspec": {
   "display_name": "Python 3",
   "language": "python",
   "name": "python3"
  },
  "language_info": {
   "codemirror_mode": {
    "name": "ipython",
    "version": 3
   },
   "file_extension": ".py",
   "mimetype": "text/x-python",
   "name": "python",
   "nbconvert_exporter": "python",
   "pygments_lexer": "ipython3",
   "version": "3.7.6"
  }
 },
 "nbformat": 4,
 "nbformat_minor": 2
}
