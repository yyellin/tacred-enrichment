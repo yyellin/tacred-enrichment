{
 "cells": [
  {
   "cell_type": "code",
   "execution_count": 1,
   "metadata": {},
   "outputs": [
    {
     "data": {
      "text/html": [
       "        <script type=\"text/javascript\">\n",
       "        window.PlotlyConfig = {MathJaxConfig: 'local'};\n",
       "        if (window.MathJax) {MathJax.Hub.Config({SVG: {font: \"STIX-Web\"}});}\n",
       "        if (typeof require !== 'undefined') {\n",
       "        require.undef(\"plotly\");\n",
       "        requirejs.config({\n",
       "            paths: {\n",
       "                'plotly': ['https://cdn.plot.ly/plotly-latest.min']\n",
       "            }\n",
       "        });\n",
       "        require(['plotly'], function(Plotly) {\n",
       "            window._Plotly = Plotly;\n",
       "        });\n",
       "        }\n",
       "        </script>\n",
       "        "
      ]
     },
     "metadata": {},
     "output_type": "display_data"
    }
   ],
   "source": [
    "from _plotly_future_ import v4_subplots\n",
    "from plotly.offline import download_plotlyjs, init_notebook_mode, plot, iplot\n",
    "from plotly.subplots import make_subplots\n",
    "import plotly.graph_objs as go\n",
    "\n",
    "init_notebook_mode(connected=True)"
   ]
  },
  {
   "cell_type": "code",
   "execution_count": 2,
   "metadata": {},
   "outputs": [],
   "source": [
    "batches = [1, 2, 3, 4, 5, 6, 7]\n",
    "filter_lengths = ['6f', '7f', '8f', '9f', '10f', '11f', '12f', '13f', '14f', 'nofilter']"
   ]
  },
  {
   "cell_type": "code",
   "execution_count": 3,
   "metadata": {},
   "outputs": [],
   "source": [
    "import pandas\n",
    "\n",
    "results = {}\n",
    "\n",
    "for filter_length in filter_lengths:\n",
    "    \n",
    "    file_name = filter_length\n",
    "    if file_name != 'nofilter':\n",
    "        file_name = file_name[:-1]\n",
    "    \n",
    "    all_batches = []\n",
    "    \n",
    "    for batch in batches:\n",
    "        \n",
    "        file_path = r'C:\\Users\\JYellin\\re_1\\tacred\\analysis\\filtering-by-path-length\\results\\batch{}-{}.csv'.format(batch, file_name)\n",
    "        df = pandas.read_csv(file_path).sort_values(['count'], ascending=[False])\n",
    "        \n",
    "        all_batches.append(df)\n",
    "        \n",
    "    results[filter_length] = pandas.concat(all_batches)\n",
    "    \n"
   ]
  },
  {
   "cell_type": "code",
   "execution_count": 4,
   "metadata": {},
   "outputs": [],
   "source": [
    "average_results = {}\n",
    "\n",
    "for filter_length in filter_lengths:\n",
    "    \n",
    "    result = results[filter_length].groupby('relation').mean().sort_values(['count'], ascending=[False])\n",
    "    \n",
    "    result.rename(columns={\n",
    "        'precision' : 'precision-{}'.format(filter_length),\n",
    "        'recall' : 'recall-{}'.format(filter_length),\n",
    "        'f1' : 'f1-{}'.format(filter_length),\n",
    "    }, inplace=True)\n",
    "    \n",
    "    #result.drop(columns=['count'], inplace=True)\n",
    "    \n",
    "    average_results[filter_length] = result\n",
    "    "
   ]
  },
  {
   "cell_type": "code",
   "execution_count": 5,
   "metadata": {},
   "outputs": [],
   "source": [
    "results_table = pandas.concat(average_results, axis=1)"
   ]
  },
  {
   "cell_type": "code",
   "execution_count": 6,
   "metadata": {},
   "outputs": [],
   "source": [
    "train = pandas.read_json(r'C:\\Users\\JYellin\\re_1\\tacred\\data\\json-enhanced\\train.json')\n",
    "dev = pandas.read_json(r'C:\\Users\\JYellin\\re_1\\tacred\\data\\json-enhanced\\dev.json')\n",
    "data = pandas.concat([train,dev])\n",
    "\n",
    "relations_count = data.groupby(['relation'])['id'].count().reset_index().rename(columns={'id': 'total'}).set_index(['relation'])\n",
    "relations_count_dict = relations_count.to_dict()['total']\n",
    "del relations_count_dict['no_relation']\n",
    "\n",
    "relations_count_dict['total'] = sum(relations_count_dict.values())"
   ]
  },
  {
   "cell_type": "code",
   "execution_count": 7,
   "metadata": {},
   "outputs": [],
   "source": [
    "#relations = results_table['6f']['precision-6f'].index.tolist()\n",
    "#counts = results_table['6f']['count'].tolist()\n",
    "#titles = ['{} ({})'.format(relation, count) for relation, count in zip(relations,counts)]\n",
    "\n",
    "relations = sorted(relations_count_dict, key=relations_count_dict.get, reverse=True) \n",
    "titles = ['{} ({:,})'.format(relation, relations_count_dict[relation]) for relation in relations]\n"
   ]
  },
  {
   "cell_type": "code",
   "execution_count": 8,
   "metadata": {},
   "outputs": [],
   "source": [
    "import math\n",
    "num_columns = 3\n",
    "num_rows = math.ceil(len(relations)/num_columns)"
   ]
  },
  {
   "cell_type": "code",
   "execution_count": 9,
   "metadata": {},
   "outputs": [
    {
     "data": {
      "application/vnd.plotly.v1+json": {
       "config": {
        "plotlyServerURL": "https://plot.ly"
       },
       "data": [
        {
         "line": {
          "color": "#CCEBC5"
         },
         "name": "total precision",
         "type": "scatter",
         "uid": "ec5a3bd3-f56a-45cb-bc83-8fd61a3e950e",
         "x": [
          "6f",
          "7f",
          "8f",
          "9f",
          "10f",
          "11f",
          "12f",
          "13f",
          "14f",
          "nofilter"
         ],
         "xaxis": "x",
         "y": [
          0.6768285714285714,
          0.6920285714285714,
          0.6807428571428572,
          0.6996428571428571,
          0.7022285714285715,
          0.6898142857142858,
          0.7007285714285715,
          0.7092428571428571,
          0.7130714285714286,
          0.7066
         ],
         "yaxis": "y"
        },
        {
         "line": {
          "color": "#BC80BD"
         },
         "name": "total recall",
         "type": "scatter",
         "uid": "f3bf28b2-1d44-4ab8-a30d-1dcf2ceac308",
         "x": [
          "6f",
          "7f",
          "8f",
          "9f",
          "10f",
          "11f",
          "12f",
          "13f",
          "14f",
          "nofilter"
         ],
         "xaxis": "x",
         "y": [
          0.6339142857142858,
          0.6417571428571428,
          0.6595285714285714,
          0.6466,
          0.6360142857142856,
          0.6441142857142858,
          0.6375142857142857,
          0.6300714285714285,
          0.6275285714285715,
          0.6342142857142857
         ],
         "yaxis": "y"
        },
        {
         "line": {
          "color": "#FCCDE5"
         },
         "name": "total f1",
         "type": "scatter",
         "uid": "c7998d3b-5bd5-4d20-adb0-9db5d3f0525f",
         "x": [
          "6f",
          "7f",
          "8f",
          "9f",
          "10f",
          "11f",
          "12f",
          "13f",
          "14f",
          "nofilter"
         ],
         "xaxis": "x",
         "y": [
          0.6545714285714287,
          0.6658999999999999,
          0.6698428571428572,
          0.6720571428571429,
          0.6674428571428571,
          0.6661714285714285,
          0.6675571428571427,
          0.6672285714285715,
          0.6676000000000001,
          0.6683857142857142
         ],
         "yaxis": "y"
        },
        {
         "line": {
          "color": "#CCEBC5"
         },
         "name": "per:title precision",
         "type": "scatter",
         "uid": "aa3965c4-e9b9-40a6-9e30-53c146933d69",
         "x": [
          "6f",
          "7f",
          "8f",
          "9f",
          "10f",
          "11f",
          "12f",
          "13f",
          "14f",
          "nofilter"
         ],
         "xaxis": "x2",
         "y": [
          0.802242857142857,
          0.8246714285714286,
          0.8081857142857142,
          0.8364714285714285,
          0.8071857142857143,
          0.8287142857142857,
          0.8160857142857143,
          0.8175857142857144,
          0.8336,
          0.8290428571428573
         ],
         "yaxis": "y2"
        },
        {
         "line": {
          "color": "#BC80BD"
         },
         "name": "per:title recall",
         "type": "scatter",
         "uid": "25e4a4c7-f369-46ed-a602-e0e15a54d392",
         "x": [
          "6f",
          "7f",
          "8f",
          "9f",
          "10f",
          "11f",
          "12f",
          "13f",
          "14f",
          "nofilter"
         ],
         "xaxis": "x2",
         "y": [
          0.8102857142857143,
          0.8042857142857143,
          0.838,
          0.7925714285714286,
          0.8305714285714284,
          0.8077142857142856,
          0.812,
          0.8211428571428572,
          0.8051428571428573,
          0.808
         ],
         "yaxis": "y2"
        },
        {
         "line": {
          "color": "#FCCDE5"
         },
         "name": "per:title f1",
         "type": "scatter",
         "uid": "7eb8e0be-c826-4edc-83c6-03d4b34208d8",
         "x": [
          "6f",
          "7f",
          "8f",
          "9f",
          "10f",
          "11f",
          "12f",
          "13f",
          "14f",
          "nofilter"
         ],
         "xaxis": "x2",
         "y": [
          0.8057,
          0.8142142857142858,
          0.822757142857143,
          0.8137999999999999,
          0.8186714285714286,
          0.8179857142857143,
          0.8139428571428572,
          0.8191857142857142,
          0.8190428571428571,
          0.8182857142857144
         ],
         "yaxis": "y2"
        },
        {
         "line": {
          "color": "#CCEBC5"
         },
         "name": "org:top_members/employees precision",
         "type": "scatter",
         "uid": "3369f4ab-a969-490b-8727-67ffe52c49ca",
         "x": [
          "6f",
          "7f",
          "8f",
          "9f",
          "10f",
          "11f",
          "12f",
          "13f",
          "14f",
          "nofilter"
         ],
         "xaxis": "x3",
         "y": [
          0.6959571428571428,
          0.7318714285714286,
          0.7258285714285714,
          0.7220571428571427,
          0.7324285714285714,
          0.7186000000000001,
          0.7234285714285714,
          0.7144142857142857,
          0.7215428571428572,
          0.7158142857142857
         ],
         "yaxis": "y3"
        },
        {
         "line": {
          "color": "#BC80BD"
         },
         "name": "org:top_members/employees recall",
         "type": "scatter",
         "uid": "10385b72-baab-4639-b82a-d646efe18207",
         "x": [
          "6f",
          "7f",
          "8f",
          "9f",
          "10f",
          "11f",
          "12f",
          "13f",
          "14f",
          "nofilter"
         ],
         "xaxis": "x3",
         "y": [
          0.827,
          0.7981,
          0.8121285714285714,
          0.8104857142857143,
          0.8113142857142857,
          0.8170857142857143,
          0.8179285714285714,
          0.8133714285714285,
          0.8117142857142856,
          0.8220428571428571
         ],
         "yaxis": "y3"
        },
        {
         "line": {
          "color": "#FCCDE5"
         },
         "name": "org:top_members/employees f1",
         "type": "scatter",
         "uid": "cb1ec215-3031-45e2-b60c-bbae5e271a7b",
         "x": [
          "6f",
          "7f",
          "8f",
          "9f",
          "10f",
          "11f",
          "12f",
          "13f",
          "14f",
          "nofilter"
         ],
         "xaxis": "x3",
         "y": [
          0.7554571428571428,
          0.7634857142857142,
          0.7664285714285715,
          0.7635571428571428,
          0.7696285714285714,
          0.7642571428571429,
          0.7676428571428572,
          0.760542857142857,
          0.7638285714285714,
          0.7651428571428571
         ],
         "yaxis": "y3"
        },
        {
         "line": {
          "color": "#CCEBC5"
         },
         "name": "per:employee_of precision",
         "type": "scatter",
         "uid": "628f6837-6b71-4e55-877d-20180f27fa78",
         "x": [
          "6f",
          "7f",
          "8f",
          "9f",
          "10f",
          "11f",
          "12f",
          "13f",
          "14f",
          "nofilter"
         ],
         "xaxis": "x4",
         "y": [
          0.6481857142857143,
          0.6624428571428572,
          0.6446571428571428,
          0.6764428571428571,
          0.6666285714285713,
          0.6777857142857143,
          0.6895285714285714,
          0.6739428571428572,
          0.6902857142857144,
          0.6886857142857142
         ],
         "yaxis": "y4"
        },
        {
         "line": {
          "color": "#BC80BD"
         },
         "name": "per:employee_of recall",
         "type": "scatter",
         "uid": "4851302c-8f22-4d76-b0f2-ba3a46aa6551",
         "x": [
          "6f",
          "7f",
          "8f",
          "9f",
          "10f",
          "11f",
          "12f",
          "13f",
          "14f",
          "nofilter"
         ],
         "xaxis": "x4",
         "y": [
          0.6661142857142857,
          0.6450285714285714,
          0.6807285714285715,
          0.6564,
          0.649357142857143,
          0.6498714285714284,
          0.6304,
          0.671,
          0.6282428571428572,
          0.6363714285714285
         ],
         "yaxis": "y4"
        },
        {
         "line": {
          "color": "#FCCDE5"
         },
         "name": "per:employee_of f1",
         "type": "scatter",
         "uid": "412adf2c-94d5-4fee-b533-80960caef43c",
         "x": [
          "6f",
          "7f",
          "8f",
          "9f",
          "10f",
          "11f",
          "12f",
          "13f",
          "14f",
          "nofilter"
         ],
         "xaxis": "x4",
         "y": [
          0.6566857142857143,
          0.6525,
          0.6611,
          0.6660285714285715,
          0.6574571428571429,
          0.6632571428571428,
          0.6583428571428571,
          0.6722714285714285,
          0.6570857142857143,
          0.6607571428571427
         ],
         "yaxis": "y4"
        },
        {
         "line": {
          "color": "#CCEBC5"
         },
         "name": "org:alternate_names precision",
         "type": "scatter",
         "uid": "d5620869-9426-4256-aed2-5b96b1cff352",
         "x": [
          "6f",
          "7f",
          "8f",
          "9f",
          "10f",
          "11f",
          "12f",
          "13f",
          "14f",
          "nofilter"
         ],
         "xaxis": "x5",
         "y": [
          0.7529714285714285,
          0.7627,
          0.7560857142857144,
          0.7631428571428572,
          0.7563714285714287,
          0.7655000000000001,
          0.7644285714285716,
          0.7638571428571429,
          0.7590142857142856,
          0.7573857142857143
         ],
         "yaxis": "y5"
        },
        {
         "line": {
          "color": "#BC80BD"
         },
         "name": "org:alternate_names recall",
         "type": "scatter",
         "uid": "aea2976b-f5d9-4a59-bffe-8c0e74cdbdda",
         "x": [
          "6f",
          "7f",
          "8f",
          "9f",
          "10f",
          "11f",
          "12f",
          "13f",
          "14f",
          "nofilter"
         ],
         "xaxis": "x5",
         "y": [
          0.8296571428571428,
          0.8296571428571429,
          0.8357,
          0.829657142857143,
          0.8242857142857142,
          0.8229428571428572,
          0.8269714285714286,
          0.8242857142857142,
          0.8316714285714285,
          0.8249571428571427
         ],
         "yaxis": "y5"
        },
        {
         "line": {
          "color": "#FCCDE5"
         },
         "name": "org:alternate_names f1",
         "type": "scatter",
         "uid": "5cbc5760-8908-41ed-8f17-b2b9e1eee099",
         "x": [
          "6f",
          "7f",
          "8f",
          "9f",
          "10f",
          "11f",
          "12f",
          "13f",
          "14f",
          "nofilter"
         ],
         "xaxis": "x5",
         "y": [
          0.7894,
          0.7947428571428572,
          0.7937428571428571,
          0.7949999999999999,
          0.7888571428571428,
          0.793142857142857,
          0.7944571428571431,
          0.7929142857142857,
          0.7936142857142857,
          0.7897142857142857
         ],
         "yaxis": "y5"
        },
        {
         "line": {
          "color": "#CCEBC5"
         },
         "name": "per:countries_of_residence precision",
         "type": "scatter",
         "uid": "1521cbbe-b9f3-4a27-8191-f55616adc93e",
         "x": [
          "6f",
          "7f",
          "8f",
          "9f",
          "10f",
          "11f",
          "12f",
          "13f",
          "14f",
          "nofilter"
         ],
         "xaxis": "x6",
         "y": [
          0.549142857142857,
          0.5507857142857143,
          0.4984857142857143,
          0.5471714285714285,
          0.5580571428571428,
          0.5204857142857143,
          0.5441142857142858,
          0.5491714285714285,
          0.5485714285714286,
          0.5371571428571428
         ],
         "yaxis": "y6"
        },
        {
         "line": {
          "color": "#BC80BD"
         },
         "name": "per:countries_of_residence recall",
         "type": "scatter",
         "uid": "abb5e562-359b-44d6-9956-c92bc0e285ca",
         "x": [
          "6f",
          "7f",
          "8f",
          "9f",
          "10f",
          "11f",
          "12f",
          "13f",
          "14f",
          "nofilter"
         ],
         "xaxis": "x6",
         "y": [
          0.4768428571428572,
          0.5299285714285714,
          0.5434285714285715,
          0.4758571428571429,
          0.4112,
          0.5193000000000001,
          0.4642571428571428,
          0.45367142857142856,
          0.4198857142857143,
          0.4430428571428571
         ],
         "yaxis": "y6"
        },
        {
         "line": {
          "color": "#FCCDE5"
         },
         "name": "per:countries_of_residence f1",
         "type": "scatter",
         "uid": "17cf1352-81a1-4747-b8bc-878e28a7ba88",
         "x": [
          "6f",
          "7f",
          "8f",
          "9f",
          "10f",
          "11f",
          "12f",
          "13f",
          "14f",
          "nofilter"
         ],
         "xaxis": "x6",
         "y": [
          0.5098857142857143,
          0.5392571428571428,
          0.5184571428571428,
          0.5084,
          0.4729285714285714,
          0.5181571428571429,
          0.5004,
          0.4961428571428571,
          0.4754285714285715,
          0.48448571428571435
         ],
         "yaxis": "y6"
        },
        {
         "line": {
          "color": "#CCEBC5"
         },
         "name": "org:country_of_headquarters precision",
         "type": "scatter",
         "uid": "6c3714a8-b4cd-4ae4-9340-5d1ae5620443",
         "x": [
          "6f",
          "7f",
          "8f",
          "9f",
          "10f",
          "11f",
          "12f",
          "13f",
          "14f",
          "nofilter"
         ],
         "xaxis": "x7",
         "y": [
          0.5959571428571427,
          0.6326999999999999,
          0.5706428571428571,
          0.6771,
          0.6503714285714286,
          0.5983428571428571,
          0.6661857142857144,
          0.6738714285714286,
          0.6818142857142858,
          0.6605714285714285
         ],
         "yaxis": "y7"
        },
        {
         "line": {
          "color": "#BC80BD"
         },
         "name": "org:country_of_headquarters recall",
         "type": "scatter",
         "uid": "6d7fb318-62c9-4908-83c1-3c96d9968541",
         "x": [
          "6f",
          "7f",
          "8f",
          "9f",
          "10f",
          "11f",
          "12f",
          "13f",
          "14f",
          "nofilter"
         ],
         "xaxis": "x7",
         "y": [
          0.37829999999999997,
          0.3373,
          0.3954857142857143,
          0.3439285714285715,
          0.30424285714285715,
          0.3756714285714286,
          0.32935714285714285,
          0.32275714285714285,
          0.3068857142857143,
          0.31348571428571426
         ],
         "yaxis": "y7"
        },
        {
         "line": {
          "color": "#FCCDE5"
         },
         "name": "org:country_of_headquarters f1",
         "type": "scatter",
         "uid": "9edf320e-519d-432d-8c80-54187ffaf4fd",
         "x": [
          "6f",
          "7f",
          "8f",
          "9f",
          "10f",
          "11f",
          "12f",
          "13f",
          "14f",
          "nofilter"
         ],
         "xaxis": "x7",
         "y": [
          0.45962857142857144,
          0.43894285714285713,
          0.46544285714285716,
          0.4556142857142857,
          0.41355714285714285,
          0.4603428571428571,
          0.4402142857142857,
          0.4362142857142857,
          0.4219857142857143,
          0.4243285714285715
         ],
         "yaxis": "y7"
        },
        {
         "line": {
          "color": "#CCEBC5"
         },
         "name": "per:age precision",
         "type": "scatter",
         "uid": "1753de06-f47f-42eb-8965-fe6a96fdbbb6",
         "x": [
          "6f",
          "7f",
          "8f",
          "9f",
          "10f",
          "11f",
          "12f",
          "13f",
          "14f",
          "nofilter"
         ],
         "xaxis": "x8",
         "y": [
          0.8132857142857144,
          0.8036857142857142,
          0.8147428571428571,
          0.8343142857142858,
          0.8532857142857143,
          0.8208428571428572,
          0.8179857142857143,
          0.8631714285714285,
          0.8376142857142856,
          0.8337428571428571
         ],
         "yaxis": "y8"
        },
        {
         "line": {
          "color": "#BC80BD"
         },
         "name": "per:age recall",
         "type": "scatter",
         "uid": "fcbbaca7-078f-446d-973e-77c0725c4b70",
         "x": [
          "6f",
          "7f",
          "8f",
          "9f",
          "10f",
          "11f",
          "12f",
          "13f",
          "14f",
          "nofilter"
         ],
         "xaxis": "x8",
         "y": [
          0.9442857142857142,
          0.9485714285714286,
          0.9485714285714285,
          0.9507142857142856,
          0.9342857142857143,
          0.945,
          0.9435714285714285,
          0.9299999999999999,
          0.9378571428571428,
          0.9371428571428572
         ],
         "yaxis": "y8"
        },
        {
         "line": {
          "color": "#FCCDE5"
         },
         "name": "per:age f1",
         "type": "scatter",
         "uid": "b48bcecd-bc47-4bee-938e-70afe239ebd9",
         "x": [
          "6f",
          "7f",
          "8f",
          "9f",
          "10f",
          "11f",
          "12f",
          "13f",
          "14f",
          "nofilter"
         ],
         "xaxis": "x8",
         "y": [
          0.8736571428571429,
          0.8698857142857144,
          0.8760857142857142,
          0.8886000000000002,
          0.8917142857142857,
          0.8781428571428572,
          0.8759714285714285,
          0.8950428571428571,
          0.8848142857142857,
          0.882042857142857
         ],
         "yaxis": "y8"
        },
        {
         "line": {
          "color": "#CCEBC5"
         },
         "name": "per:cities_of_residence precision",
         "type": "scatter",
         "uid": "9da6c710-092b-4075-b8e9-481c22f18d36",
         "x": [
          "6f",
          "7f",
          "8f",
          "9f",
          "10f",
          "11f",
          "12f",
          "13f",
          "14f",
          "nofilter"
         ],
         "xaxis": "x9",
         "y": [
          0.5254428571428572,
          0.5514714285714286,
          0.5526,
          0.5600142857142857,
          0.5703857142857143,
          0.5475714285714285,
          0.5449428571428572,
          0.5768000000000001,
          0.5656142857142857,
          0.5803285714285715
         ],
         "yaxis": "y9"
        },
        {
         "line": {
          "color": "#BC80BD"
         },
         "name": "per:cities_of_residence recall",
         "type": "scatter",
         "uid": "a6d45ccd-9ebe-4ded-a265-c54ce083b857",
         "x": [
          "6f",
          "7f",
          "8f",
          "9f",
          "10f",
          "11f",
          "12f",
          "13f",
          "14f",
          "nofilter"
         ],
         "xaxis": "x9",
         "y": [
          0.5616,
          0.5419428571428571,
          0.5737,
          0.5631,
          0.5359,
          0.5449857142857143,
          0.563857142857143,
          0.5208142857142858,
          0.5185142857142857,
          0.5291
         ],
         "yaxis": "y9"
        },
        {
         "line": {
          "color": "#FCCDE5"
         },
         "name": "per:cities_of_residence f1",
         "type": "scatter",
         "uid": "2dc9f264-f6dc-4631-ae88-753ec987516d",
         "x": [
          "6f",
          "7f",
          "8f",
          "9f",
          "10f",
          "11f",
          "12f",
          "13f",
          "14f",
          "nofilter"
         ],
         "xaxis": "x9",
         "y": [
          0.5422,
          0.546,
          0.5622142857142857,
          0.5604714285714285,
          0.5519571428571428,
          0.546,
          0.5539714285714286,
          0.5467571428571428,
          0.5406142857142856,
          0.5530142857142858
         ],
         "yaxis": "y9"
        },
        {
         "line": {
          "color": "#CCEBC5"
         },
         "name": "per:origin precision",
         "type": "scatter",
         "uid": "18cf39e7-3f7c-4240-acc3-23491026bafb",
         "x": [
          "6f",
          "7f",
          "8f",
          "9f",
          "10f",
          "11f",
          "12f",
          "13f",
          "14f",
          "nofilter"
         ],
         "xaxis": "x10",
         "y": [
          0.7196857142857143,
          0.6931857142857144,
          0.6856142857142856,
          0.6917571428571428,
          0.7077714285714286,
          0.6847,
          0.6977428571428572,
          0.7179285714285715,
          0.7165999999999999,
          0.6867571428571428
         ],
         "yaxis": "y10"
        },
        {
         "line": {
          "color": "#BC80BD"
         },
         "name": "per:origin recall",
         "type": "scatter",
         "uid": "2521d836-19b8-41e8-a590-190e4b1a9780",
         "x": [
          "6f",
          "7f",
          "8f",
          "9f",
          "10f",
          "11f",
          "12f",
          "13f",
          "14f",
          "nofilter"
         ],
         "xaxis": "x10",
         "y": [
          0.5876714285714285,
          0.6385428571428572,
          0.6385285714285713,
          0.6039,
          0.5833285714285713,
          0.5995857142857143,
          0.5963142857142857,
          0.5876714285714285,
          0.5876571428571429,
          0.6082285714285715
         ],
         "yaxis": "y10"
        },
        {
         "line": {
          "color": "#FCCDE5"
         },
         "name": "per:origin f1",
         "type": "scatter",
         "uid": "2ddb936b-13cd-4ea3-8f54-c278fef75ef1",
         "x": [
          "6f",
          "7f",
          "8f",
          "9f",
          "10f",
          "11f",
          "12f",
          "13f",
          "14f",
          "nofilter"
         ],
         "xaxis": "x10",
         "y": [
          0.6462285714285715,
          0.6639428571428571,
          0.6605714285714285,
          0.6439,
          0.6388142857142857,
          0.6381285714285714,
          0.6425000000000001,
          0.6455571428571429,
          0.6439285714285715,
          0.6440571428571429
         ],
         "yaxis": "y10"
        },
        {
         "line": {
          "color": "#CCEBC5"
         },
         "name": "org:city_of_headquarters precision",
         "type": "scatter",
         "uid": "1f9be118-f763-4304-af5b-0a8136f83c0b",
         "x": [
          "6f",
          "7f",
          "8f",
          "9f",
          "10f",
          "11f",
          "12f",
          "13f",
          "14f",
          "nofilter"
         ],
         "xaxis": "x11",
         "y": [
          0.7303,
          0.7526714285714284,
          0.7316142857142857,
          0.7264285714285715,
          0.789242857142857,
          0.7598,
          0.7462857142857143,
          0.7689000000000001,
          0.7745142857142857,
          0.7814142857142857
         ],
         "yaxis": "y11"
        },
        {
         "line": {
          "color": "#BC80BD"
         },
         "name": "org:city_of_headquarters recall",
         "type": "scatter",
         "uid": "c2ba11d0-5259-4326-bbe0-a79ead8d365e",
         "x": [
          "6f",
          "7f",
          "8f",
          "9f",
          "10f",
          "11f",
          "12f",
          "13f",
          "14f",
          "nofilter"
         ],
         "xaxis": "x11",
         "y": [
          0.6881285714285715,
          0.6829,
          0.7020714285714286,
          0.7212428571428572,
          0.6428428571428572,
          0.6881285714285715,
          0.6846428571428572,
          0.6393571428571428,
          0.6829142857142857,
          0.662
         ],
         "yaxis": "y11"
        },
        {
         "line": {
          "color": "#FCCDE5"
         },
         "name": "org:city_of_headquarters f1",
         "type": "scatter",
         "uid": "7dd83851-5b6b-43f7-a697-f060d0e5d156",
         "x": [
          "6f",
          "7f",
          "8f",
          "9f",
          "10f",
          "11f",
          "12f",
          "13f",
          "14f",
          "nofilter"
         ],
         "xaxis": "x11",
         "y": [
          0.7078714285714286,
          0.7157714285714284,
          0.7150857142857142,
          0.7228571428571428,
          0.7074428571428572,
          0.7218857142857142,
          0.7138285714285714,
          0.6974428571428571,
          0.725,
          0.7163571428571428
         ],
         "yaxis": "y11"
        },
        {
         "line": {
          "color": "#CCEBC5"
         },
         "name": "per:spouse precision",
         "type": "scatter",
         "uid": "37f2e381-9557-41ae-9cb1-db5aef9c7935",
         "x": [
          "6f",
          "7f",
          "8f",
          "9f",
          "10f",
          "11f",
          "12f",
          "13f",
          "14f",
          "nofilter"
         ],
         "xaxis": "x12",
         "y": [
          0.6348142857142857,
          0.5992571428571428,
          0.6161714285714285,
          0.6228285714285714,
          0.6289571428571429,
          0.5981428571428572,
          0.6364285714285715,
          0.6471,
          0.6325428571428571,
          0.5620428571428571
         ],
         "yaxis": "y12"
        },
        {
         "line": {
          "color": "#BC80BD"
         },
         "name": "per:spouse recall",
         "type": "scatter",
         "uid": "4c69bf08-9767-4363-bc69-14f1ab577a52",
         "x": [
          "6f",
          "7f",
          "8f",
          "9f",
          "10f",
          "11f",
          "12f",
          "13f",
          "14f",
          "nofilter"
         ],
         "xaxis": "x12",
         "y": [
          0.6948142857142857,
          0.7012999999999999,
          0.6991428571428572,
          0.722942857142857,
          0.7186285714285713,
          0.7186285714285713,
          0.6969714285714286,
          0.6883142857142858,
          0.7034714285714285,
          0.7229571428571427
         ],
         "yaxis": "y12"
        },
        {
         "line": {
          "color": "#FCCDE5"
         },
         "name": "per:spouse f1",
         "type": "scatter",
         "uid": "4fc3705e-db66-4d34-b11e-ecb11bfdee99",
         "x": [
          "6f",
          "7f",
          "8f",
          "9f",
          "10f",
          "11f",
          "12f",
          "13f",
          "14f",
          "nofilter"
         ],
         "xaxis": "x12",
         "y": [
          0.6616285714285715,
          0.6455857142857143,
          0.6546857142857142,
          0.6685285714285714,
          0.6695285714285715,
          0.6510714285714286,
          0.6648000000000002,
          0.6663857142857142,
          0.6649999999999999,
          0.6314714285714285
         ],
         "yaxis": "y12"
        },
        {
         "line": {
          "color": "#CCEBC5"
         },
         "name": "org:subsidiaries precision",
         "type": "scatter",
         "uid": "8c50204f-1e28-4454-924d-efd99e8036b2",
         "x": [
          "6f",
          "7f",
          "8f",
          "9f",
          "10f",
          "11f",
          "12f",
          "13f",
          "14f",
          "nofilter"
         ],
         "xaxis": "x13",
         "y": [
          0.5172428571428572,
          0.5257571428571428,
          0.5245428571428572,
          0.5313714285714286,
          0.4819714285714286,
          0.5929857142857143,
          0.5591571428571428,
          0.5266428571428572,
          0.5549857142857142,
          0.5381142857142857
         ],
         "yaxis": "y13"
        },
        {
         "line": {
          "color": "#BC80BD"
         },
         "name": "org:subsidiaries recall",
         "type": "scatter",
         "uid": "c5f6f51a-53db-4106-9934-4db79c8c9f9e",
         "x": [
          "6f",
          "7f",
          "8f",
          "9f",
          "10f",
          "11f",
          "12f",
          "13f",
          "14f",
          "nofilter"
         ],
         "xaxis": "x13",
         "y": [
          0.3474285714285715,
          0.29545714285714286,
          0.3376571428571428,
          0.3149285714285714,
          0.27597142857142853,
          0.3019428571428571,
          0.28895714285714286,
          0.3181857142857143,
          0.2727142857142857,
          0.3117142857142857
         ],
         "yaxis": "y13"
        },
        {
         "line": {
          "color": "#FCCDE5"
         },
         "name": "org:subsidiaries f1",
         "type": "scatter",
         "uid": "0f626717-e809-4151-a57e-22c22b327b5b",
         "x": [
          "6f",
          "7f",
          "8f",
          "9f",
          "10f",
          "11f",
          "12f",
          "13f",
          "14f",
          "nofilter"
         ],
         "xaxis": "x13",
         "y": [
          0.41108571428571433,
          0.3751857142857143,
          0.40997142857142854,
          0.39230000000000004,
          0.3479857142857143,
          0.39862857142857144,
          0.3790857142857143,
          0.39562857142857144,
          0.3571428571428571,
          0.3922
         ],
         "yaxis": "y13"
        },
        {
         "line": {
          "color": "#CCEBC5"
         },
         "name": "per:stateorprovinces_of_residence precision",
         "type": "scatter",
         "uid": "a6f524b6-dbeb-4508-87de-6022240f7b75",
         "x": [
          "6f",
          "7f",
          "8f",
          "9f",
          "10f",
          "11f",
          "12f",
          "13f",
          "14f",
          "nofilter"
         ],
         "xaxis": "x14",
         "y": [
          0.5438714285714286,
          0.5704,
          0.5576428571428572,
          0.5724,
          0.5989571428571427,
          0.5391285714285715,
          0.5631428571428572,
          0.6131142857142856,
          0.5815571428571429,
          0.5921428571428571
         ],
         "yaxis": "y14"
        },
        {
         "line": {
          "color": "#BC80BD"
         },
         "name": "per:stateorprovinces_of_residence recall",
         "type": "scatter",
         "uid": "970ec475-1948-49aa-8bec-a9c59320f40c",
         "x": [
          "6f",
          "7f",
          "8f",
          "9f",
          "10f",
          "11f",
          "12f",
          "13f",
          "14f",
          "nofilter"
         ],
         "xaxis": "x14",
         "y": [
          0.5467285714285713,
          0.5308571428571428,
          0.6261,
          0.5696714285714286,
          0.5132428571428571,
          0.5855428571428571,
          0.5079428571428571,
          0.4779714285714286,
          0.5555571428571429,
          0.5202857142857142
         ],
         "yaxis": "y14"
        },
        {
         "line": {
          "color": "#FCCDE5"
         },
         "name": "per:stateorprovinces_of_residence f1",
         "type": "scatter",
         "uid": "4e12e0ee-f2aa-4051-9940-135fc002a88f",
         "x": [
          "6f",
          "7f",
          "8f",
          "9f",
          "10f",
          "11f",
          "12f",
          "13f",
          "14f",
          "nofilter"
         ],
         "xaxis": "x14",
         "y": [
          0.5429714285714285,
          0.5487714285714286,
          0.5889142857142857,
          0.5704714285714286,
          0.551457142857143,
          0.5601428571428572,
          0.5336285714285713,
          0.5364571428571429,
          0.5680285714285714,
          0.5529857142857144
         ],
         "yaxis": "y14"
        },
        {
         "line": {
          "color": "#CCEBC5"
         },
         "name": "org:parents precision",
         "type": "scatter",
         "uid": "405e64b3-a15b-4a41-9840-b3e9bb429799",
         "x": [
          "6f",
          "7f",
          "8f",
          "9f",
          "10f",
          "11f",
          "12f",
          "13f",
          "14f",
          "nofilter"
         ],
         "xaxis": "x15",
         "y": [
          0.4342857142857143,
          0.3399714285714285,
          0.4210857142857143,
          0.3738857142857143,
          0.3576,
          0.43181428571428576,
          0.42102857142857136,
          0.39637142857142854,
          0.3616428571428571,
          0.41195714285714286
         ],
         "yaxis": "y15"
        },
        {
         "line": {
          "color": "#BC80BD"
         },
         "name": "org:parents recall",
         "type": "scatter",
         "uid": "b9c7bcb0-ff96-4b98-b229-e77c52b92b3a",
         "x": [
          "6f",
          "7f",
          "8f",
          "9f",
          "10f",
          "11f",
          "12f",
          "13f",
          "14f",
          "nofilter"
         ],
         "xaxis": "x15",
         "y": [
          0.106,
          0.13364285714285715,
          0.15205714285714286,
          0.15437142857142858,
          0.13364285714285715,
          0.21198571428571428,
          0.16358571428571428,
          0.1682,
          0.1106,
          0.1659
         ],
         "yaxis": "y15"
        },
        {
         "line": {
          "color": "#FCCDE5"
         },
         "name": "org:parents f1",
         "type": "scatter",
         "uid": "cc47d7e7-1c2f-4ec6-bd57-95dbfe3bad87",
         "x": [
          "6f",
          "7f",
          "8f",
          "9f",
          "10f",
          "11f",
          "12f",
          "13f",
          "14f",
          "nofilter"
         ],
         "xaxis": "x15",
         "y": [
          0.1695142857142857,
          0.18992857142857142,
          0.22144285714285714,
          0.21721428571428575,
          0.1933,
          0.28075714285714287,
          0.2351714285714286,
          0.2348142857142857,
          0.1686,
          0.23521428571428574
         ],
         "yaxis": "y15"
        },
        {
         "line": {
          "color": "#CCEBC5"
         },
         "name": "per:date_of_death precision",
         "type": "scatter",
         "uid": "223d9070-9c1d-4b0c-aead-06b5b12bf2d5",
         "x": [
          "6f",
          "7f",
          "8f",
          "9f",
          "10f",
          "11f",
          "12f",
          "13f",
          "14f",
          "nofilter"
         ],
         "xaxis": "x16",
         "y": [
          0.7412857142857143,
          0.7185142857142858,
          0.6002428571428571,
          0.6405142857142857,
          0.6769428571428572,
          0.6047285714285714,
          0.6279714285714286,
          0.6575428571428572,
          0.6488571428571428,
          0.6774142857142857
         ],
         "yaxis": "y16"
        },
        {
         "line": {
          "color": "#BC80BD"
         },
         "name": "per:date_of_death recall",
         "type": "scatter",
         "uid": "d69c9cb4-e531-4e7a-a60c-e3c3861c2187",
         "x": [
          "6f",
          "7f",
          "8f",
          "9f",
          "10f",
          "11f",
          "12f",
          "13f",
          "14f",
          "nofilter"
         ],
         "xaxis": "x16",
         "y": [
          0.26189999999999997,
          0.25927142857142854,
          0.33069999999999994,
          0.2830714285714286,
          0.27249999999999996,
          0.2830714285714286,
          0.2910142857142857,
          0.2724714285714286,
          0.28572857142857144,
          0.24867142857142857
         ],
         "yaxis": "y16"
        },
        {
         "line": {
          "color": "#FCCDE5"
         },
         "name": "per:date_of_death f1",
         "type": "scatter",
         "uid": "da8b7581-d104-4721-8b2f-ac7848bfd675",
         "x": [
          "6f",
          "7f",
          "8f",
          "9f",
          "10f",
          "11f",
          "12f",
          "13f",
          "14f",
          "nofilter"
         ],
         "xaxis": "x16",
         "y": [
          0.38617142857142855,
          0.3803571428571429,
          0.4236857142857143,
          0.39230000000000004,
          0.38712857142857143,
          0.3839714285714286,
          0.3965714285714285,
          0.3836285714285715,
          0.3952,
          0.3621285714285714
         ],
         "yaxis": "y16"
        },
        {
         "line": {
          "color": "#CCEBC5"
         },
         "name": "per:children precision",
         "type": "scatter",
         "uid": "87e64818-7715-4e86-8f7f-f9be2c9133ee",
         "x": [
          "6f",
          "7f",
          "8f",
          "9f",
          "10f",
          "11f",
          "12f",
          "13f",
          "14f",
          "nofilter"
         ],
         "xaxis": "x17",
         "y": [
          0.3326857142857143,
          0.4180428571428571,
          0.4489714285714285,
          0.4686142857142857,
          0.42214285714285715,
          0.46609999999999996,
          0.44118571428571435,
          0.41540000000000005,
          0.6347571428571428,
          0.5661285714285714
         ],
         "yaxis": "y17"
        },
        {
         "line": {
          "color": "#BC80BD"
         },
         "name": "per:children recall",
         "type": "scatter",
         "uid": "2d8c2112-36e9-42aa-8b9a-846075e7d114",
         "x": [
          "6f",
          "7f",
          "8f",
          "9f",
          "10f",
          "11f",
          "12f",
          "13f",
          "14f",
          "nofilter"
         ],
         "xaxis": "x17",
         "y": [
          0.4169999999999999,
          0.3706428571428571,
          0.44787142857142853,
          0.4131142857142857,
          0.4015428571428572,
          0.39768571428571425,
          0.4247428571428572,
          0.3822285714285714,
          0.39382857142857136,
          0.4015285714285714
         ],
         "yaxis": "y17"
        },
        {
         "line": {
          "color": "#FCCDE5"
         },
         "name": "per:children f1",
         "type": "scatter",
         "uid": "c2a3fdc2-7afe-4365-af6a-eefd73ac6d03",
         "x": [
          "6f",
          "7f",
          "8f",
          "9f",
          "10f",
          "11f",
          "12f",
          "13f",
          "14f",
          "nofilter"
         ],
         "xaxis": "x17",
         "y": [
          0.36662857142857147,
          0.3850142857142857,
          0.4452285714285714,
          0.4340285714285715,
          0.40874285714285713,
          0.4208857142857143,
          0.4299857142857143,
          0.39504285714285714,
          0.4826857142857143,
          0.4650857142857143
         ],
         "yaxis": "y17"
        },
        {
         "line": {
          "color": "#CCEBC5"
         },
         "name": "org:stateorprovince_of_headquarters precision",
         "type": "scatter",
         "uid": "6f9e62d6-fe15-4904-9f94-38842a6d1e4a",
         "x": [
          "6f",
          "7f",
          "8f",
          "9f",
          "10f",
          "11f",
          "12f",
          "13f",
          "14f",
          "nofilter"
         ],
         "xaxis": "x18",
         "y": [
          0.7341714285714286,
          0.7088285714285715,
          0.7125285714285715,
          0.6943142857142857,
          0.7331428571428571,
          0.6985,
          0.7391857142857143,
          0.7377285714285715,
          0.7406571428571428,
          0.7430285714285715
         ],
         "yaxis": "y18"
        },
        {
         "line": {
          "color": "#BC80BD"
         },
         "name": "org:stateorprovince_of_headquarters recall",
         "type": "scatter",
         "uid": "5f1f82c5-0377-4355-b244-efd96178f7c3",
         "x": [
          "6f",
          "7f",
          "8f",
          "9f",
          "10f",
          "11f",
          "12f",
          "13f",
          "14f",
          "nofilter"
         ],
         "xaxis": "x18",
         "y": [
          0.6554857142857143,
          0.7087000000000001,
          0.7059000000000001,
          0.7087,
          0.6975,
          0.7451,
          0.6947000000000001,
          0.6386714285714286,
          0.7087000000000001,
          0.6779000000000001
         ],
         "yaxis": "y18"
        },
        {
         "line": {
          "color": "#FCCDE5"
         },
         "name": "org:stateorprovince_of_headquarters f1",
         "type": "scatter",
         "uid": "003edcf4-f97f-4a56-8ec0-a5c9234648b6",
         "x": [
          "6f",
          "7f",
          "8f",
          "9f",
          "10f",
          "11f",
          "12f",
          "13f",
          "14f",
          "nofilter"
         ],
         "xaxis": "x18",
         "y": [
          0.6920571428571429,
          0.7079428571428572,
          0.7086428571428572,
          0.7004857142857144,
          0.7142714285714286,
          0.7196428571428571,
          0.7158285714285714,
          0.6829285714285714,
          0.7235857142857142,
          0.708442857142857
         ],
         "yaxis": "y18"
        },
        {
         "line": {
          "color": "#CCEBC5"
         },
         "name": "per:cause_of_death precision",
         "type": "scatter",
         "uid": "6684cdbd-8677-478f-8ed1-cb3a769197c3",
         "x": [
          "6f",
          "7f",
          "8f",
          "9f",
          "10f",
          "11f",
          "12f",
          "13f",
          "14f",
          "nofilter"
         ],
         "xaxis": "x19",
         "y": [
          0.6742,
          0.6695857142857143,
          0.6368428571428572,
          0.7170714285714287,
          0.7048571428571428,
          0.6641142857142857,
          0.6553142857142857,
          0.7098000000000001,
          0.6648714285714286,
          0.6945
         ],
         "yaxis": "y19"
        },
        {
         "line": {
          "color": "#BC80BD"
         },
         "name": "per:cause_of_death recall",
         "type": "scatter",
         "uid": "2f7fcdab-2220-4977-9ba5-2902c3c770c9",
         "x": [
          "6f",
          "7f",
          "8f",
          "9f",
          "10f",
          "11f",
          "12f",
          "13f",
          "14f",
          "nofilter"
         ],
         "xaxis": "x19",
         "y": [
          0.32142857142857145,
          0.2967,
          0.29947142857142856,
          0.29395714285714286,
          0.25,
          0.261,
          0.261,
          0.26648571428571427,
          0.2280142857142857,
          0.2445142857142857
         ],
         "yaxis": "y19"
        },
        {
         "line": {
          "color": "#FCCDE5"
         },
         "name": "per:cause_of_death f1",
         "type": "scatter",
         "uid": "dc4b0d9f-0df2-46af-bd60-7e8b8e8e52bf",
         "x": [
          "6f",
          "7f",
          "8f",
          "9f",
          "10f",
          "11f",
          "12f",
          "13f",
          "14f",
          "nofilter"
         ],
         "xaxis": "x19",
         "y": [
          0.43321428571428566,
          0.40914285714285714,
          0.40612857142857145,
          0.4152714285714286,
          0.3658571428571428,
          0.3709428571428571,
          0.37201428571428574,
          0.38231428571428566,
          0.3368142857142857,
          0.3611
         ],
         "yaxis": "y19"
        },
        {
         "line": {
          "color": "#CCEBC5"
         },
         "name": "per:other_family precision",
         "type": "scatter",
         "uid": "bfc93a75-5316-47a1-a513-dbb7d4363f42",
         "x": [
          "6f",
          "7f",
          "8f",
          "9f",
          "10f",
          "11f",
          "12f",
          "13f",
          "14f",
          "nofilter"
         ],
         "xaxis": "x20",
         "y": [
          0.5759428571428572,
          0.6616999999999998,
          0.6229285714285714,
          0.7202571428571429,
          0.6629285714285714,
          0.6020857142857141,
          0.632157142857143,
          0.7075857142857143,
          0.636042857142857,
          0.6708714285714285
         ],
         "yaxis": "y20"
        },
        {
         "line": {
          "color": "#BC80BD"
         },
         "name": "per:other_family recall",
         "type": "scatter",
         "uid": "f05b56ba-f5d7-433b-8e36-d0d4bbca914a",
         "x": [
          "6f",
          "7f",
          "8f",
          "9f",
          "10f",
          "11f",
          "12f",
          "13f",
          "14f",
          "nofilter"
         ],
         "xaxis": "x20",
         "y": [
          0.10475714285714287,
          0.21428571428571427,
          0.20474285714285714,
          0.3404857142857143,
          0.23807142857142857,
          0.3023857142857143,
          0.26905714285714283,
          0.29287142857142856,
          0.27858571428571427,
          0.25712857142857143
         ],
         "yaxis": "y20"
        },
        {
         "line": {
          "color": "#FCCDE5"
         },
         "name": "per:other_family f1",
         "type": "scatter",
         "uid": "09706a86-b671-48e5-bd3f-b508b949b302",
         "x": [
          "6f",
          "7f",
          "8f",
          "9f",
          "10f",
          "11f",
          "12f",
          "13f",
          "14f",
          "nofilter"
         ],
         "xaxis": "x20",
         "y": [
          0.16768571428571427,
          0.3086428571428571,
          0.3051714285714286,
          0.46094285714285715,
          0.33754285714285714,
          0.39781428571428573,
          0.3699142857142857,
          0.40644285714285716,
          0.38224285714285716,
          0.3678285714285714
         ],
         "yaxis": "y20"
        },
        {
         "line": {
          "color": "#CCEBC5"
         },
         "name": "org:members precision",
         "type": "scatter",
         "uid": "231b5b8a-8a7f-40ca-9983-cf78e7b97927",
         "x": [
          "6f",
          "7f",
          "8f",
          "9f",
          "10f",
          "11f",
          "12f",
          "13f",
          "14f",
          "nofilter"
         ],
         "xaxis": "x21",
         "y": [
          0,
          0.0642857142857143,
          0.12041428571428571,
          0.40475714285714287,
          0.32142857142857145,
          0.35714285714285715,
          0.42857142857142855,
          0.03571428571428571,
          0,
          0.3333285714285714
         ],
         "yaxis": "y21"
        },
        {
         "line": {
          "color": "#BC80BD"
         },
         "name": "org:members recall",
         "type": "scatter",
         "uid": "1508c2ff-b90d-4050-bd86-760cbe2b202f",
         "x": [
          "6f",
          "7f",
          "8f",
          "9f",
          "10f",
          "11f",
          "12f",
          "13f",
          "14f",
          "nofilter"
         ],
         "xaxis": "x21",
         "y": [
          0,
          0.00922857142857143,
          0.018442857142857143,
          0.00922857142857143,
          0.01845714285714286,
          0.013828571428571428,
          0.00922857142857143,
          0.004614285714285715,
          0,
          0.004614285714285715
         ],
         "yaxis": "y21"
        },
        {
         "line": {
          "color": "#FCCDE5"
         },
         "name": "org:members f1",
         "type": "scatter",
         "uid": "5bc61f23-5ffe-4b15-89ad-2ac2be135434",
         "x": [
          "6f",
          "7f",
          "8f",
          "9f",
          "10f",
          "11f",
          "12f",
          "13f",
          "14f",
          "nofilter"
         ],
         "xaxis": "x21",
         "y": [
          0,
          0.0161,
          0.031785714285714285,
          0.017057142857142858,
          0.0344,
          0.023171428571428572,
          0.017857142857142856,
          0.008157142857142858,
          0,
          0.0084
         ],
         "yaxis": "y21"
        },
        {
         "line": {
          "color": "#CCEBC5"
         },
         "name": "per:parents precision",
         "type": "scatter",
         "uid": "50cb86bc-8a9f-4c58-8c2b-d7d2b25f95cb",
         "x": [
          "6f",
          "7f",
          "8f",
          "9f",
          "10f",
          "11f",
          "12f",
          "13f",
          "14f",
          "nofilter"
         ],
         "xaxis": "x22",
         "y": [
          0.7188285714285715,
          0.7018714285714285,
          0.7185571428571429,
          0.7348285714285714,
          0.7297,
          0.6779142857142856,
          0.7214571428571429,
          0.7072428571428571,
          0.7108571428571429,
          0.7279142857142856
         ],
         "yaxis": "y22"
        },
        {
         "line": {
          "color": "#BC80BD"
         },
         "name": "per:parents recall",
         "type": "scatter",
         "uid": "2b961cd7-0156-4cf3-aed8-46fb986da74e",
         "x": [
          "6f",
          "7f",
          "8f",
          "9f",
          "10f",
          "11f",
          "12f",
          "13f",
          "14f",
          "nofilter"
         ],
         "xaxis": "x22",
         "y": [
          0.4545285714285714,
          0.5422,
          0.5811714285714286,
          0.5584428571428571,
          0.5438142857142857,
          0.5552,
          0.5535714285714286,
          0.5357142857142857,
          0.6185142857142857,
          0.600642857142857
         ],
         "yaxis": "y22"
        },
        {
         "line": {
          "color": "#FCCDE5"
         },
         "name": "per:parents f1",
         "type": "scatter",
         "uid": "2367ea04-dfcd-474a-9932-28af79890945",
         "x": [
          "6f",
          "7f",
          "8f",
          "9f",
          "10f",
          "11f",
          "12f",
          "13f",
          "14f",
          "nofilter"
         ],
         "xaxis": "x22",
         "y": [
          0.5551285714285714,
          0.6101857142857143,
          0.6412285714285714,
          0.6334714285714285,
          0.6223714285714285,
          0.6072428571428571,
          0.6262571428571428,
          0.6079571428571428,
          0.6603285714285715,
          0.6552
         ],
         "yaxis": "y22"
        },
        {
         "line": {
          "color": "#CCEBC5"
         },
         "name": "org:founded_by precision",
         "type": "scatter",
         "uid": "d1133320-6558-4964-8f38-9f0c9fcd6416",
         "x": [
          "6f",
          "7f",
          "8f",
          "9f",
          "10f",
          "11f",
          "12f",
          "13f",
          "14f",
          "nofilter"
         ],
         "xaxis": "x23",
         "y": [
          0.6925,
          0.7157285714285714,
          0.6987428571428571,
          0.7240428571428571,
          0.7351714285714286,
          0.7262000000000001,
          0.7243,
          0.7131000000000001,
          0.7627571428571429,
          0.7637
         ],
         "yaxis": "y23"
        },
        {
         "line": {
          "color": "#BC80BD"
         },
         "name": "org:founded_by recall",
         "type": "scatter",
         "uid": "a2ffa65c-cd30-4fb2-b27c-3e3b38d3e6dc",
         "x": [
          "6f",
          "7f",
          "8f",
          "9f",
          "10f",
          "11f",
          "12f",
          "13f",
          "14f",
          "nofilter"
         ],
         "xaxis": "x23",
         "y": [
          0.4979,
          0.5588142857142857,
          0.5315142857142857,
          0.5399142857142857,
          0.5042000000000001,
          0.4286,
          0.4768857142857143,
          0.4201857142857143,
          0.43279999999999996,
          0.45169999999999993
         ],
         "yaxis": "y23"
        },
        {
         "line": {
          "color": "#FCCDE5"
         },
         "name": "org:founded_by f1",
         "type": "scatter",
         "uid": "9a7bfd7c-bd65-4162-99b7-a6626368cb1e",
         "x": [
          "6f",
          "7f",
          "8f",
          "9f",
          "10f",
          "11f",
          "12f",
          "13f",
          "14f",
          "nofilter"
         ],
         "xaxis": "x23",
         "y": [
          0.5774285714285714,
          0.625942857142857,
          0.5998142857142857,
          0.6141714285714286,
          0.5949142857142856,
          0.5383428571428572,
          0.5709714285714285,
          0.5271571428571428,
          0.5513,
          0.5662428571428572
         ],
         "yaxis": "y23"
        },
        {
         "line": {
          "color": "#CCEBC5"
         },
         "name": "per:city_of_death precision",
         "type": "scatter",
         "uid": "0991c46d-715d-4d0f-8be4-e004c181b36a",
         "x": [
          "6f",
          "7f",
          "8f",
          "9f",
          "10f",
          "11f",
          "12f",
          "13f",
          "14f",
          "nofilter"
         ],
         "xaxis": "x24",
         "y": [
          0.8726714285714285,
          0.8295714285714286,
          0.7942285714285715,
          0.8396857142857144,
          0.8591857142857143,
          0.8658714285714286,
          0.8468,
          0.8226285714285716,
          0.8396285714285714,
          0.8494714285714285
         ],
         "yaxis": "y24"
        },
        {
         "line": {
          "color": "#BC80BD"
         },
         "name": "per:city_of_death recall",
         "type": "scatter",
         "uid": "12e2372b-3b5e-460f-8c31-613b314d9da0",
         "x": [
          "6f",
          "7f",
          "8f",
          "9f",
          "10f",
          "11f",
          "12f",
          "13f",
          "14f",
          "nofilter"
         ],
         "xaxis": "x24",
         "y": [
          0.3316428571428572,
          0.2653,
          0.28061428571428576,
          0.3112142857142857,
          0.2398,
          0.2041,
          0.2551,
          0.29081428571428575,
          0.25511428571428574,
          0.2551
         ],
         "yaxis": "y24"
        },
        {
         "line": {
          "color": "#FCCDE5"
         },
         "name": "per:city_of_death f1",
         "type": "scatter",
         "uid": "cff236c4-40e5-4470-a799-d1661e093a3d",
         "x": [
          "6f",
          "7f",
          "8f",
          "9f",
          "10f",
          "11f",
          "12f",
          "13f",
          "14f",
          "nofilter"
         ],
         "xaxis": "x24",
         "y": [
          0.4773428571428572,
          0.39760000000000006,
          0.40957142857142864,
          0.45139999999999997,
          0.37360000000000004,
          0.3257285714285714,
          0.38878571428571423,
          0.4257,
          0.38718571428571424,
          0.38634285714285715
         ],
         "yaxis": "y24"
        },
        {
         "line": {
          "color": "#CCEBC5"
         },
         "name": "per:schools_attended precision",
         "type": "scatter",
         "uid": "ae48b40c-43af-461d-828f-3d4a54a2d76d",
         "x": [
          "6f",
          "7f",
          "8f",
          "9f",
          "10f",
          "11f",
          "12f",
          "13f",
          "14f",
          "nofilter"
         ],
         "xaxis": "x25",
         "y": [
          0.7778428571428572,
          0.6481428571428571,
          0.671,
          0.6294142857142857,
          0.6392857142857142,
          0.6422428571428572,
          0.6789571428571428,
          0.7039571428571428,
          0.6672142857142856,
          0.6748714285714287
         ],
         "yaxis": "y25"
        },
        {
         "line": {
          "color": "#BC80BD"
         },
         "name": "per:schools_attended recall",
         "type": "scatter",
         "uid": "ae3cb055-ce50-480b-bfec-d2a8d8a8b764",
         "x": [
          "6f",
          "7f",
          "8f",
          "9f",
          "10f",
          "11f",
          "12f",
          "13f",
          "14f",
          "nofilter"
         ],
         "xaxis": "x25",
         "y": [
          0.4095428571428571,
          0.5142857142857143,
          0.5238142857142857,
          0.5476142857142857,
          0.5571285714285714,
          0.566657142857143,
          0.566657142857143,
          0.528557142857143,
          0.5428571428571429,
          0.566657142857143
         ],
         "yaxis": "y25"
        },
        {
         "line": {
          "color": "#FCCDE5"
         },
         "name": "per:schools_attended f1",
         "type": "scatter",
         "uid": "42897a45-f9c0-4f22-b2f3-019bf6bb55ca",
         "x": [
          "6f",
          "7f",
          "8f",
          "9f",
          "10f",
          "11f",
          "12f",
          "13f",
          "14f",
          "nofilter"
         ],
         "xaxis": "x25",
         "y": [
          0.5348571428571429,
          0.5733571428571428,
          0.5851571428571428,
          0.5843714285714287,
          0.5926714285714285,
          0.5987142857142856,
          0.6164,
          0.6032285714285714,
          0.5949,
          0.6148571428571429
         ],
         "yaxis": "y25"
        },
        {
         "line": {
          "color": "#CCEBC5"
         },
         "name": "org:website precision",
         "type": "scatter",
         "uid": "946104e2-f7b5-4804-acc1-16d4d0bfce11",
         "x": [
          "6f",
          "7f",
          "8f",
          "9f",
          "10f",
          "11f",
          "12f",
          "13f",
          "14f",
          "nofilter"
         ],
         "xaxis": "x26",
         "y": [
          0.6368285714285714,
          0.5869,
          0.6197428571428573,
          0.6010571428571428,
          0.6197571428571429,
          0.6216,
          0.5963,
          0.6124285714285713,
          0.6209857142857143,
          0.6152714285714287
         ],
         "yaxis": "y26"
        },
        {
         "line": {
          "color": "#BC80BD"
         },
         "name": "org:website recall",
         "type": "scatter",
         "uid": "85537570-875c-4273-b616-d592dd7eec02",
         "x": [
          "6f",
          "7f",
          "8f",
          "9f",
          "10f",
          "11f",
          "12f",
          "13f",
          "14f",
          "nofilter"
         ],
         "xaxis": "x26",
         "y": [
          0.8736571428571428,
          0.9011142857142856,
          0.8626571428571428,
          0.9176,
          0.8681571428571428,
          0.9066,
          0.9066142857142857,
          0.8846142857142857,
          0.8956142857142856,
          0.9066142857142856
         ],
         "yaxis": "y26"
        },
        {
         "line": {
          "color": "#FCCDE5"
         },
         "name": "org:website f1",
         "type": "scatter",
         "uid": "f612a70b-0887-43b4-aee9-0162dd2591e6",
         "x": [
          "6f",
          "7f",
          "8f",
          "9f",
          "10f",
          "11f",
          "12f",
          "13f",
          "14f",
          "nofilter"
         ],
         "xaxis": "x26",
         "y": [
          0.7362000000000001,
          0.7097428571428571,
          0.7206857142857143,
          0.7255000000000001,
          0.7221142857142857,
          0.7370714285714285,
          0.7182571428571427,
          0.7230142857142858,
          0.7328285714285714,
          0.7323857142857143
         ],
         "yaxis": "y26"
        },
        {
         "line": {
          "color": "#CCEBC5"
         },
         "name": "per:siblings precision",
         "type": "scatter",
         "uid": "be808397-af78-435c-88f0-68e8849b15c9",
         "x": [
          "6f",
          "7f",
          "8f",
          "9f",
          "10f",
          "11f",
          "12f",
          "13f",
          "14f",
          "nofilter"
         ],
         "xaxis": "x27",
         "y": [
          0.5048285714285714,
          0.6084285714285714,
          0.6131142857142856,
          0.5965571428571428,
          0.5904999999999999,
          0.6469714285714285,
          0.6597142857142858,
          0.6910714285714287,
          0.6798714285714286,
          0.6660714285714285
         ],
         "yaxis": "y27"
        },
        {
         "line": {
          "color": "#BC80BD"
         },
         "name": "per:siblings recall",
         "type": "scatter",
         "uid": "9981eab4-d702-43f1-898e-a74f201954fa",
         "x": [
          "6f",
          "7f",
          "8f",
          "9f",
          "10f",
          "11f",
          "12f",
          "13f",
          "14f",
          "nofilter"
         ],
         "xaxis": "x27",
         "y": [
          0.5220857142857143,
          0.6701285714285714,
          0.6389571428571428,
          0.6961,
          0.6883142857142855,
          0.6311571428571429,
          0.6363571428571427,
          0.6441714285714285,
          0.6545571428571428,
          0.6337571428571428
         ],
         "yaxis": "y27"
        },
        {
         "line": {
          "color": "#FCCDE5"
         },
         "name": "per:siblings f1",
         "type": "scatter",
         "uid": "c391bf8b-ee61-414a-9685-65495496f16a",
         "x": [
          "6f",
          "7f",
          "8f",
          "9f",
          "10f",
          "11f",
          "12f",
          "13f",
          "14f",
          "nofilter"
         ],
         "xaxis": "x27",
         "y": [
          0.5124714285714286,
          0.6376714285714286,
          0.6222142857142857,
          0.6417428571428571,
          0.6331142857142857,
          0.6361285714285714,
          0.6468714285714287,
          0.6665142857142857,
          0.6656000000000001,
          0.6480571428571429
         ],
         "yaxis": "y27"
        },
        {
         "line": {
          "color": "#CCEBC5"
         },
         "name": "per:charges precision",
         "type": "scatter",
         "uid": "3f459e8c-ed81-4674-b932-2cd61892d51c",
         "x": [
          "6f",
          "7f",
          "8f",
          "9f",
          "10f",
          "11f",
          "12f",
          "13f",
          "14f",
          "nofilter"
         ],
         "xaxis": "x28",
         "y": [
          0.6128857142857143,
          0.6454714285714286,
          0.6298714285714286,
          0.6566714285714286,
          0.6335142857142857,
          0.6353142857142858,
          0.6592285714285715,
          0.6534428571428572,
          0.6489571428571429,
          0.6434714285714287
         ],
         "yaxis": "y28"
        },
        {
         "line": {
          "color": "#BC80BD"
         },
         "name": "per:charges recall",
         "type": "scatter",
         "uid": "b0e8612e-e9c5-48fd-b7e5-6950e03a0b41",
         "x": [
          "6f",
          "7f",
          "8f",
          "9f",
          "10f",
          "11f",
          "12f",
          "13f",
          "14f",
          "nofilter"
         ],
         "xaxis": "x28",
         "y": [
          0.8252428571428572,
          0.8848714285714286,
          0.8973571428571429,
          0.8918,
          0.9042857142857142,
          0.8821000000000001,
          0.8682571428571428,
          0.8502285714285713,
          0.8765571428571428,
          0.8710142857142856
         ],
         "yaxis": "y28"
        },
        {
         "line": {
          "color": "#FCCDE5"
         },
         "name": "per:charges f1",
         "type": "scatter",
         "uid": "a3d37b61-7ff6-402b-94b6-64bb48a18715",
         "x": [
          "6f",
          "7f",
          "8f",
          "9f",
          "10f",
          "11f",
          "12f",
          "13f",
          "14f",
          "nofilter"
         ],
         "xaxis": "x28",
         "y": [
          0.7028,
          0.7459571428571429,
          0.7396571428571429,
          0.755742857142857,
          0.7443142857142858,
          0.7381,
          0.7488,
          0.7377714285714286,
          0.7451428571428573,
          0.7388857142857143
         ],
         "yaxis": "y28"
        },
        {
         "line": {
          "color": "#CCEBC5"
         },
         "name": "org:member_of precision",
         "type": "scatter",
         "uid": "8dc45acc-dacf-49b2-9c13-5122aa3e6e81",
         "x": [
          "6f",
          "7f",
          "8f",
          "9f",
          "10f",
          "11f",
          "12f",
          "13f",
          "14f",
          "nofilter"
         ],
         "xaxis": "x29",
         "y": [
          1,
          1,
          1,
          1,
          0.8571428571428571,
          1,
          1,
          1,
          1,
          1
         ],
         "yaxis": "y29"
        },
        {
         "line": {
          "color": "#BC80BD"
         },
         "name": "org:member_of recall",
         "type": "scatter",
         "uid": "547447b0-d8c2-48fe-a09d-86b2c6156151",
         "x": [
          "6f",
          "7f",
          "8f",
          "9f",
          "10f",
          "11f",
          "12f",
          "13f",
          "14f",
          "nofilter"
         ],
         "xaxis": "x29",
         "y": [
          0,
          0,
          0,
          0,
          0,
          0,
          0,
          0,
          0,
          0
         ],
         "yaxis": "y29"
        },
        {
         "line": {
          "color": "#FCCDE5"
         },
         "name": "org:member_of f1",
         "type": "scatter",
         "uid": "dd8dc527-3172-49de-b9b6-b0a47d657f3a",
         "x": [
          "6f",
          "7f",
          "8f",
          "9f",
          "10f",
          "11f",
          "12f",
          "13f",
          "14f",
          "nofilter"
         ],
         "xaxis": "x29",
         "y": [
          0,
          0,
          0,
          0,
          0,
          0,
          0,
          0,
          0,
          0
         ],
         "yaxis": "y29"
        },
        {
         "line": {
          "color": "#CCEBC5"
         },
         "name": "per:alternate_names precision",
         "type": "scatter",
         "uid": "21ba83db-5df9-4ec4-b5a9-18692ec0764b",
         "x": [
          "6f",
          "7f",
          "8f",
          "9f",
          "10f",
          "11f",
          "12f",
          "13f",
          "14f",
          "nofilter"
         ],
         "xaxis": "x30",
         "y": [
          0,
          0,
          0,
          0,
          0,
          0,
          0,
          0,
          0,
          0
         ],
         "yaxis": "y30"
        },
        {
         "line": {
          "color": "#BC80BD"
         },
         "name": "per:alternate_names recall",
         "type": "scatter",
         "uid": "2c5a0fbb-8210-45f2-9603-62e1e48be701",
         "x": [
          "6f",
          "7f",
          "8f",
          "9f",
          "10f",
          "11f",
          "12f",
          "13f",
          "14f",
          "nofilter"
         ],
         "xaxis": "x30",
         "y": [
          0,
          0,
          0,
          0,
          0,
          0,
          0,
          0,
          0,
          0
         ],
         "yaxis": "y30"
        },
        {
         "line": {
          "color": "#FCCDE5"
         },
         "name": "per:alternate_names f1",
         "type": "scatter",
         "uid": "eb163f15-0255-4ea5-a35e-ada768b7b1de",
         "x": [
          "6f",
          "7f",
          "8f",
          "9f",
          "10f",
          "11f",
          "12f",
          "13f",
          "14f",
          "nofilter"
         ],
         "xaxis": "x30",
         "y": [
          0,
          0,
          0,
          0,
          0,
          0,
          0,
          0,
          0,
          0
         ],
         "yaxis": "y30"
        },
        {
         "line": {
          "color": "#CCEBC5"
         },
         "name": "org:shareholders precision",
         "type": "scatter",
         "uid": "f4382aae-2167-4690-81af-30ed2db25944",
         "x": [
          "6f",
          "7f",
          "8f",
          "9f",
          "10f",
          "11f",
          "12f",
          "13f",
          "14f",
          "nofilter"
         ],
         "xaxis": "x31",
         "y": [
          1,
          0.9642857142857143,
          0.9071428571428571,
          0.9285714285714286,
          1,
          0.9642857142857143,
          0.7857142857142857,
          0.8714285714285713,
          1,
          1
         ],
         "yaxis": "y31"
        },
        {
         "line": {
          "color": "#BC80BD"
         },
         "name": "org:shareholders recall",
         "type": "scatter",
         "uid": "a6faedfb-64e6-4ed8-9ee2-2b9c9e243a09",
         "x": [
          "6f",
          "7f",
          "8f",
          "9f",
          "10f",
          "11f",
          "12f",
          "13f",
          "14f",
          "nofilter"
         ],
         "xaxis": "x31",
         "y": [
          0.1428428571428571,
          0.23079999999999995,
          0.23079999999999995,
          0.23079999999999995,
          0.21979999999999997,
          0.23079999999999995,
          0.1868285714285714,
          0.23079999999999995,
          0.23079999999999995,
          0.20879999999999996
         ],
         "yaxis": "y31"
        },
        {
         "line": {
          "color": "#FCCDE5"
         },
         "name": "org:shareholders f1",
         "type": "scatter",
         "uid": "6dc7aea1-493b-43dc-940c-d66b547fd9e8",
         "x": [
          "6f",
          "7f",
          "8f",
          "9f",
          "10f",
          "11f",
          "12f",
          "13f",
          "14f",
          "nofilter"
         ],
         "xaxis": "x31",
         "y": [
          0.24185714285714283,
          0.37184285714285714,
          0.36588571428571426,
          0.3686857142857143,
          0.3595285714285715,
          0.37184285714285714,
          0.29468571428571433,
          0.3627285714285714,
          0.375,
          0.34405714285714284
         ],
         "yaxis": "y31"
        },
        {
         "line": {
          "color": "#CCEBC5"
         },
         "name": "org:founded precision",
         "type": "scatter",
         "uid": "57038a3b-1c28-41f3-b1ef-baa12d1e71fa",
         "x": [
          "6f",
          "7f",
          "8f",
          "9f",
          "10f",
          "11f",
          "12f",
          "13f",
          "14f",
          "nofilter"
         ],
         "xaxis": "x32",
         "y": [
          0.8132857142857144,
          0.8412285714285714,
          0.8250571428571429,
          0.8214571428571429,
          0.8286714285714284,
          0.8150285714285713,
          0.8250285714285714,
          0.8196428571428572,
          0.8565428571428573,
          0.845157142857143
         ],
         "yaxis": "y32"
        },
        {
         "line": {
          "color": "#BC80BD"
         },
         "name": "org:founded recall",
         "type": "scatter",
         "uid": "88442921-01b4-4ae2-83d6-37ee27058728",
         "x": [
          "6f",
          "7f",
          "8f",
          "9f",
          "10f",
          "11f",
          "12f",
          "13f",
          "14f",
          "nofilter"
         ],
         "xaxis": "x32",
         "y": [
          0.8224000000000001,
          0.8301000000000001,
          0.8301142857142858,
          0.8262428571428571,
          0.8339857142857144,
          0.8378428571428572,
          0.8339714285714285,
          0.8146571428571429,
          0.8030857142857144,
          0.8185142857142856
         ],
         "yaxis": "y32"
        },
        {
         "line": {
          "color": "#FCCDE5"
         },
         "name": "org:founded f1",
         "type": "scatter",
         "uid": "e9d9dae7-bbab-4365-9b3e-24ce450ef645",
         "x": [
          "6f",
          "7f",
          "8f",
          "9f",
          "10f",
          "11f",
          "12f",
          "13f",
          "14f",
          "nofilter"
         ],
         "xaxis": "x32",
         "y": [
          0.8176857142857141,
          0.8352142857142858,
          0.8272857142857143,
          0.8232714285714288,
          0.8307857142857143,
          0.8254428571428571,
          0.8291999999999999,
          0.8165571428571429,
          0.8286142857142859,
          0.8313857142857143
         ],
         "yaxis": "y32"
        },
        {
         "line": {
          "color": "#CCEBC5"
         },
         "name": "org:political/religious_affiliation precision",
         "type": "scatter",
         "uid": "f171f395-a53c-41f3-ab70-86e204462172",
         "x": [
          "6f",
          "7f",
          "8f",
          "9f",
          "10f",
          "11f",
          "12f",
          "13f",
          "14f",
          "nofilter"
         ],
         "xaxis": "x33",
         "y": [
          0.32467142857142856,
          0.43292857142857144,
          0.29972857142857146,
          0.38977142857142855,
          0.4270285714285715,
          0.3306142857142857,
          0.5117857142857143,
          0.4884857142857143,
          0.5795857142857143,
          0.47857142857142854
         ],
         "yaxis": "y33"
        },
        {
         "line": {
          "color": "#BC80BD"
         },
         "name": "org:political/religious_affiliation recall",
         "type": "scatter",
         "uid": "8bb9884a-e3e8-461b-b1f7-ad5c8a8fdf4a",
         "x": [
          "6f",
          "7f",
          "8f",
          "9f",
          "10f",
          "11f",
          "12f",
          "13f",
          "14f",
          "nofilter"
         ],
         "xaxis": "x33",
         "y": [
          0.7142857142857144,
          0.48571428571428565,
          0.45714285714285713,
          0.5142857142857142,
          0.5285714285714286,
          0.4428571428571429,
          0.4428571428571429,
          0.4571428571428572,
          0.2571428571428571,
          0.5285714285714286
         ],
         "yaxis": "y33"
        },
        {
         "line": {
          "color": "#FCCDE5"
         },
         "name": "org:political/religious_affiliation f1",
         "type": "scatter",
         "uid": "0b02e651-6d1a-414e-b8dd-d7132600fcae",
         "x": [
          "6f",
          "7f",
          "8f",
          "9f",
          "10f",
          "11f",
          "12f",
          "13f",
          "14f",
          "nofilter"
         ],
         "xaxis": "x33",
         "y": [
          0.4420428571428571,
          0.44695714285714283,
          0.3488142857142857,
          0.43017142857142854,
          0.4558142857142857,
          0.3717857142857143,
          0.44391428571428576,
          0.45981428571428573,
          0.32224285714285716,
          0.49342857142857144
         ],
         "yaxis": "y33"
        },
        {
         "line": {
          "color": "#CCEBC5"
         },
         "name": "per:religion precision",
         "type": "scatter",
         "uid": "e9a61de7-c08d-40e8-9a82-50c7c7113005",
         "x": [
          "6f",
          "7f",
          "8f",
          "9f",
          "10f",
          "11f",
          "12f",
          "13f",
          "14f",
          "nofilter"
         ],
         "xaxis": "x34",
         "y": [
          0.5731,
          0.5695857142857143,
          0.5924857142857142,
          0.5990857142857143,
          0.6107857142857143,
          0.6273857142857143,
          0.6009714285714286,
          0.6878857142857143,
          0.6603142857142856,
          0.589957142857143
         ],
         "yaxis": "y34"
        },
        {
         "line": {
          "color": "#BC80BD"
         },
         "name": "per:religion recall",
         "type": "scatter",
         "uid": "9b4519e2-ccb2-43f4-8989-c9ba297cbfde",
         "x": [
          "6f",
          "7f",
          "8f",
          "9f",
          "10f",
          "11f",
          "12f",
          "13f",
          "14f",
          "nofilter"
         ],
         "xaxis": "x34",
         "y": [
          0.6535000000000001,
          0.6474142857142857,
          0.5744714285714286,
          0.6079142857142857,
          0.6474428571428571,
          0.5501571428571428,
          0.5774999999999999,
          0.48327142857142863,
          0.48328571428571426,
          0.6200571428571429
         ],
         "yaxis": "y34"
        },
        {
         "line": {
          "color": "#FCCDE5"
         },
         "name": "per:religion f1",
         "type": "scatter",
         "uid": "68dd7278-adc9-40f4-9254-ead5d3b660a9",
         "x": [
          "6f",
          "7f",
          "8f",
          "9f",
          "10f",
          "11f",
          "12f",
          "13f",
          "14f",
          "nofilter"
         ],
         "xaxis": "x34",
         "y": [
          0.6082857142857143,
          0.598057142857143,
          0.5812,
          0.5980714285714287,
          0.6261571428571429,
          0.5837000000000001,
          0.5855857142857143,
          0.5663,
          0.5503571428571429,
          0.6017428571428571
         ],
         "yaxis": "y34"
        },
        {
         "line": {
          "color": "#CCEBC5"
         },
         "name": "org:number_of_employees/members precision",
         "type": "scatter",
         "uid": "6d337dc1-1caa-47d8-aff0-8490972c91f4",
         "x": [
          "6f",
          "7f",
          "8f",
          "9f",
          "10f",
          "11f",
          "12f",
          "13f",
          "14f",
          "nofilter"
         ],
         "xaxis": "x35",
         "y": [
          0.6242857142857143,
          0.638257142857143,
          0.7401714285714286,
          0.7132857142857143,
          0.6881285714285715,
          0.6623,
          0.7437714285714285,
          0.6973285714285715,
          0.7471428571428571,
          0.7463714285714286
         ],
         "yaxis": "y35"
        },
        {
         "line": {
          "color": "#BC80BD"
         },
         "name": "org:number_of_employees/members recall",
         "type": "scatter",
         "uid": "90d25276-9bb0-4565-87c8-4b29acad2ab7",
         "x": [
          "6f",
          "7f",
          "8f",
          "9f",
          "10f",
          "11f",
          "12f",
          "13f",
          "14f",
          "nofilter"
         ],
         "xaxis": "x35",
         "y": [
          0.4661571428571428,
          0.7894714285714286,
          0.5789428571428573,
          0.6917142857142856,
          0.7518857142857142,
          0.7293142857142858,
          0.7368285714285715,
          0.6165428571428571,
          0.5488571428571428,
          0.6466000000000001
         ],
         "yaxis": "y35"
        },
        {
         "line": {
          "color": "#FCCDE5"
         },
         "name": "org:number_of_employees/members f1",
         "type": "scatter",
         "uid": "a992a8ce-b34f-42f7-818d-017c29d5b6be",
         "x": [
          "6f",
          "7f",
          "8f",
          "9f",
          "10f",
          "11f",
          "12f",
          "13f",
          "14f",
          "nofilter"
         ],
         "xaxis": "x35",
         "y": [
          0.5294142857142857,
          0.7050000000000001,
          0.6376571428571429,
          0.6989571428571428,
          0.7170714285714287,
          0.6900285714285715,
          0.7367285714285714,
          0.649657142857143,
          0.6218285714285715,
          0.6858000000000001
         ],
         "yaxis": "y35"
        },
        {
         "line": {
          "color": "#CCEBC5"
         },
         "name": "per:city_of_birth precision",
         "type": "scatter",
         "uid": "46968a05-91b0-4b9b-858e-2b1a80b949a4",
         "x": [
          "6f",
          "7f",
          "8f",
          "9f",
          "10f",
          "11f",
          "12f",
          "13f",
          "14f",
          "nofilter"
         ],
         "xaxis": "x36",
         "y": [
          0.30067142857142853,
          0.38808571428571426,
          0.44365714285714286,
          0.4452428571428571,
          0.5690714285714286,
          0.4714285714285714,
          0.4884428571428571,
          0.35714285714285715,
          0.3850285714285714,
          0.4428571428571428
         ],
         "yaxis": "y36"
        },
        {
         "line": {
          "color": "#BC80BD"
         },
         "name": "per:city_of_birth recall",
         "type": "scatter",
         "uid": "a19fdd8e-6e15-49cf-affc-2b83734b7633",
         "x": [
          "6f",
          "7f",
          "8f",
          "9f",
          "10f",
          "11f",
          "12f",
          "13f",
          "14f",
          "nofilter"
         ],
         "xaxis": "x36",
         "y": [
          0.2857142857142857,
          0.31428571428571433,
          0.3428571428571429,
          0.3714285714285714,
          0.37142857142857144,
          0.39999999999999997,
          0.39999999999999997,
          0.34285714285714286,
          0.42857142857142855,
          0.37142857142857144
         ],
         "yaxis": "y36"
        },
        {
         "line": {
          "color": "#FCCDE5"
         },
         "name": "per:city_of_birth f1",
         "type": "scatter",
         "uid": "cb4d280f-eed6-47d1-9a16-04a35bde17f3",
         "x": [
          "6f",
          "7f",
          "8f",
          "9f",
          "10f",
          "11f",
          "12f",
          "13f",
          "14f",
          "nofilter"
         ],
         "xaxis": "x36",
         "y": [
          0.2864857142857143,
          0.3379857142857143,
          0.3705142857142857,
          0.4015714285714286,
          0.4460285714285714,
          0.4281142857142857,
          0.42812857142857136,
          0.3492,
          0.4038857142857143,
          0.3963571428571429
         ],
         "yaxis": "y36"
        },
        {
         "line": {
          "color": "#CCEBC5"
         },
         "name": "per:date_of_birth precision",
         "type": "scatter",
         "uid": "1f301264-41b6-4918-948f-06367521c623",
         "x": [
          "6f",
          "7f",
          "8f",
          "9f",
          "10f",
          "11f",
          "12f",
          "13f",
          "14f",
          "nofilter"
         ],
         "xaxis": "x37",
         "y": [
          0.7903857142857144,
          0.8211285714285715,
          0.8137142857142857,
          0.8228428571428571,
          0.856,
          0.7530571428571429,
          0.8397714285714286,
          0.8554285714285715,
          0.8478428571428571,
          0.8381428571428572
         ],
         "yaxis": "y37"
        },
        {
         "line": {
          "color": "#BC80BD"
         },
         "name": "per:date_of_birth recall",
         "type": "scatter",
         "uid": "22988b86-8ad1-49cf-9459-a2512e39876a",
         "x": [
          "6f",
          "7f",
          "8f",
          "9f",
          "10f",
          "11f",
          "12f",
          "13f",
          "14f",
          "nofilter"
         ],
         "xaxis": "x37",
         "y": [
          0.7301857142857143,
          0.6984428571428571,
          0.7143142857142858,
          0.7460571428571429,
          0.7143142857142857,
          0.6508285714285714,
          0.6825714285714285,
          0.6984428571428571,
          0.7143142857142857,
          0.7143142857142858
         ],
         "yaxis": "y37"
        },
        {
         "line": {
          "color": "#FCCDE5"
         },
         "name": "per:date_of_birth f1",
         "type": "scatter",
         "uid": "e55ccbd4-848c-49d4-9eda-253d0c0da35a",
         "x": [
          "6f",
          "7f",
          "8f",
          "9f",
          "10f",
          "11f",
          "12f",
          "13f",
          "14f",
          "nofilter"
         ],
         "xaxis": "x37",
         "y": [
          0.7510285714285715,
          0.7525714285714286,
          0.7547142857142858,
          0.7763857142857143,
          0.7758142857142857,
          0.692857142857143,
          0.7489571428571429,
          0.7662428571428572,
          0.7688142857142858,
          0.7697285714285714
         ],
         "yaxis": "y37"
        },
        {
         "line": {
          "color": "#CCEBC5"
         },
         "name": "per:stateorprovince_of_death precision",
         "type": "scatter",
         "uid": "3eb6193e-3748-4d32-876f-2d819d05c435",
         "x": [
          "6f",
          "7f",
          "8f",
          "9f",
          "10f",
          "11f",
          "12f",
          "13f",
          "14f",
          "nofilter"
         ],
         "xaxis": "x38",
         "y": [
          0.6904999999999999,
          0.6666857142857142,
          0.6904857142857143,
          0.6905,
          0.6785857142857142,
          0.6666999999999998,
          0.6690714285714285,
          0.7024,
          0.6309571428571429,
          0.6571571428571429
         ],
         "yaxis": "y38"
        },
        {
         "line": {
          "color": "#BC80BD"
         },
         "name": "per:stateorprovince_of_death recall",
         "type": "scatter",
         "uid": "38b9c552-8d76-4760-a4bf-8e880a936e97",
         "x": [
          "6f",
          "7f",
          "8f",
          "9f",
          "10f",
          "11f",
          "12f",
          "13f",
          "14f",
          "nofilter"
         ],
         "xaxis": "x38",
         "y": [
          0.1837,
          0.1633,
          0.18369999999999997,
          0.1633,
          0.1735,
          0.1429,
          0.1633,
          0.1735,
          0.1735,
          0.1735
         ],
         "yaxis": "y38"
        },
        {
         "line": {
          "color": "#FCCDE5"
         },
         "name": "per:stateorprovince_of_death f1",
         "type": "scatter",
         "uid": "d1de5586-cdb1-49ac-8bb7-f2217dc40858",
         "x": [
          "6f",
          "7f",
          "8f",
          "9f",
          "10f",
          "11f",
          "12f",
          "13f",
          "14f",
          "nofilter"
         ],
         "xaxis": "x38",
         "y": [
          0.28682857142857143,
          0.26142857142857145,
          0.2894285714285714,
          0.26330000000000003,
          0.27542857142857147,
          0.23530000000000004,
          0.26080000000000003,
          0.2773,
          0.27168571428571425,
          0.27292857142857146
         ],
         "yaxis": "y38"
        },
        {
         "line": {
          "color": "#CCEBC5"
         },
         "name": "per:stateorprovince_of_birth precision",
         "type": "scatter",
         "uid": "9b944f62-9b8d-422a-9de6-1615140bd731",
         "x": [
          "6f",
          "7f",
          "8f",
          "9f",
          "10f",
          "11f",
          "12f",
          "13f",
          "14f",
          "nofilter"
         ],
         "xaxis": "x39",
         "y": [
          0.4333142857142857,
          0.4141285714285714,
          0.3987142857142857,
          0.4380571428571428,
          0.446,
          0.446,
          0.4095,
          0.4440285714285714,
          0.4063428571428571,
          0.43448571428571425
         ],
         "yaxis": "y39"
        },
        {
         "line": {
          "color": "#BC80BD"
         },
         "name": "per:stateorprovince_of_birth recall",
         "type": "scatter",
         "uid": "1e55a40f-a5b7-4f70-b05a-c3f8050cb0ef",
         "x": [
          "6f",
          "7f",
          "8f",
          "9f",
          "10f",
          "11f",
          "12f",
          "13f",
          "14f",
          "nofilter"
         ],
         "xaxis": "x39",
         "y": [
          0.5,
          0.5178571428571429,
          0.48214285714285715,
          0.5,
          0.5,
          0.5,
          0.5,
          0.48214285714285715,
          0.5,
          0.48214285714285715
         ],
         "yaxis": "y39"
        },
        {
         "line": {
          "color": "#FCCDE5"
         },
         "name": "per:stateorprovince_of_birth f1",
         "type": "scatter",
         "uid": "504d77f8-3640-4ff8-adb5-89c0eeb96be2",
         "x": [
          "6f",
          "7f",
          "8f",
          "9f",
          "10f",
          "11f",
          "12f",
          "13f",
          "14f",
          "nofilter"
         ],
         "xaxis": "x39",
         "y": [
          0.46357142857142863,
          0.4598428571428571,
          0.4353142857142857,
          0.46685714285714297,
          0.4710571428571429,
          0.4710571428571429,
          0.4492857142857143,
          0.46160000000000007,
          0.44814285714285707,
          0.4569428571428572
         ],
         "yaxis": "y39"
        },
        {
         "line": {
          "color": "#CCEBC5"
         },
         "name": "per:country_of_death precision",
         "type": "scatter",
         "uid": "b6074113-2564-4af1-8f18-49b9264432bc",
         "x": [
          "6f",
          "7f",
          "8f",
          "9f",
          "10f",
          "11f",
          "12f",
          "13f",
          "14f",
          "nofilter"
         ],
         "xaxis": "x40",
         "y": [
          1,
          1,
          1,
          1,
          1,
          1,
          1,
          1,
          1,
          1
         ],
         "yaxis": "y40"
        },
        {
         "line": {
          "color": "#BC80BD"
         },
         "name": "per:country_of_death recall",
         "type": "scatter",
         "uid": "9bcb0ed8-e69b-4631-9d93-d51da7716175",
         "x": [
          "6f",
          "7f",
          "8f",
          "9f",
          "10f",
          "11f",
          "12f",
          "13f",
          "14f",
          "nofilter"
         ],
         "xaxis": "x40",
         "y": [
          0,
          0,
          0,
          0,
          0,
          0,
          0,
          0,
          0,
          0
         ],
         "yaxis": "y40"
        },
        {
         "line": {
          "color": "#FCCDE5"
         },
         "name": "per:country_of_death f1",
         "type": "scatter",
         "uid": "0f353d6e-4214-4fde-b371-3e1d0182549c",
         "x": [
          "6f",
          "7f",
          "8f",
          "9f",
          "10f",
          "11f",
          "12f",
          "13f",
          "14f",
          "nofilter"
         ],
         "xaxis": "x40",
         "y": [
          0,
          0,
          0,
          0,
          0,
          0,
          0,
          0,
          0,
          0
         ],
         "yaxis": "y40"
        },
        {
         "line": {
          "color": "#CCEBC5"
         },
         "name": "per:country_of_birth precision",
         "type": "scatter",
         "uid": "74cbb47f-6473-4f74-9f05-d7ac0215612e",
         "x": [
          "6f",
          "7f",
          "8f",
          "9f",
          "10f",
          "11f",
          "12f",
          "13f",
          "14f",
          "nofilter"
         ],
         "xaxis": "x41",
         "y": [
          0.2857142857142857,
          0.14285714285714285,
          0.06168571428571428,
          0.2857142857142857,
          0.17142857142857143,
          0.14285714285714285,
          0.0642857142857143,
          0,
          0.35000000000000003,
          0.2857142857142857
         ],
         "yaxis": "y41"
        },
        {
         "line": {
          "color": "#BC80BD"
         },
         "name": "per:country_of_birth recall",
         "type": "scatter",
         "uid": "76155f48-4258-412c-9962-ac2fd909c0f7",
         "x": [
          "6f",
          "7f",
          "8f",
          "9f",
          "10f",
          "11f",
          "12f",
          "13f",
          "14f",
          "nofilter"
         ],
         "xaxis": "x41",
         "y": [
          0,
          0,
          0.08571428571428573,
          0,
          0.028571428571428574,
          0,
          0.05714285714285715,
          0,
          0.05714285714285715,
          0
         ],
         "yaxis": "y41"
        },
        {
         "line": {
          "color": "#FCCDE5"
         },
         "name": "per:country_of_birth f1",
         "type": "scatter",
         "uid": "11d2696d-ff25-4e94-8bbd-a7df84e289a4",
         "x": [
          "6f",
          "7f",
          "8f",
          "9f",
          "10f",
          "11f",
          "12f",
          "13f",
          "14f",
          "nofilter"
         ],
         "xaxis": "x41",
         "y": [
          0,
          0,
          0.06745714285714285,
          0,
          0.028571428571428574,
          0,
          0.060314285714285716,
          0,
          0.060314285714285716,
          0
         ],
         "yaxis": "y41"
        },
        {
         "line": {
          "color": "#CCEBC5"
         },
         "name": "org:dissolved precision",
         "type": "scatter",
         "uid": "0df6d5a4-5045-4f7f-94bc-570503314523",
         "x": [
          "6f",
          "7f",
          "8f",
          "9f",
          "10f",
          "11f",
          "12f",
          "13f",
          "14f",
          "nofilter"
         ],
         "xaxis": "x42",
         "y": [
          1,
          1,
          1,
          1,
          1,
          1,
          1,
          1,
          1,
          1
         ],
         "yaxis": "y42"
        },
        {
         "line": {
          "color": "#BC80BD"
         },
         "name": "org:dissolved recall",
         "type": "scatter",
         "uid": "cb713983-6d93-49fe-91fe-27ca56cb5bbd",
         "x": [
          "6f",
          "7f",
          "8f",
          "9f",
          "10f",
          "11f",
          "12f",
          "13f",
          "14f",
          "nofilter"
         ],
         "xaxis": "x42",
         "y": [
          0,
          0,
          0,
          0,
          0,
          0,
          0,
          0,
          0,
          0
         ],
         "yaxis": "y42"
        },
        {
         "line": {
          "color": "#FCCDE5"
         },
         "name": "org:dissolved f1",
         "type": "scatter",
         "uid": "bdb4ee78-2913-4dce-abaa-e620191271ad",
         "x": [
          "6f",
          "7f",
          "8f",
          "9f",
          "10f",
          "11f",
          "12f",
          "13f",
          "14f",
          "nofilter"
         ],
         "xaxis": "x42",
         "y": [
          0,
          0,
          0,
          0,
          0,
          0,
          0,
          0,
          0,
          0
         ],
         "yaxis": "y42"
        }
       ],
       "layout": {
        "annotations": [
         {
          "font": {
           "family": "Arial",
           "size": 10
          },
          "showarrow": false,
          "text": "total (18,448)",
          "x": 0.14444444444444446,
          "xanchor": "center",
          "xref": "paper",
          "y": 1,
          "yanchor": "bottom",
          "yref": "paper"
         },
         {
          "font": {
           "family": "Arial",
           "size": 10
          },
          "showarrow": false,
          "text": "per:title (3,362)",
          "x": 0.5,
          "xanchor": "center",
          "xref": "paper",
          "y": 1,
          "yanchor": "bottom",
          "yref": "paper"
         },
         {
          "font": {
           "family": "Arial",
           "size": 10
          },
          "showarrow": false,
          "text": "org:top_members/employees (2,424)",
          "x": 0.8555555555555556,
          "xanchor": "center",
          "xref": "paper",
          "y": 1,
          "yanchor": "bottom",
          "yref": "paper"
         },
         {
          "font": {
           "family": "Arial",
           "size": 10
          },
          "showarrow": false,
          "text": "per:employee_of (1,899)",
          "x": 0.14444444444444446,
          "xanchor": "center",
          "xref": "paper",
          "y": 0.9260204081632654,
          "yanchor": "bottom",
          "yref": "paper"
         },
         {
          "font": {
           "family": "Arial",
           "size": 10
          },
          "showarrow": false,
          "text": "org:alternate_names (1,146)",
          "x": 0.5,
          "xanchor": "center",
          "xref": "paper",
          "y": 0.9260204081632654,
          "yanchor": "bottom",
          "yref": "paper"
         },
         {
          "font": {
           "family": "Arial",
           "size": 10
          },
          "showarrow": false,
          "text": "per:countries_of_residence (671)",
          "x": 0.8555555555555556,
          "xanchor": "center",
          "xref": "paper",
          "y": 0.9260204081632654,
          "yanchor": "bottom",
          "yref": "paper"
         },
         {
          "font": {
           "family": "Arial",
           "size": 10
          },
          "showarrow": false,
          "text": "org:country_of_headquarters (645)",
          "x": 0.14444444444444446,
          "xanchor": "center",
          "xref": "paper",
          "y": 0.8520408163265307,
          "yanchor": "bottom",
          "yref": "paper"
         },
         {
          "font": {
           "family": "Arial",
           "size": 10
          },
          "showarrow": false,
          "text": "per:age (633)",
          "x": 0.5,
          "xanchor": "center",
          "xref": "paper",
          "y": 0.8520408163265307,
          "yanchor": "bottom",
          "yref": "paper"
         },
         {
          "font": {
           "family": "Arial",
           "size": 10
          },
          "showarrow": false,
          "text": "per:cities_of_residence (553)",
          "x": 0.8555555555555556,
          "xanchor": "center",
          "xref": "paper",
          "y": 0.8520408163265307,
          "yanchor": "bottom",
          "yref": "paper"
         },
         {
          "font": {
           "family": "Arial",
           "size": 10
          },
          "showarrow": false,
          "text": "per:origin (535)",
          "x": 0.14444444444444446,
          "xanchor": "center",
          "xref": "paper",
          "y": 0.778061224489796,
          "yanchor": "bottom",
          "yref": "paper"
         },
         {
          "font": {
           "family": "Arial",
           "size": 10
          },
          "showarrow": false,
          "text": "org:city_of_headquarters (491)",
          "x": 0.5,
          "xanchor": "center",
          "xref": "paper",
          "y": 0.778061224489796,
          "yanchor": "bottom",
          "yref": "paper"
         },
         {
          "font": {
           "family": "Arial",
           "size": 10
          },
          "showarrow": false,
          "text": "per:spouse (417)",
          "x": 0.8555555555555556,
          "xanchor": "center",
          "xref": "paper",
          "y": 0.778061224489796,
          "yanchor": "bottom",
          "yref": "paper"
         },
         {
          "font": {
           "family": "Arial",
           "size": 10
          },
          "showarrow": false,
          "text": "org:subsidiaries (409)",
          "x": 0.14444444444444446,
          "xanchor": "center",
          "xref": "paper",
          "y": 0.7040816326530612,
          "yanchor": "bottom",
          "yref": "paper"
         },
         {
          "font": {
           "family": "Arial",
           "size": 10
          },
          "showarrow": false,
          "text": "per:stateorprovinces_of_residence (403)",
          "x": 0.5,
          "xanchor": "center",
          "xref": "paper",
          "y": 0.7040816326530612,
          "yanchor": "bottom",
          "yref": "paper"
         },
         {
          "font": {
           "family": "Arial",
           "size": 10
          },
          "showarrow": false,
          "text": "org:parents (382)",
          "x": 0.8555555555555556,
          "xanchor": "center",
          "xref": "paper",
          "y": 0.7040816326530612,
          "yanchor": "bottom",
          "yref": "paper"
         },
         {
          "font": {
           "family": "Arial",
           "size": 10
          },
          "showarrow": false,
          "text": "per:date_of_death (340)",
          "x": 0.14444444444444446,
          "xanchor": "center",
          "xref": "paper",
          "y": 0.6301020408163265,
          "yanchor": "bottom",
          "yref": "paper"
         },
         {
          "font": {
           "family": "Arial",
           "size": 10
          },
          "showarrow": false,
          "text": "per:children (310)",
          "x": 0.5,
          "xanchor": "center",
          "xref": "paper",
          "y": 0.6301020408163265,
          "yanchor": "bottom",
          "yref": "paper"
         },
         {
          "font": {
           "family": "Arial",
           "size": 10
          },
          "showarrow": false,
          "text": "org:stateorprovince_of_headquarters (299)",
          "x": 0.8555555555555556,
          "xanchor": "center",
          "xref": "paper",
          "y": 0.6301020408163265,
          "yanchor": "bottom",
          "yref": "paper"
         },
         {
          "font": {
           "family": "Arial",
           "size": 10
          },
          "showarrow": false,
          "text": "per:cause_of_death (285)",
          "x": 0.14444444444444446,
          "xanchor": "center",
          "xref": "paper",
          "y": 0.5561224489795918,
          "yanchor": "bottom",
          "yref": "paper"
         },
         {
          "font": {
           "family": "Arial",
           "size": 10
          },
          "showarrow": false,
          "text": "per:other_family (259)",
          "x": 0.5,
          "xanchor": "center",
          "xref": "paper",
          "y": 0.5561224489795918,
          "yanchor": "bottom",
          "yref": "paper"
         },
         {
          "font": {
           "family": "Arial",
           "size": 10
          },
          "showarrow": false,
          "text": "org:members (255)",
          "x": 0.8555555555555556,
          "xanchor": "center",
          "xref": "paper",
          "y": 0.5561224489795918,
          "yanchor": "bottom",
          "yref": "paper"
         },
         {
          "font": {
           "family": "Arial",
           "size": 10
          },
          "showarrow": false,
          "text": "per:parents (208)",
          "x": 0.14444444444444446,
          "xanchor": "center",
          "xref": "paper",
          "y": 0.4821428571428572,
          "yanchor": "bottom",
          "yref": "paper"
         },
         {
          "font": {
           "family": "Arial",
           "size": 10
          },
          "showarrow": false,
          "text": "org:founded_by (200)",
          "x": 0.5,
          "xanchor": "center",
          "xref": "paper",
          "y": 0.4821428571428572,
          "yanchor": "bottom",
          "yref": "paper"
         },
         {
          "font": {
           "family": "Arial",
           "size": 10
          },
          "showarrow": false,
          "text": "per:city_of_death (199)",
          "x": 0.8555555555555556,
          "xanchor": "center",
          "xref": "paper",
          "y": 0.4821428571428572,
          "yanchor": "bottom",
          "yref": "paper"
         },
         {
          "font": {
           "family": "Arial",
           "size": 10
          },
          "showarrow": false,
          "text": "per:schools_attended (199)",
          "x": 0.14444444444444446,
          "xanchor": "center",
          "xref": "paper",
          "y": 0.4081632653061225,
          "yanchor": "bottom",
          "yref": "paper"
         },
         {
          "font": {
           "family": "Arial",
           "size": 10
          },
          "showarrow": false,
          "text": "org:website (197)",
          "x": 0.5,
          "xanchor": "center",
          "xref": "paper",
          "y": 0.4081632653061225,
          "yanchor": "bottom",
          "yref": "paper"
         },
         {
          "font": {
           "family": "Arial",
           "size": 10
          },
          "showarrow": false,
          "text": "per:siblings (195)",
          "x": 0.8555555555555556,
          "xanchor": "center",
          "xref": "paper",
          "y": 0.4081632653061225,
          "yanchor": "bottom",
          "yref": "paper"
         },
         {
          "font": {
           "family": "Arial",
           "size": 10
          },
          "showarrow": false,
          "text": "per:charges (177)",
          "x": 0.14444444444444446,
          "xanchor": "center",
          "xref": "paper",
          "y": 0.33418367346938777,
          "yanchor": "bottom",
          "yref": "paper"
         },
         {
          "font": {
           "family": "Arial",
           "size": 10
          },
          "showarrow": false,
          "text": "org:member_of (153)",
          "x": 0.5,
          "xanchor": "center",
          "xref": "paper",
          "y": 0.33418367346938777,
          "yanchor": "bottom",
          "yref": "paper"
         },
         {
          "font": {
           "family": "Arial",
           "size": 10
          },
          "showarrow": false,
          "text": "per:alternate_names (142)",
          "x": 0.8555555555555556,
          "xanchor": "center",
          "xref": "paper",
          "y": 0.33418367346938777,
          "yanchor": "bottom",
          "yref": "paper"
         },
         {
          "font": {
           "family": "Arial",
           "size": 10
          },
          "showarrow": false,
          "text": "org:shareholders (131)",
          "x": 0.14444444444444446,
          "xanchor": "center",
          "xref": "paper",
          "y": 0.2602040816326531,
          "yanchor": "bottom",
          "yref": "paper"
         },
         {
          "font": {
           "family": "Arial",
           "size": 10
          },
          "showarrow": false,
          "text": "org:founded (129)",
          "x": 0.5,
          "xanchor": "center",
          "xref": "paper",
          "y": 0.2602040816326531,
          "yanchor": "bottom",
          "yref": "paper"
         },
         {
          "font": {
           "family": "Arial",
           "size": 10
          },
          "showarrow": false,
          "text": "org:political/religious_affiliation (115)",
          "x": 0.8555555555555556,
          "xanchor": "center",
          "xref": "paper",
          "y": 0.2602040816326531,
          "yanchor": "bottom",
          "yref": "paper"
         },
         {
          "font": {
           "family": "Arial",
           "size": 10
          },
          "showarrow": false,
          "text": "per:religion (106)",
          "x": 0.14444444444444446,
          "xanchor": "center",
          "xref": "paper",
          "y": 0.18622448979591838,
          "yanchor": "bottom",
          "yref": "paper"
         },
         {
          "font": {
           "family": "Arial",
           "size": 10
          },
          "showarrow": false,
          "text": "org:number_of_employees/members (102)",
          "x": 0.5,
          "xanchor": "center",
          "xref": "paper",
          "y": 0.18622448979591838,
          "yanchor": "bottom",
          "yref": "paper"
         },
         {
          "font": {
           "family": "Arial",
           "size": 10
          },
          "showarrow": false,
          "text": "per:city_of_birth (98)",
          "x": 0.8555555555555556,
          "xanchor": "center",
          "xref": "paper",
          "y": 0.18622448979591838,
          "yanchor": "bottom",
          "yref": "paper"
         },
         {
          "font": {
           "family": "Arial",
           "size": 10
          },
          "showarrow": false,
          "text": "per:date_of_birth (94)",
          "x": 0.14444444444444446,
          "xanchor": "center",
          "xref": "paper",
          "y": 0.11224489795918369,
          "yanchor": "bottom",
          "yref": "paper"
         },
         {
          "font": {
           "family": "Arial",
           "size": 10
          },
          "showarrow": false,
          "text": "per:stateorprovince_of_death (90)",
          "x": 0.5,
          "xanchor": "center",
          "xref": "paper",
          "y": 0.11224489795918369,
          "yanchor": "bottom",
          "yref": "paper"
         },
         {
          "font": {
           "family": "Arial",
           "size": 10
          },
          "showarrow": false,
          "text": "per:stateorprovince_of_birth (64)",
          "x": 0.8555555555555556,
          "xanchor": "center",
          "xref": "paper",
          "y": 0.11224489795918369,
          "yanchor": "bottom",
          "yref": "paper"
         },
         {
          "font": {
           "family": "Arial",
           "size": 10
          },
          "showarrow": false,
          "text": "per:country_of_death (52)",
          "x": 0.14444444444444446,
          "xanchor": "center",
          "xref": "paper",
          "y": 0.03826530612244899,
          "yanchor": "bottom",
          "yref": "paper"
         },
         {
          "font": {
           "family": "Arial",
           "size": 10
          },
          "showarrow": false,
          "text": "per:country_of_birth (48)",
          "x": 0.5,
          "xanchor": "center",
          "xref": "paper",
          "y": 0.03826530612244899,
          "yanchor": "bottom",
          "yref": "paper"
         },
         {
          "font": {
           "family": "Arial",
           "size": 10
          },
          "showarrow": false,
          "text": "org:dissolved (31)",
          "x": 0.8555555555555556,
          "xanchor": "center",
          "xref": "paper",
          "y": 0.03826530612244899,
          "yanchor": "bottom",
          "yref": "paper"
         }
        ],
        "font": {
         "family": "Arial",
         "size": 12
        },
        "height": 3000,
        "title": {
         "text": "UCCA Filtering Results"
        },
        "width": 1500,
        "xaxis": {
         "anchor": "y",
         "domain": [
          0,
          0.2888888888888889
         ]
        },
        "xaxis10": {
         "anchor": "y10",
         "domain": [
          0,
          0.2888888888888889
         ]
        },
        "xaxis11": {
         "anchor": "y11",
         "domain": [
          0.35555555555555557,
          0.6444444444444445
         ]
        },
        "xaxis12": {
         "anchor": "y12",
         "domain": [
          0.7111111111111111,
          1
         ]
        },
        "xaxis13": {
         "anchor": "y13",
         "domain": [
          0,
          0.2888888888888889
         ]
        },
        "xaxis14": {
         "anchor": "y14",
         "domain": [
          0.35555555555555557,
          0.6444444444444445
         ]
        },
        "xaxis15": {
         "anchor": "y15",
         "domain": [
          0.7111111111111111,
          1
         ]
        },
        "xaxis16": {
         "anchor": "y16",
         "domain": [
          0,
          0.2888888888888889
         ]
        },
        "xaxis17": {
         "anchor": "y17",
         "domain": [
          0.35555555555555557,
          0.6444444444444445
         ]
        },
        "xaxis18": {
         "anchor": "y18",
         "domain": [
          0.7111111111111111,
          1
         ]
        },
        "xaxis19": {
         "anchor": "y19",
         "domain": [
          0,
          0.2888888888888889
         ]
        },
        "xaxis2": {
         "anchor": "y2",
         "domain": [
          0.35555555555555557,
          0.6444444444444445
         ]
        },
        "xaxis20": {
         "anchor": "y20",
         "domain": [
          0.35555555555555557,
          0.6444444444444445
         ]
        },
        "xaxis21": {
         "anchor": "y21",
         "domain": [
          0.7111111111111111,
          1
         ]
        },
        "xaxis22": {
         "anchor": "y22",
         "domain": [
          0,
          0.2888888888888889
         ]
        },
        "xaxis23": {
         "anchor": "y23",
         "domain": [
          0.35555555555555557,
          0.6444444444444445
         ]
        },
        "xaxis24": {
         "anchor": "y24",
         "domain": [
          0.7111111111111111,
          1
         ]
        },
        "xaxis25": {
         "anchor": "y25",
         "domain": [
          0,
          0.2888888888888889
         ]
        },
        "xaxis26": {
         "anchor": "y26",
         "domain": [
          0.35555555555555557,
          0.6444444444444445
         ]
        },
        "xaxis27": {
         "anchor": "y27",
         "domain": [
          0.7111111111111111,
          1
         ]
        },
        "xaxis28": {
         "anchor": "y28",
         "domain": [
          0,
          0.2888888888888889
         ]
        },
        "xaxis29": {
         "anchor": "y29",
         "domain": [
          0.35555555555555557,
          0.6444444444444445
         ]
        },
        "xaxis3": {
         "anchor": "y3",
         "domain": [
          0.7111111111111111,
          1
         ]
        },
        "xaxis30": {
         "anchor": "y30",
         "domain": [
          0.7111111111111111,
          1
         ]
        },
        "xaxis31": {
         "anchor": "y31",
         "domain": [
          0,
          0.2888888888888889
         ]
        },
        "xaxis32": {
         "anchor": "y32",
         "domain": [
          0.35555555555555557,
          0.6444444444444445
         ]
        },
        "xaxis33": {
         "anchor": "y33",
         "domain": [
          0.7111111111111111,
          1
         ]
        },
        "xaxis34": {
         "anchor": "y34",
         "domain": [
          0,
          0.2888888888888889
         ]
        },
        "xaxis35": {
         "anchor": "y35",
         "domain": [
          0.35555555555555557,
          0.6444444444444445
         ]
        },
        "xaxis36": {
         "anchor": "y36",
         "domain": [
          0.7111111111111111,
          1
         ]
        },
        "xaxis37": {
         "anchor": "y37",
         "domain": [
          0,
          0.2888888888888889
         ]
        },
        "xaxis38": {
         "anchor": "y38",
         "domain": [
          0.35555555555555557,
          0.6444444444444445
         ]
        },
        "xaxis39": {
         "anchor": "y39",
         "domain": [
          0.7111111111111111,
          1
         ]
        },
        "xaxis4": {
         "anchor": "y4",
         "domain": [
          0,
          0.2888888888888889
         ]
        },
        "xaxis40": {
         "anchor": "y40",
         "domain": [
          0,
          0.2888888888888889
         ]
        },
        "xaxis41": {
         "anchor": "y41",
         "domain": [
          0.35555555555555557,
          0.6444444444444445
         ]
        },
        "xaxis42": {
         "anchor": "y42",
         "domain": [
          0.7111111111111111,
          1
         ]
        },
        "xaxis5": {
         "anchor": "y5",
         "domain": [
          0.35555555555555557,
          0.6444444444444445
         ]
        },
        "xaxis6": {
         "anchor": "y6",
         "domain": [
          0.7111111111111111,
          1
         ]
        },
        "xaxis7": {
         "anchor": "y7",
         "domain": [
          0,
          0.2888888888888889
         ]
        },
        "xaxis8": {
         "anchor": "y8",
         "domain": [
          0.35555555555555557,
          0.6444444444444445
         ]
        },
        "xaxis9": {
         "anchor": "y9",
         "domain": [
          0.7111111111111111,
          1
         ]
        },
        "yaxis": {
         "anchor": "x",
         "domain": [
          0.9617346938775511,
          1
         ]
        },
        "yaxis10": {
         "anchor": "x10",
         "domain": [
          0.739795918367347,
          0.778061224489796
         ]
        },
        "yaxis11": {
         "anchor": "x11",
         "domain": [
          0.739795918367347,
          0.778061224489796
         ]
        },
        "yaxis12": {
         "anchor": "x12",
         "domain": [
          0.739795918367347,
          0.778061224489796
         ]
        },
        "yaxis13": {
         "anchor": "x13",
         "domain": [
          0.6658163265306123,
          0.7040816326530612
         ]
        },
        "yaxis14": {
         "anchor": "x14",
         "domain": [
          0.6658163265306123,
          0.7040816326530612
         ]
        },
        "yaxis15": {
         "anchor": "x15",
         "domain": [
          0.6658163265306123,
          0.7040816326530612
         ]
        },
        "yaxis16": {
         "anchor": "x16",
         "domain": [
          0.5918367346938775,
          0.6301020408163265
         ]
        },
        "yaxis17": {
         "anchor": "x17",
         "domain": [
          0.5918367346938775,
          0.6301020408163265
         ]
        },
        "yaxis18": {
         "anchor": "x18",
         "domain": [
          0.5918367346938775,
          0.6301020408163265
         ]
        },
        "yaxis19": {
         "anchor": "x19",
         "domain": [
          0.5178571428571429,
          0.5561224489795918
         ]
        },
        "yaxis2": {
         "anchor": "x2",
         "domain": [
          0.9617346938775511,
          1
         ]
        },
        "yaxis20": {
         "anchor": "x20",
         "domain": [
          0.5178571428571429,
          0.5561224489795918
         ]
        },
        "yaxis21": {
         "anchor": "x21",
         "domain": [
          0.5178571428571429,
          0.5561224489795918
         ]
        },
        "yaxis22": {
         "anchor": "x22",
         "domain": [
          0.4438775510204082,
          0.4821428571428572
         ]
        },
        "yaxis23": {
         "anchor": "x23",
         "domain": [
          0.4438775510204082,
          0.4821428571428572
         ]
        },
        "yaxis24": {
         "anchor": "x24",
         "domain": [
          0.4438775510204082,
          0.4821428571428572
         ]
        },
        "yaxis25": {
         "anchor": "x25",
         "domain": [
          0.3698979591836735,
          0.4081632653061225
         ]
        },
        "yaxis26": {
         "anchor": "x26",
         "domain": [
          0.3698979591836735,
          0.4081632653061225
         ]
        },
        "yaxis27": {
         "anchor": "x27",
         "domain": [
          0.3698979591836735,
          0.4081632653061225
         ]
        },
        "yaxis28": {
         "anchor": "x28",
         "domain": [
          0.29591836734693877,
          0.33418367346938777
         ]
        },
        "yaxis29": {
         "anchor": "x29",
         "domain": [
          0.29591836734693877,
          0.33418367346938777
         ]
        },
        "yaxis3": {
         "anchor": "x3",
         "domain": [
          0.9617346938775511,
          1
         ]
        },
        "yaxis30": {
         "anchor": "x30",
         "domain": [
          0.29591836734693877,
          0.33418367346938777
         ]
        },
        "yaxis31": {
         "anchor": "x31",
         "domain": [
          0.22193877551020408,
          0.2602040816326531
         ]
        },
        "yaxis32": {
         "anchor": "x32",
         "domain": [
          0.22193877551020408,
          0.2602040816326531
         ]
        },
        "yaxis33": {
         "anchor": "x33",
         "domain": [
          0.22193877551020408,
          0.2602040816326531
         ]
        },
        "yaxis34": {
         "anchor": "x34",
         "domain": [
          0.14795918367346939,
          0.18622448979591838
         ]
        },
        "yaxis35": {
         "anchor": "x35",
         "domain": [
          0.14795918367346939,
          0.18622448979591838
         ]
        },
        "yaxis36": {
         "anchor": "x36",
         "domain": [
          0.14795918367346939,
          0.18622448979591838
         ]
        },
        "yaxis37": {
         "anchor": "x37",
         "domain": [
          0.07397959183673469,
          0.11224489795918369
         ]
        },
        "yaxis38": {
         "anchor": "x38",
         "domain": [
          0.07397959183673469,
          0.11224489795918369
         ]
        },
        "yaxis39": {
         "anchor": "x39",
         "domain": [
          0.07397959183673469,
          0.11224489795918369
         ]
        },
        "yaxis4": {
         "anchor": "x4",
         "domain": [
          0.8877551020408164,
          0.9260204081632654
         ]
        },
        "yaxis40": {
         "anchor": "x40",
         "domain": [
          0,
          0.03826530612244899
         ]
        },
        "yaxis41": {
         "anchor": "x41",
         "domain": [
          0,
          0.03826530612244899
         ]
        },
        "yaxis42": {
         "anchor": "x42",
         "domain": [
          0,
          0.03826530612244899
         ]
        },
        "yaxis5": {
         "anchor": "x5",
         "domain": [
          0.8877551020408164,
          0.9260204081632654
         ]
        },
        "yaxis6": {
         "anchor": "x6",
         "domain": [
          0.8877551020408164,
          0.9260204081632654
         ]
        },
        "yaxis7": {
         "anchor": "x7",
         "domain": [
          0.8137755102040818,
          0.8520408163265307
         ]
        },
        "yaxis8": {
         "anchor": "x8",
         "domain": [
          0.8137755102040818,
          0.8520408163265307
         ]
        },
        "yaxis9": {
         "anchor": "x9",
         "domain": [
          0.8137755102040818,
          0.8520408163265307
         ]
        }
       }
      },
      "text/html": [
       "<div>\n",
       "        \n",
       "        \n",
       "            <div id=\"32966cf5-918a-412a-bcaa-3a900125f580\" class=\"plotly-graph-div\" style=\"height:3000px; width:1500px;\"></div>\n",
       "            <script type=\"text/javascript\">\n",
       "                require([\"plotly\"], function(Plotly) {\n",
       "                    window.PLOTLYENV=window.PLOTLYENV || {};\n",
       "                    window.PLOTLYENV.BASE_URL='https://plot.ly';\n",
       "                    \n",
       "                if (document.getElementById(\"32966cf5-918a-412a-bcaa-3a900125f580\")) {\n",
       "                    Plotly.newPlot(\n",
       "                        '32966cf5-918a-412a-bcaa-3a900125f580',\n",
       "                        [{\"line\": {\"color\": \"#CCEBC5\"}, \"name\": \"total precision\", \"type\": \"scatter\", \"uid\": \"ec5a3bd3-f56a-45cb-bc83-8fd61a3e950e\", \"x\": [\"6f\", \"7f\", \"8f\", \"9f\", \"10f\", \"11f\", \"12f\", \"13f\", \"14f\", \"nofilter\"], \"xaxis\": \"x\", \"y\": [0.6768285714285714, 0.6920285714285714, 0.6807428571428572, 0.6996428571428571, 0.7022285714285715, 0.6898142857142858, 0.7007285714285715, 0.7092428571428571, 0.7130714285714286, 0.7066], \"yaxis\": \"y\"}, {\"line\": {\"color\": \"#BC80BD\"}, \"name\": \"total recall\", \"type\": \"scatter\", \"uid\": \"f3bf28b2-1d44-4ab8-a30d-1dcf2ceac308\", \"x\": [\"6f\", \"7f\", \"8f\", \"9f\", \"10f\", \"11f\", \"12f\", \"13f\", \"14f\", \"nofilter\"], \"xaxis\": \"x\", \"y\": [0.6339142857142858, 0.6417571428571428, 0.6595285714285714, 0.6466, 0.6360142857142856, 0.6441142857142858, 0.6375142857142857, 0.6300714285714285, 0.6275285714285715, 0.6342142857142857], \"yaxis\": \"y\"}, {\"line\": {\"color\": \"#FCCDE5\"}, \"name\": \"total f1\", \"type\": \"scatter\", \"uid\": \"c7998d3b-5bd5-4d20-adb0-9db5d3f0525f\", \"x\": [\"6f\", \"7f\", \"8f\", \"9f\", \"10f\", \"11f\", \"12f\", \"13f\", \"14f\", \"nofilter\"], \"xaxis\": \"x\", \"y\": [0.6545714285714287, 0.6658999999999999, 0.6698428571428572, 0.6720571428571429, 0.6674428571428571, 0.6661714285714285, 0.6675571428571427, 0.6672285714285715, 0.6676000000000001, 0.6683857142857142], \"yaxis\": \"y\"}, {\"line\": {\"color\": \"#CCEBC5\"}, \"name\": \"per:title precision\", \"type\": \"scatter\", \"uid\": \"aa3965c4-e9b9-40a6-9e30-53c146933d69\", \"x\": [\"6f\", \"7f\", \"8f\", \"9f\", \"10f\", \"11f\", \"12f\", \"13f\", \"14f\", \"nofilter\"], \"xaxis\": \"x2\", \"y\": [0.802242857142857, 0.8246714285714286, 0.8081857142857142, 0.8364714285714285, 0.8071857142857143, 0.8287142857142857, 0.8160857142857143, 0.8175857142857144, 0.8336, 0.8290428571428573], \"yaxis\": \"y2\"}, {\"line\": {\"color\": \"#BC80BD\"}, \"name\": \"per:title recall\", \"type\": \"scatter\", \"uid\": \"25e4a4c7-f369-46ed-a602-e0e15a54d392\", \"x\": [\"6f\", \"7f\", \"8f\", \"9f\", \"10f\", \"11f\", \"12f\", \"13f\", \"14f\", \"nofilter\"], \"xaxis\": \"x2\", \"y\": [0.8102857142857143, 0.8042857142857143, 0.838, 0.7925714285714286, 0.8305714285714284, 0.8077142857142856, 0.812, 0.8211428571428572, 0.8051428571428573, 0.808], \"yaxis\": \"y2\"}, {\"line\": {\"color\": \"#FCCDE5\"}, \"name\": \"per:title f1\", \"type\": \"scatter\", \"uid\": \"7eb8e0be-c826-4edc-83c6-03d4b34208d8\", \"x\": [\"6f\", \"7f\", \"8f\", \"9f\", \"10f\", \"11f\", \"12f\", \"13f\", \"14f\", \"nofilter\"], \"xaxis\": \"x2\", \"y\": [0.8057, 0.8142142857142858, 0.822757142857143, 0.8137999999999999, 0.8186714285714286, 0.8179857142857143, 0.8139428571428572, 0.8191857142857142, 0.8190428571428571, 0.8182857142857144], \"yaxis\": \"y2\"}, {\"line\": {\"color\": \"#CCEBC5\"}, \"name\": \"org:top_members/employees precision\", \"type\": \"scatter\", \"uid\": \"3369f4ab-a969-490b-8727-67ffe52c49ca\", \"x\": [\"6f\", \"7f\", \"8f\", \"9f\", \"10f\", \"11f\", \"12f\", \"13f\", \"14f\", \"nofilter\"], \"xaxis\": \"x3\", \"y\": [0.6959571428571428, 0.7318714285714286, 0.7258285714285714, 0.7220571428571427, 0.7324285714285714, 0.7186000000000001, 0.7234285714285714, 0.7144142857142857, 0.7215428571428572, 0.7158142857142857], \"yaxis\": \"y3\"}, {\"line\": {\"color\": \"#BC80BD\"}, \"name\": \"org:top_members/employees recall\", \"type\": \"scatter\", \"uid\": \"10385b72-baab-4639-b82a-d646efe18207\", \"x\": [\"6f\", \"7f\", \"8f\", \"9f\", \"10f\", \"11f\", \"12f\", \"13f\", \"14f\", \"nofilter\"], \"xaxis\": \"x3\", \"y\": [0.827, 0.7981, 0.8121285714285714, 0.8104857142857143, 0.8113142857142857, 0.8170857142857143, 0.8179285714285714, 0.8133714285714285, 0.8117142857142856, 0.8220428571428571], \"yaxis\": \"y3\"}, {\"line\": {\"color\": \"#FCCDE5\"}, \"name\": \"org:top_members/employees f1\", \"type\": \"scatter\", \"uid\": \"cb1ec215-3031-45e2-b60c-bbae5e271a7b\", \"x\": [\"6f\", \"7f\", \"8f\", \"9f\", \"10f\", \"11f\", \"12f\", \"13f\", \"14f\", \"nofilter\"], \"xaxis\": \"x3\", \"y\": [0.7554571428571428, 0.7634857142857142, 0.7664285714285715, 0.7635571428571428, 0.7696285714285714, 0.7642571428571429, 0.7676428571428572, 0.760542857142857, 0.7638285714285714, 0.7651428571428571], \"yaxis\": \"y3\"}, {\"line\": {\"color\": \"#CCEBC5\"}, \"name\": \"per:employee_of precision\", \"type\": \"scatter\", \"uid\": \"628f6837-6b71-4e55-877d-20180f27fa78\", \"x\": [\"6f\", \"7f\", \"8f\", \"9f\", \"10f\", \"11f\", \"12f\", \"13f\", \"14f\", \"nofilter\"], \"xaxis\": \"x4\", \"y\": [0.6481857142857143, 0.6624428571428572, 0.6446571428571428, 0.6764428571428571, 0.6666285714285713, 0.6777857142857143, 0.6895285714285714, 0.6739428571428572, 0.6902857142857144, 0.6886857142857142], \"yaxis\": \"y4\"}, {\"line\": {\"color\": \"#BC80BD\"}, \"name\": \"per:employee_of recall\", \"type\": \"scatter\", \"uid\": \"4851302c-8f22-4d76-b0f2-ba3a46aa6551\", \"x\": [\"6f\", \"7f\", \"8f\", \"9f\", \"10f\", \"11f\", \"12f\", \"13f\", \"14f\", \"nofilter\"], \"xaxis\": \"x4\", \"y\": [0.6661142857142857, 0.6450285714285714, 0.6807285714285715, 0.6564, 0.649357142857143, 0.6498714285714284, 0.6304, 0.671, 0.6282428571428572, 0.6363714285714285], \"yaxis\": \"y4\"}, {\"line\": {\"color\": \"#FCCDE5\"}, \"name\": \"per:employee_of f1\", \"type\": \"scatter\", \"uid\": \"412adf2c-94d5-4fee-b533-80960caef43c\", \"x\": [\"6f\", \"7f\", \"8f\", \"9f\", \"10f\", \"11f\", \"12f\", \"13f\", \"14f\", \"nofilter\"], \"xaxis\": \"x4\", \"y\": [0.6566857142857143, 0.6525, 0.6611, 0.6660285714285715, 0.6574571428571429, 0.6632571428571428, 0.6583428571428571, 0.6722714285714285, 0.6570857142857143, 0.6607571428571427], \"yaxis\": \"y4\"}, {\"line\": {\"color\": \"#CCEBC5\"}, \"name\": \"org:alternate_names precision\", \"type\": \"scatter\", \"uid\": \"d5620869-9426-4256-aed2-5b96b1cff352\", \"x\": [\"6f\", \"7f\", \"8f\", \"9f\", \"10f\", \"11f\", \"12f\", \"13f\", \"14f\", \"nofilter\"], \"xaxis\": \"x5\", \"y\": [0.7529714285714285, 0.7627, 0.7560857142857144, 0.7631428571428572, 0.7563714285714287, 0.7655000000000001, 0.7644285714285716, 0.7638571428571429, 0.7590142857142856, 0.7573857142857143], \"yaxis\": \"y5\"}, {\"line\": {\"color\": \"#BC80BD\"}, \"name\": \"org:alternate_names recall\", \"type\": \"scatter\", \"uid\": \"aea2976b-f5d9-4a59-bffe-8c0e74cdbdda\", \"x\": [\"6f\", \"7f\", \"8f\", \"9f\", \"10f\", \"11f\", \"12f\", \"13f\", \"14f\", \"nofilter\"], \"xaxis\": \"x5\", \"y\": [0.8296571428571428, 0.8296571428571429, 0.8357, 0.829657142857143, 0.8242857142857142, 0.8229428571428572, 0.8269714285714286, 0.8242857142857142, 0.8316714285714285, 0.8249571428571427], \"yaxis\": \"y5\"}, {\"line\": {\"color\": \"#FCCDE5\"}, \"name\": \"org:alternate_names f1\", \"type\": \"scatter\", \"uid\": \"5cbc5760-8908-41ed-8f17-b2b9e1eee099\", \"x\": [\"6f\", \"7f\", \"8f\", \"9f\", \"10f\", \"11f\", \"12f\", \"13f\", \"14f\", \"nofilter\"], \"xaxis\": \"x5\", \"y\": [0.7894, 0.7947428571428572, 0.7937428571428571, 0.7949999999999999, 0.7888571428571428, 0.793142857142857, 0.7944571428571431, 0.7929142857142857, 0.7936142857142857, 0.7897142857142857], \"yaxis\": \"y5\"}, {\"line\": {\"color\": \"#CCEBC5\"}, \"name\": \"per:countries_of_residence precision\", \"type\": \"scatter\", \"uid\": \"1521cbbe-b9f3-4a27-8191-f55616adc93e\", \"x\": [\"6f\", \"7f\", \"8f\", \"9f\", \"10f\", \"11f\", \"12f\", \"13f\", \"14f\", \"nofilter\"], \"xaxis\": \"x6\", \"y\": [0.549142857142857, 0.5507857142857143, 0.4984857142857143, 0.5471714285714285, 0.5580571428571428, 0.5204857142857143, 0.5441142857142858, 0.5491714285714285, 0.5485714285714286, 0.5371571428571428], \"yaxis\": \"y6\"}, {\"line\": {\"color\": \"#BC80BD\"}, \"name\": \"per:countries_of_residence recall\", \"type\": \"scatter\", \"uid\": \"abb5e562-359b-44d6-9956-c92bc0e285ca\", \"x\": [\"6f\", \"7f\", \"8f\", \"9f\", \"10f\", \"11f\", \"12f\", \"13f\", \"14f\", \"nofilter\"], \"xaxis\": \"x6\", \"y\": [0.4768428571428572, 0.5299285714285714, 0.5434285714285715, 0.4758571428571429, 0.4112, 0.5193000000000001, 0.4642571428571428, 0.45367142857142856, 0.4198857142857143, 0.4430428571428571], \"yaxis\": \"y6\"}, {\"line\": {\"color\": \"#FCCDE5\"}, \"name\": \"per:countries_of_residence f1\", \"type\": \"scatter\", \"uid\": \"17cf1352-81a1-4747-b8bc-878e28a7ba88\", \"x\": [\"6f\", \"7f\", \"8f\", \"9f\", \"10f\", \"11f\", \"12f\", \"13f\", \"14f\", \"nofilter\"], \"xaxis\": \"x6\", \"y\": [0.5098857142857143, 0.5392571428571428, 0.5184571428571428, 0.5084, 0.4729285714285714, 0.5181571428571429, 0.5004, 0.4961428571428571, 0.4754285714285715, 0.48448571428571435], \"yaxis\": \"y6\"}, {\"line\": {\"color\": \"#CCEBC5\"}, \"name\": \"org:country_of_headquarters precision\", \"type\": \"scatter\", \"uid\": \"6c3714a8-b4cd-4ae4-9340-5d1ae5620443\", \"x\": [\"6f\", \"7f\", \"8f\", \"9f\", \"10f\", \"11f\", \"12f\", \"13f\", \"14f\", \"nofilter\"], \"xaxis\": \"x7\", \"y\": [0.5959571428571427, 0.6326999999999999, 0.5706428571428571, 0.6771, 0.6503714285714286, 0.5983428571428571, 0.6661857142857144, 0.6738714285714286, 0.6818142857142858, 0.6605714285714285], \"yaxis\": \"y7\"}, {\"line\": {\"color\": \"#BC80BD\"}, \"name\": \"org:country_of_headquarters recall\", \"type\": \"scatter\", \"uid\": \"6d7fb318-62c9-4908-83c1-3c96d9968541\", \"x\": [\"6f\", \"7f\", \"8f\", \"9f\", \"10f\", \"11f\", \"12f\", \"13f\", \"14f\", \"nofilter\"], \"xaxis\": \"x7\", \"y\": [0.37829999999999997, 0.3373, 0.3954857142857143, 0.3439285714285715, 0.30424285714285715, 0.3756714285714286, 0.32935714285714285, 0.32275714285714285, 0.3068857142857143, 0.31348571428571426], \"yaxis\": \"y7\"}, {\"line\": {\"color\": \"#FCCDE5\"}, \"name\": \"org:country_of_headquarters f1\", \"type\": \"scatter\", \"uid\": \"9edf320e-519d-432d-8c80-54187ffaf4fd\", \"x\": [\"6f\", \"7f\", \"8f\", \"9f\", \"10f\", \"11f\", \"12f\", \"13f\", \"14f\", \"nofilter\"], \"xaxis\": \"x7\", \"y\": [0.45962857142857144, 0.43894285714285713, 0.46544285714285716, 0.4556142857142857, 0.41355714285714285, 0.4603428571428571, 0.4402142857142857, 0.4362142857142857, 0.4219857142857143, 0.4243285714285715], \"yaxis\": \"y7\"}, {\"line\": {\"color\": \"#CCEBC5\"}, \"name\": \"per:age precision\", \"type\": \"scatter\", \"uid\": \"1753de06-f47f-42eb-8965-fe6a96fdbbb6\", \"x\": [\"6f\", \"7f\", \"8f\", \"9f\", \"10f\", \"11f\", \"12f\", \"13f\", \"14f\", \"nofilter\"], \"xaxis\": \"x8\", \"y\": [0.8132857142857144, 0.8036857142857142, 0.8147428571428571, 0.8343142857142858, 0.8532857142857143, 0.8208428571428572, 0.8179857142857143, 0.8631714285714285, 0.8376142857142856, 0.8337428571428571], \"yaxis\": \"y8\"}, {\"line\": {\"color\": \"#BC80BD\"}, \"name\": \"per:age recall\", \"type\": \"scatter\", \"uid\": \"fcbbaca7-078f-446d-973e-77c0725c4b70\", \"x\": [\"6f\", \"7f\", \"8f\", \"9f\", \"10f\", \"11f\", \"12f\", \"13f\", \"14f\", \"nofilter\"], \"xaxis\": \"x8\", \"y\": [0.9442857142857142, 0.9485714285714286, 0.9485714285714285, 0.9507142857142856, 0.9342857142857143, 0.945, 0.9435714285714285, 0.9299999999999999, 0.9378571428571428, 0.9371428571428572], \"yaxis\": \"y8\"}, {\"line\": {\"color\": \"#FCCDE5\"}, \"name\": \"per:age f1\", \"type\": \"scatter\", \"uid\": \"b48bcecd-bc47-4bee-938e-70afe239ebd9\", \"x\": [\"6f\", \"7f\", \"8f\", \"9f\", \"10f\", \"11f\", \"12f\", \"13f\", \"14f\", \"nofilter\"], \"xaxis\": \"x8\", \"y\": [0.8736571428571429, 0.8698857142857144, 0.8760857142857142, 0.8886000000000002, 0.8917142857142857, 0.8781428571428572, 0.8759714285714285, 0.8950428571428571, 0.8848142857142857, 0.882042857142857], \"yaxis\": \"y8\"}, {\"line\": {\"color\": \"#CCEBC5\"}, \"name\": \"per:cities_of_residence precision\", \"type\": \"scatter\", \"uid\": \"9da6c710-092b-4075-b8e9-481c22f18d36\", \"x\": [\"6f\", \"7f\", \"8f\", \"9f\", \"10f\", \"11f\", \"12f\", \"13f\", \"14f\", \"nofilter\"], \"xaxis\": \"x9\", \"y\": [0.5254428571428572, 0.5514714285714286, 0.5526, 0.5600142857142857, 0.5703857142857143, 0.5475714285714285, 0.5449428571428572, 0.5768000000000001, 0.5656142857142857, 0.5803285714285715], \"yaxis\": \"y9\"}, {\"line\": {\"color\": \"#BC80BD\"}, \"name\": \"per:cities_of_residence recall\", \"type\": \"scatter\", \"uid\": \"a6d45ccd-9ebe-4ded-a265-c54ce083b857\", \"x\": [\"6f\", \"7f\", \"8f\", \"9f\", \"10f\", \"11f\", \"12f\", \"13f\", \"14f\", \"nofilter\"], \"xaxis\": \"x9\", \"y\": [0.5616, 0.5419428571428571, 0.5737, 0.5631, 0.5359, 0.5449857142857143, 0.563857142857143, 0.5208142857142858, 0.5185142857142857, 0.5291], \"yaxis\": \"y9\"}, {\"line\": {\"color\": \"#FCCDE5\"}, \"name\": \"per:cities_of_residence f1\", \"type\": \"scatter\", \"uid\": \"2dc9f264-f6dc-4631-ae88-753ec987516d\", \"x\": [\"6f\", \"7f\", \"8f\", \"9f\", \"10f\", \"11f\", \"12f\", \"13f\", \"14f\", \"nofilter\"], \"xaxis\": \"x9\", \"y\": [0.5422, 0.546, 0.5622142857142857, 0.5604714285714285, 0.5519571428571428, 0.546, 0.5539714285714286, 0.5467571428571428, 0.5406142857142856, 0.5530142857142858], \"yaxis\": \"y9\"}, {\"line\": {\"color\": \"#CCEBC5\"}, \"name\": \"per:origin precision\", \"type\": \"scatter\", \"uid\": \"18cf39e7-3f7c-4240-acc3-23491026bafb\", \"x\": [\"6f\", \"7f\", \"8f\", \"9f\", \"10f\", \"11f\", \"12f\", \"13f\", \"14f\", \"nofilter\"], \"xaxis\": \"x10\", \"y\": [0.7196857142857143, 0.6931857142857144, 0.6856142857142856, 0.6917571428571428, 0.7077714285714286, 0.6847, 0.6977428571428572, 0.7179285714285715, 0.7165999999999999, 0.6867571428571428], \"yaxis\": \"y10\"}, {\"line\": {\"color\": \"#BC80BD\"}, \"name\": \"per:origin recall\", \"type\": \"scatter\", \"uid\": \"2521d836-19b8-41e8-a590-190e4b1a9780\", \"x\": [\"6f\", \"7f\", \"8f\", \"9f\", \"10f\", \"11f\", \"12f\", \"13f\", \"14f\", \"nofilter\"], \"xaxis\": \"x10\", \"y\": [0.5876714285714285, 0.6385428571428572, 0.6385285714285713, 0.6039, 0.5833285714285713, 0.5995857142857143, 0.5963142857142857, 0.5876714285714285, 0.5876571428571429, 0.6082285714285715], \"yaxis\": \"y10\"}, {\"line\": {\"color\": \"#FCCDE5\"}, \"name\": \"per:origin f1\", \"type\": \"scatter\", \"uid\": \"2ddb936b-13cd-4ea3-8f54-c278fef75ef1\", \"x\": [\"6f\", \"7f\", \"8f\", \"9f\", \"10f\", \"11f\", \"12f\", \"13f\", \"14f\", \"nofilter\"], \"xaxis\": \"x10\", \"y\": [0.6462285714285715, 0.6639428571428571, 0.6605714285714285, 0.6439, 0.6388142857142857, 0.6381285714285714, 0.6425000000000001, 0.6455571428571429, 0.6439285714285715, 0.6440571428571429], \"yaxis\": \"y10\"}, {\"line\": {\"color\": \"#CCEBC5\"}, \"name\": \"org:city_of_headquarters precision\", \"type\": \"scatter\", \"uid\": \"1f9be118-f763-4304-af5b-0a8136f83c0b\", \"x\": [\"6f\", \"7f\", \"8f\", \"9f\", \"10f\", \"11f\", \"12f\", \"13f\", \"14f\", \"nofilter\"], \"xaxis\": \"x11\", \"y\": [0.7303, 0.7526714285714284, 0.7316142857142857, 0.7264285714285715, 0.789242857142857, 0.7598, 0.7462857142857143, 0.7689000000000001, 0.7745142857142857, 0.7814142857142857], \"yaxis\": \"y11\"}, {\"line\": {\"color\": \"#BC80BD\"}, \"name\": \"org:city_of_headquarters recall\", \"type\": \"scatter\", \"uid\": \"c2ba11d0-5259-4326-bbe0-a79ead8d365e\", \"x\": [\"6f\", \"7f\", \"8f\", \"9f\", \"10f\", \"11f\", \"12f\", \"13f\", \"14f\", \"nofilter\"], \"xaxis\": \"x11\", \"y\": [0.6881285714285715, 0.6829, 0.7020714285714286, 0.7212428571428572, 0.6428428571428572, 0.6881285714285715, 0.6846428571428572, 0.6393571428571428, 0.6829142857142857, 0.662], \"yaxis\": \"y11\"}, {\"line\": {\"color\": \"#FCCDE5\"}, \"name\": \"org:city_of_headquarters f1\", \"type\": \"scatter\", \"uid\": \"7dd83851-5b6b-43f7-a697-f060d0e5d156\", \"x\": [\"6f\", \"7f\", \"8f\", \"9f\", \"10f\", \"11f\", \"12f\", \"13f\", \"14f\", \"nofilter\"], \"xaxis\": \"x11\", \"y\": [0.7078714285714286, 0.7157714285714284, 0.7150857142857142, 0.7228571428571428, 0.7074428571428572, 0.7218857142857142, 0.7138285714285714, 0.6974428571428571, 0.725, 0.7163571428571428], \"yaxis\": \"y11\"}, {\"line\": {\"color\": \"#CCEBC5\"}, \"name\": \"per:spouse precision\", \"type\": \"scatter\", \"uid\": \"37f2e381-9557-41ae-9cb1-db5aef9c7935\", \"x\": [\"6f\", \"7f\", \"8f\", \"9f\", \"10f\", \"11f\", \"12f\", \"13f\", \"14f\", \"nofilter\"], \"xaxis\": \"x12\", \"y\": [0.6348142857142857, 0.5992571428571428, 0.6161714285714285, 0.6228285714285714, 0.6289571428571429, 0.5981428571428572, 0.6364285714285715, 0.6471, 0.6325428571428571, 0.5620428571428571], \"yaxis\": \"y12\"}, {\"line\": {\"color\": \"#BC80BD\"}, \"name\": \"per:spouse recall\", \"type\": \"scatter\", \"uid\": \"4c69bf08-9767-4363-bc69-14f1ab577a52\", \"x\": [\"6f\", \"7f\", \"8f\", \"9f\", \"10f\", \"11f\", \"12f\", \"13f\", \"14f\", \"nofilter\"], \"xaxis\": \"x12\", \"y\": [0.6948142857142857, 0.7012999999999999, 0.6991428571428572, 0.722942857142857, 0.7186285714285713, 0.7186285714285713, 0.6969714285714286, 0.6883142857142858, 0.7034714285714285, 0.7229571428571427], \"yaxis\": \"y12\"}, {\"line\": {\"color\": \"#FCCDE5\"}, \"name\": \"per:spouse f1\", \"type\": \"scatter\", \"uid\": \"4fc3705e-db66-4d34-b11e-ecb11bfdee99\", \"x\": [\"6f\", \"7f\", \"8f\", \"9f\", \"10f\", \"11f\", \"12f\", \"13f\", \"14f\", \"nofilter\"], \"xaxis\": \"x12\", \"y\": [0.6616285714285715, 0.6455857142857143, 0.6546857142857142, 0.6685285714285714, 0.6695285714285715, 0.6510714285714286, 0.6648000000000002, 0.6663857142857142, 0.6649999999999999, 0.6314714285714285], \"yaxis\": \"y12\"}, {\"line\": {\"color\": \"#CCEBC5\"}, \"name\": \"org:subsidiaries precision\", \"type\": \"scatter\", \"uid\": \"8c50204f-1e28-4454-924d-efd99e8036b2\", \"x\": [\"6f\", \"7f\", \"8f\", \"9f\", \"10f\", \"11f\", \"12f\", \"13f\", \"14f\", \"nofilter\"], \"xaxis\": \"x13\", \"y\": [0.5172428571428572, 0.5257571428571428, 0.5245428571428572, 0.5313714285714286, 0.4819714285714286, 0.5929857142857143, 0.5591571428571428, 0.5266428571428572, 0.5549857142857142, 0.5381142857142857], \"yaxis\": \"y13\"}, {\"line\": {\"color\": \"#BC80BD\"}, \"name\": \"org:subsidiaries recall\", \"type\": \"scatter\", \"uid\": \"c5f6f51a-53db-4106-9934-4db79c8c9f9e\", \"x\": [\"6f\", \"7f\", \"8f\", \"9f\", \"10f\", \"11f\", \"12f\", \"13f\", \"14f\", \"nofilter\"], \"xaxis\": \"x13\", \"y\": [0.3474285714285715, 0.29545714285714286, 0.3376571428571428, 0.3149285714285714, 0.27597142857142853, 0.3019428571428571, 0.28895714285714286, 0.3181857142857143, 0.2727142857142857, 0.3117142857142857], \"yaxis\": \"y13\"}, {\"line\": {\"color\": \"#FCCDE5\"}, \"name\": \"org:subsidiaries f1\", \"type\": \"scatter\", \"uid\": \"0f626717-e809-4151-a57e-22c22b327b5b\", \"x\": [\"6f\", \"7f\", \"8f\", \"9f\", \"10f\", \"11f\", \"12f\", \"13f\", \"14f\", \"nofilter\"], \"xaxis\": \"x13\", \"y\": [0.41108571428571433, 0.3751857142857143, 0.40997142857142854, 0.39230000000000004, 0.3479857142857143, 0.39862857142857144, 0.3790857142857143, 0.39562857142857144, 0.3571428571428571, 0.3922], \"yaxis\": \"y13\"}, {\"line\": {\"color\": \"#CCEBC5\"}, \"name\": \"per:stateorprovinces_of_residence precision\", \"type\": \"scatter\", \"uid\": \"a6f524b6-dbeb-4508-87de-6022240f7b75\", \"x\": [\"6f\", \"7f\", \"8f\", \"9f\", \"10f\", \"11f\", \"12f\", \"13f\", \"14f\", \"nofilter\"], \"xaxis\": \"x14\", \"y\": [0.5438714285714286, 0.5704, 0.5576428571428572, 0.5724, 0.5989571428571427, 0.5391285714285715, 0.5631428571428572, 0.6131142857142856, 0.5815571428571429, 0.5921428571428571], \"yaxis\": \"y14\"}, {\"line\": {\"color\": \"#BC80BD\"}, \"name\": \"per:stateorprovinces_of_residence recall\", \"type\": \"scatter\", \"uid\": \"970ec475-1948-49aa-8bec-a9c59320f40c\", \"x\": [\"6f\", \"7f\", \"8f\", \"9f\", \"10f\", \"11f\", \"12f\", \"13f\", \"14f\", \"nofilter\"], \"xaxis\": \"x14\", \"y\": [0.5467285714285713, 0.5308571428571428, 0.6261, 0.5696714285714286, 0.5132428571428571, 0.5855428571428571, 0.5079428571428571, 0.4779714285714286, 0.5555571428571429, 0.5202857142857142], \"yaxis\": \"y14\"}, {\"line\": {\"color\": \"#FCCDE5\"}, \"name\": \"per:stateorprovinces_of_residence f1\", \"type\": \"scatter\", \"uid\": \"4e12e0ee-f2aa-4051-9940-135fc002a88f\", \"x\": [\"6f\", \"7f\", \"8f\", \"9f\", \"10f\", \"11f\", \"12f\", \"13f\", \"14f\", \"nofilter\"], \"xaxis\": \"x14\", \"y\": [0.5429714285714285, 0.5487714285714286, 0.5889142857142857, 0.5704714285714286, 0.551457142857143, 0.5601428571428572, 0.5336285714285713, 0.5364571428571429, 0.5680285714285714, 0.5529857142857144], \"yaxis\": \"y14\"}, {\"line\": {\"color\": \"#CCEBC5\"}, \"name\": \"org:parents precision\", \"type\": \"scatter\", \"uid\": \"405e64b3-a15b-4a41-9840-b3e9bb429799\", \"x\": [\"6f\", \"7f\", \"8f\", \"9f\", \"10f\", \"11f\", \"12f\", \"13f\", \"14f\", \"nofilter\"], \"xaxis\": \"x15\", \"y\": [0.4342857142857143, 0.3399714285714285, 0.4210857142857143, 0.3738857142857143, 0.3576, 0.43181428571428576, 0.42102857142857136, 0.39637142857142854, 0.3616428571428571, 0.41195714285714286], \"yaxis\": \"y15\"}, {\"line\": {\"color\": \"#BC80BD\"}, \"name\": \"org:parents recall\", \"type\": \"scatter\", \"uid\": \"b9c7bcb0-ff96-4b98-b229-e77c52b92b3a\", \"x\": [\"6f\", \"7f\", \"8f\", \"9f\", \"10f\", \"11f\", \"12f\", \"13f\", \"14f\", \"nofilter\"], \"xaxis\": \"x15\", \"y\": [0.106, 0.13364285714285715, 0.15205714285714286, 0.15437142857142858, 0.13364285714285715, 0.21198571428571428, 0.16358571428571428, 0.1682, 0.1106, 0.1659], \"yaxis\": \"y15\"}, {\"line\": {\"color\": \"#FCCDE5\"}, \"name\": \"org:parents f1\", \"type\": \"scatter\", \"uid\": \"cc47d7e7-1c2f-4ec6-bd57-95dbfe3bad87\", \"x\": [\"6f\", \"7f\", \"8f\", \"9f\", \"10f\", \"11f\", \"12f\", \"13f\", \"14f\", \"nofilter\"], \"xaxis\": \"x15\", \"y\": [0.1695142857142857, 0.18992857142857142, 0.22144285714285714, 0.21721428571428575, 0.1933, 0.28075714285714287, 0.2351714285714286, 0.2348142857142857, 0.1686, 0.23521428571428574], \"yaxis\": \"y15\"}, {\"line\": {\"color\": \"#CCEBC5\"}, \"name\": \"per:date_of_death precision\", \"type\": \"scatter\", \"uid\": \"223d9070-9c1d-4b0c-aead-06b5b12bf2d5\", \"x\": [\"6f\", \"7f\", \"8f\", \"9f\", \"10f\", \"11f\", \"12f\", \"13f\", \"14f\", \"nofilter\"], \"xaxis\": \"x16\", \"y\": [0.7412857142857143, 0.7185142857142858, 0.6002428571428571, 0.6405142857142857, 0.6769428571428572, 0.6047285714285714, 0.6279714285714286, 0.6575428571428572, 0.6488571428571428, 0.6774142857142857], \"yaxis\": \"y16\"}, {\"line\": {\"color\": \"#BC80BD\"}, \"name\": \"per:date_of_death recall\", \"type\": \"scatter\", \"uid\": \"d69c9cb4-e531-4e7a-a60c-e3c3861c2187\", \"x\": [\"6f\", \"7f\", \"8f\", \"9f\", \"10f\", \"11f\", \"12f\", \"13f\", \"14f\", \"nofilter\"], \"xaxis\": \"x16\", \"y\": [0.26189999999999997, 0.25927142857142854, 0.33069999999999994, 0.2830714285714286, 0.27249999999999996, 0.2830714285714286, 0.2910142857142857, 0.2724714285714286, 0.28572857142857144, 0.24867142857142857], \"yaxis\": \"y16\"}, {\"line\": {\"color\": \"#FCCDE5\"}, \"name\": \"per:date_of_death f1\", \"type\": \"scatter\", \"uid\": \"da8b7581-d104-4721-8b2f-ac7848bfd675\", \"x\": [\"6f\", \"7f\", \"8f\", \"9f\", \"10f\", \"11f\", \"12f\", \"13f\", \"14f\", \"nofilter\"], \"xaxis\": \"x16\", \"y\": [0.38617142857142855, 0.3803571428571429, 0.4236857142857143, 0.39230000000000004, 0.38712857142857143, 0.3839714285714286, 0.3965714285714285, 0.3836285714285715, 0.3952, 0.3621285714285714], \"yaxis\": \"y16\"}, {\"line\": {\"color\": \"#CCEBC5\"}, \"name\": \"per:children precision\", \"type\": \"scatter\", \"uid\": \"87e64818-7715-4e86-8f7f-f9be2c9133ee\", \"x\": [\"6f\", \"7f\", \"8f\", \"9f\", \"10f\", \"11f\", \"12f\", \"13f\", \"14f\", \"nofilter\"], \"xaxis\": \"x17\", \"y\": [0.3326857142857143, 0.4180428571428571, 0.4489714285714285, 0.4686142857142857, 0.42214285714285715, 0.46609999999999996, 0.44118571428571435, 0.41540000000000005, 0.6347571428571428, 0.5661285714285714], \"yaxis\": \"y17\"}, {\"line\": {\"color\": \"#BC80BD\"}, \"name\": \"per:children recall\", \"type\": \"scatter\", \"uid\": \"2d8c2112-36e9-42aa-8b9a-846075e7d114\", \"x\": [\"6f\", \"7f\", \"8f\", \"9f\", \"10f\", \"11f\", \"12f\", \"13f\", \"14f\", \"nofilter\"], \"xaxis\": \"x17\", \"y\": [0.4169999999999999, 0.3706428571428571, 0.44787142857142853, 0.4131142857142857, 0.4015428571428572, 0.39768571428571425, 0.4247428571428572, 0.3822285714285714, 0.39382857142857136, 0.4015285714285714], \"yaxis\": \"y17\"}, {\"line\": {\"color\": \"#FCCDE5\"}, \"name\": \"per:children f1\", \"type\": \"scatter\", \"uid\": \"c2a3fdc2-7afe-4365-af6a-eefd73ac6d03\", \"x\": [\"6f\", \"7f\", \"8f\", \"9f\", \"10f\", \"11f\", \"12f\", \"13f\", \"14f\", \"nofilter\"], \"xaxis\": \"x17\", \"y\": [0.36662857142857147, 0.3850142857142857, 0.4452285714285714, 0.4340285714285715, 0.40874285714285713, 0.4208857142857143, 0.4299857142857143, 0.39504285714285714, 0.4826857142857143, 0.4650857142857143], \"yaxis\": \"y17\"}, {\"line\": {\"color\": \"#CCEBC5\"}, \"name\": \"org:stateorprovince_of_headquarters precision\", \"type\": \"scatter\", \"uid\": \"6f9e62d6-fe15-4904-9f94-38842a6d1e4a\", \"x\": [\"6f\", \"7f\", \"8f\", \"9f\", \"10f\", \"11f\", \"12f\", \"13f\", \"14f\", \"nofilter\"], \"xaxis\": \"x18\", \"y\": [0.7341714285714286, 0.7088285714285715, 0.7125285714285715, 0.6943142857142857, 0.7331428571428571, 0.6985, 0.7391857142857143, 0.7377285714285715, 0.7406571428571428, 0.7430285714285715], \"yaxis\": \"y18\"}, {\"line\": {\"color\": \"#BC80BD\"}, \"name\": \"org:stateorprovince_of_headquarters recall\", \"type\": \"scatter\", \"uid\": \"5f1f82c5-0377-4355-b244-efd96178f7c3\", \"x\": [\"6f\", \"7f\", \"8f\", \"9f\", \"10f\", \"11f\", \"12f\", \"13f\", \"14f\", \"nofilter\"], \"xaxis\": \"x18\", \"y\": [0.6554857142857143, 0.7087000000000001, 0.7059000000000001, 0.7087, 0.6975, 0.7451, 0.6947000000000001, 0.6386714285714286, 0.7087000000000001, 0.6779000000000001], \"yaxis\": \"y18\"}, {\"line\": {\"color\": \"#FCCDE5\"}, \"name\": \"org:stateorprovince_of_headquarters f1\", \"type\": \"scatter\", \"uid\": \"003edcf4-f97f-4a56-8ec0-a5c9234648b6\", \"x\": [\"6f\", \"7f\", \"8f\", \"9f\", \"10f\", \"11f\", \"12f\", \"13f\", \"14f\", \"nofilter\"], \"xaxis\": \"x18\", \"y\": [0.6920571428571429, 0.7079428571428572, 0.7086428571428572, 0.7004857142857144, 0.7142714285714286, 0.7196428571428571, 0.7158285714285714, 0.6829285714285714, 0.7235857142857142, 0.708442857142857], \"yaxis\": \"y18\"}, {\"line\": {\"color\": \"#CCEBC5\"}, \"name\": \"per:cause_of_death precision\", \"type\": \"scatter\", \"uid\": \"6684cdbd-8677-478f-8ed1-cb3a769197c3\", \"x\": [\"6f\", \"7f\", \"8f\", \"9f\", \"10f\", \"11f\", \"12f\", \"13f\", \"14f\", \"nofilter\"], \"xaxis\": \"x19\", \"y\": [0.6742, 0.6695857142857143, 0.6368428571428572, 0.7170714285714287, 0.7048571428571428, 0.6641142857142857, 0.6553142857142857, 0.7098000000000001, 0.6648714285714286, 0.6945], \"yaxis\": \"y19\"}, {\"line\": {\"color\": \"#BC80BD\"}, \"name\": \"per:cause_of_death recall\", \"type\": \"scatter\", \"uid\": \"2f7fcdab-2220-4977-9ba5-2902c3c770c9\", \"x\": [\"6f\", \"7f\", \"8f\", \"9f\", \"10f\", \"11f\", \"12f\", \"13f\", \"14f\", \"nofilter\"], \"xaxis\": \"x19\", \"y\": [0.32142857142857145, 0.2967, 0.29947142857142856, 0.29395714285714286, 0.25, 0.261, 0.261, 0.26648571428571427, 0.2280142857142857, 0.2445142857142857], \"yaxis\": \"y19\"}, {\"line\": {\"color\": \"#FCCDE5\"}, \"name\": \"per:cause_of_death f1\", \"type\": \"scatter\", \"uid\": \"dc4b0d9f-0df2-46af-bd60-7e8b8e8e52bf\", \"x\": [\"6f\", \"7f\", \"8f\", \"9f\", \"10f\", \"11f\", \"12f\", \"13f\", \"14f\", \"nofilter\"], \"xaxis\": \"x19\", \"y\": [0.43321428571428566, 0.40914285714285714, 0.40612857142857145, 0.4152714285714286, 0.3658571428571428, 0.3709428571428571, 0.37201428571428574, 0.38231428571428566, 0.3368142857142857, 0.3611], \"yaxis\": \"y19\"}, {\"line\": {\"color\": \"#CCEBC5\"}, \"name\": \"per:other_family precision\", \"type\": \"scatter\", \"uid\": \"bfc93a75-5316-47a1-a513-dbb7d4363f42\", \"x\": [\"6f\", \"7f\", \"8f\", \"9f\", \"10f\", \"11f\", \"12f\", \"13f\", \"14f\", \"nofilter\"], \"xaxis\": \"x20\", \"y\": [0.5759428571428572, 0.6616999999999998, 0.6229285714285714, 0.7202571428571429, 0.6629285714285714, 0.6020857142857141, 0.632157142857143, 0.7075857142857143, 0.636042857142857, 0.6708714285714285], \"yaxis\": \"y20\"}, {\"line\": {\"color\": \"#BC80BD\"}, \"name\": \"per:other_family recall\", \"type\": \"scatter\", \"uid\": \"f05b56ba-f5d7-433b-8e36-d0d4bbca914a\", \"x\": [\"6f\", \"7f\", \"8f\", \"9f\", \"10f\", \"11f\", \"12f\", \"13f\", \"14f\", \"nofilter\"], \"xaxis\": \"x20\", \"y\": [0.10475714285714287, 0.21428571428571427, 0.20474285714285714, 0.3404857142857143, 0.23807142857142857, 0.3023857142857143, 0.26905714285714283, 0.29287142857142856, 0.27858571428571427, 0.25712857142857143], \"yaxis\": \"y20\"}, {\"line\": {\"color\": \"#FCCDE5\"}, \"name\": \"per:other_family f1\", \"type\": \"scatter\", \"uid\": \"09706a86-b671-48e5-bd3f-b508b949b302\", \"x\": [\"6f\", \"7f\", \"8f\", \"9f\", \"10f\", \"11f\", \"12f\", \"13f\", \"14f\", \"nofilter\"], \"xaxis\": \"x20\", \"y\": [0.16768571428571427, 0.3086428571428571, 0.3051714285714286, 0.46094285714285715, 0.33754285714285714, 0.39781428571428573, 0.3699142857142857, 0.40644285714285716, 0.38224285714285716, 0.3678285714285714], \"yaxis\": \"y20\"}, {\"line\": {\"color\": \"#CCEBC5\"}, \"name\": \"org:members precision\", \"type\": \"scatter\", \"uid\": \"231b5b8a-8a7f-40ca-9983-cf78e7b97927\", \"x\": [\"6f\", \"7f\", \"8f\", \"9f\", \"10f\", \"11f\", \"12f\", \"13f\", \"14f\", \"nofilter\"], \"xaxis\": \"x21\", \"y\": [0.0, 0.0642857142857143, 0.12041428571428571, 0.40475714285714287, 0.32142857142857145, 0.35714285714285715, 0.42857142857142855, 0.03571428571428571, 0.0, 0.3333285714285714], \"yaxis\": \"y21\"}, {\"line\": {\"color\": \"#BC80BD\"}, \"name\": \"org:members recall\", \"type\": \"scatter\", \"uid\": \"1508c2ff-b90d-4050-bd86-760cbe2b202f\", \"x\": [\"6f\", \"7f\", \"8f\", \"9f\", \"10f\", \"11f\", \"12f\", \"13f\", \"14f\", \"nofilter\"], \"xaxis\": \"x21\", \"y\": [0.0, 0.00922857142857143, 0.018442857142857143, 0.00922857142857143, 0.01845714285714286, 0.013828571428571428, 0.00922857142857143, 0.004614285714285715, 0.0, 0.004614285714285715], \"yaxis\": \"y21\"}, {\"line\": {\"color\": \"#FCCDE5\"}, \"name\": \"org:members f1\", \"type\": \"scatter\", \"uid\": \"5bc61f23-5ffe-4b15-89ad-2ac2be135434\", \"x\": [\"6f\", \"7f\", \"8f\", \"9f\", \"10f\", \"11f\", \"12f\", \"13f\", \"14f\", \"nofilter\"], \"xaxis\": \"x21\", \"y\": [0.0, 0.0161, 0.031785714285714285, 0.017057142857142858, 0.0344, 0.023171428571428572, 0.017857142857142856, 0.008157142857142858, 0.0, 0.0084], \"yaxis\": \"y21\"}, {\"line\": {\"color\": \"#CCEBC5\"}, \"name\": \"per:parents precision\", \"type\": \"scatter\", \"uid\": \"50cb86bc-8a9f-4c58-8c2b-d7d2b25f95cb\", \"x\": [\"6f\", \"7f\", \"8f\", \"9f\", \"10f\", \"11f\", \"12f\", \"13f\", \"14f\", \"nofilter\"], \"xaxis\": \"x22\", \"y\": [0.7188285714285715, 0.7018714285714285, 0.7185571428571429, 0.7348285714285714, 0.7297, 0.6779142857142856, 0.7214571428571429, 0.7072428571428571, 0.7108571428571429, 0.7279142857142856], \"yaxis\": \"y22\"}, {\"line\": {\"color\": \"#BC80BD\"}, \"name\": \"per:parents recall\", \"type\": \"scatter\", \"uid\": \"2b961cd7-0156-4cf3-aed8-46fb986da74e\", \"x\": [\"6f\", \"7f\", \"8f\", \"9f\", \"10f\", \"11f\", \"12f\", \"13f\", \"14f\", \"nofilter\"], \"xaxis\": \"x22\", \"y\": [0.4545285714285714, 0.5422, 0.5811714285714286, 0.5584428571428571, 0.5438142857142857, 0.5552, 0.5535714285714286, 0.5357142857142857, 0.6185142857142857, 0.600642857142857], \"yaxis\": \"y22\"}, {\"line\": {\"color\": \"#FCCDE5\"}, \"name\": \"per:parents f1\", \"type\": \"scatter\", \"uid\": \"2367ea04-dfcd-474a-9932-28af79890945\", \"x\": [\"6f\", \"7f\", \"8f\", \"9f\", \"10f\", \"11f\", \"12f\", \"13f\", \"14f\", \"nofilter\"], \"xaxis\": \"x22\", \"y\": [0.5551285714285714, 0.6101857142857143, 0.6412285714285714, 0.6334714285714285, 0.6223714285714285, 0.6072428571428571, 0.6262571428571428, 0.6079571428571428, 0.6603285714285715, 0.6552], \"yaxis\": \"y22\"}, {\"line\": {\"color\": \"#CCEBC5\"}, \"name\": \"org:founded_by precision\", \"type\": \"scatter\", \"uid\": \"d1133320-6558-4964-8f38-9f0c9fcd6416\", \"x\": [\"6f\", \"7f\", \"8f\", \"9f\", \"10f\", \"11f\", \"12f\", \"13f\", \"14f\", \"nofilter\"], \"xaxis\": \"x23\", \"y\": [0.6925, 0.7157285714285714, 0.6987428571428571, 0.7240428571428571, 0.7351714285714286, 0.7262000000000001, 0.7243, 0.7131000000000001, 0.7627571428571429, 0.7637], \"yaxis\": \"y23\"}, {\"line\": {\"color\": \"#BC80BD\"}, \"name\": \"org:founded_by recall\", \"type\": \"scatter\", \"uid\": \"a2ffa65c-cd30-4fb2-b27c-3e3b38d3e6dc\", \"x\": [\"6f\", \"7f\", \"8f\", \"9f\", \"10f\", \"11f\", \"12f\", \"13f\", \"14f\", \"nofilter\"], \"xaxis\": \"x23\", \"y\": [0.4979, 0.5588142857142857, 0.5315142857142857, 0.5399142857142857, 0.5042000000000001, 0.4286, 0.4768857142857143, 0.4201857142857143, 0.43279999999999996, 0.45169999999999993], \"yaxis\": \"y23\"}, {\"line\": {\"color\": \"#FCCDE5\"}, \"name\": \"org:founded_by f1\", \"type\": \"scatter\", \"uid\": \"9a7bfd7c-bd65-4162-99b7-a6626368cb1e\", \"x\": [\"6f\", \"7f\", \"8f\", \"9f\", \"10f\", \"11f\", \"12f\", \"13f\", \"14f\", \"nofilter\"], \"xaxis\": \"x23\", \"y\": [0.5774285714285714, 0.625942857142857, 0.5998142857142857, 0.6141714285714286, 0.5949142857142856, 0.5383428571428572, 0.5709714285714285, 0.5271571428571428, 0.5513, 0.5662428571428572], \"yaxis\": \"y23\"}, {\"line\": {\"color\": \"#CCEBC5\"}, \"name\": \"per:city_of_death precision\", \"type\": \"scatter\", \"uid\": \"0991c46d-715d-4d0f-8be4-e004c181b36a\", \"x\": [\"6f\", \"7f\", \"8f\", \"9f\", \"10f\", \"11f\", \"12f\", \"13f\", \"14f\", \"nofilter\"], \"xaxis\": \"x24\", \"y\": [0.8726714285714285, 0.8295714285714286, 0.7942285714285715, 0.8396857142857144, 0.8591857142857143, 0.8658714285714286, 0.8468, 0.8226285714285716, 0.8396285714285714, 0.8494714285714285], \"yaxis\": \"y24\"}, {\"line\": {\"color\": \"#BC80BD\"}, \"name\": \"per:city_of_death recall\", \"type\": \"scatter\", \"uid\": \"12e2372b-3b5e-460f-8c31-613b314d9da0\", \"x\": [\"6f\", \"7f\", \"8f\", \"9f\", \"10f\", \"11f\", \"12f\", \"13f\", \"14f\", \"nofilter\"], \"xaxis\": \"x24\", \"y\": [0.3316428571428572, 0.2653, 0.28061428571428576, 0.3112142857142857, 0.2398, 0.2041, 0.2551, 0.29081428571428575, 0.25511428571428574, 0.2551], \"yaxis\": \"y24\"}, {\"line\": {\"color\": \"#FCCDE5\"}, \"name\": \"per:city_of_death f1\", \"type\": \"scatter\", \"uid\": \"cff236c4-40e5-4470-a799-d1661e093a3d\", \"x\": [\"6f\", \"7f\", \"8f\", \"9f\", \"10f\", \"11f\", \"12f\", \"13f\", \"14f\", \"nofilter\"], \"xaxis\": \"x24\", \"y\": [0.4773428571428572, 0.39760000000000006, 0.40957142857142864, 0.45139999999999997, 0.37360000000000004, 0.3257285714285714, 0.38878571428571423, 0.4257, 0.38718571428571424, 0.38634285714285715], \"yaxis\": \"y24\"}, {\"line\": {\"color\": \"#CCEBC5\"}, \"name\": \"per:schools_attended precision\", \"type\": \"scatter\", \"uid\": \"ae48b40c-43af-461d-828f-3d4a54a2d76d\", \"x\": [\"6f\", \"7f\", \"8f\", \"9f\", \"10f\", \"11f\", \"12f\", \"13f\", \"14f\", \"nofilter\"], \"xaxis\": \"x25\", \"y\": [0.7778428571428572, 0.6481428571428571, 0.671, 0.6294142857142857, 0.6392857142857142, 0.6422428571428572, 0.6789571428571428, 0.7039571428571428, 0.6672142857142856, 0.6748714285714287], \"yaxis\": \"y25\"}, {\"line\": {\"color\": \"#BC80BD\"}, \"name\": \"per:schools_attended recall\", \"type\": \"scatter\", \"uid\": \"ae3cb055-ce50-480b-bfec-d2a8d8a8b764\", \"x\": [\"6f\", \"7f\", \"8f\", \"9f\", \"10f\", \"11f\", \"12f\", \"13f\", \"14f\", \"nofilter\"], \"xaxis\": \"x25\", \"y\": [0.4095428571428571, 0.5142857142857143, 0.5238142857142857, 0.5476142857142857, 0.5571285714285714, 0.566657142857143, 0.566657142857143, 0.528557142857143, 0.5428571428571429, 0.566657142857143], \"yaxis\": \"y25\"}, {\"line\": {\"color\": \"#FCCDE5\"}, \"name\": \"per:schools_attended f1\", \"type\": \"scatter\", \"uid\": \"42897a45-f9c0-4f22-b2f3-019bf6bb55ca\", \"x\": [\"6f\", \"7f\", \"8f\", \"9f\", \"10f\", \"11f\", \"12f\", \"13f\", \"14f\", \"nofilter\"], \"xaxis\": \"x25\", \"y\": [0.5348571428571429, 0.5733571428571428, 0.5851571428571428, 0.5843714285714287, 0.5926714285714285, 0.5987142857142856, 0.6164, 0.6032285714285714, 0.5949, 0.6148571428571429], \"yaxis\": \"y25\"}, {\"line\": {\"color\": \"#CCEBC5\"}, \"name\": \"org:website precision\", \"type\": \"scatter\", \"uid\": \"946104e2-f7b5-4804-acc1-16d4d0bfce11\", \"x\": [\"6f\", \"7f\", \"8f\", \"9f\", \"10f\", \"11f\", \"12f\", \"13f\", \"14f\", \"nofilter\"], \"xaxis\": \"x26\", \"y\": [0.6368285714285714, 0.5869, 0.6197428571428573, 0.6010571428571428, 0.6197571428571429, 0.6216, 0.5963, 0.6124285714285713, 0.6209857142857143, 0.6152714285714287], \"yaxis\": \"y26\"}, {\"line\": {\"color\": \"#BC80BD\"}, \"name\": \"org:website recall\", \"type\": \"scatter\", \"uid\": \"85537570-875c-4273-b616-d592dd7eec02\", \"x\": [\"6f\", \"7f\", \"8f\", \"9f\", \"10f\", \"11f\", \"12f\", \"13f\", \"14f\", \"nofilter\"], \"xaxis\": \"x26\", \"y\": [0.8736571428571428, 0.9011142857142856, 0.8626571428571428, 0.9176, 0.8681571428571428, 0.9066, 0.9066142857142857, 0.8846142857142857, 0.8956142857142856, 0.9066142857142856], \"yaxis\": \"y26\"}, {\"line\": {\"color\": \"#FCCDE5\"}, \"name\": \"org:website f1\", \"type\": \"scatter\", \"uid\": \"f612a70b-0887-43b4-aee9-0162dd2591e6\", \"x\": [\"6f\", \"7f\", \"8f\", \"9f\", \"10f\", \"11f\", \"12f\", \"13f\", \"14f\", \"nofilter\"], \"xaxis\": \"x26\", \"y\": [0.7362000000000001, 0.7097428571428571, 0.7206857142857143, 0.7255000000000001, 0.7221142857142857, 0.7370714285714285, 0.7182571428571427, 0.7230142857142858, 0.7328285714285714, 0.7323857142857143], \"yaxis\": \"y26\"}, {\"line\": {\"color\": \"#CCEBC5\"}, \"name\": \"per:siblings precision\", \"type\": \"scatter\", \"uid\": \"be808397-af78-435c-88f0-68e8849b15c9\", \"x\": [\"6f\", \"7f\", \"8f\", \"9f\", \"10f\", \"11f\", \"12f\", \"13f\", \"14f\", \"nofilter\"], \"xaxis\": \"x27\", \"y\": [0.5048285714285714, 0.6084285714285714, 0.6131142857142856, 0.5965571428571428, 0.5904999999999999, 0.6469714285714285, 0.6597142857142858, 0.6910714285714287, 0.6798714285714286, 0.6660714285714285], \"yaxis\": \"y27\"}, {\"line\": {\"color\": \"#BC80BD\"}, \"name\": \"per:siblings recall\", \"type\": \"scatter\", \"uid\": \"9981eab4-d702-43f1-898e-a74f201954fa\", \"x\": [\"6f\", \"7f\", \"8f\", \"9f\", \"10f\", \"11f\", \"12f\", \"13f\", \"14f\", \"nofilter\"], \"xaxis\": \"x27\", \"y\": [0.5220857142857143, 0.6701285714285714, 0.6389571428571428, 0.6961, 0.6883142857142855, 0.6311571428571429, 0.6363571428571427, 0.6441714285714285, 0.6545571428571428, 0.6337571428571428], \"yaxis\": \"y27\"}, {\"line\": {\"color\": \"#FCCDE5\"}, \"name\": \"per:siblings f1\", \"type\": \"scatter\", \"uid\": \"c391bf8b-ee61-414a-9685-65495496f16a\", \"x\": [\"6f\", \"7f\", \"8f\", \"9f\", \"10f\", \"11f\", \"12f\", \"13f\", \"14f\", \"nofilter\"], \"xaxis\": \"x27\", \"y\": [0.5124714285714286, 0.6376714285714286, 0.6222142857142857, 0.6417428571428571, 0.6331142857142857, 0.6361285714285714, 0.6468714285714287, 0.6665142857142857, 0.6656000000000001, 0.6480571428571429], \"yaxis\": \"y27\"}, {\"line\": {\"color\": \"#CCEBC5\"}, \"name\": \"per:charges precision\", \"type\": \"scatter\", \"uid\": \"3f459e8c-ed81-4674-b932-2cd61892d51c\", \"x\": [\"6f\", \"7f\", \"8f\", \"9f\", \"10f\", \"11f\", \"12f\", \"13f\", \"14f\", \"nofilter\"], \"xaxis\": \"x28\", \"y\": [0.6128857142857143, 0.6454714285714286, 0.6298714285714286, 0.6566714285714286, 0.6335142857142857, 0.6353142857142858, 0.6592285714285715, 0.6534428571428572, 0.6489571428571429, 0.6434714285714287], \"yaxis\": \"y28\"}, {\"line\": {\"color\": \"#BC80BD\"}, \"name\": \"per:charges recall\", \"type\": \"scatter\", \"uid\": \"b0e8612e-e9c5-48fd-b7e5-6950e03a0b41\", \"x\": [\"6f\", \"7f\", \"8f\", \"9f\", \"10f\", \"11f\", \"12f\", \"13f\", \"14f\", \"nofilter\"], \"xaxis\": \"x28\", \"y\": [0.8252428571428572, 0.8848714285714286, 0.8973571428571429, 0.8918, 0.9042857142857142, 0.8821000000000001, 0.8682571428571428, 0.8502285714285713, 0.8765571428571428, 0.8710142857142856], \"yaxis\": \"y28\"}, {\"line\": {\"color\": \"#FCCDE5\"}, \"name\": \"per:charges f1\", \"type\": \"scatter\", \"uid\": \"a3d37b61-7ff6-402b-94b6-64bb48a18715\", \"x\": [\"6f\", \"7f\", \"8f\", \"9f\", \"10f\", \"11f\", \"12f\", \"13f\", \"14f\", \"nofilter\"], \"xaxis\": \"x28\", \"y\": [0.7028, 0.7459571428571429, 0.7396571428571429, 0.755742857142857, 0.7443142857142858, 0.7381, 0.7488, 0.7377714285714286, 0.7451428571428573, 0.7388857142857143], \"yaxis\": \"y28\"}, {\"line\": {\"color\": \"#CCEBC5\"}, \"name\": \"org:member_of precision\", \"type\": \"scatter\", \"uid\": \"8dc45acc-dacf-49b2-9c13-5122aa3e6e81\", \"x\": [\"6f\", \"7f\", \"8f\", \"9f\", \"10f\", \"11f\", \"12f\", \"13f\", \"14f\", \"nofilter\"], \"xaxis\": \"x29\", \"y\": [1.0, 1.0, 1.0, 1.0, 0.8571428571428571, 1.0, 1.0, 1.0, 1.0, 1.0], \"yaxis\": \"y29\"}, {\"line\": {\"color\": \"#BC80BD\"}, \"name\": \"org:member_of recall\", \"type\": \"scatter\", \"uid\": \"547447b0-d8c2-48fe-a09d-86b2c6156151\", \"x\": [\"6f\", \"7f\", \"8f\", \"9f\", \"10f\", \"11f\", \"12f\", \"13f\", \"14f\", \"nofilter\"], \"xaxis\": \"x29\", \"y\": [0.0, 0.0, 0.0, 0.0, 0.0, 0.0, 0.0, 0.0, 0.0, 0.0], \"yaxis\": \"y29\"}, {\"line\": {\"color\": \"#FCCDE5\"}, \"name\": \"org:member_of f1\", \"type\": \"scatter\", \"uid\": \"dd8dc527-3172-49de-b9b6-b0a47d657f3a\", \"x\": [\"6f\", \"7f\", \"8f\", \"9f\", \"10f\", \"11f\", \"12f\", \"13f\", \"14f\", \"nofilter\"], \"xaxis\": \"x29\", \"y\": [0.0, 0.0, 0.0, 0.0, 0.0, 0.0, 0.0, 0.0, 0.0, 0.0], \"yaxis\": \"y29\"}, {\"line\": {\"color\": \"#CCEBC5\"}, \"name\": \"per:alternate_names precision\", \"type\": \"scatter\", \"uid\": \"21ba83db-5df9-4ec4-b5a9-18692ec0764b\", \"x\": [\"6f\", \"7f\", \"8f\", \"9f\", \"10f\", \"11f\", \"12f\", \"13f\", \"14f\", \"nofilter\"], \"xaxis\": \"x30\", \"y\": [0.0, 0.0, 0.0, 0.0, 0.0, 0.0, 0.0, 0.0, 0.0, 0.0], \"yaxis\": \"y30\"}, {\"line\": {\"color\": \"#BC80BD\"}, \"name\": \"per:alternate_names recall\", \"type\": \"scatter\", \"uid\": \"2c5a0fbb-8210-45f2-9603-62e1e48be701\", \"x\": [\"6f\", \"7f\", \"8f\", \"9f\", \"10f\", \"11f\", \"12f\", \"13f\", \"14f\", \"nofilter\"], \"xaxis\": \"x30\", \"y\": [0.0, 0.0, 0.0, 0.0, 0.0, 0.0, 0.0, 0.0, 0.0, 0.0], \"yaxis\": \"y30\"}, {\"line\": {\"color\": \"#FCCDE5\"}, \"name\": \"per:alternate_names f1\", \"type\": \"scatter\", \"uid\": \"eb163f15-0255-4ea5-a35e-ada768b7b1de\", \"x\": [\"6f\", \"7f\", \"8f\", \"9f\", \"10f\", \"11f\", \"12f\", \"13f\", \"14f\", \"nofilter\"], \"xaxis\": \"x30\", \"y\": [0.0, 0.0, 0.0, 0.0, 0.0, 0.0, 0.0, 0.0, 0.0, 0.0], \"yaxis\": \"y30\"}, {\"line\": {\"color\": \"#CCEBC5\"}, \"name\": \"org:shareholders precision\", \"type\": \"scatter\", \"uid\": \"f4382aae-2167-4690-81af-30ed2db25944\", \"x\": [\"6f\", \"7f\", \"8f\", \"9f\", \"10f\", \"11f\", \"12f\", \"13f\", \"14f\", \"nofilter\"], \"xaxis\": \"x31\", \"y\": [1.0, 0.9642857142857143, 0.9071428571428571, 0.9285714285714286, 1.0, 0.9642857142857143, 0.7857142857142857, 0.8714285714285713, 1.0, 1.0], \"yaxis\": \"y31\"}, {\"line\": {\"color\": \"#BC80BD\"}, \"name\": \"org:shareholders recall\", \"type\": \"scatter\", \"uid\": \"a6faedfb-64e6-4ed8-9ee2-2b9c9e243a09\", \"x\": [\"6f\", \"7f\", \"8f\", \"9f\", \"10f\", \"11f\", \"12f\", \"13f\", \"14f\", \"nofilter\"], \"xaxis\": \"x31\", \"y\": [0.1428428571428571, 0.23079999999999995, 0.23079999999999995, 0.23079999999999995, 0.21979999999999997, 0.23079999999999995, 0.1868285714285714, 0.23079999999999995, 0.23079999999999995, 0.20879999999999996], \"yaxis\": \"y31\"}, {\"line\": {\"color\": \"#FCCDE5\"}, \"name\": \"org:shareholders f1\", \"type\": \"scatter\", \"uid\": \"6dc7aea1-493b-43dc-940c-d66b547fd9e8\", \"x\": [\"6f\", \"7f\", \"8f\", \"9f\", \"10f\", \"11f\", \"12f\", \"13f\", \"14f\", \"nofilter\"], \"xaxis\": \"x31\", \"y\": [0.24185714285714283, 0.37184285714285714, 0.36588571428571426, 0.3686857142857143, 0.3595285714285715, 0.37184285714285714, 0.29468571428571433, 0.3627285714285714, 0.375, 0.34405714285714284], \"yaxis\": \"y31\"}, {\"line\": {\"color\": \"#CCEBC5\"}, \"name\": \"org:founded precision\", \"type\": \"scatter\", \"uid\": \"57038a3b-1c28-41f3-b1ef-baa12d1e71fa\", \"x\": [\"6f\", \"7f\", \"8f\", \"9f\", \"10f\", \"11f\", \"12f\", \"13f\", \"14f\", \"nofilter\"], \"xaxis\": \"x32\", \"y\": [0.8132857142857144, 0.8412285714285714, 0.8250571428571429, 0.8214571428571429, 0.8286714285714284, 0.8150285714285713, 0.8250285714285714, 0.8196428571428572, 0.8565428571428573, 0.845157142857143], \"yaxis\": \"y32\"}, {\"line\": {\"color\": \"#BC80BD\"}, \"name\": \"org:founded recall\", \"type\": \"scatter\", \"uid\": \"88442921-01b4-4ae2-83d6-37ee27058728\", \"x\": [\"6f\", \"7f\", \"8f\", \"9f\", \"10f\", \"11f\", \"12f\", \"13f\", \"14f\", \"nofilter\"], \"xaxis\": \"x32\", \"y\": [0.8224000000000001, 0.8301000000000001, 0.8301142857142858, 0.8262428571428571, 0.8339857142857144, 0.8378428571428572, 0.8339714285714285, 0.8146571428571429, 0.8030857142857144, 0.8185142857142856], \"yaxis\": \"y32\"}, {\"line\": {\"color\": \"#FCCDE5\"}, \"name\": \"org:founded f1\", \"type\": \"scatter\", \"uid\": \"e9d9dae7-bbab-4365-9b3e-24ce450ef645\", \"x\": [\"6f\", \"7f\", \"8f\", \"9f\", \"10f\", \"11f\", \"12f\", \"13f\", \"14f\", \"nofilter\"], \"xaxis\": \"x32\", \"y\": [0.8176857142857141, 0.8352142857142858, 0.8272857142857143, 0.8232714285714288, 0.8307857142857143, 0.8254428571428571, 0.8291999999999999, 0.8165571428571429, 0.8286142857142859, 0.8313857142857143], \"yaxis\": \"y32\"}, {\"line\": {\"color\": \"#CCEBC5\"}, \"name\": \"org:political/religious_affiliation precision\", \"type\": \"scatter\", \"uid\": \"f171f395-a53c-41f3-ab70-86e204462172\", \"x\": [\"6f\", \"7f\", \"8f\", \"9f\", \"10f\", \"11f\", \"12f\", \"13f\", \"14f\", \"nofilter\"], \"xaxis\": \"x33\", \"y\": [0.32467142857142856, 0.43292857142857144, 0.29972857142857146, 0.38977142857142855, 0.4270285714285715, 0.3306142857142857, 0.5117857142857143, 0.4884857142857143, 0.5795857142857143, 0.47857142857142854], \"yaxis\": \"y33\"}, {\"line\": {\"color\": \"#BC80BD\"}, \"name\": \"org:political/religious_affiliation recall\", \"type\": \"scatter\", \"uid\": \"8bb9884a-e3e8-461b-b1f7-ad5c8a8fdf4a\", \"x\": [\"6f\", \"7f\", \"8f\", \"9f\", \"10f\", \"11f\", \"12f\", \"13f\", \"14f\", \"nofilter\"], \"xaxis\": \"x33\", \"y\": [0.7142857142857144, 0.48571428571428565, 0.45714285714285713, 0.5142857142857142, 0.5285714285714286, 0.4428571428571429, 0.4428571428571429, 0.4571428571428572, 0.2571428571428571, 0.5285714285714286], \"yaxis\": \"y33\"}, {\"line\": {\"color\": \"#FCCDE5\"}, \"name\": \"org:political/religious_affiliation f1\", \"type\": \"scatter\", \"uid\": \"0b02e651-6d1a-414e-b8dd-d7132600fcae\", \"x\": [\"6f\", \"7f\", \"8f\", \"9f\", \"10f\", \"11f\", \"12f\", \"13f\", \"14f\", \"nofilter\"], \"xaxis\": \"x33\", \"y\": [0.4420428571428571, 0.44695714285714283, 0.3488142857142857, 0.43017142857142854, 0.4558142857142857, 0.3717857142857143, 0.44391428571428576, 0.45981428571428573, 0.32224285714285716, 0.49342857142857144], \"yaxis\": \"y33\"}, {\"line\": {\"color\": \"#CCEBC5\"}, \"name\": \"per:religion precision\", \"type\": \"scatter\", \"uid\": \"e9a61de7-c08d-40e8-9a82-50c7c7113005\", \"x\": [\"6f\", \"7f\", \"8f\", \"9f\", \"10f\", \"11f\", \"12f\", \"13f\", \"14f\", \"nofilter\"], \"xaxis\": \"x34\", \"y\": [0.5731, 0.5695857142857143, 0.5924857142857142, 0.5990857142857143, 0.6107857142857143, 0.6273857142857143, 0.6009714285714286, 0.6878857142857143, 0.6603142857142856, 0.589957142857143], \"yaxis\": \"y34\"}, {\"line\": {\"color\": \"#BC80BD\"}, \"name\": \"per:religion recall\", \"type\": \"scatter\", \"uid\": \"9b4519e2-ccb2-43f4-8989-c9ba297cbfde\", \"x\": [\"6f\", \"7f\", \"8f\", \"9f\", \"10f\", \"11f\", \"12f\", \"13f\", \"14f\", \"nofilter\"], \"xaxis\": \"x34\", \"y\": [0.6535000000000001, 0.6474142857142857, 0.5744714285714286, 0.6079142857142857, 0.6474428571428571, 0.5501571428571428, 0.5774999999999999, 0.48327142857142863, 0.48328571428571426, 0.6200571428571429], \"yaxis\": \"y34\"}, {\"line\": {\"color\": \"#FCCDE5\"}, \"name\": \"per:religion f1\", \"type\": \"scatter\", \"uid\": \"68dd7278-adc9-40f4-9254-ead5d3b660a9\", \"x\": [\"6f\", \"7f\", \"8f\", \"9f\", \"10f\", \"11f\", \"12f\", \"13f\", \"14f\", \"nofilter\"], \"xaxis\": \"x34\", \"y\": [0.6082857142857143, 0.598057142857143, 0.5812, 0.5980714285714287, 0.6261571428571429, 0.5837000000000001, 0.5855857142857143, 0.5663, 0.5503571428571429, 0.6017428571428571], \"yaxis\": \"y34\"}, {\"line\": {\"color\": \"#CCEBC5\"}, \"name\": \"org:number_of_employees/members precision\", \"type\": \"scatter\", \"uid\": \"6d337dc1-1caa-47d8-aff0-8490972c91f4\", \"x\": [\"6f\", \"7f\", \"8f\", \"9f\", \"10f\", \"11f\", \"12f\", \"13f\", \"14f\", \"nofilter\"], \"xaxis\": \"x35\", \"y\": [0.6242857142857143, 0.638257142857143, 0.7401714285714286, 0.7132857142857143, 0.6881285714285715, 0.6623, 0.7437714285714285, 0.6973285714285715, 0.7471428571428571, 0.7463714285714286], \"yaxis\": \"y35\"}, {\"line\": {\"color\": \"#BC80BD\"}, \"name\": \"org:number_of_employees/members recall\", \"type\": \"scatter\", \"uid\": \"90d25276-9bb0-4565-87c8-4b29acad2ab7\", \"x\": [\"6f\", \"7f\", \"8f\", \"9f\", \"10f\", \"11f\", \"12f\", \"13f\", \"14f\", \"nofilter\"], \"xaxis\": \"x35\", \"y\": [0.4661571428571428, 0.7894714285714286, 0.5789428571428573, 0.6917142857142856, 0.7518857142857142, 0.7293142857142858, 0.7368285714285715, 0.6165428571428571, 0.5488571428571428, 0.6466000000000001], \"yaxis\": \"y35\"}, {\"line\": {\"color\": \"#FCCDE5\"}, \"name\": \"org:number_of_employees/members f1\", \"type\": \"scatter\", \"uid\": \"a992a8ce-b34f-42f7-818d-017c29d5b6be\", \"x\": [\"6f\", \"7f\", \"8f\", \"9f\", \"10f\", \"11f\", \"12f\", \"13f\", \"14f\", \"nofilter\"], \"xaxis\": \"x35\", \"y\": [0.5294142857142857, 0.7050000000000001, 0.6376571428571429, 0.6989571428571428, 0.7170714285714287, 0.6900285714285715, 0.7367285714285714, 0.649657142857143, 0.6218285714285715, 0.6858000000000001], \"yaxis\": \"y35\"}, {\"line\": {\"color\": \"#CCEBC5\"}, \"name\": \"per:city_of_birth precision\", \"type\": \"scatter\", \"uid\": \"46968a05-91b0-4b9b-858e-2b1a80b949a4\", \"x\": [\"6f\", \"7f\", \"8f\", \"9f\", \"10f\", \"11f\", \"12f\", \"13f\", \"14f\", \"nofilter\"], \"xaxis\": \"x36\", \"y\": [0.30067142857142853, 0.38808571428571426, 0.44365714285714286, 0.4452428571428571, 0.5690714285714286, 0.4714285714285714, 0.4884428571428571, 0.35714285714285715, 0.3850285714285714, 0.4428571428571428], \"yaxis\": \"y36\"}, {\"line\": {\"color\": \"#BC80BD\"}, \"name\": \"per:city_of_birth recall\", \"type\": \"scatter\", \"uid\": \"a19fdd8e-6e15-49cf-affc-2b83734b7633\", \"x\": [\"6f\", \"7f\", \"8f\", \"9f\", \"10f\", \"11f\", \"12f\", \"13f\", \"14f\", \"nofilter\"], \"xaxis\": \"x36\", \"y\": [0.2857142857142857, 0.31428571428571433, 0.3428571428571429, 0.3714285714285714, 0.37142857142857144, 0.39999999999999997, 0.39999999999999997, 0.34285714285714286, 0.42857142857142855, 0.37142857142857144], \"yaxis\": \"y36\"}, {\"line\": {\"color\": \"#FCCDE5\"}, \"name\": \"per:city_of_birth f1\", \"type\": \"scatter\", \"uid\": \"cb4d280f-eed6-47d1-9a16-04a35bde17f3\", \"x\": [\"6f\", \"7f\", \"8f\", \"9f\", \"10f\", \"11f\", \"12f\", \"13f\", \"14f\", \"nofilter\"], \"xaxis\": \"x36\", \"y\": [0.2864857142857143, 0.3379857142857143, 0.3705142857142857, 0.4015714285714286, 0.4460285714285714, 0.4281142857142857, 0.42812857142857136, 0.3492, 0.4038857142857143, 0.3963571428571429], \"yaxis\": \"y36\"}, {\"line\": {\"color\": \"#CCEBC5\"}, \"name\": \"per:date_of_birth precision\", \"type\": \"scatter\", \"uid\": \"1f301264-41b6-4918-948f-06367521c623\", \"x\": [\"6f\", \"7f\", \"8f\", \"9f\", \"10f\", \"11f\", \"12f\", \"13f\", \"14f\", \"nofilter\"], \"xaxis\": \"x37\", \"y\": [0.7903857142857144, 0.8211285714285715, 0.8137142857142857, 0.8228428571428571, 0.856, 0.7530571428571429, 0.8397714285714286, 0.8554285714285715, 0.8478428571428571, 0.8381428571428572], \"yaxis\": \"y37\"}, {\"line\": {\"color\": \"#BC80BD\"}, \"name\": \"per:date_of_birth recall\", \"type\": \"scatter\", \"uid\": \"22988b86-8ad1-49cf-9459-a2512e39876a\", \"x\": [\"6f\", \"7f\", \"8f\", \"9f\", \"10f\", \"11f\", \"12f\", \"13f\", \"14f\", \"nofilter\"], \"xaxis\": \"x37\", \"y\": [0.7301857142857143, 0.6984428571428571, 0.7143142857142858, 0.7460571428571429, 0.7143142857142857, 0.6508285714285714, 0.6825714285714285, 0.6984428571428571, 0.7143142857142857, 0.7143142857142858], \"yaxis\": \"y37\"}, {\"line\": {\"color\": \"#FCCDE5\"}, \"name\": \"per:date_of_birth f1\", \"type\": \"scatter\", \"uid\": \"e55ccbd4-848c-49d4-9eda-253d0c0da35a\", \"x\": [\"6f\", \"7f\", \"8f\", \"9f\", \"10f\", \"11f\", \"12f\", \"13f\", \"14f\", \"nofilter\"], \"xaxis\": \"x37\", \"y\": [0.7510285714285715, 0.7525714285714286, 0.7547142857142858, 0.7763857142857143, 0.7758142857142857, 0.692857142857143, 0.7489571428571429, 0.7662428571428572, 0.7688142857142858, 0.7697285714285714], \"yaxis\": \"y37\"}, {\"line\": {\"color\": \"#CCEBC5\"}, \"name\": \"per:stateorprovince_of_death precision\", \"type\": \"scatter\", \"uid\": \"3eb6193e-3748-4d32-876f-2d819d05c435\", \"x\": [\"6f\", \"7f\", \"8f\", \"9f\", \"10f\", \"11f\", \"12f\", \"13f\", \"14f\", \"nofilter\"], \"xaxis\": \"x38\", \"y\": [0.6904999999999999, 0.6666857142857142, 0.6904857142857143, 0.6905, 0.6785857142857142, 0.6666999999999998, 0.6690714285714285, 0.7024, 0.6309571428571429, 0.6571571428571429], \"yaxis\": \"y38\"}, {\"line\": {\"color\": \"#BC80BD\"}, \"name\": \"per:stateorprovince_of_death recall\", \"type\": \"scatter\", \"uid\": \"38b9c552-8d76-4760-a4bf-8e880a936e97\", \"x\": [\"6f\", \"7f\", \"8f\", \"9f\", \"10f\", \"11f\", \"12f\", \"13f\", \"14f\", \"nofilter\"], \"xaxis\": \"x38\", \"y\": [0.1837, 0.1633, 0.18369999999999997, 0.1633, 0.1735, 0.1429, 0.1633, 0.1735, 0.1735, 0.1735], \"yaxis\": \"y38\"}, {\"line\": {\"color\": \"#FCCDE5\"}, \"name\": \"per:stateorprovince_of_death f1\", \"type\": \"scatter\", \"uid\": \"d1de5586-cdb1-49ac-8bb7-f2217dc40858\", \"x\": [\"6f\", \"7f\", \"8f\", \"9f\", \"10f\", \"11f\", \"12f\", \"13f\", \"14f\", \"nofilter\"], \"xaxis\": \"x38\", \"y\": [0.28682857142857143, 0.26142857142857145, 0.2894285714285714, 0.26330000000000003, 0.27542857142857147, 0.23530000000000004, 0.26080000000000003, 0.2773, 0.27168571428571425, 0.27292857142857146], \"yaxis\": \"y38\"}, {\"line\": {\"color\": \"#CCEBC5\"}, \"name\": \"per:stateorprovince_of_birth precision\", \"type\": \"scatter\", \"uid\": \"9b944f62-9b8d-422a-9de6-1615140bd731\", \"x\": [\"6f\", \"7f\", \"8f\", \"9f\", \"10f\", \"11f\", \"12f\", \"13f\", \"14f\", \"nofilter\"], \"xaxis\": \"x39\", \"y\": [0.4333142857142857, 0.4141285714285714, 0.3987142857142857, 0.4380571428571428, 0.446, 0.446, 0.4095, 0.4440285714285714, 0.4063428571428571, 0.43448571428571425], \"yaxis\": \"y39\"}, {\"line\": {\"color\": \"#BC80BD\"}, \"name\": \"per:stateorprovince_of_birth recall\", \"type\": \"scatter\", \"uid\": \"1e55a40f-a5b7-4f70-b05a-c3f8050cb0ef\", \"x\": [\"6f\", \"7f\", \"8f\", \"9f\", \"10f\", \"11f\", \"12f\", \"13f\", \"14f\", \"nofilter\"], \"xaxis\": \"x39\", \"y\": [0.5, 0.5178571428571429, 0.48214285714285715, 0.5, 0.5, 0.5, 0.5, 0.48214285714285715, 0.5, 0.48214285714285715], \"yaxis\": \"y39\"}, {\"line\": {\"color\": \"#FCCDE5\"}, \"name\": \"per:stateorprovince_of_birth f1\", \"type\": \"scatter\", \"uid\": \"504d77f8-3640-4ff8-adb5-89c0eeb96be2\", \"x\": [\"6f\", \"7f\", \"8f\", \"9f\", \"10f\", \"11f\", \"12f\", \"13f\", \"14f\", \"nofilter\"], \"xaxis\": \"x39\", \"y\": [0.46357142857142863, 0.4598428571428571, 0.4353142857142857, 0.46685714285714297, 0.4710571428571429, 0.4710571428571429, 0.4492857142857143, 0.46160000000000007, 0.44814285714285707, 0.4569428571428572], \"yaxis\": \"y39\"}, {\"line\": {\"color\": \"#CCEBC5\"}, \"name\": \"per:country_of_death precision\", \"type\": \"scatter\", \"uid\": \"b6074113-2564-4af1-8f18-49b9264432bc\", \"x\": [\"6f\", \"7f\", \"8f\", \"9f\", \"10f\", \"11f\", \"12f\", \"13f\", \"14f\", \"nofilter\"], \"xaxis\": \"x40\", \"y\": [1.0, 1.0, 1.0, 1.0, 1.0, 1.0, 1.0, 1.0, 1.0, 1.0], \"yaxis\": \"y40\"}, {\"line\": {\"color\": \"#BC80BD\"}, \"name\": \"per:country_of_death recall\", \"type\": \"scatter\", \"uid\": \"9bcb0ed8-e69b-4631-9d93-d51da7716175\", \"x\": [\"6f\", \"7f\", \"8f\", \"9f\", \"10f\", \"11f\", \"12f\", \"13f\", \"14f\", \"nofilter\"], \"xaxis\": \"x40\", \"y\": [0.0, 0.0, 0.0, 0.0, 0.0, 0.0, 0.0, 0.0, 0.0, 0.0], \"yaxis\": \"y40\"}, {\"line\": {\"color\": \"#FCCDE5\"}, \"name\": \"per:country_of_death f1\", \"type\": \"scatter\", \"uid\": \"0f353d6e-4214-4fde-b371-3e1d0182549c\", \"x\": [\"6f\", \"7f\", \"8f\", \"9f\", \"10f\", \"11f\", \"12f\", \"13f\", \"14f\", \"nofilter\"], \"xaxis\": \"x40\", \"y\": [0.0, 0.0, 0.0, 0.0, 0.0, 0.0, 0.0, 0.0, 0.0, 0.0], \"yaxis\": \"y40\"}, {\"line\": {\"color\": \"#CCEBC5\"}, \"name\": \"per:country_of_birth precision\", \"type\": \"scatter\", \"uid\": \"74cbb47f-6473-4f74-9f05-d7ac0215612e\", \"x\": [\"6f\", \"7f\", \"8f\", \"9f\", \"10f\", \"11f\", \"12f\", \"13f\", \"14f\", \"nofilter\"], \"xaxis\": \"x41\", \"y\": [0.2857142857142857, 0.14285714285714285, 0.06168571428571428, 0.2857142857142857, 0.17142857142857143, 0.14285714285714285, 0.0642857142857143, 0.0, 0.35000000000000003, 0.2857142857142857], \"yaxis\": \"y41\"}, {\"line\": {\"color\": \"#BC80BD\"}, \"name\": \"per:country_of_birth recall\", \"type\": \"scatter\", \"uid\": \"76155f48-4258-412c-9962-ac2fd909c0f7\", \"x\": [\"6f\", \"7f\", \"8f\", \"9f\", \"10f\", \"11f\", \"12f\", \"13f\", \"14f\", \"nofilter\"], \"xaxis\": \"x41\", \"y\": [0.0, 0.0, 0.08571428571428573, 0.0, 0.028571428571428574, 0.0, 0.05714285714285715, 0.0, 0.05714285714285715, 0.0], \"yaxis\": \"y41\"}, {\"line\": {\"color\": \"#FCCDE5\"}, \"name\": \"per:country_of_birth f1\", \"type\": \"scatter\", \"uid\": \"11d2696d-ff25-4e94-8bbd-a7df84e289a4\", \"x\": [\"6f\", \"7f\", \"8f\", \"9f\", \"10f\", \"11f\", \"12f\", \"13f\", \"14f\", \"nofilter\"], \"xaxis\": \"x41\", \"y\": [0.0, 0.0, 0.06745714285714285, 0.0, 0.028571428571428574, 0.0, 0.060314285714285716, 0.0, 0.060314285714285716, 0.0], \"yaxis\": \"y41\"}, {\"line\": {\"color\": \"#CCEBC5\"}, \"name\": \"org:dissolved precision\", \"type\": \"scatter\", \"uid\": \"0df6d5a4-5045-4f7f-94bc-570503314523\", \"x\": [\"6f\", \"7f\", \"8f\", \"9f\", \"10f\", \"11f\", \"12f\", \"13f\", \"14f\", \"nofilter\"], \"xaxis\": \"x42\", \"y\": [1.0, 1.0, 1.0, 1.0, 1.0, 1.0, 1.0, 1.0, 1.0, 1.0], \"yaxis\": \"y42\"}, {\"line\": {\"color\": \"#BC80BD\"}, \"name\": \"org:dissolved recall\", \"type\": \"scatter\", \"uid\": \"cb713983-6d93-49fe-91fe-27ca56cb5bbd\", \"x\": [\"6f\", \"7f\", \"8f\", \"9f\", \"10f\", \"11f\", \"12f\", \"13f\", \"14f\", \"nofilter\"], \"xaxis\": \"x42\", \"y\": [0.0, 0.0, 0.0, 0.0, 0.0, 0.0, 0.0, 0.0, 0.0, 0.0], \"yaxis\": \"y42\"}, {\"line\": {\"color\": \"#FCCDE5\"}, \"name\": \"org:dissolved f1\", \"type\": \"scatter\", \"uid\": \"bdb4ee78-2913-4dce-abaa-e620191271ad\", \"x\": [\"6f\", \"7f\", \"8f\", \"9f\", \"10f\", \"11f\", \"12f\", \"13f\", \"14f\", \"nofilter\"], \"xaxis\": \"x42\", \"y\": [0.0, 0.0, 0.0, 0.0, 0.0, 0.0, 0.0, 0.0, 0.0, 0.0], \"yaxis\": \"y42\"}],\n",
       "                        {\"annotations\": [{\"font\": {\"family\": \"Arial\", \"size\": 10}, \"showarrow\": false, \"text\": \"total (18,448)\", \"x\": 0.14444444444444446, \"xanchor\": \"center\", \"xref\": \"paper\", \"y\": 1.0, \"yanchor\": \"bottom\", \"yref\": \"paper\"}, {\"font\": {\"family\": \"Arial\", \"size\": 10}, \"showarrow\": false, \"text\": \"per:title (3,362)\", \"x\": 0.5, \"xanchor\": \"center\", \"xref\": \"paper\", \"y\": 1.0, \"yanchor\": \"bottom\", \"yref\": \"paper\"}, {\"font\": {\"family\": \"Arial\", \"size\": 10}, \"showarrow\": false, \"text\": \"org:top_members/employees (2,424)\", \"x\": 0.8555555555555556, \"xanchor\": \"center\", \"xref\": \"paper\", \"y\": 1.0, \"yanchor\": \"bottom\", \"yref\": \"paper\"}, {\"font\": {\"family\": \"Arial\", \"size\": 10}, \"showarrow\": false, \"text\": \"per:employee_of (1,899)\", \"x\": 0.14444444444444446, \"xanchor\": \"center\", \"xref\": \"paper\", \"y\": 0.9260204081632654, \"yanchor\": \"bottom\", \"yref\": \"paper\"}, {\"font\": {\"family\": \"Arial\", \"size\": 10}, \"showarrow\": false, \"text\": \"org:alternate_names (1,146)\", \"x\": 0.5, \"xanchor\": \"center\", \"xref\": \"paper\", \"y\": 0.9260204081632654, \"yanchor\": \"bottom\", \"yref\": \"paper\"}, {\"font\": {\"family\": \"Arial\", \"size\": 10}, \"showarrow\": false, \"text\": \"per:countries_of_residence (671)\", \"x\": 0.8555555555555556, \"xanchor\": \"center\", \"xref\": \"paper\", \"y\": 0.9260204081632654, \"yanchor\": \"bottom\", \"yref\": \"paper\"}, {\"font\": {\"family\": \"Arial\", \"size\": 10}, \"showarrow\": false, \"text\": \"org:country_of_headquarters (645)\", \"x\": 0.14444444444444446, \"xanchor\": \"center\", \"xref\": \"paper\", \"y\": 0.8520408163265307, \"yanchor\": \"bottom\", \"yref\": \"paper\"}, {\"font\": {\"family\": \"Arial\", \"size\": 10}, \"showarrow\": false, \"text\": \"per:age (633)\", \"x\": 0.5, \"xanchor\": \"center\", \"xref\": \"paper\", \"y\": 0.8520408163265307, \"yanchor\": \"bottom\", \"yref\": \"paper\"}, {\"font\": {\"family\": \"Arial\", \"size\": 10}, \"showarrow\": false, \"text\": \"per:cities_of_residence (553)\", \"x\": 0.8555555555555556, \"xanchor\": \"center\", \"xref\": \"paper\", \"y\": 0.8520408163265307, \"yanchor\": \"bottom\", \"yref\": \"paper\"}, {\"font\": {\"family\": \"Arial\", \"size\": 10}, \"showarrow\": false, \"text\": \"per:origin (535)\", \"x\": 0.14444444444444446, \"xanchor\": \"center\", \"xref\": \"paper\", \"y\": 0.778061224489796, \"yanchor\": \"bottom\", \"yref\": \"paper\"}, {\"font\": {\"family\": \"Arial\", \"size\": 10}, \"showarrow\": false, \"text\": \"org:city_of_headquarters (491)\", \"x\": 0.5, \"xanchor\": \"center\", \"xref\": \"paper\", \"y\": 0.778061224489796, \"yanchor\": \"bottom\", \"yref\": \"paper\"}, {\"font\": {\"family\": \"Arial\", \"size\": 10}, \"showarrow\": false, \"text\": \"per:spouse (417)\", \"x\": 0.8555555555555556, \"xanchor\": \"center\", \"xref\": \"paper\", \"y\": 0.778061224489796, \"yanchor\": \"bottom\", \"yref\": \"paper\"}, {\"font\": {\"family\": \"Arial\", \"size\": 10}, \"showarrow\": false, \"text\": \"org:subsidiaries (409)\", \"x\": 0.14444444444444446, \"xanchor\": \"center\", \"xref\": \"paper\", \"y\": 0.7040816326530612, \"yanchor\": \"bottom\", \"yref\": \"paper\"}, {\"font\": {\"family\": \"Arial\", \"size\": 10}, \"showarrow\": false, \"text\": \"per:stateorprovinces_of_residence (403)\", \"x\": 0.5, \"xanchor\": \"center\", \"xref\": \"paper\", \"y\": 0.7040816326530612, \"yanchor\": \"bottom\", \"yref\": \"paper\"}, {\"font\": {\"family\": \"Arial\", \"size\": 10}, \"showarrow\": false, \"text\": \"org:parents (382)\", \"x\": 0.8555555555555556, \"xanchor\": \"center\", \"xref\": \"paper\", \"y\": 0.7040816326530612, \"yanchor\": \"bottom\", \"yref\": \"paper\"}, {\"font\": {\"family\": \"Arial\", \"size\": 10}, \"showarrow\": false, \"text\": \"per:date_of_death (340)\", \"x\": 0.14444444444444446, \"xanchor\": \"center\", \"xref\": \"paper\", \"y\": 0.6301020408163265, \"yanchor\": \"bottom\", \"yref\": \"paper\"}, {\"font\": {\"family\": \"Arial\", \"size\": 10}, \"showarrow\": false, \"text\": \"per:children (310)\", \"x\": 0.5, \"xanchor\": \"center\", \"xref\": \"paper\", \"y\": 0.6301020408163265, \"yanchor\": \"bottom\", \"yref\": \"paper\"}, {\"font\": {\"family\": \"Arial\", \"size\": 10}, \"showarrow\": false, \"text\": \"org:stateorprovince_of_headquarters (299)\", \"x\": 0.8555555555555556, \"xanchor\": \"center\", \"xref\": \"paper\", \"y\": 0.6301020408163265, \"yanchor\": \"bottom\", \"yref\": \"paper\"}, {\"font\": {\"family\": \"Arial\", \"size\": 10}, \"showarrow\": false, \"text\": \"per:cause_of_death (285)\", \"x\": 0.14444444444444446, \"xanchor\": \"center\", \"xref\": \"paper\", \"y\": 0.5561224489795918, \"yanchor\": \"bottom\", \"yref\": \"paper\"}, {\"font\": {\"family\": \"Arial\", \"size\": 10}, \"showarrow\": false, \"text\": \"per:other_family (259)\", \"x\": 0.5, \"xanchor\": \"center\", \"xref\": \"paper\", \"y\": 0.5561224489795918, \"yanchor\": \"bottom\", \"yref\": \"paper\"}, {\"font\": {\"family\": \"Arial\", \"size\": 10}, \"showarrow\": false, \"text\": \"org:members (255)\", \"x\": 0.8555555555555556, \"xanchor\": \"center\", \"xref\": \"paper\", \"y\": 0.5561224489795918, \"yanchor\": \"bottom\", \"yref\": \"paper\"}, {\"font\": {\"family\": \"Arial\", \"size\": 10}, \"showarrow\": false, \"text\": \"per:parents (208)\", \"x\": 0.14444444444444446, \"xanchor\": \"center\", \"xref\": \"paper\", \"y\": 0.4821428571428572, \"yanchor\": \"bottom\", \"yref\": \"paper\"}, {\"font\": {\"family\": \"Arial\", \"size\": 10}, \"showarrow\": false, \"text\": \"org:founded_by (200)\", \"x\": 0.5, \"xanchor\": \"center\", \"xref\": \"paper\", \"y\": 0.4821428571428572, \"yanchor\": \"bottom\", \"yref\": \"paper\"}, {\"font\": {\"family\": \"Arial\", \"size\": 10}, \"showarrow\": false, \"text\": \"per:city_of_death (199)\", \"x\": 0.8555555555555556, \"xanchor\": \"center\", \"xref\": \"paper\", \"y\": 0.4821428571428572, \"yanchor\": \"bottom\", \"yref\": \"paper\"}, {\"font\": {\"family\": \"Arial\", \"size\": 10}, \"showarrow\": false, \"text\": \"per:schools_attended (199)\", \"x\": 0.14444444444444446, \"xanchor\": \"center\", \"xref\": \"paper\", \"y\": 0.4081632653061225, \"yanchor\": \"bottom\", \"yref\": \"paper\"}, {\"font\": {\"family\": \"Arial\", \"size\": 10}, \"showarrow\": false, \"text\": \"org:website (197)\", \"x\": 0.5, \"xanchor\": \"center\", \"xref\": \"paper\", \"y\": 0.4081632653061225, \"yanchor\": \"bottom\", \"yref\": \"paper\"}, {\"font\": {\"family\": \"Arial\", \"size\": 10}, \"showarrow\": false, \"text\": \"per:siblings (195)\", \"x\": 0.8555555555555556, \"xanchor\": \"center\", \"xref\": \"paper\", \"y\": 0.4081632653061225, \"yanchor\": \"bottom\", \"yref\": \"paper\"}, {\"font\": {\"family\": \"Arial\", \"size\": 10}, \"showarrow\": false, \"text\": \"per:charges (177)\", \"x\": 0.14444444444444446, \"xanchor\": \"center\", \"xref\": \"paper\", \"y\": 0.33418367346938777, \"yanchor\": \"bottom\", \"yref\": \"paper\"}, {\"font\": {\"family\": \"Arial\", \"size\": 10}, \"showarrow\": false, \"text\": \"org:member_of (153)\", \"x\": 0.5, \"xanchor\": \"center\", \"xref\": \"paper\", \"y\": 0.33418367346938777, \"yanchor\": \"bottom\", \"yref\": \"paper\"}, {\"font\": {\"family\": \"Arial\", \"size\": 10}, \"showarrow\": false, \"text\": \"per:alternate_names (142)\", \"x\": 0.8555555555555556, \"xanchor\": \"center\", \"xref\": \"paper\", \"y\": 0.33418367346938777, \"yanchor\": \"bottom\", \"yref\": \"paper\"}, {\"font\": {\"family\": \"Arial\", \"size\": 10}, \"showarrow\": false, \"text\": \"org:shareholders (131)\", \"x\": 0.14444444444444446, \"xanchor\": \"center\", \"xref\": \"paper\", \"y\": 0.2602040816326531, \"yanchor\": \"bottom\", \"yref\": \"paper\"}, {\"font\": {\"family\": \"Arial\", \"size\": 10}, \"showarrow\": false, \"text\": \"org:founded (129)\", \"x\": 0.5, \"xanchor\": \"center\", \"xref\": \"paper\", \"y\": 0.2602040816326531, \"yanchor\": \"bottom\", \"yref\": \"paper\"}, {\"font\": {\"family\": \"Arial\", \"size\": 10}, \"showarrow\": false, \"text\": \"org:political/religious_affiliation (115)\", \"x\": 0.8555555555555556, \"xanchor\": \"center\", \"xref\": \"paper\", \"y\": 0.2602040816326531, \"yanchor\": \"bottom\", \"yref\": \"paper\"}, {\"font\": {\"family\": \"Arial\", \"size\": 10}, \"showarrow\": false, \"text\": \"per:religion (106)\", \"x\": 0.14444444444444446, \"xanchor\": \"center\", \"xref\": \"paper\", \"y\": 0.18622448979591838, \"yanchor\": \"bottom\", \"yref\": \"paper\"}, {\"font\": {\"family\": \"Arial\", \"size\": 10}, \"showarrow\": false, \"text\": \"org:number_of_employees/members (102)\", \"x\": 0.5, \"xanchor\": \"center\", \"xref\": \"paper\", \"y\": 0.18622448979591838, \"yanchor\": \"bottom\", \"yref\": \"paper\"}, {\"font\": {\"family\": \"Arial\", \"size\": 10}, \"showarrow\": false, \"text\": \"per:city_of_birth (98)\", \"x\": 0.8555555555555556, \"xanchor\": \"center\", \"xref\": \"paper\", \"y\": 0.18622448979591838, \"yanchor\": \"bottom\", \"yref\": \"paper\"}, {\"font\": {\"family\": \"Arial\", \"size\": 10}, \"showarrow\": false, \"text\": \"per:date_of_birth (94)\", \"x\": 0.14444444444444446, \"xanchor\": \"center\", \"xref\": \"paper\", \"y\": 0.11224489795918369, \"yanchor\": \"bottom\", \"yref\": \"paper\"}, {\"font\": {\"family\": \"Arial\", \"size\": 10}, \"showarrow\": false, \"text\": \"per:stateorprovince_of_death (90)\", \"x\": 0.5, \"xanchor\": \"center\", \"xref\": \"paper\", \"y\": 0.11224489795918369, \"yanchor\": \"bottom\", \"yref\": \"paper\"}, {\"font\": {\"family\": \"Arial\", \"size\": 10}, \"showarrow\": false, \"text\": \"per:stateorprovince_of_birth (64)\", \"x\": 0.8555555555555556, \"xanchor\": \"center\", \"xref\": \"paper\", \"y\": 0.11224489795918369, \"yanchor\": \"bottom\", \"yref\": \"paper\"}, {\"font\": {\"family\": \"Arial\", \"size\": 10}, \"showarrow\": false, \"text\": \"per:country_of_death (52)\", \"x\": 0.14444444444444446, \"xanchor\": \"center\", \"xref\": \"paper\", \"y\": 0.03826530612244899, \"yanchor\": \"bottom\", \"yref\": \"paper\"}, {\"font\": {\"family\": \"Arial\", \"size\": 10}, \"showarrow\": false, \"text\": \"per:country_of_birth (48)\", \"x\": 0.5, \"xanchor\": \"center\", \"xref\": \"paper\", \"y\": 0.03826530612244899, \"yanchor\": \"bottom\", \"yref\": \"paper\"}, {\"font\": {\"family\": \"Arial\", \"size\": 10}, \"showarrow\": false, \"text\": \"org:dissolved (31)\", \"x\": 0.8555555555555556, \"xanchor\": \"center\", \"xref\": \"paper\", \"y\": 0.03826530612244899, \"yanchor\": \"bottom\", \"yref\": \"paper\"}], \"font\": {\"family\": \"Arial\", \"size\": 12}, \"height\": 3000, \"title\": {\"text\": \"UCCA Filtering Results\"}, \"width\": 1500, \"xaxis\": {\"anchor\": \"y\", \"domain\": [0.0, 0.2888888888888889]}, \"xaxis10\": {\"anchor\": \"y10\", \"domain\": [0.0, 0.2888888888888889]}, \"xaxis11\": {\"anchor\": \"y11\", \"domain\": [0.35555555555555557, 0.6444444444444445]}, \"xaxis12\": {\"anchor\": \"y12\", \"domain\": [0.7111111111111111, 1.0]}, \"xaxis13\": {\"anchor\": \"y13\", \"domain\": [0.0, 0.2888888888888889]}, \"xaxis14\": {\"anchor\": \"y14\", \"domain\": [0.35555555555555557, 0.6444444444444445]}, \"xaxis15\": {\"anchor\": \"y15\", \"domain\": [0.7111111111111111, 1.0]}, \"xaxis16\": {\"anchor\": \"y16\", \"domain\": [0.0, 0.2888888888888889]}, \"xaxis17\": {\"anchor\": \"y17\", \"domain\": [0.35555555555555557, 0.6444444444444445]}, \"xaxis18\": {\"anchor\": \"y18\", \"domain\": [0.7111111111111111, 1.0]}, \"xaxis19\": {\"anchor\": \"y19\", \"domain\": [0.0, 0.2888888888888889]}, \"xaxis2\": {\"anchor\": \"y2\", \"domain\": [0.35555555555555557, 0.6444444444444445]}, \"xaxis20\": {\"anchor\": \"y20\", \"domain\": [0.35555555555555557, 0.6444444444444445]}, \"xaxis21\": {\"anchor\": \"y21\", \"domain\": [0.7111111111111111, 1.0]}, \"xaxis22\": {\"anchor\": \"y22\", \"domain\": [0.0, 0.2888888888888889]}, \"xaxis23\": {\"anchor\": \"y23\", \"domain\": [0.35555555555555557, 0.6444444444444445]}, \"xaxis24\": {\"anchor\": \"y24\", \"domain\": [0.7111111111111111, 1.0]}, \"xaxis25\": {\"anchor\": \"y25\", \"domain\": [0.0, 0.2888888888888889]}, \"xaxis26\": {\"anchor\": \"y26\", \"domain\": [0.35555555555555557, 0.6444444444444445]}, \"xaxis27\": {\"anchor\": \"y27\", \"domain\": [0.7111111111111111, 1.0]}, \"xaxis28\": {\"anchor\": \"y28\", \"domain\": [0.0, 0.2888888888888889]}, \"xaxis29\": {\"anchor\": \"y29\", \"domain\": [0.35555555555555557, 0.6444444444444445]}, \"xaxis3\": {\"anchor\": \"y3\", \"domain\": [0.7111111111111111, 1.0]}, \"xaxis30\": {\"anchor\": \"y30\", \"domain\": [0.7111111111111111, 1.0]}, \"xaxis31\": {\"anchor\": \"y31\", \"domain\": [0.0, 0.2888888888888889]}, \"xaxis32\": {\"anchor\": \"y32\", \"domain\": [0.35555555555555557, 0.6444444444444445]}, \"xaxis33\": {\"anchor\": \"y33\", \"domain\": [0.7111111111111111, 1.0]}, \"xaxis34\": {\"anchor\": \"y34\", \"domain\": [0.0, 0.2888888888888889]}, \"xaxis35\": {\"anchor\": \"y35\", \"domain\": [0.35555555555555557, 0.6444444444444445]}, \"xaxis36\": {\"anchor\": \"y36\", \"domain\": [0.7111111111111111, 1.0]}, \"xaxis37\": {\"anchor\": \"y37\", \"domain\": [0.0, 0.2888888888888889]}, \"xaxis38\": {\"anchor\": \"y38\", \"domain\": [0.35555555555555557, 0.6444444444444445]}, \"xaxis39\": {\"anchor\": \"y39\", \"domain\": [0.7111111111111111, 1.0]}, \"xaxis4\": {\"anchor\": \"y4\", \"domain\": [0.0, 0.2888888888888889]}, \"xaxis40\": {\"anchor\": \"y40\", \"domain\": [0.0, 0.2888888888888889]}, \"xaxis41\": {\"anchor\": \"y41\", \"domain\": [0.35555555555555557, 0.6444444444444445]}, \"xaxis42\": {\"anchor\": \"y42\", \"domain\": [0.7111111111111111, 1.0]}, \"xaxis5\": {\"anchor\": \"y5\", \"domain\": [0.35555555555555557, 0.6444444444444445]}, \"xaxis6\": {\"anchor\": \"y6\", \"domain\": [0.7111111111111111, 1.0]}, \"xaxis7\": {\"anchor\": \"y7\", \"domain\": [0.0, 0.2888888888888889]}, \"xaxis8\": {\"anchor\": \"y8\", \"domain\": [0.35555555555555557, 0.6444444444444445]}, \"xaxis9\": {\"anchor\": \"y9\", \"domain\": [0.7111111111111111, 1.0]}, \"yaxis\": {\"anchor\": \"x\", \"domain\": [0.9617346938775511, 1.0]}, \"yaxis10\": {\"anchor\": \"x10\", \"domain\": [0.739795918367347, 0.778061224489796]}, \"yaxis11\": {\"anchor\": \"x11\", \"domain\": [0.739795918367347, 0.778061224489796]}, \"yaxis12\": {\"anchor\": \"x12\", \"domain\": [0.739795918367347, 0.778061224489796]}, \"yaxis13\": {\"anchor\": \"x13\", \"domain\": [0.6658163265306123, 0.7040816326530612]}, \"yaxis14\": {\"anchor\": \"x14\", \"domain\": [0.6658163265306123, 0.7040816326530612]}, \"yaxis15\": {\"anchor\": \"x15\", \"domain\": [0.6658163265306123, 0.7040816326530612]}, \"yaxis16\": {\"anchor\": \"x16\", \"domain\": [0.5918367346938775, 0.6301020408163265]}, \"yaxis17\": {\"anchor\": \"x17\", \"domain\": [0.5918367346938775, 0.6301020408163265]}, \"yaxis18\": {\"anchor\": \"x18\", \"domain\": [0.5918367346938775, 0.6301020408163265]}, \"yaxis19\": {\"anchor\": \"x19\", \"domain\": [0.5178571428571429, 0.5561224489795918]}, \"yaxis2\": {\"anchor\": \"x2\", \"domain\": [0.9617346938775511, 1.0]}, \"yaxis20\": {\"anchor\": \"x20\", \"domain\": [0.5178571428571429, 0.5561224489795918]}, \"yaxis21\": {\"anchor\": \"x21\", \"domain\": [0.5178571428571429, 0.5561224489795918]}, \"yaxis22\": {\"anchor\": \"x22\", \"domain\": [0.4438775510204082, 0.4821428571428572]}, \"yaxis23\": {\"anchor\": \"x23\", \"domain\": [0.4438775510204082, 0.4821428571428572]}, \"yaxis24\": {\"anchor\": \"x24\", \"domain\": [0.4438775510204082, 0.4821428571428572]}, \"yaxis25\": {\"anchor\": \"x25\", \"domain\": [0.3698979591836735, 0.4081632653061225]}, \"yaxis26\": {\"anchor\": \"x26\", \"domain\": [0.3698979591836735, 0.4081632653061225]}, \"yaxis27\": {\"anchor\": \"x27\", \"domain\": [0.3698979591836735, 0.4081632653061225]}, \"yaxis28\": {\"anchor\": \"x28\", \"domain\": [0.29591836734693877, 0.33418367346938777]}, \"yaxis29\": {\"anchor\": \"x29\", \"domain\": [0.29591836734693877, 0.33418367346938777]}, \"yaxis3\": {\"anchor\": \"x3\", \"domain\": [0.9617346938775511, 1.0]}, \"yaxis30\": {\"anchor\": \"x30\", \"domain\": [0.29591836734693877, 0.33418367346938777]}, \"yaxis31\": {\"anchor\": \"x31\", \"domain\": [0.22193877551020408, 0.2602040816326531]}, \"yaxis32\": {\"anchor\": \"x32\", \"domain\": [0.22193877551020408, 0.2602040816326531]}, \"yaxis33\": {\"anchor\": \"x33\", \"domain\": [0.22193877551020408, 0.2602040816326531]}, \"yaxis34\": {\"anchor\": \"x34\", \"domain\": [0.14795918367346939, 0.18622448979591838]}, \"yaxis35\": {\"anchor\": \"x35\", \"domain\": [0.14795918367346939, 0.18622448979591838]}, \"yaxis36\": {\"anchor\": \"x36\", \"domain\": [0.14795918367346939, 0.18622448979591838]}, \"yaxis37\": {\"anchor\": \"x37\", \"domain\": [0.07397959183673469, 0.11224489795918369]}, \"yaxis38\": {\"anchor\": \"x38\", \"domain\": [0.07397959183673469, 0.11224489795918369]}, \"yaxis39\": {\"anchor\": \"x39\", \"domain\": [0.07397959183673469, 0.11224489795918369]}, \"yaxis4\": {\"anchor\": \"x4\", \"domain\": [0.8877551020408164, 0.9260204081632654]}, \"yaxis40\": {\"anchor\": \"x40\", \"domain\": [0.0, 0.03826530612244899]}, \"yaxis41\": {\"anchor\": \"x41\", \"domain\": [0.0, 0.03826530612244899]}, \"yaxis42\": {\"anchor\": \"x42\", \"domain\": [0.0, 0.03826530612244899]}, \"yaxis5\": {\"anchor\": \"x5\", \"domain\": [0.8877551020408164, 0.9260204081632654]}, \"yaxis6\": {\"anchor\": \"x6\", \"domain\": [0.8877551020408164, 0.9260204081632654]}, \"yaxis7\": {\"anchor\": \"x7\", \"domain\": [0.8137755102040818, 0.8520408163265307]}, \"yaxis8\": {\"anchor\": \"x8\", \"domain\": [0.8137755102040818, 0.8520408163265307]}, \"yaxis9\": {\"anchor\": \"x9\", \"domain\": [0.8137755102040818, 0.8520408163265307]}},\n",
       "                        {\"plotlyServerURL\": \"https://plot.ly\", \"responsive\": true}\n",
       "                    ).then(function(){\n",
       "                            \n",
       "var gd = document.getElementById('32966cf5-918a-412a-bcaa-3a900125f580');\n",
       "var x = new MutationObserver(function (mutations, observer) {{\n",
       "        var display = window.getComputedStyle(gd).display;\n",
       "        if (!display || display === 'none') {{\n",
       "            console.log([gd, 'removed!']);\n",
       "            Plotly.purge(gd);\n",
       "            observer.disconnect();\n",
       "        }}\n",
       "}});\n",
       "\n",
       "// Listen for the removal of the full notebook cells\n",
       "var notebookContainer = gd.closest('#notebook-container');\n",
       "if (notebookContainer) {{\n",
       "    x.observe(notebookContainer, {childList: true});\n",
       "}}\n",
       "\n",
       "// Listen for the clearing of the current output cell\n",
       "var outputEl = gd.closest('.output');\n",
       "if (outputEl) {{\n",
       "    x.observe(outputEl, {childList: true});\n",
       "}}\n",
       "\n",
       "                        })\n",
       "                };\n",
       "                });\n",
       "            </script>\n",
       "        </div>"
      ]
     },
     "metadata": {},
     "output_type": "display_data"
    }
   ],
   "source": [
    "layout = go.Layout(\n",
    "    title='UCCA Filtering Results',\n",
    "    width=1500,\n",
    "    height=3000,\n",
    "    font=dict(family=\"Arial\", size=12)\n",
    ")\n",
    "\n",
    "fig = make_subplots(\n",
    "    rows=num_rows, \n",
    "    cols=num_columns,\n",
    "    subplot_titles=list(titles),\n",
    ")\n",
    "\n",
    "not_interestes_in_result = fig['layout'].update(layout)\n",
    "\n",
    "\n",
    "for ind, relation in enumerate(relations):\n",
    "    \n",
    "    row_num, column_num = divmod(ind,num_columns)\n",
    "    \n",
    "    column_num += 1\n",
    "    row_num +=1 \n",
    "    \n",
    "    precision_results = []\n",
    "    recall_results = []\n",
    "    f1_results = []\n",
    "    \n",
    "    for filter_length in filter_lengths:\n",
    "        precision_result = results_table[results_table.index ==relation][filter_length]['precision-{}'.format(filter_length)][0]\n",
    "        recall_result = results_table[results_table.index ==relation][filter_length]['recall-{}'.format(filter_length)][0]\n",
    "        f1_result = results_table[results_table.index ==relation][filter_length]['f1-{}'.format(filter_length)][0]\n",
    "    \n",
    "        precision_results.append(precision_result)\n",
    "        recall_results.append(recall_result)\n",
    "        f1_results.append(f1_result)\n",
    "        \n",
    "    fig.add_trace(\n",
    "        go.Scatter(\n",
    "            x=filter_lengths,\n",
    "            y=precision_results,\n",
    "            name='{} precision'.format(relation),\n",
    "            line=dict(color='#CCEBC5')),\n",
    "        row=row_num,\n",
    "        col=column_num)        \n",
    "\n",
    "    fig.add_trace(\n",
    "        go.Scatter(\n",
    "            x=filter_lengths,\n",
    "            y=recall_results,\n",
    "            name='{} recall'.format(relation),\n",
    "            line=dict(color='#BC80BD')),\n",
    "        row=row_num,\n",
    "        col=column_num)        \n",
    "\n",
    "    fig.add_trace(\n",
    "        go.Scatter(\n",
    "            x=filter_lengths,\n",
    "            y=f1_results,\n",
    "            name='{} f1'.format(relation),\n",
    "            line=dict(color='#FCCDE5')),\n",
    "        row=row_num,\n",
    "        col=column_num)        \n",
    "\n",
    "    \n",
    "        \n",
    "for i in fig['layout']['annotations']:\n",
    "    i['font'] = dict(family=\"Arial\", size=10)\n",
    "\n",
    "    \n",
    "\n",
    "fig.show()\n",
    "    "
   ]
  },
  {
   "cell_type": "code",
   "execution_count": null,
   "metadata": {},
   "outputs": [],
   "source": []
  }
 ],
 "metadata": {
  "kernelspec": {
   "display_name": "Python 3",
   "language": "python",
   "name": "python3"
  },
  "language_info": {
   "codemirror_mode": {
    "name": "ipython",
    "version": 3
   },
   "file_extension": ".py",
   "mimetype": "text/x-python",
   "name": "python",
   "nbconvert_exporter": "python",
   "pygments_lexer": "ipython3",
   "version": "3.7.6"
  }
 },
 "nbformat": 4,
 "nbformat_minor": 4
}
