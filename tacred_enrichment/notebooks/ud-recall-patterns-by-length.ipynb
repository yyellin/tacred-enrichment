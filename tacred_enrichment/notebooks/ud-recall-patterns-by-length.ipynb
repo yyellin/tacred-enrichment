{
 "cells": [
  {
   "cell_type": "code",
   "execution_count": 1,
   "metadata": {},
   "outputs": [
    {
     "data": {
      "text/html": [
       "        <script type=\"text/javascript\">\n",
       "        window.PlotlyConfig = {MathJaxConfig: 'local'};\n",
       "        if (window.MathJax) {MathJax.Hub.Config({SVG: {font: \"STIX-Web\"}});}\n",
       "        if (typeof require !== 'undefined') {\n",
       "        require.undef(\"plotly\");\n",
       "        requirejs.config({\n",
       "            paths: {\n",
       "                'plotly': ['https://cdn.plot.ly/plotly-latest.min']\n",
       "            }\n",
       "        });\n",
       "        require(['plotly'], function(Plotly) {\n",
       "            window._Plotly = Plotly;\n",
       "        });\n",
       "        }\n",
       "        </script>\n",
       "        "
      ]
     },
     "metadata": {},
     "output_type": "display_data"
    }
   ],
   "source": [
    "from _plotly_future_ import v4_subplots\n",
    "from plotly.offline import download_plotlyjs, init_notebook_mode, plot, iplot\n",
    "from plotly.subplots import make_subplots\n",
    "import plotly.graph_objs as go\n",
    "\n",
    "init_notebook_mode(connected=True)"
   ]
  },
  {
   "cell_type": "code",
   "execution_count": 2,
   "metadata": {},
   "outputs": [],
   "source": [
    "import pandas\n",
    "\n",
    "train = pandas.read_json(r'C:\\Users\\JYellin\\re_1\\tacred\\data\\json-enhanced\\train.json')\n",
    "test = pandas.read_json(r'C:\\Users\\JYellin\\re_1\\tacred\\data\\json-enhanced\\test.json')\n",
    "\n",
    "# no point to consider 'no_relation' sentences when considering recall ,,,\n",
    "train = train[ train['relation'] != 'no_relation']\n",
    "test = test[ test['relation'] != 'no_relation']\n"
   ]
  },
  {
   "cell_type": "code",
   "execution_count": 3,
   "metadata": {},
   "outputs": [],
   "source": [
    "train_total_by_r_and_p = train.groupby(['relation','ud_path'])['id'].count().reset_index().rename(columns={'id': 'total'}).sort_values(['relation','total'], ascending=[True,False]).reset_index(drop=True)"
   ]
  },
  {
   "cell_type": "code",
   "execution_count": 4,
   "metadata": {},
   "outputs": [],
   "source": [
    "# the following command will effectivly remove all rows in test that do not have a match\n",
    "\n",
    "test = test.merge(train_total_by_r_and_p, on=['relation', 'ud_path'])"
   ]
  },
  {
   "cell_type": "code",
   "execution_count": 76,
   "metadata": {},
   "outputs": [],
   "source": [
    "test_total_by_relation_and_len = test.groupby(['relation','ud_path_len'])['id'].count().reset_index().rename(columns={'id': 'total'}).sort_values(['relation','total'], ascending=[False,False]).reset_index(drop=True)"
   ]
  },
  {
   "cell_type": "code",
   "execution_count": 82,
   "metadata": {},
   "outputs": [],
   "source": [
    "test_total_by_relation = test.groupby(['relation'])['id'].count().reset_index().rename(columns={'id': 'total'}).sort_values(['total'], ascending=[False]).reset_index(drop=True)\n",
    "\n",
    "relations = test_total_by_relation['relation'].to_list()\n",
    "totals = test_total_by_relation['total'].to_list()\n",
    "\n",
    "labels = [ '{} ({} matches)'.format(relation, total) for relation,total in zip(relations,totals) ]"
   ]
  },
  {
   "cell_type": "code",
   "execution_count": 68,
   "metadata": {},
   "outputs": [],
   "source": [
    "import math\n",
    "\n",
    "relations = test_total_by_relation['relation'].unique().tolist()\n",
    "num_relations = len(relations)\n",
    "\n",
    "num_columns = 4\n",
    "num_rows = math.ceil(num_relations/num_columns)"
   ]
  },
  {
   "cell_type": "code",
   "execution_count": 84,
   "metadata": {},
   "outputs": [
    {
     "data": {
      "application/vnd.plotly.v1+json": {
       "config": {
        "plotlyServerURL": "https://plot.ly"
       },
       "data": [
        {
         "domain": {
          "x": [
           0,
           0.2125
          ],
          "y": [
           0.9382716049382716,
           1
          ]
         },
         "hoverinfo": "label+percent",
         "labels": [
          3,
          4,
          5,
          6
         ],
         "marker": {
          "colors": [
           "#FFED6F",
           "#CCEBC5",
           "#BC80BD",
           "#D9D9D9",
           "#FCCDE5",
           "#80B1D3"
          ]
         },
         "textfont": {
          "size": 10
         },
         "textinfo": "label+value",
         "type": "pie",
         "uid": "f2802c9a-1092-4e7d-a368-9357a5f225a6",
         "values": [
          147,
          98,
          54,
          4
         ]
        },
        {
         "domain": {
          "x": [
           0.2625,
           0.475
          ],
          "y": [
           0.9382716049382716,
           1
          ]
         },
         "hoverinfo": "label+percent",
         "labels": [
          5,
          6,
          4,
          3,
          7,
          2,
          8
         ],
         "marker": {
          "colors": [
           "#FFED6F",
           "#CCEBC5",
           "#BC80BD",
           "#D9D9D9",
           "#FCCDE5",
           "#80B1D3"
          ]
         },
         "textfont": {
          "size": 10
         },
         "textinfo": "label+value",
         "type": "pie",
         "uid": "dd6ee698-02aa-4229-a135-26570511afba",
         "values": [
          99,
          58,
          35,
          33,
          6,
          2,
          1
         ]
        },
        {
         "domain": {
          "x": [
           0.525,
           0.7375
          ],
          "y": [
           0.9382716049382716,
           1
          ]
         },
         "hoverinfo": "label+percent",
         "labels": [
          4,
          3,
          5,
          6
         ],
         "marker": {
          "colors": [
           "#FFED6F",
           "#CCEBC5",
           "#BC80BD",
           "#D9D9D9",
           "#FCCDE5",
           "#80B1D3"
          ]
         },
         "textfont": {
          "size": 10
         },
         "textinfo": "label+value",
         "type": "pie",
         "uid": "069152c8-04df-4d78-a19d-43b8be892b92",
         "values": [
          118,
          15,
          13,
          3
         ]
        },
        {
         "domain": {
          "x": [
           0.7875,
           1
          ],
          "y": [
           0.9382716049382716,
           1
          ]
         },
         "hoverinfo": "label+percent",
         "labels": [
          3,
          4,
          5
         ],
         "marker": {
          "colors": [
           "#FFED6F",
           "#CCEBC5",
           "#BC80BD",
           "#D9D9D9",
           "#FCCDE5",
           "#80B1D3"
          ]
         },
         "textfont": {
          "size": 10
         },
         "textinfo": "label+value",
         "type": "pie",
         "uid": "cc50368c-ec01-445b-9946-540da42d3245",
         "values": [
          75,
          54,
          9
         ]
        },
        {
         "domain": {
          "x": [
           0,
           0.2125
          ],
          "y": [
           0.8209876543209876,
           0.8827160493827161
          ]
         },
         "hoverinfo": "label+percent",
         "labels": [
          3,
          5,
          4,
          6,
          7,
          2
         ],
         "marker": {
          "colors": [
           "#FFED6F",
           "#CCEBC5",
           "#BC80BD",
           "#D9D9D9",
           "#FCCDE5",
           "#80B1D3"
          ]
         },
         "textfont": {
          "size": 10
         },
         "textinfo": "label+value",
         "type": "pie",
         "uid": "c54bc1cc-0c48-4bd9-bbef-1f1884ff69ea",
         "values": [
          28,
          24,
          16,
          10,
          4,
          1
         ]
        },
        {
         "domain": {
          "x": [
           0.2625,
           0.475
          ],
          "y": [
           0.8209876543209876,
           0.8827160493827161
          ]
         },
         "hoverinfo": "label+percent",
         "labels": [
          3,
          5,
          4
         ],
         "marker": {
          "colors": [
           "#FFED6F",
           "#CCEBC5",
           "#BC80BD",
           "#D9D9D9",
           "#FCCDE5",
           "#80B1D3"
          ]
         },
         "textfont": {
          "size": 10
         },
         "textinfo": "label+value",
         "type": "pie",
         "uid": "97e02cee-9781-4282-bef6-1875694c1670",
         "values": [
          29,
          9,
          6
         ]
        },
        {
         "domain": {
          "x": [
           0.525,
           0.7375
          ],
          "y": [
           0.8209876543209876,
           0.8827160493827161
          ]
         },
         "hoverinfo": "label+percent",
         "labels": [
          5,
          4
         ],
         "marker": {
          "colors": [
           "#FFED6F",
           "#CCEBC5",
           "#BC80BD",
           "#D9D9D9",
           "#FCCDE5",
           "#80B1D3"
          ]
         },
         "textfont": {
          "size": 10
         },
         "textinfo": "label+value",
         "type": "pie",
         "uid": "7e3bf9de-f5b7-4a52-9615-24385be44aae",
         "values": [
          19,
          17
         ]
        },
        {
         "domain": {
          "x": [
           0.7875,
           1
          ],
          "y": [
           0.8209876543209876,
           0.8827160493827161
          ]
         },
         "hoverinfo": "label+percent",
         "labels": [
          4,
          5,
          3,
          6
         ],
         "marker": {
          "colors": [
           "#FFED6F",
           "#CCEBC5",
           "#BC80BD",
           "#D9D9D9",
           "#FCCDE5",
           "#80B1D3"
          ]
         },
         "textfont": {
          "size": 10
         },
         "textinfo": "label+value",
         "type": "pie",
         "uid": "f0ba5a2f-79eb-42a5-9267-e8881bc6b69c",
         "values": [
          22,
          6,
          4,
          1
         ]
        },
        {
         "domain": {
          "x": [
           0,
           0.2125
          ],
          "y": [
           0.7037037037037037,
           0.7654320987654322
          ]
         },
         "hoverinfo": "label+percent",
         "labels": [
          4,
          3,
          6,
          5
         ],
         "marker": {
          "colors": [
           "#FFED6F",
           "#CCEBC5",
           "#BC80BD",
           "#D9D9D9",
           "#FCCDE5",
           "#80B1D3"
          ]
         },
         "textfont": {
          "size": 10
         },
         "textinfo": "label+value",
         "type": "pie",
         "uid": "2a2c5c09-6035-4a73-b0cd-8e3b48201733",
         "values": [
          20,
          2,
          2,
          1
         ]
        },
        {
         "domain": {
          "x": [
           0.2625,
           0.475
          ],
          "y": [
           0.7037037037037037,
           0.7654320987654322
          ]
         },
         "hoverinfo": "label+percent",
         "labels": [
          3,
          4,
          2,
          5
         ],
         "marker": {
          "colors": [
           "#FFED6F",
           "#CCEBC5",
           "#BC80BD",
           "#D9D9D9",
           "#FCCDE5",
           "#80B1D3"
          ]
         },
         "textfont": {
          "size": 10
         },
         "textinfo": "label+value",
         "type": "pie",
         "uid": "c52695b8-b64d-417a-9b7a-aa793e5df6f3",
         "values": [
          11,
          9,
          2,
          2
         ]
        },
        {
         "domain": {
          "x": [
           0.525,
           0.7375
          ],
          "y": [
           0.7037037037037037,
           0.7654320987654322
          ]
         },
         "hoverinfo": "label+percent",
         "labels": [
          4,
          3,
          5,
          6
         ],
         "marker": {
          "colors": [
           "#FFED6F",
           "#CCEBC5",
           "#BC80BD",
           "#D9D9D9",
           "#FCCDE5",
           "#80B1D3"
          ]
         },
         "textfont": {
          "size": 10
         },
         "textinfo": "label+value",
         "type": "pie",
         "uid": "8aca56bd-0252-4cc2-a0a1-d0c83dfa6fa0",
         "values": [
          12,
          4,
          3,
          2
         ]
        },
        {
         "domain": {
          "x": [
           0.7875,
           1
          ],
          "y": [
           0.7037037037037037,
           0.7654320987654322
          ]
         },
         "hoverinfo": "label+percent",
         "labels": [
          3,
          4,
          2,
          5
         ],
         "marker": {
          "colors": [
           "#FFED6F",
           "#CCEBC5",
           "#BC80BD",
           "#D9D9D9",
           "#FCCDE5",
           "#80B1D3"
          ]
         },
         "textfont": {
          "size": 10
         },
         "textinfo": "label+value",
         "type": "pie",
         "uid": "20685f0a-ae51-480f-b498-4abd8d651725",
         "values": [
          11,
          7,
          1,
          1
         ]
        },
        {
         "domain": {
          "x": [
           0,
           0.2125
          ],
          "y": [
           0.5864197530864198,
           0.6481481481481483
          ]
         },
         "hoverinfo": "label+percent",
         "labels": [
          4,
          3
         ],
         "marker": {
          "colors": [
           "#FFED6F",
           "#CCEBC5",
           "#BC80BD",
           "#D9D9D9",
           "#FCCDE5",
           "#80B1D3"
          ]
         },
         "textfont": {
          "size": 10
         },
         "textinfo": "label+value",
         "type": "pie",
         "uid": "476fbed8-bbf6-43df-981b-f13e794cae7f",
         "values": [
          9,
          7
         ]
        },
        {
         "domain": {
          "x": [
           0.2625,
           0.475
          ],
          "y": [
           0.5864197530864198,
           0.6481481481481483
          ]
         },
         "hoverinfo": "label+percent",
         "labels": [
          5,
          3,
          4,
          6
         ],
         "marker": {
          "colors": [
           "#FFED6F",
           "#CCEBC5",
           "#BC80BD",
           "#D9D9D9",
           "#FCCDE5",
           "#80B1D3"
          ]
         },
         "textfont": {
          "size": 10
         },
         "textinfo": "label+value",
         "type": "pie",
         "uid": "618cc560-0edc-42af-bf21-addea80478eb",
         "values": [
          11,
          2,
          2,
          1
         ]
        },
        {
         "domain": {
          "x": [
           0.525,
           0.7375
          ],
          "y": [
           0.5864197530864198,
           0.6481481481481483
          ]
         },
         "hoverinfo": "label+percent",
         "labels": [
          4,
          3
         ],
         "marker": {
          "colors": [
           "#FFED6F",
           "#CCEBC5",
           "#BC80BD",
           "#D9D9D9",
           "#FCCDE5",
           "#80B1D3"
          ]
         },
         "textfont": {
          "size": 10
         },
         "textinfo": "label+value",
         "type": "pie",
         "uid": "65e9ebbd-ae10-42d6-a0c8-24b03b26b6c5",
         "values": [
          9,
          6
         ]
        },
        {
         "domain": {
          "x": [
           0.7875,
           1
          ],
          "y": [
           0.5864197530864198,
           0.6481481481481483
          ]
         },
         "hoverinfo": "label+percent",
         "labels": [
          5,
          4,
          3
         ],
         "marker": {
          "colors": [
           "#FFED6F",
           "#CCEBC5",
           "#BC80BD",
           "#D9D9D9",
           "#FCCDE5",
           "#80B1D3"
          ]
         },
         "textfont": {
          "size": 10
         },
         "textinfo": "label+value",
         "type": "pie",
         "uid": "c855a6ef-71dd-457f-abff-e4f88073a18c",
         "values": [
          9,
          4,
          1
         ]
        },
        {
         "domain": {
          "x": [
           0,
           0.2125
          ],
          "y": [
           0.4691358024691358,
           0.5308641975308642
          ]
         },
         "hoverinfo": "label+percent",
         "labels": [
          4,
          3,
          5
         ],
         "marker": {
          "colors": [
           "#FFED6F",
           "#CCEBC5",
           "#BC80BD",
           "#D9D9D9",
           "#FCCDE5",
           "#80B1D3"
          ]
         },
         "textfont": {
          "size": 10
         },
         "textinfo": "label+value",
         "type": "pie",
         "uid": "e5e5b51e-ec45-43f3-9ac1-a8ec3539320c",
         "values": [
          5,
          4,
          2
         ]
        },
        {
         "domain": {
          "x": [
           0.2625,
           0.475
          ],
          "y": [
           0.4691358024691358,
           0.5308641975308642
          ]
         },
         "hoverinfo": "label+percent",
         "labels": [
          4,
          3
         ],
         "marker": {
          "colors": [
           "#FFED6F",
           "#CCEBC5",
           "#BC80BD",
           "#D9D9D9",
           "#FCCDE5",
           "#80B1D3"
          ]
         },
         "textfont": {
          "size": 10
         },
         "textinfo": "label+value",
         "type": "pie",
         "uid": "9a6faded-9760-4008-b206-665c3be30193",
         "values": [
          8,
          3
         ]
        },
        {
         "domain": {
          "x": [
           0.525,
           0.7375
          ],
          "y": [
           0.4691358024691358,
           0.5308641975308642
          ]
         },
         "hoverinfo": "label+percent",
         "labels": [
          3,
          4
         ],
         "marker": {
          "colors": [
           "#FFED6F",
           "#CCEBC5",
           "#BC80BD",
           "#D9D9D9",
           "#FCCDE5",
           "#80B1D3"
          ]
         },
         "textfont": {
          "size": 10
         },
         "textinfo": "label+value",
         "type": "pie",
         "uid": "857a31b6-ef48-4057-86c0-07c1d25dfa0e",
         "values": [
          8,
          2
         ]
        },
        {
         "domain": {
          "x": [
           0.7875,
           1
          ],
          "y": [
           0.4691358024691358,
           0.5308641975308642
          ]
         },
         "hoverinfo": "label+percent",
         "labels": [
          3,
          4,
          2,
          6
         ],
         "marker": {
          "colors": [
           "#FFED6F",
           "#CCEBC5",
           "#BC80BD",
           "#D9D9D9",
           "#FCCDE5",
           "#80B1D3"
          ]
         },
         "textfont": {
          "size": 10
         },
         "textinfo": "label+value",
         "type": "pie",
         "uid": "2898a55a-f243-4460-b25e-12237e0bd587",
         "values": [
          6,
          2,
          1,
          1
         ]
        },
        {
         "domain": {
          "x": [
           0,
           0.2125
          ],
          "y": [
           0.35185185185185186,
           0.41358024691358025
          ]
         },
         "hoverinfo": "label+percent",
         "labels": [
          4,
          5,
          7
         ],
         "marker": {
          "colors": [
           "#FFED6F",
           "#CCEBC5",
           "#BC80BD",
           "#D9D9D9",
           "#FCCDE5",
           "#80B1D3"
          ]
         },
         "textfont": {
          "size": 10
         },
         "textinfo": "label+value",
         "type": "pie",
         "uid": "b9eb86b4-b31c-4d04-8e47-1720af19bc9a",
         "values": [
          6,
          3,
          1
         ]
        },
        {
         "domain": {
          "x": [
           0.2625,
           0.475
          ],
          "y": [
           0.35185185185185186,
           0.41358024691358025
          ]
         },
         "hoverinfo": "label+percent",
         "labels": [
          2,
          3,
          4,
          5
         ],
         "marker": {
          "colors": [
           "#FFED6F",
           "#CCEBC5",
           "#BC80BD",
           "#D9D9D9",
           "#FCCDE5",
           "#80B1D3"
          ]
         },
         "textfont": {
          "size": 10
         },
         "textinfo": "label+value",
         "type": "pie",
         "uid": "25144887-33ac-4e8e-a6c3-17ac6d4e0f61",
         "values": [
          3,
          2,
          1,
          1
         ]
        },
        {
         "domain": {
          "x": [
           0.525,
           0.7375
          ],
          "y": [
           0.35185185185185186,
           0.41358024691358025
          ]
         },
         "hoverinfo": "label+percent",
         "labels": [
          4,
          2,
          3,
          5
         ],
         "marker": {
          "colors": [
           "#FFED6F",
           "#CCEBC5",
           "#BC80BD",
           "#D9D9D9",
           "#FCCDE5",
           "#80B1D3"
          ]
         },
         "textfont": {
          "size": 10
         },
         "textinfo": "label+value",
         "type": "pie",
         "uid": "050367ed-d75d-4a82-a0c3-3e76bf2e2202",
         "values": [
          4,
          1,
          1,
          1
         ]
        },
        {
         "domain": {
          "x": [
           0.7875,
           1
          ],
          "y": [
           0.35185185185185186,
           0.41358024691358025
          ]
         },
         "hoverinfo": "label+percent",
         "labels": [
          4,
          5
         ],
         "marker": {
          "colors": [
           "#FFED6F",
           "#CCEBC5",
           "#BC80BD",
           "#D9D9D9",
           "#FCCDE5",
           "#80B1D3"
          ]
         },
         "textfont": {
          "size": 10
         },
         "textinfo": "label+value",
         "type": "pie",
         "uid": "8f58bc25-4e4e-424d-975d-2569db1e1ca8",
         "values": [
          5,
          1
         ]
        },
        {
         "domain": {
          "x": [
           0,
           0.2125
          ],
          "y": [
           0.2345679012345679,
           0.2962962962962963
          ]
         },
         "hoverinfo": "label+percent",
         "labels": [
          4,
          2,
          3
         ],
         "marker": {
          "colors": [
           "#FFED6F",
           "#CCEBC5",
           "#BC80BD",
           "#D9D9D9",
           "#FCCDE5",
           "#80B1D3"
          ]
         },
         "textfont": {
          "size": 10
         },
         "textinfo": "label+value",
         "type": "pie",
         "uid": "7f6c10e4-dbe7-4781-b23e-cce5e3d7f99c",
         "values": [
          4,
          1,
          1
         ]
        },
        {
         "domain": {
          "x": [
           0.2625,
           0.475
          ],
          "y": [
           0.2345679012345679,
           0.2962962962962963
          ]
         },
         "hoverinfo": "label+percent",
         "labels": [
          2,
          3,
          4
         ],
         "marker": {
          "colors": [
           "#FFED6F",
           "#CCEBC5",
           "#BC80BD",
           "#D9D9D9",
           "#FCCDE5",
           "#80B1D3"
          ]
         },
         "textfont": {
          "size": 10
         },
         "textinfo": "label+value",
         "type": "pie",
         "uid": "2c1f46eb-e0e9-4ddf-b631-da11d4fc7f95",
         "values": [
          2,
          2,
          1
         ]
        },
        {
         "domain": {
          "x": [
           0.525,
           0.7375
          ],
          "y": [
           0.2345679012345679,
           0.2962962962962963
          ]
         },
         "hoverinfo": "label+percent",
         "labels": [
          4
         ],
         "marker": {
          "colors": [
           "#FFED6F",
           "#CCEBC5",
           "#BC80BD",
           "#D9D9D9",
           "#FCCDE5",
           "#80B1D3"
          ]
         },
         "textfont": {
          "size": 10
         },
         "textinfo": "label+value",
         "type": "pie",
         "uid": "87b6c746-2d98-466f-aceb-6047206d51b3",
         "values": [
          4
         ]
        },
        {
         "domain": {
          "x": [
           0.7875,
           1
          ],
          "y": [
           0.2345679012345679,
           0.2962962962962963
          ]
         },
         "hoverinfo": "label+percent",
         "labels": [
          2,
          3
         ],
         "marker": {
          "colors": [
           "#FFED6F",
           "#CCEBC5",
           "#BC80BD",
           "#D9D9D9",
           "#FCCDE5",
           "#80B1D3"
          ]
         },
         "textfont": {
          "size": 10
         },
         "textinfo": "label+value",
         "type": "pie",
         "uid": "4447646c-818a-4ead-8421-a6d873aa867e",
         "values": [
          3,
          1
         ]
        },
        {
         "domain": {
          "x": [
           0,
           0.2125
          ],
          "y": [
           0.11728395061728394,
           0.17901234567901234
          ]
         },
         "hoverinfo": "label+percent",
         "labels": [
          4,
          5
         ],
         "marker": {
          "colors": [
           "#FFED6F",
           "#CCEBC5",
           "#BC80BD",
           "#D9D9D9",
           "#FCCDE5",
           "#80B1D3"
          ]
         },
         "textfont": {
          "size": 10
         },
         "textinfo": "label+value",
         "type": "pie",
         "uid": "338c395b-aacb-431c-95d7-62b41336073d",
         "values": [
          3,
          1
         ]
        },
        {
         "domain": {
          "x": [
           0.2625,
           0.475
          ],
          "y": [
           0.11728395061728394,
           0.17901234567901234
          ]
         },
         "hoverinfo": "label+percent",
         "labels": [
          5,
          2
         ],
         "marker": {
          "colors": [
           "#FFED6F",
           "#CCEBC5",
           "#BC80BD",
           "#D9D9D9",
           "#FCCDE5",
           "#80B1D3"
          ]
         },
         "textfont": {
          "size": 10
         },
         "textinfo": "label+value",
         "type": "pie",
         "uid": "0a3bf66b-5ee6-4ad0-8675-da4aaecb6bd0",
         "values": [
          2,
          1
         ]
        },
        {
         "domain": {
          "x": [
           0.525,
           0.7375
          ],
          "y": [
           0.11728395061728394,
           0.17901234567901234
          ]
         },
         "hoverinfo": "label+percent",
         "labels": [
          4,
          5
         ],
         "marker": {
          "colors": [
           "#FFED6F",
           "#CCEBC5",
           "#BC80BD",
           "#D9D9D9",
           "#FCCDE5",
           "#80B1D3"
          ]
         },
         "textfont": {
          "size": 10
         },
         "textinfo": "label+value",
         "type": "pie",
         "uid": "e6c725cf-2705-4286-9b96-39dd87fb4742",
         "values": [
          2,
          1
         ]
        },
        {
         "domain": {
          "x": [
           0.7875,
           1
          ],
          "y": [
           0.11728395061728394,
           0.17901234567901234
          ]
         },
         "hoverinfo": "label+percent",
         "labels": [
          4
         ],
         "marker": {
          "colors": [
           "#FFED6F",
           "#CCEBC5",
           "#BC80BD",
           "#D9D9D9",
           "#FCCDE5",
           "#80B1D3"
          ]
         },
         "textfont": {
          "size": 10
         },
         "textinfo": "label+value",
         "type": "pie",
         "uid": "f2ac92a2-86a4-4aa6-895f-84d400f4f8bc",
         "values": [
          3
         ]
        },
        {
         "domain": {
          "x": [
           0,
           0.2125
          ],
          "y": [
           0,
           0.0617283950617284
          ]
         },
         "hoverinfo": "label+percent",
         "labels": [
          5
         ],
         "marker": {
          "colors": [
           "#FFED6F",
           "#CCEBC5",
           "#BC80BD",
           "#D9D9D9",
           "#FCCDE5",
           "#80B1D3"
          ]
         },
         "textfont": {
          "size": 10
         },
         "textinfo": "label+value",
         "type": "pie",
         "uid": "c28bd5c5-8ae8-44fa-b270-9096f33d82a0",
         "values": [
          2
         ]
        },
        {
         "domain": {
          "x": [
           0.2625,
           0.475
          ],
          "y": [
           0,
           0.0617283950617284
          ]
         },
         "hoverinfo": "label+percent",
         "labels": [
          3
         ],
         "marker": {
          "colors": [
           "#FFED6F",
           "#CCEBC5",
           "#BC80BD",
           "#D9D9D9",
           "#FCCDE5",
           "#80B1D3"
          ]
         },
         "textfont": {
          "size": 10
         },
         "textinfo": "label+value",
         "type": "pie",
         "uid": "7a6ed1b7-57a9-4464-bfe3-6577971a471a",
         "values": [
          1
         ]
        },
        {
         "domain": {
          "x": [
           0.525,
           0.7375
          ],
          "y": [
           0,
           0.0617283950617284
          ]
         },
         "hoverinfo": "label+percent",
         "labels": [
          5
         ],
         "marker": {
          "colors": [
           "#FFED6F",
           "#CCEBC5",
           "#BC80BD",
           "#D9D9D9",
           "#FCCDE5",
           "#80B1D3"
          ]
         },
         "textfont": {
          "size": 10
         },
         "textinfo": "label+value",
         "type": "pie",
         "uid": "48ecdf2c-3772-4b56-9252-c24e9602fc95",
         "values": [
          1
         ]
        },
        {
         "domain": {
          "x": [
           0.7875,
           1
          ],
          "y": [
           0,
           0.0617283950617284
          ]
         },
         "hoverinfo": "label+percent",
         "labels": [
          4
         ],
         "marker": {
          "colors": [
           "#FFED6F",
           "#CCEBC5",
           "#BC80BD",
           "#D9D9D9",
           "#FCCDE5",
           "#80B1D3"
          ]
         },
         "textfont": {
          "size": 10
         },
         "textinfo": "label+value",
         "type": "pie",
         "uid": "2fce8c6e-0ccc-4ad3-b96d-dc50ea8a0a2a",
         "values": [
          1
         ]
        }
       ],
       "layout": {
        "annotations": [
         {
          "font": {
           "family": "Arial",
           "size": 10
          },
          "showarrow": false,
          "text": "per:title (303 matches)",
          "x": 0.10625,
          "xanchor": "center",
          "xref": "paper",
          "y": 1,
          "yanchor": "bottom",
          "yref": "paper"
         },
         {
          "font": {
           "family": "Arial",
           "size": 10
          },
          "showarrow": false,
          "text": "org:top_members/employees (234 matches)",
          "x": 0.36875,
          "xanchor": "center",
          "xref": "paper",
          "y": 1,
          "yanchor": "bottom",
          "yref": "paper"
         },
         {
          "font": {
           "family": "Arial",
           "size": 10
          },
          "showarrow": false,
          "text": "org:alternate_names (149 matches)",
          "x": 0.6312500000000001,
          "xanchor": "center",
          "xref": "paper",
          "y": 1,
          "yanchor": "bottom",
          "yref": "paper"
         },
         {
          "font": {
           "family": "Arial",
           "size": 10
          },
          "showarrow": false,
          "text": "per:age (138 matches)",
          "x": 0.89375,
          "xanchor": "center",
          "xref": "paper",
          "y": 1,
          "yanchor": "bottom",
          "yref": "paper"
         },
         {
          "font": {
           "family": "Arial",
           "size": 10
          },
          "showarrow": false,
          "text": "per:employee_of (83 matches)",
          "x": 0.10625,
          "xanchor": "center",
          "xref": "paper",
          "y": 0.8827160493827161,
          "yanchor": "bottom",
          "yref": "paper"
         },
         {
          "font": {
           "family": "Arial",
           "size": 10
          },
          "showarrow": false,
          "text": "per:origin (44 matches)",
          "x": 0.36875,
          "xanchor": "center",
          "xref": "paper",
          "y": 0.8827160493827161,
          "yanchor": "bottom",
          "yref": "paper"
         },
         {
          "font": {
           "family": "Arial",
           "size": 10
          },
          "showarrow": false,
          "text": "per:cities_of_residence (36 matches)",
          "x": 0.6312500000000001,
          "xanchor": "center",
          "xref": "paper",
          "y": 0.8827160493827161,
          "yanchor": "bottom",
          "yref": "paper"
         },
         {
          "font": {
           "family": "Arial",
           "size": 10
          },
          "showarrow": false,
          "text": "org:city_of_headquarters (33 matches)",
          "x": 0.89375,
          "xanchor": "center",
          "xref": "paper",
          "y": 0.8827160493827161,
          "yanchor": "bottom",
          "yref": "paper"
         },
         {
          "font": {
           "family": "Arial",
           "size": 10
          },
          "showarrow": false,
          "text": "per:parents (25 matches)",
          "x": 0.10625,
          "xanchor": "center",
          "xref": "paper",
          "y": 0.7654320987654322,
          "yanchor": "bottom",
          "yref": "paper"
         },
         {
          "font": {
           "family": "Arial",
           "size": 10
          },
          "showarrow": false,
          "text": "per:countries_of_residence (24 matches)",
          "x": 0.36875,
          "xanchor": "center",
          "xref": "paper",
          "y": 0.7654320987654322,
          "yanchor": "bottom",
          "yref": "paper"
         },
         {
          "font": {
           "family": "Arial",
           "size": 10
          },
          "showarrow": false,
          "text": "org:country_of_headquarters (21 matches)",
          "x": 0.6312500000000001,
          "xanchor": "center",
          "xref": "paper",
          "y": 0.7654320987654322,
          "yanchor": "bottom",
          "yref": "paper"
         },
         {
          "font": {
           "family": "Arial",
           "size": 10
          },
          "showarrow": false,
          "text": "per:spouse (20 matches)",
          "x": 0.89375,
          "xanchor": "center",
          "xref": "paper",
          "y": 0.7654320987654322,
          "yanchor": "bottom",
          "yref": "paper"
         },
         {
          "font": {
           "family": "Arial",
           "size": 10
          },
          "showarrow": false,
          "text": "per:other_family (16 matches)",
          "x": 0.10625,
          "xanchor": "center",
          "xref": "paper",
          "y": 0.6481481481481483,
          "yanchor": "bottom",
          "yref": "paper"
         },
         {
          "font": {
           "family": "Arial",
           "size": 10
          },
          "showarrow": false,
          "text": "org:founded_by (16 matches)",
          "x": 0.36875,
          "xanchor": "center",
          "xref": "paper",
          "y": 0.6481481481481483,
          "yanchor": "bottom",
          "yref": "paper"
         },
         {
          "font": {
           "family": "Arial",
           "size": 10
          },
          "showarrow": false,
          "text": "per:children (15 matches)",
          "x": 0.6312500000000001,
          "xanchor": "center",
          "xref": "paper",
          "y": 0.6481481481481483,
          "yanchor": "bottom",
          "yref": "paper"
         },
         {
          "font": {
           "family": "Arial",
           "size": 10
          },
          "showarrow": false,
          "text": "org:founded (14 matches)",
          "x": 0.89375,
          "xanchor": "center",
          "xref": "paper",
          "y": 0.6481481481481483,
          "yanchor": "bottom",
          "yref": "paper"
         },
         {
          "font": {
           "family": "Arial",
           "size": 10
          },
          "showarrow": false,
          "text": "org:stateorprovince_of_headquarters (11 matches)",
          "x": 0.10625,
          "xanchor": "center",
          "xref": "paper",
          "y": 0.5308641975308642,
          "yanchor": "bottom",
          "yref": "paper"
         },
         {
          "font": {
           "family": "Arial",
           "size": 10
          },
          "showarrow": false,
          "text": "per:siblings (11 matches)",
          "x": 0.36875,
          "xanchor": "center",
          "xref": "paper",
          "y": 0.5308641975308642,
          "yanchor": "bottom",
          "yref": "paper"
         },
         {
          "font": {
           "family": "Arial",
           "size": 10
          },
          "showarrow": false,
          "text": "org:website (10 matches)",
          "x": 0.6312500000000001,
          "xanchor": "center",
          "xref": "paper",
          "y": 0.5308641975308642,
          "yanchor": "bottom",
          "yref": "paper"
         },
         {
          "font": {
           "family": "Arial",
           "size": 10
          },
          "showarrow": false,
          "text": "org:subsidiaries (10 matches)",
          "x": 0.89375,
          "xanchor": "center",
          "xref": "paper",
          "y": 0.5308641975308642,
          "yanchor": "bottom",
          "yref": "paper"
         },
         {
          "font": {
           "family": "Arial",
           "size": 10
          },
          "showarrow": false,
          "text": "per:stateorprovinces_of_residence (10 matches)",
          "x": 0.10625,
          "xanchor": "center",
          "xref": "paper",
          "y": 0.41358024691358025,
          "yanchor": "bottom",
          "yref": "paper"
         },
         {
          "font": {
           "family": "Arial",
           "size": 10
          },
          "showarrow": false,
          "text": "org:parents (7 matches)",
          "x": 0.36875,
          "xanchor": "center",
          "xref": "paper",
          "y": 0.41358024691358025,
          "yanchor": "bottom",
          "yref": "paper"
         },
         {
          "font": {
           "family": "Arial",
           "size": 10
          },
          "showarrow": false,
          "text": "per:schools_attended (7 matches)",
          "x": 0.6312500000000001,
          "xanchor": "center",
          "xref": "paper",
          "y": 0.41358024691358025,
          "yanchor": "bottom",
          "yref": "paper"
         },
         {
          "font": {
           "family": "Arial",
           "size": 10
          },
          "showarrow": false,
          "text": "per:charges (6 matches)",
          "x": 0.89375,
          "xanchor": "center",
          "xref": "paper",
          "y": 0.41358024691358025,
          "yanchor": "bottom",
          "yref": "paper"
         },
         {
          "font": {
           "family": "Arial",
           "size": 10
          },
          "showarrow": false,
          "text": "per:date_of_death (6 matches)",
          "x": 0.10625,
          "xanchor": "center",
          "xref": "paper",
          "y": 0.2962962962962963,
          "yanchor": "bottom",
          "yref": "paper"
         },
         {
          "font": {
           "family": "Arial",
           "size": 10
          },
          "showarrow": false,
          "text": "per:date_of_birth (5 matches)",
          "x": 0.36875,
          "xanchor": "center",
          "xref": "paper",
          "y": 0.2962962962962963,
          "yanchor": "bottom",
          "yref": "paper"
         },
         {
          "font": {
           "family": "Arial",
           "size": 10
          },
          "showarrow": false,
          "text": "per:religion (4 matches)",
          "x": 0.6312500000000001,
          "xanchor": "center",
          "xref": "paper",
          "y": 0.2962962962962963,
          "yanchor": "bottom",
          "yref": "paper"
         },
         {
          "font": {
           "family": "Arial",
           "size": 10
          },
          "showarrow": false,
          "text": "org:number_of_employees/members (4 matches)",
          "x": 0.89375,
          "xanchor": "center",
          "xref": "paper",
          "y": 0.2962962962962963,
          "yanchor": "bottom",
          "yref": "paper"
         },
         {
          "font": {
           "family": "Arial",
           "size": 10
          },
          "showarrow": false,
          "text": "per:city_of_death (4 matches)",
          "x": 0.10625,
          "xanchor": "center",
          "xref": "paper",
          "y": 0.17901234567901234,
          "yanchor": "bottom",
          "yref": "paper"
         },
         {
          "font": {
           "family": "Arial",
           "size": 10
          },
          "showarrow": false,
          "text": "per:cause_of_death (3 matches)",
          "x": 0.36875,
          "xanchor": "center",
          "xref": "paper",
          "y": 0.17901234567901234,
          "yanchor": "bottom",
          "yref": "paper"
         },
         {
          "font": {
           "family": "Arial",
           "size": 10
          },
          "showarrow": false,
          "text": "org:political/religious_affiliation (3 matches)",
          "x": 0.6312500000000001,
          "xanchor": "center",
          "xref": "paper",
          "y": 0.17901234567901234,
          "yanchor": "bottom",
          "yref": "paper"
         },
         {
          "font": {
           "family": "Arial",
           "size": 10
          },
          "showarrow": false,
          "text": "per:stateorprovince_of_birth (3 matches)",
          "x": 0.89375,
          "xanchor": "center",
          "xref": "paper",
          "y": 0.17901234567901234,
          "yanchor": "bottom",
          "yref": "paper"
         },
         {
          "font": {
           "family": "Arial",
           "size": 10
          },
          "showarrow": false,
          "text": "per:stateorprovince_of_death (2 matches)",
          "x": 0.10625,
          "xanchor": "center",
          "xref": "paper",
          "y": 0.0617283950617284,
          "yanchor": "bottom",
          "yref": "paper"
         },
         {
          "font": {
           "family": "Arial",
           "size": 10
          },
          "showarrow": false,
          "text": "org:members (1 matches)",
          "x": 0.36875,
          "xanchor": "center",
          "xref": "paper",
          "y": 0.0617283950617284,
          "yanchor": "bottom",
          "yref": "paper"
         },
         {
          "font": {
           "family": "Arial",
           "size": 10
          },
          "showarrow": false,
          "text": "org:member_of (1 matches)",
          "x": 0.6312500000000001,
          "xanchor": "center",
          "xref": "paper",
          "y": 0.0617283950617284,
          "yanchor": "bottom",
          "yref": "paper"
         },
         {
          "font": {
           "family": "Arial",
           "size": 10
          },
          "showarrow": false,
          "text": "per:city_of_birth (1 matches)",
          "x": 0.89375,
          "xanchor": "center",
          "xref": "paper",
          "y": 0.0617283950617284,
          "yanchor": "bottom",
          "yref": "paper"
         }
        ],
        "font": {
         "family": "Arial",
         "size": 12
        },
        "height": 2500,
        "title": {
         "text": "UD path coverage"
        },
        "width": 1000
       }
      },
      "text/html": [
       "<div>\n",
       "        \n",
       "        \n",
       "            <div id=\"3b7a11c7-4be5-465d-af33-a6866edf8759\" class=\"plotly-graph-div\" style=\"height:2500px; width:1000px;\"></div>\n",
       "            <script type=\"text/javascript\">\n",
       "                require([\"plotly\"], function(Plotly) {\n",
       "                    window.PLOTLYENV=window.PLOTLYENV || {};\n",
       "                    window.PLOTLYENV.BASE_URL='https://plot.ly';\n",
       "                    \n",
       "                if (document.getElementById(\"3b7a11c7-4be5-465d-af33-a6866edf8759\")) {\n",
       "                    Plotly.newPlot(\n",
       "                        '3b7a11c7-4be5-465d-af33-a6866edf8759',\n",
       "                        [{\"domain\": {\"x\": [0.0, 0.2125], \"y\": [0.9382716049382716, 1.0]}, \"hoverinfo\": \"label+percent\", \"labels\": [3, 4, 5, 6], \"marker\": {\"colors\": [\"#FFED6F\", \"#CCEBC5\", \"#BC80BD\", \"#D9D9D9\", \"#FCCDE5\", \"#80B1D3\"]}, \"textfont\": {\"size\": 10}, \"textinfo\": \"label+value\", \"type\": \"pie\", \"uid\": \"f2802c9a-1092-4e7d-a368-9357a5f225a6\", \"values\": [147, 98, 54, 4]}, {\"domain\": {\"x\": [0.2625, 0.475], \"y\": [0.9382716049382716, 1.0]}, \"hoverinfo\": \"label+percent\", \"labels\": [5, 6, 4, 3, 7, 2, 8], \"marker\": {\"colors\": [\"#FFED6F\", \"#CCEBC5\", \"#BC80BD\", \"#D9D9D9\", \"#FCCDE5\", \"#80B1D3\"]}, \"textfont\": {\"size\": 10}, \"textinfo\": \"label+value\", \"type\": \"pie\", \"uid\": \"dd6ee698-02aa-4229-a135-26570511afba\", \"values\": [99, 58, 35, 33, 6, 2, 1]}, {\"domain\": {\"x\": [0.525, 0.7375], \"y\": [0.9382716049382716, 1.0]}, \"hoverinfo\": \"label+percent\", \"labels\": [4, 3, 5, 6], \"marker\": {\"colors\": [\"#FFED6F\", \"#CCEBC5\", \"#BC80BD\", \"#D9D9D9\", \"#FCCDE5\", \"#80B1D3\"]}, \"textfont\": {\"size\": 10}, \"textinfo\": \"label+value\", \"type\": \"pie\", \"uid\": \"069152c8-04df-4d78-a19d-43b8be892b92\", \"values\": [118, 15, 13, 3]}, {\"domain\": {\"x\": [0.7875, 1.0], \"y\": [0.9382716049382716, 1.0]}, \"hoverinfo\": \"label+percent\", \"labels\": [3, 4, 5], \"marker\": {\"colors\": [\"#FFED6F\", \"#CCEBC5\", \"#BC80BD\", \"#D9D9D9\", \"#FCCDE5\", \"#80B1D3\"]}, \"textfont\": {\"size\": 10}, \"textinfo\": \"label+value\", \"type\": \"pie\", \"uid\": \"cc50368c-ec01-445b-9946-540da42d3245\", \"values\": [75, 54, 9]}, {\"domain\": {\"x\": [0.0, 0.2125], \"y\": [0.8209876543209876, 0.8827160493827161]}, \"hoverinfo\": \"label+percent\", \"labels\": [3, 5, 4, 6, 7, 2], \"marker\": {\"colors\": [\"#FFED6F\", \"#CCEBC5\", \"#BC80BD\", \"#D9D9D9\", \"#FCCDE5\", \"#80B1D3\"]}, \"textfont\": {\"size\": 10}, \"textinfo\": \"label+value\", \"type\": \"pie\", \"uid\": \"c54bc1cc-0c48-4bd9-bbef-1f1884ff69ea\", \"values\": [28, 24, 16, 10, 4, 1]}, {\"domain\": {\"x\": [0.2625, 0.475], \"y\": [0.8209876543209876, 0.8827160493827161]}, \"hoverinfo\": \"label+percent\", \"labels\": [3, 5, 4], \"marker\": {\"colors\": [\"#FFED6F\", \"#CCEBC5\", \"#BC80BD\", \"#D9D9D9\", \"#FCCDE5\", \"#80B1D3\"]}, \"textfont\": {\"size\": 10}, \"textinfo\": \"label+value\", \"type\": \"pie\", \"uid\": \"97e02cee-9781-4282-bef6-1875694c1670\", \"values\": [29, 9, 6]}, {\"domain\": {\"x\": [0.525, 0.7375], \"y\": [0.8209876543209876, 0.8827160493827161]}, \"hoverinfo\": \"label+percent\", \"labels\": [5, 4], \"marker\": {\"colors\": [\"#FFED6F\", \"#CCEBC5\", \"#BC80BD\", \"#D9D9D9\", \"#FCCDE5\", \"#80B1D3\"]}, \"textfont\": {\"size\": 10}, \"textinfo\": \"label+value\", \"type\": \"pie\", \"uid\": \"7e3bf9de-f5b7-4a52-9615-24385be44aae\", \"values\": [19, 17]}, {\"domain\": {\"x\": [0.7875, 1.0], \"y\": [0.8209876543209876, 0.8827160493827161]}, \"hoverinfo\": \"label+percent\", \"labels\": [4, 5, 3, 6], \"marker\": {\"colors\": [\"#FFED6F\", \"#CCEBC5\", \"#BC80BD\", \"#D9D9D9\", \"#FCCDE5\", \"#80B1D3\"]}, \"textfont\": {\"size\": 10}, \"textinfo\": \"label+value\", \"type\": \"pie\", \"uid\": \"f0ba5a2f-79eb-42a5-9267-e8881bc6b69c\", \"values\": [22, 6, 4, 1]}, {\"domain\": {\"x\": [0.0, 0.2125], \"y\": [0.7037037037037037, 0.7654320987654322]}, \"hoverinfo\": \"label+percent\", \"labels\": [4, 3, 6, 5], \"marker\": {\"colors\": [\"#FFED6F\", \"#CCEBC5\", \"#BC80BD\", \"#D9D9D9\", \"#FCCDE5\", \"#80B1D3\"]}, \"textfont\": {\"size\": 10}, \"textinfo\": \"label+value\", \"type\": \"pie\", \"uid\": \"2a2c5c09-6035-4a73-b0cd-8e3b48201733\", \"values\": [20, 2, 2, 1]}, {\"domain\": {\"x\": [0.2625, 0.475], \"y\": [0.7037037037037037, 0.7654320987654322]}, \"hoverinfo\": \"label+percent\", \"labels\": [3, 4, 2, 5], \"marker\": {\"colors\": [\"#FFED6F\", \"#CCEBC5\", \"#BC80BD\", \"#D9D9D9\", \"#FCCDE5\", \"#80B1D3\"]}, \"textfont\": {\"size\": 10}, \"textinfo\": \"label+value\", \"type\": \"pie\", \"uid\": \"c52695b8-b64d-417a-9b7a-aa793e5df6f3\", \"values\": [11, 9, 2, 2]}, {\"domain\": {\"x\": [0.525, 0.7375], \"y\": [0.7037037037037037, 0.7654320987654322]}, \"hoverinfo\": \"label+percent\", \"labels\": [4, 3, 5, 6], \"marker\": {\"colors\": [\"#FFED6F\", \"#CCEBC5\", \"#BC80BD\", \"#D9D9D9\", \"#FCCDE5\", \"#80B1D3\"]}, \"textfont\": {\"size\": 10}, \"textinfo\": \"label+value\", \"type\": \"pie\", \"uid\": \"8aca56bd-0252-4cc2-a0a1-d0c83dfa6fa0\", \"values\": [12, 4, 3, 2]}, {\"domain\": {\"x\": [0.7875, 1.0], \"y\": [0.7037037037037037, 0.7654320987654322]}, \"hoverinfo\": \"label+percent\", \"labels\": [3, 4, 2, 5], \"marker\": {\"colors\": [\"#FFED6F\", \"#CCEBC5\", \"#BC80BD\", \"#D9D9D9\", \"#FCCDE5\", \"#80B1D3\"]}, \"textfont\": {\"size\": 10}, \"textinfo\": \"label+value\", \"type\": \"pie\", \"uid\": \"20685f0a-ae51-480f-b498-4abd8d651725\", \"values\": [11, 7, 1, 1]}, {\"domain\": {\"x\": [0.0, 0.2125], \"y\": [0.5864197530864198, 0.6481481481481483]}, \"hoverinfo\": \"label+percent\", \"labels\": [4, 3], \"marker\": {\"colors\": [\"#FFED6F\", \"#CCEBC5\", \"#BC80BD\", \"#D9D9D9\", \"#FCCDE5\", \"#80B1D3\"]}, \"textfont\": {\"size\": 10}, \"textinfo\": \"label+value\", \"type\": \"pie\", \"uid\": \"476fbed8-bbf6-43df-981b-f13e794cae7f\", \"values\": [9, 7]}, {\"domain\": {\"x\": [0.2625, 0.475], \"y\": [0.5864197530864198, 0.6481481481481483]}, \"hoverinfo\": \"label+percent\", \"labels\": [5, 3, 4, 6], \"marker\": {\"colors\": [\"#FFED6F\", \"#CCEBC5\", \"#BC80BD\", \"#D9D9D9\", \"#FCCDE5\", \"#80B1D3\"]}, \"textfont\": {\"size\": 10}, \"textinfo\": \"label+value\", \"type\": \"pie\", \"uid\": \"618cc560-0edc-42af-bf21-addea80478eb\", \"values\": [11, 2, 2, 1]}, {\"domain\": {\"x\": [0.525, 0.7375], \"y\": [0.5864197530864198, 0.6481481481481483]}, \"hoverinfo\": \"label+percent\", \"labels\": [4, 3], \"marker\": {\"colors\": [\"#FFED6F\", \"#CCEBC5\", \"#BC80BD\", \"#D9D9D9\", \"#FCCDE5\", \"#80B1D3\"]}, \"textfont\": {\"size\": 10}, \"textinfo\": \"label+value\", \"type\": \"pie\", \"uid\": \"65e9ebbd-ae10-42d6-a0c8-24b03b26b6c5\", \"values\": [9, 6]}, {\"domain\": {\"x\": [0.7875, 1.0], \"y\": [0.5864197530864198, 0.6481481481481483]}, \"hoverinfo\": \"label+percent\", \"labels\": [5, 4, 3], \"marker\": {\"colors\": [\"#FFED6F\", \"#CCEBC5\", \"#BC80BD\", \"#D9D9D9\", \"#FCCDE5\", \"#80B1D3\"]}, \"textfont\": {\"size\": 10}, \"textinfo\": \"label+value\", \"type\": \"pie\", \"uid\": \"c855a6ef-71dd-457f-abff-e4f88073a18c\", \"values\": [9, 4, 1]}, {\"domain\": {\"x\": [0.0, 0.2125], \"y\": [0.4691358024691358, 0.5308641975308642]}, \"hoverinfo\": \"label+percent\", \"labels\": [4, 3, 5], \"marker\": {\"colors\": [\"#FFED6F\", \"#CCEBC5\", \"#BC80BD\", \"#D9D9D9\", \"#FCCDE5\", \"#80B1D3\"]}, \"textfont\": {\"size\": 10}, \"textinfo\": \"label+value\", \"type\": \"pie\", \"uid\": \"e5e5b51e-ec45-43f3-9ac1-a8ec3539320c\", \"values\": [5, 4, 2]}, {\"domain\": {\"x\": [0.2625, 0.475], \"y\": [0.4691358024691358, 0.5308641975308642]}, \"hoverinfo\": \"label+percent\", \"labels\": [4, 3], \"marker\": {\"colors\": [\"#FFED6F\", \"#CCEBC5\", \"#BC80BD\", \"#D9D9D9\", \"#FCCDE5\", \"#80B1D3\"]}, \"textfont\": {\"size\": 10}, \"textinfo\": \"label+value\", \"type\": \"pie\", \"uid\": \"9a6faded-9760-4008-b206-665c3be30193\", \"values\": [8, 3]}, {\"domain\": {\"x\": [0.525, 0.7375], \"y\": [0.4691358024691358, 0.5308641975308642]}, \"hoverinfo\": \"label+percent\", \"labels\": [3, 4], \"marker\": {\"colors\": [\"#FFED6F\", \"#CCEBC5\", \"#BC80BD\", \"#D9D9D9\", \"#FCCDE5\", \"#80B1D3\"]}, \"textfont\": {\"size\": 10}, \"textinfo\": \"label+value\", \"type\": \"pie\", \"uid\": \"857a31b6-ef48-4057-86c0-07c1d25dfa0e\", \"values\": [8, 2]}, {\"domain\": {\"x\": [0.7875, 1.0], \"y\": [0.4691358024691358, 0.5308641975308642]}, \"hoverinfo\": \"label+percent\", \"labels\": [3, 4, 2, 6], \"marker\": {\"colors\": [\"#FFED6F\", \"#CCEBC5\", \"#BC80BD\", \"#D9D9D9\", \"#FCCDE5\", \"#80B1D3\"]}, \"textfont\": {\"size\": 10}, \"textinfo\": \"label+value\", \"type\": \"pie\", \"uid\": \"2898a55a-f243-4460-b25e-12237e0bd587\", \"values\": [6, 2, 1, 1]}, {\"domain\": {\"x\": [0.0, 0.2125], \"y\": [0.35185185185185186, 0.41358024691358025]}, \"hoverinfo\": \"label+percent\", \"labels\": [4, 5, 7], \"marker\": {\"colors\": [\"#FFED6F\", \"#CCEBC5\", \"#BC80BD\", \"#D9D9D9\", \"#FCCDE5\", \"#80B1D3\"]}, \"textfont\": {\"size\": 10}, \"textinfo\": \"label+value\", \"type\": \"pie\", \"uid\": \"b9eb86b4-b31c-4d04-8e47-1720af19bc9a\", \"values\": [6, 3, 1]}, {\"domain\": {\"x\": [0.2625, 0.475], \"y\": [0.35185185185185186, 0.41358024691358025]}, \"hoverinfo\": \"label+percent\", \"labels\": [2, 3, 4, 5], \"marker\": {\"colors\": [\"#FFED6F\", \"#CCEBC5\", \"#BC80BD\", \"#D9D9D9\", \"#FCCDE5\", \"#80B1D3\"]}, \"textfont\": {\"size\": 10}, \"textinfo\": \"label+value\", \"type\": \"pie\", \"uid\": \"25144887-33ac-4e8e-a6c3-17ac6d4e0f61\", \"values\": [3, 2, 1, 1]}, {\"domain\": {\"x\": [0.525, 0.7375], \"y\": [0.35185185185185186, 0.41358024691358025]}, \"hoverinfo\": \"label+percent\", \"labels\": [4, 2, 3, 5], \"marker\": {\"colors\": [\"#FFED6F\", \"#CCEBC5\", \"#BC80BD\", \"#D9D9D9\", \"#FCCDE5\", \"#80B1D3\"]}, \"textfont\": {\"size\": 10}, \"textinfo\": \"label+value\", \"type\": \"pie\", \"uid\": \"050367ed-d75d-4a82-a0c3-3e76bf2e2202\", \"values\": [4, 1, 1, 1]}, {\"domain\": {\"x\": [0.7875, 1.0], \"y\": [0.35185185185185186, 0.41358024691358025]}, \"hoverinfo\": \"label+percent\", \"labels\": [4, 5], \"marker\": {\"colors\": [\"#FFED6F\", \"#CCEBC5\", \"#BC80BD\", \"#D9D9D9\", \"#FCCDE5\", \"#80B1D3\"]}, \"textfont\": {\"size\": 10}, \"textinfo\": \"label+value\", \"type\": \"pie\", \"uid\": \"8f58bc25-4e4e-424d-975d-2569db1e1ca8\", \"values\": [5, 1]}, {\"domain\": {\"x\": [0.0, 0.2125], \"y\": [0.2345679012345679, 0.2962962962962963]}, \"hoverinfo\": \"label+percent\", \"labels\": [4, 2, 3], \"marker\": {\"colors\": [\"#FFED6F\", \"#CCEBC5\", \"#BC80BD\", \"#D9D9D9\", \"#FCCDE5\", \"#80B1D3\"]}, \"textfont\": {\"size\": 10}, \"textinfo\": \"label+value\", \"type\": \"pie\", \"uid\": \"7f6c10e4-dbe7-4781-b23e-cce5e3d7f99c\", \"values\": [4, 1, 1]}, {\"domain\": {\"x\": [0.2625, 0.475], \"y\": [0.2345679012345679, 0.2962962962962963]}, \"hoverinfo\": \"label+percent\", \"labels\": [2, 3, 4], \"marker\": {\"colors\": [\"#FFED6F\", \"#CCEBC5\", \"#BC80BD\", \"#D9D9D9\", \"#FCCDE5\", \"#80B1D3\"]}, \"textfont\": {\"size\": 10}, \"textinfo\": \"label+value\", \"type\": \"pie\", \"uid\": \"2c1f46eb-e0e9-4ddf-b631-da11d4fc7f95\", \"values\": [2, 2, 1]}, {\"domain\": {\"x\": [0.525, 0.7375], \"y\": [0.2345679012345679, 0.2962962962962963]}, \"hoverinfo\": \"label+percent\", \"labels\": [4], \"marker\": {\"colors\": [\"#FFED6F\", \"#CCEBC5\", \"#BC80BD\", \"#D9D9D9\", \"#FCCDE5\", \"#80B1D3\"]}, \"textfont\": {\"size\": 10}, \"textinfo\": \"label+value\", \"type\": \"pie\", \"uid\": \"87b6c746-2d98-466f-aceb-6047206d51b3\", \"values\": [4]}, {\"domain\": {\"x\": [0.7875, 1.0], \"y\": [0.2345679012345679, 0.2962962962962963]}, \"hoverinfo\": \"label+percent\", \"labels\": [2, 3], \"marker\": {\"colors\": [\"#FFED6F\", \"#CCEBC5\", \"#BC80BD\", \"#D9D9D9\", \"#FCCDE5\", \"#80B1D3\"]}, \"textfont\": {\"size\": 10}, \"textinfo\": \"label+value\", \"type\": \"pie\", \"uid\": \"4447646c-818a-4ead-8421-a6d873aa867e\", \"values\": [3, 1]}, {\"domain\": {\"x\": [0.0, 0.2125], \"y\": [0.11728395061728394, 0.17901234567901234]}, \"hoverinfo\": \"label+percent\", \"labels\": [4, 5], \"marker\": {\"colors\": [\"#FFED6F\", \"#CCEBC5\", \"#BC80BD\", \"#D9D9D9\", \"#FCCDE5\", \"#80B1D3\"]}, \"textfont\": {\"size\": 10}, \"textinfo\": \"label+value\", \"type\": \"pie\", \"uid\": \"338c395b-aacb-431c-95d7-62b41336073d\", \"values\": [3, 1]}, {\"domain\": {\"x\": [0.2625, 0.475], \"y\": [0.11728395061728394, 0.17901234567901234]}, \"hoverinfo\": \"label+percent\", \"labels\": [5, 2], \"marker\": {\"colors\": [\"#FFED6F\", \"#CCEBC5\", \"#BC80BD\", \"#D9D9D9\", \"#FCCDE5\", \"#80B1D3\"]}, \"textfont\": {\"size\": 10}, \"textinfo\": \"label+value\", \"type\": \"pie\", \"uid\": \"0a3bf66b-5ee6-4ad0-8675-da4aaecb6bd0\", \"values\": [2, 1]}, {\"domain\": {\"x\": [0.525, 0.7375], \"y\": [0.11728395061728394, 0.17901234567901234]}, \"hoverinfo\": \"label+percent\", \"labels\": [4, 5], \"marker\": {\"colors\": [\"#FFED6F\", \"#CCEBC5\", \"#BC80BD\", \"#D9D9D9\", \"#FCCDE5\", \"#80B1D3\"]}, \"textfont\": {\"size\": 10}, \"textinfo\": \"label+value\", \"type\": \"pie\", \"uid\": \"e6c725cf-2705-4286-9b96-39dd87fb4742\", \"values\": [2, 1]}, {\"domain\": {\"x\": [0.7875, 1.0], \"y\": [0.11728395061728394, 0.17901234567901234]}, \"hoverinfo\": \"label+percent\", \"labels\": [4], \"marker\": {\"colors\": [\"#FFED6F\", \"#CCEBC5\", \"#BC80BD\", \"#D9D9D9\", \"#FCCDE5\", \"#80B1D3\"]}, \"textfont\": {\"size\": 10}, \"textinfo\": \"label+value\", \"type\": \"pie\", \"uid\": \"f2ac92a2-86a4-4aa6-895f-84d400f4f8bc\", \"values\": [3]}, {\"domain\": {\"x\": [0.0, 0.2125], \"y\": [0.0, 0.0617283950617284]}, \"hoverinfo\": \"label+percent\", \"labels\": [5], \"marker\": {\"colors\": [\"#FFED6F\", \"#CCEBC5\", \"#BC80BD\", \"#D9D9D9\", \"#FCCDE5\", \"#80B1D3\"]}, \"textfont\": {\"size\": 10}, \"textinfo\": \"label+value\", \"type\": \"pie\", \"uid\": \"c28bd5c5-8ae8-44fa-b270-9096f33d82a0\", \"values\": [2]}, {\"domain\": {\"x\": [0.2625, 0.475], \"y\": [0.0, 0.0617283950617284]}, \"hoverinfo\": \"label+percent\", \"labels\": [3], \"marker\": {\"colors\": [\"#FFED6F\", \"#CCEBC5\", \"#BC80BD\", \"#D9D9D9\", \"#FCCDE5\", \"#80B1D3\"]}, \"textfont\": {\"size\": 10}, \"textinfo\": \"label+value\", \"type\": \"pie\", \"uid\": \"7a6ed1b7-57a9-4464-bfe3-6577971a471a\", \"values\": [1]}, {\"domain\": {\"x\": [0.525, 0.7375], \"y\": [0.0, 0.0617283950617284]}, \"hoverinfo\": \"label+percent\", \"labels\": [5], \"marker\": {\"colors\": [\"#FFED6F\", \"#CCEBC5\", \"#BC80BD\", \"#D9D9D9\", \"#FCCDE5\", \"#80B1D3\"]}, \"textfont\": {\"size\": 10}, \"textinfo\": \"label+value\", \"type\": \"pie\", \"uid\": \"48ecdf2c-3772-4b56-9252-c24e9602fc95\", \"values\": [1]}, {\"domain\": {\"x\": [0.7875, 1.0], \"y\": [0.0, 0.0617283950617284]}, \"hoverinfo\": \"label+percent\", \"labels\": [4], \"marker\": {\"colors\": [\"#FFED6F\", \"#CCEBC5\", \"#BC80BD\", \"#D9D9D9\", \"#FCCDE5\", \"#80B1D3\"]}, \"textfont\": {\"size\": 10}, \"textinfo\": \"label+value\", \"type\": \"pie\", \"uid\": \"2fce8c6e-0ccc-4ad3-b96d-dc50ea8a0a2a\", \"values\": [1]}],\n",
       "                        {\"annotations\": [{\"font\": {\"family\": \"Arial\", \"size\": 10}, \"showarrow\": false, \"text\": \"per:title (303 matches)\", \"x\": 0.10625, \"xanchor\": \"center\", \"xref\": \"paper\", \"y\": 1.0, \"yanchor\": \"bottom\", \"yref\": \"paper\"}, {\"font\": {\"family\": \"Arial\", \"size\": 10}, \"showarrow\": false, \"text\": \"org:top_members/employees (234 matches)\", \"x\": 0.36875, \"xanchor\": \"center\", \"xref\": \"paper\", \"y\": 1.0, \"yanchor\": \"bottom\", \"yref\": \"paper\"}, {\"font\": {\"family\": \"Arial\", \"size\": 10}, \"showarrow\": false, \"text\": \"org:alternate_names (149 matches)\", \"x\": 0.6312500000000001, \"xanchor\": \"center\", \"xref\": \"paper\", \"y\": 1.0, \"yanchor\": \"bottom\", \"yref\": \"paper\"}, {\"font\": {\"family\": \"Arial\", \"size\": 10}, \"showarrow\": false, \"text\": \"per:age (138 matches)\", \"x\": 0.89375, \"xanchor\": \"center\", \"xref\": \"paper\", \"y\": 1.0, \"yanchor\": \"bottom\", \"yref\": \"paper\"}, {\"font\": {\"family\": \"Arial\", \"size\": 10}, \"showarrow\": false, \"text\": \"per:employee_of (83 matches)\", \"x\": 0.10625, \"xanchor\": \"center\", \"xref\": \"paper\", \"y\": 0.8827160493827161, \"yanchor\": \"bottom\", \"yref\": \"paper\"}, {\"font\": {\"family\": \"Arial\", \"size\": 10}, \"showarrow\": false, \"text\": \"per:origin (44 matches)\", \"x\": 0.36875, \"xanchor\": \"center\", \"xref\": \"paper\", \"y\": 0.8827160493827161, \"yanchor\": \"bottom\", \"yref\": \"paper\"}, {\"font\": {\"family\": \"Arial\", \"size\": 10}, \"showarrow\": false, \"text\": \"per:cities_of_residence (36 matches)\", \"x\": 0.6312500000000001, \"xanchor\": \"center\", \"xref\": \"paper\", \"y\": 0.8827160493827161, \"yanchor\": \"bottom\", \"yref\": \"paper\"}, {\"font\": {\"family\": \"Arial\", \"size\": 10}, \"showarrow\": false, \"text\": \"org:city_of_headquarters (33 matches)\", \"x\": 0.89375, \"xanchor\": \"center\", \"xref\": \"paper\", \"y\": 0.8827160493827161, \"yanchor\": \"bottom\", \"yref\": \"paper\"}, {\"font\": {\"family\": \"Arial\", \"size\": 10}, \"showarrow\": false, \"text\": \"per:parents (25 matches)\", \"x\": 0.10625, \"xanchor\": \"center\", \"xref\": \"paper\", \"y\": 0.7654320987654322, \"yanchor\": \"bottom\", \"yref\": \"paper\"}, {\"font\": {\"family\": \"Arial\", \"size\": 10}, \"showarrow\": false, \"text\": \"per:countries_of_residence (24 matches)\", \"x\": 0.36875, \"xanchor\": \"center\", \"xref\": \"paper\", \"y\": 0.7654320987654322, \"yanchor\": \"bottom\", \"yref\": \"paper\"}, {\"font\": {\"family\": \"Arial\", \"size\": 10}, \"showarrow\": false, \"text\": \"org:country_of_headquarters (21 matches)\", \"x\": 0.6312500000000001, \"xanchor\": \"center\", \"xref\": \"paper\", \"y\": 0.7654320987654322, \"yanchor\": \"bottom\", \"yref\": \"paper\"}, {\"font\": {\"family\": \"Arial\", \"size\": 10}, \"showarrow\": false, \"text\": \"per:spouse (20 matches)\", \"x\": 0.89375, \"xanchor\": \"center\", \"xref\": \"paper\", \"y\": 0.7654320987654322, \"yanchor\": \"bottom\", \"yref\": \"paper\"}, {\"font\": {\"family\": \"Arial\", \"size\": 10}, \"showarrow\": false, \"text\": \"per:other_family (16 matches)\", \"x\": 0.10625, \"xanchor\": \"center\", \"xref\": \"paper\", \"y\": 0.6481481481481483, \"yanchor\": \"bottom\", \"yref\": \"paper\"}, {\"font\": {\"family\": \"Arial\", \"size\": 10}, \"showarrow\": false, \"text\": \"org:founded_by (16 matches)\", \"x\": 0.36875, \"xanchor\": \"center\", \"xref\": \"paper\", \"y\": 0.6481481481481483, \"yanchor\": \"bottom\", \"yref\": \"paper\"}, {\"font\": {\"family\": \"Arial\", \"size\": 10}, \"showarrow\": false, \"text\": \"per:children (15 matches)\", \"x\": 0.6312500000000001, \"xanchor\": \"center\", \"xref\": \"paper\", \"y\": 0.6481481481481483, \"yanchor\": \"bottom\", \"yref\": \"paper\"}, {\"font\": {\"family\": \"Arial\", \"size\": 10}, \"showarrow\": false, \"text\": \"org:founded (14 matches)\", \"x\": 0.89375, \"xanchor\": \"center\", \"xref\": \"paper\", \"y\": 0.6481481481481483, \"yanchor\": \"bottom\", \"yref\": \"paper\"}, {\"font\": {\"family\": \"Arial\", \"size\": 10}, \"showarrow\": false, \"text\": \"org:stateorprovince_of_headquarters (11 matches)\", \"x\": 0.10625, \"xanchor\": \"center\", \"xref\": \"paper\", \"y\": 0.5308641975308642, \"yanchor\": \"bottom\", \"yref\": \"paper\"}, {\"font\": {\"family\": \"Arial\", \"size\": 10}, \"showarrow\": false, \"text\": \"per:siblings (11 matches)\", \"x\": 0.36875, \"xanchor\": \"center\", \"xref\": \"paper\", \"y\": 0.5308641975308642, \"yanchor\": \"bottom\", \"yref\": \"paper\"}, {\"font\": {\"family\": \"Arial\", \"size\": 10}, \"showarrow\": false, \"text\": \"org:website (10 matches)\", \"x\": 0.6312500000000001, \"xanchor\": \"center\", \"xref\": \"paper\", \"y\": 0.5308641975308642, \"yanchor\": \"bottom\", \"yref\": \"paper\"}, {\"font\": {\"family\": \"Arial\", \"size\": 10}, \"showarrow\": false, \"text\": \"org:subsidiaries (10 matches)\", \"x\": 0.89375, \"xanchor\": \"center\", \"xref\": \"paper\", \"y\": 0.5308641975308642, \"yanchor\": \"bottom\", \"yref\": \"paper\"}, {\"font\": {\"family\": \"Arial\", \"size\": 10}, \"showarrow\": false, \"text\": \"per:stateorprovinces_of_residence (10 matches)\", \"x\": 0.10625, \"xanchor\": \"center\", \"xref\": \"paper\", \"y\": 0.41358024691358025, \"yanchor\": \"bottom\", \"yref\": \"paper\"}, {\"font\": {\"family\": \"Arial\", \"size\": 10}, \"showarrow\": false, \"text\": \"org:parents (7 matches)\", \"x\": 0.36875, \"xanchor\": \"center\", \"xref\": \"paper\", \"y\": 0.41358024691358025, \"yanchor\": \"bottom\", \"yref\": \"paper\"}, {\"font\": {\"family\": \"Arial\", \"size\": 10}, \"showarrow\": false, \"text\": \"per:schools_attended (7 matches)\", \"x\": 0.6312500000000001, \"xanchor\": \"center\", \"xref\": \"paper\", \"y\": 0.41358024691358025, \"yanchor\": \"bottom\", \"yref\": \"paper\"}, {\"font\": {\"family\": \"Arial\", \"size\": 10}, \"showarrow\": false, \"text\": \"per:charges (6 matches)\", \"x\": 0.89375, \"xanchor\": \"center\", \"xref\": \"paper\", \"y\": 0.41358024691358025, \"yanchor\": \"bottom\", \"yref\": \"paper\"}, {\"font\": {\"family\": \"Arial\", \"size\": 10}, \"showarrow\": false, \"text\": \"per:date_of_death (6 matches)\", \"x\": 0.10625, \"xanchor\": \"center\", \"xref\": \"paper\", \"y\": 0.2962962962962963, \"yanchor\": \"bottom\", \"yref\": \"paper\"}, {\"font\": {\"family\": \"Arial\", \"size\": 10}, \"showarrow\": false, \"text\": \"per:date_of_birth (5 matches)\", \"x\": 0.36875, \"xanchor\": \"center\", \"xref\": \"paper\", \"y\": 0.2962962962962963, \"yanchor\": \"bottom\", \"yref\": \"paper\"}, {\"font\": {\"family\": \"Arial\", \"size\": 10}, \"showarrow\": false, \"text\": \"per:religion (4 matches)\", \"x\": 0.6312500000000001, \"xanchor\": \"center\", \"xref\": \"paper\", \"y\": 0.2962962962962963, \"yanchor\": \"bottom\", \"yref\": \"paper\"}, {\"font\": {\"family\": \"Arial\", \"size\": 10}, \"showarrow\": false, \"text\": \"org:number_of_employees/members (4 matches)\", \"x\": 0.89375, \"xanchor\": \"center\", \"xref\": \"paper\", \"y\": 0.2962962962962963, \"yanchor\": \"bottom\", \"yref\": \"paper\"}, {\"font\": {\"family\": \"Arial\", \"size\": 10}, \"showarrow\": false, \"text\": \"per:city_of_death (4 matches)\", \"x\": 0.10625, \"xanchor\": \"center\", \"xref\": \"paper\", \"y\": 0.17901234567901234, \"yanchor\": \"bottom\", \"yref\": \"paper\"}, {\"font\": {\"family\": \"Arial\", \"size\": 10}, \"showarrow\": false, \"text\": \"per:cause_of_death (3 matches)\", \"x\": 0.36875, \"xanchor\": \"center\", \"xref\": \"paper\", \"y\": 0.17901234567901234, \"yanchor\": \"bottom\", \"yref\": \"paper\"}, {\"font\": {\"family\": \"Arial\", \"size\": 10}, \"showarrow\": false, \"text\": \"org:political/religious_affiliation (3 matches)\", \"x\": 0.6312500000000001, \"xanchor\": \"center\", \"xref\": \"paper\", \"y\": 0.17901234567901234, \"yanchor\": \"bottom\", \"yref\": \"paper\"}, {\"font\": {\"family\": \"Arial\", \"size\": 10}, \"showarrow\": false, \"text\": \"per:stateorprovince_of_birth (3 matches)\", \"x\": 0.89375, \"xanchor\": \"center\", \"xref\": \"paper\", \"y\": 0.17901234567901234, \"yanchor\": \"bottom\", \"yref\": \"paper\"}, {\"font\": {\"family\": \"Arial\", \"size\": 10}, \"showarrow\": false, \"text\": \"per:stateorprovince_of_death (2 matches)\", \"x\": 0.10625, \"xanchor\": \"center\", \"xref\": \"paper\", \"y\": 0.0617283950617284, \"yanchor\": \"bottom\", \"yref\": \"paper\"}, {\"font\": {\"family\": \"Arial\", \"size\": 10}, \"showarrow\": false, \"text\": \"org:members (1 matches)\", \"x\": 0.36875, \"xanchor\": \"center\", \"xref\": \"paper\", \"y\": 0.0617283950617284, \"yanchor\": \"bottom\", \"yref\": \"paper\"}, {\"font\": {\"family\": \"Arial\", \"size\": 10}, \"showarrow\": false, \"text\": \"org:member_of (1 matches)\", \"x\": 0.6312500000000001, \"xanchor\": \"center\", \"xref\": \"paper\", \"y\": 0.0617283950617284, \"yanchor\": \"bottom\", \"yref\": \"paper\"}, {\"font\": {\"family\": \"Arial\", \"size\": 10}, \"showarrow\": false, \"text\": \"per:city_of_birth (1 matches)\", \"x\": 0.89375, \"xanchor\": \"center\", \"xref\": \"paper\", \"y\": 0.0617283950617284, \"yanchor\": \"bottom\", \"yref\": \"paper\"}], \"font\": {\"family\": \"Arial\", \"size\": 12}, \"height\": 2500, \"title\": {\"text\": \"UD path coverage\"}, \"width\": 1000},\n",
       "                        {\"plotlyServerURL\": \"https://plot.ly\", \"responsive\": true}\n",
       "                    ).then(function(){\n",
       "                            \n",
       "var gd = document.getElementById('3b7a11c7-4be5-465d-af33-a6866edf8759');\n",
       "var x = new MutationObserver(function (mutations, observer) {{\n",
       "        var display = window.getComputedStyle(gd).display;\n",
       "        if (!display || display === 'none') {{\n",
       "            console.log([gd, 'removed!']);\n",
       "            Plotly.purge(gd);\n",
       "            observer.disconnect();\n",
       "        }}\n",
       "}});\n",
       "\n",
       "// Listen for the removal of the full notebook cells\n",
       "var notebookContainer = gd.closest('#notebook-container');\n",
       "if (notebookContainer) {{\n",
       "    x.observe(notebookContainer, {childList: true});\n",
       "}}\n",
       "\n",
       "// Listen for the clearing of the current output cell\n",
       "var outputEl = gd.closest('.output');\n",
       "if (outputEl) {{\n",
       "    x.observe(outputEl, {childList: true});\n",
       "}}\n",
       "\n",
       "                        })\n",
       "                };\n",
       "                });\n",
       "            </script>\n",
       "        </div>"
      ]
     },
     "metadata": {},
     "output_type": "display_data"
    }
   ],
   "source": [
    "layout = go.Layout(\n",
    "    title='UD path coverage',\n",
    "    width=1000,\n",
    "    height=2500,\n",
    "    font=dict(family=\"Arial\", size=12)\n",
    ")\n",
    "\n",
    "fig = make_subplots(\n",
    "    rows=num_rows, \n",
    "    cols=num_columns,\n",
    "    subplot_titles=labels,\n",
    "    specs=[[{\"type\": \"pie\"}] * num_columns] * num_rows \n",
    ")\n",
    "\n",
    "not_interested_in_output = fig['layout'].update(layout)\n",
    "\n",
    "\n",
    "for ind, relation in enumerate(relations):\n",
    "    \n",
    "    row_num, column_num = divmod(ind,num_columns)\n",
    "    \n",
    "    column_num += 1\n",
    "    row_num +=1 \n",
    "    \n",
    "    pie =  go.Pie(\n",
    "            labels=test_total_by_relation_and_len[test_total_by_relation_and_len['relation']==relation]['ud_path_len'].tolist(),\n",
    "            values=test_total_by_relation_and_len[test_total_by_relation_and_len['relation']==relation]['total'].tolist()\n",
    "        )\n",
    "    \n",
    "    fig.add_trace(\n",
    "        pie,\n",
    "        row=row_num, \n",
    "        col=column_num)\n",
    "\n",
    "colors = ['#FEBFB3', '#E1396C', '#96D38C', '#D0F9B1']\n",
    "colors = ['#BAA7AE', '#F2A939', '#BA688E', '#5D3D6A']\n",
    "colors = ['#3C464C', '#6AA2B5', '#F05A71', '#C0AC9F']\n",
    "colors = ['#FFED6F', '#CCEBC5', '#BC80BD',  '#D9D9D9',  '#FCCDE5',  '#80B1D3' ]#,  '#FDB462',  '#B3DE69',  '#FB8072'] #,  '#BEBADA',  '#FFFFB3', '#8DD3C7']\n",
    "\n",
    "\n",
    "fig.update_traces(\n",
    "    hoverinfo='label+percent', \n",
    "    textinfo='label+value', \n",
    "    textfont_size=10,\n",
    "    marker=dict(colors=colors)\n",
    ")\n",
    "    \n",
    "    \n",
    "for i in fig['layout']['annotations']:\n",
    "    i['font'] = dict(family=\"Arial\", size=10)\n",
    "\n",
    "    \n",
    "\n",
    "fig.show()\n",
    "    "
   ]
  },
  {
   "cell_type": "code",
   "execution_count": null,
   "metadata": {},
   "outputs": [],
   "source": []
  }
 ],
 "metadata": {
  "kernelspec": {
   "display_name": "Python 3",
   "language": "python",
   "name": "python3"
  },
  "language_info": {
   "codemirror_mode": {
    "name": "ipython",
    "version": 3
   },
   "file_extension": ".py",
   "mimetype": "text/x-python",
   "name": "python",
   "nbconvert_exporter": "python",
   "pygments_lexer": "ipython3",
   "version": "3.7.6"
  }
 },
 "nbformat": 4,
 "nbformat_minor": 2
}
