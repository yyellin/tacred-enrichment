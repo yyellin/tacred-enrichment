{
 "cells": [
  {
   "cell_type": "code",
   "execution_count": 1,
   "metadata": {},
   "outputs": [
    {
     "data": {
      "text/html": [
       "        <script type=\"text/javascript\">\n",
       "        window.PlotlyConfig = {MathJaxConfig: 'local'};\n",
       "        if (window.MathJax) {MathJax.Hub.Config({SVG: {font: \"STIX-Web\"}});}\n",
       "        if (typeof require !== 'undefined') {\n",
       "        require.undef(\"plotly\");\n",
       "        requirejs.config({\n",
       "            paths: {\n",
       "                'plotly': ['https://cdn.plot.ly/plotly-latest.min']\n",
       "            }\n",
       "        });\n",
       "        require(['plotly'], function(Plotly) {\n",
       "            window._Plotly = Plotly;\n",
       "        });\n",
       "        }\n",
       "        </script>\n",
       "        "
      ]
     },
     "metadata": {},
     "output_type": "display_data"
    }
   ],
   "source": [
    "from plotly.offline import download_plotlyjs, init_notebook_mode, plot, iplot\n",
    "init_notebook_mode(connected=True)"
   ]
  },
  {
   "cell_type": "code",
   "execution_count": 2,
   "metadata": {},
   "outputs": [],
   "source": [
    "import pandas\n",
    "\n",
    "train = pandas.read_csv(r'C:\\Users\\jyellin\\re_1\\tacred\\results\\general\\train-ud_paths_per_relation_no_relation.csv')\n",
    "test = pandas.read_csv(r'C:\\Users\\jyellin\\re_1\\tacred\\results\\general\\test-ud_paths_per_relation_no_relation.csv')\n",
    "    "
   ]
  },
  {
   "cell_type": "code",
   "execution_count": 3,
   "metadata": {},
   "outputs": [],
   "source": [
    "def transform_row(r):\n",
    "    return '{entity1} {org_path} {entity2}'.format(entity1=r.type1[0:3], org_path=r.path, entity2=r.type2[0:3])\n",
    "\n",
    "train['path'] = train.apply(transform_row, axis=1)\n",
    "test['path'] = test.apply(transform_row, axis=1)"
   ]
  },
  {
   "cell_type": "code",
   "execution_count": 4,
   "metadata": {},
   "outputs": [],
   "source": [
    "relation_to_paths = train.groupby(['relation'])['path'].unique().to_dict()"
   ]
  },
  {
   "cell_type": "code",
   "execution_count": 5,
   "metadata": {},
   "outputs": [],
   "source": [
    "def label_sentence_recall(test_row, relation):\n",
    "    path = test_row['path']\n",
    "    true_relation = test_row['relation']\n",
    "    \n",
    "    if path in relation_to_paths[relation]:\n",
    "        if true_relation == relation:\n",
    "            return 'TP'\n",
    "        else:\n",
    "            return 'FP'\n",
    "    else:\n",
    "        return 'N'"
   ]
  },
  {
   "cell_type": "code",
   "execution_count": 6,
   "metadata": {},
   "outputs": [],
   "source": [
    "for relation in filter(lambda relation: relation != 'no_relation', relation_to_paths.keys()):\n",
    "    test[relation] = test.apply(lambda row : label_sentence_recall(row, relation), axis=1)    "
   ]
  },
  {
   "cell_type": "code",
   "execution_count": 7,
   "metadata": {},
   "outputs": [],
   "source": [
    "stats = []\n",
    "overall_tp = 0\n",
    "overall_fp = 0\n",
    "\n",
    "for relation in filter(lambda relation: relation != 'no_relation', relation_to_paths.keys()):\n",
    "\n",
    "    counts = test[relation].value_counts().to_dict()\n",
    "        \n",
    "    tp = counts.get('TP', 0)\n",
    "    fp = counts.get('FP', 0)\n",
    "    precision = tp / (tp+fp)\n",
    "\n",
    "    stats.append( (relation, round(precision,4) ) )\n",
    "    \n",
    "    overall_tp =+ tp\n",
    "    overall_fp =+ fp\n",
    "    \n",
    "overall_precision = tp / (tp+fp)\n",
    "\n",
    "    \n",
    "#matched = sum(test_total_by_r_and_p[test_total_by_r_and_p['total-for-relation']>0]['total'].to_list())\n",
    "#matched_lax = sum(test_total_by_r_and_p[test_total_by_r_and_p['total-across-relations']>0]['total'].to_list())\n",
    "#total = sum(test_total_by_r_and_p['total'].to_list())\n",
    "\n",
    "stats.append( ('overall', round(overall_precision,4) ) )\n",
    "stats = sorted(stats, key=lambda x: x[1], reverse=True)"
   ]
  },
  {
   "cell_type": "code",
   "execution_count": 8,
   "metadata": {},
   "outputs": [
    {
     "data": {
      "application/vnd.plotly.v1+json": {
       "config": {
        "linkText": "Export to plot.ly",
        "plotlyServerURL": "https://plot.ly",
        "showLink": false
       },
       "data": [
        {
         "marker": {
          "color": [
           "rgb(58,200,225)",
           "rgb(58,200,225)",
           "rgb(58,200,225)",
           "rgb(58,200,225)",
           "rgb(181,59,89)",
           "rgb(58,200,225)",
           "rgb(58,200,225)",
           "rgb(58,200,225)",
           "rgb(58,200,225)",
           "rgb(58,200,225)",
           "rgb(58,200,225)",
           "rgb(58,200,225)",
           "rgb(58,200,225)",
           "rgb(58,200,225)",
           "rgb(58,200,225)",
           "rgb(58,200,225)",
           "rgb(58,200,225)",
           "rgb(58,200,225)",
           "rgb(58,200,225)",
           "rgb(58,200,225)",
           "rgb(58,200,225)",
           "rgb(58,200,225)",
           "rgb(58,200,225)",
           "rgb(58,200,225)",
           "rgb(58,200,225)",
           "rgb(58,200,225)",
           "rgb(58,200,225)",
           "rgb(58,200,225)",
           "rgb(58,200,225)",
           "rgb(58,200,225)",
           "rgb(58,200,225)",
           "rgb(58,200,225)",
           "rgb(58,200,225)",
           "rgb(58,200,225)",
           "rgb(58,200,225)",
           "rgb(58,200,225)",
           "rgb(58,200,225)",
           "rgb(58,200,225)",
           "rgb(58,200,225)",
           "rgb(58,200,225)",
           "rgb(58,200,225)",
           "rgb(58,200,225)"
          ],
          "line": {
           "color": "rgb(8,48,107)",
           "width": 0.5
          }
         },
         "name": "Precision",
         "opacity": 0.6,
         "type": "bar",
         "uid": "7579a1e6-c34c-402f-acc3-bad04fe9117f",
         "width": 0.5,
         "x": [
          "org:website",
          "per:charges",
          "per:age",
          "per:title",
          "overall",
          "per:stateorprovinces_of_residence",
          "org:city_of_headquarters",
          "per:religion",
          "org:country_of_headquarters",
          "per:cities_of_residence",
          "org:stateorprovince_of_headquarters",
          "per:origin",
          "org:top_members/employees",
          "per:employee_of",
          "org:founded",
          "per:cause_of_death",
          "org:alternate_names",
          "per:stateorprovince_of_birth",
          "per:countries_of_residence",
          "per:stateorprovince_of_death",
          "org:political/religious_affiliation",
          "org:number_of_employees/members",
          "per:schools_attended",
          "org:founded_by",
          "per:date_of_death",
          "per:parents",
          "per:date_of_birth",
          "org:subsidiaries",
          "org:parents",
          "per:siblings",
          "per:spouse",
          "per:city_of_birth",
          "per:children",
          "per:other_family",
          "org:members",
          "org:member_of",
          "per:alternate_names",
          "org:dissolved",
          "org:shareholders",
          "per:city_of_death",
          "per:country_of_birth",
          "per:country_of_death"
         ],
         "y": [
          0.8235,
          0.8182,
          0.7806,
          0.7778,
          0.7778,
          0.7143,
          0.6271,
          0.6,
          0.5926,
          0.5781,
          0.5676,
          0.5441,
          0.4946,
          0.4514,
          0.4,
          0.4,
          0.3775,
          0.3,
          0.2741,
          0.25,
          0.2,
          0.1892,
          0.1398,
          0.139,
          0.1092,
          0.0971,
          0.0909,
          0.0743,
          0.0732,
          0.0554,
          0.0409,
          0.04,
          0.0346,
          0.0325,
          0.0145,
          0.0083,
          0.0034,
          0,
          0,
          0,
          0,
          0
         ]
        }
       ],
       "layout": {
        "barmode": "overlay",
        "title": {
         "text": "UD Path - Precision"
        },
        "width": 1200,
        "xaxis": {
         "automargin": true,
         "tickangle": 45,
         "title": {
          "text": "Relation"
         }
        },
        "yaxis": {
         "title": {
          "text": "Precision"
         }
        }
       }
      },
      "text/html": [
       "<div>\n",
       "        \n",
       "        \n",
       "            <div id=\"09560f6d-c70a-4ff1-9358-a08e25e5c094\" class=\"plotly-graph-div\" style=\"height:525px; width:1200px;\"></div>\n",
       "            <script type=\"text/javascript\">\n",
       "                require([\"plotly\"], function(Plotly) {\n",
       "                    window.PLOTLYENV=window.PLOTLYENV || {};\n",
       "                    window.PLOTLYENV.BASE_URL='https://plot.ly';\n",
       "                    \n",
       "                if (document.getElementById(\"09560f6d-c70a-4ff1-9358-a08e25e5c094\")) {\n",
       "                    Plotly.newPlot(\n",
       "                        '09560f6d-c70a-4ff1-9358-a08e25e5c094',\n",
       "                        [{\"marker\": {\"color\": [\"rgb(58,200,225)\", \"rgb(58,200,225)\", \"rgb(58,200,225)\", \"rgb(58,200,225)\", \"rgb(181,59,89)\", \"rgb(58,200,225)\", \"rgb(58,200,225)\", \"rgb(58,200,225)\", \"rgb(58,200,225)\", \"rgb(58,200,225)\", \"rgb(58,200,225)\", \"rgb(58,200,225)\", \"rgb(58,200,225)\", \"rgb(58,200,225)\", \"rgb(58,200,225)\", \"rgb(58,200,225)\", \"rgb(58,200,225)\", \"rgb(58,200,225)\", \"rgb(58,200,225)\", \"rgb(58,200,225)\", \"rgb(58,200,225)\", \"rgb(58,200,225)\", \"rgb(58,200,225)\", \"rgb(58,200,225)\", \"rgb(58,200,225)\", \"rgb(58,200,225)\", \"rgb(58,200,225)\", \"rgb(58,200,225)\", \"rgb(58,200,225)\", \"rgb(58,200,225)\", \"rgb(58,200,225)\", \"rgb(58,200,225)\", \"rgb(58,200,225)\", \"rgb(58,200,225)\", \"rgb(58,200,225)\", \"rgb(58,200,225)\", \"rgb(58,200,225)\", \"rgb(58,200,225)\", \"rgb(58,200,225)\", \"rgb(58,200,225)\", \"rgb(58,200,225)\", \"rgb(58,200,225)\"], \"line\": {\"color\": \"rgb(8,48,107)\", \"width\": 0.5}}, \"name\": \"Precision\", \"opacity\": 0.6, \"type\": \"bar\", \"uid\": \"7579a1e6-c34c-402f-acc3-bad04fe9117f\", \"width\": 0.5, \"x\": [\"org:website\", \"per:charges\", \"per:age\", \"per:title\", \"overall\", \"per:stateorprovinces_of_residence\", \"org:city_of_headquarters\", \"per:religion\", \"org:country_of_headquarters\", \"per:cities_of_residence\", \"org:stateorprovince_of_headquarters\", \"per:origin\", \"org:top_members/employees\", \"per:employee_of\", \"org:founded\", \"per:cause_of_death\", \"org:alternate_names\", \"per:stateorprovince_of_birth\", \"per:countries_of_residence\", \"per:stateorprovince_of_death\", \"org:political/religious_affiliation\", \"org:number_of_employees/members\", \"per:schools_attended\", \"org:founded_by\", \"per:date_of_death\", \"per:parents\", \"per:date_of_birth\", \"org:subsidiaries\", \"org:parents\", \"per:siblings\", \"per:spouse\", \"per:city_of_birth\", \"per:children\", \"per:other_family\", \"org:members\", \"org:member_of\", \"per:alternate_names\", \"org:dissolved\", \"org:shareholders\", \"per:city_of_death\", \"per:country_of_birth\", \"per:country_of_death\"], \"y\": [0.8235, 0.8182, 0.7806, 0.7778, 0.7778, 0.7143, 0.6271, 0.6, 0.5926, 0.5781, 0.5676, 0.5441, 0.4946, 0.4514, 0.4, 0.4, 0.3775, 0.3, 0.2741, 0.25, 0.2, 0.1892, 0.1398, 0.139, 0.1092, 0.0971, 0.0909, 0.0743, 0.0732, 0.0554, 0.0409, 0.04, 0.0346, 0.0325, 0.0145, 0.0083, 0.0034, 0.0, 0.0, 0.0, 0.0, 0.0]}],\n",
       "                        {\"barmode\": \"overlay\", \"title\": {\"text\": \"UD Path - Precision\"}, \"width\": 1200, \"xaxis\": {\"automargin\": true, \"tickangle\": 45, \"title\": {\"text\": \"Relation\"}}, \"yaxis\": {\"title\": {\"text\": \"Precision\"}}},\n",
       "                        {\"showLink\": false, \"linkText\": \"Export to plot.ly\", \"plotlyServerURL\": \"https://plot.ly\", \"responsive\": true}\n",
       "                    ).then(function(){\n",
       "                            \n",
       "var gd = document.getElementById('09560f6d-c70a-4ff1-9358-a08e25e5c094');\n",
       "var x = new MutationObserver(function (mutations, observer) {{\n",
       "        var display = window.getComputedStyle(gd).display;\n",
       "        if (!display || display === 'none') {{\n",
       "            console.log([gd, 'removed!']);\n",
       "            Plotly.purge(gd);\n",
       "            observer.disconnect();\n",
       "        }}\n",
       "}});\n",
       "\n",
       "// Listen for the removal of the full notebook cells\n",
       "var notebookContainer = gd.closest('#notebook-container');\n",
       "if (notebookContainer) {{\n",
       "    x.observe(notebookContainer, {childList: true});\n",
       "}}\n",
       "\n",
       "// Listen for the clearing of the current output cell\n",
       "var outputEl = gd.closest('.output');\n",
       "if (outputEl) {{\n",
       "    x.observe(outputEl, {childList: true});\n",
       "}}\n",
       "\n",
       "                        })\n",
       "                };\n",
       "                });\n",
       "            </script>\n",
       "        </div>"
      ]
     },
     "metadata": {},
     "output_type": "display_data"
    }
   ],
   "source": [
    "import plotly.graph_objs as go\n",
    "\n",
    "overall_index = next(i for (i, (relation, score)) in enumerate(stats) if relation == 'overall')\n",
    "\n",
    "colors = ['rgb(58,200,225)'] * len(stats)\n",
    "colors[overall_index] = 'rgb(181,59,89)'\n",
    "\n",
    "\n",
    "trace1 = go.Bar(\n",
    "    x=[stat[0] for stat in stats],\n",
    "    y=[stat[1] for stat in stats],\n",
    "    name='Precision',\n",
    "    width=0.5,\n",
    "    marker=dict(\n",
    "        color=colors,\n",
    "        line=dict(\n",
    "            color='rgb(8,48,107)',\n",
    "            width=0.5),\n",
    "        ),\n",
    "    opacity=0.6\n",
    ")\n",
    "\n",
    "data = [trace1]\n",
    "layout = go.Layout(\n",
    "    title='UD Path - Precision',\n",
    "    xaxis_title=\"Relation\",\n",
    "    yaxis_title=\"Precision\",        \n",
    "    barmode='overlay',\n",
    "    width=1200,\n",
    "    xaxis = go.layout.XAxis(\n",
    "        tickangle = 45,\n",
    "        automargin = True\n",
    "        \n",
    "    )\n",
    "    \n",
    "        \n",
    ")\n",
    "\n",
    "fig = go.Figure(data=data, layout=layout)\n",
    "iplot(fig)"
   ]
  },
  {
   "cell_type": "code",
   "execution_count": null,
   "metadata": {},
   "outputs": [],
   "source": []
  }
 ],
 "metadata": {
  "kernelspec": {
   "display_name": "Python 3",
   "language": "python",
   "name": "python3"
  },
  "language_info": {
   "codemirror_mode": {
    "name": "ipython",
    "version": 3
   },
   "file_extension": ".py",
   "mimetype": "text/x-python",
   "name": "python",
   "nbconvert_exporter": "python",
   "pygments_lexer": "ipython3",
   "version": "3.7.4"
  }
 },
 "nbformat": 4,
 "nbformat_minor": 2
}
