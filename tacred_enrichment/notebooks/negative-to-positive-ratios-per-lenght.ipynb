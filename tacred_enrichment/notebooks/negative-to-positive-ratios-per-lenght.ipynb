{
 "cells": [
  {
   "cell_type": "code",
   "execution_count": 1,
   "metadata": {},
   "outputs": [],
   "source": [
    "import pandas\n",
    "train = pandas.read_json(r'C:\\Users\\JYellin\\re_1\\tacred\\data\\json-enhanced\\train.json')\n",
    "train['source'] = 'train'\n",
    "\n",
    "dev = pandas.read_json(r'C:\\Users\\JYellin\\re_1\\tacred\\data\\json-enhanced\\dev.json')\n",
    "dev['source'] = 'dev'\n",
    "\n",
    "data = pandas.concat([train,dev])"
   ]
  },
  {
   "cell_type": "code",
   "execution_count": 3,
   "metadata": {},
   "outputs": [
    {
     "name": "stdout",
     "output_type": "stream",
     "text": [
      "    2:\t   298\t   124\t  0.42\n",
      "    3:\t 4,256\t 2,050\t  0.48\n",
      "    4:\t10,117\t 5,975\t  0.59\n",
      "    5:\t13,345\t 4,093\t  0.31\n",
      "    6:\t12,702\t 2,412\t  0.19\n",
      "    7:\t11,645\t 1,601\t  0.14\n",
      "    8:\t 8,290\t 1,045\t  0.13\n",
      "    9:\t 5,321\t   544\t   0.1\n",
      "   10:\t 2,920\t   260\t  0.09\n",
      "   11:\t 1,574\t   140\t  0.09\n",
      "   12:\t   772\t    56\t  0.07\n",
      "   13:\t   362\t    29\t  0.08\n",
      "   14:\t   156\t     6\t  0.04\n",
      "total:\t72,307\t18,448\t  0.26\n"
     ]
    }
   ],
   "source": [
    "for i in range(2, 15):\n",
    "    negative_relation_count = data[(data['ucca_path_len'] == i) & (data['relation'] == 'no_relation')].shape[0]\n",
    "    positive_relation_count = data[(data['ucca_path_len'] == i) & (data['relation'] != 'no_relation')].shape[0]\n",
    "    ratio = round(positive_relation_count/negative_relation_count, 2)\n",
    "    print('{:5}:\\t{:6,}\\t{:6,}\\t{:6,}'.format(i, negative_relation_count, positive_relation_count, ratio))\n",
    "\n",
    "negative_relation_count = data[(data['relation'] == 'no_relation')].shape[0]\n",
    "positive_relation_count = data[(data['relation'] != 'no_relation')].shape[0]\n",
    "ratio = round(positive_relation_count/negative_relation_count, 2)\n",
    "print('total:\\t{:6,}\\t{:6,}\\t{:6,}'.format(negative_relation_count, positive_relation_count, ratio))\n",
    "    "
   ]
  },
  {
   "cell_type": "code",
   "execution_count": 5,
   "metadata": {},
   "outputs": [],
   "source": [
    "test = pandas.read_json(r'C:\\Users\\JYellin\\re_1\\tacred\\data\\json-enhanced\\test.json')\n",
    "test['source'] = 'test'"
   ]
  },
  {
   "cell_type": "code",
   "execution_count": 6,
   "metadata": {},
   "outputs": [
    {
     "name": "stdout",
     "output_type": "stream",
     "text": [
      "    2:\t    31\t    19\t  0.61\n",
      "    3:\t   677\t   403\t   0.6\n",
      "    4:\t 1,683\t   919\t  0.55\n",
      "    5:\t 2,317\t   834\t  0.36\n",
      "    6:\t 2,249\t   488\t  0.22\n",
      "    7:\t 1,958\t   272\t  0.14\n",
      "    8:\t 1,409\t   187\t  0.13\n",
      "    9:\t   905\t    90\t   0.1\n",
      "   10:\t   496\t    47\t  0.09\n",
      "   11:\t   213\t    24\t  0.11\n",
      "   12:\t   111\t    10\t  0.09\n",
      "   13:\t    40\t     4\t   0.1\n",
      "   14:\t    17\t     3\t  0.18\n",
      "total:\t12,184\t 3,325\t  0.27\n"
     ]
    }
   ],
   "source": [
    "for i in range(2, 15):\n",
    "    negative_relation_count = test[(test['ucca_path_len'] == i) & (test['relation'] == 'no_relation')].shape[0]\n",
    "    positive_relation_count = test[(test['ucca_path_len'] == i) & (test['relation'] != 'no_relation')].shape[0]\n",
    "    ratio = round(positive_relation_count/negative_relation_count, 2)\n",
    "    print('{:5}:\\t{:6,}\\t{:6,}\\t{:6,}'.format(i, negative_relation_count, positive_relation_count, ratio))\n",
    "\n",
    "negative_relation_count = test[(test['relation'] == 'no_relation')].shape[0]\n",
    "positive_relation_count = test[(test['relation'] != 'no_relation')].shape[0]\n",
    "ratio = round(positive_relation_count/negative_relation_count, 2)\n",
    "print('total:\\t{:6,}\\t{:6,}\\t{:6,}'.format(negative_relation_count, positive_relation_count, ratio))\n",
    "    "
   ]
  },
  {
   "cell_type": "code",
   "execution_count": null,
   "metadata": {},
   "outputs": [],
   "source": []
  }
 ],
 "metadata": {
  "kernelspec": {
   "display_name": "Python 3",
   "language": "python",
   "name": "python3"
  },
  "language_info": {
   "codemirror_mode": {
    "name": "ipython",
    "version": 3
   },
   "file_extension": ".py",
   "mimetype": "text/x-python",
   "name": "python",
   "nbconvert_exporter": "python",
   "pygments_lexer": "ipython3",
   "version": "3.7.6"
  }
 },
 "nbformat": 4,
 "nbformat_minor": 4
}
