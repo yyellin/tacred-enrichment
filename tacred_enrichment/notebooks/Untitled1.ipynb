{
 "cells": [
  {
   "cell_type": "code",
   "execution_count": 1,
   "metadata": {},
   "outputs": [
    {
     "data": {
      "text/html": [
       "        <script type=\"text/javascript\">\n",
       "        window.PlotlyConfig = {MathJaxConfig: 'local'};\n",
       "        if (window.MathJax) {MathJax.Hub.Config({SVG: {font: \"STIX-Web\"}});}\n",
       "        if (typeof require !== 'undefined') {\n",
       "        require.undef(\"plotly\");\n",
       "        requirejs.config({\n",
       "            paths: {\n",
       "                'plotly': ['https://cdn.plot.ly/plotly-latest.min']\n",
       "            }\n",
       "        });\n",
       "        require(['plotly'], function(Plotly) {\n",
       "            window._Plotly = Plotly;\n",
       "        });\n",
       "        }\n",
       "        </script>\n",
       "        "
      ]
     },
     "metadata": {},
     "output_type": "display_data"
    }
   ],
   "source": [
    "from plotly.offline import download_plotlyjs, init_notebook_mode, plot, iplot\n",
    "init_notebook_mode(connected=True)"
   ]
  },
  {
   "cell_type": "code",
   "execution_count": 2,
   "metadata": {},
   "outputs": [],
   "source": [
    "import pandas\n",
    "\n",
    "# Note the 'set_index' call !! \n",
    "# This is necessary for filtering out sentences with incorrect NER annotations:\n",
    "train = pandas.read_csv(r'C:\\Users\\JYellin\\re_1\\tacred\\results\\general\\train-ucca_paths_v0.0.5.csv').set_index(['id'])\n",
    "test = pandas.read_csv(r'C:\\Users\\JYellin\\re_1\\tacred\\results\\general\\test-ucca_paths_v0.0.5.csv').set_index(['id'])\n",
    "\n",
    "# no point to consider 'no_relation' sentences when calculating recall ,,,\n",
    "train = train[ train['relation'] != 'no_relation']\n",
    "test = test[ test['relation'] != 'no_relation']"
   ]
  },
  {
   "cell_type": "code",
   "execution_count": 3,
   "metadata": {},
   "outputs": [],
   "source": [
    "train_ner = pandas.read_csv(r'C:\\Users\\JYellin\\re_1\\tacred\\results\\general\\train-ud_paths_with_ner_v0.0.6.csv').set_index(['id'])\n",
    "test_ner = pandas.read_csv(r'C:\\Users\\JYellin\\re_1\\tacred\\results\\general\\test-ud_paths_with_ner_v0.0.6.csv').set_index(['id'])\n",
    "\n",
    "train_ids_with_proper_ner = train_ner[(train_ner['type1']==train_ner['type1_corenlp']) & (train_ner['type2']==train_ner['type2_corenlp'])].drop(['docid', 'tokens', 'relation', 'path', 'lemmas_on_path', 'type1', 'type2', 'ent1_head', 'ent2_head', 'type1_corenlp', 'type2_corenlp'], axis=1)\n",
    "test_ids_with_proper_ner = test_ner[(test_ner['type1']==test_ner['type1_corenlp']) & (test_ner['type2']==test_ner['type2_corenlp'])].drop(['docid', 'tokens', 'relation', 'path', 'lemmas_on_path', 'type1', 'type2', 'ent1_head', 'ent2_head', 'type1_corenlp', 'type2_corenlp'], axis=1)"
   ]
  },
  {
   "cell_type": "code",
   "execution_count": 4,
   "metadata": {},
   "outputs": [],
   "source": [
    "train = train_ids_with_proper_ner.join(train).dropna(axis=0).reset_index()\n",
    "test = test_ids_with_proper_ner.join(test).dropna(axis=0).reset_index()"
   ]
  },
  {
   "cell_type": "code",
   "execution_count": 5,
   "metadata": {},
   "outputs": [],
   "source": [
    "def transform_row(r):\n",
    "    return '{entity1} {org_path} {entity2}'.format(entity1=r.type1[0:3], org_path=r.path, entity2=r.type2[0:3])\n",
    "\n",
    "train['path'] = train.apply(transform_row, axis=1)\n",
    "test['path'] = test.apply(transform_row, axis=1)"
   ]
  },
  {
   "cell_type": "code",
   "execution_count": null,
   "metadata": {},
   "outputs": [],
   "source": []
  }
 ],
 "metadata": {
  "kernelspec": {
   "display_name": "Python 3",
   "language": "python",
   "name": "python3"
  },
  "language_info": {
   "codemirror_mode": {
    "name": "ipython",
    "version": 3
   },
   "file_extension": ".py",
   "mimetype": "text/x-python",
   "name": "python",
   "nbconvert_exporter": "python",
   "pygments_lexer": "ipython3",
   "version": "3.7.6"
  }
 },
 "nbformat": 4,
 "nbformat_minor": 4
}
