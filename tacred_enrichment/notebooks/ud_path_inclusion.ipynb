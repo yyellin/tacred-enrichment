{
 "cells": [
  {
   "cell_type": "code",
   "execution_count": 1,
   "metadata": {},
   "outputs": [],
   "source": [
    "import pandas\n",
    "\n",
    "ud_train = pandas.read_csv(r'C:\\Users\\jyellin\\re_1\\Code\\path_to_re\\train-ud_paths_per_relation.csv')\n",
    "ud_test = pandas.read_csv(r'C:\\Users\\jyellin\\re_1\\Code\\path_to_re\\test-ud_paths_per_relation.csv')"
   ]
  },
  {
   "cell_type": "code",
   "execution_count": 2,
   "metadata": {},
   "outputs": [],
   "source": [
    "ud_test.groupby(['relation','path'])['id'].count().unstack(fill_value=0).T\n",
    "ud_test_stats = ud_test.groupby(['relation','path'])['id'].count().reset_index()\n",
    "ud_test_stats = ud_test_stats.rename(columns={'id': 'count'}).sort_values(['relation','count'], ascending=[True,False]).reset_index(drop=True)"
   ]
  },
  {
   "cell_type": "code",
   "execution_count": 3,
   "metadata": {},
   "outputs": [],
   "source": [
    "ud_train.groupby(['relation','path'])['id'].count().unstack(fill_value=0).T\n",
    "ud_train_stats = ud_train.groupby(['relation','path'])['id'].count().reset_index()\n",
    "ud_train_stats = ud_train_stats.rename(columns={'id': 'count'}).sort_values(['relation','count'], ascending=[True,False]).reset_index(drop=True)"
   ]
  },
  {
   "cell_type": "code",
   "execution_count": 4,
   "metadata": {},
   "outputs": [],
   "source": [
    "def label_count_in_train(ud_test_stat):\n",
    "    relation = ud_test_stat['relation']\n",
    "    path = ud_test_stat['path']\n",
    "\n",
    "    ud_train_stat = ud_train_stats.loc[(ud_train_stats['relation'] == relation) & (ud_train_stats['path'] == path)]\n",
    "    if ud_train_stat.empty:\n",
    "        return 0\n",
    "    else:\n",
    "        compare  = ud_train_stat.values[0][2]\n",
    "        return compare\n",
    "        \n",
    "    \n",
    "ud_test_stats['count-in-train'] = ud_test_stats.apply(lambda ud_test_stat : label_count_in_train(ud_test_stat), axis=1)\n",
    "ud_test_stats.to_csv('./ud_hits.csv')"
   ]
  },
  {
   "cell_type": "code",
   "execution_count": 16,
   "metadata": {},
   "outputs": [],
   "source": [
    "def label_count_in_train_across_relations(ud_test_stat):\n",
    "    path = ud_test_stat['path']\n",
    "\n",
    "    ud_train_stat = ud_train_stats.loc[ud_train_stats['path'] == path]\n",
    "    if ud_train_stat.empty:\n",
    "        return 0\n",
    "    else:\n",
    "        compare  = ud_train_stat.values[0][2]\n",
    "        return compare\n",
    "\n",
    "def label_count_in_train(ud_test_stat):\n",
    "    relation = ud_test_stat['relation']\n",
    "    path = ud_test_stat['path']\n",
    "\n",
    "    ud_train_stat = ud_train_stats.loc[(ud_train_stats['relation'] == relation) & (ud_train_stats['path'] == path)]\n",
    "    if ud_train_stat.empty:\n",
    "        return 0\n",
    "    else:\n",
    "        compare  = ud_train_stat.values[0][2]\n",
    "        return compare\n",
    "\n",
    "ud_test_stats['count-in-train'] = ud_test_stats.apply(lambda ud_test_stat : label_count_in_train(ud_test_stat), axis=1)\n",
    "ud_test_stats['count-in-train-across-all'] = ud_test_stats.apply(lambda ud_test_stat : label_count_in_train_across_relations(ud_test_stat), axis=1)\n",
    "ud_test_stats.to_csv('./ud_hits_across_relations.csv')"
   ]
  },
  {
   "cell_type": "code",
   "execution_count": 5,
   "metadata": {},
   "outputs": [],
   "source": [
    "ucca_train = pandas.read_csv(r'C:\\Users\\jyellin\\re_1\\Code\\path_to_re\\train-ucca_paths_per_relation.csv')\n",
    "ucca_test = pandas.read_csv(r'C:\\Users\\jyellin\\re_1\\Code\\path_to_re\\test-ucca_paths_per_relation.csv')"
   ]
  },
  {
   "cell_type": "code",
   "execution_count": 6,
   "metadata": {},
   "outputs": [],
   "source": [
    "ucca_test.groupby(['relation','path'])['id'].count().unstack(fill_value=0).T\n",
    "ucca_test_stats = ucca_test.groupby(['relation','path'])['id'].count().reset_index()\n",
    "ucca_test_stats = ucca_test_stats.rename(columns={'id': 'count'}).sort_values(['relation','count'], ascending=[True,False]).reset_index(drop=True)"
   ]
  },
  {
   "cell_type": "code",
   "execution_count": 7,
   "metadata": {},
   "outputs": [],
   "source": [
    "ucca_train.groupby(['relation','path'])['id'].count().unstack(fill_value=0).T\n",
    "ucca_train_stats = ucca_train.groupby(['relation','path'])['id'].count().reset_index()\n",
    "ucca_train_stats = ucca_train_stats.rename(columns={'id': 'count'}).sort_values(['relation','count'], ascending=[True,False]).reset_index(drop=True)"
   ]
  },
  {
   "cell_type": "code",
   "execution_count": 17,
   "metadata": {},
   "outputs": [],
   "source": [
    "def label_count_in_train_across_relations(ucca_test_stat):\n",
    "    path = ucca_test_stat['path']\n",
    "\n",
    "    ucca_train_stat = ucca_train_stats.loc[ucca_train_stats['path'] == path]\n",
    "    if ucca_train_stat.empty:\n",
    "        return 0\n",
    "    else:\n",
    "        compare  = ucca_train_stat.values[0][2]\n",
    "        return compare\n",
    "    \n",
    "def label_count_in_train(ucca_test_stat):\n",
    "    relation = ucca_test_stat['relation']\n",
    "    path = ucca_test_stat['path']\n",
    "\n",
    "    ucca_train_stat = ucca_train_stats.loc[(ucca_train_stats['relation'] == relation) & (ucca_train_stats['path'] == path)]\n",
    "    if ucca_train_stat.empty:\n",
    "        return 0\n",
    "    else:\n",
    "        compare  = ucca_train_stat.values[0][2]\n",
    "        return compare\n",
    "        \n",
    "    \n",
    "ucca_test_stats['count-in-train'] = ucca_test_stats.apply(lambda ucca_test_stat : label_count_in_train(ucca_test_stat), axis=1)\n",
    "ucca_test_stats['count-in-train-across-all'] = ucca_test_stats.apply(lambda ucca_test_stat : label_count_in_train_across_relations(ucca_test_stat), axis=1)\n",
    "ucca_test_stats.to_csv('./ucca_hits_across_relations.csv')"
   ]
  },
  {
   "cell_type": "code",
   "execution_count": null,
   "metadata": {},
   "outputs": [],
   "source": [
    "def label_count_in_train(ucca_test_stat):\n",
    "    relation = ucca_test_stat['relation']\n",
    "    path = ucca_test_stat['path']\n",
    "\n",
    "    ucca_train_stat = ucca_train_stats.loc[(ucca_train_stats['relation'] == relation) & (ucca_train_stats['path'] == path)]\n",
    "    if ucca_train_stat.empty:\n",
    "        return 0\n",
    "    else:\n",
    "        compare  = ucca_train_stat.values[0][2]\n",
    "        return compare\n",
    "        \n",
    "    \n",
    "ucca_test_stats['count-in-train'] = ucca_test_stats.apply(lambda ucca_test_stat : label_count_in_train(ucca_test_stat), axis=1)\n",
    "ucca_test_stats.to_csv('./ucca_hits.csv')"
   ]
  },
  {
   "cell_type": "code",
   "execution_count": 9,
   "metadata": {},
   "outputs": [
    {
     "name": "stdout",
     "output_type": "stream",
     "text": [
      "/c/Users/jyellin/re_1/Code/path_to_re/path_to_re/notebooks\n"
     ]
    }
   ],
   "source": [
    "!pwd"
   ]
  },
  {
   "cell_type": "code",
   "execution_count": null,
   "metadata": {},
   "outputs": [],
   "source": []
  }
 ],
 "metadata": {
  "kernelspec": {
   "display_name": "Python 3",
   "language": "python",
   "name": "python3"
  },
  "language_info": {
   "codemirror_mode": {
    "name": "ipython",
    "version": 3
   },
   "file_extension": ".py",
   "mimetype": "text/x-python",
   "name": "python",
   "nbconvert_exporter": "python",
   "pygments_lexer": "ipython3",
   "version": "3.7.4"
  }
 },
 "nbformat": 4,
 "nbformat_minor": 2
}
