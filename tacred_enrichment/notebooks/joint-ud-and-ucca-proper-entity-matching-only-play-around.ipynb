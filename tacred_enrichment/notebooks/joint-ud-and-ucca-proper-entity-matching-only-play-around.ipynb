{
 "cells": [
  {
   "cell_type": "code",
   "execution_count": 1,
   "metadata": {},
   "outputs": [
    {
     "data": {
      "text/html": [
       "        <script type=\"text/javascript\">\n",
       "        window.PlotlyConfig = {MathJaxConfig: 'local'};\n",
       "        if (window.MathJax) {MathJax.Hub.Config({SVG: {font: \"STIX-Web\"}});}\n",
       "        if (typeof require !== 'undefined') {\n",
       "        require.undef(\"plotly\");\n",
       "        requirejs.config({\n",
       "            paths: {\n",
       "                'plotly': ['https://cdn.plot.ly/plotly-latest.min']\n",
       "            }\n",
       "        });\n",
       "        require(['plotly'], function(Plotly) {\n",
       "            window._Plotly = Plotly;\n",
       "        });\n",
       "        }\n",
       "        </script>\n",
       "        "
      ]
     },
     "metadata": {},
     "output_type": "display_data"
    }
   ],
   "source": [
    "from plotly.offline import download_plotlyjs, init_notebook_mode, plot, iplot\n",
    "init_notebook_mode(connected=True)"
   ]
  },
  {
   "cell_type": "code",
   "execution_count": 2,
   "metadata": {},
   "outputs": [],
   "source": [
    "import pandas\n",
    "\n",
    "train_ud = pandas.read_csv(r'C:\\Users\\JYellin\\re_1\\tacred\\results\\general\\train-ud_paths_v0.0.5.csv').set_index(['id'])\n",
    "test_ud = pandas.read_csv(r'C:\\Users\\JYellin\\re_1\\tacred\\results\\general\\test-ud_paths_v0.0.5.csv').set_index(['id'])\n",
    "\n",
    "train_ucca = pandas.read_csv(r'C:\\Users\\JYellin\\re_1\\tacred\\results\\general\\train-ucca_paths_v0.0.5.csv').set_index(['id'])\n",
    "test_ucca = pandas.read_csv(r'C:\\Users\\JYellin\\re_1\\tacred\\results\\general\\test-ucca_paths_v0.0.5.csv').set_index(['id'])"
   ]
  },
  {
   "cell_type": "code",
   "execution_count": 3,
   "metadata": {},
   "outputs": [],
   "source": [
    "train_ner = pandas.read_csv(r'C:\\Users\\JYellin\\re_1\\tacred\\results\\general\\train-ud_paths_with_ner_v0.0.6.csv').set_index(['id'])\n",
    "test_ner = pandas.read_csv(r'C:\\Users\\JYellin\\re_1\\tacred\\results\\general\\test-ud_paths_with_ner_v0.0.6.csv').set_index(['id'])\n",
    "\n",
    "train_ids_with_proper_ner = train_ner[(train_ner['type1']==train_ner['type1_corenlp']) & (train_ner['type2']==train_ner['type2_corenlp'])].drop(['docid', 'tokens', 'relation', 'path', 'lemmas_on_path', 'type1', 'type2', 'ent1_head', 'ent2_head', 'type1_corenlp', 'type2_corenlp'], axis=1)\n",
    "test_ids_with_proper_ner = test_ner[(test_ner['type1']==test_ner['type1_corenlp']) & (test_ner['type2']==test_ner['type2_corenlp'])].drop(['docid', 'tokens', 'relation', 'path', 'lemmas_on_path', 'type1', 'type2', 'ent1_head', 'ent2_head', 'type1_corenlp', 'type2_corenlp'], axis=1)"
   ]
  },
  {
   "cell_type": "code",
   "execution_count": 4,
   "metadata": {},
   "outputs": [
    {
     "name": "stdout",
     "output_type": "stream",
     "text": [
      "train_ids_with_proper_ner size: 56648\n",
      "train_ner size: 68049\n",
      "train_ud size: 68049\n",
      "train_ucca size: 67617\n"
     ]
    }
   ],
   "source": [
    "print('train_ids_with_proper_ner size:', train_ids_with_proper_ner.shape[0])\n",
    "print('train_ner size:', train_ner.shape[0])\n",
    "print('train_ud size:', train_ud.shape[0])\n",
    "print('train_ucca size:', train_ucca.shape[0])\n"
   ]
  },
  {
   "cell_type": "code",
   "execution_count": 5,
   "metadata": {},
   "outputs": [],
   "source": [
    "train_ucca = train_ids_with_proper_ner.join(train_ucca).dropna(axis=0).reset_index()\n",
    "test_ucca = test_ids_with_proper_ner.join(test_ucca).dropna(axis=0).reset_index()\n",
    "\n",
    "\n",
    "train_ud = train_ids_with_proper_ner.join(train_ud).reset_index()\n",
    "test_ud = test_ids_with_proper_ner.join(test_ud).reset_index()\n"
   ]
  },
  {
   "cell_type": "code",
   "execution_count": 6,
   "metadata": {},
   "outputs": [],
   "source": [
    "def transform_row(r):\n",
    "    return '{entity1} {org_path} {entity2}'.format(entity1=r.type1[0:3], org_path=r.path, entity2=r.type2[0:3])\n",
    "\n",
    "train_ud['path'] = train_ud.apply(transform_row, axis=1)\n",
    "test_ud['path'] = test_ud.apply(transform_row, axis=1)\n",
    "\n",
    "train_ucca['path'] = train_ucca.apply(transform_row, axis=1)\n",
    "test_ucca['path'] = test_ucca.apply(transform_row, axis=1)"
   ]
  },
  {
   "cell_type": "code",
   "execution_count": 7,
   "metadata": {},
   "outputs": [],
   "source": [
    "train_ud = train_ud.rename(columns={'path' : 'ud_path'})\n",
    "test_ud = test_ud.rename(columns={'path' : 'ud_path'})\n",
    "\n",
    "train_ucca = train_ucca.rename(columns={'path' : 'ucca_path'})\n",
    "test_ucca = test_ucca.rename(columns={'path' : 'ucca_path'})"
   ]
  },
  {
   "cell_type": "code",
   "execution_count": 8,
   "metadata": {},
   "outputs": [],
   "source": [
    "test = pandas.merge(test_ud, test_ucca[['id', 'ucca_path']], on='id').dropna()"
   ]
  },
  {
   "cell_type": "code",
   "execution_count": 9,
   "metadata": {},
   "outputs": [],
   "source": [
    "relation_to_paths_ud = train_ud.groupby(['relation'])['ud_path'].unique().to_dict()\n",
    "relation_to_paths_ucca = train_ucca.groupby(['relation'])['ucca_path'].unique().to_dict()"
   ]
  },
  {
   "cell_type": "code",
   "execution_count": 10,
   "metadata": {},
   "outputs": [],
   "source": [
    "def label_sentence_recall(test_row, relation):\n",
    "    \n",
    "    ud_path = test_row['ud_path']\n",
    "    ucca_path = test_row['ucca_path']\n",
    "    true_relation = test_row['relation']\n",
    "    \n",
    "    #if ud_path in relation_to_paths_ud[relation] or ucca_path in relation_to_paths_ucca[relation]:\n",
    "    if ud_path in relation_to_paths_ud[relation]:\n",
    "        if true_relation == relation:\n",
    "            return 'TP'\n",
    "        \n",
    "        # the next two lines are artificial and should be removed\n",
    "        # they are designed to remove the affect of all 'no_relation' sentences\n",
    "        #elif true_relation == 'no_relation':\n",
    "        #    return 'N'\n",
    "        \n",
    "        \n",
    "        else:\n",
    "            return 'FP'\n",
    "    else:\n",
    "        return 'N'"
   ]
  },
  {
   "cell_type": "code",
   "execution_count": 11,
   "metadata": {},
   "outputs": [],
   "source": [
    "for relation in filter(lambda relation: relation != 'no_relation', relation_to_paths_ud.keys()):\n",
    "    test[relation] = test.apply(lambda row : label_sentence_recall(row, relation), axis=1)    "
   ]
  },
  {
   "cell_type": "code",
   "execution_count": 12,
   "metadata": {},
   "outputs": [],
   "source": [
    "def get_adjusted_recall(test_row):\n",
    "    \n",
    "    true_relation = test_row['relation']\n",
    "    fps = 0\n",
    "    tps = 0\n",
    "    for relation in filter(lambda relation: relation != 'no_relation', relation_to_paths_ud.keys()):\n",
    "        if test_row[relation] == 'FP':\n",
    "            fps += 1\n",
    "        elif test_row[relation] == 'TP':\n",
    "            tps = 1\n",
    "            \n",
    "    if (tps+fps) > 0:\n",
    "        adjusted_recall = tps / (tps+fps)\n",
    "    else:\n",
    "        adjusted_recall = 0\n",
    "    \n",
    "    \n",
    "    return adjusted_recall"
   ]
  },
  {
   "cell_type": "code",
   "execution_count": 13,
   "metadata": {},
   "outputs": [],
   "source": [
    "test['adjusted_recall'] = test.apply(lambda row: get_adjusted_recall(row), axis=1 )"
   ]
  },
  {
   "cell_type": "code",
   "execution_count": 14,
   "metadata": {
    "scrolled": true
   },
   "outputs": [],
   "source": [
    "stats = []\n",
    "\n",
    "overall_matched = 0\n",
    "overall_total = 0\n",
    "\n",
    "for relation in filter(lambda relation: relation != 'no_relation', relation_to_paths_ud.keys()):\n",
    "    df = test[test['relation']==relation]\n",
    "\n",
    "    matched = df['adjusted_recall'].sum()\n",
    "    total = df.shape[0]\n",
    "    \n",
    "    overall_matched += matched\n",
    "    overall_total += total\n",
    "    \n",
    "    stats.append( ('{} ({})'.format(relation,total), round(matched/total,4)) )\n",
    "\n",
    "stats.append( ('overall', round(overall_matched/overall_total,4)) )\n",
    "\n",
    "stats = sorted(stats, key=lambda x: x[1], reverse=True)"
   ]
  },
  {
   "cell_type": "code",
   "execution_count": 15,
   "metadata": {},
   "outputs": [
    {
     "data": {
      "application/vnd.plotly.v1+json": {
       "config": {
        "linkText": "Export to plot.ly",
        "plotlyServerURL": "https://plot.ly",
        "showLink": false
       },
       "data": [
        {
         "marker": {
          "color": [
           "rgb(58,200,225)",
           "rgb(58,200,225)",
           "rgb(58,200,225)",
           "rgb(58,200,225)",
           "rgb(58,200,225)",
           "rgb(58,200,225)",
           "rgb(58,200,225)",
           "rgb(58,200,225)",
           "rgb(181,59,89)",
           "rgb(58,200,225)",
           "rgb(58,200,225)",
           "rgb(58,200,225)",
           "rgb(58,200,225)",
           "rgb(58,200,225)",
           "rgb(58,200,225)",
           "rgb(58,200,225)",
           "rgb(58,200,225)",
           "rgb(58,200,225)",
           "rgb(58,200,225)",
           "rgb(58,200,225)",
           "rgb(58,200,225)",
           "rgb(58,200,225)",
           "rgb(58,200,225)",
           "rgb(58,200,225)",
           "rgb(58,200,225)",
           "rgb(58,200,225)",
           "rgb(58,200,225)",
           "rgb(58,200,225)",
           "rgb(58,200,225)",
           "rgb(58,200,225)",
           "rgb(58,200,225)",
           "rgb(58,200,225)",
           "rgb(58,200,225)",
           "rgb(58,200,225)",
           "rgb(58,200,225)",
           "rgb(58,200,225)",
           "rgb(58,200,225)",
           "rgb(58,200,225)",
           "rgb(58,200,225)",
           "rgb(58,200,225)",
           "rgb(58,200,225)",
           "rgb(58,200,225)"
          ],
          "line": {
           "color": "rgb(8,48,107)",
           "width": 0.5
          }
         },
         "name": "Precision",
         "opacity": 0.6,
         "type": "bar",
         "uid": "4180db45-7b58-4c37-b3d1-8b9d1c170ae3",
         "width": 0.5,
         "x": [
          "org:top_members/employees (299)",
          "per:age (148)",
          "per:title (424)",
          "org:website (10)",
          "per:date_of_birth (8)",
          "org:alternate_names (126)",
          "org:founded (21)",
          "per:origin (101)",
          "overall",
          "org:political/religious_affiliation (7)",
          "org:number_of_employees/members (11)",
          "org:city_of_headquarters (49)",
          "per:employee_of (191)",
          "per:schools_attended (27)",
          "per:stateorprovince_of_birth (5)",
          "org:country_of_headquarters (84)",
          "per:children (35)",
          "per:city_of_birth (2)",
          "per:cities_of_residence (157)",
          "org:subsidiaries (32)",
          "per:parents (78)",
          "org:stateorprovince_of_headquarters (35)",
          "org:founded_by (54)",
          "per:spouse (59)",
          "per:countries_of_residence (132)",
          "per:stateorprovinces_of_residence (59)",
          "per:siblings (52)",
          "per:other_family (55)",
          "per:charges (64)",
          "per:date_of_death (48)",
          "org:parents (50)",
          "per:city_of_death (21)",
          "per:cause_of_death (25)",
          "org:members (18)",
          "org:dissolved (1)",
          "org:member_of (11)",
          "org:shareholders (9)",
          "per:alternate_names (10)",
          "per:country_of_birth (5)",
          "per:country_of_death (9)",
          "per:religion (33)",
          "per:stateorprovince_of_death (7)"
         ],
         "y": [
          0.6042,
          0.5878,
          0.5637,
          0.5,
          0.4375,
          0.4167,
          0.381,
          0.3119,
          0.3103,
          0.2857,
          0.2727,
          0.2653,
          0.2513,
          0.2222,
          0.2,
          0.1905,
          0.189,
          0.1667,
          0.1635,
          0.125,
          0.1246,
          0.1143,
          0.1142,
          0.1042,
          0.1004,
          0.0932,
          0.0862,
          0.0721,
          0.0625,
          0.0625,
          0.05,
          0.0476,
          0.04,
          0.0278,
          0,
          0,
          0,
          0,
          0,
          0,
          0,
          0
         ]
        }
       ],
       "layout": {
        "barmode": "overlay",
        "title": {
         "text": "UD + UCCA Path - Recal (Playing)"
        },
        "width": 1200,
        "xaxis": {
         "automargin": true,
         "tickangle": 45,
         "title": {
          "text": "Relation"
         }
        },
        "yaxis": {
         "title": {
          "text": "Precision"
         }
        }
       }
      },
      "text/html": [
       "<div>\n",
       "        \n",
       "        \n",
       "            <div id=\"0ca0b162-a5d0-425b-b66d-cd6f92744009\" class=\"plotly-graph-div\" style=\"height:525px; width:1200px;\"></div>\n",
       "            <script type=\"text/javascript\">\n",
       "                require([\"plotly\"], function(Plotly) {\n",
       "                    window.PLOTLYENV=window.PLOTLYENV || {};\n",
       "                    window.PLOTLYENV.BASE_URL='https://plot.ly';\n",
       "                    \n",
       "                if (document.getElementById(\"0ca0b162-a5d0-425b-b66d-cd6f92744009\")) {\n",
       "                    Plotly.newPlot(\n",
       "                        '0ca0b162-a5d0-425b-b66d-cd6f92744009',\n",
       "                        [{\"marker\": {\"color\": [\"rgb(58,200,225)\", \"rgb(58,200,225)\", \"rgb(58,200,225)\", \"rgb(58,200,225)\", \"rgb(58,200,225)\", \"rgb(58,200,225)\", \"rgb(58,200,225)\", \"rgb(58,200,225)\", \"rgb(181,59,89)\", \"rgb(58,200,225)\", \"rgb(58,200,225)\", \"rgb(58,200,225)\", \"rgb(58,200,225)\", \"rgb(58,200,225)\", \"rgb(58,200,225)\", \"rgb(58,200,225)\", \"rgb(58,200,225)\", \"rgb(58,200,225)\", \"rgb(58,200,225)\", \"rgb(58,200,225)\", \"rgb(58,200,225)\", \"rgb(58,200,225)\", \"rgb(58,200,225)\", \"rgb(58,200,225)\", \"rgb(58,200,225)\", \"rgb(58,200,225)\", \"rgb(58,200,225)\", \"rgb(58,200,225)\", \"rgb(58,200,225)\", \"rgb(58,200,225)\", \"rgb(58,200,225)\", \"rgb(58,200,225)\", \"rgb(58,200,225)\", \"rgb(58,200,225)\", \"rgb(58,200,225)\", \"rgb(58,200,225)\", \"rgb(58,200,225)\", \"rgb(58,200,225)\", \"rgb(58,200,225)\", \"rgb(58,200,225)\", \"rgb(58,200,225)\", \"rgb(58,200,225)\"], \"line\": {\"color\": \"rgb(8,48,107)\", \"width\": 0.5}}, \"name\": \"Precision\", \"opacity\": 0.6, \"type\": \"bar\", \"uid\": \"4180db45-7b58-4c37-b3d1-8b9d1c170ae3\", \"width\": 0.5, \"x\": [\"org:top_members/employees (299)\", \"per:age (148)\", \"per:title (424)\", \"org:website (10)\", \"per:date_of_birth (8)\", \"org:alternate_names (126)\", \"org:founded (21)\", \"per:origin (101)\", \"overall\", \"org:political/religious_affiliation (7)\", \"org:number_of_employees/members (11)\", \"org:city_of_headquarters (49)\", \"per:employee_of (191)\", \"per:schools_attended (27)\", \"per:stateorprovince_of_birth (5)\", \"org:country_of_headquarters (84)\", \"per:children (35)\", \"per:city_of_birth (2)\", \"per:cities_of_residence (157)\", \"org:subsidiaries (32)\", \"per:parents (78)\", \"org:stateorprovince_of_headquarters (35)\", \"org:founded_by (54)\", \"per:spouse (59)\", \"per:countries_of_residence (132)\", \"per:stateorprovinces_of_residence (59)\", \"per:siblings (52)\", \"per:other_family (55)\", \"per:charges (64)\", \"per:date_of_death (48)\", \"org:parents (50)\", \"per:city_of_death (21)\", \"per:cause_of_death (25)\", \"org:members (18)\", \"org:dissolved (1)\", \"org:member_of (11)\", \"org:shareholders (9)\", \"per:alternate_names (10)\", \"per:country_of_birth (5)\", \"per:country_of_death (9)\", \"per:religion (33)\", \"per:stateorprovince_of_death (7)\"], \"y\": [0.6042, 0.5878, 0.5637, 0.5, 0.4375, 0.4167, 0.381, 0.3119, 0.3103, 0.2857, 0.2727, 0.2653, 0.2513, 0.2222, 0.2, 0.1905, 0.189, 0.1667, 0.1635, 0.125, 0.1246, 0.1143, 0.1142, 0.1042, 0.1004, 0.0932, 0.0862, 0.0721, 0.0625, 0.0625, 0.05, 0.0476, 0.04, 0.0278, 0.0, 0.0, 0.0, 0.0, 0.0, 0.0, 0.0, 0.0]}],\n",
       "                        {\"barmode\": \"overlay\", \"title\": {\"text\": \"UD + UCCA Path - Recal (Playing)\"}, \"width\": 1200, \"xaxis\": {\"automargin\": true, \"tickangle\": 45, \"title\": {\"text\": \"Relation\"}}, \"yaxis\": {\"title\": {\"text\": \"Precision\"}}},\n",
       "                        {\"showLink\": false, \"linkText\": \"Export to plot.ly\", \"plotlyServerURL\": \"https://plot.ly\", \"responsive\": true}\n",
       "                    ).then(function(){\n",
       "                            \n",
       "var gd = document.getElementById('0ca0b162-a5d0-425b-b66d-cd6f92744009');\n",
       "var x = new MutationObserver(function (mutations, observer) {{\n",
       "        var display = window.getComputedStyle(gd).display;\n",
       "        if (!display || display === 'none') {{\n",
       "            console.log([gd, 'removed!']);\n",
       "            Plotly.purge(gd);\n",
       "            observer.disconnect();\n",
       "        }}\n",
       "}});\n",
       "\n",
       "// Listen for the removal of the full notebook cells\n",
       "var notebookContainer = gd.closest('#notebook-container');\n",
       "if (notebookContainer) {{\n",
       "    x.observe(notebookContainer, {childList: true});\n",
       "}}\n",
       "\n",
       "// Listen for the clearing of the current output cell\n",
       "var outputEl = gd.closest('.output');\n",
       "if (outputEl) {{\n",
       "    x.observe(outputEl, {childList: true});\n",
       "}}\n",
       "\n",
       "                        })\n",
       "                };\n",
       "                });\n",
       "            </script>\n",
       "        </div>"
      ]
     },
     "metadata": {},
     "output_type": "display_data"
    }
   ],
   "source": [
    "import plotly.graph_objs as go\n",
    "\n",
    "overall_index = next(i for (i, (relation, score)) in enumerate(stats) if relation == 'overall')\n",
    "\n",
    "colors = ['rgb(58,200,225)'] * len(stats)\n",
    "colors[overall_index] = 'rgb(181,59,89)'\n",
    "\n",
    "\n",
    "trace1 = go.Bar(\n",
    "    x=[stat[0] for stat in stats],\n",
    "    y=[stat[1] for stat in stats],\n",
    "    name='Precision',\n",
    "    width=0.5,\n",
    "    marker=dict(\n",
    "        color=colors,\n",
    "        line=dict(\n",
    "            color='rgb(8,48,107)',\n",
    "            width=0.5),\n",
    "        ),\n",
    "    opacity=0.6\n",
    ")\n",
    "\n",
    "data = [trace1]\n",
    "layout = go.Layout(\n",
    "    title='UD + UCCA Path - Recal (Playing)',\n",
    "    xaxis_title=\"Relation\",\n",
    "    yaxis_title=\"Precision\",        \n",
    "    barmode='overlay',\n",
    "    width=1200,\n",
    "    xaxis = go.layout.XAxis(\n",
    "        tickangle = 45,\n",
    "        automargin = True\n",
    "        \n",
    "    )\n",
    "    \n",
    "        \n",
    ")\n",
    "\n",
    "fig = go.Figure(data=data, layout=layout)\n",
    "iplot(fig)"
   ]
  },
  {
   "cell_type": "code",
   "execution_count": 16,
   "metadata": {},
   "outputs": [],
   "source": [
    "def get_precision_contribution(test_row):\n",
    "    \n",
    "    matched = 0\n",
    "\n",
    "    for relation in filter(lambda relation: relation != 'no_relation', relation_to_paths_ud.keys()):\n",
    "        if test_row[relation] in ['FP', 'TP']:\n",
    "            matched += 1\n",
    "\n",
    "    if matched > 0:\n",
    "        return 1/matched\n",
    "    else:\n",
    "        return 0"
   ]
  },
  {
   "cell_type": "code",
   "execution_count": 17,
   "metadata": {},
   "outputs": [],
   "source": [
    "test['precision_contribution'] = test.apply(lambda row: get_precision_contribution(row), axis=1 )"
   ]
  },
  {
   "cell_type": "code",
   "execution_count": 18,
   "metadata": {},
   "outputs": [
    {
     "name": "stderr",
     "output_type": "stream",
     "text": [
      "c:\\users\\jyellin\\anaconda3\\envs\\msc_3\\lib\\site-packages\\ipykernel_launcher.py:10: RuntimeWarning:\n",
      "\n",
      "invalid value encountered in double_scalars\n",
      "\n"
     ]
    }
   ],
   "source": [
    "stats = []\n",
    "overall_tp = 0\n",
    "overall_fp = 0\n",
    "\n",
    "for relation in filter(lambda relation: relation != 'no_relation', relation_to_paths_ud.keys()):\n",
    "\n",
    "    tp_contribution = test[test[relation]=='TP']['precision_contribution'].sum()\n",
    "    fp_contribution = test[test[relation]=='FP']['precision_contribution'].sum()\n",
    "    \n",
    "    precision = tp_contribution / (tp_contribution+fp_contribution)\n",
    "    \n",
    "    #print('{}: total ={}, tp = {}, fp = {}'.format(relation, num_examples, tp, fp))\n",
    "\n",
    "    stats.append( ( '{}'.format(relation), round(precision,4)) )\n",
    "    \n",
    "    overall_tp += tp_contribution\n",
    "    overall_fp += fp_contribution\n",
    "\n",
    "\n",
    "\n",
    "\n",
    "overall_precision = overall_tp / (overall_tp+overall_fp)\n",
    "stats.append( ('overall', round(overall_precision,4)) )\n",
    "stats = sorted(stats, key=lambda x: x[1], reverse=True)\n",
    "\n"
   ]
  },
  {
   "cell_type": "code",
   "execution_count": 19,
   "metadata": {},
   "outputs": [
    {
     "data": {
      "application/vnd.plotly.v1+json": {
       "config": {
        "linkText": "Export to plot.ly",
        "plotlyServerURL": "https://plot.ly",
        "showLink": false
       },
       "data": [
        {
         "marker": {
          "color": [
           "rgb(58,200,225)",
           "rgb(58,200,225)",
           "rgb(58,200,225)",
           "rgb(58,200,225)",
           "rgb(58,200,225)",
           "rgb(58,200,225)",
           "rgb(58,200,225)",
           "rgb(58,200,225)",
           "rgb(58,200,225)",
           "rgb(58,200,225)",
           "rgb(58,200,225)",
           "rgb(58,200,225)",
           "rgb(58,200,225)",
           "rgb(58,200,225)",
           "rgb(58,200,225)",
           "rgb(58,200,225)",
           "rgb(58,200,225)",
           "rgb(58,200,225)",
           "rgb(181,59,89)",
           "rgb(58,200,225)",
           "rgb(58,200,225)",
           "rgb(58,200,225)",
           "rgb(58,200,225)",
           "rgb(58,200,225)",
           "rgb(58,200,225)",
           "rgb(58,200,225)",
           "rgb(58,200,225)",
           "rgb(58,200,225)",
           "rgb(58,200,225)",
           "rgb(58,200,225)",
           "rgb(58,200,225)",
           "rgb(58,200,225)",
           "rgb(58,200,225)",
           "rgb(58,200,225)",
           "rgb(58,200,225)",
           "rgb(58,200,225)",
           "rgb(58,200,225)",
           "rgb(58,200,225)",
           "rgb(58,200,225)",
           "rgb(58,200,225)",
           "rgb(58,200,225)",
           "rgb(58,200,225)"
          ],
          "line": {
           "color": "rgb(8,48,107)",
           "width": 0.5
          }
         },
         "name": "Precision",
         "opacity": 0.6,
         "type": "bar",
         "uid": "60fb0c6c-c3bd-4ae5-b884-f0864fd930d1",
         "width": 0.5,
         "x": [
          "per:cause_of_death",
          "per:charges",
          "org:website",
          "per:age",
          "org:country_of_headquarters",
          "per:religion",
          "per:title",
          "per:stateorprovinces_of_residence",
          "per:origin",
          "org:city_of_headquarters",
          "org:top_members/employees",
          "org:alternate_names",
          "per:cities_of_residence",
          "org:number_of_employees/members",
          "per:employee_of",
          "org:stateorprovince_of_headquarters",
          "org:founded",
          "per:countries_of_residence",
          "overall",
          "per:schools_attended",
          "per:stateorprovince_of_birth",
          "per:city_of_death",
          "org:founded_by",
          "per:city_of_birth",
          "per:parents",
          "per:date_of_birth",
          "org:political/religious_affiliation",
          "org:subsidiaries",
          "org:parents",
          "per:date_of_death",
          "per:children",
          "per:siblings",
          "per:spouse",
          "per:other_family",
          "org:members",
          "org:dissolved",
          "org:member_of",
          "org:shareholders",
          "per:alternate_names",
          "per:country_of_birth",
          "per:country_of_death",
          "per:stateorprovince_of_death"
         ],
         "y": [
          1,
          1,
          0.8333,
          0.8131,
          0.6957,
          null,
          0.802,
          0.66,
          0.6597,
          0.65,
          0.5979,
          0.5899,
          0.5662,
          0.5,
          0.455,
          0.4,
          0.381,
          0.3655,
          0.3596,
          0.2353,
          0.1875,
          0.1579,
          0.1555,
          0.1429,
          0.1395,
          0.1321,
          0.125,
          0.0833,
          0.0824,
          0.0594,
          0.0517,
          0.0334,
          0.0251,
          0.0223,
          0.0189,
          0,
          0,
          0,
          0,
          0,
          0,
          0
         ]
        }
       ],
       "layout": {
        "barmode": "overlay",
        "title": {
         "text": "UD + UCCA Path - Precision (Play)"
        },
        "width": 1200,
        "xaxis": {
         "automargin": true,
         "tickangle": 45,
         "title": {
          "text": "Relation"
         }
        },
        "yaxis": {
         "title": {
          "text": "Precision"
         }
        }
       }
      },
      "text/html": [
       "<div>\n",
       "        \n",
       "        \n",
       "            <div id=\"bef88796-f096-471e-bac1-d46deb1593f7\" class=\"plotly-graph-div\" style=\"height:525px; width:1200px;\"></div>\n",
       "            <script type=\"text/javascript\">\n",
       "                require([\"plotly\"], function(Plotly) {\n",
       "                    window.PLOTLYENV=window.PLOTLYENV || {};\n",
       "                    window.PLOTLYENV.BASE_URL='https://plot.ly';\n",
       "                    \n",
       "                if (document.getElementById(\"bef88796-f096-471e-bac1-d46deb1593f7\")) {\n",
       "                    Plotly.newPlot(\n",
       "                        'bef88796-f096-471e-bac1-d46deb1593f7',\n",
       "                        [{\"marker\": {\"color\": [\"rgb(58,200,225)\", \"rgb(58,200,225)\", \"rgb(58,200,225)\", \"rgb(58,200,225)\", \"rgb(58,200,225)\", \"rgb(58,200,225)\", \"rgb(58,200,225)\", \"rgb(58,200,225)\", \"rgb(58,200,225)\", \"rgb(58,200,225)\", \"rgb(58,200,225)\", \"rgb(58,200,225)\", \"rgb(58,200,225)\", \"rgb(58,200,225)\", \"rgb(58,200,225)\", \"rgb(58,200,225)\", \"rgb(58,200,225)\", \"rgb(58,200,225)\", \"rgb(181,59,89)\", \"rgb(58,200,225)\", \"rgb(58,200,225)\", \"rgb(58,200,225)\", \"rgb(58,200,225)\", \"rgb(58,200,225)\", \"rgb(58,200,225)\", \"rgb(58,200,225)\", \"rgb(58,200,225)\", \"rgb(58,200,225)\", \"rgb(58,200,225)\", \"rgb(58,200,225)\", \"rgb(58,200,225)\", \"rgb(58,200,225)\", \"rgb(58,200,225)\", \"rgb(58,200,225)\", \"rgb(58,200,225)\", \"rgb(58,200,225)\", \"rgb(58,200,225)\", \"rgb(58,200,225)\", \"rgb(58,200,225)\", \"rgb(58,200,225)\", \"rgb(58,200,225)\", \"rgb(58,200,225)\"], \"line\": {\"color\": \"rgb(8,48,107)\", \"width\": 0.5}}, \"name\": \"Precision\", \"opacity\": 0.6, \"type\": \"bar\", \"uid\": \"60fb0c6c-c3bd-4ae5-b884-f0864fd930d1\", \"width\": 0.5, \"x\": [\"per:cause_of_death\", \"per:charges\", \"org:website\", \"per:age\", \"org:country_of_headquarters\", \"per:religion\", \"per:title\", \"per:stateorprovinces_of_residence\", \"per:origin\", \"org:city_of_headquarters\", \"org:top_members/employees\", \"org:alternate_names\", \"per:cities_of_residence\", \"org:number_of_employees/members\", \"per:employee_of\", \"org:stateorprovince_of_headquarters\", \"org:founded\", \"per:countries_of_residence\", \"overall\", \"per:schools_attended\", \"per:stateorprovince_of_birth\", \"per:city_of_death\", \"org:founded_by\", \"per:city_of_birth\", \"per:parents\", \"per:date_of_birth\", \"org:political/religious_affiliation\", \"org:subsidiaries\", \"org:parents\", \"per:date_of_death\", \"per:children\", \"per:siblings\", \"per:spouse\", \"per:other_family\", \"org:members\", \"org:dissolved\", \"org:member_of\", \"org:shareholders\", \"per:alternate_names\", \"per:country_of_birth\", \"per:country_of_death\", \"per:stateorprovince_of_death\"], \"y\": [1.0, 1.0, 0.8333, 0.8131, 0.6957, null, 0.802, 0.66, 0.6597, 0.65, 0.5979, 0.5899, 0.5662, 0.5, 0.455, 0.4, 0.381, 0.3655, 0.3596, 0.2353, 0.1875, 0.1579, 0.1555, 0.1429, 0.1395, 0.1321, 0.125, 0.0833, 0.0824, 0.0594, 0.0517, 0.0334, 0.0251, 0.0223, 0.0189, 0.0, 0.0, 0.0, 0.0, 0.0, 0.0, 0.0]}],\n",
       "                        {\"barmode\": \"overlay\", \"title\": {\"text\": \"UD + UCCA Path - Precision (Play)\"}, \"width\": 1200, \"xaxis\": {\"automargin\": true, \"tickangle\": 45, \"title\": {\"text\": \"Relation\"}}, \"yaxis\": {\"title\": {\"text\": \"Precision\"}}},\n",
       "                        {\"showLink\": false, \"linkText\": \"Export to plot.ly\", \"plotlyServerURL\": \"https://plot.ly\", \"responsive\": true}\n",
       "                    ).then(function(){\n",
       "                            \n",
       "var gd = document.getElementById('bef88796-f096-471e-bac1-d46deb1593f7');\n",
       "var x = new MutationObserver(function (mutations, observer) {{\n",
       "        var display = window.getComputedStyle(gd).display;\n",
       "        if (!display || display === 'none') {{\n",
       "            console.log([gd, 'removed!']);\n",
       "            Plotly.purge(gd);\n",
       "            observer.disconnect();\n",
       "        }}\n",
       "}});\n",
       "\n",
       "// Listen for the removal of the full notebook cells\n",
       "var notebookContainer = gd.closest('#notebook-container');\n",
       "if (notebookContainer) {{\n",
       "    x.observe(notebookContainer, {childList: true});\n",
       "}}\n",
       "\n",
       "// Listen for the clearing of the current output cell\n",
       "var outputEl = gd.closest('.output');\n",
       "if (outputEl) {{\n",
       "    x.observe(outputEl, {childList: true});\n",
       "}}\n",
       "\n",
       "                        })\n",
       "                };\n",
       "                });\n",
       "            </script>\n",
       "        </div>"
      ]
     },
     "metadata": {},
     "output_type": "display_data"
    }
   ],
   "source": [
    "import plotly.graph_objs as go\n",
    "\n",
    "overall_index = next(i for (i, (relation, score)) in enumerate(stats) if relation == 'overall')\n",
    "\n",
    "colors = ['rgb(58,200,225)'] * len(stats)\n",
    "colors[overall_index] = 'rgb(181,59,89)'\n",
    "\n",
    "\n",
    "trace1 = go.Bar(\n",
    "    x=[stat[0] for stat in stats],\n",
    "    y=[stat[1] for stat in stats],\n",
    "    name='Precision',\n",
    "    width=0.5,\n",
    "    marker=dict(\n",
    "        color=colors,\n",
    "        line=dict(\n",
    "            color='rgb(8,48,107)',\n",
    "            width=0.5),\n",
    "        ),\n",
    "    opacity=0.6\n",
    ")\n",
    "\n",
    "data = [trace1]\n",
    "layout = go.Layout(\n",
    "    title='UD + UCCA Path - Precision (Play)',\n",
    "    xaxis_title=\"Relation\",\n",
    "    yaxis_title=\"Precision\",        \n",
    "    barmode='overlay',\n",
    "    width=1200,\n",
    "    xaxis = go.layout.XAxis(\n",
    "        tickangle = 45,\n",
    "        automargin = True\n",
    "        \n",
    "    )\n",
    "    \n",
    "        \n",
    ")\n",
    "\n",
    "fig = go.Figure(data=data, layout=layout)\n",
    "iplot(fig)"
   ]
  },
  {
   "cell_type": "code",
   "execution_count": null,
   "metadata": {},
   "outputs": [],
   "source": []
  }
 ],
 "metadata": {
  "kernelspec": {
   "display_name": "Python 3",
   "language": "python",
   "name": "python3"
  },
  "language_info": {
   "codemirror_mode": {
    "name": "ipython",
    "version": 3
   },
   "file_extension": ".py",
   "mimetype": "text/x-python",
   "name": "python",
   "nbconvert_exporter": "python",
   "pygments_lexer": "ipython3",
   "version": "3.7.6"
  }
 },
 "nbformat": 4,
 "nbformat_minor": 2
}
