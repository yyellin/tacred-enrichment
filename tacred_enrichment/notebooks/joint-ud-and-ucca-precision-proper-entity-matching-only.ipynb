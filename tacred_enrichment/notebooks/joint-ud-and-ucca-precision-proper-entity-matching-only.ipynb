{
 "cells": [
  {
   "cell_type": "code",
   "execution_count": 1,
   "metadata": {},
   "outputs": [
    {
     "data": {
      "text/html": [
       "        <script type=\"text/javascript\">\n",
       "        window.PlotlyConfig = {MathJaxConfig: 'local'};\n",
       "        if (window.MathJax) {MathJax.Hub.Config({SVG: {font: \"STIX-Web\"}});}\n",
       "        if (typeof require !== 'undefined') {\n",
       "        require.undef(\"plotly\");\n",
       "        requirejs.config({\n",
       "            paths: {\n",
       "                'plotly': ['https://cdn.plot.ly/plotly-latest.min']\n",
       "            }\n",
       "        });\n",
       "        require(['plotly'], function(Plotly) {\n",
       "            window._Plotly = Plotly;\n",
       "        });\n",
       "        }\n",
       "        </script>\n",
       "        "
      ]
     },
     "metadata": {},
     "output_type": "display_data"
    }
   ],
   "source": [
    "from plotly.offline import download_plotlyjs, init_notebook_mode, plot, iplot\n",
    "init_notebook_mode(connected=True)"
   ]
  },
  {
   "cell_type": "code",
   "execution_count": 2,
   "metadata": {},
   "outputs": [],
   "source": [
    "import pandas\n",
    "\n",
    "train_ud = pandas.read_csv(r'C:\\Users\\JYellin\\re_1\\tacred\\results\\general\\train-ud_paths_v0.0.5.csv').set_index(['id'])\n",
    "test_ud = pandas.read_csv(r'C:\\Users\\JYellin\\re_1\\tacred\\results\\general\\test-ud_paths_v0.0.5.csv').set_index(['id'])\n",
    "\n",
    "train_ucca = pandas.read_csv(r'C:\\Users\\JYellin\\re_1\\tacred\\results\\general\\train-ucca_paths_v0.0.5.csv').set_index(['id'])\n",
    "test_ucca = pandas.read_csv(r'C:\\Users\\JYellin\\re_1\\tacred\\results\\general\\test-ucca_paths_v0.0.5.csv').set_index(['id'])"
   ]
  },
  {
   "cell_type": "code",
   "execution_count": 3,
   "metadata": {},
   "outputs": [],
   "source": [
    "train_ner = pandas.read_csv(r'C:\\Users\\JYellin\\re_1\\tacred\\results\\general\\train-ud_paths_with_ner_v0.0.6.csv').set_index(['id'])\n",
    "test_ner = pandas.read_csv(r'C:\\Users\\JYellin\\re_1\\tacred\\results\\general\\test-ud_paths_with_ner_v0.0.6.csv').set_index(['id'])\n",
    "\n",
    "train_ids_with_proper_ner = train_ner[(train_ner['type1']==train_ner['type1_corenlp']) & (train_ner['type2']==train_ner['type2_corenlp'])].drop(['docid', 'tokens', 'relation', 'path', 'lemmas_on_path', 'type1', 'type2', 'ent1_head', 'ent2_head', 'type1_corenlp', 'type2_corenlp'], axis=1)\n",
    "test_ids_with_proper_ner = test_ner[(test_ner['type1']==test_ner['type1_corenlp']) & (test_ner['type2']==test_ner['type2_corenlp'])].drop(['docid', 'tokens', 'relation', 'path', 'lemmas_on_path', 'type1', 'type2', 'ent1_head', 'ent2_head', 'type1_corenlp', 'type2_corenlp'], axis=1)"
   ]
  },
  {
   "cell_type": "code",
   "execution_count": 4,
   "metadata": {},
   "outputs": [
    {
     "name": "stdout",
     "output_type": "stream",
     "text": [
      "train_ids_with_proper_ner size: 56648\n",
      "train_ner size: 68049\n",
      "train_ud size: 68049\n",
      "train_ucca size: 67617\n"
     ]
    }
   ],
   "source": [
    "print('train_ids_with_proper_ner size:', train_ids_with_proper_ner.shape[0])\n",
    "print('train_ner size:', train_ner.shape[0])\n",
    "print('train_ud size:', train_ud.shape[0])\n",
    "print('train_ucca size:', train_ucca.shape[0])\n"
   ]
  },
  {
   "cell_type": "code",
   "execution_count": 5,
   "metadata": {},
   "outputs": [],
   "source": [
    "train_ucca = train_ids_with_proper_ner.join(train_ucca).dropna(axis=0).reset_index()\n",
    "test_ucca = test_ids_with_proper_ner.join(test_ucca).dropna(axis=0).reset_index()\n",
    "\n",
    "\n",
    "train_ud = train_ids_with_proper_ner.join(train_ud).reset_index()\n",
    "test_ud = test_ids_with_proper_ner.join(test_ud).reset_index()\n"
   ]
  },
  {
   "cell_type": "code",
   "execution_count": 6,
   "metadata": {},
   "outputs": [],
   "source": [
    "def transform_row(r):\n",
    "    return '{entity1} {org_path} {entity2}'.format(entity1=r.type1[0:3], org_path=r.path, entity2=r.type2[0:3])\n",
    "\n",
    "train_ud['path'] = train_ud.apply(transform_row, axis=1)\n",
    "test_ud['path'] = test_ud.apply(transform_row, axis=1)\n",
    "\n",
    "train_ucca['path'] = train_ucca.apply(transform_row, axis=1)\n",
    "test_ucca['path'] = test_ucca.apply(transform_row, axis=1)"
   ]
  },
  {
   "cell_type": "code",
   "execution_count": 7,
   "metadata": {},
   "outputs": [],
   "source": [
    "train_ud = train_ud.rename(columns={'path' : 'ud_path'})\n",
    "test_ud = test_ud.rename(columns={'path' : 'ud_path'})\n",
    "\n",
    "train_ucca = train_ucca.rename(columns={'path' : 'ucca_path'})\n",
    "test_ucca = test_ucca.rename(columns={'path' : 'ucca_path'})"
   ]
  },
  {
   "cell_type": "code",
   "execution_count": 8,
   "metadata": {},
   "outputs": [],
   "source": [
    "test = pandas.merge(test_ud, test_ucca[['id', 'ucca_path']], on='id').dropna()"
   ]
  },
  {
   "cell_type": "code",
   "execution_count": 9,
   "metadata": {},
   "outputs": [],
   "source": [
    "relation_to_paths_ud = train_ud.groupby(['relation'])['ud_path'].unique().to_dict()\n",
    "relation_to_paths_ucca = train_ucca.groupby(['relation'])['ucca_path'].unique().to_dict()"
   ]
  },
  {
   "cell_type": "code",
   "execution_count": 10,
   "metadata": {},
   "outputs": [],
   "source": [
    "def label_sentence_recall(test_row, relation):\n",
    "    ud_path = test_row['ud_path']\n",
    "    ucca_path = test_row['ucca_path']\n",
    "    true_relation = test_row['relation']\n",
    "    \n",
    "    if ud_path in relation_to_paths_ud[relation] or ucca_path in relation_to_paths_ucca[relation]:\n",
    "        if true_relation == relation:\n",
    "            return 'TP'\n",
    "        \n",
    "        # the next two lines are artificial and should be removed\n",
    "        # they are designed to remove the affect of all 'no_relation' sentences\n",
    "        #elif true_relation == 'no_relation':\n",
    "        #    return 'N'\n",
    "        \n",
    "        \n",
    "        else:\n",
    "            return 'FP'\n",
    "    else:\n",
    "        return 'N'"
   ]
  },
  {
   "cell_type": "code",
   "execution_count": 11,
   "metadata": {},
   "outputs": [],
   "source": [
    "for relation in filter(lambda relation: relation != 'no_relation', relation_to_paths_ud.keys()):\n",
    "    test[relation] = test.apply(lambda row : label_sentence_recall(row, relation), axis=1)    "
   ]
  },
  {
   "cell_type": "code",
   "execution_count": 12,
   "metadata": {},
   "outputs": [],
   "source": [
    "stats = []\n",
    "overall_tp = 0\n",
    "overall_fp = 0\n",
    "\n",
    "for relation in filter(lambda relation: relation != 'no_relation', relation_to_paths_ud.keys()):\n",
    "\n",
    "    counts = test[relation].value_counts().to_dict()\n",
    "    num_examples = test[test['relation']==relation].shape[0]\n",
    "        \n",
    "    tp = counts.get('TP', 0)\n",
    "    fp = counts.get('FP', 0)\n",
    "    precision = tp / (tp+fp)\n",
    "    \n",
    "    #print('{}: total ={}, tp = {}, fp = {}'.format(relation, num_examples, tp, fp))\n",
    "\n",
    "    stats.append( ( '{} ({}/{})'.format(relation,tp,tp+fp), round(precision,4)) )\n",
    "    \n",
    "    overall_tp += tp\n",
    "    overall_fp += fp\n",
    "\n",
    "    \n",
    "overall_precision = overall_tp / (overall_tp+overall_fp)\n",
    "\n",
    "    \n",
    "#matched = sum(test_total_by_r_and_p[test_total_by_r_and_p['total-for-relation']>0]['total'].to_list())\n",
    "#matched_lax = sum(test_total_by_r_and_p[test_total_by_r_and_p['total-across-relations']>0]['total'].to_list())\n",
    "#total = sum(test_total_by_r_and_p['total'].to_list())\n",
    "\n",
    "stats.append( ('overall', round(overall_precision,4)) )\n",
    "stats = sorted(stats, key=lambda x: x[1], reverse=True)"
   ]
  },
  {
   "cell_type": "code",
   "execution_count": 13,
   "metadata": {},
   "outputs": [
    {
     "data": {
      "application/vnd.plotly.v1+json": {
       "config": {
        "linkText": "Export to plot.ly",
        "plotlyServerURL": "https://plot.ly",
        "showLink": false
       },
       "data": [
        {
         "marker": {
          "color": [
           "rgb(58,200,225)",
           "rgb(58,200,225)",
           "rgb(58,200,225)",
           "rgb(58,200,225)",
           "rgb(58,200,225)",
           "rgb(58,200,225)",
           "rgb(58,200,225)",
           "rgb(58,200,225)",
           "rgb(58,200,225)",
           "rgb(58,200,225)",
           "rgb(58,200,225)",
           "rgb(58,200,225)",
           "rgb(58,200,225)",
           "rgb(58,200,225)",
           "rgb(58,200,225)",
           "rgb(58,200,225)",
           "rgb(58,200,225)",
           "rgb(181,59,89)",
           "rgb(58,200,225)",
           "rgb(58,200,225)",
           "rgb(58,200,225)",
           "rgb(58,200,225)",
           "rgb(58,200,225)",
           "rgb(58,200,225)",
           "rgb(58,200,225)",
           "rgb(58,200,225)",
           "rgb(58,200,225)",
           "rgb(58,200,225)",
           "rgb(58,200,225)",
           "rgb(58,200,225)",
           "rgb(58,200,225)",
           "rgb(58,200,225)",
           "rgb(58,200,225)",
           "rgb(58,200,225)",
           "rgb(58,200,225)",
           "rgb(58,200,225)",
           "rgb(58,200,225)",
           "rgb(58,200,225)",
           "rgb(58,200,225)",
           "rgb(58,200,225)",
           "rgb(58,200,225)",
           "rgb(58,200,225)"
          ],
          "line": {
           "color": "rgb(8,48,107)",
           "width": 0.5
          }
         },
         "name": "Precision",
         "opacity": 0.6,
         "type": "bar",
         "uid": "9c4f8ab9-189c-4e5c-a4f1-cf7b4baa8315",
         "width": 0.5,
         "x": [
          "org:website (7/10)",
          "per:charges (20/33)",
          "per:title (363/619)",
          "org:city_of_headquarters (36/71)",
          "org:stateorprovince_of_headquarters (16/34)",
          "per:religion (13/30)",
          "per:cities_of_residence (108/253)",
          "org:top_members/employees (274/644)",
          "per:stateorprovinces_of_residence (39/92)",
          "org:country_of_headquarters (39/99)",
          "per:employee_of (153/426)",
          "per:age (128/359)",
          "per:cause_of_death (6/17)",
          "org:alternate_names (108/331)",
          "per:origin (80/295)",
          "per:countries_of_residence (86/336)",
          "org:founded (18/140)",
          "overall",
          "org:number_of_employees/members (7/63)",
          "per:stateorprovince_of_birth (4/36)",
          "org:political/religious_affiliation (2/19)",
          "org:founded_by (40/424)",
          "org:parents (28/329)",
          "per:date_of_death (27/333)",
          "org:subsidiaries (20/290)",
          "per:city_of_death (8/121)",
          "per:schools_attended (14/222)",
          "per:parents (43/1087)",
          "per:country_of_birth (2/72)",
          "per:date_of_birth (7/263)",
          "per:siblings (34/1354)",
          "per:city_of_birth (2/82)",
          "per:other_family (39/2045)",
          "per:spouse (35/1899)",
          "per:children (22/1372)",
          "org:member_of (3/222)",
          "org:members (3/253)",
          "per:alternate_names (5/1013)",
          "org:shareholders (1/296)",
          "org:dissolved (0/67)",
          "per:country_of_death (0/31)",
          "per:stateorprovince_of_death (0/32)"
         ],
         "y": [
          0.7,
          0.6061,
          0.5864,
          0.507,
          0.4706,
          0.4333,
          0.4269,
          0.4255,
          0.4239,
          0.3939,
          0.3592,
          0.3565,
          0.3529,
          0.3263,
          0.2712,
          0.256,
          0.1286,
          0.1171,
          0.1111,
          0.1111,
          0.1053,
          0.0943,
          0.0851,
          0.0811,
          0.069,
          0.0661,
          0.0631,
          0.0396,
          0.0278,
          0.0266,
          0.0251,
          0.0244,
          0.0191,
          0.0184,
          0.016,
          0.0135,
          0.0119,
          0.0049,
          0.0034,
          0,
          0,
          0
         ]
        }
       ],
       "layout": {
        "barmode": "overlay",
        "title": {
         "text": "UD + UCCA Path - Precision"
        },
        "width": 1200,
        "xaxis": {
         "automargin": true,
         "tickangle": 45,
         "title": {
          "text": "Relation"
         }
        },
        "yaxis": {
         "title": {
          "text": "Precision"
         }
        }
       }
      },
      "text/html": [
       "<div>\n",
       "        \n",
       "        \n",
       "            <div id=\"81f9447e-4bd1-4e48-a821-a8781630001e\" class=\"plotly-graph-div\" style=\"height:525px; width:1200px;\"></div>\n",
       "            <script type=\"text/javascript\">\n",
       "                require([\"plotly\"], function(Plotly) {\n",
       "                    window.PLOTLYENV=window.PLOTLYENV || {};\n",
       "                    window.PLOTLYENV.BASE_URL='https://plot.ly';\n",
       "                    \n",
       "                if (document.getElementById(\"81f9447e-4bd1-4e48-a821-a8781630001e\")) {\n",
       "                    Plotly.newPlot(\n",
       "                        '81f9447e-4bd1-4e48-a821-a8781630001e',\n",
       "                        [{\"marker\": {\"color\": [\"rgb(58,200,225)\", \"rgb(58,200,225)\", \"rgb(58,200,225)\", \"rgb(58,200,225)\", \"rgb(58,200,225)\", \"rgb(58,200,225)\", \"rgb(58,200,225)\", \"rgb(58,200,225)\", \"rgb(58,200,225)\", \"rgb(58,200,225)\", \"rgb(58,200,225)\", \"rgb(58,200,225)\", \"rgb(58,200,225)\", \"rgb(58,200,225)\", \"rgb(58,200,225)\", \"rgb(58,200,225)\", \"rgb(58,200,225)\", \"rgb(181,59,89)\", \"rgb(58,200,225)\", \"rgb(58,200,225)\", \"rgb(58,200,225)\", \"rgb(58,200,225)\", \"rgb(58,200,225)\", \"rgb(58,200,225)\", \"rgb(58,200,225)\", \"rgb(58,200,225)\", \"rgb(58,200,225)\", \"rgb(58,200,225)\", \"rgb(58,200,225)\", \"rgb(58,200,225)\", \"rgb(58,200,225)\", \"rgb(58,200,225)\", \"rgb(58,200,225)\", \"rgb(58,200,225)\", \"rgb(58,200,225)\", \"rgb(58,200,225)\", \"rgb(58,200,225)\", \"rgb(58,200,225)\", \"rgb(58,200,225)\", \"rgb(58,200,225)\", \"rgb(58,200,225)\", \"rgb(58,200,225)\"], \"line\": {\"color\": \"rgb(8,48,107)\", \"width\": 0.5}}, \"name\": \"Precision\", \"opacity\": 0.6, \"type\": \"bar\", \"uid\": \"9c4f8ab9-189c-4e5c-a4f1-cf7b4baa8315\", \"width\": 0.5, \"x\": [\"org:website (7/10)\", \"per:charges (20/33)\", \"per:title (363/619)\", \"org:city_of_headquarters (36/71)\", \"org:stateorprovince_of_headquarters (16/34)\", \"per:religion (13/30)\", \"per:cities_of_residence (108/253)\", \"org:top_members/employees (274/644)\", \"per:stateorprovinces_of_residence (39/92)\", \"org:country_of_headquarters (39/99)\", \"per:employee_of (153/426)\", \"per:age (128/359)\", \"per:cause_of_death (6/17)\", \"org:alternate_names (108/331)\", \"per:origin (80/295)\", \"per:countries_of_residence (86/336)\", \"org:founded (18/140)\", \"overall\", \"org:number_of_employees/members (7/63)\", \"per:stateorprovince_of_birth (4/36)\", \"org:political/religious_affiliation (2/19)\", \"org:founded_by (40/424)\", \"org:parents (28/329)\", \"per:date_of_death (27/333)\", \"org:subsidiaries (20/290)\", \"per:city_of_death (8/121)\", \"per:schools_attended (14/222)\", \"per:parents (43/1087)\", \"per:country_of_birth (2/72)\", \"per:date_of_birth (7/263)\", \"per:siblings (34/1354)\", \"per:city_of_birth (2/82)\", \"per:other_family (39/2045)\", \"per:spouse (35/1899)\", \"per:children (22/1372)\", \"org:member_of (3/222)\", \"org:members (3/253)\", \"per:alternate_names (5/1013)\", \"org:shareholders (1/296)\", \"org:dissolved (0/67)\", \"per:country_of_death (0/31)\", \"per:stateorprovince_of_death (0/32)\"], \"y\": [0.7, 0.6061, 0.5864, 0.507, 0.4706, 0.4333, 0.4269, 0.4255, 0.4239, 0.3939, 0.3592, 0.3565, 0.3529, 0.3263, 0.2712, 0.256, 0.1286, 0.1171, 0.1111, 0.1111, 0.1053, 0.0943, 0.0851, 0.0811, 0.069, 0.0661, 0.0631, 0.0396, 0.0278, 0.0266, 0.0251, 0.0244, 0.0191, 0.0184, 0.016, 0.0135, 0.0119, 0.0049, 0.0034, 0.0, 0.0, 0.0]}],\n",
       "                        {\"barmode\": \"overlay\", \"title\": {\"text\": \"UD + UCCA Path - Precision\"}, \"width\": 1200, \"xaxis\": {\"automargin\": true, \"tickangle\": 45, \"title\": {\"text\": \"Relation\"}}, \"yaxis\": {\"title\": {\"text\": \"Precision\"}}},\n",
       "                        {\"showLink\": false, \"linkText\": \"Export to plot.ly\", \"plotlyServerURL\": \"https://plot.ly\", \"responsive\": true}\n",
       "                    ).then(function(){\n",
       "                            \n",
       "var gd = document.getElementById('81f9447e-4bd1-4e48-a821-a8781630001e');\n",
       "var x = new MutationObserver(function (mutations, observer) {{\n",
       "        var display = window.getComputedStyle(gd).display;\n",
       "        if (!display || display === 'none') {{\n",
       "            console.log([gd, 'removed!']);\n",
       "            Plotly.purge(gd);\n",
       "            observer.disconnect();\n",
       "        }}\n",
       "}});\n",
       "\n",
       "// Listen for the removal of the full notebook cells\n",
       "var notebookContainer = gd.closest('#notebook-container');\n",
       "if (notebookContainer) {{\n",
       "    x.observe(notebookContainer, {childList: true});\n",
       "}}\n",
       "\n",
       "// Listen for the clearing of the current output cell\n",
       "var outputEl = gd.closest('.output');\n",
       "if (outputEl) {{\n",
       "    x.observe(outputEl, {childList: true});\n",
       "}}\n",
       "\n",
       "                        })\n",
       "                };\n",
       "                });\n",
       "            </script>\n",
       "        </div>"
      ]
     },
     "metadata": {},
     "output_type": "display_data"
    }
   ],
   "source": [
    "import plotly.graph_objs as go\n",
    "\n",
    "overall_index = next(i for (i, (relation, score)) in enumerate(stats) if relation == 'overall')\n",
    "\n",
    "colors = ['rgb(58,200,225)'] * len(stats)\n",
    "colors[overall_index] = 'rgb(181,59,89)'\n",
    "\n",
    "\n",
    "trace1 = go.Bar(\n",
    "    x=[stat[0] for stat in stats],\n",
    "    y=[stat[1] for stat in stats],\n",
    "    name='Precision',\n",
    "    width=0.5,\n",
    "    marker=dict(\n",
    "        color=colors,\n",
    "        line=dict(\n",
    "            color='rgb(8,48,107)',\n",
    "            width=0.5),\n",
    "        ),\n",
    "    opacity=0.6\n",
    ")\n",
    "\n",
    "data = [trace1]\n",
    "layout = go.Layout(\n",
    "    title='UD + UCCA Path - Precision',\n",
    "    xaxis_title=\"Relation\",\n",
    "    yaxis_title=\"Precision\",        \n",
    "    barmode='overlay',\n",
    "    width=1200,\n",
    "    xaxis = go.layout.XAxis(\n",
    "        tickangle = 45,\n",
    "        automargin = True\n",
    "        \n",
    "    )\n",
    "    \n",
    "        \n",
    ")\n",
    "\n",
    "fig = go.Figure(data=data, layout=layout)\n",
    "iplot(fig)"
   ]
  },
  {
   "cell_type": "code",
   "execution_count": null,
   "metadata": {},
   "outputs": [],
   "source": []
  }
 ],
 "metadata": {
  "kernelspec": {
   "display_name": "Python 3",
   "language": "python",
   "name": "python3"
  },
  "language_info": {
   "codemirror_mode": {
    "name": "ipython",
    "version": 3
   },
   "file_extension": ".py",
   "mimetype": "text/x-python",
   "name": "python",
   "nbconvert_exporter": "python",
   "pygments_lexer": "ipython3",
   "version": "3.7.6"
  }
 },
 "nbformat": 4,
 "nbformat_minor": 2
}
