{
 "cells": [
  {
   "cell_type": "code",
   "execution_count": 1,
   "metadata": {},
   "outputs": [
    {
     "data": {
      "text/html": [
       "        <script type=\"text/javascript\">\n",
       "        window.PlotlyConfig = {MathJaxConfig: 'local'};\n",
       "        if (window.MathJax) {MathJax.Hub.Config({SVG: {font: \"STIX-Web\"}});}\n",
       "        if (typeof require !== 'undefined') {\n",
       "        require.undef(\"plotly\");\n",
       "        requirejs.config({\n",
       "            paths: {\n",
       "                'plotly': ['https://cdn.plot.ly/plotly-latest.min']\n",
       "            }\n",
       "        });\n",
       "        require(['plotly'], function(Plotly) {\n",
       "            window._Plotly = Plotly;\n",
       "        });\n",
       "        }\n",
       "        </script>\n",
       "        "
      ]
     },
     "metadata": {},
     "output_type": "display_data"
    }
   ],
   "source": [
    "from plotly.offline import download_plotlyjs, init_notebook_mode, plot, iplot\n",
    "init_notebook_mode(connected=True)"
   ]
  },
  {
   "cell_type": "code",
   "execution_count": 2,
   "metadata": {},
   "outputs": [],
   "source": [
    "import pandas\n",
    "\n",
    "train_ud = pandas.read_csv(r'C:\\Users\\JYellin\\re_1\\tacred\\results\\general\\train-ud_paths_v0.0.5.csv').set_index(['id'])\n",
    "test_ud = pandas.read_csv(r'C:\\Users\\JYellin\\re_1\\tacred\\results\\general\\test-ud_paths_v0.0.5.csv').set_index(['id'])\n",
    "\n",
    "train_ucca = pandas.read_csv(r'C:\\Users\\JYellin\\re_1\\tacred\\results\\general\\train-ucca_paths_v0.0.5.csv').set_index(['id'])\n",
    "test_ucca = pandas.read_csv(r'C:\\Users\\JYellin\\re_1\\tacred\\results\\general\\test-ucca_paths_v0.0.5.csv').set_index(['id'])"
   ]
  },
  {
   "cell_type": "code",
   "execution_count": 3,
   "metadata": {},
   "outputs": [],
   "source": [
    "train_ner = pandas.read_csv(r'C:\\Users\\JYellin\\re_1\\tacred\\results\\general\\train-ud_paths_with_ner_v0.0.6.csv').set_index(['id'])\n",
    "test_ner = pandas.read_csv(r'C:\\Users\\JYellin\\re_1\\tacred\\results\\general\\test-ud_paths_with_ner_v0.0.6.csv').set_index(['id'])\n",
    "\n",
    "train_ids_with_proper_ner = train_ner[(train_ner['type1']==train_ner['type1_corenlp']) & (train_ner['type2']==train_ner['type2_corenlp'])].drop(['docid', 'tokens', 'relation', 'path', 'lemmas_on_path', 'type1', 'type2', 'ent1_head', 'ent2_head', 'type1_corenlp', 'type2_corenlp'], axis=1)\n",
    "test_ids_with_proper_ner = test_ner[(test_ner['type1']==test_ner['type1_corenlp']) & (test_ner['type2']==test_ner['type2_corenlp'])].drop(['docid', 'tokens', 'relation', 'path', 'lemmas_on_path', 'type1', 'type2', 'ent1_head', 'ent2_head', 'type1_corenlp', 'type2_corenlp'], axis=1)"
   ]
  },
  {
   "cell_type": "code",
   "execution_count": 4,
   "metadata": {},
   "outputs": [],
   "source": [
    "train_ucca = train_ids_with_proper_ner.join(train_ucca).dropna(axis=0).reset_index()\n",
    "test_ucca = test_ids_with_proper_ner.join(test_ucca).dropna(axis=0).reset_index()\n",
    "\n",
    "\n",
    "train_ud = train_ids_with_proper_ner.join(train_ud).reset_index()\n",
    "test_ud = test_ids_with_proper_ner.join(test_ud).reset_index()"
   ]
  },
  {
   "cell_type": "code",
   "execution_count": 5,
   "metadata": {},
   "outputs": [],
   "source": [
    "def transform_row(r):\n",
    "    return '{entity1} {org_path} {entity2}'.format(entity1=r.type1[0:3], org_path=r.path, entity2=r.type2[0:3])\n",
    "\n",
    "train_ud['path'] = train_ud.apply(transform_row, axis=1)\n",
    "test_ud['path'] = test_ud.apply(transform_row, axis=1)\n",
    "\n",
    "train_ucca['path'] = train_ucca.apply(transform_row, axis=1)\n",
    "test_ucca['path'] = test_ucca.apply(transform_row, axis=1)"
   ]
  },
  {
   "cell_type": "code",
   "execution_count": 6,
   "metadata": {},
   "outputs": [],
   "source": [
    "train_ud = train_ud.rename(columns={'path' : 'ud_path'})\n",
    "test_ud = test_ud.rename(columns={'path' : 'ud_path'})\n",
    "\n",
    "train_ucca = train_ucca.rename(columns={'path' : 'ucca_path'})\n",
    "test_ucca = test_ucca.rename(columns={'path' : 'ucca_path'})"
   ]
  },
  {
   "cell_type": "code",
   "execution_count": 7,
   "metadata": {},
   "outputs": [],
   "source": [
    "test = pandas.merge(test_ud, test_ucca[['id', 'ucca_path']], on='id').dropna()\n",
    "test = test[test['relation'] != 'no_relation']"
   ]
  },
  {
   "cell_type": "code",
   "execution_count": 8,
   "metadata": {},
   "outputs": [],
   "source": [
    "train_ud_total_by_r_and_p = train_ud[train_ud['relation'] != 'no_relation'].groupby(['relation','ud_path'])['id'].count().reset_index().rename(columns={'id': 'total'}).sort_values(['relation','total'], ascending=[True,False]).reset_index(drop=True)\n",
    "train_ucca_total_by_r_and_p = train_ucca[train_ucca['relation'] != 'no_relation'].groupby(['relation','ucca_path'])['id'].count().reset_index().rename(columns={'id': 'total'}).sort_values(['relation','total'], ascending=[True,False]).reset_index(drop=True)"
   ]
  },
  {
   "cell_type": "code",
   "execution_count": 9,
   "metadata": {},
   "outputs": [],
   "source": [
    "# we're going to remove paths that are not maximum for their relation\n",
    "\n",
    "import numpy\n",
    "\n",
    "path_counts = train_ud[train_ud['relation']!='no_relation'].groupby(['ud_path'])['id'].count().reset_index().rename(columns={'id': 'total'}).sort_values(['total'], ascending=[False]).reset_index(drop=True)\n",
    "paths = path_counts['ud_path'].tolist()\n",
    "\n",
    "relation_counts = train_ud[train_ud['relation']!='no_relation'].groupby(['relation'])['id'].count().reset_index().rename(columns={'id': 'total'}).sort_values(['total'], ascending=[False]).reset_index(drop=True)\n",
    "relations = relation_counts['relation'].tolist()\n",
    "\n",
    "matrix = numpy.zeros((len(paths), len(relations)), dtype=numpy.int32)\n",
    "\n",
    "helper = train_ud[train_ud['relation'] != 'no_relation'].groupby(['relation','ud_path'])['id'].count().reset_index().rename(columns={'id': 'total'}).sort_values(['relation','total'], ascending=[True,False]).set_index(['relation','ud_path'])\n",
    "path_and_relation_to_count = helper.to_dict()['total']\n",
    "\n",
    "for path_index, path in enumerate(paths):\n",
    "    for relation_index, relation in enumerate(relations):\n",
    "        matrix[path_index,relation_index] = path_and_relation_to_count.get((relation,path), 0)\n",
    "        \n",
    "path_to_relation = pandas.DataFrame(data=matrix, index=paths, columns=relations)\n",
    "path_to_relation['sum'] = path_to_relation.sum(axis=1)\n",
    "path_to_relation = path_to_relation[path_to_relation['sum'] > 10]\n",
    "\n",
    "\n",
    "def get_max_for_relation(path, relation):\n",
    "    try:\n",
    "        path_to_relation_row = path_to_relation.loc[path]\n",
    "        return path_to_relation_row.max()\n",
    "        \n",
    "    except KeyError:\n",
    "        return 0\n",
    "\n",
    "\n",
    "train_ud_total_by_r_and_p['max'] =  train_ud_total_by_r_and_p.apply(lambda row : get_max_for_relation(row.ud_path, row.relation), axis=1)    \n",
    "#train_ud_total_by_r_and_p = train_ud_total_by_r_and_p[train_ud_total_by_r_and_p['total']==train_ud_total_by_r_and_p['max']]"
   ]
  },
  {
   "cell_type": "code",
   "execution_count": 10,
   "metadata": {},
   "outputs": [],
   "source": [
    "# we're going to remove paths that are not maximum for their relation\n",
    "# for UCCA\n",
    "\n",
    "import numpy\n",
    "\n",
    "path_counts = train_ucca[train_ucca['relation']!='no_relation'].groupby(['ucca_path'])['id'].count().reset_index().rename(columns={'id': 'total'}).sort_values(['total'], ascending=[False]).reset_index(drop=True)\n",
    "paths = path_counts['ucca_path'].tolist()\n",
    "\n",
    "relation_counts = train_ucca[train_ucca['relation']!='no_relation'].groupby(['relation'])['id'].count().reset_index().rename(columns={'id': 'total'}).sort_values(['total'], ascending=[False]).reset_index(drop=True)\n",
    "relations = relation_counts['relation'].tolist()\n",
    "\n",
    "matrix = numpy.zeros((len(paths), len(relations)), dtype=numpy.int32)\n",
    "\n",
    "helper = train_ucca[train_ucca['relation'] != 'no_relation'].groupby(['relation','ucca_path'])['id'].count().reset_index().rename(columns={'id': 'total'}).sort_values(['relation','total'], ascending=[True,False]).set_index(['relation','ucca_path'])\n",
    "path_and_relation_to_count = helper.to_dict()['total']\n",
    "\n",
    "for path_index, path in enumerate(paths):\n",
    "    for relation_index, relation in enumerate(relations):\n",
    "        matrix[path_index,relation_index] = path_and_relation_to_count.get((relation,path), 0)\n",
    "        \n",
    "path_to_relation = pandas.DataFrame(data=matrix, index=paths, columns=relations)\n",
    "path_to_relation['sum'] = path_to_relation.sum(axis=1)\n",
    "path_to_relation = path_to_relation[path_to_relation['sum'] > 10]\n",
    "\n",
    "\n",
    "def get_max_for_relation(path, relation):\n",
    "    try:\n",
    "        path_to_relation_row = path_to_relation.loc[path]\n",
    "        return path_to_relation_row.max()\n",
    "        \n",
    "    except KeyError:\n",
    "        return 0\n",
    "\n",
    "\n",
    "train_ucca_total_by_r_and_p['max'] =  train_ucca_total_by_r_and_p.apply(lambda row : get_max_for_relation(row.ucca_path, row.relation), axis=1)    \n",
    "#train_ucca_total_by_r_and_p = train_ucca_total_by_r_and_p[train_ucca_total_by_r_and_p['total']==train_ucca_total_by_r_and_p['max']]"
   ]
  },
  {
   "cell_type": "code",
   "execution_count": 11,
   "metadata": {},
   "outputs": [],
   "source": [
    "def label_matches(test_row):\n",
    "    relation = test_row['relation']\n",
    "    ud_path = test_row['ud_path']\n",
    "    ucca_path = test_row['ucca_path']\n",
    "    \n",
    "    train_ud_row = train_ud_total_by_r_and_p.loc[\n",
    "        (train_ud_total_by_r_and_p['relation'] == relation) & \n",
    "        (train_ud_total_by_r_and_p['ud_path'] == ud_path)]\n",
    "\n",
    "    train_ucca_row = train_ucca_total_by_r_and_p.loc[\n",
    "        (train_ucca_total_by_r_and_p['relation'] == relation) & \n",
    "        (train_ucca_total_by_r_and_p['ucca_path'] == ucca_path)]\n",
    "\n",
    "\n",
    "    match_any = not train_ud_row.empty or not train_ucca_row.empty\n",
    "    match_ud = not train_ud_row.empty\n",
    "    match_ucca = not  train_ucca_row.empty\n",
    "    \n",
    "    return pandas.Series( {'match_any' : match_any, 'match_ud' : match_ud, 'match_ucca' : match_ucca})\n",
    "\n",
    "\n",
    "matching_results = test.apply( label_matches, axis=1)"
   ]
  },
  {
   "cell_type": "code",
   "execution_count": 12,
   "metadata": {},
   "outputs": [],
   "source": [
    "test = pandas.concat((test, matching_results), axis=1)"
   ]
  },
  {
   "cell_type": "code",
   "execution_count": 13,
   "metadata": {},
   "outputs": [
    {
     "name": "stderr",
     "output_type": "stream",
     "text": [
      "c:\\users\\jyellin\\anaconda3\\envs\\msc_3\\lib\\site-packages\\ipykernel_launcher.py:11: RuntimeWarning:\n",
      "\n",
      "invalid value encountered in long_scalars\n",
      "\n"
     ]
    }
   ],
   "source": [
    "stats = []\n",
    "relations = train_ud['relation'].unique().tolist()\n",
    "\n",
    "for relation in relations:\n",
    "    \n",
    "    df = test[test['relation']==relation]\n",
    "    \n",
    "    matched = df[df['match_any']]['id'].count()\n",
    "    total = df.shape[0]\n",
    "    \n",
    "    stats.append( ('{} ({})'.format(relation,df.shape[0]), round(matched/total,4)) )\n",
    "\n",
    "matched = test[test['match_any']]['id'].count()\n",
    "total = test.shape[0]\n",
    "stats.append( ('overall', round(matched/total,4)) )\n",
    "\n",
    "stats = sorted(stats, key=lambda x: x[1], reverse=True)"
   ]
  },
  {
   "cell_type": "code",
   "execution_count": 14,
   "metadata": {},
   "outputs": [
    {
     "data": {
      "application/vnd.plotly.v1+json": {
       "config": {
        "linkText": "Export to plot.ly",
        "plotlyServerURL": "https://plot.ly",
        "showLink": false
       },
       "data": [
        {
         "marker": {
          "color": [
           "rgb(58,200,225)",
           "rgb(58,200,225)",
           "rgb(58,200,225)",
           "rgb(58,200,225)",
           "rgb(58,200,225)",
           "rgb(58,200,225)",
           "rgb(58,200,225)",
           "rgb(58,200,225)",
           "rgb(58,200,225)",
           "rgb(58,200,225)",
           "rgb(58,200,225)",
           "rgb(58,200,225)",
           "rgb(58,200,225)",
           "rgb(181,59,89)",
           "rgb(58,200,225)",
           "rgb(58,200,225)",
           "rgb(58,200,225)",
           "rgb(58,200,225)",
           "rgb(58,200,225)",
           "rgb(58,200,225)",
           "rgb(58,200,225)",
           "rgb(58,200,225)",
           "rgb(58,200,225)",
           "rgb(58,200,225)",
           "rgb(58,200,225)",
           "rgb(58,200,225)",
           "rgb(58,200,225)",
           "rgb(58,200,225)",
           "rgb(58,200,225)",
           "rgb(58,200,225)",
           "rgb(58,200,225)",
           "rgb(58,200,225)",
           "rgb(58,200,225)",
           "rgb(58,200,225)",
           "rgb(58,200,225)",
           "rgb(58,200,225)",
           "rgb(58,200,225)",
           "rgb(58,200,225)",
           "rgb(58,200,225)",
           "rgb(58,200,225)",
           "rgb(58,200,225)",
           "rgb(58,200,225)",
           "rgb(58,200,225)"
          ],
          "line": {
           "color": "rgb(8,48,107)",
           "width": 0.5
          }
         },
         "name": "Recall",
         "opacity": 0.6,
         "type": "bar",
         "uid": "99bcb321-3da2-4787-9956-2cddb80bcf36",
         "width": 0.5,
         "x": [
          "no_relation (0)",
          "per:city_of_birth (2)",
          "org:top_members/employees (299)",
          "per:date_of_birth (8)",
          "per:age (148)",
          "org:alternate_names (126)",
          "org:founded (21)",
          "per:title (424)",
          "per:employee_of (191)",
          "per:stateorprovince_of_birth (5)",
          "per:origin (101)",
          "org:founded_by (54)",
          "org:city_of_headquarters (49)",
          "overall",
          "per:other_family (55)",
          "org:website (10)",
          "per:cities_of_residence (157)",
          "per:stateorprovinces_of_residence (59)",
          "per:siblings (52)",
          "per:countries_of_residence (132)",
          "org:number_of_employees/members (11)",
          "per:children (35)",
          "org:subsidiaries (32)",
          "per:spouse (59)",
          "per:date_of_death (48)",
          "org:parents (50)",
          "per:parents (78)",
          "per:schools_attended (27)",
          "per:alternate_names (10)",
          "org:country_of_headquarters (84)",
          "org:stateorprovince_of_headquarters (35)",
          "per:country_of_birth (5)",
          "per:religion (33)",
          "per:city_of_death (21)",
          "per:charges (64)",
          "org:political/religious_affiliation (7)",
          "org:member_of (11)",
          "per:cause_of_death (25)",
          "org:members (18)",
          "org:shareholders (9)",
          "org:dissolved (1)",
          "per:stateorprovince_of_death (7)",
          "per:country_of_death (9)"
         ],
         "y": [
          null,
          1,
          0.9164,
          0.875,
          0.8649,
          0.8571,
          0.8571,
          0.8561,
          0.801,
          0.8,
          0.7921,
          0.7407,
          0.7347,
          0.7154,
          0.7091,
          0.7,
          0.6879,
          0.661,
          0.6538,
          0.6515,
          0.6364,
          0.6286,
          0.625,
          0.5932,
          0.5625,
          0.56,
          0.5513,
          0.5185,
          0.5,
          0.4643,
          0.4571,
          0.4,
          0.3939,
          0.381,
          0.3125,
          0.2857,
          0.2727,
          0.24,
          0.1667,
          0.1111,
          0,
          0,
          0
         ]
        }
       ],
       "layout": {
        "barmode": "overlay",
        "title": {
         "text": "UD + UCCA Path - Recall"
        },
        "width": 1200,
        "xaxis": {
         "automargin": true,
         "tickangle": 45,
         "title": {
          "text": "Relation"
         }
        },
        "yaxis": {
         "title": {
          "text": "Recall"
         }
        }
       }
      },
      "text/html": [
       "<div>\n",
       "        \n",
       "        \n",
       "            <div id=\"16733a1d-efba-4201-b2bd-fe485b128ca3\" class=\"plotly-graph-div\" style=\"height:525px; width:1200px;\"></div>\n",
       "            <script type=\"text/javascript\">\n",
       "                require([\"plotly\"], function(Plotly) {\n",
       "                    window.PLOTLYENV=window.PLOTLYENV || {};\n",
       "                    window.PLOTLYENV.BASE_URL='https://plot.ly';\n",
       "                    \n",
       "                if (document.getElementById(\"16733a1d-efba-4201-b2bd-fe485b128ca3\")) {\n",
       "                    Plotly.newPlot(\n",
       "                        '16733a1d-efba-4201-b2bd-fe485b128ca3',\n",
       "                        [{\"marker\": {\"color\": [\"rgb(58,200,225)\", \"rgb(58,200,225)\", \"rgb(58,200,225)\", \"rgb(58,200,225)\", \"rgb(58,200,225)\", \"rgb(58,200,225)\", \"rgb(58,200,225)\", \"rgb(58,200,225)\", \"rgb(58,200,225)\", \"rgb(58,200,225)\", \"rgb(58,200,225)\", \"rgb(58,200,225)\", \"rgb(58,200,225)\", \"rgb(181,59,89)\", \"rgb(58,200,225)\", \"rgb(58,200,225)\", \"rgb(58,200,225)\", \"rgb(58,200,225)\", \"rgb(58,200,225)\", \"rgb(58,200,225)\", \"rgb(58,200,225)\", \"rgb(58,200,225)\", \"rgb(58,200,225)\", \"rgb(58,200,225)\", \"rgb(58,200,225)\", \"rgb(58,200,225)\", \"rgb(58,200,225)\", \"rgb(58,200,225)\", \"rgb(58,200,225)\", \"rgb(58,200,225)\", \"rgb(58,200,225)\", \"rgb(58,200,225)\", \"rgb(58,200,225)\", \"rgb(58,200,225)\", \"rgb(58,200,225)\", \"rgb(58,200,225)\", \"rgb(58,200,225)\", \"rgb(58,200,225)\", \"rgb(58,200,225)\", \"rgb(58,200,225)\", \"rgb(58,200,225)\", \"rgb(58,200,225)\", \"rgb(58,200,225)\"], \"line\": {\"color\": \"rgb(8,48,107)\", \"width\": 0.5}}, \"name\": \"Recall\", \"opacity\": 0.6, \"type\": \"bar\", \"uid\": \"99bcb321-3da2-4787-9956-2cddb80bcf36\", \"width\": 0.5, \"x\": [\"no_relation (0)\", \"per:city_of_birth (2)\", \"org:top_members/employees (299)\", \"per:date_of_birth (8)\", \"per:age (148)\", \"org:alternate_names (126)\", \"org:founded (21)\", \"per:title (424)\", \"per:employee_of (191)\", \"per:stateorprovince_of_birth (5)\", \"per:origin (101)\", \"org:founded_by (54)\", \"org:city_of_headquarters (49)\", \"overall\", \"per:other_family (55)\", \"org:website (10)\", \"per:cities_of_residence (157)\", \"per:stateorprovinces_of_residence (59)\", \"per:siblings (52)\", \"per:countries_of_residence (132)\", \"org:number_of_employees/members (11)\", \"per:children (35)\", \"org:subsidiaries (32)\", \"per:spouse (59)\", \"per:date_of_death (48)\", \"org:parents (50)\", \"per:parents (78)\", \"per:schools_attended (27)\", \"per:alternate_names (10)\", \"org:country_of_headquarters (84)\", \"org:stateorprovince_of_headquarters (35)\", \"per:country_of_birth (5)\", \"per:religion (33)\", \"per:city_of_death (21)\", \"per:charges (64)\", \"org:political/religious_affiliation (7)\", \"org:member_of (11)\", \"per:cause_of_death (25)\", \"org:members (18)\", \"org:shareholders (9)\", \"org:dissolved (1)\", \"per:stateorprovince_of_death (7)\", \"per:country_of_death (9)\"], \"y\": [null, 1.0, 0.9164, 0.875, 0.8649, 0.8571, 0.8571, 0.8561, 0.801, 0.8, 0.7921, 0.7407, 0.7347, 0.7154, 0.7091, 0.7, 0.6879, 0.661, 0.6538, 0.6515, 0.6364, 0.6286, 0.625, 0.5932, 0.5625, 0.56, 0.5513, 0.5185, 0.5, 0.4643, 0.4571, 0.4, 0.3939, 0.381, 0.3125, 0.2857, 0.2727, 0.24, 0.1667, 0.1111, 0.0, 0.0, 0.0]}],\n",
       "                        {\"barmode\": \"overlay\", \"title\": {\"text\": \"UD + UCCA Path - Recall\"}, \"width\": 1200, \"xaxis\": {\"automargin\": true, \"tickangle\": 45, \"title\": {\"text\": \"Relation\"}}, \"yaxis\": {\"title\": {\"text\": \"Recall\"}}},\n",
       "                        {\"showLink\": false, \"linkText\": \"Export to plot.ly\", \"plotlyServerURL\": \"https://plot.ly\", \"responsive\": true}\n",
       "                    ).then(function(){\n",
       "                            \n",
       "var gd = document.getElementById('16733a1d-efba-4201-b2bd-fe485b128ca3');\n",
       "var x = new MutationObserver(function (mutations, observer) {{\n",
       "        var display = window.getComputedStyle(gd).display;\n",
       "        if (!display || display === 'none') {{\n",
       "            console.log([gd, 'removed!']);\n",
       "            Plotly.purge(gd);\n",
       "            observer.disconnect();\n",
       "        }}\n",
       "}});\n",
       "\n",
       "// Listen for the removal of the full notebook cells\n",
       "var notebookContainer = gd.closest('#notebook-container');\n",
       "if (notebookContainer) {{\n",
       "    x.observe(notebookContainer, {childList: true});\n",
       "}}\n",
       "\n",
       "// Listen for the clearing of the current output cell\n",
       "var outputEl = gd.closest('.output');\n",
       "if (outputEl) {{\n",
       "    x.observe(outputEl, {childList: true});\n",
       "}}\n",
       "\n",
       "                        })\n",
       "                };\n",
       "                });\n",
       "            </script>\n",
       "        </div>"
      ]
     },
     "metadata": {},
     "output_type": "display_data"
    }
   ],
   "source": [
    "import plotly.graph_objs as go\n",
    "\n",
    "overall_index = next(i for (i, stat) in enumerate(stats) if stat[0] == 'overall')\n",
    "\n",
    "colors = ['rgb(58,200,225)'] * len(stats)\n",
    "colors[overall_index] = 'rgb(181,59,89)'\n",
    "\n",
    "trace = go.Bar(\n",
    "    x=[stat[0] for stat in stats],\n",
    "    y=[stat[1] for stat in stats],\n",
    "    name='Recall',\n",
    "    width=0.5,\n",
    "    marker=dict(\n",
    "        color=colors,\n",
    "        line=dict(\n",
    "            color='rgb(8,48,107)',\n",
    "            width=0.5),\n",
    "        ),\n",
    "    opacity=0.6\n",
    ")\n",
    "\n",
    "data = [trace]\n",
    "layout = go.Layout(\n",
    "    title='UD + UCCA Path - Recall',\n",
    "    xaxis_title=\"Relation\",\n",
    "    yaxis_title=\"Recall\",    \n",
    "    barmode='overlay',\n",
    "    width=1200,\n",
    "    xaxis = go.layout.XAxis(\n",
    "        tickangle = 45,\n",
    "        automargin = True\n",
    "        \n",
    "    )\n",
    "    \n",
    "        \n",
    ")\n",
    "\n",
    "fig = go.Figure(data=data, layout=layout)\n",
    "iplot(fig)"
   ]
  },
  {
   "cell_type": "code",
   "execution_count": null,
   "metadata": {},
   "outputs": [],
   "source": []
  }
 ],
 "metadata": {
  "kernelspec": {
   "display_name": "Python 3",
   "language": "python",
   "name": "python3"
  },
  "language_info": {
   "codemirror_mode": {
    "name": "ipython",
    "version": 3
   },
   "file_extension": ".py",
   "mimetype": "text/x-python",
   "name": "python",
   "nbconvert_exporter": "python",
   "pygments_lexer": "ipython3",
   "version": "3.7.6"
  }
 },
 "nbformat": 4,
 "nbformat_minor": 2
}
