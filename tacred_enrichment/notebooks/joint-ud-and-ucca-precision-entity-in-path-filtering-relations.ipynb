{
 "cells": [
  {
   "cell_type": "code",
   "execution_count": 1,
   "metadata": {},
   "outputs": [
    {
     "data": {
      "text/html": [
       "        <script type=\"text/javascript\">\n",
       "        window.PlotlyConfig = {MathJaxConfig: 'local'};\n",
       "        if (window.MathJax) {MathJax.Hub.Config({SVG: {font: \"STIX-Web\"}});}\n",
       "        if (typeof require !== 'undefined') {\n",
       "        require.undef(\"plotly\");\n",
       "        requirejs.config({\n",
       "            paths: {\n",
       "                'plotly': ['https://cdn.plot.ly/plotly-latest.min']\n",
       "            }\n",
       "        });\n",
       "        require(['plotly'], function(Plotly) {\n",
       "            window._Plotly = Plotly;\n",
       "        });\n",
       "        }\n",
       "        </script>\n",
       "        "
      ]
     },
     "metadata": {},
     "output_type": "display_data"
    }
   ],
   "source": [
    "from plotly.offline import download_plotlyjs, init_notebook_mode, plot, iplot\n",
    "init_notebook_mode(connected=True)"
   ]
  },
  {
   "cell_type": "code",
   "execution_count": 2,
   "metadata": {},
   "outputs": [],
   "source": [
    "import pandas\n",
    "\n",
    "train_ud = pandas.read_csv(r'C:\\Users\\JYellin\\re_1\\tacred\\results\\general\\train-ud_paths_per_relation_no_relation.csv')\n",
    "test_ud = pandas.read_csv(r'C:\\Users\\JYellin\\re_1\\tacred\\results\\general\\test-ud_paths_per_relation_no_relation.csv')\n",
    "\n",
    "train_ucca = pandas.read_csv(r'C:\\Users\\JYellin\\re_1\\tacred\\results\\general\\train-ucca_paths_per_relation_no_relation.csv')\n",
    "test_ucca = pandas.read_csv(r'C:\\Users\\JYellin\\re_1\\tacred\\results\\general\\test-ucca_paths_per_relation_no_relation.csv')"
   ]
  },
  {
   "cell_type": "code",
   "execution_count": 3,
   "metadata": {},
   "outputs": [],
   "source": [
    "def transform_row(r):\n",
    "    return '{entity1} {org_path} {entity2}'.format(entity1=r.type1[0:3], org_path=r.path, entity2=r.type2[0:3])\n",
    "\n",
    "train_ud['path'] = train_ud.apply(transform_row, axis=1)\n",
    "test_ud['path'] = test_ud.apply(transform_row, axis=1)\n",
    "\n",
    "train_ucca['path'] = train_ucca.apply(transform_row, axis=1)\n",
    "test_ucca['path'] = test_ucca.apply(transform_row, axis=1)"
   ]
  },
  {
   "cell_type": "code",
   "execution_count": 4,
   "metadata": {},
   "outputs": [],
   "source": [
    "train_ud = train_ud.rename(columns={'path' : 'ud_path'})\n",
    "test_ud = test_ud.rename(columns={'path' : 'ud_path'})\n",
    "\n",
    "train_ucca = train_ucca.rename(columns={'path' : 'ucca_path'})\n",
    "test_ucca = test_ucca.rename(columns={'path' : 'ucca_path'})"
   ]
  },
  {
   "cell_type": "code",
   "execution_count": 5,
   "metadata": {},
   "outputs": [],
   "source": [
    "test = pandas.merge(test_ud, test_ucca[['id', 'ucca_path']], on='id').dropna()"
   ]
  },
  {
   "cell_type": "code",
   "execution_count": 6,
   "metadata": {},
   "outputs": [],
   "source": [
    "relation_to_paths_ud = train_ud.groupby(['relation'])['ud_path'].unique().to_dict()\n",
    "relation_to_paths_ucca = train_ucca.groupby(['relation'])['ucca_path'].unique().to_dict()"
   ]
  },
  {
   "cell_type": "code",
   "execution_count": 7,
   "metadata": {},
   "outputs": [],
   "source": [
    "def label_sentence_recall(test_row, relation):\n",
    "    ud_path = test_row['ud_path']\n",
    "    ucca_path = test_row['ucca_path']\n",
    "    true_relation = test_row['relation']\n",
    "    \n",
    "    if ud_path in relation_to_paths_ud[relation] or ucca_path in relation_to_paths_ucca[relation]:\n",
    "        if true_relation == relation:\n",
    "            return 'TP'\n",
    "        \n",
    "        # the next two lines are artificial and should be removed\n",
    "        # they are designed to remove the affect of all 'no_relation' sentences\n",
    "        #elif true_relation == 'no_relation':\n",
    "        #    return 'N'\n",
    "        \n",
    "        \n",
    "        else:\n",
    "            return 'FP'\n",
    "    else:\n",
    "        return 'N'"
   ]
  },
  {
   "cell_type": "code",
   "execution_count": 8,
   "metadata": {},
   "outputs": [],
   "source": [
    "for relation in filter(lambda relation: relation != 'no_relation', relation_to_paths_ud.keys()):\n",
    "    test[relation] = test.apply(lambda row : label_sentence_recall(row, relation), axis=1)    "
   ]
  },
  {
   "cell_type": "code",
   "execution_count": 15,
   "metadata": {},
   "outputs": [],
   "source": [
    "stats = []\n",
    "overall_tp = 0\n",
    "overall_fp = 0\n",
    "\n",
    "#for relation in filter(lambda relation: relation != 'no_relation', relation_to_paths_ud.keys()):\n",
    "for relation in filter(lambda relation: relation not in ['no_relation', 'per:spouse', 'per:other_family', 'per:siblings', 'per:children', 'per:parents', 'per:alternate_names'], relation_to_paths_ud.keys()):\n",
    "\n",
    "    counts = test[relation].value_counts().to_dict()\n",
    "    num_examples = test[test['relation']==relation].shape[0]\n",
    "        \n",
    "    tp = counts.get('TP', 0)\n",
    "    fp = counts.get('FP', 0)\n",
    "    precision = tp / (tp+fp)\n",
    "    \n",
    "    #print('{}: total ={}, tp = {}, fp = {}'.format(relation, num_examples, tp, fp))\n",
    "\n",
    "    stats.append( ( '{} ({})'.format(relation,num_examples), round(precision,4)) )\n",
    "    \n",
    "    overall_tp += tp\n",
    "    overall_fp += fp\n",
    "\n",
    "    \n",
    "overall_precision = overall_tp / (overall_tp+overall_fp)\n",
    "\n",
    "    \n",
    "#matched = sum(test_total_by_r_and_p[test_total_by_r_and_p['total-for-relation']>0]['total'].to_list())\n",
    "#matched_lax = sum(test_total_by_r_and_p[test_total_by_r_and_p['total-across-relations']>0]['total'].to_list())\n",
    "#total = sum(test_total_by_r_and_p['total'].to_list())\n",
    "\n",
    "stats.append( ('overall', round(overall_precision,4)) )\n",
    "stats = sorted(stats, key=lambda x: x[1], reverse=True)"
   ]
  },
  {
   "cell_type": "code",
   "execution_count": 16,
   "metadata": {},
   "outputs": [
    {
     "data": {
      "application/vnd.plotly.v1+json": {
       "config": {
        "linkText": "Export to plot.ly",
        "plotlyServerURL": "https://plot.ly",
        "showLink": false
       },
       "data": [
        {
         "marker": {
          "color": [
           "rgb(58,200,225)",
           "rgb(58,200,225)",
           "rgb(58,200,225)",
           "rgb(58,200,225)",
           "rgb(58,200,225)",
           "rgb(58,200,225)",
           "rgb(58,200,225)",
           "rgb(58,200,225)",
           "rgb(58,200,225)",
           "rgb(58,200,225)",
           "rgb(58,200,225)",
           "rgb(58,200,225)",
           "rgb(58,200,225)",
           "rgb(58,200,225)",
           "rgb(58,200,225)",
           "rgb(58,200,225)",
           "rgb(58,200,225)",
           "rgb(181,59,89)",
           "rgb(58,200,225)",
           "rgb(58,200,225)",
           "rgb(58,200,225)",
           "rgb(58,200,225)",
           "rgb(58,200,225)",
           "rgb(58,200,225)",
           "rgb(58,200,225)",
           "rgb(58,200,225)",
           "rgb(58,200,225)",
           "rgb(58,200,225)",
           "rgb(58,200,225)",
           "rgb(58,200,225)",
           "rgb(58,200,225)",
           "rgb(58,200,225)",
           "rgb(58,200,225)",
           "rgb(58,200,225)",
           "rgb(58,200,225)",
           "rgb(58,200,225)"
          ],
          "line": {
           "color": "rgb(8,48,107)",
           "width": 0.5
          }
         },
         "name": "Precision",
         "opacity": 0.6,
         "type": "bar",
         "uid": "111ff20b-6ddc-42b8-b623-5d833f43b66e",
         "width": 0.5,
         "x": [
          "org:website (25)",
          "per:charges (99)",
          "per:title (496)",
          "per:religion (47)",
          "org:stateorprovince_of_headquarters (50)",
          "org:city_of_headquarters (81)",
          "per:stateorprovinces_of_residence (80)",
          "per:age (198)",
          "org:country_of_headquarters (107)",
          "per:cities_of_residence (188)",
          "org:top_members/employees (343)",
          "per:cause_of_death (51)",
          "per:employee_of (260)",
          "per:origin (132)",
          "org:alternate_names (209)",
          "per:countries_of_residence (148)",
          "org:political/religious_affiliation (10)",
          "overall",
          "org:founded (36)",
          "per:stateorprovince_of_birth (8)",
          "org:number_of_employees/members (19)",
          "org:founded_by (68)",
          "per:date_of_death (54)",
          "per:stateorprovince_of_death (14)",
          "org:parents (61)",
          "per:city_of_death (28)",
          "per:schools_attended (30)",
          "org:subsidiaries (44)",
          "per:date_of_birth (9)",
          "per:country_of_birth (5)",
          "org:members (31)",
          "per:city_of_birth (5)",
          "org:member_of (18)",
          "org:shareholders (12)",
          "org:dissolved (2)",
          "per:country_of_death (9)"
         ],
         "y": [
          0.7778,
          0.6452,
          0.6212,
          0.5385,
          0.5303,
          0.4923,
          0.4508,
          0.4098,
          0.4028,
          0.3919,
          0.3652,
          0.3438,
          0.3152,
          0.2997,
          0.2445,
          0.2444,
          0.2083,
          0.2049,
          0.1502,
          0.1091,
          0.1014,
          0.0902,
          0.0865,
          0.0789,
          0.0596,
          0.0526,
          0.046,
          0.0426,
          0.0255,
          0.0244,
          0.0196,
          0.0167,
          0.0122,
          0.0032,
          0,
          0
         ]
        }
       ],
       "layout": {
        "barmode": "overlay",
        "title": {
         "text": "UD + UCCA Path - Precision"
        },
        "width": 1200,
        "xaxis": {
         "automargin": true,
         "tickangle": 45,
         "title": {
          "text": "Relation"
         }
        },
        "yaxis": {
         "title": {
          "text": "Precision"
         }
        }
       }
      },
      "text/html": [
       "<div>\n",
       "        \n",
       "        \n",
       "            <div id=\"128b620c-464e-49a8-a881-bb7e8d07ac25\" class=\"plotly-graph-div\" style=\"height:525px; width:1200px;\"></div>\n",
       "            <script type=\"text/javascript\">\n",
       "                require([\"plotly\"], function(Plotly) {\n",
       "                    window.PLOTLYENV=window.PLOTLYENV || {};\n",
       "                    window.PLOTLYENV.BASE_URL='https://plot.ly';\n",
       "                    \n",
       "                if (document.getElementById(\"128b620c-464e-49a8-a881-bb7e8d07ac25\")) {\n",
       "                    Plotly.newPlot(\n",
       "                        '128b620c-464e-49a8-a881-bb7e8d07ac25',\n",
       "                        [{\"marker\": {\"color\": [\"rgb(58,200,225)\", \"rgb(58,200,225)\", \"rgb(58,200,225)\", \"rgb(58,200,225)\", \"rgb(58,200,225)\", \"rgb(58,200,225)\", \"rgb(58,200,225)\", \"rgb(58,200,225)\", \"rgb(58,200,225)\", \"rgb(58,200,225)\", \"rgb(58,200,225)\", \"rgb(58,200,225)\", \"rgb(58,200,225)\", \"rgb(58,200,225)\", \"rgb(58,200,225)\", \"rgb(58,200,225)\", \"rgb(58,200,225)\", \"rgb(181,59,89)\", \"rgb(58,200,225)\", \"rgb(58,200,225)\", \"rgb(58,200,225)\", \"rgb(58,200,225)\", \"rgb(58,200,225)\", \"rgb(58,200,225)\", \"rgb(58,200,225)\", \"rgb(58,200,225)\", \"rgb(58,200,225)\", \"rgb(58,200,225)\", \"rgb(58,200,225)\", \"rgb(58,200,225)\", \"rgb(58,200,225)\", \"rgb(58,200,225)\", \"rgb(58,200,225)\", \"rgb(58,200,225)\", \"rgb(58,200,225)\", \"rgb(58,200,225)\"], \"line\": {\"color\": \"rgb(8,48,107)\", \"width\": 0.5}}, \"name\": \"Precision\", \"opacity\": 0.6, \"type\": \"bar\", \"uid\": \"111ff20b-6ddc-42b8-b623-5d833f43b66e\", \"width\": 0.5, \"x\": [\"org:website (25)\", \"per:charges (99)\", \"per:title (496)\", \"per:religion (47)\", \"org:stateorprovince_of_headquarters (50)\", \"org:city_of_headquarters (81)\", \"per:stateorprovinces_of_residence (80)\", \"per:age (198)\", \"org:country_of_headquarters (107)\", \"per:cities_of_residence (188)\", \"org:top_members/employees (343)\", \"per:cause_of_death (51)\", \"per:employee_of (260)\", \"per:origin (132)\", \"org:alternate_names (209)\", \"per:countries_of_residence (148)\", \"org:political/religious_affiliation (10)\", \"overall\", \"org:founded (36)\", \"per:stateorprovince_of_birth (8)\", \"org:number_of_employees/members (19)\", \"org:founded_by (68)\", \"per:date_of_death (54)\", \"per:stateorprovince_of_death (14)\", \"org:parents (61)\", \"per:city_of_death (28)\", \"per:schools_attended (30)\", \"org:subsidiaries (44)\", \"per:date_of_birth (9)\", \"per:country_of_birth (5)\", \"org:members (31)\", \"per:city_of_birth (5)\", \"org:member_of (18)\", \"org:shareholders (12)\", \"org:dissolved (2)\", \"per:country_of_death (9)\"], \"y\": [0.7778, 0.6452, 0.6212, 0.5385, 0.5303, 0.4923, 0.4508, 0.4098, 0.4028, 0.3919, 0.3652, 0.3438, 0.3152, 0.2997, 0.2445, 0.2444, 0.2083, 0.2049, 0.1502, 0.1091, 0.1014, 0.0902, 0.0865, 0.0789, 0.0596, 0.0526, 0.046, 0.0426, 0.0255, 0.0244, 0.0196, 0.0167, 0.0122, 0.0032, 0.0, 0.0]}],\n",
       "                        {\"barmode\": \"overlay\", \"title\": {\"text\": \"UD + UCCA Path - Precision\"}, \"width\": 1200, \"xaxis\": {\"automargin\": true, \"tickangle\": 45, \"title\": {\"text\": \"Relation\"}}, \"yaxis\": {\"title\": {\"text\": \"Precision\"}}},\n",
       "                        {\"showLink\": false, \"linkText\": \"Export to plot.ly\", \"plotlyServerURL\": \"https://plot.ly\", \"responsive\": true}\n",
       "                    ).then(function(){\n",
       "                            \n",
       "var gd = document.getElementById('128b620c-464e-49a8-a881-bb7e8d07ac25');\n",
       "var x = new MutationObserver(function (mutations, observer) {{\n",
       "        var display = window.getComputedStyle(gd).display;\n",
       "        if (!display || display === 'none') {{\n",
       "            console.log([gd, 'removed!']);\n",
       "            Plotly.purge(gd);\n",
       "            observer.disconnect();\n",
       "        }}\n",
       "}});\n",
       "\n",
       "// Listen for the removal of the full notebook cells\n",
       "var notebookContainer = gd.closest('#notebook-container');\n",
       "if (notebookContainer) {{\n",
       "    x.observe(notebookContainer, {childList: true});\n",
       "}}\n",
       "\n",
       "// Listen for the clearing of the current output cell\n",
       "var outputEl = gd.closest('.output');\n",
       "if (outputEl) {{\n",
       "    x.observe(outputEl, {childList: true});\n",
       "}}\n",
       "\n",
       "                        })\n",
       "                };\n",
       "                });\n",
       "            </script>\n",
       "        </div>"
      ]
     },
     "metadata": {},
     "output_type": "display_data"
    }
   ],
   "source": [
    "import plotly.graph_objs as go\n",
    "\n",
    "overall_index = next(i for (i, (relation, score)) in enumerate(stats) if relation == 'overall')\n",
    "\n",
    "colors = ['rgb(58,200,225)'] * len(stats)\n",
    "colors[overall_index] = 'rgb(181,59,89)'\n",
    "\n",
    "\n",
    "trace1 = go.Bar(\n",
    "    x=[stat[0] for stat in stats],\n",
    "    y=[stat[1] for stat in stats],\n",
    "    name='Precision',\n",
    "    width=0.5,\n",
    "    marker=dict(\n",
    "        color=colors,\n",
    "        line=dict(\n",
    "            color='rgb(8,48,107)',\n",
    "            width=0.5),\n",
    "        ),\n",
    "    opacity=0.6\n",
    ")\n",
    "\n",
    "data = [trace1]\n",
    "layout = go.Layout(\n",
    "    title='UD + UCCA Path - Precision',\n",
    "    xaxis_title=\"Relation\",\n",
    "    yaxis_title=\"Precision\",        \n",
    "    barmode='overlay',\n",
    "    width=1200,\n",
    "    xaxis = go.layout.XAxis(\n",
    "        tickangle = 45,\n",
    "        automargin = True\n",
    "        \n",
    "    )\n",
    "    \n",
    "        \n",
    ")\n",
    "\n",
    "fig = go.Figure(data=data, layout=layout)\n",
    "iplot(fig)"
   ]
  },
  {
   "cell_type": "code",
   "execution_count": null,
   "metadata": {},
   "outputs": [],
   "source": []
  }
 ],
 "metadata": {
  "kernelspec": {
   "display_name": "Python 3",
   "language": "python",
   "name": "python3"
  },
  "language_info": {
   "codemirror_mode": {
    "name": "ipython",
    "version": 3
   },
   "file_extension": ".py",
   "mimetype": "text/x-python",
   "name": "python",
   "nbconvert_exporter": "python",
   "pygments_lexer": "ipython3",
   "version": "3.7.6"
  }
 },
 "nbformat": 4,
 "nbformat_minor": 2
}
