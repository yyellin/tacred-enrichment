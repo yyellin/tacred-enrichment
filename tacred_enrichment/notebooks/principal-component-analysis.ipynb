{
 "cells": [
  {
   "cell_type": "code",
   "execution_count": 48,
   "metadata": {},
   "outputs": [],
   "source": [
    "import pandas\n",
    "\n",
    "ud_train = pandas.read_csv(r'C:\\Users\\jyellin\\re_1\\Code\\path_to_re\\train-ud_paths_per_relation.csv')"
   ]
  },
  {
   "cell_type": "code",
   "execution_count": 51,
   "metadata": {},
   "outputs": [],
   "source": [
    "ud_train.groupby(['relation','path'])['id'].count().unstack(fill_value=0).T\n",
    "ud_train_stats = ud_train.groupby(['relation','path'])['id'].count().reset_index()\n",
    "ud_train_stats = ud_train_stats.rename(columns={'id': 'count'}).sort_values(['relation','count'], ascending=[True,False]).reset_index(drop=True)"
   ]
  },
  {
   "cell_type": "code",
   "execution_count": 52,
   "metadata": {},
   "outputs": [],
   "source": [
    "paths = ud_train_stats['path'].unique().tolist()\n",
    "path_to_index = {k: v for v, k in enumerate(paths)}\n",
    "\n",
    "relations = ud_train_stats['relation'].unique().tolist()\n",
    "relation_to_index = {k: v for v, k in enumerate(relations)}"
   ]
  },
  {
   "cell_type": "code",
   "execution_count": 53,
   "metadata": {},
   "outputs": [],
   "source": [
    "import numpy\n",
    "\n",
    "matrix = numpy.zeros((len(relations), len(paths)))\n",
    "\n",
    "for index, row in ud_train_stats.iterrows():\n",
    "    relation_index = relation_to_index[row['relation']]\n",
    "    path_index = path_to_index[row['path']]\n",
    "    \n",
    "    matrix[relation_index, path_index] = row['count']"
   ]
  },
  {
   "cell_type": "code",
   "execution_count": 54,
   "metadata": {},
   "outputs": [],
   "source": [
    "from sklearn.preprocessing import StandardScaler\n",
    "matrix_std = StandardScaler().fit_transform(matrix)"
   ]
  },
  {
   "cell_type": "code",
   "execution_count": 55,
   "metadata": {},
   "outputs": [],
   "source": [
    "from sklearn.decomposition import PCA\n",
    "pca = PCA(n_components=2)\n",
    "fitted = pca.fit_transform(matrix_std)"
   ]
  },
  {
   "cell_type": "code",
   "execution_count": 56,
   "metadata": {},
   "outputs": [
    {
     "data": {
      "text/html": [
       "        <script type=\"text/javascript\">\n",
       "        window.PlotlyConfig = {MathJaxConfig: 'local'};\n",
       "        if (window.MathJax) {MathJax.Hub.Config({SVG: {font: \"STIX-Web\"}});}\n",
       "        if (typeof require !== 'undefined') {\n",
       "        require.undef(\"plotly\");\n",
       "        requirejs.config({\n",
       "            paths: {\n",
       "                'plotly': ['https://cdn.plot.ly/plotly-latest.min']\n",
       "            }\n",
       "        });\n",
       "        require(['plotly'], function(Plotly) {\n",
       "            window._Plotly = Plotly;\n",
       "        });\n",
       "        }\n",
       "        </script>\n",
       "        "
      ]
     },
     "metadata": {},
     "output_type": "display_data"
    }
   ],
   "source": [
    "from plotly.offline import download_plotlyjs, init_notebook_mode, plot, iplot\n",
    "init_notebook_mode(connected=True)"
   ]
  },
  {
   "cell_type": "code",
   "execution_count": 57,
   "metadata": {},
   "outputs": [
    {
     "data": {
      "application/vnd.plotly.v1+json": {
       "config": {
        "linkText": "Export to plot.ly",
        "plotlyServerURL": "https://plot.ly",
        "showLink": false
       },
       "data": [
        {
         "marker": {
          "line": {
           "color": "rgba(217, 217, 217, 0.14)",
           "width": 0.5
          },
          "opacity": 0.8,
          "size": 12
         },
         "mode": "markers",
         "name": "org:alternate_names",
         "type": "scatter",
         "uid": "83e8f3f6-91fa-4219-95dd-ee1da5c473f5",
         "x": [
          -4.379596703229374
         ],
         "y": [
          -2.6755501407333226
         ]
        },
        {
         "marker": {
          "line": {
           "color": "rgba(217, 217, 217, 0.14)",
           "width": 0.5
          },
          "opacity": 0.8,
          "size": 12
         },
         "mode": "markers",
         "name": "org:city_of_headquarters",
         "type": "scatter",
         "uid": "54c8718c-632c-44c6-9c13-569abe9404df",
         "x": [
          -3.972281678107874
         ],
         "y": [
          -3.702845660598652
         ]
        },
        {
         "marker": {
          "line": {
           "color": "rgba(217, 217, 217, 0.14)",
           "width": 0.5
          },
          "opacity": 0.8,
          "size": 12
         },
         "mode": "markers",
         "name": "org:country_of_headquarters",
         "type": "scatter",
         "uid": "d1d61d52-c8cd-4f0b-9c25-1f24cc81bc4c",
         "x": [
          -4.548998405556197
         ],
         "y": [
          -5.075063843134775
         ]
        },
        {
         "marker": {
          "line": {
           "color": "rgba(217, 217, 217, 0.14)",
           "width": 0.5
          },
          "opacity": 0.8,
          "size": 12
         },
         "mode": "markers",
         "name": "org:dissolved",
         "type": "scatter",
         "uid": "1d76cbf4-850a-4311-bd8a-22b581440611",
         "x": [
          -3.7477179119351534
         ],
         "y": [
          -2.8210039081102436
         ]
        },
        {
         "marker": {
          "line": {
           "color": "rgba(217, 217, 217, 0.14)",
           "width": 0.5
          },
          "opacity": 0.8,
          "size": 12
         },
         "mode": "markers",
         "name": "org:founded",
         "type": "scatter",
         "uid": "1521747e-82aa-477c-a7a2-3f71d3e8e23f",
         "x": [
          -3.9857675129527608
         ],
         "y": [
          -3.0888593712091255
         ]
        },
        {
         "marker": {
          "line": {
           "color": "rgba(217, 217, 217, 0.14)",
           "width": 0.5
          },
          "opacity": 0.8,
          "size": 12
         },
         "mode": "markers",
         "name": "org:founded_by",
         "type": "scatter",
         "uid": "7043a985-3f97-4432-a692-6da5607df923",
         "x": [
          -3.843677305891773
         ],
         "y": [
          -3.189212655739197
         ]
        },
        {
         "marker": {
          "line": {
           "color": "rgba(217, 217, 217, 0.14)",
           "width": 0.5
          },
          "opacity": 0.8,
          "size": 12
         },
         "mode": "markers",
         "name": "org:member_of",
         "type": "scatter",
         "uid": "9f8b7a5e-2ebb-4cb7-8fec-b3ef4dc3fc59",
         "x": [
          -3.455270531862205
         ],
         "y": [
          -3.1423763613086515
         ]
        },
        {
         "marker": {
          "line": {
           "color": "rgba(217, 217, 217, 0.14)",
           "width": 0.5
          },
          "opacity": 0.8,
          "size": 12
         },
         "mode": "markers",
         "name": "org:members",
         "type": "scatter",
         "uid": "6b455f39-9319-4926-849b-eac4dc591d96",
         "x": [
          -3.6588612051781864
         ],
         "y": [
          -3.1695347113515275
         ]
        },
        {
         "marker": {
          "line": {
           "color": "rgba(217, 217, 217, 0.14)",
           "width": 0.5
          },
          "opacity": 0.8,
          "size": 12
         },
         "mode": "markers",
         "name": "org:number_of_employees/members",
         "type": "scatter",
         "uid": "dc3d493a-4d7a-491f-a75e-5bab75dda8db",
         "x": [
          -3.8623968599067497
         ],
         "y": [
          -2.8794327879764388
         ]
        },
        {
         "marker": {
          "line": {
           "color": "rgba(217, 217, 217, 0.14)",
           "width": 0.5
          },
          "opacity": 0.8,
          "size": 12
         },
         "mode": "markers",
         "name": "org:parents",
         "type": "scatter",
         "uid": "62312641-3f08-4a4b-8a90-f4c7e1d6fbb0",
         "x": [
          -4.059019294396293
         ],
         "y": [
          -3.3693634092046794
         ]
        },
        {
         "marker": {
          "line": {
           "color": "rgba(217, 217, 217, 0.14)",
           "width": 0.5
          },
          "opacity": 0.8,
          "size": 12
         },
         "mode": "markers",
         "name": "org:political/religious_affiliation",
         "type": "scatter",
         "uid": "ae6e9c9e-0e49-41ab-9978-430b4408123a",
         "x": [
          -3.8844236808073274
         ],
         "y": [
          -3.1218111143889216
         ]
        },
        {
         "marker": {
          "line": {
           "color": "rgba(217, 217, 217, 0.14)",
           "width": 0.5
          },
          "opacity": 0.8,
          "size": 12
         },
         "mode": "markers",
         "name": "org:shareholders",
         "type": "scatter",
         "uid": "47f2f055-b64e-44c3-9ba8-81d8faaabb9f",
         "x": [
          -3.7877974282649856
         ],
         "y": [
          -2.867179317412166
         ]
        },
        {
         "marker": {
          "line": {
           "color": "rgba(217, 217, 217, 0.14)",
           "width": 0.5
          },
          "opacity": 0.8,
          "size": 12
         },
         "mode": "markers",
         "name": "org:stateorprovince_of_headquarters",
         "type": "scatter",
         "uid": "c945b1c7-9d30-4b43-9198-f3bdfd680390",
         "x": [
          -3.8694279631255672
         ],
         "y": [
          -3.25510301194789
         ]
        },
        {
         "marker": {
          "line": {
           "color": "rgba(217, 217, 217, 0.14)",
           "width": 0.5
          },
          "opacity": 0.8,
          "size": 12
         },
         "mode": "markers",
         "name": "org:subsidiaries",
         "type": "scatter",
         "uid": "a8560ab1-ddef-4688-a407-a87323c24d3c",
         "x": [
          -3.1184573921273513
         ],
         "y": [
          -2.8323077833903785
         ]
        },
        {
         "marker": {
          "line": {
           "color": "rgba(217, 217, 217, 0.14)",
           "width": 0.5
          },
          "opacity": 0.8,
          "size": 12
         },
         "mode": "markers",
         "name": "org:top_members/employees",
         "type": "scatter",
         "uid": "131ecb74-9500-4e69-a5cc-bb4d168cc5db",
         "x": [
          -9.275987210331564
         ],
         "y": [
          -21.240540509458917
         ]
        },
        {
         "marker": {
          "line": {
           "color": "rgba(217, 217, 217, 0.14)",
           "width": 0.5
          },
          "opacity": 0.8,
          "size": 12
         },
         "mode": "markers",
         "name": "org:website",
         "type": "scatter",
         "uid": "287e9182-7385-4242-97a8-09ca24007eec",
         "x": [
          -3.866475645025708
         ],
         "y": [
          -2.4143563667203387
         ]
        },
        {
         "marker": {
          "line": {
           "color": "rgba(217, 217, 217, 0.14)",
           "width": 0.5
          },
          "opacity": 0.8,
          "size": 12
         },
         "mode": "markers",
         "name": "per:age",
         "type": "scatter",
         "uid": "f91deee6-7927-4383-9f40-68805d434f72",
         "x": [
          -3.9065168162958774
         ],
         "y": [
          -3.045163152959179
         ]
        },
        {
         "marker": {
          "line": {
           "color": "rgba(217, 217, 217, 0.14)",
           "width": 0.5
          },
          "opacity": 0.8,
          "size": 12
         },
         "mode": "markers",
         "name": "per:alternate_names",
         "type": "scatter",
         "uid": "8ceb4842-b705-4b4d-9b19-ce98a3b7d259",
         "x": [
          -3.914645553320186
         ],
         "y": [
          -2.1576629536203797
         ]
        },
        {
         "marker": {
          "line": {
           "color": "rgba(217, 217, 217, 0.14)",
           "width": 0.5
          },
          "opacity": 0.8,
          "size": 12
         },
         "mode": "markers",
         "name": "per:cause_of_death",
         "type": "scatter",
         "uid": "3aa67061-e3a3-4f52-a487-2feb6495d1ff",
         "x": [
          -3.185432863688221
         ],
         "y": [
          -2.970357787654743
         ]
        },
        {
         "marker": {
          "line": {
           "color": "rgba(217, 217, 217, 0.14)",
           "width": 0.5
          },
          "opacity": 0.8,
          "size": 12
         },
         "mode": "markers",
         "name": "per:charges",
         "type": "scatter",
         "uid": "48a9272d-7a79-4d4f-b498-0ef96322583c",
         "x": [
          -3.2739314071512458
         ],
         "y": [
          -2.651326689747436
         ]
        },
        {
         "marker": {
          "line": {
           "color": "rgba(217, 217, 217, 0.14)",
           "width": 0.5
          },
          "opacity": 0.8,
          "size": 12
         },
         "mode": "markers",
         "name": "per:children",
         "type": "scatter",
         "uid": "eafe8b58-4928-4d5f-aa52-27d26af07322",
         "x": [
          -3.9684275056712344
         ],
         "y": [
          -3.2586864208432824
         ]
        },
        {
         "marker": {
          "line": {
           "color": "rgba(217, 217, 217, 0.14)",
           "width": 0.5
          },
          "opacity": 0.8,
          "size": 12
         },
         "mode": "markers",
         "name": "per:cities_of_residence",
         "type": "scatter",
         "uid": "393e06f9-fc72-4aaf-80da-e29432578b3e",
         "x": [
          -3.0742939119236805
         ],
         "y": [
          -3.7813354632599054
         ]
        },
        {
         "marker": {
          "line": {
           "color": "rgba(217, 217, 217, 0.14)",
           "width": 0.5
          },
          "opacity": 0.8,
          "size": 12
         },
         "mode": "markers",
         "name": "per:city_of_birth",
         "type": "scatter",
         "uid": "b25885cc-601a-460b-bd57-45e41f80e675",
         "x": [
          -3.6679088384035583
         ],
         "y": [
          -2.8583251542512746
         ]
        },
        {
         "marker": {
          "line": {
           "color": "rgba(217, 217, 217, 0.14)",
           "width": 0.5
          },
          "opacity": 0.8,
          "size": 12
         },
         "mode": "markers",
         "name": "per:city_of_death",
         "type": "scatter",
         "uid": "1611ebec-1150-42cc-87e6-f6c285afd494",
         "x": [
          -3.6073593970348816
         ],
         "y": [
          -2.8020210167969113
         ]
        },
        {
         "marker": {
          "line": {
           "color": "rgba(217, 217, 217, 0.14)",
           "width": 0.5
          },
          "opacity": 0.8,
          "size": 12
         },
         "mode": "markers",
         "name": "per:countries_of_residence",
         "type": "scatter",
         "uid": "dff410bc-b6e0-4ec2-8a8c-37114cfde07d",
         "x": [
          -2.2726992461188926
         ],
         "y": [
          -3.7091818456291175
         ]
        },
        {
         "marker": {
          "line": {
           "color": "rgba(217, 217, 217, 0.14)",
           "width": 0.5
          },
          "opacity": 0.8,
          "size": 12
         },
         "mode": "markers",
         "name": "per:country_of_birth",
         "type": "scatter",
         "uid": "355b1c3c-67ca-4d44-971c-2789c5b9fb0c",
         "x": [
          -3.433896377117557
         ],
         "y": [
          -2.706128329392425
         ]
        },
        {
         "marker": {
          "line": {
           "color": "rgba(217, 217, 217, 0.14)",
           "width": 0.5
          },
          "opacity": 0.8,
          "size": 12
         },
         "mode": "markers",
         "name": "per:country_of_death",
         "type": "scatter",
         "uid": "a804afab-cbcb-4dc7-9d7c-31f5d27331dc",
         "x": [
          -3.6545480300968096
         ],
         "y": [
          -2.7254015064766697
         ]
        },
        {
         "marker": {
          "line": {
           "color": "rgba(217, 217, 217, 0.14)",
           "width": 0.5
          },
          "opacity": 0.8,
          "size": 12
         },
         "mode": "markers",
         "name": "per:date_of_birth",
         "type": "scatter",
         "uid": "472a0be2-60fc-4cb7-9231-551d3158dc43",
         "x": [
          -3.6381038120785023
         ],
         "y": [
          -2.7757475247930783
         ]
        },
        {
         "marker": {
          "line": {
           "color": "rgba(217, 217, 217, 0.14)",
           "width": 0.5
          },
          "opacity": 0.8,
          "size": 12
         },
         "mode": "markers",
         "name": "per:date_of_death",
         "type": "scatter",
         "uid": "d18d3213-3447-4b32-9743-5d1dff62152f",
         "x": [
          -3.808266819239344
         ],
         "y": [
          -2.9667295412318357
         ]
        },
        {
         "marker": {
          "line": {
           "color": "rgba(217, 217, 217, 0.14)",
           "width": 0.5
          },
          "opacity": 0.8,
          "size": 12
         },
         "mode": "markers",
         "name": "per:employee_of",
         "type": "scatter",
         "uid": "5f01210c-afcb-4ec1-a921-400ced9d8176",
         "x": [
          151.36813558645642
         ],
         "y": [
          1.5355367653354917
         ]
        },
        {
         "marker": {
          "line": {
           "color": "rgba(217, 217, 217, 0.14)",
           "width": 0.5
          },
          "opacity": 0.8,
          "size": 12
         },
         "mode": "markers",
         "name": "per:origin",
         "type": "scatter",
         "uid": "174aa81f-3806-46f6-8afd-1988f2481eb6",
         "x": [
          -3.820351173061624
         ],
         "y": [
          -3.6992044410576943
         ]
        },
        {
         "marker": {
          "line": {
           "color": "rgba(217, 217, 217, 0.14)",
           "width": 0.5
          },
          "opacity": 0.8,
          "size": 12
         },
         "mode": "markers",
         "name": "per:other_family",
         "type": "scatter",
         "uid": "5bfd76b4-7c2f-4f26-b600-3a4cbe60d89f",
         "x": [
          -3.1559106598670623
         ],
         "y": [
          -2.518652431214843
         ]
        },
        {
         "marker": {
          "line": {
           "color": "rgba(217, 217, 217, 0.14)",
           "width": 0.5
          },
          "opacity": 0.8,
          "size": 12
         },
         "mode": "markers",
         "name": "per:parents",
         "type": "scatter",
         "uid": "7dfc4f85-3064-4956-9217-23cd12086143",
         "x": [
          -3.0555808435076717
         ],
         "y": [
          -2.5286234944659434
         ]
        },
        {
         "marker": {
          "line": {
           "color": "rgba(217, 217, 217, 0.14)",
           "width": 0.5
          },
          "opacity": 0.8,
          "size": 12
         },
         "mode": "markers",
         "name": "per:religion",
         "type": "scatter",
         "uid": "894a876b-1dcf-4b8a-bef5-6fc612b5b72a",
         "x": [
          -3.673222415402205
         ],
         "y": [
          -2.848028406876193
         ]
        },
        {
         "marker": {
          "line": {
           "color": "rgba(217, 217, 217, 0.14)",
           "width": 0.5
          },
          "opacity": 0.8,
          "size": 12
         },
         "mode": "markers",
         "name": "per:schools_attended",
         "type": "scatter",
         "uid": "449a5ead-7c37-4ef4-b3c1-f5e206f115d8",
         "x": [
          -3.1201229729358744
         ],
         "y": [
          -2.6791469073767904
         ]
        },
        {
         "marker": {
          "line": {
           "color": "rgba(217, 217, 217, 0.14)",
           "width": 0.5
          },
          "opacity": 0.8,
          "size": 12
         },
         "mode": "markers",
         "name": "per:siblings",
         "type": "scatter",
         "uid": "49f4fa57-a826-4567-b6ed-594c060ae601",
         "x": [
          -3.1451437133729723
         ],
         "y": [
          -2.8116767556482998
         ]
        },
        {
         "marker": {
          "line": {
           "color": "rgba(217, 217, 217, 0.14)",
           "width": 0.5
          },
          "opacity": 0.8,
          "size": 12
         },
         "mode": "markers",
         "name": "per:spouse",
         "type": "scatter",
         "uid": "3b8770c9-6917-4d6a-8647-9ac07bf2a5ba",
         "x": [
          -2.46534085541063
         ],
         "y": [
          -3.1569104447532848
         ]
        },
        {
         "marker": {
          "line": {
           "color": "rgba(217, 217, 217, 0.14)",
           "width": 0.5
          },
          "opacity": 0.8,
          "size": 12
         },
         "mode": "markers",
         "name": "per:stateorprovince_of_birth",
         "type": "scatter",
         "uid": "0ebba44a-12ab-4486-b331-72143f684efc",
         "x": [
          -3.461920832074549
         ],
         "y": [
          -2.8334341343432046
         ]
        },
        {
         "marker": {
          "line": {
           "color": "rgba(217, 217, 217, 0.14)",
           "width": 0.5
          },
          "opacity": 0.8,
          "size": 12
         },
         "mode": "markers",
         "name": "per:stateorprovince_of_death",
         "type": "scatter",
         "uid": "dcf2a02d-d614-4dc4-8cc0-cd49efa542d9",
         "x": [
          -3.7741795717739217
         ],
         "y": [
          -2.85443540066062
         ]
        },
        {
         "marker": {
          "line": {
           "color": "rgba(217, 217, 217, 0.14)",
           "width": 0.5
          },
          "opacity": 0.8,
          "size": 12
         },
         "mode": "markers",
         "name": "per:stateorprovinces_of_residence",
         "type": "scatter",
         "uid": "f4c513cc-c9a4-4a59-a05e-781cc5ecf121",
         "x": [
          -2.727768766258
         ],
         "y": [
          -3.223536304199346
         ]
        },
        {
         "marker": {
          "line": {
           "color": "rgba(217, 217, 217, 0.14)",
           "width": 0.5
          },
          "opacity": 0.8,
          "size": 12
         },
         "mode": "markers",
         "name": "per:title",
         "type": "scatter",
         "uid": "ab48d6d5-afc3-4fc0-8711-8637c553a3d2",
         "x": [
          -6.246406475952523
         ],
         "y": [
          134.87072029460217
         ]
        }
       ],
       "layout": {
        "xaxis": {
         "showline": false,
         "title": {
          "text": "PC1"
         }
        },
        "yaxis": {
         "showline": false,
         "title": {
          "text": "PC2"
         }
        }
       }
      },
      "text/html": [
       "<div>\n",
       "        \n",
       "        \n",
       "            <div id=\"19cd03c7-c7cc-4009-86ba-1e19d05ad8e4\" class=\"plotly-graph-div\" style=\"height:525px; width:100%;\"></div>\n",
       "            <script type=\"text/javascript\">\n",
       "                require([\"plotly\"], function(Plotly) {\n",
       "                    window.PLOTLYENV=window.PLOTLYENV || {};\n",
       "                    window.PLOTLYENV.BASE_URL='https://plot.ly';\n",
       "                    \n",
       "                if (document.getElementById(\"19cd03c7-c7cc-4009-86ba-1e19d05ad8e4\")) {\n",
       "                    Plotly.newPlot(\n",
       "                        '19cd03c7-c7cc-4009-86ba-1e19d05ad8e4',\n",
       "                        [{\"marker\": {\"line\": {\"color\": \"rgba(217, 217, 217, 0.14)\", \"width\": 0.5}, \"opacity\": 0.8, \"size\": 12}, \"mode\": \"markers\", \"name\": \"org:alternate_names\", \"type\": \"scatter\", \"uid\": \"83e8f3f6-91fa-4219-95dd-ee1da5c473f5\", \"x\": [-4.379596703229374], \"y\": [-2.6755501407333226]}, {\"marker\": {\"line\": {\"color\": \"rgba(217, 217, 217, 0.14)\", \"width\": 0.5}, \"opacity\": 0.8, \"size\": 12}, \"mode\": \"markers\", \"name\": \"org:city_of_headquarters\", \"type\": \"scatter\", \"uid\": \"54c8718c-632c-44c6-9c13-569abe9404df\", \"x\": [-3.972281678107874], \"y\": [-3.702845660598652]}, {\"marker\": {\"line\": {\"color\": \"rgba(217, 217, 217, 0.14)\", \"width\": 0.5}, \"opacity\": 0.8, \"size\": 12}, \"mode\": \"markers\", \"name\": \"org:country_of_headquarters\", \"type\": \"scatter\", \"uid\": \"d1d61d52-c8cd-4f0b-9c25-1f24cc81bc4c\", \"x\": [-4.548998405556197], \"y\": [-5.075063843134775]}, {\"marker\": {\"line\": {\"color\": \"rgba(217, 217, 217, 0.14)\", \"width\": 0.5}, \"opacity\": 0.8, \"size\": 12}, \"mode\": \"markers\", \"name\": \"org:dissolved\", \"type\": \"scatter\", \"uid\": \"1d76cbf4-850a-4311-bd8a-22b581440611\", \"x\": [-3.7477179119351534], \"y\": [-2.8210039081102436]}, {\"marker\": {\"line\": {\"color\": \"rgba(217, 217, 217, 0.14)\", \"width\": 0.5}, \"opacity\": 0.8, \"size\": 12}, \"mode\": \"markers\", \"name\": \"org:founded\", \"type\": \"scatter\", \"uid\": \"1521747e-82aa-477c-a7a2-3f71d3e8e23f\", \"x\": [-3.9857675129527608], \"y\": [-3.0888593712091255]}, {\"marker\": {\"line\": {\"color\": \"rgba(217, 217, 217, 0.14)\", \"width\": 0.5}, \"opacity\": 0.8, \"size\": 12}, \"mode\": \"markers\", \"name\": \"org:founded_by\", \"type\": \"scatter\", \"uid\": \"7043a985-3f97-4432-a692-6da5607df923\", \"x\": [-3.843677305891773], \"y\": [-3.189212655739197]}, {\"marker\": {\"line\": {\"color\": \"rgba(217, 217, 217, 0.14)\", \"width\": 0.5}, \"opacity\": 0.8, \"size\": 12}, \"mode\": \"markers\", \"name\": \"org:member_of\", \"type\": \"scatter\", \"uid\": \"9f8b7a5e-2ebb-4cb7-8fec-b3ef4dc3fc59\", \"x\": [-3.455270531862205], \"y\": [-3.1423763613086515]}, {\"marker\": {\"line\": {\"color\": \"rgba(217, 217, 217, 0.14)\", \"width\": 0.5}, \"opacity\": 0.8, \"size\": 12}, \"mode\": \"markers\", \"name\": \"org:members\", \"type\": \"scatter\", \"uid\": \"6b455f39-9319-4926-849b-eac4dc591d96\", \"x\": [-3.6588612051781864], \"y\": [-3.1695347113515275]}, {\"marker\": {\"line\": {\"color\": \"rgba(217, 217, 217, 0.14)\", \"width\": 0.5}, \"opacity\": 0.8, \"size\": 12}, \"mode\": \"markers\", \"name\": \"org:number_of_employees/members\", \"type\": \"scatter\", \"uid\": \"dc3d493a-4d7a-491f-a75e-5bab75dda8db\", \"x\": [-3.8623968599067497], \"y\": [-2.8794327879764388]}, {\"marker\": {\"line\": {\"color\": \"rgba(217, 217, 217, 0.14)\", \"width\": 0.5}, \"opacity\": 0.8, \"size\": 12}, \"mode\": \"markers\", \"name\": \"org:parents\", \"type\": \"scatter\", \"uid\": \"62312641-3f08-4a4b-8a90-f4c7e1d6fbb0\", \"x\": [-4.059019294396293], \"y\": [-3.3693634092046794]}, {\"marker\": {\"line\": {\"color\": \"rgba(217, 217, 217, 0.14)\", \"width\": 0.5}, \"opacity\": 0.8, \"size\": 12}, \"mode\": \"markers\", \"name\": \"org:political/religious_affiliation\", \"type\": \"scatter\", \"uid\": \"ae6e9c9e-0e49-41ab-9978-430b4408123a\", \"x\": [-3.8844236808073274], \"y\": [-3.1218111143889216]}, {\"marker\": {\"line\": {\"color\": \"rgba(217, 217, 217, 0.14)\", \"width\": 0.5}, \"opacity\": 0.8, \"size\": 12}, \"mode\": \"markers\", \"name\": \"org:shareholders\", \"type\": \"scatter\", \"uid\": \"47f2f055-b64e-44c3-9ba8-81d8faaabb9f\", \"x\": [-3.7877974282649856], \"y\": [-2.867179317412166]}, {\"marker\": {\"line\": {\"color\": \"rgba(217, 217, 217, 0.14)\", \"width\": 0.5}, \"opacity\": 0.8, \"size\": 12}, \"mode\": \"markers\", \"name\": \"org:stateorprovince_of_headquarters\", \"type\": \"scatter\", \"uid\": \"c945b1c7-9d30-4b43-9198-f3bdfd680390\", \"x\": [-3.8694279631255672], \"y\": [-3.25510301194789]}, {\"marker\": {\"line\": {\"color\": \"rgba(217, 217, 217, 0.14)\", \"width\": 0.5}, \"opacity\": 0.8, \"size\": 12}, \"mode\": \"markers\", \"name\": \"org:subsidiaries\", \"type\": \"scatter\", \"uid\": \"a8560ab1-ddef-4688-a407-a87323c24d3c\", \"x\": [-3.1184573921273513], \"y\": [-2.8323077833903785]}, {\"marker\": {\"line\": {\"color\": \"rgba(217, 217, 217, 0.14)\", \"width\": 0.5}, \"opacity\": 0.8, \"size\": 12}, \"mode\": \"markers\", \"name\": \"org:top_members/employees\", \"type\": \"scatter\", \"uid\": \"131ecb74-9500-4e69-a5cc-bb4d168cc5db\", \"x\": [-9.275987210331564], \"y\": [-21.240540509458917]}, {\"marker\": {\"line\": {\"color\": \"rgba(217, 217, 217, 0.14)\", \"width\": 0.5}, \"opacity\": 0.8, \"size\": 12}, \"mode\": \"markers\", \"name\": \"org:website\", \"type\": \"scatter\", \"uid\": \"287e9182-7385-4242-97a8-09ca24007eec\", \"x\": [-3.866475645025708], \"y\": [-2.4143563667203387]}, {\"marker\": {\"line\": {\"color\": \"rgba(217, 217, 217, 0.14)\", \"width\": 0.5}, \"opacity\": 0.8, \"size\": 12}, \"mode\": \"markers\", \"name\": \"per:age\", \"type\": \"scatter\", \"uid\": \"f91deee6-7927-4383-9f40-68805d434f72\", \"x\": [-3.9065168162958774], \"y\": [-3.045163152959179]}, {\"marker\": {\"line\": {\"color\": \"rgba(217, 217, 217, 0.14)\", \"width\": 0.5}, \"opacity\": 0.8, \"size\": 12}, \"mode\": \"markers\", \"name\": \"per:alternate_names\", \"type\": \"scatter\", \"uid\": \"8ceb4842-b705-4b4d-9b19-ce98a3b7d259\", \"x\": [-3.914645553320186], \"y\": [-2.1576629536203797]}, {\"marker\": {\"line\": {\"color\": \"rgba(217, 217, 217, 0.14)\", \"width\": 0.5}, \"opacity\": 0.8, \"size\": 12}, \"mode\": \"markers\", \"name\": \"per:cause_of_death\", \"type\": \"scatter\", \"uid\": \"3aa67061-e3a3-4f52-a487-2feb6495d1ff\", \"x\": [-3.185432863688221], \"y\": [-2.970357787654743]}, {\"marker\": {\"line\": {\"color\": \"rgba(217, 217, 217, 0.14)\", \"width\": 0.5}, \"opacity\": 0.8, \"size\": 12}, \"mode\": \"markers\", \"name\": \"per:charges\", \"type\": \"scatter\", \"uid\": \"48a9272d-7a79-4d4f-b498-0ef96322583c\", \"x\": [-3.2739314071512458], \"y\": [-2.651326689747436]}, {\"marker\": {\"line\": {\"color\": \"rgba(217, 217, 217, 0.14)\", \"width\": 0.5}, \"opacity\": 0.8, \"size\": 12}, \"mode\": \"markers\", \"name\": \"per:children\", \"type\": \"scatter\", \"uid\": \"eafe8b58-4928-4d5f-aa52-27d26af07322\", \"x\": [-3.9684275056712344], \"y\": [-3.2586864208432824]}, {\"marker\": {\"line\": {\"color\": \"rgba(217, 217, 217, 0.14)\", \"width\": 0.5}, \"opacity\": 0.8, \"size\": 12}, \"mode\": \"markers\", \"name\": \"per:cities_of_residence\", \"type\": \"scatter\", \"uid\": \"393e06f9-fc72-4aaf-80da-e29432578b3e\", \"x\": [-3.0742939119236805], \"y\": [-3.7813354632599054]}, {\"marker\": {\"line\": {\"color\": \"rgba(217, 217, 217, 0.14)\", \"width\": 0.5}, \"opacity\": 0.8, \"size\": 12}, \"mode\": \"markers\", \"name\": \"per:city_of_birth\", \"type\": \"scatter\", \"uid\": \"b25885cc-601a-460b-bd57-45e41f80e675\", \"x\": [-3.6679088384035583], \"y\": [-2.8583251542512746]}, {\"marker\": {\"line\": {\"color\": \"rgba(217, 217, 217, 0.14)\", \"width\": 0.5}, \"opacity\": 0.8, \"size\": 12}, \"mode\": \"markers\", \"name\": \"per:city_of_death\", \"type\": \"scatter\", \"uid\": \"1611ebec-1150-42cc-87e6-f6c285afd494\", \"x\": [-3.6073593970348816], \"y\": [-2.8020210167969113]}, {\"marker\": {\"line\": {\"color\": \"rgba(217, 217, 217, 0.14)\", \"width\": 0.5}, \"opacity\": 0.8, \"size\": 12}, \"mode\": \"markers\", \"name\": \"per:countries_of_residence\", \"type\": \"scatter\", \"uid\": \"dff410bc-b6e0-4ec2-8a8c-37114cfde07d\", \"x\": [-2.2726992461188926], \"y\": [-3.7091818456291175]}, {\"marker\": {\"line\": {\"color\": \"rgba(217, 217, 217, 0.14)\", \"width\": 0.5}, \"opacity\": 0.8, \"size\": 12}, \"mode\": \"markers\", \"name\": \"per:country_of_birth\", \"type\": \"scatter\", \"uid\": \"355b1c3c-67ca-4d44-971c-2789c5b9fb0c\", \"x\": [-3.433896377117557], \"y\": [-2.706128329392425]}, {\"marker\": {\"line\": {\"color\": \"rgba(217, 217, 217, 0.14)\", \"width\": 0.5}, \"opacity\": 0.8, \"size\": 12}, \"mode\": \"markers\", \"name\": \"per:country_of_death\", \"type\": \"scatter\", \"uid\": \"a804afab-cbcb-4dc7-9d7c-31f5d27331dc\", \"x\": [-3.6545480300968096], \"y\": [-2.7254015064766697]}, {\"marker\": {\"line\": {\"color\": \"rgba(217, 217, 217, 0.14)\", \"width\": 0.5}, \"opacity\": 0.8, \"size\": 12}, \"mode\": \"markers\", \"name\": \"per:date_of_birth\", \"type\": \"scatter\", \"uid\": \"472a0be2-60fc-4cb7-9231-551d3158dc43\", \"x\": [-3.6381038120785023], \"y\": [-2.7757475247930783]}, {\"marker\": {\"line\": {\"color\": \"rgba(217, 217, 217, 0.14)\", \"width\": 0.5}, \"opacity\": 0.8, \"size\": 12}, \"mode\": \"markers\", \"name\": \"per:date_of_death\", \"type\": \"scatter\", \"uid\": \"d18d3213-3447-4b32-9743-5d1dff62152f\", \"x\": [-3.808266819239344], \"y\": [-2.9667295412318357]}, {\"marker\": {\"line\": {\"color\": \"rgba(217, 217, 217, 0.14)\", \"width\": 0.5}, \"opacity\": 0.8, \"size\": 12}, \"mode\": \"markers\", \"name\": \"per:employee_of\", \"type\": \"scatter\", \"uid\": \"5f01210c-afcb-4ec1-a921-400ced9d8176\", \"x\": [151.36813558645642], \"y\": [1.5355367653354917]}, {\"marker\": {\"line\": {\"color\": \"rgba(217, 217, 217, 0.14)\", \"width\": 0.5}, \"opacity\": 0.8, \"size\": 12}, \"mode\": \"markers\", \"name\": \"per:origin\", \"type\": \"scatter\", \"uid\": \"174aa81f-3806-46f6-8afd-1988f2481eb6\", \"x\": [-3.820351173061624], \"y\": [-3.6992044410576943]}, {\"marker\": {\"line\": {\"color\": \"rgba(217, 217, 217, 0.14)\", \"width\": 0.5}, \"opacity\": 0.8, \"size\": 12}, \"mode\": \"markers\", \"name\": \"per:other_family\", \"type\": \"scatter\", \"uid\": \"5bfd76b4-7c2f-4f26-b600-3a4cbe60d89f\", \"x\": [-3.1559106598670623], \"y\": [-2.518652431214843]}, {\"marker\": {\"line\": {\"color\": \"rgba(217, 217, 217, 0.14)\", \"width\": 0.5}, \"opacity\": 0.8, \"size\": 12}, \"mode\": \"markers\", \"name\": \"per:parents\", \"type\": \"scatter\", \"uid\": \"7dfc4f85-3064-4956-9217-23cd12086143\", \"x\": [-3.0555808435076717], \"y\": [-2.5286234944659434]}, {\"marker\": {\"line\": {\"color\": \"rgba(217, 217, 217, 0.14)\", \"width\": 0.5}, \"opacity\": 0.8, \"size\": 12}, \"mode\": \"markers\", \"name\": \"per:religion\", \"type\": \"scatter\", \"uid\": \"894a876b-1dcf-4b8a-bef5-6fc612b5b72a\", \"x\": [-3.673222415402205], \"y\": [-2.848028406876193]}, {\"marker\": {\"line\": {\"color\": \"rgba(217, 217, 217, 0.14)\", \"width\": 0.5}, \"opacity\": 0.8, \"size\": 12}, \"mode\": \"markers\", \"name\": \"per:schools_attended\", \"type\": \"scatter\", \"uid\": \"449a5ead-7c37-4ef4-b3c1-f5e206f115d8\", \"x\": [-3.1201229729358744], \"y\": [-2.6791469073767904]}, {\"marker\": {\"line\": {\"color\": \"rgba(217, 217, 217, 0.14)\", \"width\": 0.5}, \"opacity\": 0.8, \"size\": 12}, \"mode\": \"markers\", \"name\": \"per:siblings\", \"type\": \"scatter\", \"uid\": \"49f4fa57-a826-4567-b6ed-594c060ae601\", \"x\": [-3.1451437133729723], \"y\": [-2.8116767556482998]}, {\"marker\": {\"line\": {\"color\": \"rgba(217, 217, 217, 0.14)\", \"width\": 0.5}, \"opacity\": 0.8, \"size\": 12}, \"mode\": \"markers\", \"name\": \"per:spouse\", \"type\": \"scatter\", \"uid\": \"3b8770c9-6917-4d6a-8647-9ac07bf2a5ba\", \"x\": [-2.46534085541063], \"y\": [-3.1569104447532848]}, {\"marker\": {\"line\": {\"color\": \"rgba(217, 217, 217, 0.14)\", \"width\": 0.5}, \"opacity\": 0.8, \"size\": 12}, \"mode\": \"markers\", \"name\": \"per:stateorprovince_of_birth\", \"type\": \"scatter\", \"uid\": \"0ebba44a-12ab-4486-b331-72143f684efc\", \"x\": [-3.461920832074549], \"y\": [-2.8334341343432046]}, {\"marker\": {\"line\": {\"color\": \"rgba(217, 217, 217, 0.14)\", \"width\": 0.5}, \"opacity\": 0.8, \"size\": 12}, \"mode\": \"markers\", \"name\": \"per:stateorprovince_of_death\", \"type\": \"scatter\", \"uid\": \"dcf2a02d-d614-4dc4-8cc0-cd49efa542d9\", \"x\": [-3.7741795717739217], \"y\": [-2.85443540066062]}, {\"marker\": {\"line\": {\"color\": \"rgba(217, 217, 217, 0.14)\", \"width\": 0.5}, \"opacity\": 0.8, \"size\": 12}, \"mode\": \"markers\", \"name\": \"per:stateorprovinces_of_residence\", \"type\": \"scatter\", \"uid\": \"f4c513cc-c9a4-4a59-a05e-781cc5ecf121\", \"x\": [-2.727768766258], \"y\": [-3.223536304199346]}, {\"marker\": {\"line\": {\"color\": \"rgba(217, 217, 217, 0.14)\", \"width\": 0.5}, \"opacity\": 0.8, \"size\": 12}, \"mode\": \"markers\", \"name\": \"per:title\", \"type\": \"scatter\", \"uid\": \"ab48d6d5-afc3-4fc0-8711-8637c553a3d2\", \"x\": [-6.246406475952523], \"y\": [134.87072029460217]}],\n",
       "                        {\"xaxis\": {\"showline\": false, \"title\": {\"text\": \"PC1\"}}, \"yaxis\": {\"showline\": false, \"title\": {\"text\": \"PC2\"}}},\n",
       "                        {\"showLink\": false, \"linkText\": \"Export to plot.ly\", \"plotlyServerURL\": \"https://plot.ly\", \"responsive\": true}\n",
       "                    ).then(function(){\n",
       "                            \n",
       "var gd = document.getElementById('19cd03c7-c7cc-4009-86ba-1e19d05ad8e4');\n",
       "var x = new MutationObserver(function (mutations, observer) {{\n",
       "        var display = window.getComputedStyle(gd).display;\n",
       "        if (!display || display === 'none') {{\n",
       "            console.log([gd, 'removed!']);\n",
       "            Plotly.purge(gd);\n",
       "            observer.disconnect();\n",
       "        }}\n",
       "}});\n",
       "\n",
       "// Listen for the removal of the full notebook cells\n",
       "var notebookContainer = gd.closest('#notebook-container');\n",
       "if (notebookContainer) {{\n",
       "    x.observe(notebookContainer, {childList: true});\n",
       "}}\n",
       "\n",
       "// Listen for the clearing of the current output cell\n",
       "var outputEl = gd.closest('.output');\n",
       "if (outputEl) {{\n",
       "    x.observe(outputEl, {childList: true});\n",
       "}}\n",
       "\n",
       "                        })\n",
       "                };\n",
       "                });\n",
       "            </script>\n",
       "        </div>"
      ]
     },
     "metadata": {},
     "output_type": "display_data"
    }
   ],
   "source": [
    "data = []\n",
    "\n",
    "for relation_index, relation in enumerate(relations):\n",
    "\n",
    "    trace = dict(\n",
    "        type='scatter',\n",
    "        x=[fitted[relation_index,0]],\n",
    "        y=[fitted[relation_index,1]],\n",
    "        mode='markers',\n",
    "        name=relation,\n",
    "        marker=dict(\n",
    "            size=12,\n",
    "            line=dict(\n",
    "                color='rgba(217, 217, 217, 0.14)',\n",
    "                width=0.5),\n",
    "            opacity=0.8)\n",
    "    )\n",
    "    data.append(trace)\n",
    "\n",
    "layout = dict(\n",
    "        xaxis=dict(title='PC1', showline=False),\n",
    "        yaxis=dict(title='PC2', showline=False)\n",
    ")\n",
    "fig = dict(data=data, layout=layout)\n",
    "iplot(fig)"
   ]
  }
 ],
 "metadata": {
  "kernelspec": {
   "display_name": "Python 3",
   "language": "python",
   "name": "python3"
  },
  "language_info": {
   "codemirror_mode": {
    "name": "ipython",
    "version": 3
   },
   "file_extension": ".py",
   "mimetype": "text/x-python",
   "name": "python",
   "nbconvert_exporter": "python",
   "pygments_lexer": "ipython3",
   "version": "3.7.4"
  }
 },
 "nbformat": 4,
 "nbformat_minor": 2
}
