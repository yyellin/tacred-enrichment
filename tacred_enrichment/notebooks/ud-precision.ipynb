{
 "cells": [
  {
   "cell_type": "code",
   "execution_count": 1,
   "metadata": {},
   "outputs": [
    {
     "data": {
      "text/html": [
       "        <script type=\"text/javascript\">\n",
       "        window.PlotlyConfig = {MathJaxConfig: 'local'};\n",
       "        if (window.MathJax) {MathJax.Hub.Config({SVG: {font: \"STIX-Web\"}});}\n",
       "        if (typeof require !== 'undefined') {\n",
       "        require.undef(\"plotly\");\n",
       "        requirejs.config({\n",
       "            paths: {\n",
       "                'plotly': ['https://cdn.plot.ly/plotly-latest.min']\n",
       "            }\n",
       "        });\n",
       "        require(['plotly'], function(Plotly) {\n",
       "            window._Plotly = Plotly;\n",
       "        });\n",
       "        }\n",
       "        </script>\n",
       "        "
      ]
     },
     "metadata": {},
     "output_type": "display_data"
    }
   ],
   "source": [
    "from plotly.offline import download_plotlyjs, init_notebook_mode, plot, iplot\n",
    "init_notebook_mode(connected=True)"
   ]
  },
  {
   "cell_type": "code",
   "execution_count": 2,
   "metadata": {},
   "outputs": [],
   "source": [
    "import pandas\n",
    "\n",
    "train = pandas.read_csv(r'C:\\Users\\JYellin\\re_1\\tacred\\results\\general\\train-ud_paths_v0.0.5.csv')\n",
    "test = pandas.read_csv(r'C:\\Users\\JYellin\\re_1\\tacred\\results\\general\\test-ud_paths_v0.0.5.csv')\n",
    "    "
   ]
  },
  {
   "cell_type": "code",
   "execution_count": 3,
   "metadata": {},
   "outputs": [],
   "source": [
    "relation_to_paths = train.groupby(['relation'])['path'].unique().to_dict()"
   ]
  },
  {
   "cell_type": "code",
   "execution_count": 4,
   "metadata": {},
   "outputs": [],
   "source": [
    "def label_sentence_recall(test_row, relation):\n",
    "    path = test_row['path']\n",
    "    true_relation = test_row['relation']\n",
    "    \n",
    "    if path in relation_to_paths[relation]:\n",
    "        if true_relation == relation:\n",
    "            return 'TP'\n",
    "        else:\n",
    "            return 'FP'\n",
    "    else:\n",
    "        return 'N'"
   ]
  },
  {
   "cell_type": "code",
   "execution_count": 5,
   "metadata": {},
   "outputs": [],
   "source": [
    "for relation in filter(lambda relation: relation != 'no_relation', relation_to_paths.keys()):\n",
    "    test[relation] = test.apply(lambda row : label_sentence_recall(row, relation), axis=1)    "
   ]
  },
  {
   "cell_type": "code",
   "execution_count": 8,
   "metadata": {},
   "outputs": [],
   "source": [
    "stats = []\n",
    "overall_tp = 0\n",
    "overall_fp = 0\n",
    "\n",
    "for relation in filter(lambda relation: relation != 'no_relation', relation_to_paths.keys()):\n",
    "\n",
    "    counts = test[relation].value_counts().to_dict()\n",
    "        \n",
    "    tp = counts.get('TP', 0)\n",
    "    fp = counts.get('FP', 0)\n",
    "    precision = tp / (tp+fp)\n",
    "\n",
    "    stats.append( (relation, round(precision,4) ) )\n",
    "    \n",
    "    overall_tp += tp\n",
    "    overall_fp += fp\n",
    "    \n",
    "overall_precision = overall_tp / (overall_tp+overall_fp)\n",
    "\n",
    "\n",
    "stats.append( ('overall', round(overall_precision,4) ) )\n",
    "stats = sorted(stats, key=lambda x: x[1], reverse=True)"
   ]
  },
  {
   "cell_type": "code",
   "execution_count": 12,
   "metadata": {},
   "outputs": [
    {
     "data": {
      "application/vnd.plotly.v1+json": {
       "config": {
        "linkText": "Export to plot.ly",
        "plotlyServerURL": "https://plot.ly",
        "showLink": false
       },
       "data": [
        {
         "marker": {
          "color": [
           "rgb(58,200,225)",
           "rgb(58,200,225)",
           "rgb(58,200,225)",
           "rgb(58,200,225)",
           "rgb(58,200,225)",
           "rgb(58,200,225)",
           "rgb(181,59,89)",
           "rgb(58,200,225)",
           "rgb(58,200,225)",
           "rgb(58,200,225)",
           "rgb(58,200,225)",
           "rgb(58,200,225)",
           "rgb(58,200,225)",
           "rgb(58,200,225)",
           "rgb(58,200,225)",
           "rgb(58,200,225)",
           "rgb(58,200,225)",
           "rgb(58,200,225)",
           "rgb(58,200,225)",
           "rgb(58,200,225)",
           "rgb(58,200,225)",
           "rgb(58,200,225)",
           "rgb(58,200,225)",
           "rgb(58,200,225)",
           "rgb(58,200,225)",
           "rgb(58,200,225)",
           "rgb(58,200,225)",
           "rgb(58,200,225)",
           "rgb(58,200,225)",
           "rgb(58,200,225)",
           "rgb(58,200,225)",
           "rgb(58,200,225)",
           "rgb(58,200,225)",
           "rgb(58,200,225)",
           "rgb(58,200,225)",
           "rgb(58,200,225)",
           "rgb(58,200,225)",
           "rgb(58,200,225)",
           "rgb(58,200,225)",
           "rgb(58,200,225)",
           "rgb(58,200,225)",
           "rgb(58,200,225)"
          ],
          "line": {
           "color": "rgb(8,48,107)",
           "width": 0.5
          }
         },
         "name": "Recall",
         "opacity": 0.6,
         "type": "bar",
         "uid": "b8f3d64d-d7bf-4105-8c5e-aa6acd687a63",
         "width": 0.5,
         "x": [
          "per:title",
          "org:alternate_names",
          "org:top_members/employees",
          "per:age",
          "per:charges",
          "per:parents",
          "overall",
          "org:founded",
          "per:cities_of_residence",
          "per:employee_of",
          "org:city_of_headquarters",
          "per:origin",
          "org:founded_by",
          "per:religion",
          "per:city_of_death",
          "org:number_of_employees/members",
          "per:date_of_birth",
          "per:countries_of_residence",
          "per:children",
          "org:country_of_headquarters",
          "org:stateorprovince_of_headquarters",
          "per:other_family",
          "per:spouse",
          "org:website",
          "per:schools_attended",
          "per:date_of_death",
          "per:siblings",
          "org:political/religious_affiliation",
          "per:stateorprovinces_of_residence",
          "per:city_of_birth",
          "per:cause_of_death",
          "org:subsidiaries",
          "per:stateorprovince_of_birth",
          "org:parents",
          "per:stateorprovince_of_death",
          "org:member_of",
          "org:members",
          "org:dissolved",
          "org:shareholders",
          "per:alternate_names",
          "per:country_of_birth",
          "per:country_of_death"
         ],
         "y": [
          0.1548,
          0.1457,
          0.1409,
          0.139,
          0.0504,
          0.0484,
          0.0477,
          0.0452,
          0.045,
          0.0415,
          0.0405,
          0.0385,
          0.0304,
          0.027,
          0.0263,
          0.0227,
          0.0197,
          0.019,
          0.0177,
          0.0175,
          0.0165,
          0.0165,
          0.0162,
          0.0159,
          0.0158,
          0.0147,
          0.0127,
          0.0125,
          0.0119,
          0.0118,
          0.0112,
          0.0104,
          0.0099,
          0.0097,
          0.0068,
          0.0018,
          0.0018,
          0,
          0,
          0,
          0,
          0
         ]
        }
       ],
       "layout": {
        "barmode": "overlay",
        "title": {
         "text": "UD Path - Precision"
        },
        "width": 1200,
        "xaxis": {
         "automargin": true,
         "tickangle": 45,
         "title": {
          "text": "Relation"
         }
        },
        "yaxis": {
         "title": {
          "text": "Precision"
         }
        }
       }
      },
      "text/html": [
       "<div>\n",
       "        \n",
       "        \n",
       "            <div id=\"cfe22359-eafa-4b3a-8326-3add2c3f4afe\" class=\"plotly-graph-div\" style=\"height:525px; width:1200px;\"></div>\n",
       "            <script type=\"text/javascript\">\n",
       "                require([\"plotly\"], function(Plotly) {\n",
       "                    window.PLOTLYENV=window.PLOTLYENV || {};\n",
       "                    window.PLOTLYENV.BASE_URL='https://plot.ly';\n",
       "                    \n",
       "                if (document.getElementById(\"cfe22359-eafa-4b3a-8326-3add2c3f4afe\")) {\n",
       "                    Plotly.newPlot(\n",
       "                        'cfe22359-eafa-4b3a-8326-3add2c3f4afe',\n",
       "                        [{\"marker\": {\"color\": [\"rgb(58,200,225)\", \"rgb(58,200,225)\", \"rgb(58,200,225)\", \"rgb(58,200,225)\", \"rgb(58,200,225)\", \"rgb(58,200,225)\", \"rgb(181,59,89)\", \"rgb(58,200,225)\", \"rgb(58,200,225)\", \"rgb(58,200,225)\", \"rgb(58,200,225)\", \"rgb(58,200,225)\", \"rgb(58,200,225)\", \"rgb(58,200,225)\", \"rgb(58,200,225)\", \"rgb(58,200,225)\", \"rgb(58,200,225)\", \"rgb(58,200,225)\", \"rgb(58,200,225)\", \"rgb(58,200,225)\", \"rgb(58,200,225)\", \"rgb(58,200,225)\", \"rgb(58,200,225)\", \"rgb(58,200,225)\", \"rgb(58,200,225)\", \"rgb(58,200,225)\", \"rgb(58,200,225)\", \"rgb(58,200,225)\", \"rgb(58,200,225)\", \"rgb(58,200,225)\", \"rgb(58,200,225)\", \"rgb(58,200,225)\", \"rgb(58,200,225)\", \"rgb(58,200,225)\", \"rgb(58,200,225)\", \"rgb(58,200,225)\", \"rgb(58,200,225)\", \"rgb(58,200,225)\", \"rgb(58,200,225)\", \"rgb(58,200,225)\", \"rgb(58,200,225)\", \"rgb(58,200,225)\"], \"line\": {\"color\": \"rgb(8,48,107)\", \"width\": 0.5}}, \"name\": \"Recall\", \"opacity\": 0.6, \"type\": \"bar\", \"uid\": \"b8f3d64d-d7bf-4105-8c5e-aa6acd687a63\", \"width\": 0.5, \"x\": [\"per:title\", \"org:alternate_names\", \"org:top_members/employees\", \"per:age\", \"per:charges\", \"per:parents\", \"overall\", \"org:founded\", \"per:cities_of_residence\", \"per:employee_of\", \"org:city_of_headquarters\", \"per:origin\", \"org:founded_by\", \"per:religion\", \"per:city_of_death\", \"org:number_of_employees/members\", \"per:date_of_birth\", \"per:countries_of_residence\", \"per:children\", \"org:country_of_headquarters\", \"org:stateorprovince_of_headquarters\", \"per:other_family\", \"per:spouse\", \"org:website\", \"per:schools_attended\", \"per:date_of_death\", \"per:siblings\", \"org:political/religious_affiliation\", \"per:stateorprovinces_of_residence\", \"per:city_of_birth\", \"per:cause_of_death\", \"org:subsidiaries\", \"per:stateorprovince_of_birth\", \"org:parents\", \"per:stateorprovince_of_death\", \"org:member_of\", \"org:members\", \"org:dissolved\", \"org:shareholders\", \"per:alternate_names\", \"per:country_of_birth\", \"per:country_of_death\"], \"y\": [0.1548, 0.1457, 0.1409, 0.139, 0.0504, 0.0484, 0.0477, 0.0452, 0.045, 0.0415, 0.0405, 0.0385, 0.0304, 0.027, 0.0263, 0.0227, 0.0197, 0.019, 0.0177, 0.0175, 0.0165, 0.0165, 0.0162, 0.0159, 0.0158, 0.0147, 0.0127, 0.0125, 0.0119, 0.0118, 0.0112, 0.0104, 0.0099, 0.0097, 0.0068, 0.0018, 0.0018, 0.0, 0.0, 0.0, 0.0, 0.0]}],\n",
       "                        {\"barmode\": \"overlay\", \"title\": {\"text\": \"UD Path - Precision\"}, \"width\": 1200, \"xaxis\": {\"automargin\": true, \"tickangle\": 45, \"title\": {\"text\": \"Relation\"}}, \"yaxis\": {\"title\": {\"text\": \"Precision\"}}},\n",
       "                        {\"showLink\": false, \"linkText\": \"Export to plot.ly\", \"plotlyServerURL\": \"https://plot.ly\", \"responsive\": true}\n",
       "                    ).then(function(){\n",
       "                            \n",
       "var gd = document.getElementById('cfe22359-eafa-4b3a-8326-3add2c3f4afe');\n",
       "var x = new MutationObserver(function (mutations, observer) {{\n",
       "        var display = window.getComputedStyle(gd).display;\n",
       "        if (!display || display === 'none') {{\n",
       "            console.log([gd, 'removed!']);\n",
       "            Plotly.purge(gd);\n",
       "            observer.disconnect();\n",
       "        }}\n",
       "}});\n",
       "\n",
       "// Listen for the removal of the full notebook cells\n",
       "var notebookContainer = gd.closest('#notebook-container');\n",
       "if (notebookContainer) {{\n",
       "    x.observe(notebookContainer, {childList: true});\n",
       "}}\n",
       "\n",
       "// Listen for the clearing of the current output cell\n",
       "var outputEl = gd.closest('.output');\n",
       "if (outputEl) {{\n",
       "    x.observe(outputEl, {childList: true});\n",
       "}}\n",
       "\n",
       "                        })\n",
       "                };\n",
       "                });\n",
       "            </script>\n",
       "        </div>"
      ]
     },
     "metadata": {},
     "output_type": "display_data"
    }
   ],
   "source": [
    "import plotly.graph_objs as go\n",
    "\n",
    "\n",
    "overall_index = next(i for (i, stat) in enumerate(stats) if stat[0] == 'overall')\n",
    "\n",
    "colors = ['rgb(58,200,225)'] * len(stats)\n",
    "colors[overall_index] = 'rgb(181,59,89)'\n",
    "\n",
    "\n",
    "trace = go.Bar(\n",
    "    x=[stat[0] for stat in stats],\n",
    "    y=[stat[1] for stat in stats],\n",
    "    name='Recall',\n",
    "    width=0.5,\n",
    "    marker=dict(\n",
    "        color=colors,\n",
    "        line=dict(\n",
    "            color='rgb(8,48,107)',\n",
    "            width=0.5),\n",
    "        ),\n",
    "    opacity=0.6\n",
    ")\n",
    "\n",
    "data = [trace]\n",
    "layout = go.Layout(\n",
    "    title='UD Path - Precision',\n",
    "    xaxis_title=\"Relation\",\n",
    "    yaxis_title=\"Precision\",        \n",
    "    barmode='overlay',\n",
    "    width=1200,\n",
    "    xaxis = go.layout.XAxis(\n",
    "        tickangle = 45,\n",
    "        automargin = True\n",
    "        \n",
    "    )\n",
    "    \n",
    "        \n",
    ")\n",
    "\n",
    "fig = go.Figure(data=data, layout=layout)\n",
    "iplot(fig)"
   ]
  },
  {
   "cell_type": "code",
   "execution_count": 10,
   "metadata": {},
   "outputs": [
    {
     "data": {
      "text/plain": [
       "[('per:title', 0.1548),\n",
       " ('org:alternate_names', 0.1457),\n",
       " ('org:top_members/employees', 0.1409),\n",
       " ('per:age', 0.139),\n",
       " ('per:charges', 0.0504),\n",
       " ('per:parents', 0.0484),\n",
       " ('overall', 0.0477),\n",
       " ('org:founded', 0.0452),\n",
       " ('per:cities_of_residence', 0.045),\n",
       " ('per:employee_of', 0.0415),\n",
       " ('org:city_of_headquarters', 0.0405),\n",
       " ('per:origin', 0.0385),\n",
       " ('org:founded_by', 0.0304),\n",
       " ('per:religion', 0.027),\n",
       " ('per:city_of_death', 0.0263),\n",
       " ('org:number_of_employees/members', 0.0227),\n",
       " ('per:date_of_birth', 0.0197),\n",
       " ('per:countries_of_residence', 0.019),\n",
       " ('per:children', 0.0177),\n",
       " ('org:country_of_headquarters', 0.0175),\n",
       " ('org:stateorprovince_of_headquarters', 0.0165),\n",
       " ('per:other_family', 0.0165),\n",
       " ('per:spouse', 0.0162),\n",
       " ('org:website', 0.0159),\n",
       " ('per:schools_attended', 0.0158),\n",
       " ('per:date_of_death', 0.0147),\n",
       " ('per:siblings', 0.0127),\n",
       " ('org:political/religious_affiliation', 0.0125),\n",
       " ('per:stateorprovinces_of_residence', 0.0119),\n",
       " ('per:city_of_birth', 0.0118),\n",
       " ('per:cause_of_death', 0.0112),\n",
       " ('org:subsidiaries', 0.0104),\n",
       " ('per:stateorprovince_of_birth', 0.0099),\n",
       " ('org:parents', 0.0097),\n",
       " ('per:stateorprovince_of_death', 0.0068),\n",
       " ('org:member_of', 0.0018),\n",
       " ('org:members', 0.0018),\n",
       " ('org:dissolved', 0.0),\n",
       " ('org:shareholders', 0.0),\n",
       " ('per:alternate_names', 0.0),\n",
       " ('per:country_of_birth', 0.0),\n",
       " ('per:country_of_death', 0.0)]"
      ]
     },
     "execution_count": 10,
     "metadata": {},
     "output_type": "execute_result"
    }
   ],
   "source": [
    "stats"
   ]
  },
  {
   "cell_type": "code",
   "execution_count": null,
   "metadata": {},
   "outputs": [],
   "source": []
  }
 ],
 "metadata": {
  "kernelspec": {
   "display_name": "Python 3",
   "language": "python",
   "name": "python3"
  },
  "language_info": {
   "codemirror_mode": {
    "name": "ipython",
    "version": 3
   },
   "file_extension": ".py",
   "mimetype": "text/x-python",
   "name": "python",
   "nbconvert_exporter": "python",
   "pygments_lexer": "ipython3",
   "version": "3.7.6"
  }
 },
 "nbformat": 4,
 "nbformat_minor": 2
}
