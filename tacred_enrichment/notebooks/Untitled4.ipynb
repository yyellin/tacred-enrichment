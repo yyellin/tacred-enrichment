{
 "cells": [
  {
   "cell_type": "code",
   "execution_count": 1,
   "metadata": {},
   "outputs": [],
   "source": [
    "import pandas"
   ]
  },
  {
   "cell_type": "code",
   "execution_count": 39,
   "metadata": {},
   "outputs": [],
   "source": [
    "train_path = pandas.read_json(r'C:\\Users\\JYellin\\re_1\\tacred\\data\\json-enhanced\\train.json')\n",
    "train_emb = pandas.read_json(r'C:\\Users\\JYellin\\re_1\\tacred\\data\\json-enhanced3\\train-nopath.json')"
   ]
  },
  {
   "cell_type": "code",
   "execution_count": 40,
   "metadata": {},
   "outputs": [],
   "source": [
    "train_path.drop(['docid', 'relation', 'token', 'subj_start', 'subj_end', 'obj_start', 'obj_end', 'subj_type', 'obj_type', 'stanford_pos', 'stanford_ner', 'stanford_head', 'stanford_deprel'], axis=1, inplace=True)"
   ]
  },
  {
   "cell_type": "code",
   "execution_count": 41,
   "metadata": {},
   "outputs": [],
   "source": [
    "train = train_emb.merge(train_path, on='id')"
   ]
  },
  {
   "cell_type": "code",
   "execution_count": 43,
   "metadata": {},
   "outputs": [
    {
     "data": {
      "text/html": [
       "<div>\n",
       "<style scoped>\n",
       "    .dataframe tbody tr th:only-of-type {\n",
       "        vertical-align: middle;\n",
       "    }\n",
       "\n",
       "    .dataframe tbody tr th {\n",
       "        vertical-align: top;\n",
       "    }\n",
       "\n",
       "    .dataframe thead th {\n",
       "        text-align: right;\n",
       "    }\n",
       "</style>\n",
       "<table border=\"1\" class=\"dataframe\">\n",
       "  <thead>\n",
       "    <tr style=\"text-align: right;\">\n",
       "      <th></th>\n",
       "      <th>id</th>\n",
       "      <th>docid</th>\n",
       "      <th>relation</th>\n",
       "      <th>token</th>\n",
       "      <th>subj_start</th>\n",
       "      <th>subj_end</th>\n",
       "      <th>obj_start</th>\n",
       "      <th>obj_end</th>\n",
       "      <th>subj_type</th>\n",
       "      <th>obj_type</th>\n",
       "      <th>stanford_pos</th>\n",
       "      <th>stanford_ner</th>\n",
       "      <th>stanford_head</th>\n",
       "      <th>stanford_deprel</th>\n",
       "      <th>ucca_encodings_min_subtree</th>\n",
       "      <th>ucca_path</th>\n",
       "      <th>ucca_path_len</th>\n",
       "      <th>ud_path</th>\n",
       "      <th>ud_path_len</th>\n",
       "    </tr>\n",
       "  </thead>\n",
       "  <tbody>\n",
       "    <tr>\n",
       "      <th>0</th>\n",
       "      <td>61b3a5c8c9a882dcfcd2</td>\n",
       "      <td>AFP_ENG_20070218.0019.LDC2009T13</td>\n",
       "      <td>org:founded_by</td>\n",
       "      <td>[Tom, Thabane, resigned, in, October, last, ye...</td>\n",
       "      <td>10</td>\n",
       "      <td>12</td>\n",
       "      <td>0</td>\n",
       "      <td>1</td>\n",
       "      <td>ORGANIZATION</td>\n",
       "      <td>PERSON</td>\n",
       "      <td>[NNP, NNP, VBD, IN, NNP, JJ, NN, TO, VB, DT, D...</td>\n",
       "      <td>[PERSON, PERSON, O, O, DATE, DATE, DATE, O, O,...</td>\n",
       "      <td>[2, 3, 0, 5, 3, 7, 3, 9, 3, 13, 13, 13, 9, 15,...</td>\n",
       "      <td>[compound, nsubj, ROOT, case, nmod, amod, nmod...</td>\n",
       "      <td>{'0': 'A', '1': 'A', '8': 'P', '9': 'EA', '10'...</td>\n",
       "      <td>&lt;A &gt;A</td>\n",
       "      <td>3</td>\n",
       "      <td>&lt;det &lt;dobj &lt;xcomp &lt;ROOT</td>\n",
       "      <td>5</td>\n",
       "    </tr>\n",
       "  </tbody>\n",
       "</table>\n",
       "</div>"
      ],
      "text/plain": [
       "                     id                             docid        relation  \\\n",
       "0  61b3a5c8c9a882dcfcd2  AFP_ENG_20070218.0019.LDC2009T13  org:founded_by   \n",
       "\n",
       "                                               token  subj_start  subj_end  \\\n",
       "0  [Tom, Thabane, resigned, in, October, last, ye...          10        12   \n",
       "\n",
       "   obj_start  obj_end     subj_type obj_type  \\\n",
       "0          0        1  ORGANIZATION   PERSON   \n",
       "\n",
       "                                        stanford_pos  \\\n",
       "0  [NNP, NNP, VBD, IN, NNP, JJ, NN, TO, VB, DT, D...   \n",
       "\n",
       "                                        stanford_ner  \\\n",
       "0  [PERSON, PERSON, O, O, DATE, DATE, DATE, O, O,...   \n",
       "\n",
       "                                       stanford_head  \\\n",
       "0  [2, 3, 0, 5, 3, 7, 3, 9, 3, 13, 13, 13, 9, 15,...   \n",
       "\n",
       "                                     stanford_deprel  \\\n",
       "0  [compound, nsubj, ROOT, case, nmod, amod, nmod...   \n",
       "\n",
       "                          ucca_encodings_min_subtree ucca_path  ucca_path_len  \\\n",
       "0  {'0': 'A', '1': 'A', '8': 'P', '9': 'EA', '10'...     <A >A              3   \n",
       "\n",
       "                   ud_path  ud_path_len  \n",
       "0  <det <dobj <xcomp <ROOT            5  "
      ]
     },
     "execution_count": 43,
     "metadata": {},
     "output_type": "execute_result"
    }
   ],
   "source": [
    "train.head(1)"
   ]
  },
  {
   "cell_type": "code",
   "execution_count": 44,
   "metadata": {},
   "outputs": [],
   "source": [
    "train.to_json(r'C:\\Users\\JYellin\\re_1\\tacred\\data\\json-enhanced3\\train.json')"
   ]
  },
  {
   "cell_type": "code",
   "execution_count": 31,
   "metadata": {},
   "outputs": [],
   "source": [
    "dev_len = pandas.read_json(r'C:\\Users\\JYellin\\re_1\\tacred\\data\\json-enhanced\\dev.json')\n",
    "dev_emb = pandas.read_json(r'C:\\Users\\JYellin\\re_1\\tacred\\data\\json-enhanced3\\dev.json')"
   ]
  },
  {
   "cell_type": "code",
   "execution_count": 32,
   "metadata": {},
   "outputs": [],
   "source": [
    "dev_len.drop(['docid', 'relation', 'token', 'subj_start', 'subj_end', 'obj_start', 'obj_end', 'subj_type', 'obj_type', 'stanford_pos', 'stanford_ner', 'stanford_head', 'stanford_deprel'], axis=1, inplace=True)"
   ]
  },
  {
   "cell_type": "code",
   "execution_count": 33,
   "metadata": {},
   "outputs": [],
   "source": [
    "dev = dev_emb.merge(dev_len, on='id')"
   ]
  },
  {
   "cell_type": "code",
   "execution_count": 34,
   "metadata": {},
   "outputs": [],
   "source": [
    "dev.to_json(r'C:\\Users\\JYellin\\re_1\\tacred\\data\\json-enhanced3\\dev_full.json')"
   ]
  },
  {
   "cell_type": "code",
   "execution_count": 35,
   "metadata": {},
   "outputs": [],
   "source": [
    "test_len = pandas.read_json(r'C:\\Users\\JYellin\\re_1\\tacred\\data\\json-enhanced\\test.json')\n",
    "test_emb = pandas.read_json(r'C:\\Users\\JYellin\\re_1\\tacred\\data\\json-enhanced3\\test.json')"
   ]
  },
  {
   "cell_type": "code",
   "execution_count": 36,
   "metadata": {},
   "outputs": [],
   "source": [
    "test_len.drop(['docid', 'relation', 'token', 'subj_start', 'subj_end', 'obj_start', 'obj_end', 'subj_type', 'obj_type', 'stanford_pos', 'stanford_ner', 'stanford_head', 'stanford_deprel'], axis=1, inplace=True)"
   ]
  },
  {
   "cell_type": "code",
   "execution_count": 37,
   "metadata": {},
   "outputs": [],
   "source": [
    "test = test_emb.merge(test_len, on='id')"
   ]
  },
  {
   "cell_type": "code",
   "execution_count": 38,
   "metadata": {},
   "outputs": [],
   "source": [
    "test.to_json(r'C:\\Users\\JYellin\\re_1\\tacred\\data\\json-enhanced3\\test_full.json')"
   ]
  },
  {
   "cell_type": "code",
   "execution_count": null,
   "metadata": {},
   "outputs": [],
   "source": []
  }
 ],
 "metadata": {
  "kernelspec": {
   "display_name": "Python 3",
   "language": "python",
   "name": "python3"
  },
  "language_info": {
   "codemirror_mode": {
    "name": "ipython",
    "version": 3
   },
   "file_extension": ".py",
   "mimetype": "text/x-python",
   "name": "python",
   "nbconvert_exporter": "python",
   "pygments_lexer": "ipython3",
   "version": "3.7.6"
  }
 },
 "nbformat": 4,
 "nbformat_minor": 4
}
