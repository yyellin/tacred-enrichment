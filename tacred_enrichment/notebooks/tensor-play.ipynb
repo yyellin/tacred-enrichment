{
 "cells": [
  {
   "cell_type": "code",
   "execution_count": 24,
   "metadata": {},
   "outputs": [
    {
     "name": "stdout",
     "output_type": "stream",
     "text": [
      "a: \n",
      " tensor([[0., 1., 0.],\n",
      "        [1., 0., 0.],\n",
      "        [0., 0., 0.]])\n",
      "*a.size()\n",
      " 3 3\n",
      "a.size(1)\n",
      " 3\n",
      "b: \n",
      " tensor([1., 1., 0.])\n",
      "c: \n",
      " tensor([[1.],\n",
      "        [1.],\n",
      "        [0.]])\n",
      "d: \n",
      " tensor([[1., 1., 1.],\n",
      "        [1., 1., 1.],\n",
      "        [0., 0., 0.]])\n"
     ]
    }
   ],
   "source": [
    "import torch\n",
    "\n",
    "a = torch.Tensor([[0,1,0],[1,0,0], [0,0,0]])\n",
    "print('a: \\n',a)\n",
    "print('*a.size()\\n', *a.size())\n",
    "print('a.size(1)\\n', a.size(1))\n",
    "b = a.sum(1)\n",
    "print('b: \\n', b)\n",
    "c = b.unsqueeze(1)\n",
    "print('c: \\n', c)\n",
    "d = c.expand(3,3)\n",
    "print('d: \\n', d)\n",
    "\n",
    "#b = torch.eye(a.size(1))\n",
    "#print(*a.size())\n",
    "#print(b)\n",
    "#c = a.unsqueeze(2).expand(*a.size(), a.size(1))\n",
    "#d = c * b\n",
    "#print(d)"
   ]
  },
  {
   "cell_type": "code",
   "execution_count": 35,
   "metadata": {},
   "outputs": [
    {
     "name": "stdout",
     "output_type": "stream",
     "text": [
      "a: \n",
      " tensor([[0., 1., 0.],\n",
      "        [1., 0., 0.],\n",
      "        [0., 0., 0.]])\n",
      "b: \n",
      " tensor([1., 1., 0.])\n",
      "c: \n",
      " tensor([[1., 0., 0.],\n",
      "        [0., 1., 0.],\n",
      "        [0., 0., 0.]])\n"
     ]
    }
   ],
   "source": [
    "import torch\n",
    "\n",
    "a = torch.Tensor([[0,1,0],[1,0,0], [0,0,0]])\n",
    "print('a: \\n',a)\n",
    "b = a.sum(1)\n",
    "print('b: \\n',b)\n",
    "c = torch.diag(b)\n",
    "print('c: \\n',c)"
   ]
  },
  {
   "cell_type": "code",
   "execution_count": 39,
   "metadata": {},
   "outputs": [
    {
     "name": "stdout",
     "output_type": "stream",
     "text": [
      "a: \n",
      " tensor([[0., 1., 0.],\n",
      "        [1., 0., 0.],\n",
      "        [0., 0., 0.]])\n",
      "b: \n",
      " tensor([1., 1., 0.])\n",
      "c: \n",
      " tensor([[1., 1., 0.],\n",
      "        [1., 1., 0.],\n",
      "        [1., 1., 0.]])\n",
      "d: \n",
      " tensor([1., 0.])\n"
     ]
    }
   ],
   "source": [
    "import torch\n",
    "\n",
    "a = torch.Tensor([[0,1,0],[1,0,0], [0,0,0]])\n",
    "print('a: \\n',a)\n",
    "b = a.sum(1)\n",
    "print('b: \\n',b)\n",
    "c = b.repeat(3).view(3,3)\n",
    "print('c: \\n',c)\n",
    "d = torch.diag(c,1)\n",
    "print('d: \\n',d)"
   ]
  },
  {
   "cell_type": "code",
   "execution_count": 44,
   "metadata": {},
   "outputs": [
    {
     "name": "stdout",
     "output_type": "stream",
     "text": [
      "tensor([[1., 0., 0.],\n",
      "        [0., 1., 0.],\n",
      "        [0., 0., 1.]])\n",
      "tensor([[[1., 0., 0.],\n",
      "         [0., 1., 0.],\n",
      "         [0., 0., 1.]]])\n",
      "tensor([[[1., 0., 0.],\n",
      "         [0., 1., 0.],\n",
      "         [0., 0., 1.]],\n",
      "\n",
      "        [[1., 0., 0.],\n",
      "         [0., 1., 0.],\n",
      "         [0., 0., 1.]],\n",
      "\n",
      "        [[1., 0., 0.],\n",
      "         [0., 1., 0.],\n",
      "         [0., 0., 1.]],\n",
      "\n",
      "        [[1., 0., 0.],\n",
      "         [0., 1., 0.],\n",
      "         [0., 0., 1.]],\n",
      "\n",
      "        [[1., 0., 0.],\n",
      "         [0., 1., 0.],\n",
      "         [0., 0., 1.]]])\n"
     ]
    }
   ],
   "source": [
    "x = torch.eye(3)\n",
    "print(x)\n",
    "x = x.reshape((1, 3, 3))\n",
    "print(x)\n",
    "y = x.repeat(5, 1, 1)\n",
    "print(y)"
   ]
  },
  {
   "cell_type": "code",
   "execution_count": 45,
   "metadata": {},
   "outputs": [
    {
     "ename": "RuntimeError",
     "evalue": "Number of dimensions of repeat dims can not be smaller than number of dimensions of tensor",
     "output_type": "error",
     "traceback": [
      "\u001b[1;31m---------------------------------------------------------------------------\u001b[0m",
      "\u001b[1;31mRuntimeError\u001b[0m                              Traceback (most recent call last)",
      "\u001b[1;32m<ipython-input-45-ca274da8d802>\u001b[0m in \u001b[0;36m<module>\u001b[1;34m\u001b[0m\n\u001b[1;32m----> 1\u001b[1;33m \u001b[0mtorch\u001b[0m\u001b[1;33m.\u001b[0m\u001b[0meye\u001b[0m\u001b[1;33m(\u001b[0m\u001b[1;36m81\u001b[0m\u001b[1;33m)\u001b[0m\u001b[1;33m.\u001b[0m\u001b[0mreshape\u001b[0m\u001b[1;33m(\u001b[0m\u001b[1;33m(\u001b[0m\u001b[1;36m1\u001b[0m\u001b[1;33m,\u001b[0m\u001b[1;36m81\u001b[0m\u001b[1;33m,\u001b[0m\u001b[1;36m81\u001b[0m\u001b[1;33m)\u001b[0m\u001b[1;33m)\u001b[0m\u001b[1;33m.\u001b[0m\u001b[0mrepeat\u001b[0m\u001b[1;33m(\u001b[0m\u001b[1;36m50\u001b[0m\u001b[1;33m)\u001b[0m\u001b[1;33m\u001b[0m\u001b[1;33m\u001b[0m\u001b[0m\n\u001b[0m",
      "\u001b[1;31mRuntimeError\u001b[0m: Number of dimensions of repeat dims can not be smaller than number of dimensions of tensor"
     ]
    }
   ],
   "source": [
    "torch.eye(81).reshape((1,81,81)).repeat(50)"
   ]
  },
  {
   "cell_type": "code",
   "execution_count": 48,
   "metadata": {},
   "outputs": [
    {
     "data": {
      "text/plain": [
       "tensor([[[1., 0., 0.,  ..., 0., 0., 0.],\n",
       "         [0., 1., 0.,  ..., 0., 0., 0.],\n",
       "         [0., 0., 1.,  ..., 0., 0., 0.],\n",
       "         ...,\n",
       "         [0., 0., 0.,  ..., 1., 0., 0.],\n",
       "         [0., 0., 0.,  ..., 0., 1., 0.],\n",
       "         [0., 0., 0.,  ..., 0., 0., 1.]],\n",
       "\n",
       "        [[1., 0., 0.,  ..., 0., 0., 0.],\n",
       "         [0., 1., 0.,  ..., 0., 0., 0.],\n",
       "         [0., 0., 1.,  ..., 0., 0., 0.],\n",
       "         ...,\n",
       "         [0., 0., 0.,  ..., 1., 0., 0.],\n",
       "         [0., 0., 0.,  ..., 0., 1., 0.],\n",
       "         [0., 0., 0.,  ..., 0., 0., 1.]],\n",
       "\n",
       "        [[1., 0., 0.,  ..., 0., 0., 0.],\n",
       "         [0., 1., 0.,  ..., 0., 0., 0.],\n",
       "         [0., 0., 1.,  ..., 0., 0., 0.],\n",
       "         ...,\n",
       "         [0., 0., 0.,  ..., 1., 0., 0.],\n",
       "         [0., 0., 0.,  ..., 0., 1., 0.],\n",
       "         [0., 0., 0.,  ..., 0., 0., 1.]],\n",
       "\n",
       "        ...,\n",
       "\n",
       "        [[1., 0., 0.,  ..., 0., 0., 0.],\n",
       "         [0., 1., 0.,  ..., 0., 0., 0.],\n",
       "         [0., 0., 1.,  ..., 0., 0., 0.],\n",
       "         ...,\n",
       "         [0., 0., 0.,  ..., 1., 0., 0.],\n",
       "         [0., 0., 0.,  ..., 0., 1., 0.],\n",
       "         [0., 0., 0.,  ..., 0., 0., 1.]],\n",
       "\n",
       "        [[1., 0., 0.,  ..., 0., 0., 0.],\n",
       "         [0., 1., 0.,  ..., 0., 0., 0.],\n",
       "         [0., 0., 1.,  ..., 0., 0., 0.],\n",
       "         ...,\n",
       "         [0., 0., 0.,  ..., 1., 0., 0.],\n",
       "         [0., 0., 0.,  ..., 0., 1., 0.],\n",
       "         [0., 0., 0.,  ..., 0., 0., 1.]],\n",
       "\n",
       "        [[1., 0., 0.,  ..., 0., 0., 0.],\n",
       "         [0., 1., 0.,  ..., 0., 0., 0.],\n",
       "         [0., 0., 1.,  ..., 0., 0., 0.],\n",
       "         ...,\n",
       "         [0., 0., 0.,  ..., 1., 0., 0.],\n",
       "         [0., 0., 0.,  ..., 0., 1., 0.],\n",
       "         [0., 0., 0.,  ..., 0., 0., 1.]]])"
      ]
     },
     "execution_count": 48,
     "metadata": {},
     "output_type": "execute_result"
    }
   ],
   "source": [
    "torch.eye(81).reshape((1,81,81)).repeat(81,1,1)"
   ]
  },
  {
   "cell_type": "code",
   "execution_count": 55,
   "metadata": {},
   "outputs": [
    {
     "data": {
      "text/plain": [
       "tensor([[[1., 1., 1.,  ..., 1., 1., 1.],\n",
       "         [1., 1., 1.,  ..., 1., 1., 1.],\n",
       "         [1., 1., 1.,  ..., 1., 1., 1.],\n",
       "         ...,\n",
       "         [1., 1., 1.,  ..., 1., 1., 1.],\n",
       "         [1., 1., 1.,  ..., 1., 1., 1.],\n",
       "         [1., 1., 1.,  ..., 1., 1., 1.]],\n",
       "\n",
       "        [[1., 1., 1.,  ..., 1., 1., 1.],\n",
       "         [1., 1., 1.,  ..., 1., 1., 1.],\n",
       "         [1., 1., 1.,  ..., 1., 1., 1.],\n",
       "         ...,\n",
       "         [1., 1., 1.,  ..., 1., 1., 1.],\n",
       "         [1., 1., 1.,  ..., 1., 1., 1.],\n",
       "         [1., 1., 1.,  ..., 1., 1., 1.]],\n",
       "\n",
       "        [[1., 1., 1.,  ..., 1., 1., 1.],\n",
       "         [1., 1., 1.,  ..., 1., 1., 1.],\n",
       "         [1., 1., 1.,  ..., 1., 1., 1.],\n",
       "         ...,\n",
       "         [1., 1., 1.,  ..., 1., 1., 1.],\n",
       "         [1., 1., 1.,  ..., 1., 1., 1.],\n",
       "         [1., 1., 1.,  ..., 1., 1., 1.]],\n",
       "\n",
       "        ...,\n",
       "\n",
       "        [[1., 1., 1.,  ..., 1., 1., 1.],\n",
       "         [1., 1., 1.,  ..., 1., 1., 1.],\n",
       "         [1., 1., 1.,  ..., 1., 1., 1.],\n",
       "         ...,\n",
       "         [1., 1., 1.,  ..., 1., 1., 1.],\n",
       "         [1., 1., 1.,  ..., 1., 1., 1.],\n",
       "         [1., 1., 1.,  ..., 1., 1., 1.]],\n",
       "\n",
       "        [[1., 1., 1.,  ..., 1., 1., 1.],\n",
       "         [1., 1., 1.,  ..., 1., 1., 1.],\n",
       "         [1., 1., 1.,  ..., 1., 1., 1.],\n",
       "         ...,\n",
       "         [1., 1., 1.,  ..., 1., 1., 1.],\n",
       "         [1., 1., 1.,  ..., 1., 1., 1.],\n",
       "         [1., 1., 1.,  ..., 1., 1., 1.]],\n",
       "\n",
       "        [[1., 1., 1.,  ..., 1., 1., 1.],\n",
       "         [1., 1., 1.,  ..., 1., 1., 1.],\n",
       "         [1., 1., 1.,  ..., 1., 1., 1.],\n",
       "         ...,\n",
       "         [1., 1., 1.,  ..., 1., 1., 1.],\n",
       "         [1., 1., 1.,  ..., 1., 1., 1.],\n",
       "         [1., 1., 1.,  ..., 1., 1., 1.]]])"
      ]
     },
     "execution_count": 55,
     "metadata": {},
     "output_type": "execute_result"
    }
   ],
   "source": [
    "torch.ones(50,83,83)"
   ]
  },
  {
   "cell_type": "code",
   "execution_count": 58,
   "metadata": {},
   "outputs": [
    {
     "name": "stdout",
     "output_type": "stream",
     "text": [
      "a: \n",
      " tensor([[0., 1., 0.],\n",
      "        [1., 0., 0.],\n",
      "        [0., 0., 0.]])\n",
      "b: \n",
      " tensor([1., 1., 0.])\n",
      "c: \n",
      " tensor([[1.],\n",
      "        [1.],\n",
      "        [0.]])\n",
      "ones: \n",
      " tensor([[[1., 1., 1.],\n",
      "         [1., 1., 1.],\n",
      "         [1., 1., 1.]]])\n"
     ]
    }
   ],
   "source": [
    "import torch\n",
    "\n",
    "a = torch.Tensor([[0,1,0],[1,0,0], [0,0,0]])\n",
    "print('a: \\n',a)\n",
    "b = a.sum(1)\n",
    "print('b: \\n', b)\n",
    "c = b.unsqueeze(1)\n",
    "print('c: \\n', c)\n",
    "\n",
    "ones = torch.ones(1,3,3)\n",
    "print('ones: \\n', ones)\n",
    "\n"
   ]
  },
  {
   "cell_type": "code",
   "execution_count": 80,
   "metadata": {},
   "outputs": [
    {
     "name": "stdout",
     "output_type": "stream",
     "text": [
      "tensor([[[[0., 0., 0.]]],\n",
      "\n",
      "\n",
      "        [[[1., 1., 1.]]]])\n",
      "tensor([[[[[0., 0., 0.]]],\n",
      "\n",
      "\n",
      "         [[[1., 1., 1.]]]],\n",
      "\n",
      "\n",
      "\n",
      "        [[[[1., 1., 1.]]],\n",
      "\n",
      "\n",
      "         [[[1., 1., 1.]]]]])\n",
      "shape of v:  torch.Size([2, 2, 1])\n",
      "shape of M:  torch.Size([2, 2, 1, 3])\n"
     ]
    }
   ],
   "source": [
    "import torch\n",
    "\n",
    "v = torch.Tensor([[0],[1]])\n",
    "M = torch.Tensor([[[1, 1, 1]],[[1, 1, 1]]])\n",
    "\n",
    "result = torch.einsum('bp, bqr->bpqr', v, M)\n",
    "print(result)\n",
    "\n",
    "v = torch.Tensor([[[0],[1]],[[1],[1]]])\n",
    "M = torch.Tensor([[[[1, 1, 1]],[[1, 1, 1]]],[[[1, 1, 1]],[[1, 1, 1]]]])\n",
    "\n",
    "result = torch.einsum('xbp, xbqr->xbpqr', v, M)\n",
    "print(result)\n",
    "print('shape of v: ', v.shape)\n",
    "print('shape of M: ', M.shape)"
   ]
  },
  {
   "cell_type": "code",
   "execution_count": 83,
   "metadata": {},
   "outputs": [
    {
     "name": "stdout",
     "output_type": "stream",
     "text": [
      "torch.Size([2, 2, 1])\n",
      "torch.Size([2, 2, 3])\n"
     ]
    }
   ],
   "source": [
    "v = torch.Tensor([[[0],[1]],[[1],[0]]])\n",
    "print(v.shape)\n",
    "M = torch.Tensor([[[6,6,6],[7,7,7]],[[9,9,9],[5,5,5]]])\n",
    "print(M.shape)\n",
    "                "
   ]
  },
  {
   "cell_type": "code",
   "execution_count": 90,
   "metadata": {},
   "outputs": [
    {
     "name": "stdout",
     "output_type": "stream",
     "text": [
      "tensor([[[0., 0., 0.],\n",
      "         [7., 7., 7.]],\n",
      "\n",
      "        [[9., 9., 9.],\n",
      "         [0., 0., 0.]]])\n",
      "shape of v:  torch.Size([2, 2, 1])\n",
      "shape of M:  torch.Size([2, 2, 3])\n"
     ]
    }
   ],
   "source": [
    "import torch\n",
    "\n",
    "#2, 2, 1\n",
    "#2, 2, 3\n",
    "\n",
    "v = torch.Tensor([[[0],[1]],[[1],[0]]])\n",
    "M = torch.Tensor([[[6,6,6],[7,7,7]],[[9,9,9],[5,5,5]]])\n",
    "\n",
    "result = torch.einsum('bxs,bxy -> bxy', v, M)\n",
    "print(result)\n",
    "\n",
    "print('shape of v: ', v.shape)\n",
    "print('shape of M: ', M.shape)"
   ]
  },
  {
   "cell_type": "code",
   "execution_count": 28,
   "metadata": {},
   "outputs": [
    {
     "name": "stdout",
     "output_type": "stream",
     "text": [
      "shape of v:  torch.Size([2, 6])\n",
      "shape of m:  torch.Size([2, 6, 6])\n",
      "result:\n",
      "tensor([[[[1., 1., 0., 0., 1., 0.],\n",
      "          [0., 0., 1., 1., 0., 0.]],\n",
      "\n",
      "         [[1., 1., 0., 0., 1., 0.],\n",
      "          [0., 0., 1., 1., 0., 0.]],\n",
      "\n",
      "         [[0., 0., 0., 0., 0., 0.],\n",
      "          [0., 0., 0., 0., 0., 0.]],\n",
      "\n",
      "         [[0., 0., 0., 0., 0., 0.],\n",
      "          [0., 0., 0., 0., 0., 0.]],\n",
      "\n",
      "         [[1., 1., 0., 0., 1., 0.],\n",
      "          [0., 0., 1., 1., 0., 0.]],\n",
      "\n",
      "         [[0., 0., 0., 0., 0., 0.],\n",
      "          [0., 0., 0., 0., 0., 0.]]],\n",
      "\n",
      "\n",
      "        [[[0., 0., 0., 0., 0., 0.],\n",
      "          [0., 0., 0., 0., 0., 0.]],\n",
      "\n",
      "         [[0., 0., 0., 0., 0., 0.],\n",
      "          [0., 0., 0., 0., 0., 0.]],\n",
      "\n",
      "         [[1., 1., 0., 0., 1., 0.],\n",
      "          [0., 0., 1., 1., 0., 0.]],\n",
      "\n",
      "         [[1., 1., 0., 0., 1., 0.],\n",
      "          [0., 0., 1., 1., 0., 0.]],\n",
      "\n",
      "         [[0., 0., 0., 0., 0., 0.],\n",
      "          [0., 0., 0., 0., 0., 0.]],\n",
      "\n",
      "         [[0., 0., 0., 0., 0., 0.],\n",
      "          [0., 0., 0., 0., 0., 0.]]]])\n"
     ]
    }
   ],
   "source": [
    "import torch\n",
    "\n",
    "#2, 2, 1\n",
    "#2, 2, 3\n",
    "\n",
    "v = torch.Tensor([[1,1,0,0,1,0],[0,0,1,1,0,0]])\n",
    "m = torch.diag_embed(v)\n",
    "\n",
    "print('shape of v: ', v.shape)\n",
    "print('shape of m: ', m.shape)\n",
    "\n",
    "print('result:')\n",
    "\n",
    "result = torch.einsum('bs,by -> bsy', v, v) - m\n",
    "print(result)\n",
    "\n",
    "#result =  torch.tensordot(v, v, 0) - m\n",
    "#print(result)\n",
    "\n"
   ]
  },
  {
   "cell_type": "code",
   "execution_count": null,
   "metadata": {},
   "outputs": [],
   "source": []
  }
 ],
 "metadata": {
  "kernelspec": {
   "display_name": "Python 3",
   "language": "python",
   "name": "python3"
  },
  "language_info": {
   "codemirror_mode": {
    "name": "ipython",
    "version": 3
   },
   "file_extension": ".py",
   "mimetype": "text/x-python",
   "name": "python",
   "nbconvert_exporter": "python",
   "pygments_lexer": "ipython3",
   "version": "3.7.6"
  }
 },
 "nbformat": 4,
 "nbformat_minor": 4
}
