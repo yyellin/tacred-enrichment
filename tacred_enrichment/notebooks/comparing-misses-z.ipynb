{
 "cells": [
  {
   "cell_type": "code",
   "execution_count": 1,
   "metadata": {},
   "outputs": [
    {
     "data": {
      "text/html": [
       "        <script type=\"text/javascript\">\n",
       "        window.PlotlyConfig = {MathJaxConfig: 'local'};\n",
       "        if (window.MathJax) {MathJax.Hub.Config({SVG: {font: \"STIX-Web\"}});}\n",
       "        if (typeof require !== 'undefined') {\n",
       "        require.undef(\"plotly\");\n",
       "        requirejs.config({\n",
       "            paths: {\n",
       "                'plotly': ['https://cdn.plot.ly/plotly-latest.min']\n",
       "            }\n",
       "        });\n",
       "        require(['plotly'], function(Plotly) {\n",
       "            window._Plotly = Plotly;\n",
       "        });\n",
       "        }\n",
       "        </script>\n",
       "        "
      ]
     },
     "metadata": {},
     "output_type": "display_data"
    }
   ],
   "source": [
    "from plotly.offline import download_plotlyjs, init_notebook_mode, plot, iplot\n",
    "import plotly.graph_objs as go\n",
    "\n",
    "init_notebook_mode(connected=True)"
   ]
  },
  {
   "cell_type": "code",
   "execution_count": 2,
   "metadata": {},
   "outputs": [],
   "source": [
    "import pandas"
   ]
  },
  {
   "cell_type": "code",
   "execution_count": 3,
   "metadata": {},
   "outputs": [],
   "source": [
    "unfiltered_misses = pandas.read_csv(r'C:\\Users\\JYellin\\re_1\\tacred\\analysis\\filtering-by-path-length\\comparing misses\\comparison-1\\ucca-misses-nofilter.csv').rename(columns={'predicted':'no-filter-prediction'})\n",
    "filtered_misses = pandas.read_csv(r'C:\\Users\\JYellin\\re_1\\tacred\\analysis\\filtering-by-path-length\\comparing misses\\comparison-2\\ucca-misses-nofilter.csv').rename(columns={'predicted':'filter-prediction'})"
   ]
  },
  {
   "cell_type": "code",
   "execution_count": 4,
   "metadata": {},
   "outputs": [],
   "source": [
    "merged_misses = filtered_misses.merge(unfiltered_misses, how='outer', on=['id'], indicator=True)"
   ]
  },
  {
   "cell_type": "code",
   "execution_count": 5,
   "metadata": {},
   "outputs": [],
   "source": [
    "def get_gold(r):\n",
    "    if not pandas.isnull(r['gold_x']):\n",
    "        return r['gold_x']\n",
    "    \n",
    "    return r['gold_y']\n",
    "\n",
    "merged_misses['gold'] = merged_misses.apply(lambda r : get_gold(r), axis=1)\n",
    "merged_misses.drop(columns=['gold_x', 'gold_y'], inplace=True)"
   ]
  },
  {
   "cell_type": "code",
   "execution_count": 6,
   "metadata": {},
   "outputs": [],
   "source": [
    "train = pandas.read_json(r'C:\\Users\\JYellin\\re_1\\tacred\\data\\json-enhanced\\train.json')\n",
    "dev = pandas.read_json(r'C:\\Users\\JYellin\\re_1\\tacred\\data\\json-enhanced\\dev.json')\n",
    "test = pandas.read_json(r'C:\\Users\\JYellin\\re_1\\tacred\\data\\json-enhanced\\test.json')\n",
    "data = pandas.concat([train,dev,test])"
   ]
  },
  {
   "cell_type": "code",
   "execution_count": 7,
   "metadata": {},
   "outputs": [],
   "source": [
    "merged_misses = merged_misses.merge(data, how='left', on=['id'])"
   ]
  },
  {
   "cell_type": "code",
   "execution_count": 8,
   "metadata": {},
   "outputs": [],
   "source": [
    "common_misses = merged_misses[merged_misses['_merge']=='both'].drop(columns=['_merge']) \n",
    "filtered_only_misses = merged_misses[merged_misses['_merge']=='left_only'].drop(columns=['_merge','no-filter-prediction'])\n",
    "unfiltered_only_misses = merged_misses[merged_misses['_merge']=='right_only'].drop(columns=['_merge','filter-prediction'])"
   ]
  },
  {
   "cell_type": "code",
   "execution_count": 9,
   "metadata": {},
   "outputs": [
    {
     "name": "stdout",
     "output_type": "stream",
     "text": [
      "filtered miss count:       1971\n",
      "unfiltered miss count:     1963\n",
      "common miss count:         1681\n",
      "filtered only miss count:   290\n",
      "unfiltered only miss count: 282\n"
     ]
    }
   ],
   "source": [
    "print('filtered miss count:       {:4d}'.format(filtered_misses.shape[0]))\n",
    "print('unfiltered miss count:     {:4d}'.format(unfiltered_misses.shape[0]))\n",
    "print('common miss count:         {:4d}'.format(common_misses.shape[0]))\n",
    "print('filtered only miss count:  {:4d}'.format(filtered_only_misses.shape[0]))\n",
    "print('unfiltered only miss count:{:4d}'.format(unfiltered_only_misses.shape[0]))"
   ]
  },
  {
   "cell_type": "code",
   "execution_count": 10,
   "metadata": {},
   "outputs": [],
   "source": [
    "filtered_only_misses_by_gold = filtered_only_misses.groupby(['gold'])['id'].count().reset_index().rename(columns={'id': 'total'}).sort_values(['total'], ascending=[False]).reset_index(drop=True)\n",
    "filtered_only_misses_by_gold_dict = filtered_only_misses_by_gold.to_dict()\n",
    "filtered_lookup_index = dict((y,x) for x,y in filtered_only_misses_by_gold_dict['gold'].items())"
   ]
  },
  {
   "cell_type": "code",
   "execution_count": 11,
   "metadata": {},
   "outputs": [],
   "source": [
    "unfiltered_only_misses_by_gold = unfiltered_only_misses.groupby(['gold'])['id'].count().reset_index().rename(columns={'id': 'total'}).sort_values(['total'], ascending=[False]).reset_index(drop=True)\n",
    "unfiltered_only_misses_by_gold_dict = unfiltered_only_misses_by_gold.to_dict()\n",
    "unfiltered_lookup_index = dict((y,x) for x,y in unfiltered_only_misses_by_gold_dict['gold'].items())"
   ]
  },
  {
   "cell_type": "code",
   "execution_count": 12,
   "metadata": {},
   "outputs": [],
   "source": [
    "#relations = set(unfiltered_only_misses_by_gold_dict['gold'].values())\n",
    "#relations2 = set(filtered_only_misses_by_gold_dict['gold'].values())\n",
    "#relations.update(relations2)\n",
    "#relations.remove('no_relation')\n",
    "#relations = list(relations)\n",
    "\n",
    "relations= list(filtered_only_misses_by_gold_dict['gold'].values())\n",
    "\n",
    "for relation in unfiltered_only_misses_by_gold_dict['gold'].values():\n",
    "    if relation not in relations:\n",
    "        relations.append(relation)\n",
    "        \n",
    "relations.remove('no_relation')"
   ]
  },
  {
   "cell_type": "code",
   "execution_count": 13,
   "metadata": {},
   "outputs": [
    {
     "data": {
      "application/vnd.plotly.v1+json": {
       "config": {
        "plotlyServerURL": "https://plot.ly"
       },
       "data": [
        {
         "mode": "lines",
         "name": "unfiltered 1",
         "type": "scatter",
         "uid": "c2b40665-0d5d-41c5-b15b-403bcec8fa9d",
         "x": [
          "org:top_members/employees",
          "per:title",
          "per:stateorprovinces_of_residence",
          "per:countries_of_residence",
          "org:city_of_headquarters",
          "per:origin",
          "per:charges",
          "per:employee_of",
          "per:cities_of_residence",
          "org:stateorprovince_of_headquarters",
          "per:religion",
          "per:age",
          "per:other_family",
          "per:date_of_death",
          "org:parents",
          "per:parents",
          "org:country_of_headquarters",
          "per:city_of_death",
          "per:cause_of_death",
          "org:founded",
          "org:alternate_names",
          "per:schools_attended",
          "per:siblings",
          "per:stateorprovince_of_birth",
          "org:subsidiaries",
          "org:political/religious_affiliation",
          "org:founded_by",
          "org:number_of_employees/members",
          "org:shareholders",
          "org:website",
          "per:date_of_birth"
         ],
         "y": [
          14,
          14,
          10,
          8,
          8,
          8,
          7,
          6,
          6,
          5,
          5,
          4,
          4,
          4,
          2,
          2,
          2,
          2,
          1,
          1,
          1,
          1,
          1,
          1,
          1,
          1,
          0,
          0,
          0,
          0,
          0
         ]
        },
        {
         "mode": "lines",
         "name": "unfiltered 2",
         "type": "scatter",
         "uid": "3052ebc6-fdec-4faf-befc-62ff587f86f3",
         "x": [
          "org:top_members/employees",
          "per:title",
          "per:stateorprovinces_of_residence",
          "per:countries_of_residence",
          "org:city_of_headquarters",
          "per:origin",
          "per:charges",
          "per:employee_of",
          "per:cities_of_residence",
          "org:stateorprovince_of_headquarters",
          "per:religion",
          "per:age",
          "per:other_family",
          "per:date_of_death",
          "org:parents",
          "per:parents",
          "org:country_of_headquarters",
          "per:city_of_death",
          "per:cause_of_death",
          "org:founded",
          "org:alternate_names",
          "per:schools_attended",
          "per:siblings",
          "per:stateorprovince_of_birth",
          "org:subsidiaries",
          "org:political/religious_affiliation",
          "org:founded_by",
          "org:number_of_employees/members",
          "org:shareholders",
          "org:website",
          "per:date_of_birth"
         ],
         "y": [
          7,
          12,
          4,
          12,
          2,
          3,
          4,
          15,
          7,
          1,
          0,
          0,
          5,
          1,
          6,
          2,
          12,
          0,
          3,
          0,
          6,
          3,
          5,
          0,
          6,
          0,
          8,
          4,
          1,
          1,
          1
         ]
        }
       ],
       "layout": {
        "barmode": "overlay",
        "title": {
         "text": "Miss Per Relation"
        },
        "width": 1050,
        "xaxis": {
         "automargin": true,
         "tickangle": 45,
         "title": {
          "text": "Path Length"
         }
        },
        "yaxis": {
         "title": {
          "text": "Number of Misses"
         }
        }
       }
      },
      "text/html": [
       "<div>\n",
       "        \n",
       "        \n",
       "            <div id=\"e64e973f-6541-419b-94b9-fd1348a4d62a\" class=\"plotly-graph-div\" style=\"height:525px; width:1050px;\"></div>\n",
       "            <script type=\"text/javascript\">\n",
       "                require([\"plotly\"], function(Plotly) {\n",
       "                    window.PLOTLYENV=window.PLOTLYENV || {};\n",
       "                    window.PLOTLYENV.BASE_URL='https://plot.ly';\n",
       "                    \n",
       "                if (document.getElementById(\"e64e973f-6541-419b-94b9-fd1348a4d62a\")) {\n",
       "                    Plotly.newPlot(\n",
       "                        'e64e973f-6541-419b-94b9-fd1348a4d62a',\n",
       "                        [{\"mode\": \"lines\", \"name\": \"unfiltered 1\", \"type\": \"scatter\", \"uid\": \"c2b40665-0d5d-41c5-b15b-403bcec8fa9d\", \"x\": [\"org:top_members/employees\", \"per:title\", \"per:stateorprovinces_of_residence\", \"per:countries_of_residence\", \"org:city_of_headquarters\", \"per:origin\", \"per:charges\", \"per:employee_of\", \"per:cities_of_residence\", \"org:stateorprovince_of_headquarters\", \"per:religion\", \"per:age\", \"per:other_family\", \"per:date_of_death\", \"org:parents\", \"per:parents\", \"org:country_of_headquarters\", \"per:city_of_death\", \"per:cause_of_death\", \"org:founded\", \"org:alternate_names\", \"per:schools_attended\", \"per:siblings\", \"per:stateorprovince_of_birth\", \"org:subsidiaries\", \"org:political/religious_affiliation\", \"org:founded_by\", \"org:number_of_employees/members\", \"org:shareholders\", \"org:website\", \"per:date_of_birth\"], \"y\": [14, 14, 10, 8, 8, 8, 7, 6, 6, 5, 5, 4, 4, 4, 2, 2, 2, 2, 1, 1, 1, 1, 1, 1, 1, 1, 0, 0, 0, 0, 0]}, {\"mode\": \"lines\", \"name\": \"unfiltered 2\", \"type\": \"scatter\", \"uid\": \"3052ebc6-fdec-4faf-befc-62ff587f86f3\", \"x\": [\"org:top_members/employees\", \"per:title\", \"per:stateorprovinces_of_residence\", \"per:countries_of_residence\", \"org:city_of_headquarters\", \"per:origin\", \"per:charges\", \"per:employee_of\", \"per:cities_of_residence\", \"org:stateorprovince_of_headquarters\", \"per:religion\", \"per:age\", \"per:other_family\", \"per:date_of_death\", \"org:parents\", \"per:parents\", \"org:country_of_headquarters\", \"per:city_of_death\", \"per:cause_of_death\", \"org:founded\", \"org:alternate_names\", \"per:schools_attended\", \"per:siblings\", \"per:stateorprovince_of_birth\", \"org:subsidiaries\", \"org:political/religious_affiliation\", \"org:founded_by\", \"org:number_of_employees/members\", \"org:shareholders\", \"org:website\", \"per:date_of_birth\"], \"y\": [7, 12, 4, 12, 2, 3, 4, 15, 7, 1, 0, 0, 5, 1, 6, 2, 12, 0, 3, 0, 6, 3, 5, 0, 6, 0, 8, 4, 1, 1, 1]}],\n",
       "                        {\"barmode\": \"overlay\", \"title\": {\"text\": \"Miss Per Relation\"}, \"width\": 1050, \"xaxis\": {\"automargin\": true, \"tickangle\": 45, \"title\": {\"text\": \"Path Length\"}}, \"yaxis\": {\"title\": {\"text\": \"Number of Misses\"}}},\n",
       "                        {\"plotlyServerURL\": \"https://plot.ly\", \"responsive\": true}\n",
       "                    ).then(function(){\n",
       "                            \n",
       "var gd = document.getElementById('e64e973f-6541-419b-94b9-fd1348a4d62a');\n",
       "var x = new MutationObserver(function (mutations, observer) {{\n",
       "        var display = window.getComputedStyle(gd).display;\n",
       "        if (!display || display === 'none') {{\n",
       "            console.log([gd, 'removed!']);\n",
       "            Plotly.purge(gd);\n",
       "            observer.disconnect();\n",
       "        }}\n",
       "}});\n",
       "\n",
       "// Listen for the removal of the full notebook cells\n",
       "var notebookContainer = gd.closest('#notebook-container');\n",
       "if (notebookContainer) {{\n",
       "    x.observe(notebookContainer, {childList: true});\n",
       "}}\n",
       "\n",
       "// Listen for the clearing of the current output cell\n",
       "var outputEl = gd.closest('.output');\n",
       "if (outputEl) {{\n",
       "    x.observe(outputEl, {childList: true});\n",
       "}}\n",
       "\n",
       "                        })\n",
       "                };\n",
       "                });\n",
       "            </script>\n",
       "        </div>"
      ]
     },
     "metadata": {},
     "output_type": "display_data"
    }
   ],
   "source": [
    "scatter1 = go.Scatter(\n",
    "        x=[relation for relation in relations], \n",
    "        y=[filtered_only_misses_by_gold_dict['total'][filtered_lookup_index[relation]] if relation in filtered_lookup_index else 0 for relation in relations],\n",
    "        mode='lines',\n",
    "        name='unfiltered 1'\n",
    ")\n",
    "\n",
    "scatter2= go.Scatter(\n",
    "        x=[relation for relation in relations], \n",
    "        y=[unfiltered_only_misses_by_gold_dict['total'][unfiltered_lookup_index[relation]] if relation in unfiltered_lookup_index else 0 for relation in relations],\n",
    "        mode='lines',\n",
    "        name='unfiltered 2'\n",
    ")\n",
    "\n",
    "\n",
    "layout = go.Layout(\n",
    "    title='Miss Per Relation',\n",
    "    xaxis_title=\"Path Length\",\n",
    "    yaxis_title=\"Number of Misses\",        \n",
    "    barmode='overlay',\n",
    "    width=1050,\n",
    "    xaxis = go.layout.XAxis(\n",
    "        tickangle = 45,\n",
    "        automargin = True\n",
    "    )\n",
    ")\n",
    "\n",
    "fig = go.Figure(data=[scatter1,scatter2], layout=layout)\n",
    "\n",
    "\n",
    "fig.show()"
   ]
  },
  {
   "cell_type": "code",
   "execution_count": 14,
   "metadata": {},
   "outputs": [],
   "source": [
    "filtered_only_misses_by_ucca = filtered_only_misses.groupby(['ucca_path_len'])['id'].count().reset_index().rename(columns={'id': 'total'}).sort_values(['total'], ascending=[False]).reset_index(drop=True)\n",
    "filtered_only_misses_by_ucca_dict = filtered_only_misses_by_ucca.to_dict()"
   ]
  },
  {
   "cell_type": "code",
   "execution_count": 15,
   "metadata": {},
   "outputs": [],
   "source": [
    "unfiltered_only_misses_by_ucca = unfiltered_only_misses.groupby(['ucca_path_len'])['id'].count().reset_index().rename(columns={'id': 'total'}).sort_values(['total'], ascending=[False]).reset_index(drop=True)\n",
    "unfiltered_only_misses_by_ucca_dict = unfiltered_only_misses_by_ucca.to_dict()"
   ]
  },
  {
   "cell_type": "code",
   "execution_count": 16,
   "metadata": {},
   "outputs": [
    {
     "data": {
      "application/vnd.plotly.v1+json": {
       "config": {
        "plotlyServerURL": "https://plot.ly"
       },
       "data": [
        {
         "mode": "lines",
         "name": "unfiltered 1",
         "type": "scatter",
         "uid": "632b1218-29b8-45e4-bfbd-699be41155f3",
         "x": [
          -1,
          0,
          1,
          2,
          3,
          4,
          5,
          6,
          7,
          8,
          9
         ],
         "y": [
          70,
          67,
          50,
          33,
          20,
          15,
          14,
          9,
          5,
          5
         ]
        },
        {
         "mode": "lines",
         "name": "unfiltered 2",
         "type": "scatter",
         "uid": "0716cbb2-c028-46dd-b8b3-aaa95fb2d104",
         "x": [
          -1,
          0,
          1,
          2,
          3,
          4,
          5,
          6,
          7,
          8,
          9
         ],
         "y": [
          76,
          62,
          47,
          27,
          23,
          16,
          13,
          8,
          5,
          3
         ]
        }
       ],
       "layout": {
        "barmode": "overlay",
        "title": {
         "text": "UCCA Path Length Comparison"
        },
        "width": 900,
        "xaxis": {
         "automargin": true,
         "tickangle": 45,
         "title": {
          "text": "Path Length"
         }
        },
        "yaxis": {
         "title": {
          "text": "Number of Misses"
         }
        }
       }
      },
      "text/html": [
       "<div>\n",
       "        \n",
       "        \n",
       "            <div id=\"c04e4754-3dc9-451a-a5a1-64cf13cd62c6\" class=\"plotly-graph-div\" style=\"height:525px; width:900px;\"></div>\n",
       "            <script type=\"text/javascript\">\n",
       "                require([\"plotly\"], function(Plotly) {\n",
       "                    window.PLOTLYENV=window.PLOTLYENV || {};\n",
       "                    window.PLOTLYENV.BASE_URL='https://plot.ly';\n",
       "                    \n",
       "                if (document.getElementById(\"c04e4754-3dc9-451a-a5a1-64cf13cd62c6\")) {\n",
       "                    Plotly.newPlot(\n",
       "                        'c04e4754-3dc9-451a-a5a1-64cf13cd62c6',\n",
       "                        [{\"mode\": \"lines\", \"name\": \"unfiltered 1\", \"type\": \"scatter\", \"uid\": \"632b1218-29b8-45e4-bfbd-699be41155f3\", \"x\": [-1, 0, 1, 2, 3, 4, 5, 6, 7, 8, 9], \"y\": [70, 67, 50, 33, 20, 15, 14, 9, 5, 5]}, {\"mode\": \"lines\", \"name\": \"unfiltered 2\", \"type\": \"scatter\", \"uid\": \"0716cbb2-c028-46dd-b8b3-aaa95fb2d104\", \"x\": [-1, 0, 1, 2, 3, 4, 5, 6, 7, 8, 9], \"y\": [76, 62, 47, 27, 23, 16, 13, 8, 5, 3]}],\n",
       "                        {\"barmode\": \"overlay\", \"title\": {\"text\": \"UCCA Path Length Comparison\"}, \"width\": 900, \"xaxis\": {\"automargin\": true, \"tickangle\": 45, \"title\": {\"text\": \"Path Length\"}}, \"yaxis\": {\"title\": {\"text\": \"Number of Misses\"}}},\n",
       "                        {\"plotlyServerURL\": \"https://plot.ly\", \"responsive\": true}\n",
       "                    ).then(function(){\n",
       "                            \n",
       "var gd = document.getElementById('c04e4754-3dc9-451a-a5a1-64cf13cd62c6');\n",
       "var x = new MutationObserver(function (mutations, observer) {{\n",
       "        var display = window.getComputedStyle(gd).display;\n",
       "        if (!display || display === 'none') {{\n",
       "            console.log([gd, 'removed!']);\n",
       "            Plotly.purge(gd);\n",
       "            observer.disconnect();\n",
       "        }}\n",
       "}});\n",
       "\n",
       "// Listen for the removal of the full notebook cells\n",
       "var notebookContainer = gd.closest('#notebook-container');\n",
       "if (notebookContainer) {{\n",
       "    x.observe(notebookContainer, {childList: true});\n",
       "}}\n",
       "\n",
       "// Listen for the clearing of the current output cell\n",
       "var outputEl = gd.closest('.output');\n",
       "if (outputEl) {{\n",
       "    x.observe(outputEl, {childList: true});\n",
       "}}\n",
       "\n",
       "                        })\n",
       "                };\n",
       "                });\n",
       "            </script>\n",
       "        </div>"
      ]
     },
     "metadata": {},
     "output_type": "display_data"
    }
   ],
   "source": [
    "scatter1 = go.Scatter(\n",
    "        x=[i for i in range(-1,10)], \n",
    "        y=[filtered_only_misses_by_ucca_dict['total'].get(i, 0) for i in range(10)],\n",
    "        mode='lines',\n",
    "        name='unfiltered 1'\n",
    "    )\n",
    "\n",
    "scatter2= go.Scatter(\n",
    "    x=[i for i in range(-1,10)], \n",
    "    y=[unfiltered_only_misses_by_ucca_dict['total'].get(i, 0) for i in range(10)],\n",
    "    mode='lines',\n",
    "    name='unfiltered 2'\n",
    ")\n",
    "\n",
    "\n",
    "layout = go.Layout(\n",
    "    title='UCCA Path Length Comparison',\n",
    "    xaxis_title=\"Path Length\",\n",
    "    yaxis_title=\"Number of Misses\",        \n",
    "    barmode='overlay',\n",
    "    width=900,\n",
    "    xaxis = go.layout.XAxis(\n",
    "        tickangle = 45,\n",
    "        automargin = True\n",
    "        \n",
    "    )\n",
    "    \n",
    "        \n",
    ")\n",
    "\n",
    "fig = go.Figure(data=[scatter1,scatter2], layout=layout)\n",
    "\n",
    "\n",
    "fig.show()"
   ]
  },
  {
   "cell_type": "code",
   "execution_count": 17,
   "metadata": {},
   "outputs": [],
   "source": [
    "filtered_only_misses_by_ud = filtered_only_misses.groupby(['ud_path_len'])['id'].count().reset_index().rename(columns={'id': 'total'}).sort_values(['total'], ascending=[False]).reset_index(drop=True)\n",
    "filtered_only_misses_by_ud_dict = filtered_only_misses_by_ud.to_dict()"
   ]
  },
  {
   "cell_type": "code",
   "execution_count": 18,
   "metadata": {},
   "outputs": [],
   "source": [
    "unfiltered_only_misses_by_ud = unfiltered_only_misses.groupby(['ud_path_len'])['id'].count().reset_index().rename(columns={'id': 'total'}).sort_values(['total'], ascending=[False]).reset_index(drop=True)\n",
    "unfiltered_only_misses_by_ud_dict = unfiltered_only_misses_by_ud.to_dict()"
   ]
  },
  {
   "cell_type": "code",
   "execution_count": 19,
   "metadata": {},
   "outputs": [
    {
     "data": {
      "application/vnd.plotly.v1+json": {
       "config": {
        "plotlyServerURL": "https://plot.ly"
       },
       "data": [
        {
         "mode": "lines",
         "name": "unfiltered 1",
         "type": "scatter",
         "uid": "d2df7f8c-2338-4ad0-87d1-4bf3a7c94e1c",
         "x": [
          0,
          1,
          2,
          3,
          4,
          5,
          6,
          7,
          8,
          9
         ],
         "y": [
          74,
          67,
          53,
          38,
          31,
          17,
          4,
          3,
          2,
          1
         ]
        },
        {
         "mode": "lines",
         "name": "unfiltered 2",
         "type": "scatter",
         "uid": "1ed77e9f-67c3-441a-af6a-7ff9352dd780",
         "x": [
          0,
          1,
          2,
          3,
          4,
          5,
          6,
          7,
          8,
          9
         ],
         "y": [
          85,
          64,
          49,
          28,
          27,
          16,
          5,
          4,
          2,
          1
         ]
        }
       ],
       "layout": {
        "barmode": "overlay",
        "title": {
         "text": "UD Path Length Comparison"
        },
        "width": 1200,
        "xaxis": {
         "automargin": true,
         "tickangle": 45,
         "title": {
          "text": "Path Length"
         }
        },
        "yaxis": {
         "title": {
          "text": "Number of Misses"
         }
        }
       }
      },
      "text/html": [
       "<div>\n",
       "        \n",
       "        \n",
       "            <div id=\"c5298f0e-22db-419c-8572-7cabf4204199\" class=\"plotly-graph-div\" style=\"height:525px; width:1200px;\"></div>\n",
       "            <script type=\"text/javascript\">\n",
       "                require([\"plotly\"], function(Plotly) {\n",
       "                    window.PLOTLYENV=window.PLOTLYENV || {};\n",
       "                    window.PLOTLYENV.BASE_URL='https://plot.ly';\n",
       "                    \n",
       "                if (document.getElementById(\"c5298f0e-22db-419c-8572-7cabf4204199\")) {\n",
       "                    Plotly.newPlot(\n",
       "                        'c5298f0e-22db-419c-8572-7cabf4204199',\n",
       "                        [{\"mode\": \"lines\", \"name\": \"unfiltered 1\", \"type\": \"scatter\", \"uid\": \"d2df7f8c-2338-4ad0-87d1-4bf3a7c94e1c\", \"x\": [0, 1, 2, 3, 4, 5, 6, 7, 8, 9], \"y\": [74, 67, 53, 38, 31, 17, 4, 3, 2, 1]}, {\"mode\": \"lines\", \"name\": \"unfiltered 2\", \"type\": \"scatter\", \"uid\": \"1ed77e9f-67c3-441a-af6a-7ff9352dd780\", \"x\": [0, 1, 2, 3, 4, 5, 6, 7, 8, 9], \"y\": [85, 64, 49, 28, 27, 16, 5, 4, 2, 1]}],\n",
       "                        {\"barmode\": \"overlay\", \"title\": {\"text\": \"UD Path Length Comparison\"}, \"width\": 1200, \"xaxis\": {\"automargin\": true, \"tickangle\": 45, \"title\": {\"text\": \"Path Length\"}}, \"yaxis\": {\"title\": {\"text\": \"Number of Misses\"}}},\n",
       "                        {\"plotlyServerURL\": \"https://plot.ly\", \"responsive\": true}\n",
       "                    ).then(function(){\n",
       "                            \n",
       "var gd = document.getElementById('c5298f0e-22db-419c-8572-7cabf4204199');\n",
       "var x = new MutationObserver(function (mutations, observer) {{\n",
       "        var display = window.getComputedStyle(gd).display;\n",
       "        if (!display || display === 'none') {{\n",
       "            console.log([gd, 'removed!']);\n",
       "            Plotly.purge(gd);\n",
       "            observer.disconnect();\n",
       "        }}\n",
       "}});\n",
       "\n",
       "// Listen for the removal of the full notebook cells\n",
       "var notebookContainer = gd.closest('#notebook-container');\n",
       "if (notebookContainer) {{\n",
       "    x.observe(notebookContainer, {childList: true});\n",
       "}}\n",
       "\n",
       "// Listen for the clearing of the current output cell\n",
       "var outputEl = gd.closest('.output');\n",
       "if (outputEl) {{\n",
       "    x.observe(outputEl, {childList: true});\n",
       "}}\n",
       "\n",
       "                        })\n",
       "                };\n",
       "                });\n",
       "            </script>\n",
       "        </div>"
      ]
     },
     "metadata": {},
     "output_type": "display_data"
    }
   ],
   "source": [
    "scatter1 = go.Scatter(\n",
    "        x=[i for i in range(10)], \n",
    "        y=[filtered_only_misses_by_ud_dict['total'].get(i, 0) for i in range(10)],\n",
    "        mode='lines',\n",
    "        name='unfiltered 1'\n",
    "    )\n",
    "\n",
    "scatter2= go.Scatter(\n",
    "    x=[i for i in range(10)], \n",
    "    y=[unfiltered_only_misses_by_ud_dict['total'].get(i, 0) for i in range(10)],\n",
    "    mode='lines',\n",
    "    name='unfiltered 2'\n",
    ")\n",
    "\n",
    "\n",
    "layout = go.Layout(\n",
    "    title='UD Path Length Comparison',\n",
    "    xaxis_title=\"Path Length\",\n",
    "    yaxis_title=\"Number of Misses\",        \n",
    "    barmode='overlay',\n",
    "    width=1200,\n",
    "    xaxis = go.layout.XAxis(\n",
    "        tickangle = 45,\n",
    "        automargin = True\n",
    "        \n",
    "    )\n",
    "    \n",
    "        \n",
    ")\n",
    "\n",
    "fig = go.Figure(data=[scatter1,scatter2], layout=layout)\n",
    "\n",
    "\n",
    "fig.show()"
   ]
  },
  {
   "cell_type": "code",
   "execution_count": null,
   "metadata": {},
   "outputs": [],
   "source": []
  }
 ],
 "metadata": {
  "kernelspec": {
   "display_name": "Python 3",
   "language": "python",
   "name": "python3"
  },
  "language_info": {
   "codemirror_mode": {
    "name": "ipython",
    "version": 3
   },
   "file_extension": ".py",
   "mimetype": "text/x-python",
   "name": "python",
   "nbconvert_exporter": "python",
   "pygments_lexer": "ipython3",
   "version": "3.7.6"
  }
 },
 "nbformat": 4,
 "nbformat_minor": 4
}
