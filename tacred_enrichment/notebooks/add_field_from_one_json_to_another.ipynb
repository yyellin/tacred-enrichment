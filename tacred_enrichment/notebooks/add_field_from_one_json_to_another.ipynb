{
 "cells": [
  {
   "cell_type": "code",
   "execution_count": 15,
   "metadata": {},
   "outputs": [],
   "source": [
    "import sys\n",
    "import json\n",
    "import ijson"
   ]
  },
  {
   "cell_type": "code",
   "execution_count": 16,
   "metadata": {},
   "outputs": [],
   "source": [
    "train_path_stream = open(r'C:\\Users\\JYellin\\re_1\\tacred\\data\\json-enhanced\\train.json', encoding='utf-8')\n",
    "train_emb_stream = open(r'C:\\Users\\JYellin\\re_1\\tacred\\data\\json-enhanced3\\train-nopath.json', encoding='utf-8')\n",
    "train_path = ijson.items(train_path_stream, 'item')\n",
    "train_emb = ijson.items(train_emb_stream, 'item')\n",
    "\n",
    "entries = []\n",
    "for entry1, entry2 in zip(train_path, train_emb):\n",
    "    assert entry1['id'] == entry2['id']\n",
    "    entry = entry1\n",
    "    entry['ucca_encodings_min_subtree'] = entry2['ucca_encodings_min_subtree']\n",
    "    entries.append(entry)\n",
    "    \n",
    "output_stream = open(r'C:\\Users\\JYellin\\re_1\\tacred\\data\\json-enhanced3\\train.json', 'w', encoding='utf-8', newline='', buffering=1)\n",
    "json.dump(entries, output_stream)"
   ]
  },
  {
   "cell_type": "code",
   "execution_count": 21,
   "metadata": {},
   "outputs": [],
   "source": [
    "dev_path_stream = open(r'C:\\Users\\JYellin\\re_1\\tacred\\data\\json-enhanced\\dev.json', encoding='utf-8')\n",
    "dev_emb_stream = open(r'C:\\Users\\JYellin\\re_1\\tacred\\data\\json-enhanced3\\dev-nopath.json', encoding='utf-8')\n",
    "dev_path = ijson.items(dev_path_stream, 'item')\n",
    "dev_emb = ijson.items(dev_emb_stream, 'item')\n",
    "\n",
    "entries = []\n",
    "for entry1, entry2 in zip(dev_path, dev_emb):\n",
    "    assert entry1['id'] == entry2['id']\n",
    "    entry = entry1\n",
    "    entry['ucca_encodings_min_subtree'] = entry2['ucca_encodings_min_subtree']\n",
    "    entries.append(entry)\n",
    "    \n",
    "output_stream = open(r'C:\\Users\\JYellin\\re_1\\tacred\\data\\json-enhanced3\\dev.json', 'w', encoding='utf-8', newline='', buffering=1)\n",
    "json.dump(entries, output_stream)"
   ]
  },
  {
   "cell_type": "code",
   "execution_count": 23,
   "metadata": {},
   "outputs": [],
   "source": [
    "test_path_stream = open(r'C:\\Users\\JYellin\\re_1\\tacred\\data\\json-enhanced\\test.json', encoding='utf-8')\n",
    "test_emb_stream = open(r'C:\\Users\\JYellin\\re_1\\tacred\\data\\json-enhanced3\\test-nopath.json', encoding='utf-8')\n",
    "test_path = ijson.items(test_path_stream, 'item')\n",
    "test_emb = ijson.items(test_emb_stream, 'item')\n",
    "\n",
    "entries = []\n",
    "for entry1, entry2 in zip(test_path, test_emb):\n",
    "    assert entry1['id'] == entry2['id']\n",
    "    entry = entry1\n",
    "    entry['ucca_encodings_min_subtree'] = entry2['ucca_encodings_min_subtree']\n",
    "    entries.append(entry)\n",
    "    \n",
    "output_stream = open(r'C:\\Users\\JYellin\\re_1\\tacred\\data\\json-enhanced3\\test.json', 'w', encoding='utf-8', newline='', buffering=1)\n",
    "json.dump(entries, output_stream)"
   ]
  },
  {
   "cell_type": "code",
   "execution_count": null,
   "metadata": {},
   "outputs": [],
   "source": []
  }
 ],
 "metadata": {
  "kernelspec": {
   "display_name": "Python 3",
   "language": "python",
   "name": "python3"
  },
  "language_info": {
   "codemirror_mode": {
    "name": "ipython",
    "version": 3
   },
   "file_extension": ".py",
   "mimetype": "text/x-python",
   "name": "python",
   "nbconvert_exporter": "python",
   "pygments_lexer": "ipython3",
   "version": "3.7.6"
  }
 },
 "nbformat": 4,
 "nbformat_minor": 4
}
