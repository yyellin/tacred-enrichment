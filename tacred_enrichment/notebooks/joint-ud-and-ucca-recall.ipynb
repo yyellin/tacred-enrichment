{
 "cells": [
  {
   "cell_type": "code",
   "execution_count": 2,
   "metadata": {},
   "outputs": [
    {
     "data": {
      "text/html": [
       "        <script type=\"text/javascript\">\n",
       "        window.PlotlyConfig = {MathJaxConfig: 'local'};\n",
       "        if (window.MathJax) {MathJax.Hub.Config({SVG: {font: \"STIX-Web\"}});}\n",
       "        if (typeof require !== 'undefined') {\n",
       "        require.undef(\"plotly\");\n",
       "        requirejs.config({\n",
       "            paths: {\n",
       "                'plotly': ['https://cdn.plot.ly/plotly-latest.min']\n",
       "            }\n",
       "        });\n",
       "        require(['plotly'], function(Plotly) {\n",
       "            window._Plotly = Plotly;\n",
       "        });\n",
       "        }\n",
       "        </script>\n",
       "        "
      ]
     },
     "metadata": {},
     "output_type": "display_data"
    }
   ],
   "source": [
    "from plotly.offline import download_plotlyjs, init_notebook_mode, plot, iplot\n",
    "init_notebook_mode(connected=True)"
   ]
  },
  {
   "cell_type": "code",
   "execution_count": 1,
   "metadata": {},
   "outputs": [],
   "source": [
    "import pandas\n",
    "\n",
    "train_ud = pandas.read_csv(r'C:\\Users\\JYellin\\re_1\\tacred\\results\\general\\train-ud_paths_v0.0.5.csv')\n",
    "test_ud = pandas.read_csv(r'C:\\Users\\JYellin\\re_1\\tacred\\results\\general\\test-ud_paths_v0.0.5.csv')\n",
    "\n",
    "train_ucca = pandas.read_csv(r'C:\\Users\\JYellin\\re_1\\tacred\\results\\general\\train-ucca_paths_v0.0.5.csv')\n",
    "test_ucca = pandas.read_csv(r'C:\\Users\\JYellin\\re_1\\tacred\\results\\general\\test-ucca_paths_v0.0.5.csv')"
   ]
  },
  {
   "cell_type": "code",
   "execution_count": 4,
   "metadata": {},
   "outputs": [],
   "source": [
    "train_ud = train_ud.rename(columns={'path' : 'ud_path'})\n",
    "test_ud = test_ud.rename(columns={'path' : 'ud_path'})\n",
    "\n",
    "train_ucca = train_ucca.rename(columns={'path' : 'ucca_path'})\n",
    "test_ucca = test_ucca.rename(columns={'path' : 'ucca_path'})"
   ]
  },
  {
   "cell_type": "code",
   "execution_count": 5,
   "metadata": {},
   "outputs": [],
   "source": [
    "test = pandas.merge(test_ud, test_ucca[['id', 'ucca_path']], on='id').dropna()\n",
    "test = test[test['relation'] != 'no_relation']\n",
    "\n"
   ]
  },
  {
   "cell_type": "code",
   "execution_count": 6,
   "metadata": {},
   "outputs": [],
   "source": [
    "train_ud_total_by_r_and_p = train_ud[train_ud['relation'] != 'no_relation'].groupby(['relation','ud_path'])['id'].count().reset_index().rename(columns={'id': 'total'}).sort_values(['relation','total'], ascending=[True,False]).reset_index(drop=True)\n",
    "train_ucca_total_by_r_and_p = train_ucca[train_ucca['relation'] != 'no_relation'].groupby(['relation','ucca_path'])['id'].count().reset_index().rename(columns={'id': 'total'}).sort_values(['relation','total'], ascending=[True,False]).reset_index(drop=True)\n",
    "\n"
   ]
  },
  {
   "cell_type": "code",
   "execution_count": 7,
   "metadata": {},
   "outputs": [],
   "source": [
    "def label_matches(test_row):\n",
    "    relation = test_row['relation']\n",
    "    ud_path = test_row['ud_path']\n",
    "    ucca_path = test_row['ucca_path']\n",
    "    \n",
    "    train_ud_row = train_ud_total_by_r_and_p.loc[\n",
    "        (train_ud_total_by_r_and_p['relation'] == relation) & \n",
    "        (train_ud_total_by_r_and_p['ud_path'] == ud_path)]\n",
    "\n",
    "    train_ucca_row = train_ucca_total_by_r_and_p.loc[\n",
    "        (train_ucca_total_by_r_and_p['relation'] == relation) & \n",
    "        (train_ucca_total_by_r_and_p['ucca_path'] == ucca_path)]\n",
    "\n",
    "\n",
    "    match_any = not train_ud_row.empty or not train_ucca_row.empty\n",
    "    match_ud = not train_ud_row.empty\n",
    "    match_ucca = not  train_ucca_row.empty\n",
    "    \n",
    "    return pandas.Series( {'match_any' : match_any, 'match_ud' : match_ud, 'match_ucca' : match_ucca})\n",
    "\n",
    "\n",
    "matching_results = test.apply( label_matches, axis=1)"
   ]
  },
  {
   "cell_type": "code",
   "execution_count": 8,
   "metadata": {},
   "outputs": [],
   "source": [
    "test = pandas.concat((test, matching_results), axis=1)"
   ]
  },
  {
   "cell_type": "code",
   "execution_count": 9,
   "metadata": {},
   "outputs": [],
   "source": [
    "stats = []\n",
    "relations = train_ud_total_by_r_and_p['relation'].unique().tolist()\n",
    "\n",
    "for relation in relations:\n",
    "    \n",
    "    \n",
    "    df = test[test['relation']==relation]\n",
    "    \n",
    "    matched = df[df['match_any']]['id'].count()\n",
    "    total = df.shape[0]\n",
    "    \n",
    "    stats.append( ('{} ({})'.format(relation,df.shape[0]), round(matched/total,4)) )\n",
    "\n",
    "matched = test[test['match_any']]['id'].count()\n",
    "total = test.shape[0]\n",
    "stats.append( ('overall', round(matched/total,4)) )\n",
    "\n",
    "stats = sorted(stats, key=lambda x: x[1], reverse=True)"
   ]
  },
  {
   "cell_type": "code",
   "execution_count": 10,
   "metadata": {},
   "outputs": [
    {
     "data": {
      "application/vnd.plotly.v1+json": {
       "config": {
        "linkText": "Export to plot.ly",
        "plotlyServerURL": "https://plot.ly",
        "showLink": false
       },
       "data": [
        {
         "marker": {
          "color": [
           "rgb(58,200,225)",
           "rgb(58,200,225)",
           "rgb(58,200,225)",
           "rgb(58,200,225)",
           "rgb(58,200,225)",
           "rgb(58,200,225)",
           "rgb(58,200,225)",
           "rgb(58,200,225)",
           "rgb(58,200,225)",
           "rgb(58,200,225)",
           "rgb(58,200,225)",
           "rgb(181,59,89)",
           "rgb(58,200,225)",
           "rgb(58,200,225)",
           "rgb(58,200,225)",
           "rgb(58,200,225)",
           "rgb(58,200,225)",
           "rgb(58,200,225)",
           "rgb(58,200,225)",
           "rgb(58,200,225)",
           "rgb(58,200,225)",
           "rgb(58,200,225)",
           "rgb(58,200,225)",
           "rgb(58,200,225)",
           "rgb(58,200,225)",
           "rgb(58,200,225)",
           "rgb(58,200,225)",
           "rgb(58,200,225)",
           "rgb(58,200,225)",
           "rgb(58,200,225)",
           "rgb(58,200,225)",
           "rgb(58,200,225)",
           "rgb(58,200,225)",
           "rgb(58,200,225)",
           "rgb(58,200,225)",
           "rgb(58,200,225)",
           "rgb(58,200,225)",
           "rgb(58,200,225)",
           "rgb(58,200,225)",
           "rgb(58,200,225)",
           "rgb(58,200,225)",
           "rgb(58,200,225)"
          ],
          "line": {
           "color": "rgb(8,48,107)",
           "width": 0.5
          }
         },
         "name": "Recall",
         "opacity": 0.6,
         "type": "bar",
         "uid": "2d910323-2d91-427e-b43b-3ee6bf9fb042",
         "width": 0.5,
         "x": [
          "org:top_members/employees (343)",
          "org:alternate_names (209)",
          "per:title (496)",
          "org:founded (36)",
          "per:age (198)",
          "org:founded_by (68)",
          "per:employee_of (260)",
          "org:city_of_headquarters (81)",
          "per:date_of_birth (9)",
          "per:origin (132)",
          "per:stateorprovince_of_birth (8)",
          "overall",
          "org:number_of_employees/members (19)",
          "per:cities_of_residence (188)",
          "per:siblings (55)",
          "org:stateorprovince_of_headquarters (50)",
          "per:stateorprovinces_of_residence (80)",
          "org:subsidiaries (44)",
          "per:countries_of_residence (148)",
          "org:parents (61)",
          "per:other_family (60)",
          "per:children (37)",
          "per:spouse (66)",
          "per:date_of_death (54)",
          "per:parents (88)",
          "org:website (25)",
          "org:country_of_headquarters (107)",
          "org:political/religious_affiliation (10)",
          "per:alternate_names (10)",
          "per:schools_attended (30)",
          "per:religion (47)",
          "org:members (31)",
          "per:charges (99)",
          "per:city_of_birth (5)",
          "per:country_of_birth (5)",
          "org:member_of (18)",
          "per:city_of_death (28)",
          "per:cause_of_death (51)",
          "per:stateorprovince_of_death (14)",
          "org:shareholders (12)",
          "org:dissolved (2)",
          "per:country_of_death (9)"
         ],
         "y": [
          0.9242,
          0.9091,
          0.8992,
          0.8889,
          0.8838,
          0.8235,
          0.8231,
          0.7901,
          0.7778,
          0.7652,
          0.75,
          0.7437,
          0.7368,
          0.7234,
          0.7091,
          0.7,
          0.6875,
          0.6818,
          0.6622,
          0.6557,
          0.65,
          0.6486,
          0.6212,
          0.5926,
          0.5795,
          0.56,
          0.5421,
          0.5,
          0.5,
          0.5,
          0.4468,
          0.4194,
          0.404,
          0.4,
          0.4,
          0.3889,
          0.3214,
          0.2157,
          0.2143,
          0.1667,
          0,
          0
         ]
        }
       ],
       "layout": {
        "barmode": "overlay",
        "title": {
         "text": "UD + UCCA Path - Recall"
        },
        "width": 1200,
        "xaxis": {
         "automargin": true,
         "tickangle": 45,
         "title": {
          "text": "Relation"
         }
        },
        "yaxis": {
         "title": {
          "text": "Recall"
         }
        }
       }
      },
      "text/html": [
       "<div>\n",
       "        \n",
       "        \n",
       "            <div id=\"1c960d3d-47e1-4660-8130-a38e41b8d2ac\" class=\"plotly-graph-div\" style=\"height:525px; width:1200px;\"></div>\n",
       "            <script type=\"text/javascript\">\n",
       "                require([\"plotly\"], function(Plotly) {\n",
       "                    window.PLOTLYENV=window.PLOTLYENV || {};\n",
       "                    window.PLOTLYENV.BASE_URL='https://plot.ly';\n",
       "                    \n",
       "                if (document.getElementById(\"1c960d3d-47e1-4660-8130-a38e41b8d2ac\")) {\n",
       "                    Plotly.newPlot(\n",
       "                        '1c960d3d-47e1-4660-8130-a38e41b8d2ac',\n",
       "                        [{\"marker\": {\"color\": [\"rgb(58,200,225)\", \"rgb(58,200,225)\", \"rgb(58,200,225)\", \"rgb(58,200,225)\", \"rgb(58,200,225)\", \"rgb(58,200,225)\", \"rgb(58,200,225)\", \"rgb(58,200,225)\", \"rgb(58,200,225)\", \"rgb(58,200,225)\", \"rgb(58,200,225)\", \"rgb(181,59,89)\", \"rgb(58,200,225)\", \"rgb(58,200,225)\", \"rgb(58,200,225)\", \"rgb(58,200,225)\", \"rgb(58,200,225)\", \"rgb(58,200,225)\", \"rgb(58,200,225)\", \"rgb(58,200,225)\", \"rgb(58,200,225)\", \"rgb(58,200,225)\", \"rgb(58,200,225)\", \"rgb(58,200,225)\", \"rgb(58,200,225)\", \"rgb(58,200,225)\", \"rgb(58,200,225)\", \"rgb(58,200,225)\", \"rgb(58,200,225)\", \"rgb(58,200,225)\", \"rgb(58,200,225)\", \"rgb(58,200,225)\", \"rgb(58,200,225)\", \"rgb(58,200,225)\", \"rgb(58,200,225)\", \"rgb(58,200,225)\", \"rgb(58,200,225)\", \"rgb(58,200,225)\", \"rgb(58,200,225)\", \"rgb(58,200,225)\", \"rgb(58,200,225)\", \"rgb(58,200,225)\"], \"line\": {\"color\": \"rgb(8,48,107)\", \"width\": 0.5}}, \"name\": \"Recall\", \"opacity\": 0.6, \"type\": \"bar\", \"uid\": \"2d910323-2d91-427e-b43b-3ee6bf9fb042\", \"width\": 0.5, \"x\": [\"org:top_members/employees (343)\", \"org:alternate_names (209)\", \"per:title (496)\", \"org:founded (36)\", \"per:age (198)\", \"org:founded_by (68)\", \"per:employee_of (260)\", \"org:city_of_headquarters (81)\", \"per:date_of_birth (9)\", \"per:origin (132)\", \"per:stateorprovince_of_birth (8)\", \"overall\", \"org:number_of_employees/members (19)\", \"per:cities_of_residence (188)\", \"per:siblings (55)\", \"org:stateorprovince_of_headquarters (50)\", \"per:stateorprovinces_of_residence (80)\", \"org:subsidiaries (44)\", \"per:countries_of_residence (148)\", \"org:parents (61)\", \"per:other_family (60)\", \"per:children (37)\", \"per:spouse (66)\", \"per:date_of_death (54)\", \"per:parents (88)\", \"org:website (25)\", \"org:country_of_headquarters (107)\", \"org:political/religious_affiliation (10)\", \"per:alternate_names (10)\", \"per:schools_attended (30)\", \"per:religion (47)\", \"org:members (31)\", \"per:charges (99)\", \"per:city_of_birth (5)\", \"per:country_of_birth (5)\", \"org:member_of (18)\", \"per:city_of_death (28)\", \"per:cause_of_death (51)\", \"per:stateorprovince_of_death (14)\", \"org:shareholders (12)\", \"org:dissolved (2)\", \"per:country_of_death (9)\"], \"y\": [0.9242, 0.9091, 0.8992, 0.8889, 0.8838, 0.8235, 0.8231, 0.7901, 0.7778, 0.7652, 0.75, 0.7437, 0.7368, 0.7234, 0.7091, 0.7, 0.6875, 0.6818, 0.6622, 0.6557, 0.65, 0.6486, 0.6212, 0.5926, 0.5795, 0.56, 0.5421, 0.5, 0.5, 0.5, 0.4468, 0.4194, 0.404, 0.4, 0.4, 0.3889, 0.3214, 0.2157, 0.2143, 0.1667, 0.0, 0.0]}],\n",
       "                        {\"barmode\": \"overlay\", \"title\": {\"text\": \"UD + UCCA Path - Recall\"}, \"width\": 1200, \"xaxis\": {\"automargin\": true, \"tickangle\": 45, \"title\": {\"text\": \"Relation\"}}, \"yaxis\": {\"title\": {\"text\": \"Recall\"}}},\n",
       "                        {\"showLink\": false, \"linkText\": \"Export to plot.ly\", \"plotlyServerURL\": \"https://plot.ly\", \"responsive\": true}\n",
       "                    ).then(function(){\n",
       "                            \n",
       "var gd = document.getElementById('1c960d3d-47e1-4660-8130-a38e41b8d2ac');\n",
       "var x = new MutationObserver(function (mutations, observer) {{\n",
       "        var display = window.getComputedStyle(gd).display;\n",
       "        if (!display || display === 'none') {{\n",
       "            console.log([gd, 'removed!']);\n",
       "            Plotly.purge(gd);\n",
       "            observer.disconnect();\n",
       "        }}\n",
       "}});\n",
       "\n",
       "// Listen for the removal of the full notebook cells\n",
       "var notebookContainer = gd.closest('#notebook-container');\n",
       "if (notebookContainer) {{\n",
       "    x.observe(notebookContainer, {childList: true});\n",
       "}}\n",
       "\n",
       "// Listen for the clearing of the current output cell\n",
       "var outputEl = gd.closest('.output');\n",
       "if (outputEl) {{\n",
       "    x.observe(outputEl, {childList: true});\n",
       "}}\n",
       "\n",
       "                        })\n",
       "                };\n",
       "                });\n",
       "            </script>\n",
       "        </div>"
      ]
     },
     "metadata": {},
     "output_type": "display_data"
    }
   ],
   "source": [
    "import plotly.graph_objs as go\n",
    "\n",
    "overall_index = next(i for (i, stat) in enumerate(stats) if stat[0] == 'overall')\n",
    "\n",
    "colors = ['rgb(58,200,225)'] * len(stats)\n",
    "colors[overall_index] = 'rgb(181,59,89)'\n",
    "\n",
    "trace = go.Bar(\n",
    "    x=[stat[0] for stat in stats],\n",
    "    y=[stat[1] for stat in stats],\n",
    "    name='Recall',\n",
    "    width=0.5,\n",
    "    marker=dict(\n",
    "        color=colors,\n",
    "        line=dict(\n",
    "            color='rgb(8,48,107)',\n",
    "            width=0.5),\n",
    "        ),\n",
    "    opacity=0.6\n",
    ")\n",
    "\n",
    "data = [trace]\n",
    "layout = go.Layout(\n",
    "    title='UD + UCCA Path - Recall',\n",
    "    xaxis_title=\"Relation\",\n",
    "    yaxis_title=\"Recall\",    \n",
    "    barmode='overlay',\n",
    "    width=1200,\n",
    "    xaxis = go.layout.XAxis(\n",
    "        tickangle = 45,\n",
    "        automargin = True\n",
    "        \n",
    "    )\n",
    "    \n",
    "        \n",
    ")\n",
    "\n",
    "fig = go.Figure(data=data, layout=layout)\n",
    "iplot(fig)"
   ]
  },
  {
   "cell_type": "code",
   "execution_count": null,
   "metadata": {},
   "outputs": [],
   "source": []
  }
 ],
 "metadata": {
  "kernelspec": {
   "display_name": "Python 3",
   "language": "python",
   "name": "python3"
  },
  "language_info": {
   "codemirror_mode": {
    "name": "ipython",
    "version": 3
   },
   "file_extension": ".py",
   "mimetype": "text/x-python",
   "name": "python",
   "nbconvert_exporter": "python",
   "pygments_lexer": "ipython3",
   "version": "3.7.6"
  }
 },
 "nbformat": 4,
 "nbformat_minor": 2
}
