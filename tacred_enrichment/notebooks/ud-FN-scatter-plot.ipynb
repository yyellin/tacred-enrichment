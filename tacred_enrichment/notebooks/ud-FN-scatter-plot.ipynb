{
 "cells": [
  {
   "cell_type": "code",
   "execution_count": 1,
   "metadata": {},
   "outputs": [
    {
     "data": {
      "text/html": [
       "        <script type=\"text/javascript\">\n",
       "        window.PlotlyConfig = {MathJaxConfig: 'local'};\n",
       "        if (window.MathJax) {MathJax.Hub.Config({SVG: {font: \"STIX-Web\"}});}\n",
       "        if (typeof require !== 'undefined') {\n",
       "        require.undef(\"plotly\");\n",
       "        requirejs.config({\n",
       "            paths: {\n",
       "                'plotly': ['https://cdn.plot.ly/plotly-latest.min']\n",
       "            }\n",
       "        });\n",
       "        require(['plotly'], function(Plotly) {\n",
       "            window._Plotly = Plotly;\n",
       "        });\n",
       "        }\n",
       "        </script>\n",
       "        "
      ]
     },
     "metadata": {},
     "output_type": "display_data"
    }
   ],
   "source": [
    "from _plotly_future_ import v4_subplots\n",
    "from plotly.offline import download_plotlyjs, init_notebook_mode, plot, iplot\n",
    "from plotly.subplots import make_subplots\n",
    "import plotly.graph_objs as go\n",
    "\n",
    "init_notebook_mode(connected=True)"
   ]
  },
  {
   "cell_type": "code",
   "execution_count": 2,
   "metadata": {},
   "outputs": [],
   "source": [
    "import pandas\n",
    "\n",
    "train = pandas.read_csv(r'C:\\Users\\JYellin\\re_1\\tacred\\results\\general\\train-ud_paths_v0.0.5.csv')\n",
    "test = pandas.read_csv(r'C:\\Users\\JYellin\\re_1\\tacred\\results\\general\\test-ud_paths_v0.0.5.csv')\n",
    "\n",
    "# no point to consider 'no_relation' in the 'recall' scenario ...\n",
    "train = train[ train['relation'] != 'no_relation']\n",
    "test = test[ test['relation'] != 'no_relation']\n",
    "\n",
    "\n",
    "# 07/03/2020 - turns out some rows don't have a path .. I forgot about that\n",
    "test.dropna(subset=['path'], inplace=True)"
   ]
  },
  {
   "cell_type": "code",
   "execution_count": 3,
   "metadata": {},
   "outputs": [],
   "source": [
    "test['len-path'] =  test.apply(lambda row : len(row['path'].split(' ')), axis=1)"
   ]
  },
  {
   "cell_type": "code",
   "execution_count": 4,
   "metadata": {},
   "outputs": [],
   "source": [
    "#path_len_stats = test.groupby(['len-path'])['id'].count().reset_index().rename(columns={'id': 'total-for-path-len'}).sort_values(['total-for-path-len'], ascending=[False]).reset_index(drop=True)\n",
    "#path_len_stats['per-for-path-len'] = path_len_stats.apply(lambda row : row['total-for-path-len'] / test.shape[0], axis = 1 )\n",
    "#path_len_to_percent = path_len_stats.set_index('len-path').drop(columns=['total-for-path-len']).to_dict()['per-for-path-len']"
   ]
  },
  {
   "cell_type": "code",
   "execution_count": 5,
   "metadata": {},
   "outputs": [],
   "source": [
    "relations = test['relation'].unique().tolist()\n",
    "relation_to_full_df = {relation:test[test['relation']==relation] for relation in relations}\n",
    "relation_to_full_df['overall'] = test\n",
    "\n",
    "path_len_to_percent_per_relation = {}\n",
    "\n",
    "for relation, df in relation_to_full_df.items():\n",
    "    \n",
    "    path_len_stats = df.groupby(['len-path'])['id'].count().reset_index().rename(columns={'id': 'total-for-path-len'}).sort_values(['total-for-path-len'], ascending=[False]).reset_index(drop=True)\n",
    "    path_len_stats['per-for-path-len'] = path_len_stats.apply(lambda row : row['total-for-path-len'] / df.shape[0], axis = 1 )\n",
    "    path_len_to_percent = path_len_stats.set_index('len-path').drop(columns=['total-for-path-len']).to_dict()['per-for-path-len']    \n",
    "    \n",
    "    path_len_to_percent_per_relation[relation] = path_len_to_percent\n",
    "    \n",
    "    "
   ]
  },
  {
   "cell_type": "code",
   "execution_count": 6,
   "metadata": {},
   "outputs": [],
   "source": [
    "train_total_by_r_and_p = train.groupby(['relation','path'])['id'].count().reset_index().rename(columns={'id': 'total'}).sort_values(['relation','total'], ascending=[True,False]).reset_index(drop=True)"
   ]
  },
  {
   "cell_type": "code",
   "execution_count": 7,
   "metadata": {},
   "outputs": [],
   "source": [
    "def is_false_negative(test_row):\n",
    "    relation = test_row['relation']\n",
    "    path = test_row['path']\n",
    "\n",
    "    train_row = train_total_by_r_and_p.loc[\n",
    "        (train_total_by_r_and_p['relation'] == relation) & \n",
    "        (train_total_by_r_and_p['path'] == path)]\n",
    "    if train_row.empty:\n",
    "        return True\n",
    "    else:\n",
    "        return None\n",
    "\n",
    "test['false-negative'] = test.apply(lambda row : is_false_negative(row), axis=1)\n",
    "test.dropna(subset=['false-negative'], inplace=True)"
   ]
  },
  {
   "cell_type": "code",
   "execution_count": 8,
   "metadata": {},
   "outputs": [],
   "source": [
    "relations = test['relation'].unique().tolist()\n",
    "relation_to_fn_stats = {}\n",
    "\n",
    "relation_to_df = {relation:test[test['relation']==relation] for relation in relations}\n",
    "relation_to_df['overall'] = test\n",
    "\n",
    "for relation, df in relation_to_df.items():\n",
    "    path_len_to_percent = path_len_to_percent_per_relation[relation]\n",
    "    \n",
    "    \n",
    "    fn_len_path_stats = df.groupby(['len-path'])['id'].count().reset_index().rename(columns={'id': 'total'}).reset_index(drop=True)\n",
    "    fn_len_path_stats['weighted-total'] = fn_len_path_stats.apply(lambda row : row['total'] / path_len_to_percent[row['len-path']], axis=1)\n",
    "    weighted_total_sum = fn_len_path_stats['weighted-total'].sum()\n",
    "    fn_len_path_stats['weighted-total-per'] = fn_len_path_stats.apply(lambda row : row['weighted-total'] / weighted_total_sum, axis=1)\n",
    "    \n",
    "    fn_len_path_stats = fn_len_path_stats.sort_values(['len-path'], ascending=[True]).reset_index(drop=True)\n",
    "    relation_to_fn_stat = fn_len_path_stats.set_index(['len-path']).drop(columns=['total','weighted-total']).to_dict()['weighted-total-per']\n",
    "    \n",
    "    relation_to_fn_stats[relation] = relation_to_fn_stat\n",
    "    \n"
   ]
  },
  {
   "cell_type": "code",
   "execution_count": 9,
   "metadata": {},
   "outputs": [],
   "source": [
    "num_relations = len(relation_to_df)"
   ]
  },
  {
   "cell_type": "code",
   "execution_count": 10,
   "metadata": {},
   "outputs": [
    {
     "data": {
      "text/plain": [
       "True"
      ]
     },
     "execution_count": 10,
     "metadata": {},
     "output_type": "execute_result"
    }
   ],
   "source": [
    "import math\n",
    "num_columns = 5\n",
    "num_rows = math.ceil(num_relations/num_columns)\n",
    "\n",
    "layout = go.Layout(\n",
    "    title='UCCA: Path length to weighted number of false negatives',\n",
    "    width=2000,\n",
    "    height=2000,\n",
    "    font=dict(family=\"Arial\", size=12)\n",
    ")\n",
    "\n",
    "fig = make_subplots(\n",
    "    rows=num_rows, \n",
    "    cols=num_columns,\n",
    "    subplot_titles=list(relation_to_df.keys()),\n",
    ")\n",
    "\n",
    "fig['layout'].update(layout)\n",
    "\n",
    "True\n",
    "\n",
    "#fig.update_layout(height=600, width=800)\n",
    "\n",
    "\n"
   ]
  },
  {
   "cell_type": "code",
   "execution_count": 11,
   "metadata": {},
   "outputs": [
    {
     "data": {
      "application/vnd.plotly.v1+json": {
       "config": {
        "plotlyServerURL": "https://plot.ly"
       },
       "data": [
        {
         "name": "per:title",
         "type": "scatter",
         "uid": "79b69b9b-daa0-40b9-ade3-0ee7c3ff31cb",
         "x": [
          2,
          3,
          4,
          5,
          6,
          7,
          8,
          9,
          10,
          11,
          12
         ],
         "xaxis": "x",
         "y": [
          0.006493421311539924,
          0.03751754535556401,
          0.06580000262360457,
          0.1023205782424473,
          0.11255263606669204,
          0.11255263606669202,
          0.11255263606669202,
          0.11255263606669202,
          0.11255263606669202,
          0.11255263606669202,
          0.11255263606669202
         ],
         "yaxis": "y"
        },
        {
         "name": "org:top_members/employees",
         "type": "scatter",
         "uid": "c211e0bd-c5b9-46d3-b8a6-3c7b3fb401f8",
         "x": [
          1,
          2,
          3,
          4,
          5,
          6,
          7,
          8,
          9
         ],
         "xaxis": "x2",
         "y": [
          0.06686169127151508,
          0.03085924212531465,
          0.06686169127151508,
          0.053489353017212055,
          0.05695625552758691,
          0.14327505272467514,
          0.18052656643309067,
          0.2005850738145452,
          0.2005850738145452
         ],
         "yaxis": "y2"
        },
        {
         "name": "org:country_of_headquarters",
         "type": "scatter",
         "uid": "02af0a99-fd11-4895-a719-51176fefe1cf",
         "x": [
          1,
          2,
          3,
          4,
          5,
          6,
          7,
          8,
          9,
          10
         ],
         "xaxis": "x3",
         "y": [
          0.1186161449752883,
          0.039538714991762765,
          0.039538714991762765,
          0.10378912685337727,
          0.10543657331136738,
          0.1186161449752883,
          0.1186161449752883,
          0.1186161449752883,
          0.1186161449752883,
          0.1186161449752883
         ],
         "yaxis": "y3"
        },
        {
         "name": "per:parents",
         "type": "scatter",
         "uid": "00e428f0-8a1b-4554-9544-696079ea212c",
         "x": [
          1,
          2,
          3,
          4,
          5,
          6,
          7
         ],
         "xaxis": "x4",
         "y": [
          0.166551724137931,
          0.1189655172413793,
          0.0832758620689655,
          0.1593103448275862,
          0.13879310344827586,
          0.166551724137931,
          0.166551724137931
         ],
         "yaxis": "y4"
        },
        {
         "name": "per:countries_of_residence",
         "type": "scatter",
         "uid": "bfbdac36-e412-4b6e-b81a-43ff1f1fd755",
         "x": [
          1,
          2,
          3,
          4,
          5,
          6,
          7,
          8,
          9
         ],
         "xaxis": "x5",
         "y": [
          0.06570365718150635,
          0.059133291463355706,
          0.09444900719841537,
          0.123677472341659,
          0.1314073143630127,
          0.1314073143630127,
          0.1314073143630127,
          0.1314073143630127,
          0.1314073143630127
         ],
         "yaxis": "y5"
        },
        {
         "name": "per:charges",
         "type": "scatter",
         "uid": "9f3e5fc1-1fda-4b0a-b506-e5fcb7524403",
         "x": [
          1,
          2,
          3,
          4,
          5,
          6,
          7,
          8,
          9,
          12
         ],
         "xaxis": "x6",
         "y": [
          0.102803738317757,
          0.10280373831775699,
          0.0794392523364486,
          0.09813084112149531,
          0.102803738317757,
          0.102803738317757,
          0.102803738317757,
          0.102803738317757,
          0.102803738317757,
          0.102803738317757
         ],
         "yaxis": "y6"
        },
        {
         "name": "per:cities_of_residence",
         "type": "scatter",
         "uid": "4181e320-2d61-405d-8bb2-1f9d4f537364",
         "x": [
          2,
          3,
          4,
          5,
          6,
          7,
          8,
          10,
          11
         ],
         "xaxis": "x7",
         "y": [
          0.12060394889663183,
          0.07400696864111499,
          0.08176538908246225,
          0.12060394889663183,
          0.12060394889663183,
          0.12060394889663183,
          0.12060394889663183,
          0.12060394889663183,
          0.12060394889663183
         ],
         "yaxis": "y7"
        },
        {
         "name": "per:origin",
         "type": "scatter",
         "uid": "38caf28d-4751-475a-823b-744797fe02fb",
         "x": [
          2,
          3,
          4,
          5,
          6,
          7,
          9,
          14
         ],
         "xaxis": "x8",
         "y": [
          0.029201430274135878,
          0.11799761620977353,
          0.10190703218116805,
          0.1501787842669845,
          0.1501787842669845,
          0.1501787842669845,
          0.1501787842669845,
          0.1501787842669845
         ],
         "yaxis": "y8"
        },
        {
         "name": "per:siblings",
         "type": "scatter",
         "uid": "caf70c0f-4e77-42e0-973f-863f7a0fc716",
         "x": [
          1,
          2,
          3,
          4,
          5,
          6,
          7
         ],
         "xaxis": "x9",
         "y": [
          0.15825688073394495,
          0.1055045871559633,
          0.10321100917431192,
          0.15825688073394495,
          0.15825688073394495,
          0.15825688073394495,
          0.15825688073394495
         ],
         "yaxis": "y9"
        },
        {
         "name": "per:alternate_names",
         "type": "scatter",
         "uid": "e54d33e1-cea4-4483-9bb6-a50b7e8a1970",
         "x": [
          1,
          3,
          4,
          5,
          6,
          7,
          8
         ],
         "xaxis": "x10",
         "y": [
          0.14285714285714285,
          0.14285714285714285,
          0.14285714285714285,
          0.14285714285714285,
          0.14285714285714285,
          0.14285714285714285,
          0.14285714285714285
         ],
         "yaxis": "y10"
        },
        {
         "name": "per:age",
         "type": "scatter",
         "uid": "fbaa66da-d04b-4fa2-94d6-4432b29e98e3",
         "x": [
          2,
          3,
          4,
          5,
          7
         ],
         "xaxis": "x11",
         "y": [
          0.030829704420208874,
          0.08956029134070677,
          0.23989363751975026,
          0.31985818335966704,
          0.31985818335966704
         ],
         "yaxis": "y11"
        },
        {
         "name": "per:employee_of",
         "type": "scatter",
         "uid": "ff9c5b53-8e4d-43cc-aa64-ef76220b98a0",
         "x": [
          1,
          2,
          3,
          4,
          5,
          6,
          7,
          8,
          9
         ],
         "xaxis": "x12",
         "y": [
          0.07251353068356638,
          0.06215445487162832,
          0.09767128622684451,
          0.08796723394399855,
          0.11892219032104887,
          0.12569011985151504,
          0.14502706136713275,
          0.14502706136713275,
          0.14502706136713275
         ],
         "yaxis": "y12"
        },
        {
         "name": "org:website",
         "type": "scatter",
         "uid": "979b63c8-1959-4b81-b7f6-efac42faa024",
         "x": [
          1,
          2,
          3,
          4,
          5,
          7
         ],
         "xaxis": "x13",
         "y": [
          0.2057142857142857,
          0.022857142857142857,
          0.15428571428571428,
          0.2057142857142857,
          0.2057142857142857,
          0.2057142857142857
         ],
         "yaxis": "y13"
        },
        {
         "name": "per:children",
         "type": "scatter",
         "uid": "819525f6-4394-420a-be37-7b2da3071745",
         "x": [
          2,
          3,
          4,
          5,
          6,
          8
         ],
         "xaxis": "x14",
         "y": [
          0.031746031746031744,
          0.07936507936507936,
          0.2222222222222222,
          0.2222222222222222,
          0.2222222222222222,
          0.2222222222222222
         ],
         "yaxis": "y14"
        },
        {
         "name": "per:religion",
         "type": "scatter",
         "uid": "ae4fd4ef-b5af-467e-be45-e7e2b5ca0ab8",
         "x": [
          1,
          2,
          3,
          4,
          5,
          6,
          10
         ],
         "xaxis": "x15",
         "y": [
          0.14754098360655737,
          0.1475409836065574,
          0.11475409836065575,
          0.1475409836065574,
          0.14754098360655737,
          0.14754098360655737,
          0.14754098360655737
         ],
         "yaxis": "y15"
        },
        {
         "name": "per:stateorprovince_of_death",
         "type": "scatter",
         "uid": "9a52b9f2-4589-435a-949c-a4866bb110bd",
         "x": [
          4,
          5,
          6,
          7,
          8,
          9
         ],
         "xaxis": "x16",
         "y": [
          0.0625,
          0.1875,
          0.1875,
          0.1875,
          0.1875,
          0.1875
         ],
         "yaxis": "y16"
        },
        {
         "name": "org:parents",
         "type": "scatter",
         "uid": "83d1eeff-5432-47a4-a2ee-7f28018b20d0",
         "x": [
          1,
          2,
          3,
          4,
          5,
          6,
          7,
          8
         ],
         "xaxis": "x17",
         "y": [
          0.03651037663335895,
          0.10953112990007685,
          0.13143735588009223,
          0.13835511145272866,
          0.1460415065334358,
          0.1460415065334358,
          0.1460415065334358,
          0.1460415065334358
         ],
         "yaxis": "y17"
        },
        {
         "name": "org:subsidiaries",
         "type": "scatter",
         "uid": "7ff98396-370e-4fed-b1de-2112af91b825",
         "x": [
          2,
          3,
          4,
          5,
          6,
          7,
          9
         ],
         "xaxis": "x18",
         "y": [
          0.06567630961688818,
          0.13682564503518374,
          0.16419077404222046,
          0.1407349491790461,
          0.16419077404222046,
          0.16419077404222046,
          0.16419077404222046
         ],
         "yaxis": "y18"
        },
        {
         "name": "per:stateorprovinces_of_residence",
         "type": "scatter",
         "uid": "ba48a09c-fee7-46a6-89da-17acd7f9d1a4",
         "x": [
          2,
          3,
          4,
          5,
          6,
          7,
          8,
          9
         ],
         "xaxis": "x19",
         "y": [
          0.13395020929720203,
          0.09165014320334876,
          0.12139237717558933,
          0.13395020929720203,
          0.11720643313505177,
          0.13395020929720203,
          0.13395020929720203,
          0.13395020929720203
         ],
         "yaxis": "y19"
        },
        {
         "name": "org:members",
         "type": "scatter",
         "uid": "55f52407-4599-4bf3-82ea-2b17f853d775",
         "x": [
          1,
          2,
          3,
          4,
          5,
          6,
          7,
          8,
          9
         ],
         "xaxis": "x20",
         "y": [
          0.11538461538461538,
          0.07692307692307693,
          0.11538461538461538,
          0.11538461538461538,
          0.11538461538461538,
          0.11538461538461538,
          0.11538461538461538,
          0.11538461538461538,
          0.11538461538461538
         ],
         "yaxis": "y20"
        },
        {
         "name": "per:cause_of_death",
         "type": "scatter",
         "uid": "c2ed8937-615b-418e-a28f-2711e9a4d10c",
         "x": [
          1,
          2,
          3,
          4,
          5,
          6,
          7,
          8,
          11,
          13
         ],
         "xaxis": "x21",
         "y": [
          0.07894736842105263,
          0.10526315789473684,
          0.10526315789473684,
          0.07894736842105263,
          0.10526315789473684,
          0.10526315789473684,
          0.10526315789473684,
          0.10526315789473684,
          0.10526315789473684,
          0.10526315789473684
         ],
         "yaxis": "y21"
        },
        {
         "name": "org:member_of",
         "type": "scatter",
         "uid": "1eb9da25-1da4-490c-95d8-daeafcae4043",
         "x": [
          1,
          2,
          3,
          4,
          5,
          6,
          7
         ],
         "xaxis": "x22",
         "y": [
          0.14705882352941177,
          0.14705882352941177,
          0.14705882352941177,
          0.1176470588235294,
          0.14705882352941177,
          0.14705882352941177,
          0.14705882352941177
         ],
         "yaxis": "y22"
        },
        {
         "name": "org:number_of_employees/members",
         "type": "scatter",
         "uid": "739bacc8-5b09-4cf3-8c41-d4440d29ccaa",
         "x": [
          1,
          2,
          4,
          5,
          6,
          7,
          8,
          11
         ],
         "xaxis": "x23",
         "y": [
          0.037037037037037035,
          0.07407407407407407,
          0.14814814814814814,
          0.14814814814814814,
          0.14814814814814814,
          0.14814814814814814,
          0.14814814814814814,
          0.14814814814814814
         ],
         "yaxis": "y23"
        },
        {
         "name": "per:country_of_birth",
         "type": "scatter",
         "uid": "b979e0f8-1741-4fbe-8465-5037691586e9",
         "x": [
          2,
          3,
          5
         ],
         "xaxis": "x24",
         "y": [
          0.3333333333333333,
          0.3333333333333333,
          0.3333333333333333
         ],
         "yaxis": "y24"
        },
        {
         "name": "org:shareholders",
         "type": "scatter",
         "uid": "e77dafe3-6c3f-4f32-9e99-52efd52ec333",
         "x": [
          2,
          3,
          4,
          5,
          6,
          7,
          8
         ],
         "xaxis": "x25",
         "y": [
          0.14285714285714285,
          0.14285714285714285,
          0.14285714285714285,
          0.14285714285714285,
          0.14285714285714285,
          0.14285714285714285,
          0.14285714285714285
         ],
         "yaxis": "y25"
        },
        {
         "name": "org:founded_by",
         "type": "scatter",
         "uid": "977c98c3-568c-4805-bfd4-a8ef5c849b29",
         "x": [
          2,
          3,
          4,
          5,
          6,
          7
         ],
         "xaxis": "x26",
         "y": [
          0.16007886583419395,
          0.15716834100084498,
          0.12393202516195663,
          0.17463149000093886,
          0.19209463900103277,
          0.19209463900103277
         ],
         "yaxis": "y26"
        },
        {
         "name": "per:other_family",
         "type": "scatter",
         "uid": "07d84e44-49e0-4cc6-81fe-295b8c7af051",
         "x": [
          1,
          2,
          3,
          4,
          5,
          6,
          7,
          9,
          10
         ],
         "xaxis": "x27",
         "y": [
          0.12389380530973451,
          0.061946902654867256,
          0.07079646017699115,
          0.12389380530973451,
          0.12389380530973451,
          0.12389380530973451,
          0.12389380530973451,
          0.12389380530973451,
          0.12389380530973451
         ],
         "yaxis": "y27"
        },
        {
         "name": "org:stateorprovince_of_headquarters",
         "type": "scatter",
         "uid": "827462bc-e9df-48eb-a82d-7db16e6fe7a4",
         "x": [
          1,
          2,
          3,
          4,
          5,
          6,
          9
         ],
         "xaxis": "x28",
         "y": [
          0.16772261260223476,
          0.07188111968667203,
          0.1153092961640364,
          0.14191913374035248,
          0.16772261260223476,
          0.16772261260223476,
          0.16772261260223476
         ],
         "yaxis": "y28"
        },
        {
         "name": "per:city_of_death",
         "type": "scatter",
         "uid": "13cc40d2-9e1f-42b1-a66e-7c74257e25b5",
         "x": [
          4,
          5,
          6,
          7,
          11
         ],
         "xaxis": "x29",
         "y": [
          0.17647058823529413,
          0.20588235294117646,
          0.20588235294117646,
          0.20588235294117646,
          0.20588235294117646
         ],
         "yaxis": "y29"
        },
        {
         "name": "org:alternate_names",
         "type": "scatter",
         "uid": "6d7202e3-a1e0-4220-aa87-54796f861fbf",
         "x": [
          2,
          3,
          4,
          5,
          6,
          7,
          8,
          9
         ],
         "xaxis": "x30",
         "y": [
          0.04397491267277029,
          0.005767201662002662,
          0.11873226421647978,
          0.1279270186844227,
          0.17589965069108116,
          0.17589965069108118,
          0.17589965069108118,
          0.17589965069108118
         ],
         "yaxis": "y30"
        },
        {
         "name": "per:spouse",
         "type": "scatter",
         "uid": "3ebc358e-8318-49d7-bab7-921a2c93f2e6",
         "x": [
          2,
          3,
          4,
          5,
          6,
          7,
          8
         ],
         "xaxis": "x31",
         "y": [
          0.014650138305501487,
          0.11986476795410307,
          0.16227845507632416,
          0.17580165966601782,
          0.17580165966601782,
          0.17580165966601782,
          0.17580165966601782
         ],
         "yaxis": "y31"
        },
        {
         "name": "per:date_of_death",
         "type": "scatter",
         "uid": "2469b10d-ff14-4572-84eb-5f82eea1f956",
         "x": [
          1,
          2,
          3,
          4,
          5,
          6,
          7
         ],
         "xaxis": "x32",
         "y": [
          0.12858192505510654,
          0.14401175606171931,
          0.11021307861866275,
          0.15429831006612785,
          0.15429831006612785,
          0.15429831006612785,
          0.15429831006612785
         ],
         "yaxis": "y32"
        },
        {
         "name": "org:city_of_headquarters",
         "type": "scatter",
         "uid": "c46cf783-f9df-4fee-a2eb-643af9105526",
         "x": [
          2,
          3,
          4,
          5,
          6,
          7
         ],
         "xaxis": "x33",
         "y": [
          0.0974205075719465,
          0.07103578677121099,
          0.1748573212829809,
          0.20205734903811126,
          0.22731451766787517,
          0.22731451766787517
         ],
         "yaxis": "y33"
        },
        {
         "name": "per:schools_attended",
         "type": "scatter",
         "uid": "2ed78cb8-a1ae-46ef-8430-cfd9ac1d0a22",
         "x": [
          1,
          2,
          3,
          4,
          5,
          6
         ],
         "xaxis": "x34",
         "y": [
          0.10601941747572814,
          0.18174757281553397,
          0.14679611650485436,
          0.14135922330097087,
          0.21203883495145628,
          0.21203883495145628
         ],
         "yaxis": "y34"
        },
        {
         "name": "org:political/religious_affiliation",
         "type": "scatter",
         "uid": "2aae6390-64dc-4da0-abb9-f236b86adbf5",
         "x": [
          2,
          3,
          4,
          5
         ],
         "xaxis": "x35",
         "y": [
          0.3333333333333333,
          0.16666666666666666,
          0.16666666666666666,
          0.3333333333333333
         ],
         "yaxis": "y35"
        },
        {
         "name": "per:date_of_birth",
         "type": "scatter",
         "uid": "2ccb28d8-1101-4db1-b944-f47a328265ef",
         "x": [
          2,
          4,
          5
         ],
         "xaxis": "x36",
         "y": [
          0.14285714285714285,
          0.42857142857142855,
          0.42857142857142855
         ],
         "yaxis": "y36"
        },
        {
         "name": "per:country_of_death",
         "type": "scatter",
         "uid": "df1d0b8e-c8d6-42b0-98a0-3f2a9905aa42",
         "x": [
          1,
          3,
          4,
          6,
          7
         ],
         "xaxis": "x37",
         "y": [
          0.2,
          0.2,
          0.2,
          0.2,
          0.2
         ],
         "yaxis": "y37"
        },
        {
         "name": "org:founded",
         "type": "scatter",
         "uid": "73feea42-e702-4bb9-9bc2-74256235833a",
         "x": [
          2,
          3,
          4,
          5,
          6,
          7
         ],
         "xaxis": "x38",
         "y": [
          0.16717697489283526,
          0.09552969993876301,
          0.06858542559706061,
          0.222902633190447,
          0.222902633190447,
          0.222902633190447
         ],
         "yaxis": "y38"
        },
        {
         "name": "per:stateorprovince_of_birth",
         "type": "scatter",
         "uid": "f3ce6d96-0851-4eeb-8471-a5ae1a421c5e",
         "x": [
          3,
          5,
          7
         ],
         "xaxis": "x39",
         "y": [
          0.1111111111111111,
          0.4444444444444444,
          0.4444444444444444
         ],
         "yaxis": "y39"
        },
        {
         "name": "per:city_of_birth",
         "type": "scatter",
         "uid": "8cf980bd-d9e3-479b-983b-b881cc618564",
         "x": [
          3,
          4,
          5
         ],
         "xaxis": "x40",
         "y": [
          0.2,
          0.4,
          0.4
         ],
         "yaxis": "y40"
        },
        {
         "name": "org:dissolved",
         "type": "scatter",
         "uid": "de0cd422-2015-4328-8510-930e0f650bbb",
         "x": [
          2,
          4
         ],
         "xaxis": "x41",
         "y": [
          0.5,
          0.5
         ],
         "yaxis": "y41"
        },
        {
         "name": "overall",
         "type": "scatter",
         "uid": "a213522b-01b6-446a-936c-61d2c95e0264",
         "x": [
          1,
          2,
          3,
          4,
          5,
          6,
          7,
          8,
          9,
          10,
          11,
          12,
          13,
          14
         ],
         "xaxis": "x42",
         "y": [
          0.05337854905044906,
          0.0258046616127933,
          0.039176275137872515,
          0.057075545331931765,
          0.07028146039259657,
          0.0799947245279782,
          0.08368096703334543,
          0.08437254527329045,
          0.08437254527329045,
          0.08437254527329044,
          0.08437254527329045,
          0.08437254527329044,
          0.08437254527329044,
          0.08437254527329044
         ],
         "yaxis": "y42"
        }
       ],
       "layout": {
        "annotations": [
         {
          "font": {
           "family": "Arial",
           "size": 10
          },
          "showarrow": false,
          "text": "per:title",
          "x": 0.08399999999999999,
          "xanchor": "center",
          "xref": "paper",
          "y": 1,
          "yanchor": "bottom",
          "yref": "paper"
         },
         {
          "font": {
           "family": "Arial",
           "size": 10
          },
          "showarrow": false,
          "text": "org:top_members/employees",
          "x": 0.292,
          "xanchor": "center",
          "xref": "paper",
          "y": 1,
          "yanchor": "bottom",
          "yref": "paper"
         },
         {
          "font": {
           "family": "Arial",
           "size": 10
          },
          "showarrow": false,
          "text": "org:country_of_headquarters",
          "x": 0.5,
          "xanchor": "center",
          "xref": "paper",
          "y": 1,
          "yanchor": "bottom",
          "yref": "paper"
         },
         {
          "font": {
           "family": "Arial",
           "size": 10
          },
          "showarrow": false,
          "text": "per:parents",
          "x": 0.708,
          "xanchor": "center",
          "xref": "paper",
          "y": 1,
          "yanchor": "bottom",
          "yref": "paper"
         },
         {
          "font": {
           "family": "Arial",
           "size": 10
          },
          "showarrow": false,
          "text": "per:countries_of_residence",
          "x": 0.9159999999999999,
          "xanchor": "center",
          "xref": "paper",
          "y": 1,
          "yanchor": "bottom",
          "yref": "paper"
         },
         {
          "font": {
           "family": "Arial",
           "size": 10
          },
          "showarrow": false,
          "text": "per:charges",
          "x": 0.08399999999999999,
          "xanchor": "center",
          "xref": "paper",
          "y": 0.8827160493827161,
          "yanchor": "bottom",
          "yref": "paper"
         },
         {
          "font": {
           "family": "Arial",
           "size": 10
          },
          "showarrow": false,
          "text": "per:cities_of_residence",
          "x": 0.292,
          "xanchor": "center",
          "xref": "paper",
          "y": 0.8827160493827161,
          "yanchor": "bottom",
          "yref": "paper"
         },
         {
          "font": {
           "family": "Arial",
           "size": 10
          },
          "showarrow": false,
          "text": "per:origin",
          "x": 0.5,
          "xanchor": "center",
          "xref": "paper",
          "y": 0.8827160493827161,
          "yanchor": "bottom",
          "yref": "paper"
         },
         {
          "font": {
           "family": "Arial",
           "size": 10
          },
          "showarrow": false,
          "text": "per:siblings",
          "x": 0.708,
          "xanchor": "center",
          "xref": "paper",
          "y": 0.8827160493827161,
          "yanchor": "bottom",
          "yref": "paper"
         },
         {
          "font": {
           "family": "Arial",
           "size": 10
          },
          "showarrow": false,
          "text": "per:alternate_names",
          "x": 0.9159999999999999,
          "xanchor": "center",
          "xref": "paper",
          "y": 0.8827160493827161,
          "yanchor": "bottom",
          "yref": "paper"
         },
         {
          "font": {
           "family": "Arial",
           "size": 10
          },
          "showarrow": false,
          "text": "per:age",
          "x": 0.08399999999999999,
          "xanchor": "center",
          "xref": "paper",
          "y": 0.7654320987654322,
          "yanchor": "bottom",
          "yref": "paper"
         },
         {
          "font": {
           "family": "Arial",
           "size": 10
          },
          "showarrow": false,
          "text": "per:employee_of",
          "x": 0.292,
          "xanchor": "center",
          "xref": "paper",
          "y": 0.7654320987654322,
          "yanchor": "bottom",
          "yref": "paper"
         },
         {
          "font": {
           "family": "Arial",
           "size": 10
          },
          "showarrow": false,
          "text": "org:website",
          "x": 0.5,
          "xanchor": "center",
          "xref": "paper",
          "y": 0.7654320987654322,
          "yanchor": "bottom",
          "yref": "paper"
         },
         {
          "font": {
           "family": "Arial",
           "size": 10
          },
          "showarrow": false,
          "text": "per:children",
          "x": 0.708,
          "xanchor": "center",
          "xref": "paper",
          "y": 0.7654320987654322,
          "yanchor": "bottom",
          "yref": "paper"
         },
         {
          "font": {
           "family": "Arial",
           "size": 10
          },
          "showarrow": false,
          "text": "per:religion",
          "x": 0.9159999999999999,
          "xanchor": "center",
          "xref": "paper",
          "y": 0.7654320987654322,
          "yanchor": "bottom",
          "yref": "paper"
         },
         {
          "font": {
           "family": "Arial",
           "size": 10
          },
          "showarrow": false,
          "text": "per:stateorprovince_of_death",
          "x": 0.08399999999999999,
          "xanchor": "center",
          "xref": "paper",
          "y": 0.6481481481481483,
          "yanchor": "bottom",
          "yref": "paper"
         },
         {
          "font": {
           "family": "Arial",
           "size": 10
          },
          "showarrow": false,
          "text": "org:parents",
          "x": 0.292,
          "xanchor": "center",
          "xref": "paper",
          "y": 0.6481481481481483,
          "yanchor": "bottom",
          "yref": "paper"
         },
         {
          "font": {
           "family": "Arial",
           "size": 10
          },
          "showarrow": false,
          "text": "org:subsidiaries",
          "x": 0.5,
          "xanchor": "center",
          "xref": "paper",
          "y": 0.6481481481481483,
          "yanchor": "bottom",
          "yref": "paper"
         },
         {
          "font": {
           "family": "Arial",
           "size": 10
          },
          "showarrow": false,
          "text": "per:stateorprovinces_of_residence",
          "x": 0.708,
          "xanchor": "center",
          "xref": "paper",
          "y": 0.6481481481481483,
          "yanchor": "bottom",
          "yref": "paper"
         },
         {
          "font": {
           "family": "Arial",
           "size": 10
          },
          "showarrow": false,
          "text": "org:members",
          "x": 0.9159999999999999,
          "xanchor": "center",
          "xref": "paper",
          "y": 0.6481481481481483,
          "yanchor": "bottom",
          "yref": "paper"
         },
         {
          "font": {
           "family": "Arial",
           "size": 10
          },
          "showarrow": false,
          "text": "per:cause_of_death",
          "x": 0.08399999999999999,
          "xanchor": "center",
          "xref": "paper",
          "y": 0.5308641975308642,
          "yanchor": "bottom",
          "yref": "paper"
         },
         {
          "font": {
           "family": "Arial",
           "size": 10
          },
          "showarrow": false,
          "text": "org:member_of",
          "x": 0.292,
          "xanchor": "center",
          "xref": "paper",
          "y": 0.5308641975308642,
          "yanchor": "bottom",
          "yref": "paper"
         },
         {
          "font": {
           "family": "Arial",
           "size": 10
          },
          "showarrow": false,
          "text": "org:number_of_employees/members",
          "x": 0.5,
          "xanchor": "center",
          "xref": "paper",
          "y": 0.5308641975308642,
          "yanchor": "bottom",
          "yref": "paper"
         },
         {
          "font": {
           "family": "Arial",
           "size": 10
          },
          "showarrow": false,
          "text": "per:country_of_birth",
          "x": 0.708,
          "xanchor": "center",
          "xref": "paper",
          "y": 0.5308641975308642,
          "yanchor": "bottom",
          "yref": "paper"
         },
         {
          "font": {
           "family": "Arial",
           "size": 10
          },
          "showarrow": false,
          "text": "org:shareholders",
          "x": 0.9159999999999999,
          "xanchor": "center",
          "xref": "paper",
          "y": 0.5308641975308642,
          "yanchor": "bottom",
          "yref": "paper"
         },
         {
          "font": {
           "family": "Arial",
           "size": 10
          },
          "showarrow": false,
          "text": "org:founded_by",
          "x": 0.08399999999999999,
          "xanchor": "center",
          "xref": "paper",
          "y": 0.41358024691358025,
          "yanchor": "bottom",
          "yref": "paper"
         },
         {
          "font": {
           "family": "Arial",
           "size": 10
          },
          "showarrow": false,
          "text": "per:other_family",
          "x": 0.292,
          "xanchor": "center",
          "xref": "paper",
          "y": 0.41358024691358025,
          "yanchor": "bottom",
          "yref": "paper"
         },
         {
          "font": {
           "family": "Arial",
           "size": 10
          },
          "showarrow": false,
          "text": "org:stateorprovince_of_headquarters",
          "x": 0.5,
          "xanchor": "center",
          "xref": "paper",
          "y": 0.41358024691358025,
          "yanchor": "bottom",
          "yref": "paper"
         },
         {
          "font": {
           "family": "Arial",
           "size": 10
          },
          "showarrow": false,
          "text": "per:city_of_death",
          "x": 0.708,
          "xanchor": "center",
          "xref": "paper",
          "y": 0.41358024691358025,
          "yanchor": "bottom",
          "yref": "paper"
         },
         {
          "font": {
           "family": "Arial",
           "size": 10
          },
          "showarrow": false,
          "text": "org:alternate_names",
          "x": 0.9159999999999999,
          "xanchor": "center",
          "xref": "paper",
          "y": 0.41358024691358025,
          "yanchor": "bottom",
          "yref": "paper"
         },
         {
          "font": {
           "family": "Arial",
           "size": 10
          },
          "showarrow": false,
          "text": "per:spouse",
          "x": 0.08399999999999999,
          "xanchor": "center",
          "xref": "paper",
          "y": 0.2962962962962963,
          "yanchor": "bottom",
          "yref": "paper"
         },
         {
          "font": {
           "family": "Arial",
           "size": 10
          },
          "showarrow": false,
          "text": "per:date_of_death",
          "x": 0.292,
          "xanchor": "center",
          "xref": "paper",
          "y": 0.2962962962962963,
          "yanchor": "bottom",
          "yref": "paper"
         },
         {
          "font": {
           "family": "Arial",
           "size": 10
          },
          "showarrow": false,
          "text": "org:city_of_headquarters",
          "x": 0.5,
          "xanchor": "center",
          "xref": "paper",
          "y": 0.2962962962962963,
          "yanchor": "bottom",
          "yref": "paper"
         },
         {
          "font": {
           "family": "Arial",
           "size": 10
          },
          "showarrow": false,
          "text": "per:schools_attended",
          "x": 0.708,
          "xanchor": "center",
          "xref": "paper",
          "y": 0.2962962962962963,
          "yanchor": "bottom",
          "yref": "paper"
         },
         {
          "font": {
           "family": "Arial",
           "size": 10
          },
          "showarrow": false,
          "text": "org:political/religious_affiliation",
          "x": 0.9159999999999999,
          "xanchor": "center",
          "xref": "paper",
          "y": 0.2962962962962963,
          "yanchor": "bottom",
          "yref": "paper"
         },
         {
          "font": {
           "family": "Arial",
           "size": 10
          },
          "showarrow": false,
          "text": "per:date_of_birth",
          "x": 0.08399999999999999,
          "xanchor": "center",
          "xref": "paper",
          "y": 0.17901234567901234,
          "yanchor": "bottom",
          "yref": "paper"
         },
         {
          "font": {
           "family": "Arial",
           "size": 10
          },
          "showarrow": false,
          "text": "per:country_of_death",
          "x": 0.292,
          "xanchor": "center",
          "xref": "paper",
          "y": 0.17901234567901234,
          "yanchor": "bottom",
          "yref": "paper"
         },
         {
          "font": {
           "family": "Arial",
           "size": 10
          },
          "showarrow": false,
          "text": "org:founded",
          "x": 0.5,
          "xanchor": "center",
          "xref": "paper",
          "y": 0.17901234567901234,
          "yanchor": "bottom",
          "yref": "paper"
         },
         {
          "font": {
           "family": "Arial",
           "size": 10
          },
          "showarrow": false,
          "text": "per:stateorprovince_of_birth",
          "x": 0.708,
          "xanchor": "center",
          "xref": "paper",
          "y": 0.17901234567901234,
          "yanchor": "bottom",
          "yref": "paper"
         },
         {
          "font": {
           "family": "Arial",
           "size": 10
          },
          "showarrow": false,
          "text": "per:city_of_birth",
          "x": 0.9159999999999999,
          "xanchor": "center",
          "xref": "paper",
          "y": 0.17901234567901234,
          "yanchor": "bottom",
          "yref": "paper"
         },
         {
          "font": {
           "family": "Arial",
           "size": 10
          },
          "showarrow": false,
          "text": "org:dissolved",
          "x": 0.08399999999999999,
          "xanchor": "center",
          "xref": "paper",
          "y": 0.0617283950617284,
          "yanchor": "bottom",
          "yref": "paper"
         },
         {
          "font": {
           "family": "Arial",
           "size": 10
          },
          "showarrow": false,
          "text": "overall",
          "x": 0.292,
          "xanchor": "center",
          "xref": "paper",
          "y": 0.0617283950617284,
          "yanchor": "bottom",
          "yref": "paper"
         }
        ],
        "font": {
         "family": "Arial",
         "size": 12
        },
        "height": 2000,
        "title": {
         "text": "UCCA: Path length to weighted number of false negatives"
        },
        "width": 2000,
        "xaxis": {
         "anchor": "y",
         "domain": [
          0,
          0.16799999999999998
         ]
        },
        "xaxis10": {
         "anchor": "y10",
         "domain": [
          0.832,
          1
         ]
        },
        "xaxis11": {
         "anchor": "y11",
         "domain": [
          0,
          0.16799999999999998
         ]
        },
        "xaxis12": {
         "anchor": "y12",
         "domain": [
          0.208,
          0.376
         ]
        },
        "xaxis13": {
         "anchor": "y13",
         "domain": [
          0.416,
          0.584
         ]
        },
        "xaxis14": {
         "anchor": "y14",
         "domain": [
          0.624,
          0.792
         ]
        },
        "xaxis15": {
         "anchor": "y15",
         "domain": [
          0.832,
          1
         ]
        },
        "xaxis16": {
         "anchor": "y16",
         "domain": [
          0,
          0.16799999999999998
         ]
        },
        "xaxis17": {
         "anchor": "y17",
         "domain": [
          0.208,
          0.376
         ]
        },
        "xaxis18": {
         "anchor": "y18",
         "domain": [
          0.416,
          0.584
         ]
        },
        "xaxis19": {
         "anchor": "y19",
         "domain": [
          0.624,
          0.792
         ]
        },
        "xaxis2": {
         "anchor": "y2",
         "domain": [
          0.208,
          0.376
         ]
        },
        "xaxis20": {
         "anchor": "y20",
         "domain": [
          0.832,
          1
         ]
        },
        "xaxis21": {
         "anchor": "y21",
         "domain": [
          0,
          0.16799999999999998
         ]
        },
        "xaxis22": {
         "anchor": "y22",
         "domain": [
          0.208,
          0.376
         ]
        },
        "xaxis23": {
         "anchor": "y23",
         "domain": [
          0.416,
          0.584
         ]
        },
        "xaxis24": {
         "anchor": "y24",
         "domain": [
          0.624,
          0.792
         ]
        },
        "xaxis25": {
         "anchor": "y25",
         "domain": [
          0.832,
          1
         ]
        },
        "xaxis26": {
         "anchor": "y26",
         "domain": [
          0,
          0.16799999999999998
         ]
        },
        "xaxis27": {
         "anchor": "y27",
         "domain": [
          0.208,
          0.376
         ]
        },
        "xaxis28": {
         "anchor": "y28",
         "domain": [
          0.416,
          0.584
         ]
        },
        "xaxis29": {
         "anchor": "y29",
         "domain": [
          0.624,
          0.792
         ]
        },
        "xaxis3": {
         "anchor": "y3",
         "domain": [
          0.416,
          0.584
         ]
        },
        "xaxis30": {
         "anchor": "y30",
         "domain": [
          0.832,
          1
         ]
        },
        "xaxis31": {
         "anchor": "y31",
         "domain": [
          0,
          0.16799999999999998
         ]
        },
        "xaxis32": {
         "anchor": "y32",
         "domain": [
          0.208,
          0.376
         ]
        },
        "xaxis33": {
         "anchor": "y33",
         "domain": [
          0.416,
          0.584
         ]
        },
        "xaxis34": {
         "anchor": "y34",
         "domain": [
          0.624,
          0.792
         ]
        },
        "xaxis35": {
         "anchor": "y35",
         "domain": [
          0.832,
          1
         ]
        },
        "xaxis36": {
         "anchor": "y36",
         "domain": [
          0,
          0.16799999999999998
         ]
        },
        "xaxis37": {
         "anchor": "y37",
         "domain": [
          0.208,
          0.376
         ]
        },
        "xaxis38": {
         "anchor": "y38",
         "domain": [
          0.416,
          0.584
         ]
        },
        "xaxis39": {
         "anchor": "y39",
         "domain": [
          0.624,
          0.792
         ]
        },
        "xaxis4": {
         "anchor": "y4",
         "domain": [
          0.624,
          0.792
         ]
        },
        "xaxis40": {
         "anchor": "y40",
         "domain": [
          0.832,
          1
         ]
        },
        "xaxis41": {
         "anchor": "y41",
         "domain": [
          0,
          0.16799999999999998
         ]
        },
        "xaxis42": {
         "anchor": "y42",
         "domain": [
          0.208,
          0.376
         ]
        },
        "xaxis43": {
         "anchor": "y43",
         "domain": [
          0.416,
          0.584
         ]
        },
        "xaxis44": {
         "anchor": "y44",
         "domain": [
          0.624,
          0.792
         ]
        },
        "xaxis45": {
         "anchor": "y45",
         "domain": [
          0.832,
          1
         ]
        },
        "xaxis5": {
         "anchor": "y5",
         "domain": [
          0.832,
          1
         ]
        },
        "xaxis6": {
         "anchor": "y6",
         "domain": [
          0,
          0.16799999999999998
         ]
        },
        "xaxis7": {
         "anchor": "y7",
         "domain": [
          0.208,
          0.376
         ]
        },
        "xaxis8": {
         "anchor": "y8",
         "domain": [
          0.416,
          0.584
         ]
        },
        "xaxis9": {
         "anchor": "y9",
         "domain": [
          0.624,
          0.792
         ]
        },
        "yaxis": {
         "anchor": "x",
         "domain": [
          0.9382716049382716,
          1
         ]
        },
        "yaxis10": {
         "anchor": "x10",
         "domain": [
          0.8209876543209876,
          0.8827160493827161
         ]
        },
        "yaxis11": {
         "anchor": "x11",
         "domain": [
          0.7037037037037037,
          0.7654320987654322
         ]
        },
        "yaxis12": {
         "anchor": "x12",
         "domain": [
          0.7037037037037037,
          0.7654320987654322
         ]
        },
        "yaxis13": {
         "anchor": "x13",
         "domain": [
          0.7037037037037037,
          0.7654320987654322
         ]
        },
        "yaxis14": {
         "anchor": "x14",
         "domain": [
          0.7037037037037037,
          0.7654320987654322
         ]
        },
        "yaxis15": {
         "anchor": "x15",
         "domain": [
          0.7037037037037037,
          0.7654320987654322
         ]
        },
        "yaxis16": {
         "anchor": "x16",
         "domain": [
          0.5864197530864198,
          0.6481481481481483
         ]
        },
        "yaxis17": {
         "anchor": "x17",
         "domain": [
          0.5864197530864198,
          0.6481481481481483
         ]
        },
        "yaxis18": {
         "anchor": "x18",
         "domain": [
          0.5864197530864198,
          0.6481481481481483
         ]
        },
        "yaxis19": {
         "anchor": "x19",
         "domain": [
          0.5864197530864198,
          0.6481481481481483
         ]
        },
        "yaxis2": {
         "anchor": "x2",
         "domain": [
          0.9382716049382716,
          1
         ]
        },
        "yaxis20": {
         "anchor": "x20",
         "domain": [
          0.5864197530864198,
          0.6481481481481483
         ]
        },
        "yaxis21": {
         "anchor": "x21",
         "domain": [
          0.4691358024691358,
          0.5308641975308642
         ]
        },
        "yaxis22": {
         "anchor": "x22",
         "domain": [
          0.4691358024691358,
          0.5308641975308642
         ]
        },
        "yaxis23": {
         "anchor": "x23",
         "domain": [
          0.4691358024691358,
          0.5308641975308642
         ]
        },
        "yaxis24": {
         "anchor": "x24",
         "domain": [
          0.4691358024691358,
          0.5308641975308642
         ]
        },
        "yaxis25": {
         "anchor": "x25",
         "domain": [
          0.4691358024691358,
          0.5308641975308642
         ]
        },
        "yaxis26": {
         "anchor": "x26",
         "domain": [
          0.35185185185185186,
          0.41358024691358025
         ]
        },
        "yaxis27": {
         "anchor": "x27",
         "domain": [
          0.35185185185185186,
          0.41358024691358025
         ]
        },
        "yaxis28": {
         "anchor": "x28",
         "domain": [
          0.35185185185185186,
          0.41358024691358025
         ]
        },
        "yaxis29": {
         "anchor": "x29",
         "domain": [
          0.35185185185185186,
          0.41358024691358025
         ]
        },
        "yaxis3": {
         "anchor": "x3",
         "domain": [
          0.9382716049382716,
          1
         ]
        },
        "yaxis30": {
         "anchor": "x30",
         "domain": [
          0.35185185185185186,
          0.41358024691358025
         ]
        },
        "yaxis31": {
         "anchor": "x31",
         "domain": [
          0.2345679012345679,
          0.2962962962962963
         ]
        },
        "yaxis32": {
         "anchor": "x32",
         "domain": [
          0.2345679012345679,
          0.2962962962962963
         ]
        },
        "yaxis33": {
         "anchor": "x33",
         "domain": [
          0.2345679012345679,
          0.2962962962962963
         ]
        },
        "yaxis34": {
         "anchor": "x34",
         "domain": [
          0.2345679012345679,
          0.2962962962962963
         ]
        },
        "yaxis35": {
         "anchor": "x35",
         "domain": [
          0.2345679012345679,
          0.2962962962962963
         ]
        },
        "yaxis36": {
         "anchor": "x36",
         "domain": [
          0.11728395061728394,
          0.17901234567901234
         ]
        },
        "yaxis37": {
         "anchor": "x37",
         "domain": [
          0.11728395061728394,
          0.17901234567901234
         ]
        },
        "yaxis38": {
         "anchor": "x38",
         "domain": [
          0.11728395061728394,
          0.17901234567901234
         ]
        },
        "yaxis39": {
         "anchor": "x39",
         "domain": [
          0.11728395061728394,
          0.17901234567901234
         ]
        },
        "yaxis4": {
         "anchor": "x4",
         "domain": [
          0.9382716049382716,
          1
         ]
        },
        "yaxis40": {
         "anchor": "x40",
         "domain": [
          0.11728395061728394,
          0.17901234567901234
         ]
        },
        "yaxis41": {
         "anchor": "x41",
         "domain": [
          0,
          0.0617283950617284
         ]
        },
        "yaxis42": {
         "anchor": "x42",
         "domain": [
          0,
          0.0617283950617284
         ]
        },
        "yaxis43": {
         "anchor": "x43",
         "domain": [
          0,
          0.0617283950617284
         ]
        },
        "yaxis44": {
         "anchor": "x44",
         "domain": [
          0,
          0.0617283950617284
         ]
        },
        "yaxis45": {
         "anchor": "x45",
         "domain": [
          0,
          0.0617283950617284
         ]
        },
        "yaxis5": {
         "anchor": "x5",
         "domain": [
          0.9382716049382716,
          1
         ]
        },
        "yaxis6": {
         "anchor": "x6",
         "domain": [
          0.8209876543209876,
          0.8827160493827161
         ]
        },
        "yaxis7": {
         "anchor": "x7",
         "domain": [
          0.8209876543209876,
          0.8827160493827161
         ]
        },
        "yaxis8": {
         "anchor": "x8",
         "domain": [
          0.8209876543209876,
          0.8827160493827161
         ]
        },
        "yaxis9": {
         "anchor": "x9",
         "domain": [
          0.8209876543209876,
          0.8827160493827161
         ]
        }
       }
      },
      "text/html": [
       "<div>\n",
       "        \n",
       "        \n",
       "            <div id=\"f93df455-e16c-4ec2-b2a1-27e86d290d61\" class=\"plotly-graph-div\" style=\"height:2000px; width:2000px;\"></div>\n",
       "            <script type=\"text/javascript\">\n",
       "                require([\"plotly\"], function(Plotly) {\n",
       "                    window.PLOTLYENV=window.PLOTLYENV || {};\n",
       "                    window.PLOTLYENV.BASE_URL='https://plot.ly';\n",
       "                    \n",
       "                if (document.getElementById(\"f93df455-e16c-4ec2-b2a1-27e86d290d61\")) {\n",
       "                    Plotly.newPlot(\n",
       "                        'f93df455-e16c-4ec2-b2a1-27e86d290d61',\n",
       "                        [{\"name\": \"per:title\", \"type\": \"scatter\", \"uid\": \"79b69b9b-daa0-40b9-ade3-0ee7c3ff31cb\", \"x\": [2, 3, 4, 5, 6, 7, 8, 9, 10, 11, 12], \"xaxis\": \"x\", \"y\": [0.006493421311539924, 0.03751754535556401, 0.06580000262360457, 0.1023205782424473, 0.11255263606669204, 0.11255263606669202, 0.11255263606669202, 0.11255263606669202, 0.11255263606669202, 0.11255263606669202, 0.11255263606669202], \"yaxis\": \"y\"}, {\"name\": \"org:top_members/employees\", \"type\": \"scatter\", \"uid\": \"c211e0bd-c5b9-46d3-b8a6-3c7b3fb401f8\", \"x\": [1, 2, 3, 4, 5, 6, 7, 8, 9], \"xaxis\": \"x2\", \"y\": [0.06686169127151508, 0.03085924212531465, 0.06686169127151508, 0.053489353017212055, 0.05695625552758691, 0.14327505272467514, 0.18052656643309067, 0.2005850738145452, 0.2005850738145452], \"yaxis\": \"y2\"}, {\"name\": \"org:country_of_headquarters\", \"type\": \"scatter\", \"uid\": \"02af0a99-fd11-4895-a719-51176fefe1cf\", \"x\": [1, 2, 3, 4, 5, 6, 7, 8, 9, 10], \"xaxis\": \"x3\", \"y\": [0.1186161449752883, 0.039538714991762765, 0.039538714991762765, 0.10378912685337727, 0.10543657331136738, 0.1186161449752883, 0.1186161449752883, 0.1186161449752883, 0.1186161449752883, 0.1186161449752883], \"yaxis\": \"y3\"}, {\"name\": \"per:parents\", \"type\": \"scatter\", \"uid\": \"00e428f0-8a1b-4554-9544-696079ea212c\", \"x\": [1, 2, 3, 4, 5, 6, 7], \"xaxis\": \"x4\", \"y\": [0.166551724137931, 0.1189655172413793, 0.0832758620689655, 0.1593103448275862, 0.13879310344827586, 0.166551724137931, 0.166551724137931], \"yaxis\": \"y4\"}, {\"name\": \"per:countries_of_residence\", \"type\": \"scatter\", \"uid\": \"bfbdac36-e412-4b6e-b81a-43ff1f1fd755\", \"x\": [1, 2, 3, 4, 5, 6, 7, 8, 9], \"xaxis\": \"x5\", \"y\": [0.06570365718150635, 0.059133291463355706, 0.09444900719841537, 0.123677472341659, 0.1314073143630127, 0.1314073143630127, 0.1314073143630127, 0.1314073143630127, 0.1314073143630127], \"yaxis\": \"y5\"}, {\"name\": \"per:charges\", \"type\": \"scatter\", \"uid\": \"9f3e5fc1-1fda-4b0a-b506-e5fcb7524403\", \"x\": [1, 2, 3, 4, 5, 6, 7, 8, 9, 12], \"xaxis\": \"x6\", \"y\": [0.102803738317757, 0.10280373831775699, 0.0794392523364486, 0.09813084112149531, 0.102803738317757, 0.102803738317757, 0.102803738317757, 0.102803738317757, 0.102803738317757, 0.102803738317757], \"yaxis\": \"y6\"}, {\"name\": \"per:cities_of_residence\", \"type\": \"scatter\", \"uid\": \"4181e320-2d61-405d-8bb2-1f9d4f537364\", \"x\": [2, 3, 4, 5, 6, 7, 8, 10, 11], \"xaxis\": \"x7\", \"y\": [0.12060394889663183, 0.07400696864111499, 0.08176538908246225, 0.12060394889663183, 0.12060394889663183, 0.12060394889663183, 0.12060394889663183, 0.12060394889663183, 0.12060394889663183], \"yaxis\": \"y7\"}, {\"name\": \"per:origin\", \"type\": \"scatter\", \"uid\": \"38caf28d-4751-475a-823b-744797fe02fb\", \"x\": [2, 3, 4, 5, 6, 7, 9, 14], \"xaxis\": \"x8\", \"y\": [0.029201430274135878, 0.11799761620977353, 0.10190703218116805, 0.1501787842669845, 0.1501787842669845, 0.1501787842669845, 0.1501787842669845, 0.1501787842669845], \"yaxis\": \"y8\"}, {\"name\": \"per:siblings\", \"type\": \"scatter\", \"uid\": \"caf70c0f-4e77-42e0-973f-863f7a0fc716\", \"x\": [1, 2, 3, 4, 5, 6, 7], \"xaxis\": \"x9\", \"y\": [0.15825688073394495, 0.1055045871559633, 0.10321100917431192, 0.15825688073394495, 0.15825688073394495, 0.15825688073394495, 0.15825688073394495], \"yaxis\": \"y9\"}, {\"name\": \"per:alternate_names\", \"type\": \"scatter\", \"uid\": \"e54d33e1-cea4-4483-9bb6-a50b7e8a1970\", \"x\": [1, 3, 4, 5, 6, 7, 8], \"xaxis\": \"x10\", \"y\": [0.14285714285714285, 0.14285714285714285, 0.14285714285714285, 0.14285714285714285, 0.14285714285714285, 0.14285714285714285, 0.14285714285714285], \"yaxis\": \"y10\"}, {\"name\": \"per:age\", \"type\": \"scatter\", \"uid\": \"fbaa66da-d04b-4fa2-94d6-4432b29e98e3\", \"x\": [2, 3, 4, 5, 7], \"xaxis\": \"x11\", \"y\": [0.030829704420208874, 0.08956029134070677, 0.23989363751975026, 0.31985818335966704, 0.31985818335966704], \"yaxis\": \"y11\"}, {\"name\": \"per:employee_of\", \"type\": \"scatter\", \"uid\": \"ff9c5b53-8e4d-43cc-aa64-ef76220b98a0\", \"x\": [1, 2, 3, 4, 5, 6, 7, 8, 9], \"xaxis\": \"x12\", \"y\": [0.07251353068356638, 0.06215445487162832, 0.09767128622684451, 0.08796723394399855, 0.11892219032104887, 0.12569011985151504, 0.14502706136713275, 0.14502706136713275, 0.14502706136713275], \"yaxis\": \"y12\"}, {\"name\": \"org:website\", \"type\": \"scatter\", \"uid\": \"979b63c8-1959-4b81-b7f6-efac42faa024\", \"x\": [1, 2, 3, 4, 5, 7], \"xaxis\": \"x13\", \"y\": [0.2057142857142857, 0.022857142857142857, 0.15428571428571428, 0.2057142857142857, 0.2057142857142857, 0.2057142857142857], \"yaxis\": \"y13\"}, {\"name\": \"per:children\", \"type\": \"scatter\", \"uid\": \"819525f6-4394-420a-be37-7b2da3071745\", \"x\": [2, 3, 4, 5, 6, 8], \"xaxis\": \"x14\", \"y\": [0.031746031746031744, 0.07936507936507936, 0.2222222222222222, 0.2222222222222222, 0.2222222222222222, 0.2222222222222222], \"yaxis\": \"y14\"}, {\"name\": \"per:religion\", \"type\": \"scatter\", \"uid\": \"ae4fd4ef-b5af-467e-be45-e7e2b5ca0ab8\", \"x\": [1, 2, 3, 4, 5, 6, 10], \"xaxis\": \"x15\", \"y\": [0.14754098360655737, 0.1475409836065574, 0.11475409836065575, 0.1475409836065574, 0.14754098360655737, 0.14754098360655737, 0.14754098360655737], \"yaxis\": \"y15\"}, {\"name\": \"per:stateorprovince_of_death\", \"type\": \"scatter\", \"uid\": \"9a52b9f2-4589-435a-949c-a4866bb110bd\", \"x\": [4, 5, 6, 7, 8, 9], \"xaxis\": \"x16\", \"y\": [0.0625, 0.1875, 0.1875, 0.1875, 0.1875, 0.1875], \"yaxis\": \"y16\"}, {\"name\": \"org:parents\", \"type\": \"scatter\", \"uid\": \"83d1eeff-5432-47a4-a2ee-7f28018b20d0\", \"x\": [1, 2, 3, 4, 5, 6, 7, 8], \"xaxis\": \"x17\", \"y\": [0.03651037663335895, 0.10953112990007685, 0.13143735588009223, 0.13835511145272866, 0.1460415065334358, 0.1460415065334358, 0.1460415065334358, 0.1460415065334358], \"yaxis\": \"y17\"}, {\"name\": \"org:subsidiaries\", \"type\": \"scatter\", \"uid\": \"7ff98396-370e-4fed-b1de-2112af91b825\", \"x\": [2, 3, 4, 5, 6, 7, 9], \"xaxis\": \"x18\", \"y\": [0.06567630961688818, 0.13682564503518374, 0.16419077404222046, 0.1407349491790461, 0.16419077404222046, 0.16419077404222046, 0.16419077404222046], \"yaxis\": \"y18\"}, {\"name\": \"per:stateorprovinces_of_residence\", \"type\": \"scatter\", \"uid\": \"ba48a09c-fee7-46a6-89da-17acd7f9d1a4\", \"x\": [2, 3, 4, 5, 6, 7, 8, 9], \"xaxis\": \"x19\", \"y\": [0.13395020929720203, 0.09165014320334876, 0.12139237717558933, 0.13395020929720203, 0.11720643313505177, 0.13395020929720203, 0.13395020929720203, 0.13395020929720203], \"yaxis\": \"y19\"}, {\"name\": \"org:members\", \"type\": \"scatter\", \"uid\": \"55f52407-4599-4bf3-82ea-2b17f853d775\", \"x\": [1, 2, 3, 4, 5, 6, 7, 8, 9], \"xaxis\": \"x20\", \"y\": [0.11538461538461538, 0.07692307692307693, 0.11538461538461538, 0.11538461538461538, 0.11538461538461538, 0.11538461538461538, 0.11538461538461538, 0.11538461538461538, 0.11538461538461538], \"yaxis\": \"y20\"}, {\"name\": \"per:cause_of_death\", \"type\": \"scatter\", \"uid\": \"c2ed8937-615b-418e-a28f-2711e9a4d10c\", \"x\": [1, 2, 3, 4, 5, 6, 7, 8, 11, 13], \"xaxis\": \"x21\", \"y\": [0.07894736842105263, 0.10526315789473684, 0.10526315789473684, 0.07894736842105263, 0.10526315789473684, 0.10526315789473684, 0.10526315789473684, 0.10526315789473684, 0.10526315789473684, 0.10526315789473684], \"yaxis\": \"y21\"}, {\"name\": \"org:member_of\", \"type\": \"scatter\", \"uid\": \"1eb9da25-1da4-490c-95d8-daeafcae4043\", \"x\": [1, 2, 3, 4, 5, 6, 7], \"xaxis\": \"x22\", \"y\": [0.14705882352941177, 0.14705882352941177, 0.14705882352941177, 0.1176470588235294, 0.14705882352941177, 0.14705882352941177, 0.14705882352941177], \"yaxis\": \"y22\"}, {\"name\": \"org:number_of_employees/members\", \"type\": \"scatter\", \"uid\": \"739bacc8-5b09-4cf3-8c41-d4440d29ccaa\", \"x\": [1, 2, 4, 5, 6, 7, 8, 11], \"xaxis\": \"x23\", \"y\": [0.037037037037037035, 0.07407407407407407, 0.14814814814814814, 0.14814814814814814, 0.14814814814814814, 0.14814814814814814, 0.14814814814814814, 0.14814814814814814], \"yaxis\": \"y23\"}, {\"name\": \"per:country_of_birth\", \"type\": \"scatter\", \"uid\": \"b979e0f8-1741-4fbe-8465-5037691586e9\", \"x\": [2, 3, 5], \"xaxis\": \"x24\", \"y\": [0.3333333333333333, 0.3333333333333333, 0.3333333333333333], \"yaxis\": \"y24\"}, {\"name\": \"org:shareholders\", \"type\": \"scatter\", \"uid\": \"e77dafe3-6c3f-4f32-9e99-52efd52ec333\", \"x\": [2, 3, 4, 5, 6, 7, 8], \"xaxis\": \"x25\", \"y\": [0.14285714285714285, 0.14285714285714285, 0.14285714285714285, 0.14285714285714285, 0.14285714285714285, 0.14285714285714285, 0.14285714285714285], \"yaxis\": \"y25\"}, {\"name\": \"org:founded_by\", \"type\": \"scatter\", \"uid\": \"977c98c3-568c-4805-bfd4-a8ef5c849b29\", \"x\": [2, 3, 4, 5, 6, 7], \"xaxis\": \"x26\", \"y\": [0.16007886583419395, 0.15716834100084498, 0.12393202516195663, 0.17463149000093886, 0.19209463900103277, 0.19209463900103277], \"yaxis\": \"y26\"}, {\"name\": \"per:other_family\", \"type\": \"scatter\", \"uid\": \"07d84e44-49e0-4cc6-81fe-295b8c7af051\", \"x\": [1, 2, 3, 4, 5, 6, 7, 9, 10], \"xaxis\": \"x27\", \"y\": [0.12389380530973451, 0.061946902654867256, 0.07079646017699115, 0.12389380530973451, 0.12389380530973451, 0.12389380530973451, 0.12389380530973451, 0.12389380530973451, 0.12389380530973451], \"yaxis\": \"y27\"}, {\"name\": \"org:stateorprovince_of_headquarters\", \"type\": \"scatter\", \"uid\": \"827462bc-e9df-48eb-a82d-7db16e6fe7a4\", \"x\": [1, 2, 3, 4, 5, 6, 9], \"xaxis\": \"x28\", \"y\": [0.16772261260223476, 0.07188111968667203, 0.1153092961640364, 0.14191913374035248, 0.16772261260223476, 0.16772261260223476, 0.16772261260223476], \"yaxis\": \"y28\"}, {\"name\": \"per:city_of_death\", \"type\": \"scatter\", \"uid\": \"13cc40d2-9e1f-42b1-a66e-7c74257e25b5\", \"x\": [4, 5, 6, 7, 11], \"xaxis\": \"x29\", \"y\": [0.17647058823529413, 0.20588235294117646, 0.20588235294117646, 0.20588235294117646, 0.20588235294117646], \"yaxis\": \"y29\"}, {\"name\": \"org:alternate_names\", \"type\": \"scatter\", \"uid\": \"6d7202e3-a1e0-4220-aa87-54796f861fbf\", \"x\": [2, 3, 4, 5, 6, 7, 8, 9], \"xaxis\": \"x30\", \"y\": [0.04397491267277029, 0.005767201662002662, 0.11873226421647978, 0.1279270186844227, 0.17589965069108116, 0.17589965069108118, 0.17589965069108118, 0.17589965069108118], \"yaxis\": \"y30\"}, {\"name\": \"per:spouse\", \"type\": \"scatter\", \"uid\": \"3ebc358e-8318-49d7-bab7-921a2c93f2e6\", \"x\": [2, 3, 4, 5, 6, 7, 8], \"xaxis\": \"x31\", \"y\": [0.014650138305501487, 0.11986476795410307, 0.16227845507632416, 0.17580165966601782, 0.17580165966601782, 0.17580165966601782, 0.17580165966601782], \"yaxis\": \"y31\"}, {\"name\": \"per:date_of_death\", \"type\": \"scatter\", \"uid\": \"2469b10d-ff14-4572-84eb-5f82eea1f956\", \"x\": [1, 2, 3, 4, 5, 6, 7], \"xaxis\": \"x32\", \"y\": [0.12858192505510654, 0.14401175606171931, 0.11021307861866275, 0.15429831006612785, 0.15429831006612785, 0.15429831006612785, 0.15429831006612785], \"yaxis\": \"y32\"}, {\"name\": \"org:city_of_headquarters\", \"type\": \"scatter\", \"uid\": \"c46cf783-f9df-4fee-a2eb-643af9105526\", \"x\": [2, 3, 4, 5, 6, 7], \"xaxis\": \"x33\", \"y\": [0.0974205075719465, 0.07103578677121099, 0.1748573212829809, 0.20205734903811126, 0.22731451766787517, 0.22731451766787517], \"yaxis\": \"y33\"}, {\"name\": \"per:schools_attended\", \"type\": \"scatter\", \"uid\": \"2ed78cb8-a1ae-46ef-8430-cfd9ac1d0a22\", \"x\": [1, 2, 3, 4, 5, 6], \"xaxis\": \"x34\", \"y\": [0.10601941747572814, 0.18174757281553397, 0.14679611650485436, 0.14135922330097087, 0.21203883495145628, 0.21203883495145628], \"yaxis\": \"y34\"}, {\"name\": \"org:political/religious_affiliation\", \"type\": \"scatter\", \"uid\": \"2aae6390-64dc-4da0-abb9-f236b86adbf5\", \"x\": [2, 3, 4, 5], \"xaxis\": \"x35\", \"y\": [0.3333333333333333, 0.16666666666666666, 0.16666666666666666, 0.3333333333333333], \"yaxis\": \"y35\"}, {\"name\": \"per:date_of_birth\", \"type\": \"scatter\", \"uid\": \"2ccb28d8-1101-4db1-b944-f47a328265ef\", \"x\": [2, 4, 5], \"xaxis\": \"x36\", \"y\": [0.14285714285714285, 0.42857142857142855, 0.42857142857142855], \"yaxis\": \"y36\"}, {\"name\": \"per:country_of_death\", \"type\": \"scatter\", \"uid\": \"df1d0b8e-c8d6-42b0-98a0-3f2a9905aa42\", \"x\": [1, 3, 4, 6, 7], \"xaxis\": \"x37\", \"y\": [0.2, 0.2, 0.2, 0.2, 0.2], \"yaxis\": \"y37\"}, {\"name\": \"org:founded\", \"type\": \"scatter\", \"uid\": \"73feea42-e702-4bb9-9bc2-74256235833a\", \"x\": [2, 3, 4, 5, 6, 7], \"xaxis\": \"x38\", \"y\": [0.16717697489283526, 0.09552969993876301, 0.06858542559706061, 0.222902633190447, 0.222902633190447, 0.222902633190447], \"yaxis\": \"y38\"}, {\"name\": \"per:stateorprovince_of_birth\", \"type\": \"scatter\", \"uid\": \"f3ce6d96-0851-4eeb-8471-a5ae1a421c5e\", \"x\": [3, 5, 7], \"xaxis\": \"x39\", \"y\": [0.1111111111111111, 0.4444444444444444, 0.4444444444444444], \"yaxis\": \"y39\"}, {\"name\": \"per:city_of_birth\", \"type\": \"scatter\", \"uid\": \"8cf980bd-d9e3-479b-983b-b881cc618564\", \"x\": [3, 4, 5], \"xaxis\": \"x40\", \"y\": [0.2, 0.4, 0.4], \"yaxis\": \"y40\"}, {\"name\": \"org:dissolved\", \"type\": \"scatter\", \"uid\": \"de0cd422-2015-4328-8510-930e0f650bbb\", \"x\": [2, 4], \"xaxis\": \"x41\", \"y\": [0.5, 0.5], \"yaxis\": \"y41\"}, {\"name\": \"overall\", \"type\": \"scatter\", \"uid\": \"a213522b-01b6-446a-936c-61d2c95e0264\", \"x\": [1, 2, 3, 4, 5, 6, 7, 8, 9, 10, 11, 12, 13, 14], \"xaxis\": \"x42\", \"y\": [0.05337854905044906, 0.0258046616127933, 0.039176275137872515, 0.057075545331931765, 0.07028146039259657, 0.0799947245279782, 0.08368096703334543, 0.08437254527329045, 0.08437254527329045, 0.08437254527329044, 0.08437254527329045, 0.08437254527329044, 0.08437254527329044, 0.08437254527329044], \"yaxis\": \"y42\"}],\n",
       "                        {\"annotations\": [{\"font\": {\"family\": \"Arial\", \"size\": 10}, \"showarrow\": false, \"text\": \"per:title\", \"x\": 0.08399999999999999, \"xanchor\": \"center\", \"xref\": \"paper\", \"y\": 1.0, \"yanchor\": \"bottom\", \"yref\": \"paper\"}, {\"font\": {\"family\": \"Arial\", \"size\": 10}, \"showarrow\": false, \"text\": \"org:top_members/employees\", \"x\": 0.292, \"xanchor\": \"center\", \"xref\": \"paper\", \"y\": 1.0, \"yanchor\": \"bottom\", \"yref\": \"paper\"}, {\"font\": {\"family\": \"Arial\", \"size\": 10}, \"showarrow\": false, \"text\": \"org:country_of_headquarters\", \"x\": 0.5, \"xanchor\": \"center\", \"xref\": \"paper\", \"y\": 1.0, \"yanchor\": \"bottom\", \"yref\": \"paper\"}, {\"font\": {\"family\": \"Arial\", \"size\": 10}, \"showarrow\": false, \"text\": \"per:parents\", \"x\": 0.708, \"xanchor\": \"center\", \"xref\": \"paper\", \"y\": 1.0, \"yanchor\": \"bottom\", \"yref\": \"paper\"}, {\"font\": {\"family\": \"Arial\", \"size\": 10}, \"showarrow\": false, \"text\": \"per:countries_of_residence\", \"x\": 0.9159999999999999, \"xanchor\": \"center\", \"xref\": \"paper\", \"y\": 1.0, \"yanchor\": \"bottom\", \"yref\": \"paper\"}, {\"font\": {\"family\": \"Arial\", \"size\": 10}, \"showarrow\": false, \"text\": \"per:charges\", \"x\": 0.08399999999999999, \"xanchor\": \"center\", \"xref\": \"paper\", \"y\": 0.8827160493827161, \"yanchor\": \"bottom\", \"yref\": \"paper\"}, {\"font\": {\"family\": \"Arial\", \"size\": 10}, \"showarrow\": false, \"text\": \"per:cities_of_residence\", \"x\": 0.292, \"xanchor\": \"center\", \"xref\": \"paper\", \"y\": 0.8827160493827161, \"yanchor\": \"bottom\", \"yref\": \"paper\"}, {\"font\": {\"family\": \"Arial\", \"size\": 10}, \"showarrow\": false, \"text\": \"per:origin\", \"x\": 0.5, \"xanchor\": \"center\", \"xref\": \"paper\", \"y\": 0.8827160493827161, \"yanchor\": \"bottom\", \"yref\": \"paper\"}, {\"font\": {\"family\": \"Arial\", \"size\": 10}, \"showarrow\": false, \"text\": \"per:siblings\", \"x\": 0.708, \"xanchor\": \"center\", \"xref\": \"paper\", \"y\": 0.8827160493827161, \"yanchor\": \"bottom\", \"yref\": \"paper\"}, {\"font\": {\"family\": \"Arial\", \"size\": 10}, \"showarrow\": false, \"text\": \"per:alternate_names\", \"x\": 0.9159999999999999, \"xanchor\": \"center\", \"xref\": \"paper\", \"y\": 0.8827160493827161, \"yanchor\": \"bottom\", \"yref\": \"paper\"}, {\"font\": {\"family\": \"Arial\", \"size\": 10}, \"showarrow\": false, \"text\": \"per:age\", \"x\": 0.08399999999999999, \"xanchor\": \"center\", \"xref\": \"paper\", \"y\": 0.7654320987654322, \"yanchor\": \"bottom\", \"yref\": \"paper\"}, {\"font\": {\"family\": \"Arial\", \"size\": 10}, \"showarrow\": false, \"text\": \"per:employee_of\", \"x\": 0.292, \"xanchor\": \"center\", \"xref\": \"paper\", \"y\": 0.7654320987654322, \"yanchor\": \"bottom\", \"yref\": \"paper\"}, {\"font\": {\"family\": \"Arial\", \"size\": 10}, \"showarrow\": false, \"text\": \"org:website\", \"x\": 0.5, \"xanchor\": \"center\", \"xref\": \"paper\", \"y\": 0.7654320987654322, \"yanchor\": \"bottom\", \"yref\": \"paper\"}, {\"font\": {\"family\": \"Arial\", \"size\": 10}, \"showarrow\": false, \"text\": \"per:children\", \"x\": 0.708, \"xanchor\": \"center\", \"xref\": \"paper\", \"y\": 0.7654320987654322, \"yanchor\": \"bottom\", \"yref\": \"paper\"}, {\"font\": {\"family\": \"Arial\", \"size\": 10}, \"showarrow\": false, \"text\": \"per:religion\", \"x\": 0.9159999999999999, \"xanchor\": \"center\", \"xref\": \"paper\", \"y\": 0.7654320987654322, \"yanchor\": \"bottom\", \"yref\": \"paper\"}, {\"font\": {\"family\": \"Arial\", \"size\": 10}, \"showarrow\": false, \"text\": \"per:stateorprovince_of_death\", \"x\": 0.08399999999999999, \"xanchor\": \"center\", \"xref\": \"paper\", \"y\": 0.6481481481481483, \"yanchor\": \"bottom\", \"yref\": \"paper\"}, {\"font\": {\"family\": \"Arial\", \"size\": 10}, \"showarrow\": false, \"text\": \"org:parents\", \"x\": 0.292, \"xanchor\": \"center\", \"xref\": \"paper\", \"y\": 0.6481481481481483, \"yanchor\": \"bottom\", \"yref\": \"paper\"}, {\"font\": {\"family\": \"Arial\", \"size\": 10}, \"showarrow\": false, \"text\": \"org:subsidiaries\", \"x\": 0.5, \"xanchor\": \"center\", \"xref\": \"paper\", \"y\": 0.6481481481481483, \"yanchor\": \"bottom\", \"yref\": \"paper\"}, {\"font\": {\"family\": \"Arial\", \"size\": 10}, \"showarrow\": false, \"text\": \"per:stateorprovinces_of_residence\", \"x\": 0.708, \"xanchor\": \"center\", \"xref\": \"paper\", \"y\": 0.6481481481481483, \"yanchor\": \"bottom\", \"yref\": \"paper\"}, {\"font\": {\"family\": \"Arial\", \"size\": 10}, \"showarrow\": false, \"text\": \"org:members\", \"x\": 0.9159999999999999, \"xanchor\": \"center\", \"xref\": \"paper\", \"y\": 0.6481481481481483, \"yanchor\": \"bottom\", \"yref\": \"paper\"}, {\"font\": {\"family\": \"Arial\", \"size\": 10}, \"showarrow\": false, \"text\": \"per:cause_of_death\", \"x\": 0.08399999999999999, \"xanchor\": \"center\", \"xref\": \"paper\", \"y\": 0.5308641975308642, \"yanchor\": \"bottom\", \"yref\": \"paper\"}, {\"font\": {\"family\": \"Arial\", \"size\": 10}, \"showarrow\": false, \"text\": \"org:member_of\", \"x\": 0.292, \"xanchor\": \"center\", \"xref\": \"paper\", \"y\": 0.5308641975308642, \"yanchor\": \"bottom\", \"yref\": \"paper\"}, {\"font\": {\"family\": \"Arial\", \"size\": 10}, \"showarrow\": false, \"text\": \"org:number_of_employees/members\", \"x\": 0.5, \"xanchor\": \"center\", \"xref\": \"paper\", \"y\": 0.5308641975308642, \"yanchor\": \"bottom\", \"yref\": \"paper\"}, {\"font\": {\"family\": \"Arial\", \"size\": 10}, \"showarrow\": false, \"text\": \"per:country_of_birth\", \"x\": 0.708, \"xanchor\": \"center\", \"xref\": \"paper\", \"y\": 0.5308641975308642, \"yanchor\": \"bottom\", \"yref\": \"paper\"}, {\"font\": {\"family\": \"Arial\", \"size\": 10}, \"showarrow\": false, \"text\": \"org:shareholders\", \"x\": 0.9159999999999999, \"xanchor\": \"center\", \"xref\": \"paper\", \"y\": 0.5308641975308642, \"yanchor\": \"bottom\", \"yref\": \"paper\"}, {\"font\": {\"family\": \"Arial\", \"size\": 10}, \"showarrow\": false, \"text\": \"org:founded_by\", \"x\": 0.08399999999999999, \"xanchor\": \"center\", \"xref\": \"paper\", \"y\": 0.41358024691358025, \"yanchor\": \"bottom\", \"yref\": \"paper\"}, {\"font\": {\"family\": \"Arial\", \"size\": 10}, \"showarrow\": false, \"text\": \"per:other_family\", \"x\": 0.292, \"xanchor\": \"center\", \"xref\": \"paper\", \"y\": 0.41358024691358025, \"yanchor\": \"bottom\", \"yref\": \"paper\"}, {\"font\": {\"family\": \"Arial\", \"size\": 10}, \"showarrow\": false, \"text\": \"org:stateorprovince_of_headquarters\", \"x\": 0.5, \"xanchor\": \"center\", \"xref\": \"paper\", \"y\": 0.41358024691358025, \"yanchor\": \"bottom\", \"yref\": \"paper\"}, {\"font\": {\"family\": \"Arial\", \"size\": 10}, \"showarrow\": false, \"text\": \"per:city_of_death\", \"x\": 0.708, \"xanchor\": \"center\", \"xref\": \"paper\", \"y\": 0.41358024691358025, \"yanchor\": \"bottom\", \"yref\": \"paper\"}, {\"font\": {\"family\": \"Arial\", \"size\": 10}, \"showarrow\": false, \"text\": \"org:alternate_names\", \"x\": 0.9159999999999999, \"xanchor\": \"center\", \"xref\": \"paper\", \"y\": 0.41358024691358025, \"yanchor\": \"bottom\", \"yref\": \"paper\"}, {\"font\": {\"family\": \"Arial\", \"size\": 10}, \"showarrow\": false, \"text\": \"per:spouse\", \"x\": 0.08399999999999999, \"xanchor\": \"center\", \"xref\": \"paper\", \"y\": 0.2962962962962963, \"yanchor\": \"bottom\", \"yref\": \"paper\"}, {\"font\": {\"family\": \"Arial\", \"size\": 10}, \"showarrow\": false, \"text\": \"per:date_of_death\", \"x\": 0.292, \"xanchor\": \"center\", \"xref\": \"paper\", \"y\": 0.2962962962962963, \"yanchor\": \"bottom\", \"yref\": \"paper\"}, {\"font\": {\"family\": \"Arial\", \"size\": 10}, \"showarrow\": false, \"text\": \"org:city_of_headquarters\", \"x\": 0.5, \"xanchor\": \"center\", \"xref\": \"paper\", \"y\": 0.2962962962962963, \"yanchor\": \"bottom\", \"yref\": \"paper\"}, {\"font\": {\"family\": \"Arial\", \"size\": 10}, \"showarrow\": false, \"text\": \"per:schools_attended\", \"x\": 0.708, \"xanchor\": \"center\", \"xref\": \"paper\", \"y\": 0.2962962962962963, \"yanchor\": \"bottom\", \"yref\": \"paper\"}, {\"font\": {\"family\": \"Arial\", \"size\": 10}, \"showarrow\": false, \"text\": \"org:political/religious_affiliation\", \"x\": 0.9159999999999999, \"xanchor\": \"center\", \"xref\": \"paper\", \"y\": 0.2962962962962963, \"yanchor\": \"bottom\", \"yref\": \"paper\"}, {\"font\": {\"family\": \"Arial\", \"size\": 10}, \"showarrow\": false, \"text\": \"per:date_of_birth\", \"x\": 0.08399999999999999, \"xanchor\": \"center\", \"xref\": \"paper\", \"y\": 0.17901234567901234, \"yanchor\": \"bottom\", \"yref\": \"paper\"}, {\"font\": {\"family\": \"Arial\", \"size\": 10}, \"showarrow\": false, \"text\": \"per:country_of_death\", \"x\": 0.292, \"xanchor\": \"center\", \"xref\": \"paper\", \"y\": 0.17901234567901234, \"yanchor\": \"bottom\", \"yref\": \"paper\"}, {\"font\": {\"family\": \"Arial\", \"size\": 10}, \"showarrow\": false, \"text\": \"org:founded\", \"x\": 0.5, \"xanchor\": \"center\", \"xref\": \"paper\", \"y\": 0.17901234567901234, \"yanchor\": \"bottom\", \"yref\": \"paper\"}, {\"font\": {\"family\": \"Arial\", \"size\": 10}, \"showarrow\": false, \"text\": \"per:stateorprovince_of_birth\", \"x\": 0.708, \"xanchor\": \"center\", \"xref\": \"paper\", \"y\": 0.17901234567901234, \"yanchor\": \"bottom\", \"yref\": \"paper\"}, {\"font\": {\"family\": \"Arial\", \"size\": 10}, \"showarrow\": false, \"text\": \"per:city_of_birth\", \"x\": 0.9159999999999999, \"xanchor\": \"center\", \"xref\": \"paper\", \"y\": 0.17901234567901234, \"yanchor\": \"bottom\", \"yref\": \"paper\"}, {\"font\": {\"family\": \"Arial\", \"size\": 10}, \"showarrow\": false, \"text\": \"org:dissolved\", \"x\": 0.08399999999999999, \"xanchor\": \"center\", \"xref\": \"paper\", \"y\": 0.0617283950617284, \"yanchor\": \"bottom\", \"yref\": \"paper\"}, {\"font\": {\"family\": \"Arial\", \"size\": 10}, \"showarrow\": false, \"text\": \"overall\", \"x\": 0.292, \"xanchor\": \"center\", \"xref\": \"paper\", \"y\": 0.0617283950617284, \"yanchor\": \"bottom\", \"yref\": \"paper\"}], \"font\": {\"family\": \"Arial\", \"size\": 12}, \"height\": 2000, \"title\": {\"text\": \"UCCA: Path length to weighted number of false negatives\"}, \"width\": 2000, \"xaxis\": {\"anchor\": \"y\", \"domain\": [0.0, 0.16799999999999998]}, \"xaxis10\": {\"anchor\": \"y10\", \"domain\": [0.832, 1.0]}, \"xaxis11\": {\"anchor\": \"y11\", \"domain\": [0.0, 0.16799999999999998]}, \"xaxis12\": {\"anchor\": \"y12\", \"domain\": [0.208, 0.376]}, \"xaxis13\": {\"anchor\": \"y13\", \"domain\": [0.416, 0.584]}, \"xaxis14\": {\"anchor\": \"y14\", \"domain\": [0.624, 0.792]}, \"xaxis15\": {\"anchor\": \"y15\", \"domain\": [0.832, 1.0]}, \"xaxis16\": {\"anchor\": \"y16\", \"domain\": [0.0, 0.16799999999999998]}, \"xaxis17\": {\"anchor\": \"y17\", \"domain\": [0.208, 0.376]}, \"xaxis18\": {\"anchor\": \"y18\", \"domain\": [0.416, 0.584]}, \"xaxis19\": {\"anchor\": \"y19\", \"domain\": [0.624, 0.792]}, \"xaxis2\": {\"anchor\": \"y2\", \"domain\": [0.208, 0.376]}, \"xaxis20\": {\"anchor\": \"y20\", \"domain\": [0.832, 1.0]}, \"xaxis21\": {\"anchor\": \"y21\", \"domain\": [0.0, 0.16799999999999998]}, \"xaxis22\": {\"anchor\": \"y22\", \"domain\": [0.208, 0.376]}, \"xaxis23\": {\"anchor\": \"y23\", \"domain\": [0.416, 0.584]}, \"xaxis24\": {\"anchor\": \"y24\", \"domain\": [0.624, 0.792]}, \"xaxis25\": {\"anchor\": \"y25\", \"domain\": [0.832, 1.0]}, \"xaxis26\": {\"anchor\": \"y26\", \"domain\": [0.0, 0.16799999999999998]}, \"xaxis27\": {\"anchor\": \"y27\", \"domain\": [0.208, 0.376]}, \"xaxis28\": {\"anchor\": \"y28\", \"domain\": [0.416, 0.584]}, \"xaxis29\": {\"anchor\": \"y29\", \"domain\": [0.624, 0.792]}, \"xaxis3\": {\"anchor\": \"y3\", \"domain\": [0.416, 0.584]}, \"xaxis30\": {\"anchor\": \"y30\", \"domain\": [0.832, 1.0]}, \"xaxis31\": {\"anchor\": \"y31\", \"domain\": [0.0, 0.16799999999999998]}, \"xaxis32\": {\"anchor\": \"y32\", \"domain\": [0.208, 0.376]}, \"xaxis33\": {\"anchor\": \"y33\", \"domain\": [0.416, 0.584]}, \"xaxis34\": {\"anchor\": \"y34\", \"domain\": [0.624, 0.792]}, \"xaxis35\": {\"anchor\": \"y35\", \"domain\": [0.832, 1.0]}, \"xaxis36\": {\"anchor\": \"y36\", \"domain\": [0.0, 0.16799999999999998]}, \"xaxis37\": {\"anchor\": \"y37\", \"domain\": [0.208, 0.376]}, \"xaxis38\": {\"anchor\": \"y38\", \"domain\": [0.416, 0.584]}, \"xaxis39\": {\"anchor\": \"y39\", \"domain\": [0.624, 0.792]}, \"xaxis4\": {\"anchor\": \"y4\", \"domain\": [0.624, 0.792]}, \"xaxis40\": {\"anchor\": \"y40\", \"domain\": [0.832, 1.0]}, \"xaxis41\": {\"anchor\": \"y41\", \"domain\": [0.0, 0.16799999999999998]}, \"xaxis42\": {\"anchor\": \"y42\", \"domain\": [0.208, 0.376]}, \"xaxis43\": {\"anchor\": \"y43\", \"domain\": [0.416, 0.584]}, \"xaxis44\": {\"anchor\": \"y44\", \"domain\": [0.624, 0.792]}, \"xaxis45\": {\"anchor\": \"y45\", \"domain\": [0.832, 1.0]}, \"xaxis5\": {\"anchor\": \"y5\", \"domain\": [0.832, 1.0]}, \"xaxis6\": {\"anchor\": \"y6\", \"domain\": [0.0, 0.16799999999999998]}, \"xaxis7\": {\"anchor\": \"y7\", \"domain\": [0.208, 0.376]}, \"xaxis8\": {\"anchor\": \"y8\", \"domain\": [0.416, 0.584]}, \"xaxis9\": {\"anchor\": \"y9\", \"domain\": [0.624, 0.792]}, \"yaxis\": {\"anchor\": \"x\", \"domain\": [0.9382716049382716, 1.0]}, \"yaxis10\": {\"anchor\": \"x10\", \"domain\": [0.8209876543209876, 0.8827160493827161]}, \"yaxis11\": {\"anchor\": \"x11\", \"domain\": [0.7037037037037037, 0.7654320987654322]}, \"yaxis12\": {\"anchor\": \"x12\", \"domain\": [0.7037037037037037, 0.7654320987654322]}, \"yaxis13\": {\"anchor\": \"x13\", \"domain\": [0.7037037037037037, 0.7654320987654322]}, \"yaxis14\": {\"anchor\": \"x14\", \"domain\": [0.7037037037037037, 0.7654320987654322]}, \"yaxis15\": {\"anchor\": \"x15\", \"domain\": [0.7037037037037037, 0.7654320987654322]}, \"yaxis16\": {\"anchor\": \"x16\", \"domain\": [0.5864197530864198, 0.6481481481481483]}, \"yaxis17\": {\"anchor\": \"x17\", \"domain\": [0.5864197530864198, 0.6481481481481483]}, \"yaxis18\": {\"anchor\": \"x18\", \"domain\": [0.5864197530864198, 0.6481481481481483]}, \"yaxis19\": {\"anchor\": \"x19\", \"domain\": [0.5864197530864198, 0.6481481481481483]}, \"yaxis2\": {\"anchor\": \"x2\", \"domain\": [0.9382716049382716, 1.0]}, \"yaxis20\": {\"anchor\": \"x20\", \"domain\": [0.5864197530864198, 0.6481481481481483]}, \"yaxis21\": {\"anchor\": \"x21\", \"domain\": [0.4691358024691358, 0.5308641975308642]}, \"yaxis22\": {\"anchor\": \"x22\", \"domain\": [0.4691358024691358, 0.5308641975308642]}, \"yaxis23\": {\"anchor\": \"x23\", \"domain\": [0.4691358024691358, 0.5308641975308642]}, \"yaxis24\": {\"anchor\": \"x24\", \"domain\": [0.4691358024691358, 0.5308641975308642]}, \"yaxis25\": {\"anchor\": \"x25\", \"domain\": [0.4691358024691358, 0.5308641975308642]}, \"yaxis26\": {\"anchor\": \"x26\", \"domain\": [0.35185185185185186, 0.41358024691358025]}, \"yaxis27\": {\"anchor\": \"x27\", \"domain\": [0.35185185185185186, 0.41358024691358025]}, \"yaxis28\": {\"anchor\": \"x28\", \"domain\": [0.35185185185185186, 0.41358024691358025]}, \"yaxis29\": {\"anchor\": \"x29\", \"domain\": [0.35185185185185186, 0.41358024691358025]}, \"yaxis3\": {\"anchor\": \"x3\", \"domain\": [0.9382716049382716, 1.0]}, \"yaxis30\": {\"anchor\": \"x30\", \"domain\": [0.35185185185185186, 0.41358024691358025]}, \"yaxis31\": {\"anchor\": \"x31\", \"domain\": [0.2345679012345679, 0.2962962962962963]}, \"yaxis32\": {\"anchor\": \"x32\", \"domain\": [0.2345679012345679, 0.2962962962962963]}, \"yaxis33\": {\"anchor\": \"x33\", \"domain\": [0.2345679012345679, 0.2962962962962963]}, \"yaxis34\": {\"anchor\": \"x34\", \"domain\": [0.2345679012345679, 0.2962962962962963]}, \"yaxis35\": {\"anchor\": \"x35\", \"domain\": [0.2345679012345679, 0.2962962962962963]}, \"yaxis36\": {\"anchor\": \"x36\", \"domain\": [0.11728395061728394, 0.17901234567901234]}, \"yaxis37\": {\"anchor\": \"x37\", \"domain\": [0.11728395061728394, 0.17901234567901234]}, \"yaxis38\": {\"anchor\": \"x38\", \"domain\": [0.11728395061728394, 0.17901234567901234]}, \"yaxis39\": {\"anchor\": \"x39\", \"domain\": [0.11728395061728394, 0.17901234567901234]}, \"yaxis4\": {\"anchor\": \"x4\", \"domain\": [0.9382716049382716, 1.0]}, \"yaxis40\": {\"anchor\": \"x40\", \"domain\": [0.11728395061728394, 0.17901234567901234]}, \"yaxis41\": {\"anchor\": \"x41\", \"domain\": [0.0, 0.0617283950617284]}, \"yaxis42\": {\"anchor\": \"x42\", \"domain\": [0.0, 0.0617283950617284]}, \"yaxis43\": {\"anchor\": \"x43\", \"domain\": [0.0, 0.0617283950617284]}, \"yaxis44\": {\"anchor\": \"x44\", \"domain\": [0.0, 0.0617283950617284]}, \"yaxis45\": {\"anchor\": \"x45\", \"domain\": [0.0, 0.0617283950617284]}, \"yaxis5\": {\"anchor\": \"x5\", \"domain\": [0.9382716049382716, 1.0]}, \"yaxis6\": {\"anchor\": \"x6\", \"domain\": [0.8209876543209876, 0.8827160493827161]}, \"yaxis7\": {\"anchor\": \"x7\", \"domain\": [0.8209876543209876, 0.8827160493827161]}, \"yaxis8\": {\"anchor\": \"x8\", \"domain\": [0.8209876543209876, 0.8827160493827161]}, \"yaxis9\": {\"anchor\": \"x9\", \"domain\": [0.8209876543209876, 0.8827160493827161]}},\n",
       "                        {\"plotlyServerURL\": \"https://plot.ly\", \"responsive\": true}\n",
       "                    ).then(function(){\n",
       "                            \n",
       "var gd = document.getElementById('f93df455-e16c-4ec2-b2a1-27e86d290d61');\n",
       "var x = new MutationObserver(function (mutations, observer) {{\n",
       "        var display = window.getComputedStyle(gd).display;\n",
       "        if (!display || display === 'none') {{\n",
       "            console.log([gd, 'removed!']);\n",
       "            Plotly.purge(gd);\n",
       "            observer.disconnect();\n",
       "        }}\n",
       "}});\n",
       "\n",
       "// Listen for the removal of the full notebook cells\n",
       "var notebookContainer = gd.closest('#notebook-container');\n",
       "if (notebookContainer) {{\n",
       "    x.observe(notebookContainer, {childList: true});\n",
       "}}\n",
       "\n",
       "// Listen for the clearing of the current output cell\n",
       "var outputEl = gd.closest('.output');\n",
       "if (outputEl) {{\n",
       "    x.observe(outputEl, {childList: true});\n",
       "}}\n",
       "\n",
       "                        })\n",
       "                };\n",
       "                });\n",
       "            </script>\n",
       "        </div>"
      ]
     },
     "metadata": {},
     "output_type": "display_data"
    }
   ],
   "source": [
    "for ind, relation in enumerate(relation_to_df.keys()):\n",
    "    \n",
    "    row_num, column_num = divmod(ind,num_columns)\n",
    "    \n",
    "    column_num += 1\n",
    "    row_num +=1 \n",
    "    \n",
    "    \n",
    "    relation_to_fn_stat = relation_to_fn_stats[relation]\n",
    "    \n",
    "    \n",
    "    fig.add_trace(\n",
    "        go.Scatter(\n",
    "            x=list(relation_to_fn_stat.keys()),\n",
    "            y=list(relation_to_fn_stat.values()),\n",
    "            name=relation),\n",
    "        row=row_num, \n",
    "        col=column_num)\n",
    "    \n",
    "\n",
    "for i in fig['layout']['annotations']:\n",
    "    i['font'] = dict(family=\"Arial\", size=10)\n",
    "\n",
    "    \n",
    "\n",
    "fig.show()\n",
    "    "
   ]
  },
  {
   "cell_type": "code",
   "execution_count": null,
   "metadata": {},
   "outputs": [],
   "source": []
  }
 ],
 "metadata": {
  "kernelspec": {
   "display_name": "Python 3",
   "language": "python",
   "name": "python3"
  },
  "language_info": {
   "codemirror_mode": {
    "name": "ipython",
    "version": 3
   },
   "file_extension": ".py",
   "mimetype": "text/x-python",
   "name": "python",
   "nbconvert_exporter": "python",
   "pygments_lexer": "ipython3",
   "version": "3.7.6"
  }
 },
 "nbformat": 4,
 "nbformat_minor": 2
}
