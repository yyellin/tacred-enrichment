{
 "cells": [
  {
   "cell_type": "code",
   "execution_count": 88,
   "metadata": {},
   "outputs": [],
   "source": [
    "import ijson"
   ]
  },
  {
   "cell_type": "code",
   "execution_count": 90,
   "metadata": {},
   "outputs": [],
   "source": [
    "input_stream = open(r'C:\\Users\\jyellin\\re_1\\tacred\\data\\json\\test.json', encoding='utf-8')\n",
    "json_stream = ijson.items(input_stream, 'item')\n"
   ]
  },
  {
   "cell_type": "code",
   "execution_count": 91,
   "metadata": {},
   "outputs": [],
   "source": [
    "item = next(filter(lambda item: item['id'] != '098f6a9e36f43025c645', json_stream))"
   ]
  },
  {
   "cell_type": "code",
   "execution_count": null,
   "metadata": {},
   "outputs": [],
   "source": [
    "import operator\n",
    "\n",
    "intersections = []\n",
    "for i, i_relation in enumerate(relations):\n",
    "    i_paths = ud_train[ud_train['relation']==i_relation]['path'].unique()\n",
    "\n",
    "    for j, j_relation in enumerate(relations):\n",
    "        \n",
    "        if i_relation == j_relation:\n",
    "            continue\n",
    "        \n",
    "        j_paths = ud_train[ud_train['relation']==j_relation]['path'].unique()\n",
    "        intersection = numpy.intersect1d(i_paths, j_paths)\n",
    "        common_by_j = len(intersection) / len(j_paths)\n",
    "        \n",
    "        intersections.append( (i_relation, j_relation, common_by_j) )\n",
    "        \n",
    "intersections.sort(key = operator.itemgetter(2), reverse = True)                     \n"
   ]
  }
 ],
 "metadata": {
  "kernelspec": {
   "display_name": "Python 3",
   "language": "python",
   "name": "python3"
  },
  "language_info": {
   "codemirror_mode": {
    "name": "ipython",
    "version": 3
   },
   "file_extension": ".py",
   "mimetype": "text/x-python",
   "name": "python",
   "nbconvert_exporter": "python",
   "pygments_lexer": "ipython3",
   "version": "3.7.4"
  }
 },
 "nbformat": 4,
 "nbformat_minor": 2
}
