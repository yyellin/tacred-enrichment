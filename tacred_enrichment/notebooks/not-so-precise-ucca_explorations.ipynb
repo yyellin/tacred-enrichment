{
 "cells": [
  {
   "cell_type": "code",
   "execution_count": 18,
   "metadata": {},
   "outputs": [],
   "source": [
    "import numpy\n",
    "import pandas\n",
    "\n",
    "train = pandas.read_csv(r'C:\\Users\\JYellin\\re_1\\tacred\\results\\general\\train-ud_paths_v0.0.5.csv')\n"
   ]
  },
  {
   "cell_type": "code",
   "execution_count": 23,
   "metadata": {},
   "outputs": [],
   "source": [
    "relation_to_lemmas = {}\n",
    "\n",
    "relations = train[train['relation']!='no_relation']['relation'].unique().tolist()\n",
    "\n",
    "\n",
    "for relation in relations:\n",
    "    lemmas = train[train['relation']==relation]['lemmas_on_path'].tolist()\n",
    "    relation_to_lemmas[relation] = lemmas\n",
    "\n"
   ]
  },
  {
   "cell_type": "code",
   "execution_count": 3,
   "metadata": {},
   "outputs": [],
   "source": [
    "path_counts = train_ucca[train_ucca['relation']!='no_relation'].groupby(['path'])['id'].count().reset_index().rename(columns={'id': 'total'}).sort_values(['total'], ascending=[False]).reset_index(drop=True)\n",
    "relation_counts = train_ucca[train_ucca['relation']!='no_relation'].groupby(['relation'])['id'].count().reset_index().rename(columns={'id': 'total'}).sort_values(['total'], ascending=[False]).reset_index(drop=True)"
   ]
  },
  {
   "cell_type": "code",
   "execution_count": 4,
   "metadata": {},
   "outputs": [],
   "source": [
    "paths = path_counts['path'].tolist()\n",
    "relations = relation_counts['relation'].tolist()\n",
    "matrix_count = numpy.zeros((path_counts.shape[0], relation_counts.shape[0]), dtype=numpy.int32)\n",
    "matrix_existence = numpy.zeros((path_counts.shape[0], relation_counts.shape[0]), dtype=numpy.int32)"
   ]
  },
  {
   "cell_type": "code",
   "execution_count": 6,
   "metadata": {},
   "outputs": [],
   "source": [
    "helper = train_ucca[train_ucca['relation'] != 'no_relation'].groupby(['path','relation'])\n",
    "\n",
    "def get_path_and_relation_count(path, relation):\n",
    "    key = (path, relation)\n",
    "    \n",
    "    if key in helper.groups:\n",
    "        return helper.get_group(key).shape[0]\n",
    "    else:\n",
    "        return 0"
   ]
  },
  {
   "cell_type": "code",
   "execution_count": 7,
   "metadata": {},
   "outputs": [],
   "source": [
    "for path_index, path in enumerate(paths):\n",
    "    for relation_index, relation in enumerate(relations):\n",
    "        count = get_path_and_relation_count(path, relation)\n",
    "        matrix_count[path_index,relation_index] = count\n",
    "        matrix_existence[path_index,relation_index] = int(count>0)\n",
    "        \n",
    "        \n",
    "        "
   ]
  },
  {
   "cell_type": "code",
   "execution_count": 13,
   "metadata": {},
   "outputs": [],
   "source": [
    "path_to_relation_count = pandas.DataFrame(data=matrix_count, index=paths, columns=relations)\n",
    "path_to_relation_existence = pandas.DataFrame(data=matrix_existence, index=paths, columns=relations)"
   ]
  },
  {
   "cell_type": "code",
   "execution_count": 14,
   "metadata": {},
   "outputs": [],
   "source": [
    "path_to_relation_existence['sum'] = path_to_relation_existence.sum(axis=1)"
   ]
  },
  {
   "cell_type": "code",
   "execution_count": 15,
   "metadata": {},
   "outputs": [],
   "source": [
    "path_to_relation_existence_unique = path_to_relation_existence[path_to_relation_existence['sum'] == 1]"
   ]
  },
  {
   "cell_type": "code",
   "execution_count": 17,
   "metadata": {},
   "outputs": [
    {
     "data": {
      "text/plain": [
       "(2083, 42)"
      ]
     },
     "execution_count": 17,
     "metadata": {},
     "output_type": "execute_result"
    }
   ],
   "source": [
    "path_to_relation_existence.shape"
   ]
  },
  {
   "cell_type": "code",
   "execution_count": 129,
   "metadata": {},
   "outputs": [
    {
     "data": {
      "text/html": [
       "<div>\n",
       "<style scoped>\n",
       "    .dataframe tbody tr th:only-of-type {\n",
       "        vertical-align: middle;\n",
       "    }\n",
       "\n",
       "    .dataframe tbody tr th {\n",
       "        vertical-align: top;\n",
       "    }\n",
       "\n",
       "    .dataframe thead th {\n",
       "        text-align: right;\n",
       "    }\n",
       "</style>\n",
       "<table border=\"1\" class=\"dataframe\">\n",
       "  <thead>\n",
       "    <tr style=\"text-align: right;\">\n",
       "      <th></th>\n",
       "      <th>path</th>\n",
       "      <th>total</th>\n",
       "    </tr>\n",
       "  </thead>\n",
       "  <tbody>\n",
       "    <tr>\n",
       "      <th>0</th>\n",
       "      <td>&lt;compound &gt;compound</td>\n",
       "      <td>430</td>\n",
       "    </tr>\n",
       "    <tr>\n",
       "      <th>1</th>\n",
       "      <td>&lt;compound &lt;nsubj &lt;ROOT</td>\n",
       "      <td>254</td>\n",
       "    </tr>\n",
       "    <tr>\n",
       "      <th>2</th>\n",
       "      <td>&lt;compound &gt;amod</td>\n",
       "      <td>237</td>\n",
       "    </tr>\n",
       "    <tr>\n",
       "      <th>3</th>\n",
       "      <td>&lt;det &gt;appos &gt;punct</td>\n",
       "      <td>143</td>\n",
       "    </tr>\n",
       "    <tr>\n",
       "      <th>4</th>\n",
       "      <td>&gt;ROOT &gt;nsubj &gt;compound</td>\n",
       "      <td>141</td>\n",
       "    </tr>\n",
       "    <tr>\n",
       "      <th>...</th>\n",
       "      <td>...</td>\n",
       "      <td>...</td>\n",
       "    </tr>\n",
       "    <tr>\n",
       "      <th>1096</th>\n",
       "      <td>&lt;amod &lt;dobj &gt;nmod:in &gt;case</td>\n",
       "      <td>2</td>\n",
       "    </tr>\n",
       "    <tr>\n",
       "      <th>1097</th>\n",
       "      <td>&lt;acl:to &lt;dobj &lt;ccomp &gt;nsubj &gt;amod</td>\n",
       "      <td>2</td>\n",
       "    </tr>\n",
       "    <tr>\n",
       "      <th>1098</th>\n",
       "      <td>&gt;ROOT &gt;nmod:as &gt;nmod:for &gt;det</td>\n",
       "      <td>2</td>\n",
       "    </tr>\n",
       "    <tr>\n",
       "      <th>1099</th>\n",
       "      <td>&lt;amod &lt;appos &lt;nsubj &gt;punct</td>\n",
       "      <td>2</td>\n",
       "    </tr>\n",
       "    <tr>\n",
       "      <th>1100</th>\n",
       "      <td>&lt;case &lt;nmod:of &lt;nmod:with &lt;nmod:in &lt;dobj &lt;ccom...</td>\n",
       "      <td>2</td>\n",
       "    </tr>\n",
       "  </tbody>\n",
       "</table>\n",
       "<p>1101 rows × 2 columns</p>\n",
       "</div>"
      ],
      "text/plain": [
       "                                                   path  total\n",
       "0                                   <compound >compound    430\n",
       "1                                <compound <nsubj <ROOT    254\n",
       "2                                       <compound >amod    237\n",
       "3                                    <det >appos >punct    143\n",
       "4                                >ROOT >nsubj >compound    141\n",
       "...                                                 ...    ...\n",
       "1096                         <amod <dobj >nmod:in >case      2\n",
       "1097                  <acl:to <dobj <ccomp >nsubj >amod      2\n",
       "1098                      >ROOT >nmod:as >nmod:for >det      2\n",
       "1099                         <amod <appos <nsubj >punct      2\n",
       "1100  <case <nmod:of <nmod:with <nmod:in <dobj <ccom...      2\n",
       "\n",
       "[1101 rows x 2 columns]"
      ]
     },
     "execution_count": 129,
     "metadata": {},
     "output_type": "execute_result"
    }
   ],
   "source": [
    "path_counts[path_counts['total']>1]"
   ]
  },
  {
   "cell_type": "code",
   "execution_count": null,
   "metadata": {},
   "outputs": [],
   "source": []
  }
 ],
 "metadata": {
  "kernelspec": {
   "display_name": "Python 3",
   "language": "python",
   "name": "python3"
  },
  "language_info": {
   "codemirror_mode": {
    "name": "ipython",
    "version": 3
   },
   "file_extension": ".py",
   "mimetype": "text/x-python",
   "name": "python",
   "nbconvert_exporter": "python",
   "pygments_lexer": "ipython3",
   "version": "3.7.6"
  }
 },
 "nbformat": 4,
 "nbformat_minor": 4
}
