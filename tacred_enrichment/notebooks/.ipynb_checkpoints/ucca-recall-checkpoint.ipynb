{
 "cells": [
  {
   "cell_type": "code",
   "execution_count": 51,
   "metadata": {},
   "outputs": [
    {
     "data": {
      "text/html": [
       "        <script type=\"text/javascript\">\n",
       "        window.PlotlyConfig = {MathJaxConfig: 'local'};\n",
       "        if (window.MathJax) {MathJax.Hub.Config({SVG: {font: \"STIX-Web\"}});}\n",
       "        if (typeof require !== 'undefined') {\n",
       "        require.undef(\"plotly\");\n",
       "        requirejs.config({\n",
       "            paths: {\n",
       "                'plotly': ['https://cdn.plot.ly/plotly-latest.min']\n",
       "            }\n",
       "        });\n",
       "        require(['plotly'], function(Plotly) {\n",
       "            window._Plotly = Plotly;\n",
       "        });\n",
       "        }\n",
       "        </script>\n",
       "        "
      ]
     },
     "metadata": {},
     "output_type": "display_data"
    }
   ],
   "source": [
    "from plotly.offline import download_plotlyjs, init_notebook_mode, plot, iplot\n",
    "init_notebook_mode(connected=True)"
   ]
  },
  {
   "cell_type": "code",
   "execution_count": 43,
   "metadata": {},
   "outputs": [],
   "source": [
    "import pandas\n",
    "\n",
    "train = pandas.read_csv(r'C:\\Users\\jyellin\\re_1\\Code\\path_to_re\\train-ud_paths_per_relation.csv')\n",
    "test = pandas.read_csv(r'C:\\Users\\jyellin\\re_1\\Code\\path_to_re\\test-ud_paths_per_relation.csv')"
   ]
  },
  {
   "cell_type": "code",
   "execution_count": 44,
   "metadata": {},
   "outputs": [],
   "source": [
    "test_total_by_r_and_p = test.groupby(['relation','path'])['id'].count().reset_index().rename(columns={'id': 'total'}).sort_values(['relation','total'], ascending=[False,False]).reset_index(drop=True)\n",
    "train_total_by_r_and_p = train.groupby(['relation','path'])['id'].count().reset_index().rename(columns={'id': 'total'}).sort_values(['relation','total'], ascending=[True,False]).reset_index(drop=True)\n",
    "train_total_by_p = train.groupby(['path'])['id'].count().reset_index().rename(columns={'id': 'total'}).sort_values(['total'], ascending=[False]).reset_index(drop=True)\n"
   ]
  },
  {
   "cell_type": "code",
   "execution_count": 45,
   "metadata": {},
   "outputs": [],
   "source": [
    "def label_count_in_train_across_relations(test_row):\n",
    "    path = test_row['path']\n",
    "\n",
    "    train_row = train_total_by_p.loc[train_total_by_p['path'] == path]\n",
    "    if train_row.empty:\n",
    "        return 0\n",
    "    else:\n",
    "        compare  = train_row.values[0][1]\n",
    "        return compare\n",
    "\n",
    "def label_count_in_train_by_relation(test_row):\n",
    "    relation = test_row['relation']\n",
    "    path = test_row['path']\n",
    "\n",
    "    train_row = train_total_by_r_and_p.loc[\n",
    "        (train_total_by_r_and_p['relation'] == relation) & \n",
    "        (train_total_by_r_and_p['path'] == path)]\n",
    "    if train_row.empty:\n",
    "        return 0\n",
    "    else:\n",
    "        compare  = train_row.values[0][2]\n",
    "        return compare\n",
    "\n",
    "test_total_by_r_and_p['total-for-relation'] = test_total_by_r_and_p.apply(lambda row : label_count_in_train_by_relation(row), axis=1)\n",
    "test_total_by_r_and_p['total-across-relations'] = test_total_by_r_and_p.apply(lambda row : label_count_in_train_across_relations(row), axis=1)"
   ]
  },
  {
   "cell_type": "code",
   "execution_count": 99,
   "metadata": {},
   "outputs": [],
   "source": [
    "stats = []\n",
    "relations = train_total_by_r_and_p['relation'].unique().tolist()\n",
    "for relation in relations:\n",
    "    \n",
    "    df = test_total_by_r_and_p[test_total_by_r_and_p['relation']==relation]\n",
    "    \n",
    "    matched = sum(df[df['total-for-relation']>0]['total'].to_list())\n",
    "    matched_lax = sum(df[df['total-across-relations']>0]['total'].to_list())\n",
    "    total = sum(df['total'].to_list())\n",
    "    \n",
    "    stats.append( (relation,matched/total, matched_lax/total) )\n",
    "\n",
    "    \n",
    "matched = sum(test_total_by_r_and_p[test_total_by_r_and_p['total-for-relation']>0]['total'].to_list())\n",
    "matched_lax = sum(test_total_by_r_and_p[test_total_by_r_and_p['total-across-relations']>0]['total'].to_list())\n",
    "total = sum(test_total_by_r_and_p['total'].to_list())\n",
    "\n",
    "stats.insert(0, ('total', matched/total, matched_lax/total) )\n",
    "stats = sorted(stats, key=lambda x: x[1], reverse=True)"
   ]
  },
  {
   "cell_type": "code",
   "execution_count": 100,
   "metadata": {},
   "outputs": [
    {
     "data": {
      "application/vnd.plotly.v1+json": {
       "config": {
        "linkText": "Export to plot.ly",
        "plotlyServerURL": "https://plot.ly",
        "showLink": false
       },
       "data": [
        {
         "marker": {
          "color": "rgb(158,202,225)",
          "line": {
           "color": "rgb(8,48,107)",
           "width": 0.5
          }
         },
         "name": "Lax Recall",
         "opacity": 0.6,
         "type": "bar",
         "uid": "fab6df63-7b60-4767-8006-268590711b29",
         "width": 0.5,
         "x": [
          "per:age",
          "org:top_members/employees",
          "org:alternate_names",
          "org:founded_by",
          "per:title",
          "per:stateorprovince_of_birth",
          "org:founded",
          "per:origin",
          "org:website",
          "per:date_of_birth",
          "per:employee_of",
          "total",
          "org:subsidiaries",
          "org:city_of_headquarters",
          "per:siblings",
          "per:other_family",
          "per:schools_attended",
          "per:children",
          "org:stateorprovince_of_headquarters",
          "per:spouse",
          "per:cities_of_residence",
          "org:political/religious_affiliation",
          "org:parents",
          "per:parents",
          "org:number_of_employees/members",
          "per:stateorprovinces_of_residence",
          "org:country_of_headquarters",
          "per:countries_of_residence",
          "per:date_of_death",
          "per:city_of_birth",
          "per:charges",
          "org:members",
          "per:stateorprovince_of_death",
          "per:religion",
          "org:member_of",
          "per:alternate_names",
          "per:cause_of_death",
          "org:dissolved",
          "org:shareholders",
          "per:city_of_death",
          "per:country_of_birth",
          "per:country_of_death"
         ],
         "y": [
          0.875,
          0.838150289017341,
          0.8056872037914692,
          0.8235294117647058,
          0.8,
          0.75,
          0.7837837837837838,
          0.6893939393939394,
          0.72,
          0.8888888888888888,
          0.6515151515151515,
          0.6657625075346595,
          0.7045454545454546,
          0.6951219512195121,
          0.7818181818181819,
          0.5333333333333333,
          0.6666666666666666,
          0.6216216216216216,
          0.6274509803921569,
          0.5606060606060606,
          0.5531914893617021,
          0.6,
          0.5573770491803278,
          0.6590909090909091,
          0.3684210526315789,
          0.55,
          0.4074074074074074,
          0.46621621621621623,
          0.48148148148148145,
          1,
          0.2815533980582524,
          0.3225806451612903,
          0.2857142857142857,
          0.5957446808510638,
          0.4444444444444444,
          0.2727272727272727,
          0.4423076923076923,
          0.5,
          0.3333333333333333,
          0.17857142857142858,
          0.8,
          0.3333333333333333
         ]
        },
        {
         "marker": {
          "color": "rgb(58,200,225)",
          "line": {
           "color": "rgb(8,48,107)",
           "width": 0.5
          }
         },
         "name": "Recall",
         "opacity": 0.6,
         "type": "bar",
         "uid": "99ca813a-c417-40ee-8059-174923f24bf0",
         "width": 0.3,
         "x": [
          "per:age",
          "org:top_members/employees",
          "org:alternate_names",
          "org:founded_by",
          "per:title",
          "per:stateorprovince_of_birth",
          "org:founded",
          "per:origin",
          "org:website",
          "per:date_of_birth",
          "per:employee_of",
          "total",
          "org:subsidiaries",
          "org:city_of_headquarters",
          "per:siblings",
          "per:other_family",
          "per:schools_attended",
          "per:children",
          "org:stateorprovince_of_headquarters",
          "per:spouse",
          "per:cities_of_residence",
          "org:political/religious_affiliation",
          "org:parents",
          "per:parents",
          "org:number_of_employees/members",
          "per:stateorprovinces_of_residence",
          "org:country_of_headquarters",
          "per:countries_of_residence",
          "per:date_of_death",
          "per:city_of_birth",
          "per:charges",
          "org:members",
          "per:stateorprovince_of_death",
          "per:religion",
          "org:member_of",
          "per:alternate_names",
          "per:cause_of_death",
          "org:dissolved",
          "org:shareholders",
          "per:city_of_death",
          "per:country_of_birth",
          "per:country_of_death"
         ],
         "y": [
          0.83,
          0.8005780346820809,
          0.7962085308056872,
          0.7647058823529411,
          0.756,
          0.75,
          0.7027027027027027,
          0.5681818181818182,
          0.56,
          0.5555555555555556,
          0.5492424242424242,
          0.5424954792043399,
          0.5,
          0.4878048780487805,
          0.4727272727272727,
          0.43333333333333335,
          0.43333333333333335,
          0.43243243243243246,
          0.43137254901960786,
          0.42424242424242425,
          0.4148936170212766,
          0.4,
          0.39344262295081966,
          0.375,
          0.3684210526315789,
          0.3375,
          0.2962962962962963,
          0.25675675675675674,
          0.24074074074074073,
          0.2,
          0.17475728155339806,
          0.16129032258064516,
          0.14285714285714285,
          0.1276595744680851,
          0.1111111111111111,
          0.09090909090909091,
          0.07692307692307693,
          0,
          0,
          0,
          0,
          0
         ]
        }
       ],
       "layout": {
        "barmode": "overlay",
        "width": 1200,
        "xaxis": {
         "automargin": true,
         "tickangle": 90
        }
       }
      },
      "text/html": [
       "<div>\n",
       "        \n",
       "        \n",
       "            <div id=\"eca27b82-5ead-4853-bb07-cd10a214d6c6\" class=\"plotly-graph-div\" style=\"height:525px; width:1200px;\"></div>\n",
       "            <script type=\"text/javascript\">\n",
       "                require([\"plotly\"], function(Plotly) {\n",
       "                    window.PLOTLYENV=window.PLOTLYENV || {};\n",
       "                    window.PLOTLYENV.BASE_URL='https://plot.ly';\n",
       "                    \n",
       "                if (document.getElementById(\"eca27b82-5ead-4853-bb07-cd10a214d6c6\")) {\n",
       "                    Plotly.newPlot(\n",
       "                        'eca27b82-5ead-4853-bb07-cd10a214d6c6',\n",
       "                        [{\"marker\": {\"color\": \"rgb(158,202,225)\", \"line\": {\"color\": \"rgb(8,48,107)\", \"width\": 0.5}}, \"name\": \"Lax Recall\", \"opacity\": 0.6, \"type\": \"bar\", \"uid\": \"fab6df63-7b60-4767-8006-268590711b29\", \"width\": 0.5, \"x\": [\"per:age\", \"org:top_members/employees\", \"org:alternate_names\", \"org:founded_by\", \"per:title\", \"per:stateorprovince_of_birth\", \"org:founded\", \"per:origin\", \"org:website\", \"per:date_of_birth\", \"per:employee_of\", \"total\", \"org:subsidiaries\", \"org:city_of_headquarters\", \"per:siblings\", \"per:other_family\", \"per:schools_attended\", \"per:children\", \"org:stateorprovince_of_headquarters\", \"per:spouse\", \"per:cities_of_residence\", \"org:political/religious_affiliation\", \"org:parents\", \"per:parents\", \"org:number_of_employees/members\", \"per:stateorprovinces_of_residence\", \"org:country_of_headquarters\", \"per:countries_of_residence\", \"per:date_of_death\", \"per:city_of_birth\", \"per:charges\", \"org:members\", \"per:stateorprovince_of_death\", \"per:religion\", \"org:member_of\", \"per:alternate_names\", \"per:cause_of_death\", \"org:dissolved\", \"org:shareholders\", \"per:city_of_death\", \"per:country_of_birth\", \"per:country_of_death\"], \"y\": [0.875, 0.838150289017341, 0.8056872037914692, 0.8235294117647058, 0.8, 0.75, 0.7837837837837838, 0.6893939393939394, 0.72, 0.8888888888888888, 0.6515151515151515, 0.6657625075346595, 0.7045454545454546, 0.6951219512195121, 0.7818181818181819, 0.5333333333333333, 0.6666666666666666, 0.6216216216216216, 0.6274509803921569, 0.5606060606060606, 0.5531914893617021, 0.6, 0.5573770491803278, 0.6590909090909091, 0.3684210526315789, 0.55, 0.4074074074074074, 0.46621621621621623, 0.48148148148148145, 1.0, 0.2815533980582524, 0.3225806451612903, 0.2857142857142857, 0.5957446808510638, 0.4444444444444444, 0.2727272727272727, 0.4423076923076923, 0.5, 0.3333333333333333, 0.17857142857142858, 0.8, 0.3333333333333333]}, {\"marker\": {\"color\": \"rgb(58,200,225)\", \"line\": {\"color\": \"rgb(8,48,107)\", \"width\": 0.5}}, \"name\": \"Recall\", \"opacity\": 0.6, \"type\": \"bar\", \"uid\": \"99ca813a-c417-40ee-8059-174923f24bf0\", \"width\": 0.3, \"x\": [\"per:age\", \"org:top_members/employees\", \"org:alternate_names\", \"org:founded_by\", \"per:title\", \"per:stateorprovince_of_birth\", \"org:founded\", \"per:origin\", \"org:website\", \"per:date_of_birth\", \"per:employee_of\", \"total\", \"org:subsidiaries\", \"org:city_of_headquarters\", \"per:siblings\", \"per:other_family\", \"per:schools_attended\", \"per:children\", \"org:stateorprovince_of_headquarters\", \"per:spouse\", \"per:cities_of_residence\", \"org:political/religious_affiliation\", \"org:parents\", \"per:parents\", \"org:number_of_employees/members\", \"per:stateorprovinces_of_residence\", \"org:country_of_headquarters\", \"per:countries_of_residence\", \"per:date_of_death\", \"per:city_of_birth\", \"per:charges\", \"org:members\", \"per:stateorprovince_of_death\", \"per:religion\", \"org:member_of\", \"per:alternate_names\", \"per:cause_of_death\", \"org:dissolved\", \"org:shareholders\", \"per:city_of_death\", \"per:country_of_birth\", \"per:country_of_death\"], \"y\": [0.83, 0.8005780346820809, 0.7962085308056872, 0.7647058823529411, 0.756, 0.75, 0.7027027027027027, 0.5681818181818182, 0.56, 0.5555555555555556, 0.5492424242424242, 0.5424954792043399, 0.5, 0.4878048780487805, 0.4727272727272727, 0.43333333333333335, 0.43333333333333335, 0.43243243243243246, 0.43137254901960786, 0.42424242424242425, 0.4148936170212766, 0.4, 0.39344262295081966, 0.375, 0.3684210526315789, 0.3375, 0.2962962962962963, 0.25675675675675674, 0.24074074074074073, 0.2, 0.17475728155339806, 0.16129032258064516, 0.14285714285714285, 0.1276595744680851, 0.1111111111111111, 0.09090909090909091, 0.07692307692307693, 0.0, 0.0, 0.0, 0.0, 0.0]}],\n",
       "                        {\"barmode\": \"overlay\", \"width\": 1200, \"xaxis\": {\"automargin\": true, \"tickangle\": 90}},\n",
       "                        {\"showLink\": false, \"linkText\": \"Export to plot.ly\", \"plotlyServerURL\": \"https://plot.ly\", \"responsive\": true}\n",
       "                    ).then(function(){\n",
       "                            \n",
       "var gd = document.getElementById('eca27b82-5ead-4853-bb07-cd10a214d6c6');\n",
       "var x = new MutationObserver(function (mutations, observer) {{\n",
       "        var display = window.getComputedStyle(gd).display;\n",
       "        if (!display || display === 'none') {{\n",
       "            console.log([gd, 'removed!']);\n",
       "            Plotly.purge(gd);\n",
       "            observer.disconnect();\n",
       "        }}\n",
       "}});\n",
       "\n",
       "// Listen for the removal of the full notebook cells\n",
       "var notebookContainer = gd.closest('#notebook-container');\n",
       "if (notebookContainer) {{\n",
       "    x.observe(notebookContainer, {childList: true});\n",
       "}}\n",
       "\n",
       "// Listen for the clearing of the current output cell\n",
       "var outputEl = gd.closest('.output');\n",
       "if (outputEl) {{\n",
       "    x.observe(outputEl, {childList: true});\n",
       "}}\n",
       "\n",
       "                        })\n",
       "                };\n",
       "                });\n",
       "            </script>\n",
       "        </div>"
      ]
     },
     "metadata": {},
     "output_type": "display_data"
    }
   ],
   "source": [
    "import plotly.graph_objs as go\n",
    "\n",
    "trace1 = go.Bar(\n",
    "    x=[stat[0] for stat in stats],\n",
    "    y=[stat[2] for stat in stats],\n",
    "    name='Lax Recall',\n",
    "    width=0.5,\n",
    "    marker=dict(\n",
    "        color='rgb(158,202,225)',\n",
    "        line=dict(\n",
    "            color='rgb(8,48,107)',\n",
    "            width=0.5),\n",
    "        ),\n",
    "    opacity=0.6\n",
    ")\n",
    "trace2 = go.Bar(\n",
    "    x=[stat[0] for stat in stats],\n",
    "    y=[stat[1] for stat in stats],\n",
    "    name='Recall',\n",
    "    width=0.3,\n",
    "    marker=dict(\n",
    "        color='rgb(58,200,225)',\n",
    "        line=dict(\n",
    "            color='rgb(8,48,107)',\n",
    "            width=0.5),\n",
    "        ),\n",
    "    opacity=0.6\n",
    ")\n",
    "\n",
    "data = [trace1, trace2]\n",
    "layout = go.Layout(\n",
    "    barmode='overlay',\n",
    "    width=1200,\n",
    "    xaxis = go.layout.XAxis(\n",
    "        tickangle = 90,\n",
    "        automargin = True\n",
    "        \n",
    "    )\n",
    "    \n",
    "        \n",
    ")\n",
    "\n",
    "fig = go.Figure(data=data, layout=layout)\n",
    "iplot(fig)"
   ]
  },
  {
   "cell_type": "code",
   "execution_count": null,
   "metadata": {},
   "outputs": [],
   "source": []
  },
  {
   "cell_type": "code",
   "execution_count": 5,
   "metadata": {},
   "outputs": [],
   "source": [
    "ucca_train = pandas.read_csv(r'C:\\Users\\jyellin\\re_1\\Code\\path_to_re\\train-ucca_paths_per_relation.csv')\n",
    "ucca_test = pandas.read_csv(r'C:\\Users\\jyellin\\re_1\\Code\\path_to_re\\test-ucca_paths_per_relation.csv')"
   ]
  },
  {
   "cell_type": "code",
   "execution_count": 6,
   "metadata": {},
   "outputs": [],
   "source": [
    "ucca_test.groupby(['relation','path'])['id'].count().unstack(fill_value=0).T\n",
    "ucca_test_stats = ucca_test.groupby(['relation','path'])['id'].count().reset_index()\n",
    "ucca_test_stats = ucca_test_stats.rename(columns={'id': 'count'}).sort_values(['relation','count'], ascending=[True,False]).reset_index(drop=True)"
   ]
  },
  {
   "cell_type": "code",
   "execution_count": 7,
   "metadata": {},
   "outputs": [],
   "source": [
    "ucca_train.groupby(['relation','path'])['id'].count().unstack(fill_value=0).T\n",
    "ucca_train_stats = ucca_train.groupby(['relation','path'])['id'].count().reset_index()\n",
    "ucca_train_stats = ucca_train_stats.rename(columns={'id': 'count'}).sort_values(['relation','count'], ascending=[True,False]).reset_index(drop=True)"
   ]
  },
  {
   "cell_type": "code",
   "execution_count": 17,
   "metadata": {},
   "outputs": [],
   "source": [
    "def label_count_in_train_across_relations(ucca_test_stat):\n",
    "    path = ucca_test_stat['path']\n",
    "\n",
    "    ucca_train_stat = ucca_train_stats.loc[ucca_train_stats['path'] == path]\n",
    "    if ucca_train_stat.empty:\n",
    "        return 0\n",
    "    else:\n",
    "        compare  = ucca_train_stat.values[0][2]\n",
    "        return compare\n",
    "    \n",
    "def label_count_in_train(ucca_test_stat):\n",
    "    relation = ucca_test_stat['relation']\n",
    "    path = ucca_test_stat['path']\n",
    "\n",
    "    ucca_train_stat = ucca_train_stats.loc[(ucca_train_stats['relation'] == relation) & (ucca_train_stats['path'] == path)]\n",
    "    if ucca_train_stat.empty:\n",
    "        return 0\n",
    "    else:\n",
    "        compare  = ucca_train_stat.values[0][2]\n",
    "        return compare\n",
    "        \n",
    "    \n",
    "ucca_test_stats['count-in-train'] = ucca_test_stats.apply(lambda ucca_test_stat : label_count_in_train(ucca_test_stat), axis=1)\n",
    "ucca_test_stats['count-in-train-across-all'] = ucca_test_stats.apply(lambda ucca_test_stat : label_count_in_train_across_relations(ucca_test_stat), axis=1)\n",
    "ucca_test_stats.to_csv('./ucca_hits_across_relations.csv')"
   ]
  },
  {
   "cell_type": "code",
   "execution_count": null,
   "metadata": {},
   "outputs": [],
   "source": [
    "def label_count_in_train(ucca_test_stat):\n",
    "    relation = ucca_test_stat['relation']\n",
    "    path = ucca_test_stat['path']\n",
    "\n",
    "    ucca_train_stat = ucca_train_stats.loc[(ucca_train_stats['relation'] == relation) & (ucca_train_stats['path'] == path)]\n",
    "    if ucca_train_stat.empty:\n",
    "        return 0\n",
    "    else:\n",
    "        compare  = ucca_train_stat.values[0][2]\n",
    "        return compare\n",
    "        \n",
    "    \n",
    "ucca_test_stats['count-in-train'] = ucca_test_stats.apply(lambda ucca_test_stat : label_count_in_train(ucca_test_stat), axis=1)\n",
    "ucca_test_stats.to_csv('./ucca_hits.csv')"
   ]
  },
  {
   "cell_type": "code",
   "execution_count": 45,
   "metadata": {},
   "outputs": [],
   "source": [
    "import numpy\n",
    "num_relations = len(relations)"
   ]
  },
  {
   "cell_type": "code",
   "execution_count": 68,
   "metadata": {},
   "outputs": [],
   "source": [
    "matrix = numpy.empty((num_relations, num_relations))\n",
    "for i, i_relation in enumerate(relations):\n",
    "    i_paths = ud_train[ud_train['relation']==i_relation]['path'].unique()\n",
    "\n",
    "    for j, j_relation in enumerate(relations):\n",
    "        j_paths = ud_train[ud_train['relation']==j_relation]['path'].unique()\n",
    "        intersection = numpy.intersect1d(i_paths, j_paths)\n",
    "        common_by_j = len(intersection) / len(j_paths)\n",
    "        \n",
    "        matrix[i,j] = common_by_j\n",
    "df = pandas.DataFrame(matrix, index=relations, columns=relations)\n",
    "df.to_csv('./matrix_ud.csv')"
   ]
  },
  {
   "cell_type": "code",
   "execution_count": 80,
   "metadata": {},
   "outputs": [],
   "source": [
    "import operator\n",
    "\n",
    "intersections = []\n",
    "for i, i_relation in enumerate(relations):\n",
    "    i_paths = ud_train[ud_train['relation']==i_relation]['path'].unique()\n",
    "\n",
    "    for j, j_relation in enumerate(relations):\n",
    "        \n",
    "        if i_relation == j_relation:\n",
    "            continue\n",
    "        \n",
    "        j_paths = ud_train[ud_train['relation']==j_relation]['path'].unique()\n",
    "        intersection = numpy.intersect1d(i_paths, j_paths)\n",
    "        common_by_j = len(intersection) / len(j_paths)\n",
    "        \n",
    "        intersections.append( (i_relation, j_relation, common_by_j) )\n",
    "        \n",
    "intersections.sort(key = operator.itemgetter(2), reverse = True)                     \n"
   ]
  },
  {
   "cell_type": "code",
   "execution_count": 82,
   "metadata": {},
   "outputs": [
    {
     "data": {
      "text/plain": [
       "[('per:title', 'per:country_of_death', 0.4),\n",
       " ('per:cities_of_residence', 'per:country_of_death', 0.4),\n",
       " ('per:employee_of', 'per:country_of_death', 0.4),\n",
       " ('per:schools_attended', 'per:country_of_death', 0.4),\n",
       " ('per:cities_of_residence', 'per:city_of_death', 0.35),\n",
       " ('per:cities_of_residence', 'per:city_of_birth', 0.34285714285714286),\n",
       " ('per:title', 'per:alternate_names', 0.3333333333333333),\n",
       " ('per:stateorprovinces_of_residence',\n",
       "  'per:stateorprovince_of_birth',\n",
       "  0.2962962962962963),\n",
       " ('per:origin', 'per:country_of_birth', 0.2916666666666667),\n",
       " ('per:employee_of', 'per:country_of_birth', 0.2916666666666667),\n",
       " ('org:parents', 'org:founded_by', 0.2876712328767123),\n",
       " ('per:employee_of', 'per:parents', 0.275),\n",
       " ('org:top_members/employees', 'org:shareholders', 0.26666666666666666),\n",
       " ('per:cities_of_residence',\n",
       "  'per:stateorprovince_of_birth',\n",
       "  0.25925925925925924),\n",
       " ('per:cities_of_residence', 'per:date_of_birth', 0.2571428571428571),\n",
       " ('org:city_of_headquarters', 'per:date_of_birth', 0.2571428571428571),\n",
       " ('org:stateorprovince_of_headquarters', 'per:country_of_birth', 0.25),\n",
       " ('per:employee_of', 'per:spouse', 0.24489795918367346),\n",
       " ('per:employee_of', 'per:alternate_names', 0.2345679012345679),\n",
       " ('per:employee_of', 'per:siblings', 0.23333333333333334),\n",
       " ('per:employee_of', 'per:other_family', 0.22857142857142856),\n",
       " ('org:city_of_headquarters', 'per:city_of_birth', 0.22857142857142856),\n",
       " ('org:founded', 'per:city_of_birth', 0.22857142857142856),\n",
       " ('per:date_of_death', 'org:dissolved', 0.22727272727272727),\n",
       " ('per:employee_of', 'per:stateorprovince_of_birth', 0.2222222222222222),\n",
       " ('org:stateorprovince_of_headquarters',\n",
       "  'per:stateorprovince_of_birth',\n",
       "  0.2222222222222222),\n",
       " ('per:employee_of', 'per:charges', 0.21428571428571427),\n",
       " ('per:other_family', 'per:parents', 0.2125),\n",
       " ('per:employee_of', 'per:cause_of_death', 0.21212121212121213),\n",
       " ('org:top_members/employees', 'org:subsidiaries', 0.21142857142857144),\n",
       " ('per:employee_of', 'per:schools_attended', 0.2111111111111111),\n",
       " ('org:top_members/employees', 'per:children', 0.20967741935483872),\n",
       " ('per:title', 'per:country_of_birth', 0.20833333333333334),\n",
       " ('per:countries_of_residence', 'per:country_of_birth', 0.20833333333333334),\n",
       " ('org:top_members/employees', 'org:members', 0.208),\n",
       " ('per:cities_of_residence',\n",
       "  'per:stateorprovince_of_death',\n",
       "  0.20689655172413793),\n",
       " ('per:stateorprovinces_of_residence',\n",
       "  'per:stateorprovince_of_death',\n",
       "  0.20689655172413793),\n",
       " ('per:employee_of', 'org:subsidiaries', 0.2057142857142857),\n",
       " ('per:employee_of', 'org:member_of', 0.205607476635514)]"
      ]
     },
     "execution_count": 82,
     "metadata": {},
     "output_type": "execute_result"
    }
   ],
   "source": [
    "intersections[1:40]"
   ]
  },
  {
   "cell_type": "code",
   "execution_count": 67,
   "metadata": {},
   "outputs": [],
   "source": [
    "matrix = numpy.empty((num_relations, num_relations))\n",
    "for i, i_relation in enumerate(relations):\n",
    "    i_paths = ucca_train[(ucca_train['relation']==i_relation) & (pandas.notnull(ucca_train['path']))]['path'].unique()\n",
    "    \n",
    "    for j, j_relation in enumerate(relations):\n",
    "        j_paths = ucca_train[(ucca_train['relation']==j_relation) & (pandas.notnull(ucca_train['path'])) ]['path'].unique()\n",
    "\n",
    "        intersection = numpy.intersect1d(i_paths, j_paths)\n",
    "        \n",
    "        common_by_j = len(intersection) / len(j_paths)\n",
    "        \n",
    "        matrix[i,j] = common_by_j\n",
    "df = pandas.DataFrame(matrix, index=relations, columns=relations)\n",
    "df.to_csv('./matrix_ucca.csv')"
   ]
  },
  {
   "cell_type": "code",
   "execution_count": 84,
   "metadata": {},
   "outputs": [],
   "source": [
    "import operator\n",
    "\n",
    "intersections = []\n",
    "for i, i_relation in enumerate(relations):\n",
    "    i_paths = ucca_train[(ucca_train['relation']==i_relation) & (pandas.notnull(ucca_train['path']))]['path'].unique()\n",
    "\n",
    "    for j, j_relation in enumerate(relations):\n",
    "        \n",
    "        if i_relation == j_relation:\n",
    "            continue\n",
    "        \n",
    "        j_paths = ucca_train[(ucca_train['relation']==j_relation) & (pandas.notnull(ucca_train['path'])) ]['path'].unique()\n",
    "        intersection = numpy.intersect1d(i_paths, j_paths)\n",
    "        common_by_j = len(intersection) / len(j_paths)\n",
    "        \n",
    "        intersections.append( (i_relation, j_relation, common_by_j) )\n",
    "        \n",
    "intersections.sort(key = operator.itemgetter(2), reverse = True)                     \n"
   ]
  },
  {
   "cell_type": "code",
   "execution_count": 85,
   "metadata": {},
   "outputs": [
    {
     "data": {
      "text/plain": [
       "[('per:employee_of', 'per:country_of_death', 0.8333333333333334),\n",
       " ('per:title', 'per:stateorprovince_of_birth', 0.8235294117647058),\n",
       " ('per:employee_of', 'per:stateorprovince_of_birth', 0.7647058823529411),\n",
       " ('per:title', 'per:city_of_death', 0.7435897435897436),\n",
       " ('per:title', 'per:country_of_birth', 0.7368421052631579),\n",
       " ('per:title', 'per:city_of_birth', 0.7058823529411765),\n",
       " ('per:cities_of_residence', 'per:city_of_birth', 0.7058823529411765),\n",
       " ('per:employee_of', 'per:country_of_birth', 0.6842105263157895),\n",
       " ('per:title', 'per:country_of_death', 0.6666666666666666),\n",
       " ('per:countries_of_residence', 'per:country_of_death', 0.6666666666666666),\n",
       " ('per:cause_of_death', 'per:country_of_death', 0.6666666666666666),\n",
       " ('per:cities_of_residence',\n",
       "  'per:stateorprovince_of_birth',\n",
       "  0.6470588235294118),\n",
       " ('per:employee_of', 'per:religion', 0.6341463414634146),\n",
       " ('org:country_of_headquarters', 'per:country_of_birth', 0.631578947368421),\n",
       " ('org:top_members/employees', 'org:founded_by', 0.6031746031746031),\n",
       " ('org:country_of_headquarters', 'per:city_of_death', 0.5897435897435898),\n",
       " ('per:employee_of', 'per:city_of_death', 0.5897435897435898),\n",
       " ('org:top_members/employees', 'per:city_of_birth', 0.5882352941176471),\n",
       " ('per:countries_of_residence',\n",
       "  'per:stateorprovince_of_birth',\n",
       "  0.5882352941176471),\n",
       " ('per:title', 'per:religion', 0.5609756097560976),\n",
       " ('per:origin', 'per:religion', 0.5609756097560976),\n",
       " ('per:employee_of', 'per:stateorprovince_of_death', 0.5416666666666666),\n",
       " ('per:stateorprovinces_of_residence',\n",
       "  'per:stateorprovince_of_death',\n",
       "  0.5416666666666666),\n",
       " ('per:title', 'per:schools_attended', 0.5409836065573771),\n",
       " ('per:employee_of', 'per:schools_attended', 0.5409836065573771),\n",
       " ('org:country_of_headquarters',\n",
       "  'per:stateorprovince_of_birth',\n",
       "  0.5294117647058824),\n",
       " ('org:country_of_headquarters', 'per:city_of_birth', 0.5294117647058824),\n",
       " ('per:countries_of_residence', 'per:city_of_birth', 0.5294117647058824),\n",
       " ('org:alternate_names', 'per:city_of_birth', 0.5294117647058824),\n",
       " ('per:origin', 'per:stateorprovince_of_birth', 0.5294117647058824),\n",
       " ('per:origin', 'per:city_of_birth', 0.5294117647058824),\n",
       " ('per:employee_of', 'per:city_of_birth', 0.5294117647058824),\n",
       " ('per:other_family', 'per:stateorprovince_of_birth', 0.5294117647058824),\n",
       " ('per:stateorprovinces_of_residence',\n",
       "  'per:stateorprovince_of_birth',\n",
       "  0.5294117647058824),\n",
       " ('per:stateorprovinces_of_residence',\n",
       "  'per:city_of_birth',\n",
       "  0.5294117647058824),\n",
       " ('per:cause_of_death', 'per:stateorprovince_of_birth', 0.5294117647058824),\n",
       " ('org:alternate_names', 'per:country_of_birth', 0.5263157894736842),\n",
       " ('per:cities_of_residence', 'per:country_of_birth', 0.5263157894736842),\n",
       " ('per:origin', 'per:country_of_birth', 0.5263157894736842)]"
      ]
     },
     "execution_count": 85,
     "metadata": {},
     "output_type": "execute_result"
    }
   ],
   "source": [
    "intersections[1:40]"
   ]
  },
  {
   "cell_type": "code",
   "execution_count": 87,
   "metadata": {},
   "outputs": [],
   "source": [
    "from nltk.tokenize.treebank import TreebankWordDetokenizer as Detok\n",
    "\n",
    "\n",
    "class Detokenizer(object):\n",
    "    '''\n",
    "    'Detokenize' is a stateless class that contains a single static method 'detokenize'\n",
    "    '''\n",
    "\n",
    "    @staticmethod\n",
    "    def __switch(tokens, find, replace):\n",
    "        new_list = []\n",
    "\n",
    "        iterator = iter(tokens)\n",
    "        for token in iterator:\n",
    "            if token == find:\n",
    "                token = replace\n",
    "\n",
    "            new_list.append(token)\n",
    "\n",
    "        return new_list\n",
    "\n",
    "    @staticmethod\n",
    "    def __box_forward(tokens, find, replace):\n",
    "        new_list = []\n",
    "\n",
    "        iterator = iter(tokens)\n",
    "        for token in iterator:\n",
    "            if token == find:\n",
    "                token = replace + next(iterator)\n",
    "\n",
    "            new_list.append(token)\n",
    "\n",
    "        return new_list\n",
    "\n",
    "    @staticmethod\n",
    "    def __box_backwards(tokens, find, replace):\n",
    "\n",
    "        new_list = []\n",
    "\n",
    "        for token in tokens:\n",
    "            if token != find:\n",
    "                new_list.append(token)\n",
    "\n",
    "            else:\n",
    "\n",
    "                if len(new_list) > 0:\n",
    "                    new_list[-1] = new_list[-1] + replace\n",
    "                # otherwise just ignore - not much to be done ...\n",
    "\n",
    "        return new_list\n",
    "\n",
    "    @staticmethod\n",
    "    def detokenize(tokens):\n",
    "        '''\n",
    "        '''\n",
    "        new_tokens = tokens\n",
    "\n",
    "        new_tokens = Detokenizer.__box_forward(new_tokens, '-LRB-', '(')\n",
    "        new_tokens = Detokenizer.__box_forward(new_tokens, '``', '\"')\n",
    "\n",
    "        new_tokens = Detokenizer.__box_backwards(new_tokens, '-RRB-', ')')\n",
    "        new_tokens = Detokenizer.__box_backwards(new_tokens, '\\'\\'', '\"')\n",
    "\n",
    "        new_tokens = Detokenizer.__switch(new_tokens, '--', '-')\n",
    "\n",
    "        detokenizer = Detok()\n",
    "        return detokenizer.detokenize(new_tokens)\n"
   ]
  },
  {
   "cell_type": "code",
   "execution_count": 88,
   "metadata": {},
   "outputs": [],
   "source": [
    "import ijson"
   ]
  },
  {
   "cell_type": "code",
   "execution_count": 90,
   "metadata": {},
   "outputs": [],
   "source": [
    "input_stream = open(r'C:\\Users\\jyellin\\re_1\\tacred\\data\\json\\test.json', encoding='utf-8')\n",
    "json_stream = ijson.items(input_stream, 'item')\n"
   ]
  },
  {
   "cell_type": "code",
   "execution_count": 92,
   "metadata": {},
   "outputs": [],
   "source": [
    "detokenizer = Detokenizer()"
   ]
  },
  {
   "cell_type": "code",
   "execution_count": 91,
   "metadata": {},
   "outputs": [],
   "source": [
    "item = next(filter(lambda item: item['id'] != '098f6a9e36f43025c645', json_stream))"
   ]
  },
  {
   "cell_type": "code",
   "execution_count": 93,
   "metadata": {},
   "outputs": [],
   "source": [
    "sentence = detokenizer.detokenize(item['token'])"
   ]
  },
  {
   "cell_type": "code",
   "execution_count": 94,
   "metadata": {},
   "outputs": [
    {
     "name": "stdout",
     "output_type": "stream",
     "text": [
      "He has served as a policy aide to the late U.S. Senator Alan Cranston, as National Issues Director for the 2004 presidential campaign of Congressman Dennis Kucinich, as a co-founder of Progressive Democrats of America and as a member of the international policy department at the RAND Corporation think tank before all that.\n"
     ]
    }
   ],
   "source": [
    "print(sentence)"
   ]
  },
  {
   "cell_type": "code",
   "execution_count": 95,
   "metadata": {},
   "outputs": [
    {
     "name": "stdout",
     "output_type": "stream",
     "text": [
      "33\n"
     ]
    }
   ],
   "source": [
    "print(item['subj_start'])"
   ]
  },
  {
   "cell_type": "code",
   "execution_count": 96,
   "metadata": {},
   "outputs": [
    {
     "name": "stdout",
     "output_type": "stream",
     "text": [
      "43\n"
     ]
    }
   ],
   "source": [
    "print(item['obj_start'])"
   ]
  },
  {
   "cell_type": "code",
   "execution_count": 97,
   "metadata": {},
   "outputs": [
    {
     "name": "stdout",
     "output_type": "stream",
     "text": [
      "/c/Users/jyellin/re_1/Code/path_to_re/path_to_re/notebooks\n"
     ]
    }
   ],
   "source": [
    "!pwd"
   ]
  },
  {
   "cell_type": "code",
   "execution_count": null,
   "metadata": {},
   "outputs": [],
   "source": []
  }
 ],
 "metadata": {
  "kernelspec": {
   "display_name": "Python 3",
   "language": "python",
   "name": "python3"
  },
  "language_info": {
   "codemirror_mode": {
    "name": "ipython",
    "version": 3
   },
   "file_extension": ".py",
   "mimetype": "text/x-python",
   "name": "python",
   "nbconvert_exporter": "python",
   "pygments_lexer": "ipython3",
   "version": "3.7.4"
  }
 },
 "nbformat": 4,
 "nbformat_minor": 2
}
