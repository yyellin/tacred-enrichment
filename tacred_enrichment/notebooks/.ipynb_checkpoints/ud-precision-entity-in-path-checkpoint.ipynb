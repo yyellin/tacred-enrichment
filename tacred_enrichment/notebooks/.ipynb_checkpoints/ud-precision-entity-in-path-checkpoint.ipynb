{
 "cells": [
  {
   "cell_type": "code",
   "execution_count": 1,
   "metadata": {},
   "outputs": [
    {
     "data": {
      "text/html": [
       "        <script type=\"text/javascript\">\n",
       "        window.PlotlyConfig = {MathJaxConfig: 'local'};\n",
       "        if (window.MathJax) {MathJax.Hub.Config({SVG: {font: \"STIX-Web\"}});}\n",
       "        if (typeof require !== 'undefined') {\n",
       "        require.undef(\"plotly\");\n",
       "        requirejs.config({\n",
       "            paths: {\n",
       "                'plotly': ['https://cdn.plot.ly/plotly-latest.min']\n",
       "            }\n",
       "        });\n",
       "        require(['plotly'], function(Plotly) {\n",
       "            window._Plotly = Plotly;\n",
       "        });\n",
       "        }\n",
       "        </script>\n",
       "        "
      ]
     },
     "metadata": {},
     "output_type": "display_data"
    }
   ],
   "source": [
    "from plotly.offline import download_plotlyjs, init_notebook_mode, plot, iplot\n",
    "init_notebook_mode(connected=True)"
   ]
  },
  {
   "cell_type": "code",
   "execution_count": 2,
   "metadata": {},
   "outputs": [],
   "source": [
    "import pandas\n",
    "\n",
    "train = pandas.read_csv(r'C:\\Users\\JYellin\\re_1\\tacred\\results\\general\\train-ucca_paths_v0.0.5.csv')\n",
    "test = pandas.read_csv(r'C:\\Users\\JYellin\\re_1\\tacred\\results\\general\\test-ucca_paths_v0.0.5.csv')"
   ]
  },
  {
   "cell_type": "code",
   "execution_count": 3,
   "metadata": {},
   "outputs": [],
   "source": [
    "def transform_row(r):\n",
    "    return '{entity1} {org_path} {entity2}'.format(entity1=r.type1[0:3], org_path=r.path, entity2=r.type2[0:3])\n",
    "\n",
    "train['path'] = train.apply(transform_row, axis=1)\n",
    "test['path'] = test.apply(transform_row, axis=1)"
   ]
  },
  {
   "cell_type": "code",
   "execution_count": 4,
   "metadata": {},
   "outputs": [],
   "source": [
    "relation_to_paths = train.groupby(['relation'])['path'].unique().to_dict()"
   ]
  },
  {
   "cell_type": "code",
   "execution_count": 5,
   "metadata": {},
   "outputs": [],
   "source": [
    "def label_sentence_recall(test_row, relation):\n",
    "    path = test_row['path']\n",
    "    true_relation = test_row['relation']\n",
    "    \n",
    "    if path in relation_to_paths[relation]:\n",
    "        if true_relation == relation:\n",
    "            return 'TP'\n",
    "        else:\n",
    "            return 'FP'\n",
    "    else:\n",
    "        return 'N'"
   ]
  },
  {
   "cell_type": "code",
   "execution_count": 6,
   "metadata": {},
   "outputs": [],
   "source": [
    "for relation in filter(lambda relation: relation != 'no_relation', relation_to_paths.keys()):\n",
    "    test[relation] = test.apply(lambda row : label_sentence_recall(row, relation), axis=1)    "
   ]
  },
  {
   "cell_type": "code",
   "execution_count": 7,
   "metadata": {},
   "outputs": [],
   "source": [
    "stats = []\n",
    "overall_tp = 0\n",
    "overall_fp = 0\n",
    "\n",
    "for relation in filter(lambda relation: relation != 'no_relation', relation_to_paths.keys()):\n",
    "\n",
    "    counts = test[relation].value_counts().to_dict()\n",
    "        \n",
    "    tp = counts.get('TP', 0)\n",
    "    fp = counts.get('FP', 0)\n",
    "    precision = tp / (tp+fp)\n",
    "\n",
    "    stats.append( (relation, round(precision,4)) )\n",
    "    \n",
    "    overall_tp += tp\n",
    "    overall_fp += fp\n",
    "    \n",
    "overall_precision = overall_tp / (overall_tp+overall_fp)\n",
    "\n",
    "    \n",
    "\n",
    "stats.append( ('overall', round(overall_precision,4)) )\n",
    "stats = sorted(stats, key=lambda x: x[1], reverse=True)"
   ]
  },
  {
   "cell_type": "code",
   "execution_count": 8,
   "metadata": {},
   "outputs": [
    {
     "data": {
      "application/vnd.plotly.v1+json": {
       "config": {
        "linkText": "Export to plot.ly",
        "plotlyServerURL": "https://plot.ly",
        "showLink": false
       },
       "data": [
        {
         "marker": {
          "color": [
           "rgb(58,200,225)",
           "rgb(58,200,225)",
           "rgb(58,200,225)",
           "rgb(58,200,225)",
           "rgb(58,200,225)",
           "rgb(58,200,225)",
           "rgb(58,200,225)",
           "rgb(58,200,225)",
           "rgb(58,200,225)",
           "rgb(58,200,225)",
           "rgb(58,200,225)",
           "rgb(58,200,225)",
           "rgb(58,200,225)",
           "rgb(58,200,225)",
           "rgb(58,200,225)",
           "rgb(58,200,225)",
           "rgb(58,200,225)",
           "rgb(58,200,225)",
           "rgb(181,59,89)",
           "rgb(58,200,225)",
           "rgb(58,200,225)",
           "rgb(58,200,225)",
           "rgb(58,200,225)",
           "rgb(58,200,225)",
           "rgb(58,200,225)",
           "rgb(58,200,225)",
           "rgb(58,200,225)",
           "rgb(58,200,225)",
           "rgb(58,200,225)",
           "rgb(58,200,225)",
           "rgb(58,200,225)",
           "rgb(58,200,225)",
           "rgb(58,200,225)",
           "rgb(58,200,225)",
           "rgb(58,200,225)",
           "rgb(58,200,225)",
           "rgb(58,200,225)",
           "rgb(58,200,225)",
           "rgb(58,200,225)",
           "rgb(58,200,225)",
           "rgb(58,200,225)",
           "rgb(58,200,225)"
          ],
          "line": {
           "color": "rgb(8,48,107)",
           "width": 0.5
          }
         },
         "name": "Precision",
         "opacity": 0.6,
         "type": "bar",
         "uid": "28828a83-521c-4eb8-b330-e00518be4355",
         "width": 0.5,
         "x": [
          "org:website",
          "per:charges",
          "per:title",
          "per:religion",
          "org:city_of_headquarters",
          "org:stateorprovince_of_headquarters",
          "per:stateorprovinces_of_residence",
          "org:country_of_headquarters",
          "per:age",
          "per:cities_of_residence",
          "org:top_members/employees",
          "per:cause_of_death",
          "per:employee_of",
          "per:origin",
          "org:alternate_names",
          "per:countries_of_residence",
          "org:political/religious_affiliation",
          "org:founded",
          "overall",
          "org:number_of_employees/members",
          "per:stateorprovince_of_birth",
          "per:date_of_death",
          "org:founded_by",
          "org:parents",
          "per:city_of_death",
          "per:schools_attended",
          "org:subsidiaries",
          "per:parents",
          "per:stateorprovince_of_death",
          "per:date_of_birth",
          "per:siblings",
          "per:country_of_birth",
          "per:spouse",
          "org:members",
          "per:city_of_birth",
          "per:other_family",
          "org:member_of",
          "per:children",
          "org:shareholders",
          "per:alternate_names",
          "org:dissolved",
          "per:country_of_death"
         ],
         "y": [
          0.7692,
          0.6296,
          0.6207,
          0.5278,
          0.5083,
          0.5,
          0.4492,
          0.4275,
          0.4054,
          0.3836,
          0.3776,
          0.3462,
          0.3185,
          0.2917,
          0.2805,
          0.2553,
          0.1765,
          0.1472,
          0.1225,
          0.1148,
          0.093,
          0.0928,
          0.0796,
          0.0741,
          0.0559,
          0.0455,
          0.0408,
          0.0359,
          0.0278,
          0.027,
          0.0251,
          0.0244,
          0.0196,
          0.0183,
          0.018,
          0.0169,
          0.012,
          0.0084,
          0.0051,
          0.0044,
          0,
          0
         ]
        }
       ],
       "layout": {
        "barmode": "overlay",
        "title": {
         "text": "UCCA Path with Entity Type - Precision"
        },
        "width": 1200,
        "xaxis": {
         "automargin": true,
         "tickangle": 45,
         "title": {
          "text": "Relation"
         }
        },
        "yaxis": {
         "title": {
          "text": "Precision "
         }
        }
       }
      },
      "text/html": [
       "<div>\n",
       "        \n",
       "        \n",
       "            <div id=\"ed891fe7-61d1-4d36-a289-58f560c74c26\" class=\"plotly-graph-div\" style=\"height:525px; width:1200px;\"></div>\n",
       "            <script type=\"text/javascript\">\n",
       "                require([\"plotly\"], function(Plotly) {\n",
       "                    window.PLOTLYENV=window.PLOTLYENV || {};\n",
       "                    window.PLOTLYENV.BASE_URL='https://plot.ly';\n",
       "                    \n",
       "                if (document.getElementById(\"ed891fe7-61d1-4d36-a289-58f560c74c26\")) {\n",
       "                    Plotly.newPlot(\n",
       "                        'ed891fe7-61d1-4d36-a289-58f560c74c26',\n",
       "                        [{\"marker\": {\"color\": [\"rgb(58,200,225)\", \"rgb(58,200,225)\", \"rgb(58,200,225)\", \"rgb(58,200,225)\", \"rgb(58,200,225)\", \"rgb(58,200,225)\", \"rgb(58,200,225)\", \"rgb(58,200,225)\", \"rgb(58,200,225)\", \"rgb(58,200,225)\", \"rgb(58,200,225)\", \"rgb(58,200,225)\", \"rgb(58,200,225)\", \"rgb(58,200,225)\", \"rgb(58,200,225)\", \"rgb(58,200,225)\", \"rgb(58,200,225)\", \"rgb(58,200,225)\", \"rgb(181,59,89)\", \"rgb(58,200,225)\", \"rgb(58,200,225)\", \"rgb(58,200,225)\", \"rgb(58,200,225)\", \"rgb(58,200,225)\", \"rgb(58,200,225)\", \"rgb(58,200,225)\", \"rgb(58,200,225)\", \"rgb(58,200,225)\", \"rgb(58,200,225)\", \"rgb(58,200,225)\", \"rgb(58,200,225)\", \"rgb(58,200,225)\", \"rgb(58,200,225)\", \"rgb(58,200,225)\", \"rgb(58,200,225)\", \"rgb(58,200,225)\", \"rgb(58,200,225)\", \"rgb(58,200,225)\", \"rgb(58,200,225)\", \"rgb(58,200,225)\", \"rgb(58,200,225)\", \"rgb(58,200,225)\"], \"line\": {\"color\": \"rgb(8,48,107)\", \"width\": 0.5}}, \"name\": \"Precision\", \"opacity\": 0.6, \"type\": \"bar\", \"uid\": \"28828a83-521c-4eb8-b330-e00518be4355\", \"width\": 0.5, \"x\": [\"org:website\", \"per:charges\", \"per:title\", \"per:religion\", \"org:city_of_headquarters\", \"org:stateorprovince_of_headquarters\", \"per:stateorprovinces_of_residence\", \"org:country_of_headquarters\", \"per:age\", \"per:cities_of_residence\", \"org:top_members/employees\", \"per:cause_of_death\", \"per:employee_of\", \"per:origin\", \"org:alternate_names\", \"per:countries_of_residence\", \"org:political/religious_affiliation\", \"org:founded\", \"overall\", \"org:number_of_employees/members\", \"per:stateorprovince_of_birth\", \"per:date_of_death\", \"org:founded_by\", \"org:parents\", \"per:city_of_death\", \"per:schools_attended\", \"org:subsidiaries\", \"per:parents\", \"per:stateorprovince_of_death\", \"per:date_of_birth\", \"per:siblings\", \"per:country_of_birth\", \"per:spouse\", \"org:members\", \"per:city_of_birth\", \"per:other_family\", \"org:member_of\", \"per:children\", \"org:shareholders\", \"per:alternate_names\", \"org:dissolved\", \"per:country_of_death\"], \"y\": [0.7692, 0.6296, 0.6207, 0.5278, 0.5083, 0.5, 0.4492, 0.4275, 0.4054, 0.3836, 0.3776, 0.3462, 0.3185, 0.2917, 0.2805, 0.2553, 0.1765, 0.1472, 0.1225, 0.1148, 0.093, 0.0928, 0.0796, 0.0741, 0.0559, 0.0455, 0.0408, 0.0359, 0.0278, 0.027, 0.0251, 0.0244, 0.0196, 0.0183, 0.018, 0.0169, 0.012, 0.0084, 0.0051, 0.0044, 0.0, 0.0]}],\n",
       "                        {\"barmode\": \"overlay\", \"title\": {\"text\": \"UCCA Path with Entity Type - Precision\"}, \"width\": 1200, \"xaxis\": {\"automargin\": true, \"tickangle\": 45, \"title\": {\"text\": \"Relation\"}}, \"yaxis\": {\"title\": {\"text\": \"Precision \"}}},\n",
       "                        {\"showLink\": false, \"linkText\": \"Export to plot.ly\", \"plotlyServerURL\": \"https://plot.ly\", \"responsive\": true}\n",
       "                    ).then(function(){\n",
       "                            \n",
       "var gd = document.getElementById('ed891fe7-61d1-4d36-a289-58f560c74c26');\n",
       "var x = new MutationObserver(function (mutations, observer) {{\n",
       "        var display = window.getComputedStyle(gd).display;\n",
       "        if (!display || display === 'none') {{\n",
       "            console.log([gd, 'removed!']);\n",
       "            Plotly.purge(gd);\n",
       "            observer.disconnect();\n",
       "        }}\n",
       "}});\n",
       "\n",
       "// Listen for the removal of the full notebook cells\n",
       "var notebookContainer = gd.closest('#notebook-container');\n",
       "if (notebookContainer) {{\n",
       "    x.observe(notebookContainer, {childList: true});\n",
       "}}\n",
       "\n",
       "// Listen for the clearing of the current output cell\n",
       "var outputEl = gd.closest('.output');\n",
       "if (outputEl) {{\n",
       "    x.observe(outputEl, {childList: true});\n",
       "}}\n",
       "\n",
       "                        })\n",
       "                };\n",
       "                });\n",
       "            </script>\n",
       "        </div>"
      ]
     },
     "metadata": {},
     "output_type": "display_data"
    }
   ],
   "source": [
    "import plotly.graph_objs as go\n",
    "\n",
    "overall_index = next(i for (i, (relation, score)) in enumerate(stats) if relation == 'overall')\n",
    "\n",
    "colors = ['rgb(58,200,225)'] * len(stats)\n",
    "colors[overall_index] = 'rgb(181,59,89)'\n",
    "\n",
    "\n",
    "trace1 = go.Bar(\n",
    "    x=[stat[0] for stat in stats],\n",
    "    y=[stat[1] for stat in stats],\n",
    "    name='Precision',\n",
    "    width=0.5,\n",
    "    marker=dict(\n",
    "        color=colors,\n",
    "        line=dict(\n",
    "            color='rgb(8,48,107)',\n",
    "            width=0.5),\n",
    "        ),\n",
    "    opacity=0.6\n",
    ")\n",
    "\n",
    "data = [trace1]\n",
    "layout = go.Layout(\n",
    "    title='UCCA Path with Entity Type - Precision',\n",
    "    xaxis_title=\"Relation\",\n",
    "    yaxis_title=\"Precision \",        \n",
    "    barmode='overlay',\n",
    "    width=1200,\n",
    "    xaxis = go.layout.XAxis(\n",
    "        tickangle = 45,\n",
    "        automargin = True\n",
    "        \n",
    "    )\n",
    "    \n",
    "        \n",
    ")\n",
    "\n",
    "fig = go.Figure(data=data, layout=layout)\n",
    "iplot(fig)"
   ]
  },
  {
   "cell_type": "code",
   "execution_count": null,
   "metadata": {},
   "outputs": [],
   "source": []
  }
 ],
 "metadata": {
  "kernelspec": {
   "display_name": "Python 3",
   "language": "python",
   "name": "python3"
  },
  "language_info": {
   "codemirror_mode": {
    "name": "ipython",
    "version": 3
   },
   "file_extension": ".py",
   "mimetype": "text/x-python",
   "name": "python",
   "nbconvert_exporter": "python",
   "pygments_lexer": "ipython3",
   "version": "3.7.6"
  }
 },
 "nbformat": 4,
 "nbformat_minor": 2
}
