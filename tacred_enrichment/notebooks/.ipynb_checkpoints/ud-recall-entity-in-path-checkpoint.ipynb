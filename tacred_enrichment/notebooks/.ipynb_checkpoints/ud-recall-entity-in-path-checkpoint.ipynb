{
 "cells": [
  {
   "cell_type": "code",
   "execution_count": 1,
   "metadata": {},
   "outputs": [
    {
     "data": {
      "text/html": [
       "        <script type=\"text/javascript\">\n",
       "        window.PlotlyConfig = {MathJaxConfig: 'local'};\n",
       "        if (window.MathJax) {MathJax.Hub.Config({SVG: {font: \"STIX-Web\"}});}\n",
       "        if (typeof require !== 'undefined') {\n",
       "        require.undef(\"plotly\");\n",
       "        requirejs.config({\n",
       "            paths: {\n",
       "                'plotly': ['https://cdn.plot.ly/plotly-latest.min']\n",
       "            }\n",
       "        });\n",
       "        require(['plotly'], function(Plotly) {\n",
       "            window._Plotly = Plotly;\n",
       "        });\n",
       "        }\n",
       "        </script>\n",
       "        "
      ]
     },
     "metadata": {},
     "output_type": "display_data"
    }
   ],
   "source": [
    "from plotly.offline import download_plotlyjs, init_notebook_mode, plot, iplot\n",
    "init_notebook_mode(connected=True)"
   ]
  },
  {
   "cell_type": "code",
   "execution_count": 2,
   "metadata": {},
   "outputs": [],
   "source": [
    "import pandas\n",
    "\n",
    "train = pandas.read_csv(r'C:\\Users\\JYellin\\re_1\\tacred\\results\\general\\train-ud_paths_v0.0.5.csv')\n",
    "test = pandas.read_csv(r'C:\\Users\\JYellin\\re_1\\tacred\\results\\general\\test-ud_paths_v0.0.5.csv')\n",
    "\n",
    "# no point to consider 'no_relation' sentences when considering recall ,,,\n",
    "train = train[ train['relation'] != 'no_relation']\n",
    "test = test[ test['relation'] != 'no_relation']\n"
   ]
  },
  {
   "cell_type": "code",
   "execution_count": 3,
   "metadata": {},
   "outputs": [],
   "source": [
    "test_total_by_r_and_p = test.groupby(['relation','path'])['id'].count().reset_index().rename(columns={'id': 'total'}).sort_values(['relation','total'], ascending=[False,False]).reset_index(drop=True)\n",
    "train_total_by_r_and_p = train.groupby(['relation','path'])['id'].count().reset_index().rename(columns={'id': 'total'}).sort_values(['relation','total'], ascending=[True,False]).reset_index(drop=True)\n",
    "train_total_by_p = train.groupby(['path'])['id'].count().reset_index().rename(columns={'id': 'total'}).sort_values(['total'], ascending=[False]).reset_index(drop=True)\n"
   ]
  },
  {
   "cell_type": "code",
   "execution_count": 4,
   "metadata": {},
   "outputs": [],
   "source": [
    "def label_count_in_train_across_relations(test_row):\n",
    "    path = test_row['path']\n",
    "\n",
    "    train_row = train_total_by_p.loc[train_total_by_p['path'] == path]\n",
    "    if train_row.empty:\n",
    "        return 0\n",
    "    else:\n",
    "        compare  = train_row.values[0][1]\n",
    "        return compare\n",
    "\n",
    "def label_count_in_train_by_relation(test_row):\n",
    "    relation = test_row['relation']\n",
    "    path = test_row['path']\n",
    "\n",
    "    train_row = train_total_by_r_and_p.loc[\n",
    "        (train_total_by_r_and_p['relation'] == relation) & \n",
    "        (train_total_by_r_and_p['path'] == path)]\n",
    "    if train_row.empty:\n",
    "        return 0\n",
    "    else:\n",
    "        compare  = train_row.values[0][2]\n",
    "        return compare\n",
    "\n",
    "test_total_by_r_and_p['total-for-relation'] = test_total_by_r_and_p.apply(lambda row : label_count_in_train_by_relation(row), axis=1)\n",
    "test_total_by_r_and_p['total-across-relations'] = test_total_by_r_and_p.apply(lambda row : label_count_in_train_across_relations(row), axis=1)"
   ]
  },
  {
   "cell_type": "code",
   "execution_count": 7,
   "metadata": {},
   "outputs": [],
   "source": [
    "stats = []\n",
    "relations = train_total_by_r_and_p['relation'].unique().tolist()\n",
    "for relation in relations:\n",
    "    \n",
    "    df = test_total_by_r_and_p[test_total_by_r_and_p['relation']==relation]\n",
    "    \n",
    "    matched = sum(df[df['total-for-relation']>0]['total'].to_list())\n",
    "    total = sum(df['total'].to_list())\n",
    "    \n",
    "    stats.append( (relation, round(matched/total,4) ) )\n",
    "\n",
    "    \n",
    "overal_matched = sum(test_total_by_r_and_p[test_total_by_r_and_p['total-for-relation']>0]['total'].to_list())\n",
    "overal_total = sum(test_total_by_r_and_p['total'].to_list())\n",
    "\n",
    "stats.insert(0, ('overall', round(overal_matched/overal_total,4) ) )\n",
    "stats = sorted(stats, key=lambda x: x[1], reverse=True)"
   ]
  },
  {
   "cell_type": "code",
   "execution_count": 8,
   "metadata": {},
   "outputs": [
    {
     "data": {
      "application/vnd.plotly.v1+json": {
       "config": {
        "linkText": "Export to plot.ly",
        "plotlyServerURL": "https://plot.ly",
        "showLink": false
       },
       "data": [
        {
         "marker": {
          "color": [
           "rgb(58,200,225)",
           "rgb(58,200,225)",
           "rgb(58,200,225)",
           "rgb(58,200,225)",
           "rgb(58,200,225)",
           "rgb(58,200,225)",
           "rgb(58,200,225)",
           "rgb(181,59,89)",
           "rgb(58,200,225)",
           "rgb(58,200,225)",
           "rgb(58,200,225)",
           "rgb(58,200,225)",
           "rgb(58,200,225)",
           "rgb(58,200,225)",
           "rgb(58,200,225)",
           "rgb(58,200,225)",
           "rgb(58,200,225)",
           "rgb(58,200,225)",
           "rgb(58,200,225)",
           "rgb(58,200,225)",
           "rgb(58,200,225)",
           "rgb(58,200,225)",
           "rgb(58,200,225)",
           "rgb(58,200,225)",
           "rgb(58,200,225)",
           "rgb(58,200,225)",
           "rgb(58,200,225)",
           "rgb(58,200,225)",
           "rgb(58,200,225)",
           "rgb(58,200,225)",
           "rgb(58,200,225)",
           "rgb(58,200,225)",
           "rgb(58,200,225)",
           "rgb(58,200,225)",
           "rgb(58,200,225)",
           "rgb(58,200,225)",
           "rgb(58,200,225)",
           "rgb(58,200,225)",
           "rgb(58,200,225)",
           "rgb(58,200,225)",
           "rgb(58,200,225)",
           "rgb(58,200,225)"
          ],
          "line": {
           "color": "rgb(8,48,107)",
           "width": 0.5
          }
         },
         "name": "Recall",
         "opacity": 0.6,
         "type": "bar",
         "uid": "964e6c45-2752-445a-9288-a041fc063ff1",
         "width": 0.5,
         "x": [
          "org:alternate_names",
          "per:age",
          "org:top_members/employees",
          "per:title",
          "per:date_of_birth",
          "per:children",
          "org:city_of_headquarters",
          "overall",
          "org:website",
          "org:founded",
          "per:stateorprovince_of_birth",
          "per:origin",
          "per:employee_of",
          "per:spouse",
          "org:political/religious_affiliation",
          "per:parents",
          "per:other_family",
          "org:founded_by",
          "per:schools_attended",
          "org:subsidiaries",
          "org:stateorprovince_of_headquarters",
          "org:number_of_employees/members",
          "per:city_of_birth",
          "per:siblings",
          "org:country_of_headquarters",
          "per:cities_of_residence",
          "per:countries_of_residence",
          "per:city_of_death",
          "per:stateorprovince_of_death",
          "per:stateorprovinces_of_residence",
          "org:parents",
          "per:date_of_death",
          "per:religion",
          "per:charges",
          "per:cause_of_death",
          "org:member_of",
          "org:members",
          "org:dissolved",
          "org:shareholders",
          "per:alternate_names",
          "per:country_of_birth",
          "per:country_of_death"
         ],
         "y": [
          0.7028,
          0.69,
          0.6754,
          0.606,
          0.5556,
          0.4054,
          0.4024,
          0.3849,
          0.3846,
          0.3784,
          0.375,
          0.3333,
          0.3118,
          0.303,
          0.3,
          0.2841,
          0.2667,
          0.2353,
          0.2333,
          0.2273,
          0.2157,
          0.2105,
          0.2,
          0.2,
          0.1944,
          0.1905,
          0.1622,
          0.1429,
          0.1429,
          0.1235,
          0.1129,
          0.1111,
          0.0851,
          0.0588,
          0.0577,
          0.0556,
          0.0323,
          0,
          0,
          0,
          0,
          0
         ]
        }
       ],
       "layout": {
        "barmode": "overlay",
        "title": {
         "text": "UD Path - Recall"
        },
        "width": 1200,
        "xaxis": {
         "automargin": true,
         "tickangle": 45,
         "title": {
          "text": "Relation"
         }
        },
        "yaxis": {
         "title": {
          "text": "Recall"
         }
        }
       }
      },
      "text/html": [
       "<div>\n",
       "        \n",
       "        \n",
       "            <div id=\"1c6d10f2-c668-49b9-90f0-b15de38b4b56\" class=\"plotly-graph-div\" style=\"height:525px; width:1200px;\"></div>\n",
       "            <script type=\"text/javascript\">\n",
       "                require([\"plotly\"], function(Plotly) {\n",
       "                    window.PLOTLYENV=window.PLOTLYENV || {};\n",
       "                    window.PLOTLYENV.BASE_URL='https://plot.ly';\n",
       "                    \n",
       "                if (document.getElementById(\"1c6d10f2-c668-49b9-90f0-b15de38b4b56\")) {\n",
       "                    Plotly.newPlot(\n",
       "                        '1c6d10f2-c668-49b9-90f0-b15de38b4b56',\n",
       "                        [{\"marker\": {\"color\": [\"rgb(58,200,225)\", \"rgb(58,200,225)\", \"rgb(58,200,225)\", \"rgb(58,200,225)\", \"rgb(58,200,225)\", \"rgb(58,200,225)\", \"rgb(58,200,225)\", \"rgb(181,59,89)\", \"rgb(58,200,225)\", \"rgb(58,200,225)\", \"rgb(58,200,225)\", \"rgb(58,200,225)\", \"rgb(58,200,225)\", \"rgb(58,200,225)\", \"rgb(58,200,225)\", \"rgb(58,200,225)\", \"rgb(58,200,225)\", \"rgb(58,200,225)\", \"rgb(58,200,225)\", \"rgb(58,200,225)\", \"rgb(58,200,225)\", \"rgb(58,200,225)\", \"rgb(58,200,225)\", \"rgb(58,200,225)\", \"rgb(58,200,225)\", \"rgb(58,200,225)\", \"rgb(58,200,225)\", \"rgb(58,200,225)\", \"rgb(58,200,225)\", \"rgb(58,200,225)\", \"rgb(58,200,225)\", \"rgb(58,200,225)\", \"rgb(58,200,225)\", \"rgb(58,200,225)\", \"rgb(58,200,225)\", \"rgb(58,200,225)\", \"rgb(58,200,225)\", \"rgb(58,200,225)\", \"rgb(58,200,225)\", \"rgb(58,200,225)\", \"rgb(58,200,225)\", \"rgb(58,200,225)\"], \"line\": {\"color\": \"rgb(8,48,107)\", \"width\": 0.5}}, \"name\": \"Recall\", \"opacity\": 0.6, \"type\": \"bar\", \"uid\": \"964e6c45-2752-445a-9288-a041fc063ff1\", \"width\": 0.5, \"x\": [\"org:alternate_names\", \"per:age\", \"org:top_members/employees\", \"per:title\", \"per:date_of_birth\", \"per:children\", \"org:city_of_headquarters\", \"overall\", \"org:website\", \"org:founded\", \"per:stateorprovince_of_birth\", \"per:origin\", \"per:employee_of\", \"per:spouse\", \"org:political/religious_affiliation\", \"per:parents\", \"per:other_family\", \"org:founded_by\", \"per:schools_attended\", \"org:subsidiaries\", \"org:stateorprovince_of_headquarters\", \"org:number_of_employees/members\", \"per:city_of_birth\", \"per:siblings\", \"org:country_of_headquarters\", \"per:cities_of_residence\", \"per:countries_of_residence\", \"per:city_of_death\", \"per:stateorprovince_of_death\", \"per:stateorprovinces_of_residence\", \"org:parents\", \"per:date_of_death\", \"per:religion\", \"per:charges\", \"per:cause_of_death\", \"org:member_of\", \"org:members\", \"org:dissolved\", \"org:shareholders\", \"per:alternate_names\", \"per:country_of_birth\", \"per:country_of_death\"], \"y\": [0.7028, 0.69, 0.6754, 0.606, 0.5556, 0.4054, 0.4024, 0.3849, 0.3846, 0.3784, 0.375, 0.3333, 0.3118, 0.303, 0.3, 0.2841, 0.2667, 0.2353, 0.2333, 0.2273, 0.2157, 0.2105, 0.2, 0.2, 0.1944, 0.1905, 0.1622, 0.1429, 0.1429, 0.1235, 0.1129, 0.1111, 0.0851, 0.0588, 0.0577, 0.0556, 0.0323, 0.0, 0.0, 0.0, 0.0, 0.0]}],\n",
       "                        {\"barmode\": \"overlay\", \"title\": {\"text\": \"UD Path - Recall\"}, \"width\": 1200, \"xaxis\": {\"automargin\": true, \"tickangle\": 45, \"title\": {\"text\": \"Relation\"}}, \"yaxis\": {\"title\": {\"text\": \"Recall\"}}},\n",
       "                        {\"showLink\": false, \"linkText\": \"Export to plot.ly\", \"plotlyServerURL\": \"https://plot.ly\", \"responsive\": true}\n",
       "                    ).then(function(){\n",
       "                            \n",
       "var gd = document.getElementById('1c6d10f2-c668-49b9-90f0-b15de38b4b56');\n",
       "var x = new MutationObserver(function (mutations, observer) {{\n",
       "        var display = window.getComputedStyle(gd).display;\n",
       "        if (!display || display === 'none') {{\n",
       "            console.log([gd, 'removed!']);\n",
       "            Plotly.purge(gd);\n",
       "            observer.disconnect();\n",
       "        }}\n",
       "}});\n",
       "\n",
       "// Listen for the removal of the full notebook cells\n",
       "var notebookContainer = gd.closest('#notebook-container');\n",
       "if (notebookContainer) {{\n",
       "    x.observe(notebookContainer, {childList: true});\n",
       "}}\n",
       "\n",
       "// Listen for the clearing of the current output cell\n",
       "var outputEl = gd.closest('.output');\n",
       "if (outputEl) {{\n",
       "    x.observe(outputEl, {childList: true});\n",
       "}}\n",
       "\n",
       "                        })\n",
       "                };\n",
       "                });\n",
       "            </script>\n",
       "        </div>"
      ]
     },
     "metadata": {},
     "output_type": "display_data"
    }
   ],
   "source": [
    "import plotly.graph_objs as go\n",
    "\n",
    "\n",
    "overall_index = next(i for (i, stat) in enumerate(stats) if stat[0] == 'overall')\n",
    "\n",
    "colors = ['rgb(58,200,225)'] * len(stats)\n",
    "colors[overall_index] = 'rgb(181,59,89)'\n",
    "\n",
    "\n",
    "trace = go.Bar(\n",
    "    x=[stat[0] for stat in stats],\n",
    "    y=[stat[1] for stat in stats],\n",
    "    name='Recall',\n",
    "    width=0.5,\n",
    "    marker=dict(\n",
    "        color=colors,\n",
    "        line=dict(\n",
    "            color='rgb(8,48,107)',\n",
    "            width=0.5),\n",
    "        ),\n",
    "    opacity=0.6\n",
    ")\n",
    "\n",
    "data = [trace]\n",
    "layout = go.Layout(\n",
    "    title='UD Path - Recall',\n",
    "    xaxis_title=\"Relation\",\n",
    "    yaxis_title=\"Recall\",        \n",
    "    barmode='overlay',\n",
    "    width=1200,\n",
    "    xaxis = go.layout.XAxis(\n",
    "        tickangle = 45,\n",
    "        automargin = True\n",
    "        \n",
    "    )\n",
    "    \n",
    "        \n",
    ")\n",
    "\n",
    "fig = go.Figure(data=data, layout=layout)\n",
    "iplot(fig)"
   ]
  },
  {
   "cell_type": "code",
   "execution_count": 9,
   "metadata": {},
   "outputs": [
    {
     "data": {
      "text/plain": [
       "[('org:alternate_names', 0.7028),\n",
       " ('per:age', 0.69),\n",
       " ('org:top_members/employees', 0.6754),\n",
       " ('per:title', 0.606),\n",
       " ('per:date_of_birth', 0.5556),\n",
       " ('per:children', 0.4054),\n",
       " ('org:city_of_headquarters', 0.4024),\n",
       " ('overall', 0.3849),\n",
       " ('org:website', 0.3846),\n",
       " ('org:founded', 0.3784),\n",
       " ('per:stateorprovince_of_birth', 0.375),\n",
       " ('per:origin', 0.3333),\n",
       " ('per:employee_of', 0.3118),\n",
       " ('per:spouse', 0.303),\n",
       " ('org:political/religious_affiliation', 0.3),\n",
       " ('per:parents', 0.2841),\n",
       " ('per:other_family', 0.2667),\n",
       " ('org:founded_by', 0.2353),\n",
       " ('per:schools_attended', 0.2333),\n",
       " ('org:subsidiaries', 0.2273),\n",
       " ('org:stateorprovince_of_headquarters', 0.2157),\n",
       " ('org:number_of_employees/members', 0.2105),\n",
       " ('per:city_of_birth', 0.2),\n",
       " ('per:siblings', 0.2),\n",
       " ('org:country_of_headquarters', 0.1944),\n",
       " ('per:cities_of_residence', 0.1905),\n",
       " ('per:countries_of_residence', 0.1622),\n",
       " ('per:city_of_death', 0.1429),\n",
       " ('per:stateorprovince_of_death', 0.1429),\n",
       " ('per:stateorprovinces_of_residence', 0.1235),\n",
       " ('org:parents', 0.1129),\n",
       " ('per:date_of_death', 0.1111),\n",
       " ('per:religion', 0.0851),\n",
       " ('per:charges', 0.0588),\n",
       " ('per:cause_of_death', 0.0577),\n",
       " ('org:member_of', 0.0556),\n",
       " ('org:members', 0.0323),\n",
       " ('org:dissolved', 0.0),\n",
       " ('org:shareholders', 0.0),\n",
       " ('per:alternate_names', 0.0),\n",
       " ('per:country_of_birth', 0.0),\n",
       " ('per:country_of_death', 0.0)]"
      ]
     },
     "execution_count": 9,
     "metadata": {},
     "output_type": "execute_result"
    }
   ],
   "source": [
    "stats"
   ]
  },
  {
   "cell_type": "code",
   "execution_count": null,
   "metadata": {},
   "outputs": [],
   "source": []
  }
 ],
 "metadata": {
  "kernelspec": {
   "display_name": "Python 3",
   "language": "python",
   "name": "python3"
  },
  "language_info": {
   "codemirror_mode": {
    "name": "ipython",
    "version": 3
   },
   "file_extension": ".py",
   "mimetype": "text/x-python",
   "name": "python",
   "nbconvert_exporter": "python",
   "pygments_lexer": "ipython3",
   "version": "3.7.6"
  }
 },
 "nbformat": 4,
 "nbformat_minor": 2
}
