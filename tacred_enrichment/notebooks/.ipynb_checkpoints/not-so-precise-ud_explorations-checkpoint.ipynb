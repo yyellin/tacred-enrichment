{
 "cells": [
  {
   "cell_type": "code",
   "execution_count": 1,
   "metadata": {},
   "outputs": [],
   "source": [
    "import numpy\n",
    "import pandas\n",
    "\n",
    "train_ud = pandas.read_csv(r'C:\\Users\\JYellin\\re_1\\tacred\\results\\general\\train-ud_paths_per_relation_no_relation_with_tokens.csv')\n",
    "test_ud = pandas.read_csv(r'C:\\Users\\JYellin\\re_1\\tacred\\results\\general\\test-ud_paths_per_relation_no_relation_with_tokens.csv')\n"
   ]
  },
  {
   "cell_type": "code",
   "execution_count": 29,
   "metadata": {},
   "outputs": [
    {
     "name": "stdout",
     "output_type": "stream",
     "text": [
      "Relation org:founded_by: type1 = ['ORGANIZATION']; types2 = ['PERSON']\n",
      "Relation no_relation: type1 = ['PERSON', 'ORGANIZATION']; types2 = ['PERSON', 'ORGANIZATION', 'NUMBER', 'DATE', 'NATIONALITY', 'LOCATION', 'TITLE', 'MISC', 'COUNTRY', 'CRIMINAL_CHARGE', 'CITY', 'DURATION', 'RELIGION', 'IDEOLOGY', 'CAUSE_OF_DEATH', 'STATE_OR_PROVINCE', 'URL']\n",
      "Relation per:employee_of: type1 = ['PERSON']; types2 = ['ORGANIZATION', 'LOCATION']\n",
      "Relation org:alternate_names: type1 = ['ORGANIZATION']; types2 = ['ORGANIZATION', 'MISC']\n",
      "Relation per:cities_of_residence: type1 = ['PERSON']; types2 = ['CITY', 'LOCATION']\n",
      "Relation per:children: type1 = ['PERSON']; types2 = ['PERSON']\n",
      "Relation per:title: type1 = ['PERSON']; types2 = ['TITLE']\n",
      "Relation per:siblings: type1 = ['PERSON']; types2 = ['PERSON']\n",
      "Relation per:religion: type1 = ['PERSON']; types2 = ['RELIGION']\n",
      "Relation per:age: type1 = ['PERSON']; types2 = ['NUMBER', 'DURATION']\n",
      "Relation org:website: type1 = ['ORGANIZATION']; types2 = ['URL']\n",
      "Relation per:stateorprovinces_of_residence: type1 = ['PERSON']; types2 = ['STATE_OR_PROVINCE', 'LOCATION']\n",
      "Relation org:member_of: type1 = ['ORGANIZATION']; types2 = ['ORGANIZATION', 'LOCATION', 'COUNTRY', 'STATE_OR_PROVINCE']\n",
      "Relation org:top_members/employees: type1 = ['ORGANIZATION']; types2 = ['PERSON']\n",
      "Relation per:countries_of_residence: type1 = ['PERSON']; types2 = ['COUNTRY', 'NATIONALITY', 'LOCATION']\n",
      "Relation org:city_of_headquarters: type1 = ['ORGANIZATION']; types2 = ['CITY', 'LOCATION']\n",
      "Relation org:members: type1 = ['ORGANIZATION']; types2 = ['ORGANIZATION', 'COUNTRY']\n",
      "Relation org:country_of_headquarters: type1 = ['ORGANIZATION']; types2 = ['COUNTRY', 'LOCATION']\n",
      "Relation per:spouse: type1 = ['PERSON']; types2 = ['PERSON']\n",
      "Relation org:stateorprovince_of_headquarters: type1 = ['ORGANIZATION']; types2 = ['STATE_OR_PROVINCE', 'LOCATION']\n",
      "Relation org:number_of_employees/members: type1 = ['ORGANIZATION']; types2 = ['NUMBER']\n",
      "Relation org:parents: type1 = ['ORGANIZATION']; types2 = ['ORGANIZATION', 'COUNTRY', 'STATE_OR_PROVINCE', 'LOCATION']\n",
      "Relation org:subsidiaries: type1 = ['ORGANIZATION']; types2 = ['ORGANIZATION', 'LOCATION', 'COUNTRY']\n",
      "Relation per:origin: type1 = ['PERSON']; types2 = ['COUNTRY', 'NATIONALITY', 'LOCATION']\n",
      "Relation org:political/religious_affiliation: type1 = ['ORGANIZATION']; types2 = ['RELIGION', 'IDEOLOGY']\n",
      "Relation per:other_family: type1 = ['PERSON']; types2 = ['PERSON']\n",
      "Relation per:stateorprovince_of_birth: type1 = ['PERSON']; types2 = ['STATE_OR_PROVINCE']\n",
      "Relation org:dissolved: type1 = ['ORGANIZATION']; types2 = ['DATE']\n",
      "Relation per:date_of_death: type1 = ['PERSON']; types2 = ['DATE']\n",
      "Relation org:shareholders: type1 = ['ORGANIZATION']; types2 = ['PERSON', 'ORGANIZATION']\n",
      "Relation per:alternate_names: type1 = ['PERSON']; types2 = ['PERSON', 'MISC']\n",
      "Relation per:parents: type1 = ['PERSON']; types2 = ['PERSON']\n",
      "Relation per:schools_attended: type1 = ['PERSON']; types2 = ['ORGANIZATION']\n",
      "Relation per:cause_of_death: type1 = ['PERSON']; types2 = ['CAUSE_OF_DEATH']\n",
      "Relation per:city_of_death: type1 = ['PERSON']; types2 = ['CITY', 'LOCATION']\n",
      "Relation per:stateorprovince_of_death: type1 = ['PERSON']; types2 = ['STATE_OR_PROVINCE', 'LOCATION']\n",
      "Relation org:founded: type1 = ['ORGANIZATION']; types2 = ['DATE']\n",
      "Relation per:country_of_birth: type1 = ['PERSON']; types2 = ['COUNTRY', 'LOCATION', 'NATIONALITY']\n",
      "Relation per:date_of_birth: type1 = ['PERSON']; types2 = ['DATE']\n",
      "Relation per:city_of_birth: type1 = ['PERSON']; types2 = ['CITY', 'LOCATION']\n",
      "Relation per:charges: type1 = ['PERSON']; types2 = ['CRIMINAL_CHARGE']\n",
      "Relation per:country_of_death: type1 = ['PERSON']; types2 = ['COUNTRY', 'NATIONALITY', 'LOCATION']\n"
     ]
    }
   ],
   "source": [
    "relations = train_ud['relation'].unique().tolist()\n",
    "\n",
    "for relation in relations:\n",
    "    type1 = train_ud[train_ud['relation'] == relation]['type1'].unique().tolist()\n",
    "    type2 = train_ud[train_ud['relation'] == relation]['type2'].unique().tolist()\n",
    "    print('Relation {}: type1 = {}; types2 = {}'.format(relation, type1, type2))"
   ]
  },
  {
   "cell_type": "code",
   "execution_count": 21,
   "metadata": {},
   "outputs": [
    {
     "data": {
      "text/plain": [
       "['CRIMINAL_CHARGE']"
      ]
     },
     "execution_count": 21,
     "metadata": {},
     "output_type": "execute_result"
    }
   ],
   "source": [
    "look"
   ]
  },
  {
   "cell_type": "code",
   "execution_count": 58,
   "metadata": {},
   "outputs": [],
   "source": [
    "path_counts = train_ud[train_ud['relation']!='no_relation'].groupby(['path'])['id'].count().reset_index().rename(columns={'id': 'total'}).sort_values(['total'], ascending=[False]).reset_index(drop=True)\n",
    "relation_counts = train_ud[train_ud['relation']!='no_relation'].groupby(['relation'])['id'].count().reset_index().rename(columns={'id': 'total'}).sort_values(['total'], ascending=[False]).reset_index(drop=True)"
   ]
  },
  {
   "cell_type": "code",
   "execution_count": 54,
   "metadata": {},
   "outputs": [],
   "source": [
    "matrix = numpy.zeros((path_counts.shape[0], relation_counts.shape[0]))"
   ]
  },
  {
   "cell_type": "code",
   "execution_count": 56,
   "metadata": {},
   "outputs": [
    {
     "data": {
      "text/plain": [
       "(39891, 42)"
      ]
     },
     "execution_count": 56,
     "metadata": {},
     "output_type": "execute_result"
    }
   ],
   "source": []
  },
  {
   "cell_type": "code",
   "execution_count": null,
   "metadata": {},
   "outputs": [],
   "source": []
  }
 ],
 "metadata": {
  "kernelspec": {
   "display_name": "Python 3",
   "language": "python",
   "name": "python3"
  },
  "language_info": {
   "codemirror_mode": {
    "name": "ipython",
    "version": 3
   },
   "file_extension": ".py",
   "mimetype": "text/x-python",
   "name": "python",
   "nbconvert_exporter": "python",
   "pygments_lexer": "ipython3",
   "version": "3.7.6"
  }
 },
 "nbformat": 4,
 "nbformat_minor": 4
}
