{
 "cells": [
  {
   "cell_type": "code",
   "execution_count": 1,
   "metadata": {},
   "outputs": [],
   "source": [
    "import numpy\n",
    "import math\n",
    "import pandas"
   ]
  },
  {
   "cell_type": "code",
   "execution_count": 2,
   "metadata": {},
   "outputs": [],
   "source": [
    "ud_train = pandas.read_csv(r'C:\\Users\\jyellin\\re_1\\Code\\path_to_re\\train-ud_paths_per_relation.csv')"
   ]
  },
  {
   "cell_type": "code",
   "execution_count": 3,
   "metadata": {},
   "outputs": [],
   "source": [
    "ud_train_stats_by_relation_and_path = ud_train.groupby(['relation','path'])['id'].count().reset_index().rename(columns={'id': 'total'}).sort_values(['relation','total'], ascending=[True,False]).reset_index(drop=True)\n",
    "ud_train_stats_relation = ud_train.groupby(['relation'])['id'].count().reset_index().rename(columns={'id': 'total'}).sort_values(['relation'], ascending=[True]).set_index('relation')"
   ]
  },
  {
   "cell_type": "code",
   "execution_count": 4,
   "metadata": {},
   "outputs": [],
   "source": [
    "paths = ud_train_stats_by_relation_and_path['path'].unique().tolist()\n",
    "relations = ud_train_stats_by_relation_and_path['relation'].unique().tolist()\n",
    "\n",
    "path_to_index = {k: v for v, k in enumerate(paths)}\n",
    "relation_to_index = {k: v for v, k in enumerate(relations)}\n",
    "\n",
    "totals = ud_train_stats_relation['total'].to_list()\n",
    "mean_total = numpy.mean(totals)"
   ]
  },
  {
   "cell_type": "code",
   "execution_count": 5,
   "metadata": {},
   "outputs": [],
   "source": [
    "relation_to_count_matrix = numpy.zeros((len(relations), len(paths)), dtype=numpy.intc)\n",
    "\n",
    "for index, row in ud_train_stats_by_relation_and_path.iterrows():\n",
    "    relation_index = relation_to_index[row['relation']]\n",
    "    path_index = path_to_index[row['path']]\n",
    "    \n",
    "    total = row['total']\n",
    "    if total == 1:\n",
    "        total = 0\n",
    "    relation_to_count_matrix[relation_index, path_index] = total\n",
    "\n",
    "relation_to_count_df = pandas.DataFrame(relation_to_count_matrix, index=relations, columns=paths)\n",
    "#relation_to_count_matrix = numpy.concatenate((numpy.reshape(totals, (-1,1)),relation_to_count_matrix), axis=1)"
   ]
  },
  {
   "cell_type": "code",
   "execution_count": 6,
   "metadata": {},
   "outputs": [],
   "source": [
    "# create a single data frame from the total-relation counts and the relation-to-cound dataframe\n",
    "temp = pandas.concat([ud_train_stats_relation,relation_to_count_df], axis=1)\n",
    "\n",
    "# filter out all relations for which there are less than 25% of the mean total sentences in the training set\n",
    "temp = temp[temp['total'] >= mean_total/4]\n",
    "\n",
    "# normalize counts \n",
    "temp = temp.apply( lambda x: x / x['total'] * mean_total, axis=1).drop(columns=['total'])\n",
    "\n",
    "# round up to \n",
    "relation_to_count_normalized = temp.round(0).astype(int)"
   ]
  },
  {
   "cell_type": "code",
   "execution_count": 7,
   "metadata": {},
   "outputs": [],
   "source": [
    "relations = relation_to_count_normalized.index.to_list()\n",
    "paths = relation_to_count_normalized.columns.to_list()\n",
    "work = relation_to_count_normalized.to_numpy()\n",
    "\n",
    "jaccard_weighted_matrix = numpy.empty((len(relations), len(relations)))\n",
    "\n",
    "for i, i_relation in enumerate(relations):\n",
    "    i_row = work[i]\n",
    "\n",
    "    for j, j_relation in enumerate(relations):\n",
    "        \n",
    "        j_row = work[j]\n",
    "        \n",
    "        numerator = 0\n",
    "        denominator = 0\n",
    "        for k, k_path in enumerate(paths):\n",
    "            numerator = numerator + min(i_row[k], j_row[k])\n",
    "            denominator = denominator + max(i_row[k], j_row[k])\n",
    "        \n",
    "        jaccard_weighted_matrix[i,j] = numerator / denominator\n",
    "\n",
    "#df = pandas.DataFrame(matrix, index=relations, columns=relations)\n",
    "#df.to_csv('./matrix_ud.csv')\n"
   ]
  },
  {
   "cell_type": "code",
   "execution_count": 8,
   "metadata": {},
   "outputs": [],
   "source": [
    "df = pandas.DataFrame(jaccard_weighted_matrix, index=relations, columns=relations)\n",
    "df.to_csv('./ud-jaccard_weighted_matrix.csv')"
   ]
  },
  {
   "cell_type": "code",
   "execution_count": 21,
   "metadata": {},
   "outputs": [],
   "source": [
    "single = df.reset_index().melt('index', var_name='relations')"
   ]
  },
  {
   "cell_type": "code",
   "execution_count": null,
   "metadata": {},
   "outputs": [],
   "source": []
  },
  {
   "cell_type": "code",
   "execution_count": 15,
   "metadata": {},
   "outputs": [
    {
     "data": {
      "text/plain": [
       "org:alternate_names                    1.000000\n",
       "per:title                              0.143508\n",
       "per:alternate_names                    0.111111\n",
       "per:stateorprovinces_of_residence      0.068966\n",
       "org:website                            0.051351\n",
       "org:member_of                          0.046823\n",
       "per:employee_of                        0.042857\n",
       "org:members                            0.038147\n",
       "org:top_members/employees              0.037267\n",
       "per:siblings                           0.035813\n",
       "per:spouse                             0.034314\n",
       "org:stateorprovince_of_headquarters    0.028571\n",
       "per:age                                0.027542\n",
       "org:subsidiaries                       0.027363\n",
       "per:other_family                       0.025788\n",
       "per:origin                             0.021845\n",
       "org:parents                            0.020619\n",
       "org:country_of_headquarters            0.018970\n",
       "org:founded_by                         0.016990\n",
       "org:city_of_headquarters               0.014052\n",
       "per:cities_of_residence                0.013405\n",
       "per:parents                            0.009153\n",
       "per:children                           0.009112\n",
       "per:countries_of_residence             0.007937\n",
       "org:political/religious_affiliation    0.005208\n",
       "per:schools_attended                   0.004854\n",
       "per:cause_of_death                     0.004728\n",
       "per:date_of_death                      0.002309\n",
       "org:founded                            0.000000\n",
       "per:city_of_death                      0.000000\n",
       "Name: org:alternate_names, dtype: float64"
      ]
     },
     "execution_count": 15,
     "metadata": {},
     "output_type": "execute_result"
    }
   ],
   "source": [
    "df['org:alternate_names'].sort_values(ascending=False) "
   ]
  },
  {
   "cell_type": "code",
   "execution_count": 20,
   "metadata": {},
   "outputs": [
    {
     "data": {
      "text/plain": [
       "org:alternate_names                    1.000000\n",
       "per:title                              0.143508\n",
       "per:alternate_names                    0.111111\n",
       "per:stateorprovinces_of_residence      0.068966\n",
       "org:website                            0.051351\n",
       "org:member_of                          0.046823\n",
       "per:employee_of                        0.042857\n",
       "org:members                            0.038147\n",
       "org:top_members/employees              0.037267\n",
       "per:siblings                           0.035813\n",
       "per:spouse                             0.034314\n",
       "org:stateorprovince_of_headquarters    0.028571\n",
       "per:age                                0.027542\n",
       "org:subsidiaries                       0.027363\n",
       "per:other_family                       0.025788\n",
       "per:origin                             0.021845\n",
       "org:parents                            0.020619\n",
       "org:country_of_headquarters            0.018970\n",
       "org:founded_by                         0.016990\n",
       "org:city_of_headquarters               0.014052\n",
       "per:cities_of_residence                0.013405\n",
       "per:parents                            0.009153\n",
       "per:children                           0.009112\n",
       "per:countries_of_residence             0.007937\n",
       "org:political/religious_affiliation    0.005208\n",
       "per:schools_attended                   0.004854\n",
       "per:cause_of_death                     0.004728\n",
       "per:date_of_death                      0.002309\n",
       "org:founded                            0.000000\n",
       "per:city_of_death                      0.000000\n",
       "Name: org:alternate_names, dtype: float64"
      ]
     },
     "execution_count": 20,
     "metadata": {},
     "output_type": "execute_result"
    }
   ],
   "source": [
    "df['org:alternate_names'].sort_values(ascending=False) "
   ]
  },
  {
   "cell_type": "code",
   "execution_count": null,
   "metadata": {},
   "outputs": [],
   "source": []
  }
 ],
 "metadata": {
  "kernelspec": {
   "display_name": "Python 3",
   "language": "python",
   "name": "python3"
  },
  "language_info": {
   "codemirror_mode": {
    "name": "ipython",
    "version": 3
   },
   "file_extension": ".py",
   "mimetype": "text/x-python",
   "name": "python",
   "nbconvert_exporter": "python",
   "pygments_lexer": "ipython3",
   "version": "3.7.4"
  }
 },
 "nbformat": 4,
 "nbformat_minor": 2
}
