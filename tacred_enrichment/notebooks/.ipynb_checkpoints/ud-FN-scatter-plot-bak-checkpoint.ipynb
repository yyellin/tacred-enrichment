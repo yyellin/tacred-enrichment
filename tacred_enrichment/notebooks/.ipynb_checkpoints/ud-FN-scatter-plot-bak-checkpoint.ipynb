{
 "cells": [
  {
   "cell_type": "code",
   "execution_count": 1,
   "metadata": {},
   "outputs": [
    {
     "data": {
      "text/html": [
       "        <script type=\"text/javascript\">\n",
       "        window.PlotlyConfig = {MathJaxConfig: 'local'};\n",
       "        if (window.MathJax) {MathJax.Hub.Config({SVG: {font: \"STIX-Web\"}});}\n",
       "        if (typeof require !== 'undefined') {\n",
       "        require.undef(\"plotly\");\n",
       "        requirejs.config({\n",
       "            paths: {\n",
       "                'plotly': ['https://cdn.plot.ly/plotly-latest.min']\n",
       "            }\n",
       "        });\n",
       "        require(['plotly'], function(Plotly) {\n",
       "            window._Plotly = Plotly;\n",
       "        });\n",
       "        }\n",
       "        </script>\n",
       "        "
      ]
     },
     "metadata": {},
     "output_type": "display_data"
    }
   ],
   "source": [
    "from _plotly_future_ import v4_subplots\n",
    "from plotly.offline import download_plotlyjs, init_notebook_mode, plot, iplot\n",
    "from plotly.subplots import make_subplots\n",
    "import plotly.graph_objs as go\n",
    "\n",
    "init_notebook_mode(connected=True)"
   ]
  },
  {
   "cell_type": "code",
   "execution_count": 2,
   "metadata": {},
   "outputs": [],
   "source": [
    "import pandas\n",
    "\n",
    "train = pandas.read_csv(r'C:\\Users\\JYellin\\re_1\\tacred\\results\\general\\train-ucca_paths_v0.0.5.csv')\n",
    "test = pandas.read_csv(r'C:\\Users\\JYellin\\re_1\\tacred\\results\\general\\test-ucca_paths_v0.0.5.csv')\n",
    "\n",
    "# no point to consider 'no_relation' in the 'recall' scenario ...\n",
    "train = train[ train['relation'] != 'no_relation']\n",
    "test = test[ test['relation'] != 'no_relation']\n",
    "\n",
    "\n",
    "# 07/03/2020 - turns out some rows don't have a path .. I forgot about that\n",
    "test.dropna(subset=['path'], inplace=True)"
   ]
  },
  {
   "cell_type": "code",
   "execution_count": 3,
   "metadata": {},
   "outputs": [],
   "source": [
    "test['len-path'] =  test.apply(lambda row : len(row['path'].split(' ')), axis=1)"
   ]
  },
  {
   "cell_type": "code",
   "execution_count": 4,
   "metadata": {},
   "outputs": [],
   "source": [
    "#path_len_stats = test.groupby(['len-path'])['id'].count().reset_index().rename(columns={'id': 'total-for-path-len'}).sort_values(['total-for-path-len'], ascending=[False]).reset_index(drop=True)\n",
    "#path_len_stats['per-for-path-len'] = path_len_stats.apply(lambda row : row['total-for-path-len'] / test.shape[0], axis = 1 )\n",
    "#path_len_to_percent = path_len_stats.set_index('len-path').drop(columns=['total-for-path-len']).to_dict()['per-for-path-len']"
   ]
  },
  {
   "cell_type": "code",
   "execution_count": 5,
   "metadata": {},
   "outputs": [],
   "source": [
    "path_len_to_percent_per_relation = {}\n",
    "\n",
    "for relation in test['relation'].unique().tolist():\n",
    "    \n",
    "    df = test[test['relation']==relation]\n",
    "\n",
    "    \n",
    "    path_len_stats = df.groupby(['len-path'])['id'].count().reset_index().rename(columns={'id': 'total-for-path-len'}).sort_values(['total-for-path-len'], ascending=[False]).reset_index(drop=True)\n",
    "    path_len_stats['per-for-path-len'] = path_len_stats.apply(lambda row : row['total-for-path-len'] / df.shape[0], axis = 1 )\n",
    "    path_len_to_percent = path_len_stats.set_index('len-path').drop(columns=['total-for-path-len']).to_dict()['per-for-path-len']    \n",
    "    \n",
    "    \n",
    "    path_len_to_percent_per_relation[relation] = path_len_to_percent\n",
    "    \n"
   ]
  },
  {
   "cell_type": "code",
   "execution_count": 6,
   "metadata": {},
   "outputs": [],
   "source": [
    "def transform_row(r):\n",
    "    return '{entity1} {org_path} {entity2}'.format(entity1=r.type1[0:3], org_path=r.path, entity2=r.type2[0:3])\n",
    "\n",
    "train['path'] = train.apply(transform_row, axis=1)\n",
    "test['path'] = test.apply(transform_row, axis=1)"
   ]
  },
  {
   "cell_type": "code",
   "execution_count": 7,
   "metadata": {},
   "outputs": [],
   "source": [
    "train_total_by_r_and_p = train.groupby(['relation','path'])['id'].count().reset_index().rename(columns={'id': 'total'}).sort_values(['relation','total'], ascending=[True,False]).reset_index(drop=True)"
   ]
  },
  {
   "cell_type": "code",
   "execution_count": 8,
   "metadata": {},
   "outputs": [],
   "source": [
    "def is_false_negative(test_row):\n",
    "    relation = test_row['relation']\n",
    "    path = test_row['path']\n",
    "\n",
    "    train_row = train_total_by_r_and_p.loc[\n",
    "        (train_total_by_r_and_p['relation'] == relation) & \n",
    "        (train_total_by_r_and_p['path'] == path)]\n",
    "    if train_row.empty:\n",
    "        return True\n",
    "    else:\n",
    "        return None\n",
    "\n",
    "test['false-negative'] = test.apply(lambda row : is_false_negative(row), axis=1)\n",
    "test.dropna(subset=['false-negative'], inplace=True)"
   ]
  },
  {
   "cell_type": "code",
   "execution_count": 56,
   "metadata": {},
   "outputs": [],
   "source": [
    "relations = test['relation'].unique().tolist()\n",
    "relation_to_fn_stats = {}\n",
    "\n",
    "for relation in relations:\n",
    "    \n",
    "    df = test[test['relation']==relation]\n",
    "\n",
    "    \n",
    "    path_len_to_percent = path_len_to_percent_per_relation[relation]\n",
    "    \n",
    "    \n",
    "    fn_len_path_stats = df.groupby(['len-path'])['id'].count().reset_index().rename(columns={'id': 'total'}).reset_index(drop=True)\n",
    "    fn_len_path_stats['weighted-total'] = fn_len_path_stats.apply(lambda row : row['total'] / path_len_to_percent[row['len-path']], axis=1)\n",
    "    weighted_total_sum = fn_len_path_stats['weighted-total'].sum()\n",
    "    fn_len_path_stats['weighted-total-per'] = fn_len_path_stats.apply(lambda row : row['weighted-total'] / weighted_total_sum, axis=1)\n",
    "    \n",
    "    fn_len_path_stats = fn_len_path_stats.sort_values(['len-path'], ascending=[True]).reset_index(drop=True)\n",
    "    relation_to_fn_stat = fn_len_path_stats.set_index(['len-path']).drop(columns=['total','weighted-total']).to_dict()['weighted-total-per']\n",
    "    \n",
    "    relation_to_fn_stats[relation] = relation_to_fn_stat\n"
   ]
  },
  {
   "cell_type": "code",
   "execution_count": 57,
   "metadata": {},
   "outputs": [],
   "source": [
    "num_relations = len(relations)"
   ]
  },
  {
   "cell_type": "code",
   "execution_count": 81,
   "metadata": {},
   "outputs": [
    {
     "data": {
      "text/plain": [
       "True"
      ]
     },
     "execution_count": 81,
     "metadata": {},
     "output_type": "execute_result"
    }
   ],
   "source": [
    "import math\n",
    "num_columns = 5\n",
    "num_rows = math.ceil(num_relations/num_columns)\n",
    "\n",
    "layout = go.Layout(\n",
    "    title='UCCA: Path length to weighted number of false negatives',\n",
    "    width=2000,\n",
    "    height=2000,\n",
    "    font=dict(family=\"Arial\", size=12)\n",
    ")\n",
    "\n",
    "fig = make_subplots(\n",
    "    rows=num_rows, \n",
    "    cols=num_columns,\n",
    "    subplot_titles=relations,\n",
    ")\n",
    "\n",
    "fig['layout'].update(layout)\n",
    "\n",
    "True\n",
    "\n",
    "#fig.update_layout(height=600, width=800)\n",
    "\n",
    "\n"
   ]
  },
  {
   "cell_type": "code",
   "execution_count": 82,
   "metadata": {},
   "outputs": [
    {
     "data": {
      "application/vnd.plotly.v1+json": {
       "config": {
        "plotlyServerURL": "https://plot.ly"
       },
       "data": [
        {
         "name": "per:title",
         "type": "scatter",
         "uid": "9adbf723-f235-4b4b-b3d8-d7eea8a1ceaa",
         "x": [
          3,
          4,
          5,
          6,
          7,
          8,
          9,
          10
         ],
         "xaxis": "x",
         "y": [
          0.003791469194312796,
          0.01990521327014218,
          0.08720379146919431,
          0.10616113744075831,
          0.14597156398104266,
          0.2123222748815166,
          0.2123222748815166,
          0.2123222748815166
         ],
         "yaxis": "y"
        },
        {
         "name": "org:top_members/employees",
         "type": "scatter",
         "uid": "8cbf71c6-6c86-4a45-83b7-767ad605ebb0",
         "x": [
          2,
          3,
          4,
          5,
          6,
          7,
          8,
          9,
          10
         ],
         "xaxis": "x2",
         "y": [
          0.021246877899351122,
          0.01019850139168854,
          0.006853831580435846,
          0.02236513463089592,
          0.17444805012098819,
          0.08498751159740449,
          0.16997502319480898,
          0.2549625347922135,
          0.2549625347922135
         ],
         "yaxis": "y2"
        },
        {
         "name": "org:country_of_headquarters",
         "type": "scatter",
         "uid": "e81a66e8-f8cd-4b22-9712-5a4c6288676b",
         "x": [
          3,
          4,
          5,
          6,
          7,
          8,
          9,
          10,
          11,
          12,
          17
         ],
         "xaxis": "x3",
         "y": [
          0.010933229207340881,
          0.04099960952752831,
          0.043732916829363526,
          0.0749707145646232,
          0.0749707145646232,
          0.1311987504880906,
          0.1311987504880906,
          0.09839906286606795,
          0.1311987504880906,
          0.1311987504880906,
          0.1311987504880906
         ],
         "yaxis": "y3"
        },
        {
         "name": "per:parents",
         "type": "scatter",
         "uid": "f0de2bfb-97d1-4ea8-8c81-bd2acfd13db9",
         "x": [
          2,
          3,
          4,
          5,
          6,
          7,
          9
         ],
         "xaxis": "x4",
         "y": [
          0.15716911764705882,
          0.022058823529411766,
          0.10477941176470588,
          0.13970588235294118,
          0.15716911764705882,
          0.20955882352941177,
          0.20955882352941177
         ],
         "yaxis": "y4"
        },
        {
         "name": "per:children",
         "type": "scatter",
         "uid": "5344c4e3-6933-4e57-a5ce-3db55ba78596",
         "x": [
          2,
          3,
          4,
          5,
          6,
          7,
          8
         ],
         "xaxis": "x5",
         "y": [
          0.10901883052527254,
          0.04360753221010902,
          0.13875123885034688,
          0.16352824578790884,
          0.2180376610505451,
          0.2180376610505451,
          0.10901883052527254
         ],
         "yaxis": "y5"
        },
        {
         "name": "per:charges",
         "type": "scatter",
         "uid": "0d9bb3f7-a4a5-4d6e-8363-44b480fe7f90",
         "x": [
          2,
          3,
          4,
          5,
          6,
          7,
          8,
          9
         ],
         "xaxis": "x6",
         "y": [
          0.04523568170299036,
          0.0516979219462747,
          0.12924480486568674,
          0.1383679675620882,
          0.1680182463253928,
          0.16586416624429798,
          0.12062848454130762,
          0.18094272681196144
         ],
         "yaxis": "y6"
        },
        {
         "name": "per:origin",
         "type": "scatter",
         "uid": "e64962ec-c12b-4418-a9ba-7f6fd9b894b8",
         "x": [
          2,
          3,
          4,
          5,
          6,
          7,
          8,
          9,
          10
         ],
         "xaxis": "x7",
         "y": [
          0.011563199575442964,
          0.010202823154802615,
          0.04047119851405037,
          0.12007938020652308,
          0.12389142402260316,
          0.17344799363164445,
          0.17344799363164445,
          0.17344799363164445,
          0.17344799363164445
         ],
         "yaxis": "y7"
        },
        {
         "name": "per:alternate_names",
         "type": "scatter",
         "uid": "d0a33ef5-d14e-4481-9510-c5cadf2e810a",
         "x": [
          4,
          7,
          8,
          9,
          11
         ],
         "xaxis": "x8",
         "y": [
          0.2,
          0.2,
          0.2,
          0.2,
          0.2
         ],
         "yaxis": "y8"
        },
        {
         "name": "per:age",
         "type": "scatter",
         "uid": "90356aef-b240-4790-96d3-b8a27189388a",
         "x": [
          2,
          3,
          4,
          5,
          6,
          7
         ],
         "xaxis": "x9",
         "y": [
          0.016056887257713037,
          0.03693084069273999,
          0.11606835646289712,
          0.2154299040409833,
          0.2462056046182666,
          0.36930840692739997
         ],
         "yaxis": "y9"
        },
        {
         "name": "per:cities_of_residence",
         "type": "scatter",
         "uid": "93850a86-ee67-4ef5-95ba-cc379bb7af90",
         "x": [
          2,
          3,
          4,
          5,
          6,
          7,
          8,
          9,
          10
         ],
         "xaxis": "x10",
         "y": [
          0.04702966271519169,
          0.013201308832334507,
          0.0321178184396431,
          0.055329014959049044,
          0.13747132178286803,
          0.18811865086076676,
          0.15049492068861342,
          0.18811865086076676,
          0.18811865086076676
         ],
         "yaxis": "y10"
        },
        {
         "name": "per:stateorprovince_of_death",
         "type": "scatter",
         "uid": "624a70f8-c761-41a2-8011-e4d638184534",
         "x": [
          4,
          6,
          7,
          8,
          11
         ],
         "xaxis": "x11",
         "y": [
          0.2,
          0.2,
          0.2,
          0.2,
          0.2
         ],
         "yaxis": "y11"
        },
        {
         "name": "per:employee_of",
         "type": "scatter",
         "uid": "9ca0ee11-0e00-45ea-8753-091e2296b319",
         "x": [
          3,
          4,
          5,
          6,
          7,
          8,
          9,
          10
         ],
         "xaxis": "x12",
         "y": [
          0.02056162311151638,
          0.008699148239487699,
          0.05974509356931176,
          0.1130889271133401,
          0.17591610884297346,
          0.16963339067001015,
          0.2261778542266802,
          0.2261778542266802
         ],
         "yaxis": "y12"
        },
        {
         "name": "org:members",
         "type": "scatter",
         "uid": "79831848-1492-42c0-9dbf-c370a0eaf792",
         "x": [
          3,
          4,
          5,
          6,
          7,
          9,
          10,
          13
         ],
         "xaxis": "x13",
         "y": [
          0.06741573033707866,
          0.07865168539325844,
          0.15730337078651688,
          0.06741573033707866,
          0.15730337078651688,
          0.15730337078651688,
          0.15730337078651688,
          0.15730337078651688
         ],
         "yaxis": "y13"
        },
        {
         "name": "org:parents",
         "type": "scatter",
         "uid": "93ea9332-3ec6-4aa2-8c3a-fd75033f7761",
         "x": [
          3,
          4,
          5,
          6,
          7,
          8,
          9,
          10
         ],
         "xaxis": "x14",
         "y": [
          0.02233049127080796,
          0.048721071863580996,
          0.0952767627554473,
          0.1190959534443091,
          0.17864393016646365,
          0.17864393016646368,
          0.17864393016646368,
          0.17864393016646368
         ],
         "yaxis": "y14"
        },
        {
         "name": "per:cause_of_death",
         "type": "scatter",
         "uid": "b3d0b186-4e20-47ed-abc4-2e2219a976e7",
         "x": [
          2,
          3,
          4,
          5,
          6,
          7,
          8,
          9,
          10
         ],
         "xaxis": "x15",
         "y": [
          0.0913978494623656,
          0.0913978494623656,
          0.08602150537634409,
          0.12186379928315412,
          0.1218637992831541,
          0.12186379928315412,
          0.12186379928315412,
          0.12186379928315412,
          0.12186379928315412
         ],
         "yaxis": "y15"
        },
        {
         "name": "org:member_of",
         "type": "scatter",
         "uid": "3188a67e-23e1-4c11-bf2e-2c0433f16e07",
         "x": [
          3,
          4,
          5,
          6,
          7,
          8,
          9
         ],
         "xaxis": "x16",
         "y": [
          0.11494252873563218,
          0.05747126436781609,
          0.1379310344827586,
          0.17241379310344826,
          0.17241379310344826,
          0.17241379310344826,
          0.17241379310344826
         ],
         "yaxis": "y16"
        },
        {
         "name": "per:stateorprovinces_of_residence",
         "type": "scatter",
         "uid": "e43fe197-6750-49ed-9485-2cfafa862701",
         "x": [
          3,
          4,
          5,
          6,
          7,
          8,
          9,
          10,
          12
         ],
         "xaxis": "x17",
         "y": [
          0.0072407551073183345,
          0.03185932247220068,
          0.05689164727178692,
          0.13938453581587795,
          0.1274372898888027,
          0.15929661236100337,
          0.15929661236100337,
          0.15929661236100337,
          0.15929661236100337
         ],
         "yaxis": "y17"
        },
        {
         "name": "per:country_of_birth",
         "type": "scatter",
         "uid": "dd2f4b90-77f1-4b59-8cc5-1577385b20ee",
         "x": [
          4,
          6
         ],
         "xaxis": "x18",
         "y": [
          0.3333333333333333,
          0.6666666666666666
         ],
         "yaxis": "y18"
        },
        {
         "name": "org:shareholders",
         "type": "scatter",
         "uid": "db2f3231-200e-4c2f-b151-c60ec7116875",
         "x": [
          3,
          4,
          5,
          7,
          9
         ],
         "xaxis": "x19",
         "y": [
          0.2222222222222222,
          0.1111111111111111,
          0.2222222222222222,
          0.2222222222222222,
          0.2222222222222222
         ],
         "yaxis": "y19"
        },
        {
         "name": "per:other_family",
         "type": "scatter",
         "uid": "c4f20d29-3a80-45f6-b441-6dd540e5d74c",
         "x": [
          2,
          4,
          5,
          6,
          8,
          9,
          10
         ],
         "xaxis": "x20",
         "y": [
          0.17186926184355492,
          0.03819316929856776,
          0.14542783694454645,
          0.1289019463826662,
          0.17186926184355492,
          0.17186926184355492,
          0.17186926184355492
         ],
         "yaxis": "y20"
        },
        {
         "name": "org:stateorprovince_of_headquarters",
         "type": "scatter",
         "uid": "925b1ad3-a273-4ff1-a561-2bbbed703814",
         "x": [
          3,
          4,
          5,
          6,
          7,
          8,
          13,
          14
         ],
         "xaxis": "x21",
         "y": [
          0.0212577502214349,
          0.03985828166519044,
          0.141718334809566,
          0.15943312666076176,
          0.15943312666076176,
          0.15943312666076176,
          0.15943312666076176,
          0.15943312666076176
         ],
         "yaxis": "y21"
        },
        {
         "name": "per:city_of_death",
         "type": "scatter",
         "uid": "f38ff6ee-2538-4e0a-b503-cd7c18ba623d",
         "x": [
          5,
          6,
          7,
          8,
          9,
          10
         ],
         "xaxis": "x22",
         "y": [
          0.18181818181818182,
          0.13636363636363635,
          0.13636363636363635,
          0.18181818181818182,
          0.18181818181818182,
          0.18181818181818182
         ],
         "yaxis": "y22"
        },
        {
         "name": "per:countries_of_residence",
         "type": "scatter",
         "uid": "b1541054-e880-41d9-94ea-451eb7007aee",
         "x": [
          3,
          4,
          5,
          6,
          7,
          8,
          9,
          10,
          11,
          12
         ],
         "xaxis": "x23",
         "y": [
          0.018584481957565437,
          0.0402663775747251,
          0.06132879045996593,
          0.0905993495431315,
          0.06442620411956017,
          0.14495895926901037,
          0.14495895926901037,
          0.14495895926901037,
          0.14495895926901037,
          0.14495895926901037
         ],
         "yaxis": "y23"
        },
        {
         "name": "per:spouse",
         "type": "scatter",
         "uid": "ce877a7e-34c1-4a3d-a78e-854ea68da6ef",
         "x": [
          3,
          4,
          5,
          6,
          7,
          8,
          9
         ],
         "xaxis": "x24",
         "y": [
          0.02111417898327107,
          0.022169887932434625,
          0.1364300795842131,
          0.19952899139191163,
          0.177359103459477,
          0.22169887932434626,
          0.22169887932434626
         ],
         "yaxis": "y24"
        },
        {
         "name": "per:religion",
         "type": "scatter",
         "uid": "78393ea6-e8c9-477a-81b8-75f24221f647",
         "x": [
          3,
          4,
          5,
          6,
          7
         ],
         "xaxis": "x25",
         "y": [
          0.06635071090047394,
          0.17061611374407581,
          0.23222748815165875,
          0.26540284360189575,
          0.26540284360189575
         ],
         "yaxis": "y25"
        },
        {
         "name": "per:date_of_death",
         "type": "scatter",
         "uid": "ce78ce05-93b8-47ed-8953-05a46dd4e3c4",
         "x": [
          2,
          3,
          4,
          5,
          6,
          7,
          8,
          11
         ],
         "xaxis": "x26",
         "y": [
          0.09841679935109802,
          0.024604199837774506,
          0.030282092108030165,
          0.08748159942319825,
          0.16871451317331093,
          0.19683359870219605,
          0.19683359870219605,
          0.19683359870219605
         ],
         "yaxis": "y26"
        },
        {
         "name": "org:subsidiaries",
         "type": "scatter",
         "uid": "db45e3a2-717d-4260-ae4d-41c26170fdf4",
         "x": [
          3,
          4,
          5,
          6,
          7,
          8,
          9
         ],
         "xaxis": "x27",
         "y": [
          0.039073806078147616,
          0.04630969609261939,
          0.18523878437047755,
          0.10419681620839363,
          0.20839363241678727,
          0.20839363241678727,
          0.20839363241678727
         ],
         "yaxis": "y27"
        },
        {
         "name": "org:alternate_names",
         "type": "scatter",
         "uid": "58e92708-667e-4bad-87d5-e4dd3bbdfbf2",
         "x": [
          4,
          5,
          7,
          8,
          9,
          10
         ],
         "xaxis": "x28",
         "y": [
          0.12903225806451613,
          0.09677419354838711,
          0.19354838709677422,
          0.19354838709677422,
          0.19354838709677422,
          0.19354838709677422
         ],
         "yaxis": "y28"
        },
        {
         "name": "org:political/religious_affiliation",
         "type": "scatter",
         "uid": "633696de-b3cc-4d71-8099-92da85d50bc9",
         "x": [
          4,
          5,
          8
         ],
         "xaxis": "x29",
         "y": [
          0.29411764705882354,
          0.3529411764705882,
          0.3529411764705882
         ],
         "yaxis": "y29"
        },
        {
         "name": "org:number_of_employees/members",
         "type": "scatter",
         "uid": "2e560420-d865-4943-ba99-c2b81f8e95c6",
         "x": [
          5,
          7,
          8,
          9
         ],
         "xaxis": "x30",
         "y": [
          0.14285714285714285,
          0.2857142857142857,
          0.2857142857142857,
          0.2857142857142857
         ],
         "yaxis": "y30"
        },
        {
         "name": "org:city_of_headquarters",
         "type": "scatter",
         "uid": "c1794d94-9083-47a5-8bf6-27a1bae0acff",
         "x": [
          3,
          4,
          5,
          6,
          7,
          9
         ],
         "xaxis": "x31",
         "y": [
          0.022273051108028043,
          0.04124639094079268,
          0.1012411414001275,
          0.27841313885035057,
          0.27841313885035057,
          0.27841313885035057
         ],
         "yaxis": "y31"
        },
        {
         "name": "org:website",
         "type": "scatter",
         "uid": "7aa23318-07f7-41b8-97ea-60a4524ca528",
         "x": [
          2,
          3,
          4,
          5,
          8
         ],
         "xaxis": "x32",
         "y": [
          0.03381642512077295,
          0.15458937198067632,
          0.2705314009661836,
          0.2705314009661836,
          0.2705314009661836
         ],
         "yaxis": "y32"
        },
        {
         "name": "per:country_of_death",
         "type": "scatter",
         "uid": "b432a118-9aa6-43cc-879d-02534beddbce",
         "x": [
          3,
          4,
          5,
          7,
          8,
          10
         ],
         "xaxis": "x33",
         "y": [
          0.16666666666666666,
          0.16666666666666666,
          0.16666666666666666,
          0.16666666666666666,
          0.16666666666666666,
          0.16666666666666666
         ],
         "yaxis": "y33"
        },
        {
         "name": "org:founded_by",
         "type": "scatter",
         "uid": "efa5ba1b-6143-4b3f-adf8-ced1dd634735",
         "x": [
          4,
          5,
          6,
          7,
          9
         ],
         "xaxis": "x34",
         "y": [
          0.08094435075885328,
          0.21079258010118043,
          0.20236087689713322,
          0.25295109612141653,
          0.25295109612141653
         ],
         "yaxis": "y34"
        },
        {
         "name": "per:siblings",
         "type": "scatter",
         "uid": "069974fb-8f6b-4478-826a-7870ac59cc8e",
         "x": [
          3,
          4,
          5,
          6,
          7,
          8
         ],
         "xaxis": "x35",
         "y": [
          0.06616257088846882,
          0.11342155009451797,
          0.07939508506616258,
          0.2117202268431002,
          0.26465028355387527,
          0.26465028355387527
         ],
         "yaxis": "y35"
        },
        {
         "name": "per:schools_attended",
         "type": "scatter",
         "uid": "0459f98a-48f6-46b8-afa3-d8a6df5211e1",
         "x": [
          2,
          3,
          4,
          6,
          7
         ],
         "xaxis": "x36",
         "y": [
          0.2781456953642384,
          0.046357615894039736,
          0.11920529801324503,
          0.2781456953642384,
          0.2781456953642384
         ],
         "yaxis": "y36"
        },
        {
         "name": "per:city_of_birth",
         "type": "scatter",
         "uid": "05bb8220-0003-4c42-a003-4aa1cb627171",
         "x": [
          3,
          4,
          5
         ],
         "xaxis": "x37",
         "y": [
          0.14285714285714285,
          0.42857142857142855,
          0.42857142857142855
         ],
         "yaxis": "y37"
        },
        {
         "name": "org:founded",
         "type": "scatter",
         "uid": "3979cfb6-db2b-40bf-bbce-9e5c919beef8",
         "x": [
          3,
          5,
          6,
          9
         ],
         "xaxis": "x38",
         "y": [
          0.026455026455026457,
          0.3386243386243386,
          0.21164021164021166,
          0.4232804232804233
         ],
         "yaxis": "y38"
        },
        {
         "name": "org:dissolved",
         "type": "scatter",
         "uid": "62647e53-1cc3-4fb2-b69d-0bca7729c884",
         "x": [
          3,
          6
         ],
         "xaxis": "x39",
         "y": [
          0.5,
          0.5
         ],
         "yaxis": "y39"
        },
        {
         "name": "per:stateorprovince_of_birth",
         "type": "scatter",
         "uid": "c5827264-f755-4991-a8ab-1a8002ff5857",
         "x": [
          3,
          5,
          7
         ],
         "xaxis": "x40",
         "y": [
          0.09090909090909091,
          0.45454545454545453,
          0.45454545454545453
         ],
         "yaxis": "y40"
        },
        {
         "name": "per:date_of_birth",
         "type": "scatter",
         "uid": "7d142818-38fa-4749-9628-daefe6334a58",
         "x": [
          3,
          7
         ],
         "xaxis": "x41",
         "y": [
          0.14285714285714285,
          0.8571428571428571
         ],
         "yaxis": "y41"
        }
       ],
       "layout": {
        "annotations": [
         {
          "font": {
           "family": "Arial",
           "size": 10
          },
          "showarrow": false,
          "text": "per:title",
          "x": 0.08399999999999999,
          "xanchor": "center",
          "xref": "paper",
          "y": 1,
          "yanchor": "bottom",
          "yref": "paper"
         },
         {
          "font": {
           "family": "Arial",
           "size": 10
          },
          "showarrow": false,
          "text": "org:top_members/employees",
          "x": 0.292,
          "xanchor": "center",
          "xref": "paper",
          "y": 1,
          "yanchor": "bottom",
          "yref": "paper"
         },
         {
          "font": {
           "family": "Arial",
           "size": 10
          },
          "showarrow": false,
          "text": "org:country_of_headquarters",
          "x": 0.5,
          "xanchor": "center",
          "xref": "paper",
          "y": 1,
          "yanchor": "bottom",
          "yref": "paper"
         },
         {
          "font": {
           "family": "Arial",
           "size": 10
          },
          "showarrow": false,
          "text": "per:parents",
          "x": 0.708,
          "xanchor": "center",
          "xref": "paper",
          "y": 1,
          "yanchor": "bottom",
          "yref": "paper"
         },
         {
          "font": {
           "family": "Arial",
           "size": 10
          },
          "showarrow": false,
          "text": "per:children",
          "x": 0.9159999999999999,
          "xanchor": "center",
          "xref": "paper",
          "y": 1,
          "yanchor": "bottom",
          "yref": "paper"
         },
         {
          "font": {
           "family": "Arial",
           "size": 10
          },
          "showarrow": false,
          "text": "per:charges",
          "x": 0.08399999999999999,
          "xanchor": "center",
          "xref": "paper",
          "y": 0.8827160493827161,
          "yanchor": "bottom",
          "yref": "paper"
         },
         {
          "font": {
           "family": "Arial",
           "size": 10
          },
          "showarrow": false,
          "text": "per:origin",
          "x": 0.292,
          "xanchor": "center",
          "xref": "paper",
          "y": 0.8827160493827161,
          "yanchor": "bottom",
          "yref": "paper"
         },
         {
          "font": {
           "family": "Arial",
           "size": 10
          },
          "showarrow": false,
          "text": "per:alternate_names",
          "x": 0.5,
          "xanchor": "center",
          "xref": "paper",
          "y": 0.8827160493827161,
          "yanchor": "bottom",
          "yref": "paper"
         },
         {
          "font": {
           "family": "Arial",
           "size": 10
          },
          "showarrow": false,
          "text": "per:age",
          "x": 0.708,
          "xanchor": "center",
          "xref": "paper",
          "y": 0.8827160493827161,
          "yanchor": "bottom",
          "yref": "paper"
         },
         {
          "font": {
           "family": "Arial",
           "size": 10
          },
          "showarrow": false,
          "text": "per:cities_of_residence",
          "x": 0.9159999999999999,
          "xanchor": "center",
          "xref": "paper",
          "y": 0.8827160493827161,
          "yanchor": "bottom",
          "yref": "paper"
         },
         {
          "font": {
           "family": "Arial",
           "size": 10
          },
          "showarrow": false,
          "text": "per:stateorprovince_of_death",
          "x": 0.08399999999999999,
          "xanchor": "center",
          "xref": "paper",
          "y": 0.7654320987654322,
          "yanchor": "bottom",
          "yref": "paper"
         },
         {
          "font": {
           "family": "Arial",
           "size": 10
          },
          "showarrow": false,
          "text": "per:employee_of",
          "x": 0.292,
          "xanchor": "center",
          "xref": "paper",
          "y": 0.7654320987654322,
          "yanchor": "bottom",
          "yref": "paper"
         },
         {
          "font": {
           "family": "Arial",
           "size": 10
          },
          "showarrow": false,
          "text": "org:members",
          "x": 0.5,
          "xanchor": "center",
          "xref": "paper",
          "y": 0.7654320987654322,
          "yanchor": "bottom",
          "yref": "paper"
         },
         {
          "font": {
           "family": "Arial",
           "size": 10
          },
          "showarrow": false,
          "text": "org:parents",
          "x": 0.708,
          "xanchor": "center",
          "xref": "paper",
          "y": 0.7654320987654322,
          "yanchor": "bottom",
          "yref": "paper"
         },
         {
          "font": {
           "family": "Arial",
           "size": 10
          },
          "showarrow": false,
          "text": "per:cause_of_death",
          "x": 0.9159999999999999,
          "xanchor": "center",
          "xref": "paper",
          "y": 0.7654320987654322,
          "yanchor": "bottom",
          "yref": "paper"
         },
         {
          "font": {
           "family": "Arial",
           "size": 10
          },
          "showarrow": false,
          "text": "org:member_of",
          "x": 0.08399999999999999,
          "xanchor": "center",
          "xref": "paper",
          "y": 0.6481481481481483,
          "yanchor": "bottom",
          "yref": "paper"
         },
         {
          "font": {
           "family": "Arial",
           "size": 10
          },
          "showarrow": false,
          "text": "per:stateorprovinces_of_residence",
          "x": 0.292,
          "xanchor": "center",
          "xref": "paper",
          "y": 0.6481481481481483,
          "yanchor": "bottom",
          "yref": "paper"
         },
         {
          "font": {
           "family": "Arial",
           "size": 10
          },
          "showarrow": false,
          "text": "per:country_of_birth",
          "x": 0.5,
          "xanchor": "center",
          "xref": "paper",
          "y": 0.6481481481481483,
          "yanchor": "bottom",
          "yref": "paper"
         },
         {
          "font": {
           "family": "Arial",
           "size": 10
          },
          "showarrow": false,
          "text": "org:shareholders",
          "x": 0.708,
          "xanchor": "center",
          "xref": "paper",
          "y": 0.6481481481481483,
          "yanchor": "bottom",
          "yref": "paper"
         },
         {
          "font": {
           "family": "Arial",
           "size": 10
          },
          "showarrow": false,
          "text": "per:other_family",
          "x": 0.9159999999999999,
          "xanchor": "center",
          "xref": "paper",
          "y": 0.6481481481481483,
          "yanchor": "bottom",
          "yref": "paper"
         },
         {
          "font": {
           "family": "Arial",
           "size": 10
          },
          "showarrow": false,
          "text": "org:stateorprovince_of_headquarters",
          "x": 0.08399999999999999,
          "xanchor": "center",
          "xref": "paper",
          "y": 0.5308641975308642,
          "yanchor": "bottom",
          "yref": "paper"
         },
         {
          "font": {
           "family": "Arial",
           "size": 10
          },
          "showarrow": false,
          "text": "per:city_of_death",
          "x": 0.292,
          "xanchor": "center",
          "xref": "paper",
          "y": 0.5308641975308642,
          "yanchor": "bottom",
          "yref": "paper"
         },
         {
          "font": {
           "family": "Arial",
           "size": 10
          },
          "showarrow": false,
          "text": "per:countries_of_residence",
          "x": 0.5,
          "xanchor": "center",
          "xref": "paper",
          "y": 0.5308641975308642,
          "yanchor": "bottom",
          "yref": "paper"
         },
         {
          "font": {
           "family": "Arial",
           "size": 10
          },
          "showarrow": false,
          "text": "per:spouse",
          "x": 0.708,
          "xanchor": "center",
          "xref": "paper",
          "y": 0.5308641975308642,
          "yanchor": "bottom",
          "yref": "paper"
         },
         {
          "font": {
           "family": "Arial",
           "size": 10
          },
          "showarrow": false,
          "text": "per:religion",
          "x": 0.9159999999999999,
          "xanchor": "center",
          "xref": "paper",
          "y": 0.5308641975308642,
          "yanchor": "bottom",
          "yref": "paper"
         },
         {
          "font": {
           "family": "Arial",
           "size": 10
          },
          "showarrow": false,
          "text": "per:date_of_death",
          "x": 0.08399999999999999,
          "xanchor": "center",
          "xref": "paper",
          "y": 0.41358024691358025,
          "yanchor": "bottom",
          "yref": "paper"
         },
         {
          "font": {
           "family": "Arial",
           "size": 10
          },
          "showarrow": false,
          "text": "org:subsidiaries",
          "x": 0.292,
          "xanchor": "center",
          "xref": "paper",
          "y": 0.41358024691358025,
          "yanchor": "bottom",
          "yref": "paper"
         },
         {
          "font": {
           "family": "Arial",
           "size": 10
          },
          "showarrow": false,
          "text": "org:alternate_names",
          "x": 0.5,
          "xanchor": "center",
          "xref": "paper",
          "y": 0.41358024691358025,
          "yanchor": "bottom",
          "yref": "paper"
         },
         {
          "font": {
           "family": "Arial",
           "size": 10
          },
          "showarrow": false,
          "text": "org:political/religious_affiliation",
          "x": 0.708,
          "xanchor": "center",
          "xref": "paper",
          "y": 0.41358024691358025,
          "yanchor": "bottom",
          "yref": "paper"
         },
         {
          "font": {
           "family": "Arial",
           "size": 10
          },
          "showarrow": false,
          "text": "org:number_of_employees/members",
          "x": 0.9159999999999999,
          "xanchor": "center",
          "xref": "paper",
          "y": 0.41358024691358025,
          "yanchor": "bottom",
          "yref": "paper"
         },
         {
          "font": {
           "family": "Arial",
           "size": 10
          },
          "showarrow": false,
          "text": "org:city_of_headquarters",
          "x": 0.08399999999999999,
          "xanchor": "center",
          "xref": "paper",
          "y": 0.2962962962962963,
          "yanchor": "bottom",
          "yref": "paper"
         },
         {
          "font": {
           "family": "Arial",
           "size": 10
          },
          "showarrow": false,
          "text": "org:website",
          "x": 0.292,
          "xanchor": "center",
          "xref": "paper",
          "y": 0.2962962962962963,
          "yanchor": "bottom",
          "yref": "paper"
         },
         {
          "font": {
           "family": "Arial",
           "size": 10
          },
          "showarrow": false,
          "text": "per:country_of_death",
          "x": 0.5,
          "xanchor": "center",
          "xref": "paper",
          "y": 0.2962962962962963,
          "yanchor": "bottom",
          "yref": "paper"
         },
         {
          "font": {
           "family": "Arial",
           "size": 10
          },
          "showarrow": false,
          "text": "org:founded_by",
          "x": 0.708,
          "xanchor": "center",
          "xref": "paper",
          "y": 0.2962962962962963,
          "yanchor": "bottom",
          "yref": "paper"
         },
         {
          "font": {
           "family": "Arial",
           "size": 10
          },
          "showarrow": false,
          "text": "per:siblings",
          "x": 0.9159999999999999,
          "xanchor": "center",
          "xref": "paper",
          "y": 0.2962962962962963,
          "yanchor": "bottom",
          "yref": "paper"
         },
         {
          "font": {
           "family": "Arial",
           "size": 10
          },
          "showarrow": false,
          "text": "per:schools_attended",
          "x": 0.08399999999999999,
          "xanchor": "center",
          "xref": "paper",
          "y": 0.17901234567901234,
          "yanchor": "bottom",
          "yref": "paper"
         },
         {
          "font": {
           "family": "Arial",
           "size": 10
          },
          "showarrow": false,
          "text": "per:city_of_birth",
          "x": 0.292,
          "xanchor": "center",
          "xref": "paper",
          "y": 0.17901234567901234,
          "yanchor": "bottom",
          "yref": "paper"
         },
         {
          "font": {
           "family": "Arial",
           "size": 10
          },
          "showarrow": false,
          "text": "org:founded",
          "x": 0.5,
          "xanchor": "center",
          "xref": "paper",
          "y": 0.17901234567901234,
          "yanchor": "bottom",
          "yref": "paper"
         },
         {
          "font": {
           "family": "Arial",
           "size": 10
          },
          "showarrow": false,
          "text": "org:dissolved",
          "x": 0.708,
          "xanchor": "center",
          "xref": "paper",
          "y": 0.17901234567901234,
          "yanchor": "bottom",
          "yref": "paper"
         },
         {
          "font": {
           "family": "Arial",
           "size": 10
          },
          "showarrow": false,
          "text": "per:stateorprovince_of_birth",
          "x": 0.9159999999999999,
          "xanchor": "center",
          "xref": "paper",
          "y": 0.17901234567901234,
          "yanchor": "bottom",
          "yref": "paper"
         },
         {
          "font": {
           "family": "Arial",
           "size": 10
          },
          "showarrow": false,
          "text": "per:date_of_birth",
          "x": 0.08399999999999999,
          "xanchor": "center",
          "xref": "paper",
          "y": 0.0617283950617284,
          "yanchor": "bottom",
          "yref": "paper"
         }
        ],
        "font": {
         "family": "Arial",
         "size": 12
        },
        "height": 2000,
        "title": {
         "text": "UCCA: Path length to weighted number of false negatives"
        },
        "width": 2000,
        "xaxis": {
         "anchor": "y",
         "domain": [
          0,
          0.16799999999999998
         ]
        },
        "xaxis10": {
         "anchor": "y10",
         "domain": [
          0.832,
          1
         ]
        },
        "xaxis11": {
         "anchor": "y11",
         "domain": [
          0,
          0.16799999999999998
         ]
        },
        "xaxis12": {
         "anchor": "y12",
         "domain": [
          0.208,
          0.376
         ]
        },
        "xaxis13": {
         "anchor": "y13",
         "domain": [
          0.416,
          0.584
         ]
        },
        "xaxis14": {
         "anchor": "y14",
         "domain": [
          0.624,
          0.792
         ]
        },
        "xaxis15": {
         "anchor": "y15",
         "domain": [
          0.832,
          1
         ]
        },
        "xaxis16": {
         "anchor": "y16",
         "domain": [
          0,
          0.16799999999999998
         ]
        },
        "xaxis17": {
         "anchor": "y17",
         "domain": [
          0.208,
          0.376
         ]
        },
        "xaxis18": {
         "anchor": "y18",
         "domain": [
          0.416,
          0.584
         ]
        },
        "xaxis19": {
         "anchor": "y19",
         "domain": [
          0.624,
          0.792
         ]
        },
        "xaxis2": {
         "anchor": "y2",
         "domain": [
          0.208,
          0.376
         ]
        },
        "xaxis20": {
         "anchor": "y20",
         "domain": [
          0.832,
          1
         ]
        },
        "xaxis21": {
         "anchor": "y21",
         "domain": [
          0,
          0.16799999999999998
         ]
        },
        "xaxis22": {
         "anchor": "y22",
         "domain": [
          0.208,
          0.376
         ]
        },
        "xaxis23": {
         "anchor": "y23",
         "domain": [
          0.416,
          0.584
         ]
        },
        "xaxis24": {
         "anchor": "y24",
         "domain": [
          0.624,
          0.792
         ]
        },
        "xaxis25": {
         "anchor": "y25",
         "domain": [
          0.832,
          1
         ]
        },
        "xaxis26": {
         "anchor": "y26",
         "domain": [
          0,
          0.16799999999999998
         ]
        },
        "xaxis27": {
         "anchor": "y27",
         "domain": [
          0.208,
          0.376
         ]
        },
        "xaxis28": {
         "anchor": "y28",
         "domain": [
          0.416,
          0.584
         ]
        },
        "xaxis29": {
         "anchor": "y29",
         "domain": [
          0.624,
          0.792
         ]
        },
        "xaxis3": {
         "anchor": "y3",
         "domain": [
          0.416,
          0.584
         ]
        },
        "xaxis30": {
         "anchor": "y30",
         "domain": [
          0.832,
          1
         ]
        },
        "xaxis31": {
         "anchor": "y31",
         "domain": [
          0,
          0.16799999999999998
         ]
        },
        "xaxis32": {
         "anchor": "y32",
         "domain": [
          0.208,
          0.376
         ]
        },
        "xaxis33": {
         "anchor": "y33",
         "domain": [
          0.416,
          0.584
         ]
        },
        "xaxis34": {
         "anchor": "y34",
         "domain": [
          0.624,
          0.792
         ]
        },
        "xaxis35": {
         "anchor": "y35",
         "domain": [
          0.832,
          1
         ]
        },
        "xaxis36": {
         "anchor": "y36",
         "domain": [
          0,
          0.16799999999999998
         ]
        },
        "xaxis37": {
         "anchor": "y37",
         "domain": [
          0.208,
          0.376
         ]
        },
        "xaxis38": {
         "anchor": "y38",
         "domain": [
          0.416,
          0.584
         ]
        },
        "xaxis39": {
         "anchor": "y39",
         "domain": [
          0.624,
          0.792
         ]
        },
        "xaxis4": {
         "anchor": "y4",
         "domain": [
          0.624,
          0.792
         ]
        },
        "xaxis40": {
         "anchor": "y40",
         "domain": [
          0.832,
          1
         ]
        },
        "xaxis41": {
         "anchor": "y41",
         "domain": [
          0,
          0.16799999999999998
         ]
        },
        "xaxis42": {
         "anchor": "y42",
         "domain": [
          0.208,
          0.376
         ]
        },
        "xaxis43": {
         "anchor": "y43",
         "domain": [
          0.416,
          0.584
         ]
        },
        "xaxis44": {
         "anchor": "y44",
         "domain": [
          0.624,
          0.792
         ]
        },
        "xaxis45": {
         "anchor": "y45",
         "domain": [
          0.832,
          1
         ]
        },
        "xaxis5": {
         "anchor": "y5",
         "domain": [
          0.832,
          1
         ]
        },
        "xaxis6": {
         "anchor": "y6",
         "domain": [
          0,
          0.16799999999999998
         ]
        },
        "xaxis7": {
         "anchor": "y7",
         "domain": [
          0.208,
          0.376
         ]
        },
        "xaxis8": {
         "anchor": "y8",
         "domain": [
          0.416,
          0.584
         ]
        },
        "xaxis9": {
         "anchor": "y9",
         "domain": [
          0.624,
          0.792
         ]
        },
        "yaxis": {
         "anchor": "x",
         "domain": [
          0.9382716049382716,
          1
         ]
        },
        "yaxis10": {
         "anchor": "x10",
         "domain": [
          0.8209876543209876,
          0.8827160493827161
         ]
        },
        "yaxis11": {
         "anchor": "x11",
         "domain": [
          0.7037037037037037,
          0.7654320987654322
         ]
        },
        "yaxis12": {
         "anchor": "x12",
         "domain": [
          0.7037037037037037,
          0.7654320987654322
         ]
        },
        "yaxis13": {
         "anchor": "x13",
         "domain": [
          0.7037037037037037,
          0.7654320987654322
         ]
        },
        "yaxis14": {
         "anchor": "x14",
         "domain": [
          0.7037037037037037,
          0.7654320987654322
         ]
        },
        "yaxis15": {
         "anchor": "x15",
         "domain": [
          0.7037037037037037,
          0.7654320987654322
         ]
        },
        "yaxis16": {
         "anchor": "x16",
         "domain": [
          0.5864197530864198,
          0.6481481481481483
         ]
        },
        "yaxis17": {
         "anchor": "x17",
         "domain": [
          0.5864197530864198,
          0.6481481481481483
         ]
        },
        "yaxis18": {
         "anchor": "x18",
         "domain": [
          0.5864197530864198,
          0.6481481481481483
         ]
        },
        "yaxis19": {
         "anchor": "x19",
         "domain": [
          0.5864197530864198,
          0.6481481481481483
         ]
        },
        "yaxis2": {
         "anchor": "x2",
         "domain": [
          0.9382716049382716,
          1
         ]
        },
        "yaxis20": {
         "anchor": "x20",
         "domain": [
          0.5864197530864198,
          0.6481481481481483
         ]
        },
        "yaxis21": {
         "anchor": "x21",
         "domain": [
          0.4691358024691358,
          0.5308641975308642
         ]
        },
        "yaxis22": {
         "anchor": "x22",
         "domain": [
          0.4691358024691358,
          0.5308641975308642
         ]
        },
        "yaxis23": {
         "anchor": "x23",
         "domain": [
          0.4691358024691358,
          0.5308641975308642
         ]
        },
        "yaxis24": {
         "anchor": "x24",
         "domain": [
          0.4691358024691358,
          0.5308641975308642
         ]
        },
        "yaxis25": {
         "anchor": "x25",
         "domain": [
          0.4691358024691358,
          0.5308641975308642
         ]
        },
        "yaxis26": {
         "anchor": "x26",
         "domain": [
          0.35185185185185186,
          0.41358024691358025
         ]
        },
        "yaxis27": {
         "anchor": "x27",
         "domain": [
          0.35185185185185186,
          0.41358024691358025
         ]
        },
        "yaxis28": {
         "anchor": "x28",
         "domain": [
          0.35185185185185186,
          0.41358024691358025
         ]
        },
        "yaxis29": {
         "anchor": "x29",
         "domain": [
          0.35185185185185186,
          0.41358024691358025
         ]
        },
        "yaxis3": {
         "anchor": "x3",
         "domain": [
          0.9382716049382716,
          1
         ]
        },
        "yaxis30": {
         "anchor": "x30",
         "domain": [
          0.35185185185185186,
          0.41358024691358025
         ]
        },
        "yaxis31": {
         "anchor": "x31",
         "domain": [
          0.2345679012345679,
          0.2962962962962963
         ]
        },
        "yaxis32": {
         "anchor": "x32",
         "domain": [
          0.2345679012345679,
          0.2962962962962963
         ]
        },
        "yaxis33": {
         "anchor": "x33",
         "domain": [
          0.2345679012345679,
          0.2962962962962963
         ]
        },
        "yaxis34": {
         "anchor": "x34",
         "domain": [
          0.2345679012345679,
          0.2962962962962963
         ]
        },
        "yaxis35": {
         "anchor": "x35",
         "domain": [
          0.2345679012345679,
          0.2962962962962963
         ]
        },
        "yaxis36": {
         "anchor": "x36",
         "domain": [
          0.11728395061728394,
          0.17901234567901234
         ]
        },
        "yaxis37": {
         "anchor": "x37",
         "domain": [
          0.11728395061728394,
          0.17901234567901234
         ]
        },
        "yaxis38": {
         "anchor": "x38",
         "domain": [
          0.11728395061728394,
          0.17901234567901234
         ]
        },
        "yaxis39": {
         "anchor": "x39",
         "domain": [
          0.11728395061728394,
          0.17901234567901234
         ]
        },
        "yaxis4": {
         "anchor": "x4",
         "domain": [
          0.9382716049382716,
          1
         ]
        },
        "yaxis40": {
         "anchor": "x40",
         "domain": [
          0.11728395061728394,
          0.17901234567901234
         ]
        },
        "yaxis41": {
         "anchor": "x41",
         "domain": [
          0,
          0.0617283950617284
         ]
        },
        "yaxis42": {
         "anchor": "x42",
         "domain": [
          0,
          0.0617283950617284
         ]
        },
        "yaxis43": {
         "anchor": "x43",
         "domain": [
          0,
          0.0617283950617284
         ]
        },
        "yaxis44": {
         "anchor": "x44",
         "domain": [
          0,
          0.0617283950617284
         ]
        },
        "yaxis45": {
         "anchor": "x45",
         "domain": [
          0,
          0.0617283950617284
         ]
        },
        "yaxis5": {
         "anchor": "x5",
         "domain": [
          0.9382716049382716,
          1
         ]
        },
        "yaxis6": {
         "anchor": "x6",
         "domain": [
          0.8209876543209876,
          0.8827160493827161
         ]
        },
        "yaxis7": {
         "anchor": "x7",
         "domain": [
          0.8209876543209876,
          0.8827160493827161
         ]
        },
        "yaxis8": {
         "anchor": "x8",
         "domain": [
          0.8209876543209876,
          0.8827160493827161
         ]
        },
        "yaxis9": {
         "anchor": "x9",
         "domain": [
          0.8209876543209876,
          0.8827160493827161
         ]
        }
       }
      },
      "text/html": [
       "<div>\n",
       "        \n",
       "        \n",
       "            <div id=\"66b0a93b-2a6c-4802-b099-d0d92a2c8a5d\" class=\"plotly-graph-div\" style=\"height:2000px; width:2000px;\"></div>\n",
       "            <script type=\"text/javascript\">\n",
       "                require([\"plotly\"], function(Plotly) {\n",
       "                    window.PLOTLYENV=window.PLOTLYENV || {};\n",
       "                    window.PLOTLYENV.BASE_URL='https://plot.ly';\n",
       "                    \n",
       "                if (document.getElementById(\"66b0a93b-2a6c-4802-b099-d0d92a2c8a5d\")) {\n",
       "                    Plotly.newPlot(\n",
       "                        '66b0a93b-2a6c-4802-b099-d0d92a2c8a5d',\n",
       "                        [{\"name\": \"per:title\", \"type\": \"scatter\", \"uid\": \"9adbf723-f235-4b4b-b3d8-d7eea8a1ceaa\", \"x\": [3, 4, 5, 6, 7, 8, 9, 10], \"xaxis\": \"x\", \"y\": [0.003791469194312796, 0.01990521327014218, 0.08720379146919431, 0.10616113744075831, 0.14597156398104266, 0.2123222748815166, 0.2123222748815166, 0.2123222748815166], \"yaxis\": \"y\"}, {\"name\": \"org:top_members/employees\", \"type\": \"scatter\", \"uid\": \"8cbf71c6-6c86-4a45-83b7-767ad605ebb0\", \"x\": [2, 3, 4, 5, 6, 7, 8, 9, 10], \"xaxis\": \"x2\", \"y\": [0.021246877899351122, 0.01019850139168854, 0.006853831580435846, 0.02236513463089592, 0.17444805012098819, 0.08498751159740449, 0.16997502319480898, 0.2549625347922135, 0.2549625347922135], \"yaxis\": \"y2\"}, {\"name\": \"org:country_of_headquarters\", \"type\": \"scatter\", \"uid\": \"e81a66e8-f8cd-4b22-9712-5a4c6288676b\", \"x\": [3, 4, 5, 6, 7, 8, 9, 10, 11, 12, 17], \"xaxis\": \"x3\", \"y\": [0.010933229207340881, 0.04099960952752831, 0.043732916829363526, 0.0749707145646232, 0.0749707145646232, 0.1311987504880906, 0.1311987504880906, 0.09839906286606795, 0.1311987504880906, 0.1311987504880906, 0.1311987504880906], \"yaxis\": \"y3\"}, {\"name\": \"per:parents\", \"type\": \"scatter\", \"uid\": \"f0de2bfb-97d1-4ea8-8c81-bd2acfd13db9\", \"x\": [2, 3, 4, 5, 6, 7, 9], \"xaxis\": \"x4\", \"y\": [0.15716911764705882, 0.022058823529411766, 0.10477941176470588, 0.13970588235294118, 0.15716911764705882, 0.20955882352941177, 0.20955882352941177], \"yaxis\": \"y4\"}, {\"name\": \"per:children\", \"type\": \"scatter\", \"uid\": \"5344c4e3-6933-4e57-a5ce-3db55ba78596\", \"x\": [2, 3, 4, 5, 6, 7, 8], \"xaxis\": \"x5\", \"y\": [0.10901883052527254, 0.04360753221010902, 0.13875123885034688, 0.16352824578790884, 0.2180376610505451, 0.2180376610505451, 0.10901883052527254], \"yaxis\": \"y5\"}, {\"name\": \"per:charges\", \"type\": \"scatter\", \"uid\": \"0d9bb3f7-a4a5-4d6e-8363-44b480fe7f90\", \"x\": [2, 3, 4, 5, 6, 7, 8, 9], \"xaxis\": \"x6\", \"y\": [0.04523568170299036, 0.0516979219462747, 0.12924480486568674, 0.1383679675620882, 0.1680182463253928, 0.16586416624429798, 0.12062848454130762, 0.18094272681196144], \"yaxis\": \"y6\"}, {\"name\": \"per:origin\", \"type\": \"scatter\", \"uid\": \"e64962ec-c12b-4418-a9ba-7f6fd9b894b8\", \"x\": [2, 3, 4, 5, 6, 7, 8, 9, 10], \"xaxis\": \"x7\", \"y\": [0.011563199575442964, 0.010202823154802615, 0.04047119851405037, 0.12007938020652308, 0.12389142402260316, 0.17344799363164445, 0.17344799363164445, 0.17344799363164445, 0.17344799363164445], \"yaxis\": \"y7\"}, {\"name\": \"per:alternate_names\", \"type\": \"scatter\", \"uid\": \"d0a33ef5-d14e-4481-9510-c5cadf2e810a\", \"x\": [4, 7, 8, 9, 11], \"xaxis\": \"x8\", \"y\": [0.2, 0.2, 0.2, 0.2, 0.2], \"yaxis\": \"y8\"}, {\"name\": \"per:age\", \"type\": \"scatter\", \"uid\": \"90356aef-b240-4790-96d3-b8a27189388a\", \"x\": [2, 3, 4, 5, 6, 7], \"xaxis\": \"x9\", \"y\": [0.016056887257713037, 0.03693084069273999, 0.11606835646289712, 0.2154299040409833, 0.2462056046182666, 0.36930840692739997], \"yaxis\": \"y9\"}, {\"name\": \"per:cities_of_residence\", \"type\": \"scatter\", \"uid\": \"93850a86-ee67-4ef5-95ba-cc379bb7af90\", \"x\": [2, 3, 4, 5, 6, 7, 8, 9, 10], \"xaxis\": \"x10\", \"y\": [0.04702966271519169, 0.013201308832334507, 0.0321178184396431, 0.055329014959049044, 0.13747132178286803, 0.18811865086076676, 0.15049492068861342, 0.18811865086076676, 0.18811865086076676], \"yaxis\": \"y10\"}, {\"name\": \"per:stateorprovince_of_death\", \"type\": \"scatter\", \"uid\": \"624a70f8-c761-41a2-8011-e4d638184534\", \"x\": [4, 6, 7, 8, 11], \"xaxis\": \"x11\", \"y\": [0.2, 0.2, 0.2, 0.2, 0.2], \"yaxis\": \"y11\"}, {\"name\": \"per:employee_of\", \"type\": \"scatter\", \"uid\": \"9ca0ee11-0e00-45ea-8753-091e2296b319\", \"x\": [3, 4, 5, 6, 7, 8, 9, 10], \"xaxis\": \"x12\", \"y\": [0.02056162311151638, 0.008699148239487699, 0.05974509356931176, 0.1130889271133401, 0.17591610884297346, 0.16963339067001015, 0.2261778542266802, 0.2261778542266802], \"yaxis\": \"y12\"}, {\"name\": \"org:members\", \"type\": \"scatter\", \"uid\": \"79831848-1492-42c0-9dbf-c370a0eaf792\", \"x\": [3, 4, 5, 6, 7, 9, 10, 13], \"xaxis\": \"x13\", \"y\": [0.06741573033707866, 0.07865168539325844, 0.15730337078651688, 0.06741573033707866, 0.15730337078651688, 0.15730337078651688, 0.15730337078651688, 0.15730337078651688], \"yaxis\": \"y13\"}, {\"name\": \"org:parents\", \"type\": \"scatter\", \"uid\": \"93ea9332-3ec6-4aa2-8c3a-fd75033f7761\", \"x\": [3, 4, 5, 6, 7, 8, 9, 10], \"xaxis\": \"x14\", \"y\": [0.02233049127080796, 0.048721071863580996, 0.0952767627554473, 0.1190959534443091, 0.17864393016646365, 0.17864393016646368, 0.17864393016646368, 0.17864393016646368], \"yaxis\": \"y14\"}, {\"name\": \"per:cause_of_death\", \"type\": \"scatter\", \"uid\": \"b3d0b186-4e20-47ed-abc4-2e2219a976e7\", \"x\": [2, 3, 4, 5, 6, 7, 8, 9, 10], \"xaxis\": \"x15\", \"y\": [0.0913978494623656, 0.0913978494623656, 0.08602150537634409, 0.12186379928315412, 0.1218637992831541, 0.12186379928315412, 0.12186379928315412, 0.12186379928315412, 0.12186379928315412], \"yaxis\": \"y15\"}, {\"name\": \"org:member_of\", \"type\": \"scatter\", \"uid\": \"3188a67e-23e1-4c11-bf2e-2c0433f16e07\", \"x\": [3, 4, 5, 6, 7, 8, 9], \"xaxis\": \"x16\", \"y\": [0.11494252873563218, 0.05747126436781609, 0.1379310344827586, 0.17241379310344826, 0.17241379310344826, 0.17241379310344826, 0.17241379310344826], \"yaxis\": \"y16\"}, {\"name\": \"per:stateorprovinces_of_residence\", \"type\": \"scatter\", \"uid\": \"e43fe197-6750-49ed-9485-2cfafa862701\", \"x\": [3, 4, 5, 6, 7, 8, 9, 10, 12], \"xaxis\": \"x17\", \"y\": [0.0072407551073183345, 0.03185932247220068, 0.05689164727178692, 0.13938453581587795, 0.1274372898888027, 0.15929661236100337, 0.15929661236100337, 0.15929661236100337, 0.15929661236100337], \"yaxis\": \"y17\"}, {\"name\": \"per:country_of_birth\", \"type\": \"scatter\", \"uid\": \"dd2f4b90-77f1-4b59-8cc5-1577385b20ee\", \"x\": [4, 6], \"xaxis\": \"x18\", \"y\": [0.3333333333333333, 0.6666666666666666], \"yaxis\": \"y18\"}, {\"name\": \"org:shareholders\", \"type\": \"scatter\", \"uid\": \"db2f3231-200e-4c2f-b151-c60ec7116875\", \"x\": [3, 4, 5, 7, 9], \"xaxis\": \"x19\", \"y\": [0.2222222222222222, 0.1111111111111111, 0.2222222222222222, 0.2222222222222222, 0.2222222222222222], \"yaxis\": \"y19\"}, {\"name\": \"per:other_family\", \"type\": \"scatter\", \"uid\": \"c4f20d29-3a80-45f6-b441-6dd540e5d74c\", \"x\": [2, 4, 5, 6, 8, 9, 10], \"xaxis\": \"x20\", \"y\": [0.17186926184355492, 0.03819316929856776, 0.14542783694454645, 0.1289019463826662, 0.17186926184355492, 0.17186926184355492, 0.17186926184355492], \"yaxis\": \"y20\"}, {\"name\": \"org:stateorprovince_of_headquarters\", \"type\": \"scatter\", \"uid\": \"925b1ad3-a273-4ff1-a561-2bbbed703814\", \"x\": [3, 4, 5, 6, 7, 8, 13, 14], \"xaxis\": \"x21\", \"y\": [0.0212577502214349, 0.03985828166519044, 0.141718334809566, 0.15943312666076176, 0.15943312666076176, 0.15943312666076176, 0.15943312666076176, 0.15943312666076176], \"yaxis\": \"y21\"}, {\"name\": \"per:city_of_death\", \"type\": \"scatter\", \"uid\": \"f38ff6ee-2538-4e0a-b503-cd7c18ba623d\", \"x\": [5, 6, 7, 8, 9, 10], \"xaxis\": \"x22\", \"y\": [0.18181818181818182, 0.13636363636363635, 0.13636363636363635, 0.18181818181818182, 0.18181818181818182, 0.18181818181818182], \"yaxis\": \"y22\"}, {\"name\": \"per:countries_of_residence\", \"type\": \"scatter\", \"uid\": \"b1541054-e880-41d9-94ea-451eb7007aee\", \"x\": [3, 4, 5, 6, 7, 8, 9, 10, 11, 12], \"xaxis\": \"x23\", \"y\": [0.018584481957565437, 0.0402663775747251, 0.06132879045996593, 0.0905993495431315, 0.06442620411956017, 0.14495895926901037, 0.14495895926901037, 0.14495895926901037, 0.14495895926901037, 0.14495895926901037], \"yaxis\": \"y23\"}, {\"name\": \"per:spouse\", \"type\": \"scatter\", \"uid\": \"ce877a7e-34c1-4a3d-a78e-854ea68da6ef\", \"x\": [3, 4, 5, 6, 7, 8, 9], \"xaxis\": \"x24\", \"y\": [0.02111417898327107, 0.022169887932434625, 0.1364300795842131, 0.19952899139191163, 0.177359103459477, 0.22169887932434626, 0.22169887932434626], \"yaxis\": \"y24\"}, {\"name\": \"per:religion\", \"type\": \"scatter\", \"uid\": \"78393ea6-e8c9-477a-81b8-75f24221f647\", \"x\": [3, 4, 5, 6, 7], \"xaxis\": \"x25\", \"y\": [0.06635071090047394, 0.17061611374407581, 0.23222748815165875, 0.26540284360189575, 0.26540284360189575], \"yaxis\": \"y25\"}, {\"name\": \"per:date_of_death\", \"type\": \"scatter\", \"uid\": \"ce78ce05-93b8-47ed-8953-05a46dd4e3c4\", \"x\": [2, 3, 4, 5, 6, 7, 8, 11], \"xaxis\": \"x26\", \"y\": [0.09841679935109802, 0.024604199837774506, 0.030282092108030165, 0.08748159942319825, 0.16871451317331093, 0.19683359870219605, 0.19683359870219605, 0.19683359870219605], \"yaxis\": \"y26\"}, {\"name\": \"org:subsidiaries\", \"type\": \"scatter\", \"uid\": \"db45e3a2-717d-4260-ae4d-41c26170fdf4\", \"x\": [3, 4, 5, 6, 7, 8, 9], \"xaxis\": \"x27\", \"y\": [0.039073806078147616, 0.04630969609261939, 0.18523878437047755, 0.10419681620839363, 0.20839363241678727, 0.20839363241678727, 0.20839363241678727], \"yaxis\": \"y27\"}, {\"name\": \"org:alternate_names\", \"type\": \"scatter\", \"uid\": \"58e92708-667e-4bad-87d5-e4dd3bbdfbf2\", \"x\": [4, 5, 7, 8, 9, 10], \"xaxis\": \"x28\", \"y\": [0.12903225806451613, 0.09677419354838711, 0.19354838709677422, 0.19354838709677422, 0.19354838709677422, 0.19354838709677422], \"yaxis\": \"y28\"}, {\"name\": \"org:political/religious_affiliation\", \"type\": \"scatter\", \"uid\": \"633696de-b3cc-4d71-8099-92da85d50bc9\", \"x\": [4, 5, 8], \"xaxis\": \"x29\", \"y\": [0.29411764705882354, 0.3529411764705882, 0.3529411764705882], \"yaxis\": \"y29\"}, {\"name\": \"org:number_of_employees/members\", \"type\": \"scatter\", \"uid\": \"2e560420-d865-4943-ba99-c2b81f8e95c6\", \"x\": [5, 7, 8, 9], \"xaxis\": \"x30\", \"y\": [0.14285714285714285, 0.2857142857142857, 0.2857142857142857, 0.2857142857142857], \"yaxis\": \"y30\"}, {\"name\": \"org:city_of_headquarters\", \"type\": \"scatter\", \"uid\": \"c1794d94-9083-47a5-8bf6-27a1bae0acff\", \"x\": [3, 4, 5, 6, 7, 9], \"xaxis\": \"x31\", \"y\": [0.022273051108028043, 0.04124639094079268, 0.1012411414001275, 0.27841313885035057, 0.27841313885035057, 0.27841313885035057], \"yaxis\": \"y31\"}, {\"name\": \"org:website\", \"type\": \"scatter\", \"uid\": \"7aa23318-07f7-41b8-97ea-60a4524ca528\", \"x\": [2, 3, 4, 5, 8], \"xaxis\": \"x32\", \"y\": [0.03381642512077295, 0.15458937198067632, 0.2705314009661836, 0.2705314009661836, 0.2705314009661836], \"yaxis\": \"y32\"}, {\"name\": \"per:country_of_death\", \"type\": \"scatter\", \"uid\": \"b432a118-9aa6-43cc-879d-02534beddbce\", \"x\": [3, 4, 5, 7, 8, 10], \"xaxis\": \"x33\", \"y\": [0.16666666666666666, 0.16666666666666666, 0.16666666666666666, 0.16666666666666666, 0.16666666666666666, 0.16666666666666666], \"yaxis\": \"y33\"}, {\"name\": \"org:founded_by\", \"type\": \"scatter\", \"uid\": \"efa5ba1b-6143-4b3f-adf8-ced1dd634735\", \"x\": [4, 5, 6, 7, 9], \"xaxis\": \"x34\", \"y\": [0.08094435075885328, 0.21079258010118043, 0.20236087689713322, 0.25295109612141653, 0.25295109612141653], \"yaxis\": \"y34\"}, {\"name\": \"per:siblings\", \"type\": \"scatter\", \"uid\": \"069974fb-8f6b-4478-826a-7870ac59cc8e\", \"x\": [3, 4, 5, 6, 7, 8], \"xaxis\": \"x35\", \"y\": [0.06616257088846882, 0.11342155009451797, 0.07939508506616258, 0.2117202268431002, 0.26465028355387527, 0.26465028355387527], \"yaxis\": \"y35\"}, {\"name\": \"per:schools_attended\", \"type\": \"scatter\", \"uid\": \"0459f98a-48f6-46b8-afa3-d8a6df5211e1\", \"x\": [2, 3, 4, 6, 7], \"xaxis\": \"x36\", \"y\": [0.2781456953642384, 0.046357615894039736, 0.11920529801324503, 0.2781456953642384, 0.2781456953642384], \"yaxis\": \"y36\"}, {\"name\": \"per:city_of_birth\", \"type\": \"scatter\", \"uid\": \"05bb8220-0003-4c42-a003-4aa1cb627171\", \"x\": [3, 4, 5], \"xaxis\": \"x37\", \"y\": [0.14285714285714285, 0.42857142857142855, 0.42857142857142855], \"yaxis\": \"y37\"}, {\"name\": \"org:founded\", \"type\": \"scatter\", \"uid\": \"3979cfb6-db2b-40bf-bbce-9e5c919beef8\", \"x\": [3, 5, 6, 9], \"xaxis\": \"x38\", \"y\": [0.026455026455026457, 0.3386243386243386, 0.21164021164021166, 0.4232804232804233], \"yaxis\": \"y38\"}, {\"name\": \"org:dissolved\", \"type\": \"scatter\", \"uid\": \"62647e53-1cc3-4fb2-b69d-0bca7729c884\", \"x\": [3, 6], \"xaxis\": \"x39\", \"y\": [0.5, 0.5], \"yaxis\": \"y39\"}, {\"name\": \"per:stateorprovince_of_birth\", \"type\": \"scatter\", \"uid\": \"c5827264-f755-4991-a8ab-1a8002ff5857\", \"x\": [3, 5, 7], \"xaxis\": \"x40\", \"y\": [0.09090909090909091, 0.45454545454545453, 0.45454545454545453], \"yaxis\": \"y40\"}, {\"name\": \"per:date_of_birth\", \"type\": \"scatter\", \"uid\": \"7d142818-38fa-4749-9628-daefe6334a58\", \"x\": [3, 7], \"xaxis\": \"x41\", \"y\": [0.14285714285714285, 0.8571428571428571], \"yaxis\": \"y41\"}],\n",
       "                        {\"annotations\": [{\"font\": {\"family\": \"Arial\", \"size\": 10}, \"showarrow\": false, \"text\": \"per:title\", \"x\": 0.08399999999999999, \"xanchor\": \"center\", \"xref\": \"paper\", \"y\": 1.0, \"yanchor\": \"bottom\", \"yref\": \"paper\"}, {\"font\": {\"family\": \"Arial\", \"size\": 10}, \"showarrow\": false, \"text\": \"org:top_members/employees\", \"x\": 0.292, \"xanchor\": \"center\", \"xref\": \"paper\", \"y\": 1.0, \"yanchor\": \"bottom\", \"yref\": \"paper\"}, {\"font\": {\"family\": \"Arial\", \"size\": 10}, \"showarrow\": false, \"text\": \"org:country_of_headquarters\", \"x\": 0.5, \"xanchor\": \"center\", \"xref\": \"paper\", \"y\": 1.0, \"yanchor\": \"bottom\", \"yref\": \"paper\"}, {\"font\": {\"family\": \"Arial\", \"size\": 10}, \"showarrow\": false, \"text\": \"per:parents\", \"x\": 0.708, \"xanchor\": \"center\", \"xref\": \"paper\", \"y\": 1.0, \"yanchor\": \"bottom\", \"yref\": \"paper\"}, {\"font\": {\"family\": \"Arial\", \"size\": 10}, \"showarrow\": false, \"text\": \"per:children\", \"x\": 0.9159999999999999, \"xanchor\": \"center\", \"xref\": \"paper\", \"y\": 1.0, \"yanchor\": \"bottom\", \"yref\": \"paper\"}, {\"font\": {\"family\": \"Arial\", \"size\": 10}, \"showarrow\": false, \"text\": \"per:charges\", \"x\": 0.08399999999999999, \"xanchor\": \"center\", \"xref\": \"paper\", \"y\": 0.8827160493827161, \"yanchor\": \"bottom\", \"yref\": \"paper\"}, {\"font\": {\"family\": \"Arial\", \"size\": 10}, \"showarrow\": false, \"text\": \"per:origin\", \"x\": 0.292, \"xanchor\": \"center\", \"xref\": \"paper\", \"y\": 0.8827160493827161, \"yanchor\": \"bottom\", \"yref\": \"paper\"}, {\"font\": {\"family\": \"Arial\", \"size\": 10}, \"showarrow\": false, \"text\": \"per:alternate_names\", \"x\": 0.5, \"xanchor\": \"center\", \"xref\": \"paper\", \"y\": 0.8827160493827161, \"yanchor\": \"bottom\", \"yref\": \"paper\"}, {\"font\": {\"family\": \"Arial\", \"size\": 10}, \"showarrow\": false, \"text\": \"per:age\", \"x\": 0.708, \"xanchor\": \"center\", \"xref\": \"paper\", \"y\": 0.8827160493827161, \"yanchor\": \"bottom\", \"yref\": \"paper\"}, {\"font\": {\"family\": \"Arial\", \"size\": 10}, \"showarrow\": false, \"text\": \"per:cities_of_residence\", \"x\": 0.9159999999999999, \"xanchor\": \"center\", \"xref\": \"paper\", \"y\": 0.8827160493827161, \"yanchor\": \"bottom\", \"yref\": \"paper\"}, {\"font\": {\"family\": \"Arial\", \"size\": 10}, \"showarrow\": false, \"text\": \"per:stateorprovince_of_death\", \"x\": 0.08399999999999999, \"xanchor\": \"center\", \"xref\": \"paper\", \"y\": 0.7654320987654322, \"yanchor\": \"bottom\", \"yref\": \"paper\"}, {\"font\": {\"family\": \"Arial\", \"size\": 10}, \"showarrow\": false, \"text\": \"per:employee_of\", \"x\": 0.292, \"xanchor\": \"center\", \"xref\": \"paper\", \"y\": 0.7654320987654322, \"yanchor\": \"bottom\", \"yref\": \"paper\"}, {\"font\": {\"family\": \"Arial\", \"size\": 10}, \"showarrow\": false, \"text\": \"org:members\", \"x\": 0.5, \"xanchor\": \"center\", \"xref\": \"paper\", \"y\": 0.7654320987654322, \"yanchor\": \"bottom\", \"yref\": \"paper\"}, {\"font\": {\"family\": \"Arial\", \"size\": 10}, \"showarrow\": false, \"text\": \"org:parents\", \"x\": 0.708, \"xanchor\": \"center\", \"xref\": \"paper\", \"y\": 0.7654320987654322, \"yanchor\": \"bottom\", \"yref\": \"paper\"}, {\"font\": {\"family\": \"Arial\", \"size\": 10}, \"showarrow\": false, \"text\": \"per:cause_of_death\", \"x\": 0.9159999999999999, \"xanchor\": \"center\", \"xref\": \"paper\", \"y\": 0.7654320987654322, \"yanchor\": \"bottom\", \"yref\": \"paper\"}, {\"font\": {\"family\": \"Arial\", \"size\": 10}, \"showarrow\": false, \"text\": \"org:member_of\", \"x\": 0.08399999999999999, \"xanchor\": \"center\", \"xref\": \"paper\", \"y\": 0.6481481481481483, \"yanchor\": \"bottom\", \"yref\": \"paper\"}, {\"font\": {\"family\": \"Arial\", \"size\": 10}, \"showarrow\": false, \"text\": \"per:stateorprovinces_of_residence\", \"x\": 0.292, \"xanchor\": \"center\", \"xref\": \"paper\", \"y\": 0.6481481481481483, \"yanchor\": \"bottom\", \"yref\": \"paper\"}, {\"font\": {\"family\": \"Arial\", \"size\": 10}, \"showarrow\": false, \"text\": \"per:country_of_birth\", \"x\": 0.5, \"xanchor\": \"center\", \"xref\": \"paper\", \"y\": 0.6481481481481483, \"yanchor\": \"bottom\", \"yref\": \"paper\"}, {\"font\": {\"family\": \"Arial\", \"size\": 10}, \"showarrow\": false, \"text\": \"org:shareholders\", \"x\": 0.708, \"xanchor\": \"center\", \"xref\": \"paper\", \"y\": 0.6481481481481483, \"yanchor\": \"bottom\", \"yref\": \"paper\"}, {\"font\": {\"family\": \"Arial\", \"size\": 10}, \"showarrow\": false, \"text\": \"per:other_family\", \"x\": 0.9159999999999999, \"xanchor\": \"center\", \"xref\": \"paper\", \"y\": 0.6481481481481483, \"yanchor\": \"bottom\", \"yref\": \"paper\"}, {\"font\": {\"family\": \"Arial\", \"size\": 10}, \"showarrow\": false, \"text\": \"org:stateorprovince_of_headquarters\", \"x\": 0.08399999999999999, \"xanchor\": \"center\", \"xref\": \"paper\", \"y\": 0.5308641975308642, \"yanchor\": \"bottom\", \"yref\": \"paper\"}, {\"font\": {\"family\": \"Arial\", \"size\": 10}, \"showarrow\": false, \"text\": \"per:city_of_death\", \"x\": 0.292, \"xanchor\": \"center\", \"xref\": \"paper\", \"y\": 0.5308641975308642, \"yanchor\": \"bottom\", \"yref\": \"paper\"}, {\"font\": {\"family\": \"Arial\", \"size\": 10}, \"showarrow\": false, \"text\": \"per:countries_of_residence\", \"x\": 0.5, \"xanchor\": \"center\", \"xref\": \"paper\", \"y\": 0.5308641975308642, \"yanchor\": \"bottom\", \"yref\": \"paper\"}, {\"font\": {\"family\": \"Arial\", \"size\": 10}, \"showarrow\": false, \"text\": \"per:spouse\", \"x\": 0.708, \"xanchor\": \"center\", \"xref\": \"paper\", \"y\": 0.5308641975308642, \"yanchor\": \"bottom\", \"yref\": \"paper\"}, {\"font\": {\"family\": \"Arial\", \"size\": 10}, \"showarrow\": false, \"text\": \"per:religion\", \"x\": 0.9159999999999999, \"xanchor\": \"center\", \"xref\": \"paper\", \"y\": 0.5308641975308642, \"yanchor\": \"bottom\", \"yref\": \"paper\"}, {\"font\": {\"family\": \"Arial\", \"size\": 10}, \"showarrow\": false, \"text\": \"per:date_of_death\", \"x\": 0.08399999999999999, \"xanchor\": \"center\", \"xref\": \"paper\", \"y\": 0.41358024691358025, \"yanchor\": \"bottom\", \"yref\": \"paper\"}, {\"font\": {\"family\": \"Arial\", \"size\": 10}, \"showarrow\": false, \"text\": \"org:subsidiaries\", \"x\": 0.292, \"xanchor\": \"center\", \"xref\": \"paper\", \"y\": 0.41358024691358025, \"yanchor\": \"bottom\", \"yref\": \"paper\"}, {\"font\": {\"family\": \"Arial\", \"size\": 10}, \"showarrow\": false, \"text\": \"org:alternate_names\", \"x\": 0.5, \"xanchor\": \"center\", \"xref\": \"paper\", \"y\": 0.41358024691358025, \"yanchor\": \"bottom\", \"yref\": \"paper\"}, {\"font\": {\"family\": \"Arial\", \"size\": 10}, \"showarrow\": false, \"text\": \"org:political/religious_affiliation\", \"x\": 0.708, \"xanchor\": \"center\", \"xref\": \"paper\", \"y\": 0.41358024691358025, \"yanchor\": \"bottom\", \"yref\": \"paper\"}, {\"font\": {\"family\": \"Arial\", \"size\": 10}, \"showarrow\": false, \"text\": \"org:number_of_employees/members\", \"x\": 0.9159999999999999, \"xanchor\": \"center\", \"xref\": \"paper\", \"y\": 0.41358024691358025, \"yanchor\": \"bottom\", \"yref\": \"paper\"}, {\"font\": {\"family\": \"Arial\", \"size\": 10}, \"showarrow\": false, \"text\": \"org:city_of_headquarters\", \"x\": 0.08399999999999999, \"xanchor\": \"center\", \"xref\": \"paper\", \"y\": 0.2962962962962963, \"yanchor\": \"bottom\", \"yref\": \"paper\"}, {\"font\": {\"family\": \"Arial\", \"size\": 10}, \"showarrow\": false, \"text\": \"org:website\", \"x\": 0.292, \"xanchor\": \"center\", \"xref\": \"paper\", \"y\": 0.2962962962962963, \"yanchor\": \"bottom\", \"yref\": \"paper\"}, {\"font\": {\"family\": \"Arial\", \"size\": 10}, \"showarrow\": false, \"text\": \"per:country_of_death\", \"x\": 0.5, \"xanchor\": \"center\", \"xref\": \"paper\", \"y\": 0.2962962962962963, \"yanchor\": \"bottom\", \"yref\": \"paper\"}, {\"font\": {\"family\": \"Arial\", \"size\": 10}, \"showarrow\": false, \"text\": \"org:founded_by\", \"x\": 0.708, \"xanchor\": \"center\", \"xref\": \"paper\", \"y\": 0.2962962962962963, \"yanchor\": \"bottom\", \"yref\": \"paper\"}, {\"font\": {\"family\": \"Arial\", \"size\": 10}, \"showarrow\": false, \"text\": \"per:siblings\", \"x\": 0.9159999999999999, \"xanchor\": \"center\", \"xref\": \"paper\", \"y\": 0.2962962962962963, \"yanchor\": \"bottom\", \"yref\": \"paper\"}, {\"font\": {\"family\": \"Arial\", \"size\": 10}, \"showarrow\": false, \"text\": \"per:schools_attended\", \"x\": 0.08399999999999999, \"xanchor\": \"center\", \"xref\": \"paper\", \"y\": 0.17901234567901234, \"yanchor\": \"bottom\", \"yref\": \"paper\"}, {\"font\": {\"family\": \"Arial\", \"size\": 10}, \"showarrow\": false, \"text\": \"per:city_of_birth\", \"x\": 0.292, \"xanchor\": \"center\", \"xref\": \"paper\", \"y\": 0.17901234567901234, \"yanchor\": \"bottom\", \"yref\": \"paper\"}, {\"font\": {\"family\": \"Arial\", \"size\": 10}, \"showarrow\": false, \"text\": \"org:founded\", \"x\": 0.5, \"xanchor\": \"center\", \"xref\": \"paper\", \"y\": 0.17901234567901234, \"yanchor\": \"bottom\", \"yref\": \"paper\"}, {\"font\": {\"family\": \"Arial\", \"size\": 10}, \"showarrow\": false, \"text\": \"org:dissolved\", \"x\": 0.708, \"xanchor\": \"center\", \"xref\": \"paper\", \"y\": 0.17901234567901234, \"yanchor\": \"bottom\", \"yref\": \"paper\"}, {\"font\": {\"family\": \"Arial\", \"size\": 10}, \"showarrow\": false, \"text\": \"per:stateorprovince_of_birth\", \"x\": 0.9159999999999999, \"xanchor\": \"center\", \"xref\": \"paper\", \"y\": 0.17901234567901234, \"yanchor\": \"bottom\", \"yref\": \"paper\"}, {\"font\": {\"family\": \"Arial\", \"size\": 10}, \"showarrow\": false, \"text\": \"per:date_of_birth\", \"x\": 0.08399999999999999, \"xanchor\": \"center\", \"xref\": \"paper\", \"y\": 0.0617283950617284, \"yanchor\": \"bottom\", \"yref\": \"paper\"}], \"font\": {\"family\": \"Arial\", \"size\": 12}, \"height\": 2000, \"title\": {\"text\": \"UCCA: Path length to weighted number of false negatives\"}, \"width\": 2000, \"xaxis\": {\"anchor\": \"y\", \"domain\": [0.0, 0.16799999999999998]}, \"xaxis10\": {\"anchor\": \"y10\", \"domain\": [0.832, 1.0]}, \"xaxis11\": {\"anchor\": \"y11\", \"domain\": [0.0, 0.16799999999999998]}, \"xaxis12\": {\"anchor\": \"y12\", \"domain\": [0.208, 0.376]}, \"xaxis13\": {\"anchor\": \"y13\", \"domain\": [0.416, 0.584]}, \"xaxis14\": {\"anchor\": \"y14\", \"domain\": [0.624, 0.792]}, \"xaxis15\": {\"anchor\": \"y15\", \"domain\": [0.832, 1.0]}, \"xaxis16\": {\"anchor\": \"y16\", \"domain\": [0.0, 0.16799999999999998]}, \"xaxis17\": {\"anchor\": \"y17\", \"domain\": [0.208, 0.376]}, \"xaxis18\": {\"anchor\": \"y18\", \"domain\": [0.416, 0.584]}, \"xaxis19\": {\"anchor\": \"y19\", \"domain\": [0.624, 0.792]}, \"xaxis2\": {\"anchor\": \"y2\", \"domain\": [0.208, 0.376]}, \"xaxis20\": {\"anchor\": \"y20\", \"domain\": [0.832, 1.0]}, \"xaxis21\": {\"anchor\": \"y21\", \"domain\": [0.0, 0.16799999999999998]}, \"xaxis22\": {\"anchor\": \"y22\", \"domain\": [0.208, 0.376]}, \"xaxis23\": {\"anchor\": \"y23\", \"domain\": [0.416, 0.584]}, \"xaxis24\": {\"anchor\": \"y24\", \"domain\": [0.624, 0.792]}, \"xaxis25\": {\"anchor\": \"y25\", \"domain\": [0.832, 1.0]}, \"xaxis26\": {\"anchor\": \"y26\", \"domain\": [0.0, 0.16799999999999998]}, \"xaxis27\": {\"anchor\": \"y27\", \"domain\": [0.208, 0.376]}, \"xaxis28\": {\"anchor\": \"y28\", \"domain\": [0.416, 0.584]}, \"xaxis29\": {\"anchor\": \"y29\", \"domain\": [0.624, 0.792]}, \"xaxis3\": {\"anchor\": \"y3\", \"domain\": [0.416, 0.584]}, \"xaxis30\": {\"anchor\": \"y30\", \"domain\": [0.832, 1.0]}, \"xaxis31\": {\"anchor\": \"y31\", \"domain\": [0.0, 0.16799999999999998]}, \"xaxis32\": {\"anchor\": \"y32\", \"domain\": [0.208, 0.376]}, \"xaxis33\": {\"anchor\": \"y33\", \"domain\": [0.416, 0.584]}, \"xaxis34\": {\"anchor\": \"y34\", \"domain\": [0.624, 0.792]}, \"xaxis35\": {\"anchor\": \"y35\", \"domain\": [0.832, 1.0]}, \"xaxis36\": {\"anchor\": \"y36\", \"domain\": [0.0, 0.16799999999999998]}, \"xaxis37\": {\"anchor\": \"y37\", \"domain\": [0.208, 0.376]}, \"xaxis38\": {\"anchor\": \"y38\", \"domain\": [0.416, 0.584]}, \"xaxis39\": {\"anchor\": \"y39\", \"domain\": [0.624, 0.792]}, \"xaxis4\": {\"anchor\": \"y4\", \"domain\": [0.624, 0.792]}, \"xaxis40\": {\"anchor\": \"y40\", \"domain\": [0.832, 1.0]}, \"xaxis41\": {\"anchor\": \"y41\", \"domain\": [0.0, 0.16799999999999998]}, \"xaxis42\": {\"anchor\": \"y42\", \"domain\": [0.208, 0.376]}, \"xaxis43\": {\"anchor\": \"y43\", \"domain\": [0.416, 0.584]}, \"xaxis44\": {\"anchor\": \"y44\", \"domain\": [0.624, 0.792]}, \"xaxis45\": {\"anchor\": \"y45\", \"domain\": [0.832, 1.0]}, \"xaxis5\": {\"anchor\": \"y5\", \"domain\": [0.832, 1.0]}, \"xaxis6\": {\"anchor\": \"y6\", \"domain\": [0.0, 0.16799999999999998]}, \"xaxis7\": {\"anchor\": \"y7\", \"domain\": [0.208, 0.376]}, \"xaxis8\": {\"anchor\": \"y8\", \"domain\": [0.416, 0.584]}, \"xaxis9\": {\"anchor\": \"y9\", \"domain\": [0.624, 0.792]}, \"yaxis\": {\"anchor\": \"x\", \"domain\": [0.9382716049382716, 1.0]}, \"yaxis10\": {\"anchor\": \"x10\", \"domain\": [0.8209876543209876, 0.8827160493827161]}, \"yaxis11\": {\"anchor\": \"x11\", \"domain\": [0.7037037037037037, 0.7654320987654322]}, \"yaxis12\": {\"anchor\": \"x12\", \"domain\": [0.7037037037037037, 0.7654320987654322]}, \"yaxis13\": {\"anchor\": \"x13\", \"domain\": [0.7037037037037037, 0.7654320987654322]}, \"yaxis14\": {\"anchor\": \"x14\", \"domain\": [0.7037037037037037, 0.7654320987654322]}, \"yaxis15\": {\"anchor\": \"x15\", \"domain\": [0.7037037037037037, 0.7654320987654322]}, \"yaxis16\": {\"anchor\": \"x16\", \"domain\": [0.5864197530864198, 0.6481481481481483]}, \"yaxis17\": {\"anchor\": \"x17\", \"domain\": [0.5864197530864198, 0.6481481481481483]}, \"yaxis18\": {\"anchor\": \"x18\", \"domain\": [0.5864197530864198, 0.6481481481481483]}, \"yaxis19\": {\"anchor\": \"x19\", \"domain\": [0.5864197530864198, 0.6481481481481483]}, \"yaxis2\": {\"anchor\": \"x2\", \"domain\": [0.9382716049382716, 1.0]}, \"yaxis20\": {\"anchor\": \"x20\", \"domain\": [0.5864197530864198, 0.6481481481481483]}, \"yaxis21\": {\"anchor\": \"x21\", \"domain\": [0.4691358024691358, 0.5308641975308642]}, \"yaxis22\": {\"anchor\": \"x22\", \"domain\": [0.4691358024691358, 0.5308641975308642]}, \"yaxis23\": {\"anchor\": \"x23\", \"domain\": [0.4691358024691358, 0.5308641975308642]}, \"yaxis24\": {\"anchor\": \"x24\", \"domain\": [0.4691358024691358, 0.5308641975308642]}, \"yaxis25\": {\"anchor\": \"x25\", \"domain\": [0.4691358024691358, 0.5308641975308642]}, \"yaxis26\": {\"anchor\": \"x26\", \"domain\": [0.35185185185185186, 0.41358024691358025]}, \"yaxis27\": {\"anchor\": \"x27\", \"domain\": [0.35185185185185186, 0.41358024691358025]}, \"yaxis28\": {\"anchor\": \"x28\", \"domain\": [0.35185185185185186, 0.41358024691358025]}, \"yaxis29\": {\"anchor\": \"x29\", \"domain\": [0.35185185185185186, 0.41358024691358025]}, \"yaxis3\": {\"anchor\": \"x3\", \"domain\": [0.9382716049382716, 1.0]}, \"yaxis30\": {\"anchor\": \"x30\", \"domain\": [0.35185185185185186, 0.41358024691358025]}, \"yaxis31\": {\"anchor\": \"x31\", \"domain\": [0.2345679012345679, 0.2962962962962963]}, \"yaxis32\": {\"anchor\": \"x32\", \"domain\": [0.2345679012345679, 0.2962962962962963]}, \"yaxis33\": {\"anchor\": \"x33\", \"domain\": [0.2345679012345679, 0.2962962962962963]}, \"yaxis34\": {\"anchor\": \"x34\", \"domain\": [0.2345679012345679, 0.2962962962962963]}, \"yaxis35\": {\"anchor\": \"x35\", \"domain\": [0.2345679012345679, 0.2962962962962963]}, \"yaxis36\": {\"anchor\": \"x36\", \"domain\": [0.11728395061728394, 0.17901234567901234]}, \"yaxis37\": {\"anchor\": \"x37\", \"domain\": [0.11728395061728394, 0.17901234567901234]}, \"yaxis38\": {\"anchor\": \"x38\", \"domain\": [0.11728395061728394, 0.17901234567901234]}, \"yaxis39\": {\"anchor\": \"x39\", \"domain\": [0.11728395061728394, 0.17901234567901234]}, \"yaxis4\": {\"anchor\": \"x4\", \"domain\": [0.9382716049382716, 1.0]}, \"yaxis40\": {\"anchor\": \"x40\", \"domain\": [0.11728395061728394, 0.17901234567901234]}, \"yaxis41\": {\"anchor\": \"x41\", \"domain\": [0.0, 0.0617283950617284]}, \"yaxis42\": {\"anchor\": \"x42\", \"domain\": [0.0, 0.0617283950617284]}, \"yaxis43\": {\"anchor\": \"x43\", \"domain\": [0.0, 0.0617283950617284]}, \"yaxis44\": {\"anchor\": \"x44\", \"domain\": [0.0, 0.0617283950617284]}, \"yaxis45\": {\"anchor\": \"x45\", \"domain\": [0.0, 0.0617283950617284]}, \"yaxis5\": {\"anchor\": \"x5\", \"domain\": [0.9382716049382716, 1.0]}, \"yaxis6\": {\"anchor\": \"x6\", \"domain\": [0.8209876543209876, 0.8827160493827161]}, \"yaxis7\": {\"anchor\": \"x7\", \"domain\": [0.8209876543209876, 0.8827160493827161]}, \"yaxis8\": {\"anchor\": \"x8\", \"domain\": [0.8209876543209876, 0.8827160493827161]}, \"yaxis9\": {\"anchor\": \"x9\", \"domain\": [0.8209876543209876, 0.8827160493827161]}},\n",
       "                        {\"plotlyServerURL\": \"https://plot.ly\", \"responsive\": true}\n",
       "                    ).then(function(){\n",
       "                            \n",
       "var gd = document.getElementById('66b0a93b-2a6c-4802-b099-d0d92a2c8a5d');\n",
       "var x = new MutationObserver(function (mutations, observer) {{\n",
       "        var display = window.getComputedStyle(gd).display;\n",
       "        if (!display || display === 'none') {{\n",
       "            console.log([gd, 'removed!']);\n",
       "            Plotly.purge(gd);\n",
       "            observer.disconnect();\n",
       "        }}\n",
       "}});\n",
       "\n",
       "// Listen for the removal of the full notebook cells\n",
       "var notebookContainer = gd.closest('#notebook-container');\n",
       "if (notebookContainer) {{\n",
       "    x.observe(notebookContainer, {childList: true});\n",
       "}}\n",
       "\n",
       "// Listen for the clearing of the current output cell\n",
       "var outputEl = gd.closest('.output');\n",
       "if (outputEl) {{\n",
       "    x.observe(outputEl, {childList: true});\n",
       "}}\n",
       "\n",
       "                        })\n",
       "                };\n",
       "                });\n",
       "            </script>\n",
       "        </div>"
      ]
     },
     "metadata": {},
     "output_type": "display_data"
    }
   ],
   "source": [
    "for ind, relation in enumerate(relations):\n",
    "    \n",
    "    row_num, column_num = divmod(ind,num_columns)\n",
    "    \n",
    "    column_num += 1\n",
    "    row_num +=1 \n",
    "    \n",
    "    \n",
    "    relation_to_fn_stat = relation_to_fn_stats[relation]\n",
    "    \n",
    "    \n",
    "    fig.add_trace(\n",
    "        go.Scatter(\n",
    "            x=list(relation_to_fn_stat.keys()),\n",
    "            y=list(relation_to_fn_stat.values()),\n",
    "            name=relation),\n",
    "        row=row_num, \n",
    "        col=column_num)\n",
    "\n",
    "\n",
    "for i in fig['layout']['annotations']:\n",
    "    i['font'] = dict(family=\"Arial\", size=10)\n",
    "\n",
    "    \n",
    "\n",
    "fig.show()\n",
    "    "
   ]
  },
  {
   "cell_type": "code",
   "execution_count": null,
   "metadata": {},
   "outputs": [],
   "source": []
  }
 ],
 "metadata": {
  "kernelspec": {
   "display_name": "Python 3",
   "language": "python",
   "name": "python3"
  },
  "language_info": {
   "codemirror_mode": {
    "name": "ipython",
    "version": 3
   },
   "file_extension": ".py",
   "mimetype": "text/x-python",
   "name": "python",
   "nbconvert_exporter": "python",
   "pygments_lexer": "ipython3",
   "version": "3.7.6"
  }
 },
 "nbformat": 4,
 "nbformat_minor": 2
}
