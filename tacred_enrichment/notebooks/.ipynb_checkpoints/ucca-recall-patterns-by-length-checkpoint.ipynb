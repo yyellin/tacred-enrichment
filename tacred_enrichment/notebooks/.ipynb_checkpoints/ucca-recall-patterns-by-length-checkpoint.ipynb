{
 "cells": [
  {
   "cell_type": "code",
   "execution_count": 1,
   "metadata": {},
   "outputs": [
    {
     "data": {
      "text/html": [
       "        <script type=\"text/javascript\">\n",
       "        window.PlotlyConfig = {MathJaxConfig: 'local'};\n",
       "        if (window.MathJax) {MathJax.Hub.Config({SVG: {font: \"STIX-Web\"}});}\n",
       "        if (typeof require !== 'undefined') {\n",
       "        require.undef(\"plotly\");\n",
       "        requirejs.config({\n",
       "            paths: {\n",
       "                'plotly': ['https://cdn.plot.ly/plotly-latest.min']\n",
       "            }\n",
       "        });\n",
       "        require(['plotly'], function(Plotly) {\n",
       "            window._Plotly = Plotly;\n",
       "        });\n",
       "        }\n",
       "        </script>\n",
       "        "
      ]
     },
     "metadata": {},
     "output_type": "display_data"
    }
   ],
   "source": [
    "from _plotly_future_ import v4_subplots\n",
    "from plotly.offline import download_plotlyjs, init_notebook_mode, plot, iplot\n",
    "from plotly.subplots import make_subplots\n",
    "import plotly.graph_objs as go\n",
    "\n",
    "init_notebook_mode(connected=True)"
   ]
  },
  {
   "cell_type": "code",
   "execution_count": 2,
   "metadata": {},
   "outputs": [],
   "source": [
    "import pandas\n",
    "\n",
    "train = pandas.read_json(r'C:\\Users\\JYellin\\re_1\\tacred\\data\\json-enhanced\\train.json')\n",
    "test = pandas.read_json(r'C:\\Users\\JYellin\\re_1\\tacred\\data\\json-enhanced\\test.json')\n",
    "\n",
    "# no point to consider 'no_relation' sentences when considering recall ,,,\n",
    "train = train[ train['relation'] != 'no_relation']\n",
    "test = test[ test['relation'] != 'no_relation']\n"
   ]
  },
  {
   "cell_type": "code",
   "execution_count": 3,
   "metadata": {},
   "outputs": [],
   "source": [
    "train_total_by_r_and_p = train.groupby(['relation','ud_path'])['id'].count().reset_index().rename(columns={'id': 'total'}).sort_values(['relation','total'], ascending=[True,False]).reset_index(drop=True)"
   ]
  },
  {
   "cell_type": "code",
   "execution_count": 4,
   "metadata": {},
   "outputs": [],
   "source": [
    "# the following command will effectivly remove all rows in test that do not have a match\n",
    "\n",
    "test = test.merge(train_total_by_r_and_p, on=['relation', 'ud_path'])"
   ]
  },
  {
   "cell_type": "code",
   "execution_count": 76,
   "metadata": {},
   "outputs": [],
   "source": [
    "test_total_by_relation_and_len = test.groupby(['relation','ud_path_len'])['id'].count().reset_index().rename(columns={'id': 'total'}).sort_values(['relation','total'], ascending=[False,False]).reset_index(drop=True)"
   ]
  },
  {
   "cell_type": "code",
   "execution_count": 82,
   "metadata": {},
   "outputs": [],
   "source": [
    "test_total_by_relation = test.groupby(['relation'])['id'].count().reset_index().rename(columns={'id': 'total'}).sort_values(['total'], ascending=[False]).reset_index(drop=True)\n",
    "\n",
    "relations = test_total_by_relation['relation'].to_list()\n",
    "totals = test_total_by_relation['total'].to_list()\n",
    "\n",
    "labels = [ '{} ({} matches)'.format(relation, total) for relation,total in zip(relations,totals) ]"
   ]
  },
  {
   "cell_type": "code",
   "execution_count": 68,
   "metadata": {},
   "outputs": [],
   "source": [
    "import math\n",
    "\n",
    "relations = test_total_by_relation['relation'].unique().tolist()\n",
    "num_relations = len(relations)\n",
    "\n",
    "num_columns = 4\n",
    "num_rows = math.ceil(num_relations/num_columns)"
   ]
  },
  {
   "cell_type": "code",
   "execution_count": 83,
   "metadata": {},
   "outputs": [
    {
     "data": {
      "application/vnd.plotly.v1+json": {
       "config": {
        "plotlyServerURL": "https://plot.ly"
       },
       "data": [
        {
         "domain": {
          "x": [
           0,
           0.2125
          ],
          "y": [
           0.9382716049382716,
           1
          ]
         },
         "hoverinfo": "label+percent",
         "labels": [
          3,
          4,
          5,
          6
         ],
         "marker": {
          "colors": [
           "#3C464C",
           "#6AA2B5",
           "#F05A71",
           "#C0AC9F"
          ]
         },
         "textfont": {
          "size": 10
         },
         "textinfo": "label+value",
         "type": "pie",
         "uid": "079ee7b8-7dc8-4220-b34b-adb487a1aa6c",
         "values": [
          147,
          98,
          54,
          4
         ]
        },
        {
         "domain": {
          "x": [
           0.2625,
           0.475
          ],
          "y": [
           0.9382716049382716,
           1
          ]
         },
         "hoverinfo": "label+percent",
         "labels": [
          5,
          6,
          4,
          3,
          7,
          2,
          8
         ],
         "marker": {
          "colors": [
           "#3C464C",
           "#6AA2B5",
           "#F05A71",
           "#C0AC9F"
          ]
         },
         "textfont": {
          "size": 10
         },
         "textinfo": "label+value",
         "type": "pie",
         "uid": "5e4f9d14-ba67-48a3-9104-bcca32670fd0",
         "values": [
          99,
          58,
          35,
          33,
          6,
          2,
          1
         ]
        },
        {
         "domain": {
          "x": [
           0.525,
           0.7375
          ],
          "y": [
           0.9382716049382716,
           1
          ]
         },
         "hoverinfo": "label+percent",
         "labels": [
          4,
          3,
          5,
          6
         ],
         "marker": {
          "colors": [
           "#3C464C",
           "#6AA2B5",
           "#F05A71",
           "#C0AC9F"
          ]
         },
         "textfont": {
          "size": 10
         },
         "textinfo": "label+value",
         "type": "pie",
         "uid": "be28b0ef-81cf-4b74-a0ba-c4a4063629cb",
         "values": [
          118,
          15,
          13,
          3
         ]
        },
        {
         "domain": {
          "x": [
           0.7875,
           1
          ],
          "y": [
           0.9382716049382716,
           1
          ]
         },
         "hoverinfo": "label+percent",
         "labels": [
          3,
          4,
          5
         ],
         "marker": {
          "colors": [
           "#3C464C",
           "#6AA2B5",
           "#F05A71",
           "#C0AC9F"
          ]
         },
         "textfont": {
          "size": 10
         },
         "textinfo": "label+value",
         "type": "pie",
         "uid": "99e8cf1a-6aa6-4949-a6ba-f523ca2df741",
         "values": [
          75,
          54,
          9
         ]
        },
        {
         "domain": {
          "x": [
           0,
           0.2125
          ],
          "y": [
           0.8209876543209876,
           0.8827160493827161
          ]
         },
         "hoverinfo": "label+percent",
         "labels": [
          3,
          5,
          4,
          6,
          7,
          2
         ],
         "marker": {
          "colors": [
           "#3C464C",
           "#6AA2B5",
           "#F05A71",
           "#C0AC9F"
          ]
         },
         "textfont": {
          "size": 10
         },
         "textinfo": "label+value",
         "type": "pie",
         "uid": "abcc3636-7639-4c34-b02b-502d73016389",
         "values": [
          28,
          24,
          16,
          10,
          4,
          1
         ]
        },
        {
         "domain": {
          "x": [
           0.2625,
           0.475
          ],
          "y": [
           0.8209876543209876,
           0.8827160493827161
          ]
         },
         "hoverinfo": "label+percent",
         "labels": [
          3,
          5,
          4
         ],
         "marker": {
          "colors": [
           "#3C464C",
           "#6AA2B5",
           "#F05A71",
           "#C0AC9F"
          ]
         },
         "textfont": {
          "size": 10
         },
         "textinfo": "label+value",
         "type": "pie",
         "uid": "45d136f6-1c7d-435c-8e45-a7e00408b689",
         "values": [
          29,
          9,
          6
         ]
        },
        {
         "domain": {
          "x": [
           0.525,
           0.7375
          ],
          "y": [
           0.8209876543209876,
           0.8827160493827161
          ]
         },
         "hoverinfo": "label+percent",
         "labels": [
          5,
          4
         ],
         "marker": {
          "colors": [
           "#3C464C",
           "#6AA2B5",
           "#F05A71",
           "#C0AC9F"
          ]
         },
         "textfont": {
          "size": 10
         },
         "textinfo": "label+value",
         "type": "pie",
         "uid": "a16d170e-5749-4d2a-b4d0-ad653ac55f4d",
         "values": [
          19,
          17
         ]
        },
        {
         "domain": {
          "x": [
           0.7875,
           1
          ],
          "y": [
           0.8209876543209876,
           0.8827160493827161
          ]
         },
         "hoverinfo": "label+percent",
         "labels": [
          4,
          5,
          3,
          6
         ],
         "marker": {
          "colors": [
           "#3C464C",
           "#6AA2B5",
           "#F05A71",
           "#C0AC9F"
          ]
         },
         "textfont": {
          "size": 10
         },
         "textinfo": "label+value",
         "type": "pie",
         "uid": "47efb849-d2e9-4958-9b1e-52285f6b7375",
         "values": [
          22,
          6,
          4,
          1
         ]
        },
        {
         "domain": {
          "x": [
           0,
           0.2125
          ],
          "y": [
           0.7037037037037037,
           0.7654320987654322
          ]
         },
         "hoverinfo": "label+percent",
         "labels": [
          4,
          3,
          6,
          5
         ],
         "marker": {
          "colors": [
           "#3C464C",
           "#6AA2B5",
           "#F05A71",
           "#C0AC9F"
          ]
         },
         "textfont": {
          "size": 10
         },
         "textinfo": "label+value",
         "type": "pie",
         "uid": "849599f8-32bc-4281-ae83-9c218d867cf3",
         "values": [
          20,
          2,
          2,
          1
         ]
        },
        {
         "domain": {
          "x": [
           0.2625,
           0.475
          ],
          "y": [
           0.7037037037037037,
           0.7654320987654322
          ]
         },
         "hoverinfo": "label+percent",
         "labels": [
          3,
          4,
          2,
          5
         ],
         "marker": {
          "colors": [
           "#3C464C",
           "#6AA2B5",
           "#F05A71",
           "#C0AC9F"
          ]
         },
         "textfont": {
          "size": 10
         },
         "textinfo": "label+value",
         "type": "pie",
         "uid": "539fdaa0-5179-4a25-9454-78691e05ed85",
         "values": [
          11,
          9,
          2,
          2
         ]
        },
        {
         "domain": {
          "x": [
           0.525,
           0.7375
          ],
          "y": [
           0.7037037037037037,
           0.7654320987654322
          ]
         },
         "hoverinfo": "label+percent",
         "labels": [
          4,
          3,
          5,
          6
         ],
         "marker": {
          "colors": [
           "#3C464C",
           "#6AA2B5",
           "#F05A71",
           "#C0AC9F"
          ]
         },
         "textfont": {
          "size": 10
         },
         "textinfo": "label+value",
         "type": "pie",
         "uid": "b02c3bd7-ebab-4618-9002-24c86261c956",
         "values": [
          12,
          4,
          3,
          2
         ]
        },
        {
         "domain": {
          "x": [
           0.7875,
           1
          ],
          "y": [
           0.7037037037037037,
           0.7654320987654322
          ]
         },
         "hoverinfo": "label+percent",
         "labels": [
          3,
          4,
          2,
          5
         ],
         "marker": {
          "colors": [
           "#3C464C",
           "#6AA2B5",
           "#F05A71",
           "#C0AC9F"
          ]
         },
         "textfont": {
          "size": 10
         },
         "textinfo": "label+value",
         "type": "pie",
         "uid": "3137a1a3-e4d4-4d59-8c00-8e36ca6aae2f",
         "values": [
          11,
          7,
          1,
          1
         ]
        },
        {
         "domain": {
          "x": [
           0,
           0.2125
          ],
          "y": [
           0.5864197530864198,
           0.6481481481481483
          ]
         },
         "hoverinfo": "label+percent",
         "labels": [
          4,
          3
         ],
         "marker": {
          "colors": [
           "#3C464C",
           "#6AA2B5",
           "#F05A71",
           "#C0AC9F"
          ]
         },
         "textfont": {
          "size": 10
         },
         "textinfo": "label+value",
         "type": "pie",
         "uid": "7bec263a-263e-4331-92c1-eadc5b06ae1b",
         "values": [
          9,
          7
         ]
        },
        {
         "domain": {
          "x": [
           0.2625,
           0.475
          ],
          "y": [
           0.5864197530864198,
           0.6481481481481483
          ]
         },
         "hoverinfo": "label+percent",
         "labels": [
          5,
          3,
          4,
          6
         ],
         "marker": {
          "colors": [
           "#3C464C",
           "#6AA2B5",
           "#F05A71",
           "#C0AC9F"
          ]
         },
         "textfont": {
          "size": 10
         },
         "textinfo": "label+value",
         "type": "pie",
         "uid": "72097a0a-6eb4-42f2-9760-dbf7bd4fba7e",
         "values": [
          11,
          2,
          2,
          1
         ]
        },
        {
         "domain": {
          "x": [
           0.525,
           0.7375
          ],
          "y": [
           0.5864197530864198,
           0.6481481481481483
          ]
         },
         "hoverinfo": "label+percent",
         "labels": [
          4,
          3
         ],
         "marker": {
          "colors": [
           "#3C464C",
           "#6AA2B5",
           "#F05A71",
           "#C0AC9F"
          ]
         },
         "textfont": {
          "size": 10
         },
         "textinfo": "label+value",
         "type": "pie",
         "uid": "a924a4ad-3edf-47b7-945f-19da136f0ec8",
         "values": [
          9,
          6
         ]
        },
        {
         "domain": {
          "x": [
           0.7875,
           1
          ],
          "y": [
           0.5864197530864198,
           0.6481481481481483
          ]
         },
         "hoverinfo": "label+percent",
         "labels": [
          5,
          4,
          3
         ],
         "marker": {
          "colors": [
           "#3C464C",
           "#6AA2B5",
           "#F05A71",
           "#C0AC9F"
          ]
         },
         "textfont": {
          "size": 10
         },
         "textinfo": "label+value",
         "type": "pie",
         "uid": "84b1e31e-2717-4e79-a4ae-4ab872f4172b",
         "values": [
          9,
          4,
          1
         ]
        },
        {
         "domain": {
          "x": [
           0,
           0.2125
          ],
          "y": [
           0.4691358024691358,
           0.5308641975308642
          ]
         },
         "hoverinfo": "label+percent",
         "labels": [
          4,
          3,
          5
         ],
         "marker": {
          "colors": [
           "#3C464C",
           "#6AA2B5",
           "#F05A71",
           "#C0AC9F"
          ]
         },
         "textfont": {
          "size": 10
         },
         "textinfo": "label+value",
         "type": "pie",
         "uid": "5b2a2fdc-0294-47c6-a875-36692df876a0",
         "values": [
          5,
          4,
          2
         ]
        },
        {
         "domain": {
          "x": [
           0.2625,
           0.475
          ],
          "y": [
           0.4691358024691358,
           0.5308641975308642
          ]
         },
         "hoverinfo": "label+percent",
         "labels": [
          4,
          3
         ],
         "marker": {
          "colors": [
           "#3C464C",
           "#6AA2B5",
           "#F05A71",
           "#C0AC9F"
          ]
         },
         "textfont": {
          "size": 10
         },
         "textinfo": "label+value",
         "type": "pie",
         "uid": "c8504f7d-7f4e-442c-91a5-fe8515fc4cb3",
         "values": [
          8,
          3
         ]
        },
        {
         "domain": {
          "x": [
           0.525,
           0.7375
          ],
          "y": [
           0.4691358024691358,
           0.5308641975308642
          ]
         },
         "hoverinfo": "label+percent",
         "labels": [
          3,
          4
         ],
         "marker": {
          "colors": [
           "#3C464C",
           "#6AA2B5",
           "#F05A71",
           "#C0AC9F"
          ]
         },
         "textfont": {
          "size": 10
         },
         "textinfo": "label+value",
         "type": "pie",
         "uid": "49fbce17-6819-4520-81a7-f175ea6a06b1",
         "values": [
          8,
          2
         ]
        },
        {
         "domain": {
          "x": [
           0.7875,
           1
          ],
          "y": [
           0.4691358024691358,
           0.5308641975308642
          ]
         },
         "hoverinfo": "label+percent",
         "labels": [
          3,
          4,
          2,
          6
         ],
         "marker": {
          "colors": [
           "#3C464C",
           "#6AA2B5",
           "#F05A71",
           "#C0AC9F"
          ]
         },
         "textfont": {
          "size": 10
         },
         "textinfo": "label+value",
         "type": "pie",
         "uid": "9274f483-0590-411d-813b-514bf282a680",
         "values": [
          6,
          2,
          1,
          1
         ]
        },
        {
         "domain": {
          "x": [
           0,
           0.2125
          ],
          "y": [
           0.35185185185185186,
           0.41358024691358025
          ]
         },
         "hoverinfo": "label+percent",
         "labels": [
          4,
          5,
          7
         ],
         "marker": {
          "colors": [
           "#3C464C",
           "#6AA2B5",
           "#F05A71",
           "#C0AC9F"
          ]
         },
         "textfont": {
          "size": 10
         },
         "textinfo": "label+value",
         "type": "pie",
         "uid": "0ecfe0fe-91f5-4167-87fc-fd866f6bee9c",
         "values": [
          6,
          3,
          1
         ]
        },
        {
         "domain": {
          "x": [
           0.2625,
           0.475
          ],
          "y": [
           0.35185185185185186,
           0.41358024691358025
          ]
         },
         "hoverinfo": "label+percent",
         "labels": [
          2,
          3,
          4,
          5
         ],
         "marker": {
          "colors": [
           "#3C464C",
           "#6AA2B5",
           "#F05A71",
           "#C0AC9F"
          ]
         },
         "textfont": {
          "size": 10
         },
         "textinfo": "label+value",
         "type": "pie",
         "uid": "95d07862-0b00-499d-9ba7-800a11765b32",
         "values": [
          3,
          2,
          1,
          1
         ]
        },
        {
         "domain": {
          "x": [
           0.525,
           0.7375
          ],
          "y": [
           0.35185185185185186,
           0.41358024691358025
          ]
         },
         "hoverinfo": "label+percent",
         "labels": [
          4,
          2,
          3,
          5
         ],
         "marker": {
          "colors": [
           "#3C464C",
           "#6AA2B5",
           "#F05A71",
           "#C0AC9F"
          ]
         },
         "textfont": {
          "size": 10
         },
         "textinfo": "label+value",
         "type": "pie",
         "uid": "1d93b9d4-0cf8-4fcd-bf2f-c9de4181b274",
         "values": [
          4,
          1,
          1,
          1
         ]
        },
        {
         "domain": {
          "x": [
           0.7875,
           1
          ],
          "y": [
           0.35185185185185186,
           0.41358024691358025
          ]
         },
         "hoverinfo": "label+percent",
         "labels": [
          4,
          5
         ],
         "marker": {
          "colors": [
           "#3C464C",
           "#6AA2B5",
           "#F05A71",
           "#C0AC9F"
          ]
         },
         "textfont": {
          "size": 10
         },
         "textinfo": "label+value",
         "type": "pie",
         "uid": "8678fc7c-6645-4bfd-b42e-8073d87db932",
         "values": [
          5,
          1
         ]
        },
        {
         "domain": {
          "x": [
           0,
           0.2125
          ],
          "y": [
           0.2345679012345679,
           0.2962962962962963
          ]
         },
         "hoverinfo": "label+percent",
         "labels": [
          4,
          2,
          3
         ],
         "marker": {
          "colors": [
           "#3C464C",
           "#6AA2B5",
           "#F05A71",
           "#C0AC9F"
          ]
         },
         "textfont": {
          "size": 10
         },
         "textinfo": "label+value",
         "type": "pie",
         "uid": "7c4627bd-94bb-436d-9a68-308c963c218e",
         "values": [
          4,
          1,
          1
         ]
        },
        {
         "domain": {
          "x": [
           0.2625,
           0.475
          ],
          "y": [
           0.2345679012345679,
           0.2962962962962963
          ]
         },
         "hoverinfo": "label+percent",
         "labels": [
          2,
          3,
          4
         ],
         "marker": {
          "colors": [
           "#3C464C",
           "#6AA2B5",
           "#F05A71",
           "#C0AC9F"
          ]
         },
         "textfont": {
          "size": 10
         },
         "textinfo": "label+value",
         "type": "pie",
         "uid": "e09f65f9-65ad-419f-9409-742462e2a3d2",
         "values": [
          2,
          2,
          1
         ]
        },
        {
         "domain": {
          "x": [
           0.525,
           0.7375
          ],
          "y": [
           0.2345679012345679,
           0.2962962962962963
          ]
         },
         "hoverinfo": "label+percent",
         "labels": [
          4
         ],
         "marker": {
          "colors": [
           "#3C464C",
           "#6AA2B5",
           "#F05A71",
           "#C0AC9F"
          ]
         },
         "textfont": {
          "size": 10
         },
         "textinfo": "label+value",
         "type": "pie",
         "uid": "0ba8432a-00cc-4777-960e-7c31fef52a26",
         "values": [
          4
         ]
        },
        {
         "domain": {
          "x": [
           0.7875,
           1
          ],
          "y": [
           0.2345679012345679,
           0.2962962962962963
          ]
         },
         "hoverinfo": "label+percent",
         "labels": [
          2,
          3
         ],
         "marker": {
          "colors": [
           "#3C464C",
           "#6AA2B5",
           "#F05A71",
           "#C0AC9F"
          ]
         },
         "textfont": {
          "size": 10
         },
         "textinfo": "label+value",
         "type": "pie",
         "uid": "251e44d0-9442-4b22-9ba1-a403841348af",
         "values": [
          3,
          1
         ]
        },
        {
         "domain": {
          "x": [
           0,
           0.2125
          ],
          "y": [
           0.11728395061728394,
           0.17901234567901234
          ]
         },
         "hoverinfo": "label+percent",
         "labels": [
          4,
          5
         ],
         "marker": {
          "colors": [
           "#3C464C",
           "#6AA2B5",
           "#F05A71",
           "#C0AC9F"
          ]
         },
         "textfont": {
          "size": 10
         },
         "textinfo": "label+value",
         "type": "pie",
         "uid": "3dc591f9-7b9d-41c9-884e-761a819888c9",
         "values": [
          3,
          1
         ]
        },
        {
         "domain": {
          "x": [
           0.2625,
           0.475
          ],
          "y": [
           0.11728395061728394,
           0.17901234567901234
          ]
         },
         "hoverinfo": "label+percent",
         "labels": [
          5,
          2
         ],
         "marker": {
          "colors": [
           "#3C464C",
           "#6AA2B5",
           "#F05A71",
           "#C0AC9F"
          ]
         },
         "textfont": {
          "size": 10
         },
         "textinfo": "label+value",
         "type": "pie",
         "uid": "d313b4a4-1ffb-4305-a392-afcf84beb05f",
         "values": [
          2,
          1
         ]
        },
        {
         "domain": {
          "x": [
           0.525,
           0.7375
          ],
          "y": [
           0.11728395061728394,
           0.17901234567901234
          ]
         },
         "hoverinfo": "label+percent",
         "labels": [
          4,
          5
         ],
         "marker": {
          "colors": [
           "#3C464C",
           "#6AA2B5",
           "#F05A71",
           "#C0AC9F"
          ]
         },
         "textfont": {
          "size": 10
         },
         "textinfo": "label+value",
         "type": "pie",
         "uid": "e12c5737-0b18-4337-a20b-d8f60034d9ec",
         "values": [
          2,
          1
         ]
        },
        {
         "domain": {
          "x": [
           0.7875,
           1
          ],
          "y": [
           0.11728395061728394,
           0.17901234567901234
          ]
         },
         "hoverinfo": "label+percent",
         "labels": [
          4
         ],
         "marker": {
          "colors": [
           "#3C464C",
           "#6AA2B5",
           "#F05A71",
           "#C0AC9F"
          ]
         },
         "textfont": {
          "size": 10
         },
         "textinfo": "label+value",
         "type": "pie",
         "uid": "ebf67779-8e7b-4fc4-92bf-69c73e1f6c11",
         "values": [
          3
         ]
        },
        {
         "domain": {
          "x": [
           0,
           0.2125
          ],
          "y": [
           0,
           0.0617283950617284
          ]
         },
         "hoverinfo": "label+percent",
         "labels": [
          5
         ],
         "marker": {
          "colors": [
           "#3C464C",
           "#6AA2B5",
           "#F05A71",
           "#C0AC9F"
          ]
         },
         "textfont": {
          "size": 10
         },
         "textinfo": "label+value",
         "type": "pie",
         "uid": "2662eb37-840f-43b0-a5c7-124ea0dae0e5",
         "values": [
          2
         ]
        },
        {
         "domain": {
          "x": [
           0.2625,
           0.475
          ],
          "y": [
           0,
           0.0617283950617284
          ]
         },
         "hoverinfo": "label+percent",
         "labels": [
          3
         ],
         "marker": {
          "colors": [
           "#3C464C",
           "#6AA2B5",
           "#F05A71",
           "#C0AC9F"
          ]
         },
         "textfont": {
          "size": 10
         },
         "textinfo": "label+value",
         "type": "pie",
         "uid": "a7af2074-5ae1-4c58-b40e-49e8310f3934",
         "values": [
          1
         ]
        },
        {
         "domain": {
          "x": [
           0.525,
           0.7375
          ],
          "y": [
           0,
           0.0617283950617284
          ]
         },
         "hoverinfo": "label+percent",
         "labels": [
          5
         ],
         "marker": {
          "colors": [
           "#3C464C",
           "#6AA2B5",
           "#F05A71",
           "#C0AC9F"
          ]
         },
         "textfont": {
          "size": 10
         },
         "textinfo": "label+value",
         "type": "pie",
         "uid": "6ed812a4-5aea-4146-b977-c0e0c7ad30da",
         "values": [
          1
         ]
        },
        {
         "domain": {
          "x": [
           0.7875,
           1
          ],
          "y": [
           0,
           0.0617283950617284
          ]
         },
         "hoverinfo": "label+percent",
         "labels": [
          4
         ],
         "marker": {
          "colors": [
           "#3C464C",
           "#6AA2B5",
           "#F05A71",
           "#C0AC9F"
          ]
         },
         "textfont": {
          "size": 10
         },
         "textinfo": "label+value",
         "type": "pie",
         "uid": "3408e400-7c38-4db7-b97e-8bb46527f225",
         "values": [
          1
         ]
        }
       ],
       "layout": {
        "annotations": [
         {
          "font": {
           "family": "Arial",
           "size": 10
          },
          "showarrow": false,
          "text": "per:title (303 matches)",
          "x": 0.10625,
          "xanchor": "center",
          "xref": "paper",
          "y": 1,
          "yanchor": "bottom",
          "yref": "paper"
         },
         {
          "font": {
           "family": "Arial",
           "size": 10
          },
          "showarrow": false,
          "text": "org:top_members/employees (234 matches)",
          "x": 0.36875,
          "xanchor": "center",
          "xref": "paper",
          "y": 1,
          "yanchor": "bottom",
          "yref": "paper"
         },
         {
          "font": {
           "family": "Arial",
           "size": 10
          },
          "showarrow": false,
          "text": "org:alternate_names (149 matches)",
          "x": 0.6312500000000001,
          "xanchor": "center",
          "xref": "paper",
          "y": 1,
          "yanchor": "bottom",
          "yref": "paper"
         },
         {
          "font": {
           "family": "Arial",
           "size": 10
          },
          "showarrow": false,
          "text": "per:age (138 matches)",
          "x": 0.89375,
          "xanchor": "center",
          "xref": "paper",
          "y": 1,
          "yanchor": "bottom",
          "yref": "paper"
         },
         {
          "font": {
           "family": "Arial",
           "size": 10
          },
          "showarrow": false,
          "text": "per:employee_of (83 matches)",
          "x": 0.10625,
          "xanchor": "center",
          "xref": "paper",
          "y": 0.8827160493827161,
          "yanchor": "bottom",
          "yref": "paper"
         },
         {
          "font": {
           "family": "Arial",
           "size": 10
          },
          "showarrow": false,
          "text": "per:origin (44 matches)",
          "x": 0.36875,
          "xanchor": "center",
          "xref": "paper",
          "y": 0.8827160493827161,
          "yanchor": "bottom",
          "yref": "paper"
         },
         {
          "font": {
           "family": "Arial",
           "size": 10
          },
          "showarrow": false,
          "text": "per:cities_of_residence (36 matches)",
          "x": 0.6312500000000001,
          "xanchor": "center",
          "xref": "paper",
          "y": 0.8827160493827161,
          "yanchor": "bottom",
          "yref": "paper"
         },
         {
          "font": {
           "family": "Arial",
           "size": 10
          },
          "showarrow": false,
          "text": "org:city_of_headquarters (33 matches)",
          "x": 0.89375,
          "xanchor": "center",
          "xref": "paper",
          "y": 0.8827160493827161,
          "yanchor": "bottom",
          "yref": "paper"
         },
         {
          "font": {
           "family": "Arial",
           "size": 10
          },
          "showarrow": false,
          "text": "per:parents (25 matches)",
          "x": 0.10625,
          "xanchor": "center",
          "xref": "paper",
          "y": 0.7654320987654322,
          "yanchor": "bottom",
          "yref": "paper"
         },
         {
          "font": {
           "family": "Arial",
           "size": 10
          },
          "showarrow": false,
          "text": "per:countries_of_residence (24 matches)",
          "x": 0.36875,
          "xanchor": "center",
          "xref": "paper",
          "y": 0.7654320987654322,
          "yanchor": "bottom",
          "yref": "paper"
         },
         {
          "font": {
           "family": "Arial",
           "size": 10
          },
          "showarrow": false,
          "text": "org:country_of_headquarters (21 matches)",
          "x": 0.6312500000000001,
          "xanchor": "center",
          "xref": "paper",
          "y": 0.7654320987654322,
          "yanchor": "bottom",
          "yref": "paper"
         },
         {
          "font": {
           "family": "Arial",
           "size": 10
          },
          "showarrow": false,
          "text": "per:spouse (20 matches)",
          "x": 0.89375,
          "xanchor": "center",
          "xref": "paper",
          "y": 0.7654320987654322,
          "yanchor": "bottom",
          "yref": "paper"
         },
         {
          "font": {
           "family": "Arial",
           "size": 10
          },
          "showarrow": false,
          "text": "per:other_family (16 matches)",
          "x": 0.10625,
          "xanchor": "center",
          "xref": "paper",
          "y": 0.6481481481481483,
          "yanchor": "bottom",
          "yref": "paper"
         },
         {
          "font": {
           "family": "Arial",
           "size": 10
          },
          "showarrow": false,
          "text": "org:founded_by (16 matches)",
          "x": 0.36875,
          "xanchor": "center",
          "xref": "paper",
          "y": 0.6481481481481483,
          "yanchor": "bottom",
          "yref": "paper"
         },
         {
          "font": {
           "family": "Arial",
           "size": 10
          },
          "showarrow": false,
          "text": "per:children (15 matches)",
          "x": 0.6312500000000001,
          "xanchor": "center",
          "xref": "paper",
          "y": 0.6481481481481483,
          "yanchor": "bottom",
          "yref": "paper"
         },
         {
          "font": {
           "family": "Arial",
           "size": 10
          },
          "showarrow": false,
          "text": "org:founded (14 matches)",
          "x": 0.89375,
          "xanchor": "center",
          "xref": "paper",
          "y": 0.6481481481481483,
          "yanchor": "bottom",
          "yref": "paper"
         },
         {
          "font": {
           "family": "Arial",
           "size": 10
          },
          "showarrow": false,
          "text": "org:stateorprovince_of_headquarters (11 matches)",
          "x": 0.10625,
          "xanchor": "center",
          "xref": "paper",
          "y": 0.5308641975308642,
          "yanchor": "bottom",
          "yref": "paper"
         },
         {
          "font": {
           "family": "Arial",
           "size": 10
          },
          "showarrow": false,
          "text": "per:siblings (11 matches)",
          "x": 0.36875,
          "xanchor": "center",
          "xref": "paper",
          "y": 0.5308641975308642,
          "yanchor": "bottom",
          "yref": "paper"
         },
         {
          "font": {
           "family": "Arial",
           "size": 10
          },
          "showarrow": false,
          "text": "org:website (10 matches)",
          "x": 0.6312500000000001,
          "xanchor": "center",
          "xref": "paper",
          "y": 0.5308641975308642,
          "yanchor": "bottom",
          "yref": "paper"
         },
         {
          "font": {
           "family": "Arial",
           "size": 10
          },
          "showarrow": false,
          "text": "org:subsidiaries (10 matches)",
          "x": 0.89375,
          "xanchor": "center",
          "xref": "paper",
          "y": 0.5308641975308642,
          "yanchor": "bottom",
          "yref": "paper"
         },
         {
          "font": {
           "family": "Arial",
           "size": 10
          },
          "showarrow": false,
          "text": "per:stateorprovinces_of_residence (10 matches)",
          "x": 0.10625,
          "xanchor": "center",
          "xref": "paper",
          "y": 0.41358024691358025,
          "yanchor": "bottom",
          "yref": "paper"
         },
         {
          "font": {
           "family": "Arial",
           "size": 10
          },
          "showarrow": false,
          "text": "org:parents (7 matches)",
          "x": 0.36875,
          "xanchor": "center",
          "xref": "paper",
          "y": 0.41358024691358025,
          "yanchor": "bottom",
          "yref": "paper"
         },
         {
          "font": {
           "family": "Arial",
           "size": 10
          },
          "showarrow": false,
          "text": "per:schools_attended (7 matches)",
          "x": 0.6312500000000001,
          "xanchor": "center",
          "xref": "paper",
          "y": 0.41358024691358025,
          "yanchor": "bottom",
          "yref": "paper"
         },
         {
          "font": {
           "family": "Arial",
           "size": 10
          },
          "showarrow": false,
          "text": "per:charges (6 matches)",
          "x": 0.89375,
          "xanchor": "center",
          "xref": "paper",
          "y": 0.41358024691358025,
          "yanchor": "bottom",
          "yref": "paper"
         },
         {
          "font": {
           "family": "Arial",
           "size": 10
          },
          "showarrow": false,
          "text": "per:date_of_death (6 matches)",
          "x": 0.10625,
          "xanchor": "center",
          "xref": "paper",
          "y": 0.2962962962962963,
          "yanchor": "bottom",
          "yref": "paper"
         },
         {
          "font": {
           "family": "Arial",
           "size": 10
          },
          "showarrow": false,
          "text": "per:date_of_birth (5 matches)",
          "x": 0.36875,
          "xanchor": "center",
          "xref": "paper",
          "y": 0.2962962962962963,
          "yanchor": "bottom",
          "yref": "paper"
         },
         {
          "font": {
           "family": "Arial",
           "size": 10
          },
          "showarrow": false,
          "text": "per:religion (4 matches)",
          "x": 0.6312500000000001,
          "xanchor": "center",
          "xref": "paper",
          "y": 0.2962962962962963,
          "yanchor": "bottom",
          "yref": "paper"
         },
         {
          "font": {
           "family": "Arial",
           "size": 10
          },
          "showarrow": false,
          "text": "org:number_of_employees/members (4 matches)",
          "x": 0.89375,
          "xanchor": "center",
          "xref": "paper",
          "y": 0.2962962962962963,
          "yanchor": "bottom",
          "yref": "paper"
         },
         {
          "font": {
           "family": "Arial",
           "size": 10
          },
          "showarrow": false,
          "text": "per:city_of_death (4 matches)",
          "x": 0.10625,
          "xanchor": "center",
          "xref": "paper",
          "y": 0.17901234567901234,
          "yanchor": "bottom",
          "yref": "paper"
         },
         {
          "font": {
           "family": "Arial",
           "size": 10
          },
          "showarrow": false,
          "text": "per:cause_of_death (3 matches)",
          "x": 0.36875,
          "xanchor": "center",
          "xref": "paper",
          "y": 0.17901234567901234,
          "yanchor": "bottom",
          "yref": "paper"
         },
         {
          "font": {
           "family": "Arial",
           "size": 10
          },
          "showarrow": false,
          "text": "org:political/religious_affiliation (3 matches)",
          "x": 0.6312500000000001,
          "xanchor": "center",
          "xref": "paper",
          "y": 0.17901234567901234,
          "yanchor": "bottom",
          "yref": "paper"
         },
         {
          "font": {
           "family": "Arial",
           "size": 10
          },
          "showarrow": false,
          "text": "per:stateorprovince_of_birth (3 matches)",
          "x": 0.89375,
          "xanchor": "center",
          "xref": "paper",
          "y": 0.17901234567901234,
          "yanchor": "bottom",
          "yref": "paper"
         },
         {
          "font": {
           "family": "Arial",
           "size": 10
          },
          "showarrow": false,
          "text": "per:stateorprovince_of_death (2 matches)",
          "x": 0.10625,
          "xanchor": "center",
          "xref": "paper",
          "y": 0.0617283950617284,
          "yanchor": "bottom",
          "yref": "paper"
         },
         {
          "font": {
           "family": "Arial",
           "size": 10
          },
          "showarrow": false,
          "text": "org:members (1 matches)",
          "x": 0.36875,
          "xanchor": "center",
          "xref": "paper",
          "y": 0.0617283950617284,
          "yanchor": "bottom",
          "yref": "paper"
         },
         {
          "font": {
           "family": "Arial",
           "size": 10
          },
          "showarrow": false,
          "text": "org:member_of (1 matches)",
          "x": 0.6312500000000001,
          "xanchor": "center",
          "xref": "paper",
          "y": 0.0617283950617284,
          "yanchor": "bottom",
          "yref": "paper"
         },
         {
          "font": {
           "family": "Arial",
           "size": 10
          },
          "showarrow": false,
          "text": "per:city_of_birth (1 matches)",
          "x": 0.89375,
          "xanchor": "center",
          "xref": "paper",
          "y": 0.0617283950617284,
          "yanchor": "bottom",
          "yref": "paper"
         }
        ],
        "font": {
         "family": "Arial",
         "size": 12
        },
        "height": 2500,
        "title": {
         "text": "UD path coverage"
        },
        "width": 1000
       }
      },
      "text/html": [
       "<div>\n",
       "        \n",
       "        \n",
       "            <div id=\"20b9c53f-c14f-4570-87ba-e26f84aff282\" class=\"plotly-graph-div\" style=\"height:2500px; width:1000px;\"></div>\n",
       "            <script type=\"text/javascript\">\n",
       "                require([\"plotly\"], function(Plotly) {\n",
       "                    window.PLOTLYENV=window.PLOTLYENV || {};\n",
       "                    window.PLOTLYENV.BASE_URL='https://plot.ly';\n",
       "                    \n",
       "                if (document.getElementById(\"20b9c53f-c14f-4570-87ba-e26f84aff282\")) {\n",
       "                    Plotly.newPlot(\n",
       "                        '20b9c53f-c14f-4570-87ba-e26f84aff282',\n",
       "                        [{\"domain\": {\"x\": [0.0, 0.2125], \"y\": [0.9382716049382716, 1.0]}, \"hoverinfo\": \"label+percent\", \"labels\": [3, 4, 5, 6], \"marker\": {\"colors\": [\"#3C464C\", \"#6AA2B5\", \"#F05A71\", \"#C0AC9F\"]}, \"textfont\": {\"size\": 10}, \"textinfo\": \"label+value\", \"type\": \"pie\", \"uid\": \"079ee7b8-7dc8-4220-b34b-adb487a1aa6c\", \"values\": [147, 98, 54, 4]}, {\"domain\": {\"x\": [0.2625, 0.475], \"y\": [0.9382716049382716, 1.0]}, \"hoverinfo\": \"label+percent\", \"labels\": [5, 6, 4, 3, 7, 2, 8], \"marker\": {\"colors\": [\"#3C464C\", \"#6AA2B5\", \"#F05A71\", \"#C0AC9F\"]}, \"textfont\": {\"size\": 10}, \"textinfo\": \"label+value\", \"type\": \"pie\", \"uid\": \"5e4f9d14-ba67-48a3-9104-bcca32670fd0\", \"values\": [99, 58, 35, 33, 6, 2, 1]}, {\"domain\": {\"x\": [0.525, 0.7375], \"y\": [0.9382716049382716, 1.0]}, \"hoverinfo\": \"label+percent\", \"labels\": [4, 3, 5, 6], \"marker\": {\"colors\": [\"#3C464C\", \"#6AA2B5\", \"#F05A71\", \"#C0AC9F\"]}, \"textfont\": {\"size\": 10}, \"textinfo\": \"label+value\", \"type\": \"pie\", \"uid\": \"be28b0ef-81cf-4b74-a0ba-c4a4063629cb\", \"values\": [118, 15, 13, 3]}, {\"domain\": {\"x\": [0.7875, 1.0], \"y\": [0.9382716049382716, 1.0]}, \"hoverinfo\": \"label+percent\", \"labels\": [3, 4, 5], \"marker\": {\"colors\": [\"#3C464C\", \"#6AA2B5\", \"#F05A71\", \"#C0AC9F\"]}, \"textfont\": {\"size\": 10}, \"textinfo\": \"label+value\", \"type\": \"pie\", \"uid\": \"99e8cf1a-6aa6-4949-a6ba-f523ca2df741\", \"values\": [75, 54, 9]}, {\"domain\": {\"x\": [0.0, 0.2125], \"y\": [0.8209876543209876, 0.8827160493827161]}, \"hoverinfo\": \"label+percent\", \"labels\": [3, 5, 4, 6, 7, 2], \"marker\": {\"colors\": [\"#3C464C\", \"#6AA2B5\", \"#F05A71\", \"#C0AC9F\"]}, \"textfont\": {\"size\": 10}, \"textinfo\": \"label+value\", \"type\": \"pie\", \"uid\": \"abcc3636-7639-4c34-b02b-502d73016389\", \"values\": [28, 24, 16, 10, 4, 1]}, {\"domain\": {\"x\": [0.2625, 0.475], \"y\": [0.8209876543209876, 0.8827160493827161]}, \"hoverinfo\": \"label+percent\", \"labels\": [3, 5, 4], \"marker\": {\"colors\": [\"#3C464C\", \"#6AA2B5\", \"#F05A71\", \"#C0AC9F\"]}, \"textfont\": {\"size\": 10}, \"textinfo\": \"label+value\", \"type\": \"pie\", \"uid\": \"45d136f6-1c7d-435c-8e45-a7e00408b689\", \"values\": [29, 9, 6]}, {\"domain\": {\"x\": [0.525, 0.7375], \"y\": [0.8209876543209876, 0.8827160493827161]}, \"hoverinfo\": \"label+percent\", \"labels\": [5, 4], \"marker\": {\"colors\": [\"#3C464C\", \"#6AA2B5\", \"#F05A71\", \"#C0AC9F\"]}, \"textfont\": {\"size\": 10}, \"textinfo\": \"label+value\", \"type\": \"pie\", \"uid\": \"a16d170e-5749-4d2a-b4d0-ad653ac55f4d\", \"values\": [19, 17]}, {\"domain\": {\"x\": [0.7875, 1.0], \"y\": [0.8209876543209876, 0.8827160493827161]}, \"hoverinfo\": \"label+percent\", \"labels\": [4, 5, 3, 6], \"marker\": {\"colors\": [\"#3C464C\", \"#6AA2B5\", \"#F05A71\", \"#C0AC9F\"]}, \"textfont\": {\"size\": 10}, \"textinfo\": \"label+value\", \"type\": \"pie\", \"uid\": \"47efb849-d2e9-4958-9b1e-52285f6b7375\", \"values\": [22, 6, 4, 1]}, {\"domain\": {\"x\": [0.0, 0.2125], \"y\": [0.7037037037037037, 0.7654320987654322]}, \"hoverinfo\": \"label+percent\", \"labels\": [4, 3, 6, 5], \"marker\": {\"colors\": [\"#3C464C\", \"#6AA2B5\", \"#F05A71\", \"#C0AC9F\"]}, \"textfont\": {\"size\": 10}, \"textinfo\": \"label+value\", \"type\": \"pie\", \"uid\": \"849599f8-32bc-4281-ae83-9c218d867cf3\", \"values\": [20, 2, 2, 1]}, {\"domain\": {\"x\": [0.2625, 0.475], \"y\": [0.7037037037037037, 0.7654320987654322]}, \"hoverinfo\": \"label+percent\", \"labels\": [3, 4, 2, 5], \"marker\": {\"colors\": [\"#3C464C\", \"#6AA2B5\", \"#F05A71\", \"#C0AC9F\"]}, \"textfont\": {\"size\": 10}, \"textinfo\": \"label+value\", \"type\": \"pie\", \"uid\": \"539fdaa0-5179-4a25-9454-78691e05ed85\", \"values\": [11, 9, 2, 2]}, {\"domain\": {\"x\": [0.525, 0.7375], \"y\": [0.7037037037037037, 0.7654320987654322]}, \"hoverinfo\": \"label+percent\", \"labels\": [4, 3, 5, 6], \"marker\": {\"colors\": [\"#3C464C\", \"#6AA2B5\", \"#F05A71\", \"#C0AC9F\"]}, \"textfont\": {\"size\": 10}, \"textinfo\": \"label+value\", \"type\": \"pie\", \"uid\": \"b02c3bd7-ebab-4618-9002-24c86261c956\", \"values\": [12, 4, 3, 2]}, {\"domain\": {\"x\": [0.7875, 1.0], \"y\": [0.7037037037037037, 0.7654320987654322]}, \"hoverinfo\": \"label+percent\", \"labels\": [3, 4, 2, 5], \"marker\": {\"colors\": [\"#3C464C\", \"#6AA2B5\", \"#F05A71\", \"#C0AC9F\"]}, \"textfont\": {\"size\": 10}, \"textinfo\": \"label+value\", \"type\": \"pie\", \"uid\": \"3137a1a3-e4d4-4d59-8c00-8e36ca6aae2f\", \"values\": [11, 7, 1, 1]}, {\"domain\": {\"x\": [0.0, 0.2125], \"y\": [0.5864197530864198, 0.6481481481481483]}, \"hoverinfo\": \"label+percent\", \"labels\": [4, 3], \"marker\": {\"colors\": [\"#3C464C\", \"#6AA2B5\", \"#F05A71\", \"#C0AC9F\"]}, \"textfont\": {\"size\": 10}, \"textinfo\": \"label+value\", \"type\": \"pie\", \"uid\": \"7bec263a-263e-4331-92c1-eadc5b06ae1b\", \"values\": [9, 7]}, {\"domain\": {\"x\": [0.2625, 0.475], \"y\": [0.5864197530864198, 0.6481481481481483]}, \"hoverinfo\": \"label+percent\", \"labels\": [5, 3, 4, 6], \"marker\": {\"colors\": [\"#3C464C\", \"#6AA2B5\", \"#F05A71\", \"#C0AC9F\"]}, \"textfont\": {\"size\": 10}, \"textinfo\": \"label+value\", \"type\": \"pie\", \"uid\": \"72097a0a-6eb4-42f2-9760-dbf7bd4fba7e\", \"values\": [11, 2, 2, 1]}, {\"domain\": {\"x\": [0.525, 0.7375], \"y\": [0.5864197530864198, 0.6481481481481483]}, \"hoverinfo\": \"label+percent\", \"labels\": [4, 3], \"marker\": {\"colors\": [\"#3C464C\", \"#6AA2B5\", \"#F05A71\", \"#C0AC9F\"]}, \"textfont\": {\"size\": 10}, \"textinfo\": \"label+value\", \"type\": \"pie\", \"uid\": \"a924a4ad-3edf-47b7-945f-19da136f0ec8\", \"values\": [9, 6]}, {\"domain\": {\"x\": [0.7875, 1.0], \"y\": [0.5864197530864198, 0.6481481481481483]}, \"hoverinfo\": \"label+percent\", \"labels\": [5, 4, 3], \"marker\": {\"colors\": [\"#3C464C\", \"#6AA2B5\", \"#F05A71\", \"#C0AC9F\"]}, \"textfont\": {\"size\": 10}, \"textinfo\": \"label+value\", \"type\": \"pie\", \"uid\": \"84b1e31e-2717-4e79-a4ae-4ab872f4172b\", \"values\": [9, 4, 1]}, {\"domain\": {\"x\": [0.0, 0.2125], \"y\": [0.4691358024691358, 0.5308641975308642]}, \"hoverinfo\": \"label+percent\", \"labels\": [4, 3, 5], \"marker\": {\"colors\": [\"#3C464C\", \"#6AA2B5\", \"#F05A71\", \"#C0AC9F\"]}, \"textfont\": {\"size\": 10}, \"textinfo\": \"label+value\", \"type\": \"pie\", \"uid\": \"5b2a2fdc-0294-47c6-a875-36692df876a0\", \"values\": [5, 4, 2]}, {\"domain\": {\"x\": [0.2625, 0.475], \"y\": [0.4691358024691358, 0.5308641975308642]}, \"hoverinfo\": \"label+percent\", \"labels\": [4, 3], \"marker\": {\"colors\": [\"#3C464C\", \"#6AA2B5\", \"#F05A71\", \"#C0AC9F\"]}, \"textfont\": {\"size\": 10}, \"textinfo\": \"label+value\", \"type\": \"pie\", \"uid\": \"c8504f7d-7f4e-442c-91a5-fe8515fc4cb3\", \"values\": [8, 3]}, {\"domain\": {\"x\": [0.525, 0.7375], \"y\": [0.4691358024691358, 0.5308641975308642]}, \"hoverinfo\": \"label+percent\", \"labels\": [3, 4], \"marker\": {\"colors\": [\"#3C464C\", \"#6AA2B5\", \"#F05A71\", \"#C0AC9F\"]}, \"textfont\": {\"size\": 10}, \"textinfo\": \"label+value\", \"type\": \"pie\", \"uid\": \"49fbce17-6819-4520-81a7-f175ea6a06b1\", \"values\": [8, 2]}, {\"domain\": {\"x\": [0.7875, 1.0], \"y\": [0.4691358024691358, 0.5308641975308642]}, \"hoverinfo\": \"label+percent\", \"labels\": [3, 4, 2, 6], \"marker\": {\"colors\": [\"#3C464C\", \"#6AA2B5\", \"#F05A71\", \"#C0AC9F\"]}, \"textfont\": {\"size\": 10}, \"textinfo\": \"label+value\", \"type\": \"pie\", \"uid\": \"9274f483-0590-411d-813b-514bf282a680\", \"values\": [6, 2, 1, 1]}, {\"domain\": {\"x\": [0.0, 0.2125], \"y\": [0.35185185185185186, 0.41358024691358025]}, \"hoverinfo\": \"label+percent\", \"labels\": [4, 5, 7], \"marker\": {\"colors\": [\"#3C464C\", \"#6AA2B5\", \"#F05A71\", \"#C0AC9F\"]}, \"textfont\": {\"size\": 10}, \"textinfo\": \"label+value\", \"type\": \"pie\", \"uid\": \"0ecfe0fe-91f5-4167-87fc-fd866f6bee9c\", \"values\": [6, 3, 1]}, {\"domain\": {\"x\": [0.2625, 0.475], \"y\": [0.35185185185185186, 0.41358024691358025]}, \"hoverinfo\": \"label+percent\", \"labels\": [2, 3, 4, 5], \"marker\": {\"colors\": [\"#3C464C\", \"#6AA2B5\", \"#F05A71\", \"#C0AC9F\"]}, \"textfont\": {\"size\": 10}, \"textinfo\": \"label+value\", \"type\": \"pie\", \"uid\": \"95d07862-0b00-499d-9ba7-800a11765b32\", \"values\": [3, 2, 1, 1]}, {\"domain\": {\"x\": [0.525, 0.7375], \"y\": [0.35185185185185186, 0.41358024691358025]}, \"hoverinfo\": \"label+percent\", \"labels\": [4, 2, 3, 5], \"marker\": {\"colors\": [\"#3C464C\", \"#6AA2B5\", \"#F05A71\", \"#C0AC9F\"]}, \"textfont\": {\"size\": 10}, \"textinfo\": \"label+value\", \"type\": \"pie\", \"uid\": \"1d93b9d4-0cf8-4fcd-bf2f-c9de4181b274\", \"values\": [4, 1, 1, 1]}, {\"domain\": {\"x\": [0.7875, 1.0], \"y\": [0.35185185185185186, 0.41358024691358025]}, \"hoverinfo\": \"label+percent\", \"labels\": [4, 5], \"marker\": {\"colors\": [\"#3C464C\", \"#6AA2B5\", \"#F05A71\", \"#C0AC9F\"]}, \"textfont\": {\"size\": 10}, \"textinfo\": \"label+value\", \"type\": \"pie\", \"uid\": \"8678fc7c-6645-4bfd-b42e-8073d87db932\", \"values\": [5, 1]}, {\"domain\": {\"x\": [0.0, 0.2125], \"y\": [0.2345679012345679, 0.2962962962962963]}, \"hoverinfo\": \"label+percent\", \"labels\": [4, 2, 3], \"marker\": {\"colors\": [\"#3C464C\", \"#6AA2B5\", \"#F05A71\", \"#C0AC9F\"]}, \"textfont\": {\"size\": 10}, \"textinfo\": \"label+value\", \"type\": \"pie\", \"uid\": \"7c4627bd-94bb-436d-9a68-308c963c218e\", \"values\": [4, 1, 1]}, {\"domain\": {\"x\": [0.2625, 0.475], \"y\": [0.2345679012345679, 0.2962962962962963]}, \"hoverinfo\": \"label+percent\", \"labels\": [2, 3, 4], \"marker\": {\"colors\": [\"#3C464C\", \"#6AA2B5\", \"#F05A71\", \"#C0AC9F\"]}, \"textfont\": {\"size\": 10}, \"textinfo\": \"label+value\", \"type\": \"pie\", \"uid\": \"e09f65f9-65ad-419f-9409-742462e2a3d2\", \"values\": [2, 2, 1]}, {\"domain\": {\"x\": [0.525, 0.7375], \"y\": [0.2345679012345679, 0.2962962962962963]}, \"hoverinfo\": \"label+percent\", \"labels\": [4], \"marker\": {\"colors\": [\"#3C464C\", \"#6AA2B5\", \"#F05A71\", \"#C0AC9F\"]}, \"textfont\": {\"size\": 10}, \"textinfo\": \"label+value\", \"type\": \"pie\", \"uid\": \"0ba8432a-00cc-4777-960e-7c31fef52a26\", \"values\": [4]}, {\"domain\": {\"x\": [0.7875, 1.0], \"y\": [0.2345679012345679, 0.2962962962962963]}, \"hoverinfo\": \"label+percent\", \"labels\": [2, 3], \"marker\": {\"colors\": [\"#3C464C\", \"#6AA2B5\", \"#F05A71\", \"#C0AC9F\"]}, \"textfont\": {\"size\": 10}, \"textinfo\": \"label+value\", \"type\": \"pie\", \"uid\": \"251e44d0-9442-4b22-9ba1-a403841348af\", \"values\": [3, 1]}, {\"domain\": {\"x\": [0.0, 0.2125], \"y\": [0.11728395061728394, 0.17901234567901234]}, \"hoverinfo\": \"label+percent\", \"labels\": [4, 5], \"marker\": {\"colors\": [\"#3C464C\", \"#6AA2B5\", \"#F05A71\", \"#C0AC9F\"]}, \"textfont\": {\"size\": 10}, \"textinfo\": \"label+value\", \"type\": \"pie\", \"uid\": \"3dc591f9-7b9d-41c9-884e-761a819888c9\", \"values\": [3, 1]}, {\"domain\": {\"x\": [0.2625, 0.475], \"y\": [0.11728395061728394, 0.17901234567901234]}, \"hoverinfo\": \"label+percent\", \"labels\": [5, 2], \"marker\": {\"colors\": [\"#3C464C\", \"#6AA2B5\", \"#F05A71\", \"#C0AC9F\"]}, \"textfont\": {\"size\": 10}, \"textinfo\": \"label+value\", \"type\": \"pie\", \"uid\": \"d313b4a4-1ffb-4305-a392-afcf84beb05f\", \"values\": [2, 1]}, {\"domain\": {\"x\": [0.525, 0.7375], \"y\": [0.11728395061728394, 0.17901234567901234]}, \"hoverinfo\": \"label+percent\", \"labels\": [4, 5], \"marker\": {\"colors\": [\"#3C464C\", \"#6AA2B5\", \"#F05A71\", \"#C0AC9F\"]}, \"textfont\": {\"size\": 10}, \"textinfo\": \"label+value\", \"type\": \"pie\", \"uid\": \"e12c5737-0b18-4337-a20b-d8f60034d9ec\", \"values\": [2, 1]}, {\"domain\": {\"x\": [0.7875, 1.0], \"y\": [0.11728395061728394, 0.17901234567901234]}, \"hoverinfo\": \"label+percent\", \"labels\": [4], \"marker\": {\"colors\": [\"#3C464C\", \"#6AA2B5\", \"#F05A71\", \"#C0AC9F\"]}, \"textfont\": {\"size\": 10}, \"textinfo\": \"label+value\", \"type\": \"pie\", \"uid\": \"ebf67779-8e7b-4fc4-92bf-69c73e1f6c11\", \"values\": [3]}, {\"domain\": {\"x\": [0.0, 0.2125], \"y\": [0.0, 0.0617283950617284]}, \"hoverinfo\": \"label+percent\", \"labels\": [5], \"marker\": {\"colors\": [\"#3C464C\", \"#6AA2B5\", \"#F05A71\", \"#C0AC9F\"]}, \"textfont\": {\"size\": 10}, \"textinfo\": \"label+value\", \"type\": \"pie\", \"uid\": \"2662eb37-840f-43b0-a5c7-124ea0dae0e5\", \"values\": [2]}, {\"domain\": {\"x\": [0.2625, 0.475], \"y\": [0.0, 0.0617283950617284]}, \"hoverinfo\": \"label+percent\", \"labels\": [3], \"marker\": {\"colors\": [\"#3C464C\", \"#6AA2B5\", \"#F05A71\", \"#C0AC9F\"]}, \"textfont\": {\"size\": 10}, \"textinfo\": \"label+value\", \"type\": \"pie\", \"uid\": \"a7af2074-5ae1-4c58-b40e-49e8310f3934\", \"values\": [1]}, {\"domain\": {\"x\": [0.525, 0.7375], \"y\": [0.0, 0.0617283950617284]}, \"hoverinfo\": \"label+percent\", \"labels\": [5], \"marker\": {\"colors\": [\"#3C464C\", \"#6AA2B5\", \"#F05A71\", \"#C0AC9F\"]}, \"textfont\": {\"size\": 10}, \"textinfo\": \"label+value\", \"type\": \"pie\", \"uid\": \"6ed812a4-5aea-4146-b977-c0e0c7ad30da\", \"values\": [1]}, {\"domain\": {\"x\": [0.7875, 1.0], \"y\": [0.0, 0.0617283950617284]}, \"hoverinfo\": \"label+percent\", \"labels\": [4], \"marker\": {\"colors\": [\"#3C464C\", \"#6AA2B5\", \"#F05A71\", \"#C0AC9F\"]}, \"textfont\": {\"size\": 10}, \"textinfo\": \"label+value\", \"type\": \"pie\", \"uid\": \"3408e400-7c38-4db7-b97e-8bb46527f225\", \"values\": [1]}],\n",
       "                        {\"annotations\": [{\"font\": {\"family\": \"Arial\", \"size\": 10}, \"showarrow\": false, \"text\": \"per:title (303 matches)\", \"x\": 0.10625, \"xanchor\": \"center\", \"xref\": \"paper\", \"y\": 1.0, \"yanchor\": \"bottom\", \"yref\": \"paper\"}, {\"font\": {\"family\": \"Arial\", \"size\": 10}, \"showarrow\": false, \"text\": \"org:top_members/employees (234 matches)\", \"x\": 0.36875, \"xanchor\": \"center\", \"xref\": \"paper\", \"y\": 1.0, \"yanchor\": \"bottom\", \"yref\": \"paper\"}, {\"font\": {\"family\": \"Arial\", \"size\": 10}, \"showarrow\": false, \"text\": \"org:alternate_names (149 matches)\", \"x\": 0.6312500000000001, \"xanchor\": \"center\", \"xref\": \"paper\", \"y\": 1.0, \"yanchor\": \"bottom\", \"yref\": \"paper\"}, {\"font\": {\"family\": \"Arial\", \"size\": 10}, \"showarrow\": false, \"text\": \"per:age (138 matches)\", \"x\": 0.89375, \"xanchor\": \"center\", \"xref\": \"paper\", \"y\": 1.0, \"yanchor\": \"bottom\", \"yref\": \"paper\"}, {\"font\": {\"family\": \"Arial\", \"size\": 10}, \"showarrow\": false, \"text\": \"per:employee_of (83 matches)\", \"x\": 0.10625, \"xanchor\": \"center\", \"xref\": \"paper\", \"y\": 0.8827160493827161, \"yanchor\": \"bottom\", \"yref\": \"paper\"}, {\"font\": {\"family\": \"Arial\", \"size\": 10}, \"showarrow\": false, \"text\": \"per:origin (44 matches)\", \"x\": 0.36875, \"xanchor\": \"center\", \"xref\": \"paper\", \"y\": 0.8827160493827161, \"yanchor\": \"bottom\", \"yref\": \"paper\"}, {\"font\": {\"family\": \"Arial\", \"size\": 10}, \"showarrow\": false, \"text\": \"per:cities_of_residence (36 matches)\", \"x\": 0.6312500000000001, \"xanchor\": \"center\", \"xref\": \"paper\", \"y\": 0.8827160493827161, \"yanchor\": \"bottom\", \"yref\": \"paper\"}, {\"font\": {\"family\": \"Arial\", \"size\": 10}, \"showarrow\": false, \"text\": \"org:city_of_headquarters (33 matches)\", \"x\": 0.89375, \"xanchor\": \"center\", \"xref\": \"paper\", \"y\": 0.8827160493827161, \"yanchor\": \"bottom\", \"yref\": \"paper\"}, {\"font\": {\"family\": \"Arial\", \"size\": 10}, \"showarrow\": false, \"text\": \"per:parents (25 matches)\", \"x\": 0.10625, \"xanchor\": \"center\", \"xref\": \"paper\", \"y\": 0.7654320987654322, \"yanchor\": \"bottom\", \"yref\": \"paper\"}, {\"font\": {\"family\": \"Arial\", \"size\": 10}, \"showarrow\": false, \"text\": \"per:countries_of_residence (24 matches)\", \"x\": 0.36875, \"xanchor\": \"center\", \"xref\": \"paper\", \"y\": 0.7654320987654322, \"yanchor\": \"bottom\", \"yref\": \"paper\"}, {\"font\": {\"family\": \"Arial\", \"size\": 10}, \"showarrow\": false, \"text\": \"org:country_of_headquarters (21 matches)\", \"x\": 0.6312500000000001, \"xanchor\": \"center\", \"xref\": \"paper\", \"y\": 0.7654320987654322, \"yanchor\": \"bottom\", \"yref\": \"paper\"}, {\"font\": {\"family\": \"Arial\", \"size\": 10}, \"showarrow\": false, \"text\": \"per:spouse (20 matches)\", \"x\": 0.89375, \"xanchor\": \"center\", \"xref\": \"paper\", \"y\": 0.7654320987654322, \"yanchor\": \"bottom\", \"yref\": \"paper\"}, {\"font\": {\"family\": \"Arial\", \"size\": 10}, \"showarrow\": false, \"text\": \"per:other_family (16 matches)\", \"x\": 0.10625, \"xanchor\": \"center\", \"xref\": \"paper\", \"y\": 0.6481481481481483, \"yanchor\": \"bottom\", \"yref\": \"paper\"}, {\"font\": {\"family\": \"Arial\", \"size\": 10}, \"showarrow\": false, \"text\": \"org:founded_by (16 matches)\", \"x\": 0.36875, \"xanchor\": \"center\", \"xref\": \"paper\", \"y\": 0.6481481481481483, \"yanchor\": \"bottom\", \"yref\": \"paper\"}, {\"font\": {\"family\": \"Arial\", \"size\": 10}, \"showarrow\": false, \"text\": \"per:children (15 matches)\", \"x\": 0.6312500000000001, \"xanchor\": \"center\", \"xref\": \"paper\", \"y\": 0.6481481481481483, \"yanchor\": \"bottom\", \"yref\": \"paper\"}, {\"font\": {\"family\": \"Arial\", \"size\": 10}, \"showarrow\": false, \"text\": \"org:founded (14 matches)\", \"x\": 0.89375, \"xanchor\": \"center\", \"xref\": \"paper\", \"y\": 0.6481481481481483, \"yanchor\": \"bottom\", \"yref\": \"paper\"}, {\"font\": {\"family\": \"Arial\", \"size\": 10}, \"showarrow\": false, \"text\": \"org:stateorprovince_of_headquarters (11 matches)\", \"x\": 0.10625, \"xanchor\": \"center\", \"xref\": \"paper\", \"y\": 0.5308641975308642, \"yanchor\": \"bottom\", \"yref\": \"paper\"}, {\"font\": {\"family\": \"Arial\", \"size\": 10}, \"showarrow\": false, \"text\": \"per:siblings (11 matches)\", \"x\": 0.36875, \"xanchor\": \"center\", \"xref\": \"paper\", \"y\": 0.5308641975308642, \"yanchor\": \"bottom\", \"yref\": \"paper\"}, {\"font\": {\"family\": \"Arial\", \"size\": 10}, \"showarrow\": false, \"text\": \"org:website (10 matches)\", \"x\": 0.6312500000000001, \"xanchor\": \"center\", \"xref\": \"paper\", \"y\": 0.5308641975308642, \"yanchor\": \"bottom\", \"yref\": \"paper\"}, {\"font\": {\"family\": \"Arial\", \"size\": 10}, \"showarrow\": false, \"text\": \"org:subsidiaries (10 matches)\", \"x\": 0.89375, \"xanchor\": \"center\", \"xref\": \"paper\", \"y\": 0.5308641975308642, \"yanchor\": \"bottom\", \"yref\": \"paper\"}, {\"font\": {\"family\": \"Arial\", \"size\": 10}, \"showarrow\": false, \"text\": \"per:stateorprovinces_of_residence (10 matches)\", \"x\": 0.10625, \"xanchor\": \"center\", \"xref\": \"paper\", \"y\": 0.41358024691358025, \"yanchor\": \"bottom\", \"yref\": \"paper\"}, {\"font\": {\"family\": \"Arial\", \"size\": 10}, \"showarrow\": false, \"text\": \"org:parents (7 matches)\", \"x\": 0.36875, \"xanchor\": \"center\", \"xref\": \"paper\", \"y\": 0.41358024691358025, \"yanchor\": \"bottom\", \"yref\": \"paper\"}, {\"font\": {\"family\": \"Arial\", \"size\": 10}, \"showarrow\": false, \"text\": \"per:schools_attended (7 matches)\", \"x\": 0.6312500000000001, \"xanchor\": \"center\", \"xref\": \"paper\", \"y\": 0.41358024691358025, \"yanchor\": \"bottom\", \"yref\": \"paper\"}, {\"font\": {\"family\": \"Arial\", \"size\": 10}, \"showarrow\": false, \"text\": \"per:charges (6 matches)\", \"x\": 0.89375, \"xanchor\": \"center\", \"xref\": \"paper\", \"y\": 0.41358024691358025, \"yanchor\": \"bottom\", \"yref\": \"paper\"}, {\"font\": {\"family\": \"Arial\", \"size\": 10}, \"showarrow\": false, \"text\": \"per:date_of_death (6 matches)\", \"x\": 0.10625, \"xanchor\": \"center\", \"xref\": \"paper\", \"y\": 0.2962962962962963, \"yanchor\": \"bottom\", \"yref\": \"paper\"}, {\"font\": {\"family\": \"Arial\", \"size\": 10}, \"showarrow\": false, \"text\": \"per:date_of_birth (5 matches)\", \"x\": 0.36875, \"xanchor\": \"center\", \"xref\": \"paper\", \"y\": 0.2962962962962963, \"yanchor\": \"bottom\", \"yref\": \"paper\"}, {\"font\": {\"family\": \"Arial\", \"size\": 10}, \"showarrow\": false, \"text\": \"per:religion (4 matches)\", \"x\": 0.6312500000000001, \"xanchor\": \"center\", \"xref\": \"paper\", \"y\": 0.2962962962962963, \"yanchor\": \"bottom\", \"yref\": \"paper\"}, {\"font\": {\"family\": \"Arial\", \"size\": 10}, \"showarrow\": false, \"text\": \"org:number_of_employees/members (4 matches)\", \"x\": 0.89375, \"xanchor\": \"center\", \"xref\": \"paper\", \"y\": 0.2962962962962963, \"yanchor\": \"bottom\", \"yref\": \"paper\"}, {\"font\": {\"family\": \"Arial\", \"size\": 10}, \"showarrow\": false, \"text\": \"per:city_of_death (4 matches)\", \"x\": 0.10625, \"xanchor\": \"center\", \"xref\": \"paper\", \"y\": 0.17901234567901234, \"yanchor\": \"bottom\", \"yref\": \"paper\"}, {\"font\": {\"family\": \"Arial\", \"size\": 10}, \"showarrow\": false, \"text\": \"per:cause_of_death (3 matches)\", \"x\": 0.36875, \"xanchor\": \"center\", \"xref\": \"paper\", \"y\": 0.17901234567901234, \"yanchor\": \"bottom\", \"yref\": \"paper\"}, {\"font\": {\"family\": \"Arial\", \"size\": 10}, \"showarrow\": false, \"text\": \"org:political/religious_affiliation (3 matches)\", \"x\": 0.6312500000000001, \"xanchor\": \"center\", \"xref\": \"paper\", \"y\": 0.17901234567901234, \"yanchor\": \"bottom\", \"yref\": \"paper\"}, {\"font\": {\"family\": \"Arial\", \"size\": 10}, \"showarrow\": false, \"text\": \"per:stateorprovince_of_birth (3 matches)\", \"x\": 0.89375, \"xanchor\": \"center\", \"xref\": \"paper\", \"y\": 0.17901234567901234, \"yanchor\": \"bottom\", \"yref\": \"paper\"}, {\"font\": {\"family\": \"Arial\", \"size\": 10}, \"showarrow\": false, \"text\": \"per:stateorprovince_of_death (2 matches)\", \"x\": 0.10625, \"xanchor\": \"center\", \"xref\": \"paper\", \"y\": 0.0617283950617284, \"yanchor\": \"bottom\", \"yref\": \"paper\"}, {\"font\": {\"family\": \"Arial\", \"size\": 10}, \"showarrow\": false, \"text\": \"org:members (1 matches)\", \"x\": 0.36875, \"xanchor\": \"center\", \"xref\": \"paper\", \"y\": 0.0617283950617284, \"yanchor\": \"bottom\", \"yref\": \"paper\"}, {\"font\": {\"family\": \"Arial\", \"size\": 10}, \"showarrow\": false, \"text\": \"org:member_of (1 matches)\", \"x\": 0.6312500000000001, \"xanchor\": \"center\", \"xref\": \"paper\", \"y\": 0.0617283950617284, \"yanchor\": \"bottom\", \"yref\": \"paper\"}, {\"font\": {\"family\": \"Arial\", \"size\": 10}, \"showarrow\": false, \"text\": \"per:city_of_birth (1 matches)\", \"x\": 0.89375, \"xanchor\": \"center\", \"xref\": \"paper\", \"y\": 0.0617283950617284, \"yanchor\": \"bottom\", \"yref\": \"paper\"}], \"font\": {\"family\": \"Arial\", \"size\": 12}, \"height\": 2500, \"title\": {\"text\": \"UD path coverage\"}, \"width\": 1000},\n",
       "                        {\"plotlyServerURL\": \"https://plot.ly\", \"responsive\": true}\n",
       "                    ).then(function(){\n",
       "                            \n",
       "var gd = document.getElementById('20b9c53f-c14f-4570-87ba-e26f84aff282');\n",
       "var x = new MutationObserver(function (mutations, observer) {{\n",
       "        var display = window.getComputedStyle(gd).display;\n",
       "        if (!display || display === 'none') {{\n",
       "            console.log([gd, 'removed!']);\n",
       "            Plotly.purge(gd);\n",
       "            observer.disconnect();\n",
       "        }}\n",
       "}});\n",
       "\n",
       "// Listen for the removal of the full notebook cells\n",
       "var notebookContainer = gd.closest('#notebook-container');\n",
       "if (notebookContainer) {{\n",
       "    x.observe(notebookContainer, {childList: true});\n",
       "}}\n",
       "\n",
       "// Listen for the clearing of the current output cell\n",
       "var outputEl = gd.closest('.output');\n",
       "if (outputEl) {{\n",
       "    x.observe(outputEl, {childList: true});\n",
       "}}\n",
       "\n",
       "                        })\n",
       "                };\n",
       "                });\n",
       "            </script>\n",
       "        </div>"
      ]
     },
     "metadata": {},
     "output_type": "display_data"
    }
   ],
   "source": [
    "layout = go.Layout(\n",
    "    title='UD path coverage',\n",
    "    width=1000,\n",
    "    height=2500,\n",
    "    font=dict(family=\"Arial\", size=12)\n",
    ")\n",
    "\n",
    "fig = make_subplots(\n",
    "    rows=num_rows, \n",
    "    cols=num_columns,\n",
    "    subplot_titles=labels,\n",
    "    specs=[[{\"type\": \"pie\"}] * num_columns] * num_rows \n",
    ")\n",
    "\n",
    "not_interested_in_output = fig['layout'].update(layout)\n",
    "\n",
    "\n",
    "for ind, relation in enumerate(relations):\n",
    "    \n",
    "    row_num, column_num = divmod(ind,num_columns)\n",
    "    \n",
    "    column_num += 1\n",
    "    row_num +=1 \n",
    "    \n",
    "    pie =  go.Pie(\n",
    "            labels=test_total_by_relation_and_len[test_total_by_relation_and_len['relation']==relation]['ud_path_len'].tolist(),\n",
    "            values=test_total_by_relation_and_len[test_total_by_relation_and_len['relation']==relation]['total'].tolist()\n",
    "        )\n",
    "    \n",
    "    fig.add_trace(\n",
    "        pie,\n",
    "        row=row_num, \n",
    "        col=column_num)\n",
    "\n",
    "colors = ['#FEBFB3', '#E1396C', '#96D38C', '#D0F9B1']\n",
    "colors = ['#BAA7AE', '#F2A939', '#BA688E', '#5D3D6A']\n",
    "colors = ['#3C464C', '#6AA2B5', '#F05A71', '#C0AC9F']\n",
    "\n",
    "fig.update_traces(\n",
    "    hoverinfo='label+percent', \n",
    "    textinfo='label+value', \n",
    "    textfont_size=10,\n",
    "    marker=dict(colors=colors)\n",
    ")\n",
    "    \n",
    "    \n",
    "for i in fig['layout']['annotations']:\n",
    "    i['font'] = dict(family=\"Arial\", size=10)\n",
    "\n",
    "    \n",
    "\n",
    "fig.show()\n",
    "    "
   ]
  },
  {
   "cell_type": "code",
   "execution_count": null,
   "metadata": {},
   "outputs": [],
   "source": []
  }
 ],
 "metadata": {
  "kernelspec": {
   "display_name": "Python 3",
   "language": "python",
   "name": "python3"
  },
  "language_info": {
   "codemirror_mode": {
    "name": "ipython",
    "version": 3
   },
   "file_extension": ".py",
   "mimetype": "text/x-python",
   "name": "python",
   "nbconvert_exporter": "python",
   "pygments_lexer": "ipython3",
   "version": "3.7.6"
  }
 },
 "nbformat": 4,
 "nbformat_minor": 2
}
