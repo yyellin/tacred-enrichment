{
 "cells": [
  {
   "cell_type": "code",
   "execution_count": 1,
   "metadata": {},
   "outputs": [
    {
     "data": {
      "text/html": [
       "        <script type=\"text/javascript\">\n",
       "        window.PlotlyConfig = {MathJaxConfig: 'local'};\n",
       "        if (window.MathJax) {MathJax.Hub.Config({SVG: {font: \"STIX-Web\"}});}\n",
       "        if (typeof require !== 'undefined') {\n",
       "        require.undef(\"plotly\");\n",
       "        requirejs.config({\n",
       "            paths: {\n",
       "                'plotly': ['https://cdn.plot.ly/plotly-latest.min']\n",
       "            }\n",
       "        });\n",
       "        require(['plotly'], function(Plotly) {\n",
       "            window._Plotly = Plotly;\n",
       "        });\n",
       "        }\n",
       "        </script>\n",
       "        "
      ]
     },
     "metadata": {},
     "output_type": "display_data"
    }
   ],
   "source": [
    "from plotly.offline import download_plotlyjs, init_notebook_mode, plot, iplot\n",
    "init_notebook_mode(connected=True)"
   ]
  },
  {
   "cell_type": "code",
   "execution_count": 2,
   "metadata": {},
   "outputs": [],
   "source": [
    "import pandas\n",
    "\n",
    "train = pandas.read_csv(r'C:\\Users\\JYellin\\re_1\\tacred\\results\\general\\train-ud_paths_v0.0.5.csv')\n",
    "test = pandas.read_csv(r'C:\\Users\\JYellin\\re_1\\tacred\\results\\general\\test-ud_paths_v0.0.5.csv')"
   ]
  },
  {
   "cell_type": "code",
   "execution_count": 3,
   "metadata": {},
   "outputs": [],
   "source": [
    "def transform_row(r):\n",
    "    return '{entity1} {org_path} {entity2}'.format(entity1=r.type1[0:3], org_path=r.path, entity2=r.type2[0:3])\n",
    "\n",
    "train['path'] = train.apply(transform_row, axis=1)\n",
    "test['path'] = test.apply(transform_row, axis=1)"
   ]
  },
  {
   "cell_type": "code",
   "execution_count": 4,
   "metadata": {},
   "outputs": [],
   "source": [
    "relation_to_paths = train.groupby(['relation'])['path'].unique().to_dict()"
   ]
  },
  {
   "cell_type": "code",
   "execution_count": 5,
   "metadata": {},
   "outputs": [],
   "source": [
    "def label_sentence_recall(test_row, relation):\n",
    "    path = test_row['path']\n",
    "    true_relation = test_row['relation']\n",
    "    \n",
    "    if path in relation_to_paths[relation]:\n",
    "        if true_relation == relation:\n",
    "            return 'TP'\n",
    "        else:\n",
    "            return 'FP'\n",
    "    else:\n",
    "        return 'N'"
   ]
  },
  {
   "cell_type": "code",
   "execution_count": 6,
   "metadata": {},
   "outputs": [],
   "source": [
    "for relation in filter(lambda relation: relation != 'no_relation', relation_to_paths.keys()):\n",
    "    test[relation] = test.apply(lambda row : label_sentence_recall(row, relation), axis=1)    "
   ]
  },
  {
   "cell_type": "code",
   "execution_count": 7,
   "metadata": {},
   "outputs": [],
   "source": [
    "stats = []\n",
    "overall_tp = 0\n",
    "overall_fp = 0\n",
    "\n",
    "for relation in filter(lambda relation: relation != 'no_relation', relation_to_paths.keys()):\n",
    "\n",
    "    counts = test[relation].value_counts().to_dict()\n",
    "        \n",
    "    tp = counts.get('TP', 0)\n",
    "    fp = counts.get('FP', 0)\n",
    "    precision = tp / (tp+fp)\n",
    "\n",
    "    stats.append( (relation, round(precision,4)) )\n",
    "    \n",
    "    overall_tp += tp\n",
    "    overall_fp += fp\n",
    "    \n",
    "overall_precision = overall_tp / (overall_tp+overall_fp)\n",
    "\n",
    "    \n",
    "\n",
    "stats.append( ('overall', round(overall_precision,4)) )\n",
    "stats = sorted(stats, key=lambda x: x[1], reverse=True)"
   ]
  },
  {
   "cell_type": "code",
   "execution_count": 12,
   "metadata": {},
   "outputs": [
    {
     "data": {
      "application/vnd.plotly.v1+json": {
       "config": {
        "linkText": "Export to plot.ly",
        "plotlyServerURL": "https://plot.ly",
        "showLink": false
       },
       "data": [
        {
         "marker": {
          "color": [
           "rgb(58,200,225)",
           "rgb(58,200,225)",
           "rgb(58,200,225)",
           "rgb(58,200,225)",
           "rgb(58,200,225)",
           "rgb(58,200,225)",
           "rgb(58,200,225)",
           "rgb(58,200,225)",
           "rgb(58,200,225)",
           "rgb(58,200,225)",
           "rgb(58,200,225)",
           "rgb(58,200,225)",
           "rgb(58,200,225)",
           "rgb(58,200,225)",
           "rgb(58,200,225)",
           "rgb(58,200,225)",
           "rgb(58,200,225)",
           "rgb(58,200,225)",
           "rgb(181,59,89)",
           "rgb(58,200,225)",
           "rgb(58,200,225)",
           "rgb(58,200,225)",
           "rgb(58,200,225)",
           "rgb(58,200,225)",
           "rgb(58,200,225)",
           "rgb(58,200,225)",
           "rgb(58,200,225)",
           "rgb(58,200,225)",
           "rgb(58,200,225)",
           "rgb(58,200,225)",
           "rgb(58,200,225)",
           "rgb(58,200,225)",
           "rgb(58,200,225)",
           "rgb(58,200,225)",
           "rgb(58,200,225)",
           "rgb(58,200,225)",
           "rgb(58,200,225)",
           "rgb(58,200,225)",
           "rgb(58,200,225)",
           "rgb(58,200,225)",
           "rgb(58,200,225)",
           "rgb(58,200,225)"
          ],
          "line": {
           "color": "rgb(8,48,107)",
           "width": 0.5
          }
         },
         "name": "Precision",
         "opacity": 0.6,
         "type": "bar",
         "uid": "7ef73854-854c-47b6-b0a6-8e4bbc93c6ce",
         "width": 0.5,
         "x": [
          "per:charges",
          "per:religion",
          "org:website",
          "per:age",
          "per:title",
          "org:city_of_headquarters",
          "org:country_of_headquarters",
          "per:origin",
          "per:cause_of_death",
          "org:alternate_names",
          "per:cities_of_residence",
          "org:top_members/employees",
          "org:stateorprovince_of_headquarters",
          "per:employee_of",
          "per:stateorprovinces_of_residence",
          "per:countries_of_residence",
          "org:number_of_employees/members",
          "org:founded",
          "overall",
          "per:stateorprovince_of_birth",
          "per:city_of_death",
          "org:political/religious_affiliation",
          "org:founded_by",
          "per:stateorprovince_of_death",
          "per:schools_attended",
          "per:parents",
          "per:date_of_birth",
          "per:city_of_birth",
          "per:date_of_death",
          "org:subsidiaries",
          "org:parents",
          "per:children",
          "per:spouse",
          "per:other_family",
          "per:siblings",
          "org:members",
          "org:dissolved",
          "org:member_of",
          "org:shareholders",
          "per:alternate_names",
          "per:country_of_birth",
          "per:country_of_death"
         ],
         "y": [
          1,
          1,
          0.9091,
          0.8429,
          0.8167,
          0.6977,
          0.6452,
          0.6119,
          0.6,
          0.5585,
          0.5556,
          0.5521,
          0.55,
          0.4332,
          0.4,
          0.3492,
          0.3333,
          0.3182,
          0.2521,
          0.25,
          0.1875,
          0.1765,
          0.1633,
          0.1538,
          0.1489,
          0.1309,
          0.1163,
          0.1111,
          0.0909,
          0.09,
          0.0598,
          0.0355,
          0.0327,
          0.0325,
          0.0272,
          0.0085,
          0,
          0,
          0,
          0,
          0,
          0
         ]
        }
       ],
       "layout": {
        "barmode": "overlay",
        "title": {
         "text": "UD Path with Entity Type - Precision"
        },
        "width": 1200,
        "xaxis": {
         "automargin": true,
         "tickangle": 45,
         "title": {
          "text": "Relation"
         }
        },
        "yaxis": {
         "title": {
          "text": "Precision "
         }
        }
       }
      },
      "text/html": [
       "<div>\n",
       "        \n",
       "        \n",
       "            <div id=\"ed40bc92-3848-41b5-b1e3-b7bc7af5fd3e\" class=\"plotly-graph-div\" style=\"height:525px; width:1200px;\"></div>\n",
       "            <script type=\"text/javascript\">\n",
       "                require([\"plotly\"], function(Plotly) {\n",
       "                    window.PLOTLYENV=window.PLOTLYENV || {};\n",
       "                    window.PLOTLYENV.BASE_URL='https://plot.ly';\n",
       "                    \n",
       "                if (document.getElementById(\"ed40bc92-3848-41b5-b1e3-b7bc7af5fd3e\")) {\n",
       "                    Plotly.newPlot(\n",
       "                        'ed40bc92-3848-41b5-b1e3-b7bc7af5fd3e',\n",
       "                        [{\"marker\": {\"color\": [\"rgb(58,200,225)\", \"rgb(58,200,225)\", \"rgb(58,200,225)\", \"rgb(58,200,225)\", \"rgb(58,200,225)\", \"rgb(58,200,225)\", \"rgb(58,200,225)\", \"rgb(58,200,225)\", \"rgb(58,200,225)\", \"rgb(58,200,225)\", \"rgb(58,200,225)\", \"rgb(58,200,225)\", \"rgb(58,200,225)\", \"rgb(58,200,225)\", \"rgb(58,200,225)\", \"rgb(58,200,225)\", \"rgb(58,200,225)\", \"rgb(58,200,225)\", \"rgb(181,59,89)\", \"rgb(58,200,225)\", \"rgb(58,200,225)\", \"rgb(58,200,225)\", \"rgb(58,200,225)\", \"rgb(58,200,225)\", \"rgb(58,200,225)\", \"rgb(58,200,225)\", \"rgb(58,200,225)\", \"rgb(58,200,225)\", \"rgb(58,200,225)\", \"rgb(58,200,225)\", \"rgb(58,200,225)\", \"rgb(58,200,225)\", \"rgb(58,200,225)\", \"rgb(58,200,225)\", \"rgb(58,200,225)\", \"rgb(58,200,225)\", \"rgb(58,200,225)\", \"rgb(58,200,225)\", \"rgb(58,200,225)\", \"rgb(58,200,225)\", \"rgb(58,200,225)\", \"rgb(58,200,225)\"], \"line\": {\"color\": \"rgb(8,48,107)\", \"width\": 0.5}}, \"name\": \"Precision\", \"opacity\": 0.6, \"type\": \"bar\", \"uid\": \"7ef73854-854c-47b6-b0a6-8e4bbc93c6ce\", \"width\": 0.5, \"x\": [\"per:charges\", \"per:religion\", \"org:website\", \"per:age\", \"per:title\", \"org:city_of_headquarters\", \"org:country_of_headquarters\", \"per:origin\", \"per:cause_of_death\", \"org:alternate_names\", \"per:cities_of_residence\", \"org:top_members/employees\", \"org:stateorprovince_of_headquarters\", \"per:employee_of\", \"per:stateorprovinces_of_residence\", \"per:countries_of_residence\", \"org:number_of_employees/members\", \"org:founded\", \"overall\", \"per:stateorprovince_of_birth\", \"per:city_of_death\", \"org:political/religious_affiliation\", \"org:founded_by\", \"per:stateorprovince_of_death\", \"per:schools_attended\", \"per:parents\", \"per:date_of_birth\", \"per:city_of_birth\", \"per:date_of_death\", \"org:subsidiaries\", \"org:parents\", \"per:children\", \"per:spouse\", \"per:other_family\", \"per:siblings\", \"org:members\", \"org:dissolved\", \"org:member_of\", \"org:shareholders\", \"per:alternate_names\", \"per:country_of_birth\", \"per:country_of_death\"], \"y\": [1.0, 1.0, 0.9091, 0.8429, 0.8167, 0.6977, 0.6452, 0.6119, 0.6, 0.5585, 0.5556, 0.5521, 0.55, 0.4332, 0.4, 0.3492, 0.3333, 0.3182, 0.2521, 0.25, 0.1875, 0.1765, 0.1633, 0.1538, 0.1489, 0.1309, 0.1163, 0.1111, 0.0909, 0.09, 0.0598, 0.0355, 0.0327, 0.0325, 0.0272, 0.0085, 0.0, 0.0, 0.0, 0.0, 0.0, 0.0]}],\n",
       "                        {\"barmode\": \"overlay\", \"title\": {\"text\": \"UD Path with Entity Type - Precision\"}, \"width\": 1200, \"xaxis\": {\"automargin\": true, \"tickangle\": 45, \"title\": {\"text\": \"Relation\"}}, \"yaxis\": {\"title\": {\"text\": \"Precision \"}}},\n",
       "                        {\"showLink\": false, \"linkText\": \"Export to plot.ly\", \"plotlyServerURL\": \"https://plot.ly\", \"responsive\": true}\n",
       "                    ).then(function(){\n",
       "                            \n",
       "var gd = document.getElementById('ed40bc92-3848-41b5-b1e3-b7bc7af5fd3e');\n",
       "var x = new MutationObserver(function (mutations, observer) {{\n",
       "        var display = window.getComputedStyle(gd).display;\n",
       "        if (!display || display === 'none') {{\n",
       "            console.log([gd, 'removed!']);\n",
       "            Plotly.purge(gd);\n",
       "            observer.disconnect();\n",
       "        }}\n",
       "}});\n",
       "\n",
       "// Listen for the removal of the full notebook cells\n",
       "var notebookContainer = gd.closest('#notebook-container');\n",
       "if (notebookContainer) {{\n",
       "    x.observe(notebookContainer, {childList: true});\n",
       "}}\n",
       "\n",
       "// Listen for the clearing of the current output cell\n",
       "var outputEl = gd.closest('.output');\n",
       "if (outputEl) {{\n",
       "    x.observe(outputEl, {childList: true});\n",
       "}}\n",
       "\n",
       "                        })\n",
       "                };\n",
       "                });\n",
       "            </script>\n",
       "        </div>"
      ]
     },
     "metadata": {},
     "output_type": "display_data"
    }
   ],
   "source": [
    "import plotly.graph_objs as go\n",
    "\n",
    "overall_index = next(i for (i, (relation, score)) in enumerate(stats) if relation == 'overall')\n",
    "\n",
    "colors = ['rgb(58,200,225)'] * len(stats)\n",
    "colors[overall_index] = 'rgb(181,59,89)'\n",
    "\n",
    "\n",
    "trace1 = go.Bar(\n",
    "    x=[stat[0] for stat in stats],\n",
    "    y=[stat[1] for stat in stats],\n",
    "    name='Precision',\n",
    "    width=0.5,\n",
    "    marker=dict(\n",
    "        color=colors,\n",
    "        line=dict(\n",
    "            color='rgb(8,48,107)',\n",
    "            width=0.5),\n",
    "        ),\n",
    "    opacity=0.6\n",
    ")\n",
    "\n",
    "data = [trace1]\n",
    "layout = go.Layout(\n",
    "    title='UD Path with Entity Type - Precision',\n",
    "    xaxis_title=\"Relation\",\n",
    "    yaxis_title=\"Precision \",        \n",
    "    barmode='overlay',\n",
    "    width=1200,\n",
    "    xaxis = go.layout.XAxis(\n",
    "        tickangle = 45,\n",
    "        automargin = True\n",
    "        \n",
    "    )\n",
    "    \n",
    "        \n",
    ")\n",
    "\n",
    "fig = go.Figure(data=data, layout=layout)\n",
    "iplot(fig)"
   ]
  },
  {
   "cell_type": "code",
   "execution_count": 10,
   "metadata": {},
   "outputs": [
    {
     "data": {
      "text/plain": [
       "[('per:charges', 1.0),\n",
       " ('per:religion', 1.0),\n",
       " ('org:website', 0.9091),\n",
       " ('per:age', 0.8429),\n",
       " ('per:title', 0.8167),\n",
       " ('org:city_of_headquarters', 0.6977),\n",
       " ('org:country_of_headquarters', 0.6452),\n",
       " ('per:origin', 0.6119),\n",
       " ('per:cause_of_death', 0.6),\n",
       " ('org:alternate_names', 0.5585),\n",
       " ('per:cities_of_residence', 0.5556),\n",
       " ('org:top_members/employees', 0.5521),\n",
       " ('org:stateorprovince_of_headquarters', 0.55),\n",
       " ('per:employee_of', 0.4332),\n",
       " ('per:stateorprovinces_of_residence', 0.4),\n",
       " ('per:countries_of_residence', 0.3492),\n",
       " ('org:number_of_employees/members', 0.3333),\n",
       " ('org:founded', 0.3182),\n",
       " ('overall', 0.2521),\n",
       " ('per:stateorprovince_of_birth', 0.25),\n",
       " ('per:city_of_death', 0.1875),\n",
       " ('org:political/religious_affiliation', 0.1765),\n",
       " ('org:founded_by', 0.1633),\n",
       " ('per:stateorprovince_of_death', 0.1538),\n",
       " ('per:schools_attended', 0.1489),\n",
       " ('per:parents', 0.1309),\n",
       " ('per:date_of_birth', 0.1163),\n",
       " ('per:city_of_birth', 0.1111),\n",
       " ('per:date_of_death', 0.0909),\n",
       " ('org:subsidiaries', 0.09),\n",
       " ('org:parents', 0.0598),\n",
       " ('per:children', 0.0355),\n",
       " ('per:spouse', 0.0327),\n",
       " ('per:other_family', 0.0325),\n",
       " ('per:siblings', 0.0272),\n",
       " ('org:members', 0.0085),\n",
       " ('org:dissolved', 0.0),\n",
       " ('org:member_of', 0.0),\n",
       " ('org:shareholders', 0.0),\n",
       " ('per:alternate_names', 0.0),\n",
       " ('per:country_of_birth', 0.0),\n",
       " ('per:country_of_death', 0.0)]"
      ]
     },
     "execution_count": 10,
     "metadata": {},
     "output_type": "execute_result"
    }
   ],
   "source": [
    "stats"
   ]
  },
  {
   "cell_type": "code",
   "execution_count": null,
   "metadata": {},
   "outputs": [],
   "source": []
  }
 ],
 "metadata": {
  "kernelspec": {
   "display_name": "Python 3",
   "language": "python",
   "name": "python3"
  },
  "language_info": {
   "codemirror_mode": {
    "name": "ipython",
    "version": 3
   },
   "file_extension": ".py",
   "mimetype": "text/x-python",
   "name": "python",
   "nbconvert_exporter": "python",
   "pygments_lexer": "ipython3",
   "version": "3.7.6"
  }
 },
 "nbformat": 4,
 "nbformat_minor": 2
}
