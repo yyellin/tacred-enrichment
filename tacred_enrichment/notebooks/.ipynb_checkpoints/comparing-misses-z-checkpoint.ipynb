{
 "cells": [
  {
   "cell_type": "code",
   "execution_count": 1,
   "metadata": {},
   "outputs": [
    {
     "data": {
      "text/html": [
       "        <script type=\"text/javascript\">\n",
       "        window.PlotlyConfig = {MathJaxConfig: 'local'};\n",
       "        if (window.MathJax) {MathJax.Hub.Config({SVG: {font: \"STIX-Web\"}});}\n",
       "        if (typeof require !== 'undefined') {\n",
       "        require.undef(\"plotly\");\n",
       "        requirejs.config({\n",
       "            paths: {\n",
       "                'plotly': ['https://cdn.plot.ly/plotly-latest.min']\n",
       "            }\n",
       "        });\n",
       "        require(['plotly'], function(Plotly) {\n",
       "            window._Plotly = Plotly;\n",
       "        });\n",
       "        }\n",
       "        </script>\n",
       "        "
      ]
     },
     "metadata": {},
     "output_type": "display_data"
    }
   ],
   "source": [
    "from plotly.offline import download_plotlyjs, init_notebook_mode, plot, iplot\n",
    "import plotly.graph_objs as go\n",
    "\n",
    "init_notebook_mode(connected=True)"
   ]
  },
  {
   "cell_type": "code",
   "execution_count": 2,
   "metadata": {},
   "outputs": [],
   "source": [
    "import pandas"
   ]
  },
  {
   "cell_type": "code",
   "execution_count": 3,
   "metadata": {},
   "outputs": [],
   "source": [
    "unfiltered_misses = pandas.read_csv(r'C:\\Users\\JYellin\\re_1\\tacred\\analysis\\filtering-by-path-length\\comparing misses\\comparison-2\\ucca-misses-nofilter.csv').rename(columns={'predicted':'no-filter-prediction'})\n",
    "filtered_misses = pandas.read_csv(r'C:\\Users\\JYellin\\re_1\\tacred\\analysis\\filtering-by-path-length\\comparing misses\\comparison-2\\ucca-misses-filter9.csv').rename(columns={'predicted':'filter-prediction'})"
   ]
  },
  {
   "cell_type": "code",
   "execution_count": 4,
   "metadata": {},
   "outputs": [],
   "source": [
    "merged_misses = filtered_misses.merge(unfiltered_misses, how='outer', on=['id'], indicator=True)"
   ]
  },
  {
   "cell_type": "code",
   "execution_count": 5,
   "metadata": {},
   "outputs": [],
   "source": [
    "def get_gold(r):\n",
    "    if not pandas.isnull(r['gold_x']):\n",
    "        return r['gold_x']\n",
    "    \n",
    "    return r['gold_y']\n",
    "\n",
    "merged_misses['gold'] = merged_misses.apply(lambda r : get_gold(r), axis=1)\n",
    "merged_misses.drop(columns=['gold_x', 'gold_y'], inplace=True)"
   ]
  },
  {
   "cell_type": "code",
   "execution_count": 6,
   "metadata": {},
   "outputs": [],
   "source": [
    "train = pandas.read_json(r'C:\\Users\\JYellin\\re_1\\tacred\\data\\json-enhanced\\train.json')\n",
    "dev = pandas.read_json(r'C:\\Users\\JYellin\\re_1\\tacred\\data\\json-enhanced\\dev.json')\n",
    "test = pandas.read_json(r'C:\\Users\\JYellin\\re_1\\tacred\\data\\json-enhanced\\test.json')\n",
    "data = pandas.concat([train,dev,test])"
   ]
  },
  {
   "cell_type": "code",
   "execution_count": 7,
   "metadata": {},
   "outputs": [],
   "source": [
    "merged_misses = merged_misses.merge(data, how='left', on=['id'])"
   ]
  },
  {
   "cell_type": "code",
   "execution_count": 8,
   "metadata": {},
   "outputs": [],
   "source": [
    "common_misses = merged_misses[merged_misses['_merge']=='both'].drop(columns=['_merge']) \n",
    "filtered_only_misses = merged_misses[merged_misses['_merge']=='left_only'].drop(columns=['_merge','no-filter-prediction'])\n",
    "unfiltered_only_misses = merged_misses[merged_misses['_merge']=='right_only'].drop(columns=['_merge','filter-prediction'])"
   ]
  },
  {
   "cell_type": "code",
   "execution_count": 9,
   "metadata": {},
   "outputs": [
    {
     "name": "stdout",
     "output_type": "stream",
     "text": [
      "filtered miss count:       1960\n",
      "unfiltered miss count:     1971\n",
      "common miss count:         1649\n",
      "filtered only miss count:   311\n",
      "unfiltered only miss count: 322\n"
     ]
    }
   ],
   "source": [
    "print('filtered miss count:       {:4d}'.format(filtered_misses.shape[0]))\n",
    "print('unfiltered miss count:     {:4d}'.format(unfiltered_misses.shape[0]))\n",
    "print('common miss count:         {:4d}'.format(common_misses.shape[0]))\n",
    "print('filtered only miss count:  {:4d}'.format(filtered_only_misses.shape[0]))\n",
    "print('unfiltered only miss count:{:4d}'.format(unfiltered_only_misses.shape[0]))"
   ]
  },
  {
   "cell_type": "code",
   "execution_count": 10,
   "metadata": {},
   "outputs": [],
   "source": [
    "filtered_only_misses_by_gold = filtered_only_misses.groupby(['gold'])['id'].count().reset_index().rename(columns={'id': 'total'}).sort_values(['total'], ascending=[False]).reset_index(drop=True)\n",
    "filtered_only_misses_by_gold_dict = filtered_only_misses_by_gold.to_dict()\n",
    "filtered_lookup_index = dict((y,x) for x,y in filtered_only_misses_by_gold_dict['gold'].items())"
   ]
  },
  {
   "cell_type": "code",
   "execution_count": 11,
   "metadata": {},
   "outputs": [],
   "source": [
    "unfiltered_only_misses_by_gold = unfiltered_only_misses.groupby(['gold'])['id'].count().reset_index().rename(columns={'id': 'total'}).sort_values(['total'], ascending=[False]).reset_index(drop=True)\n",
    "unfiltered_only_misses_by_gold_dict = unfiltered_only_misses_by_gold.to_dict()\n",
    "unfiltered_lookup_index = dict((y,x) for x,y in unfiltered_only_misses_by_gold_dict['gold'].items())"
   ]
  },
  {
   "cell_type": "code",
   "execution_count": 12,
   "metadata": {},
   "outputs": [],
   "source": [
    "#relations = set(unfiltered_only_misses_by_gold_dict['gold'].values())\n",
    "#relations2 = set(filtered_only_misses_by_gold_dict['gold'].values())\n",
    "#relations.update(relations2)\n",
    "#relations.remove('no_relation')\n",
    "#relations = list(relations)\n",
    "\n",
    "relations= list(filtered_only_misses_by_gold_dict['gold'].values())\n",
    "\n",
    "for relation in unfiltered_only_misses_by_gold_dict['gold'].values():\n",
    "    if relation not in relations:\n",
    "        relations.append(relation)\n",
    "        \n",
    "relations.remove('no_relation')"
   ]
  },
  {
   "cell_type": "code",
   "execution_count": 21,
   "metadata": {},
   "outputs": [
    {
     "data": {
      "application/vnd.plotly.v1+json": {
       "config": {
        "plotlyServerURL": "https://plot.ly"
       },
       "data": [
        {
         "mode": "lines",
         "name": "filtered",
         "type": "scatter",
         "uid": "f113209d-3462-4eec-a04a-05185832cfae",
         "x": [
          "per:title",
          "per:parents",
          "per:employee_of",
          "org:top_members/employees",
          "per:stateorprovinces_of_residence",
          "per:cities_of_residence",
          "org:country_of_headquarters",
          "per:origin",
          "org:parents",
          "org:subsidiaries",
          "per:countries_of_residence",
          "org:alternate_names",
          "org:city_of_headquarters",
          "per:charges",
          "org:number_of_employees/members",
          "org:founded_by",
          "per:cause_of_death",
          "per:other_family",
          "per:religion",
          "per:schools_attended",
          "per:city_of_death",
          "org:website",
          "org:political/religious_affiliation",
          "org:founded",
          "per:children",
          "per:age",
          "per:date_of_death",
          "org:stateorprovince_of_headquarters",
          "per:siblings",
          "per:stateorprovince_of_death",
          "per:stateorprovince_of_birth",
          "org:members"
         ],
         "y": [
          23,
          12,
          11,
          10,
          5,
          5,
          4,
          4,
          4,
          4,
          4,
          4,
          3,
          3,
          3,
          3,
          2,
          2,
          2,
          2,
          1,
          1,
          1,
          1,
          1,
          0,
          0,
          0,
          0,
          0,
          0,
          0
         ]
        },
        {
         "mode": "lines",
         "name": "unfiltered",
         "type": "scatter",
         "uid": "5cfedef2-0e6f-4c16-b4dc-efbbc9d72824",
         "x": [
          "per:title",
          "per:parents",
          "per:employee_of",
          "org:top_members/employees",
          "per:stateorprovinces_of_residence",
          "per:cities_of_residence",
          "org:country_of_headquarters",
          "per:origin",
          "org:parents",
          "org:subsidiaries",
          "per:countries_of_residence",
          "org:alternate_names",
          "org:city_of_headquarters",
          "per:charges",
          "org:number_of_employees/members",
          "org:founded_by",
          "per:cause_of_death",
          "per:other_family",
          "per:religion",
          "per:schools_attended",
          "per:city_of_death",
          "org:website",
          "org:political/religious_affiliation",
          "org:founded",
          "per:children",
          "per:age",
          "per:date_of_death",
          "org:stateorprovince_of_headquarters",
          "per:siblings",
          "per:stateorprovince_of_death",
          "per:stateorprovince_of_birth",
          "org:members"
         ],
         "y": [
          10,
          3,
          13,
          13,
          11,
          20,
          4,
          4,
          4,
          2,
          14,
          1,
          11,
          9,
          1,
          7,
          2,
          9,
          3,
          0,
          1,
          0,
          1,
          1,
          2,
          7,
          5,
          5,
          2,
          1,
          1,
          1
         ]
        }
       ],
       "layout": {
        "barmode": "overlay",
        "title": {
         "text": "Miss Per Relation"
        },
        "width": 1050,
        "xaxis": {
         "automargin": true,
         "tickangle": 45,
         "title": {
          "text": "Path Length"
         }
        },
        "yaxis": {
         "title": {
          "text": "Number of Misses"
         }
        }
       }
      },
      "text/html": [
       "<div>\n",
       "        \n",
       "        \n",
       "            <div id=\"0e25d0f4-9244-4ef9-bdfc-73db6070035e\" class=\"plotly-graph-div\" style=\"height:525px; width:1050px;\"></div>\n",
       "            <script type=\"text/javascript\">\n",
       "                require([\"plotly\"], function(Plotly) {\n",
       "                    window.PLOTLYENV=window.PLOTLYENV || {};\n",
       "                    window.PLOTLYENV.BASE_URL='https://plot.ly';\n",
       "                    \n",
       "                if (document.getElementById(\"0e25d0f4-9244-4ef9-bdfc-73db6070035e\")) {\n",
       "                    Plotly.newPlot(\n",
       "                        '0e25d0f4-9244-4ef9-bdfc-73db6070035e',\n",
       "                        [{\"mode\": \"lines\", \"name\": \"filtered\", \"type\": \"scatter\", \"uid\": \"f113209d-3462-4eec-a04a-05185832cfae\", \"x\": [\"per:title\", \"per:parents\", \"per:employee_of\", \"org:top_members/employees\", \"per:stateorprovinces_of_residence\", \"per:cities_of_residence\", \"org:country_of_headquarters\", \"per:origin\", \"org:parents\", \"org:subsidiaries\", \"per:countries_of_residence\", \"org:alternate_names\", \"org:city_of_headquarters\", \"per:charges\", \"org:number_of_employees/members\", \"org:founded_by\", \"per:cause_of_death\", \"per:other_family\", \"per:religion\", \"per:schools_attended\", \"per:city_of_death\", \"org:website\", \"org:political/religious_affiliation\", \"org:founded\", \"per:children\", \"per:age\", \"per:date_of_death\", \"org:stateorprovince_of_headquarters\", \"per:siblings\", \"per:stateorprovince_of_death\", \"per:stateorprovince_of_birth\", \"org:members\"], \"y\": [23, 12, 11, 10, 5, 5, 4, 4, 4, 4, 4, 4, 3, 3, 3, 3, 2, 2, 2, 2, 1, 1, 1, 1, 1, 0, 0, 0, 0, 0, 0, 0]}, {\"mode\": \"lines\", \"name\": \"unfiltered\", \"type\": \"scatter\", \"uid\": \"5cfedef2-0e6f-4c16-b4dc-efbbc9d72824\", \"x\": [\"per:title\", \"per:parents\", \"per:employee_of\", \"org:top_members/employees\", \"per:stateorprovinces_of_residence\", \"per:cities_of_residence\", \"org:country_of_headquarters\", \"per:origin\", \"org:parents\", \"org:subsidiaries\", \"per:countries_of_residence\", \"org:alternate_names\", \"org:city_of_headquarters\", \"per:charges\", \"org:number_of_employees/members\", \"org:founded_by\", \"per:cause_of_death\", \"per:other_family\", \"per:religion\", \"per:schools_attended\", \"per:city_of_death\", \"org:website\", \"org:political/religious_affiliation\", \"org:founded\", \"per:children\", \"per:age\", \"per:date_of_death\", \"org:stateorprovince_of_headquarters\", \"per:siblings\", \"per:stateorprovince_of_death\", \"per:stateorprovince_of_birth\", \"org:members\"], \"y\": [10, 3, 13, 13, 11, 20, 4, 4, 4, 2, 14, 1, 11, 9, 1, 7, 2, 9, 3, 0, 1, 0, 1, 1, 2, 7, 5, 5, 2, 1, 1, 1]}],\n",
       "                        {\"barmode\": \"overlay\", \"title\": {\"text\": \"Miss Per Relation\"}, \"width\": 1050, \"xaxis\": {\"automargin\": true, \"tickangle\": 45, \"title\": {\"text\": \"Path Length\"}}, \"yaxis\": {\"title\": {\"text\": \"Number of Misses\"}}},\n",
       "                        {\"plotlyServerURL\": \"https://plot.ly\", \"responsive\": true}\n",
       "                    ).then(function(){\n",
       "                            \n",
       "var gd = document.getElementById('0e25d0f4-9244-4ef9-bdfc-73db6070035e');\n",
       "var x = new MutationObserver(function (mutations, observer) {{\n",
       "        var display = window.getComputedStyle(gd).display;\n",
       "        if (!display || display === 'none') {{\n",
       "            console.log([gd, 'removed!']);\n",
       "            Plotly.purge(gd);\n",
       "            observer.disconnect();\n",
       "        }}\n",
       "}});\n",
       "\n",
       "// Listen for the removal of the full notebook cells\n",
       "var notebookContainer = gd.closest('#notebook-container');\n",
       "if (notebookContainer) {{\n",
       "    x.observe(notebookContainer, {childList: true});\n",
       "}}\n",
       "\n",
       "// Listen for the clearing of the current output cell\n",
       "var outputEl = gd.closest('.output');\n",
       "if (outputEl) {{\n",
       "    x.observe(outputEl, {childList: true});\n",
       "}}\n",
       "\n",
       "                        })\n",
       "                };\n",
       "                });\n",
       "            </script>\n",
       "        </div>"
      ]
     },
     "metadata": {},
     "output_type": "display_data"
    }
   ],
   "source": [
    "scatter1 = go.Scatter(\n",
    "        x=[relation for relation in relations], \n",
    "        y=[filtered_only_misses_by_gold_dict['total'][filtered_lookup_index[relation]] if relation in filtered_lookup_index else 0 for relation in relations],\n",
    "        mode='lines',\n",
    "        name='filtered'\n",
    ")\n",
    "\n",
    "scatter2= go.Scatter(\n",
    "        x=[relation for relation in relations], \n",
    "        y=[unfiltered_only_misses_by_gold_dict['total'][unfiltered_lookup_index[relation]] if relation in unfiltered_lookup_index else 0 for relation in relations],\n",
    "        mode='lines',\n",
    "        name='unfiltered'\n",
    ")\n",
    "\n",
    "\n",
    "layout = go.Layout(\n",
    "    title='Miss Per Relation',\n",
    "    xaxis_title=\"Path Length\",\n",
    "    yaxis_title=\"Number of Misses\",        \n",
    "    barmode='overlay',\n",
    "    width=1050,\n",
    "    xaxis = go.layout.XAxis(\n",
    "        tickangle = 45,\n",
    "        automargin = True\n",
    "    )\n",
    ")\n",
    "\n",
    "fig = go.Figure(data=[scatter1,scatter2], layout=layout)\n",
    "\n",
    "\n",
    "fig.show()"
   ]
  },
  {
   "cell_type": "code",
   "execution_count": 14,
   "metadata": {},
   "outputs": [],
   "source": [
    "filtered_only_misses_by_ucca = filtered_only_misses.groupby(['ucca_path_len'])['id'].count().reset_index().rename(columns={'id': 'total'}).sort_values(['total'], ascending=[False]).reset_index(drop=True)\n",
    "filtered_only_misses_by_ucca_dict = filtered_only_misses_by_ucca.to_dict()"
   ]
  },
  {
   "cell_type": "code",
   "execution_count": 15,
   "metadata": {},
   "outputs": [],
   "source": [
    "unfiltered_only_misses_by_ucca = unfiltered_only_misses.groupby(['ucca_path_len'])['id'].count().reset_index().rename(columns={'id': 'total'}).sort_values(['total'], ascending=[False]).reset_index(drop=True)\n",
    "unfiltered_only_misses_by_ucca_dict = unfiltered_only_misses_by_ucca.to_dict()"
   ]
  },
  {
   "cell_type": "code",
   "execution_count": 16,
   "metadata": {},
   "outputs": [
    {
     "data": {
      "application/vnd.plotly.v1+json": {
       "config": {
        "plotlyServerURL": "https://plot.ly"
       },
       "data": [
        {
         "mode": "lines",
         "name": "filtered",
         "type": "scatter",
         "uid": "9138bf96-87a6-4e43-b57d-78c4cd2760d1",
         "x": [
          -1,
          0,
          1,
          2,
          3,
          4,
          5,
          6,
          7,
          8,
          9
         ],
         "y": [
          80,
          63,
          48,
          37,
          32,
          18,
          17,
          9,
          4,
          2
         ]
        },
        {
         "mode": "lines",
         "name": "unfiltered",
         "type": "scatter",
         "uid": "f01fa246-08f0-43a0-ab28-37f33e7335ea",
         "x": [
          -1,
          0,
          1,
          2,
          3,
          4,
          5,
          6,
          7,
          8,
          9
         ],
         "y": [
          77,
          75,
          55,
          39,
          23,
          21,
          12,
          8,
          5,
          4
         ]
        }
       ],
       "layout": {
        "barmode": "overlay",
        "title": {
         "text": "UCCA Path Length Comparison"
        },
        "width": 900,
        "xaxis": {
         "automargin": true,
         "tickangle": 45,
         "title": {
          "text": "Path Length"
         }
        },
        "yaxis": {
         "title": {
          "text": "Number of Misses"
         }
        }
       }
      },
      "text/html": [
       "<div>\n",
       "        \n",
       "        \n",
       "            <div id=\"774a5ae5-ea9d-4e87-88bd-18fd217eabee\" class=\"plotly-graph-div\" style=\"height:525px; width:900px;\"></div>\n",
       "            <script type=\"text/javascript\">\n",
       "                require([\"plotly\"], function(Plotly) {\n",
       "                    window.PLOTLYENV=window.PLOTLYENV || {};\n",
       "                    window.PLOTLYENV.BASE_URL='https://plot.ly';\n",
       "                    \n",
       "                if (document.getElementById(\"774a5ae5-ea9d-4e87-88bd-18fd217eabee\")) {\n",
       "                    Plotly.newPlot(\n",
       "                        '774a5ae5-ea9d-4e87-88bd-18fd217eabee',\n",
       "                        [{\"mode\": \"lines\", \"name\": \"filtered\", \"type\": \"scatter\", \"uid\": \"9138bf96-87a6-4e43-b57d-78c4cd2760d1\", \"x\": [-1, 0, 1, 2, 3, 4, 5, 6, 7, 8, 9], \"y\": [80, 63, 48, 37, 32, 18, 17, 9, 4, 2]}, {\"mode\": \"lines\", \"name\": \"unfiltered\", \"type\": \"scatter\", \"uid\": \"f01fa246-08f0-43a0-ab28-37f33e7335ea\", \"x\": [-1, 0, 1, 2, 3, 4, 5, 6, 7, 8, 9], \"y\": [77, 75, 55, 39, 23, 21, 12, 8, 5, 4]}],\n",
       "                        {\"barmode\": \"overlay\", \"title\": {\"text\": \"UCCA Path Length Comparison\"}, \"width\": 900, \"xaxis\": {\"automargin\": true, \"tickangle\": 45, \"title\": {\"text\": \"Path Length\"}}, \"yaxis\": {\"title\": {\"text\": \"Number of Misses\"}}},\n",
       "                        {\"plotlyServerURL\": \"https://plot.ly\", \"responsive\": true}\n",
       "                    ).then(function(){\n",
       "                            \n",
       "var gd = document.getElementById('774a5ae5-ea9d-4e87-88bd-18fd217eabee');\n",
       "var x = new MutationObserver(function (mutations, observer) {{\n",
       "        var display = window.getComputedStyle(gd).display;\n",
       "        if (!display || display === 'none') {{\n",
       "            console.log([gd, 'removed!']);\n",
       "            Plotly.purge(gd);\n",
       "            observer.disconnect();\n",
       "        }}\n",
       "}});\n",
       "\n",
       "// Listen for the removal of the full notebook cells\n",
       "var notebookContainer = gd.closest('#notebook-container');\n",
       "if (notebookContainer) {{\n",
       "    x.observe(notebookContainer, {childList: true});\n",
       "}}\n",
       "\n",
       "// Listen for the clearing of the current output cell\n",
       "var outputEl = gd.closest('.output');\n",
       "if (outputEl) {{\n",
       "    x.observe(outputEl, {childList: true});\n",
       "}}\n",
       "\n",
       "                        })\n",
       "                };\n",
       "                });\n",
       "            </script>\n",
       "        </div>"
      ]
     },
     "metadata": {},
     "output_type": "display_data"
    }
   ],
   "source": [
    "scatter1 = go.Scatter(\n",
    "        x=[i for i in range(-1,10)], \n",
    "        y=[filtered_only_misses_by_ucca_dict['total'].get(i, 0) for i in range(10)],\n",
    "        mode='lines',\n",
    "        name='filtered'\n",
    "    )\n",
    "\n",
    "scatter2= go.Scatter(\n",
    "    x=[i for i in range(-1,10)], \n",
    "    y=[unfiltered_only_misses_by_ucca_dict['total'].get(i, 0) for i in range(10)],\n",
    "    mode='lines',\n",
    "    name='unfiltered'\n",
    ")\n",
    "\n",
    "\n",
    "layout = go.Layout(\n",
    "    title='UCCA Path Length Comparison',\n",
    "    xaxis_title=\"Path Length\",\n",
    "    yaxis_title=\"Number of Misses\",        \n",
    "    barmode='overlay',\n",
    "    width=900,\n",
    "    xaxis = go.layout.XAxis(\n",
    "        tickangle = 45,\n",
    "        automargin = True\n",
    "        \n",
    "    )\n",
    "    \n",
    "        \n",
    ")\n",
    "\n",
    "fig = go.Figure(data=[scatter1,scatter2], layout=layout)\n",
    "\n",
    "\n",
    "fig.show()"
   ]
  },
  {
   "cell_type": "code",
   "execution_count": 17,
   "metadata": {},
   "outputs": [],
   "source": [
    "filtered_only_misses_by_ud = filtered_only_misses.groupby(['ud_path_len'])['id'].count().reset_index().rename(columns={'id': 'total'}).sort_values(['total'], ascending=[False]).reset_index(drop=True)\n",
    "filtered_only_misses_by_ud_dict = filtered_only_misses_by_ud.to_dict()"
   ]
  },
  {
   "cell_type": "code",
   "execution_count": 18,
   "metadata": {},
   "outputs": [],
   "source": [
    "unfiltered_only_misses_by_ud = unfiltered_only_misses.groupby(['ud_path_len'])['id'].count().reset_index().rename(columns={'id': 'total'}).sort_values(['total'], ascending=[False]).reset_index(drop=True)\n",
    "unfiltered_only_misses_by_ud_dict = unfiltered_only_misses_by_ud.to_dict()"
   ]
  },
  {
   "cell_type": "code",
   "execution_count": 19,
   "metadata": {},
   "outputs": [
    {
     "data": {
      "application/vnd.plotly.v1+json": {
       "config": {
        "plotlyServerURL": "https://plot.ly"
       },
       "data": [
        {
         "mode": "lines",
         "name": "filtered",
         "type": "scatter",
         "uid": "21342023-0ab2-4d54-ba2a-546607c9d5c4",
         "x": [
          0,
          1,
          2,
          3,
          4,
          5,
          6,
          7,
          8,
          9
         ],
         "y": [
          84,
          62,
          62,
          31,
          26,
          25,
          6,
          5,
          4,
          3
         ]
        },
        {
         "mode": "lines",
         "name": "unfiltered",
         "type": "scatter",
         "uid": "63eb0aea-926f-4e00-950b-77f4f445d46d",
         "x": [
          0,
          1,
          2,
          3,
          4,
          5,
          6,
          7,
          8,
          9
         ],
         "y": [
          81,
          61,
          57,
          47,
          37,
          26,
          3,
          3,
          3,
          2
         ]
        }
       ],
       "layout": {
        "barmode": "overlay",
        "title": {
         "text": "UD Path Length Comparison"
        },
        "width": 1200,
        "xaxis": {
         "automargin": true,
         "tickangle": 45,
         "title": {
          "text": "Path Length"
         }
        },
        "yaxis": {
         "title": {
          "text": "Number of Misses"
         }
        }
       }
      },
      "text/html": [
       "<div>\n",
       "        \n",
       "        \n",
       "            <div id=\"899fb425-0c82-4040-aae7-a57521e81ca9\" class=\"plotly-graph-div\" style=\"height:525px; width:1200px;\"></div>\n",
       "            <script type=\"text/javascript\">\n",
       "                require([\"plotly\"], function(Plotly) {\n",
       "                    window.PLOTLYENV=window.PLOTLYENV || {};\n",
       "                    window.PLOTLYENV.BASE_URL='https://plot.ly';\n",
       "                    \n",
       "                if (document.getElementById(\"899fb425-0c82-4040-aae7-a57521e81ca9\")) {\n",
       "                    Plotly.newPlot(\n",
       "                        '899fb425-0c82-4040-aae7-a57521e81ca9',\n",
       "                        [{\"mode\": \"lines\", \"name\": \"filtered\", \"type\": \"scatter\", \"uid\": \"21342023-0ab2-4d54-ba2a-546607c9d5c4\", \"x\": [0, 1, 2, 3, 4, 5, 6, 7, 8, 9], \"y\": [84, 62, 62, 31, 26, 25, 6, 5, 4, 3]}, {\"mode\": \"lines\", \"name\": \"unfiltered\", \"type\": \"scatter\", \"uid\": \"63eb0aea-926f-4e00-950b-77f4f445d46d\", \"x\": [0, 1, 2, 3, 4, 5, 6, 7, 8, 9], \"y\": [81, 61, 57, 47, 37, 26, 3, 3, 3, 2]}],\n",
       "                        {\"barmode\": \"overlay\", \"title\": {\"text\": \"UD Path Length Comparison\"}, \"width\": 1200, \"xaxis\": {\"automargin\": true, \"tickangle\": 45, \"title\": {\"text\": \"Path Length\"}}, \"yaxis\": {\"title\": {\"text\": \"Number of Misses\"}}},\n",
       "                        {\"plotlyServerURL\": \"https://plot.ly\", \"responsive\": true}\n",
       "                    ).then(function(){\n",
       "                            \n",
       "var gd = document.getElementById('899fb425-0c82-4040-aae7-a57521e81ca9');\n",
       "var x = new MutationObserver(function (mutations, observer) {{\n",
       "        var display = window.getComputedStyle(gd).display;\n",
       "        if (!display || display === 'none') {{\n",
       "            console.log([gd, 'removed!']);\n",
       "            Plotly.purge(gd);\n",
       "            observer.disconnect();\n",
       "        }}\n",
       "}});\n",
       "\n",
       "// Listen for the removal of the full notebook cells\n",
       "var notebookContainer = gd.closest('#notebook-container');\n",
       "if (notebookContainer) {{\n",
       "    x.observe(notebookContainer, {childList: true});\n",
       "}}\n",
       "\n",
       "// Listen for the clearing of the current output cell\n",
       "var outputEl = gd.closest('.output');\n",
       "if (outputEl) {{\n",
       "    x.observe(outputEl, {childList: true});\n",
       "}}\n",
       "\n",
       "                        })\n",
       "                };\n",
       "                });\n",
       "            </script>\n",
       "        </div>"
      ]
     },
     "metadata": {},
     "output_type": "display_data"
    }
   ],
   "source": [
    "scatter1 = go.Scatter(\n",
    "        x=[i for i in range(10)], \n",
    "        y=[filtered_only_misses_by_ud_dict['total'].get(i, 0) for i in range(10)],\n",
    "        mode='lines',\n",
    "        name='filtered'\n",
    "    )\n",
    "\n",
    "scatter2= go.Scatter(\n",
    "    x=[i for i in range(10)], \n",
    "    y=[unfiltered_only_misses_by_ud_dict['total'].get(i, 0) for i in range(10)],\n",
    "    mode='lines',\n",
    "    name='unfiltered'\n",
    ")\n",
    "\n",
    "\n",
    "layout = go.Layout(\n",
    "    title='UD Path Length Comparison',\n",
    "    xaxis_title=\"Path Length\",\n",
    "    yaxis_title=\"Number of Misses\",        \n",
    "    barmode='overlay',\n",
    "    width=1200,\n",
    "    xaxis = go.layout.XAxis(\n",
    "        tickangle = 45,\n",
    "        automargin = True\n",
    "        \n",
    "    )\n",
    "    \n",
    "        \n",
    ")\n",
    "\n",
    "fig = go.Figure(data=[scatter1,scatter2], layout=layout)\n",
    "\n",
    "\n",
    "fig.show()"
   ]
  },
  {
   "cell_type": "code",
   "execution_count": null,
   "metadata": {},
   "outputs": [],
   "source": []
  }
 ],
 "metadata": {
  "kernelspec": {
   "display_name": "Python 3",
   "language": "python",
   "name": "python3"
  },
  "language_info": {
   "codemirror_mode": {
    "name": "ipython",
    "version": 3
   },
   "file_extension": ".py",
   "mimetype": "text/x-python",
   "name": "python",
   "nbconvert_exporter": "python",
   "pygments_lexer": "ipython3",
   "version": "3.7.6"
  }
 },
 "nbformat": 4,
 "nbformat_minor": 4
}
