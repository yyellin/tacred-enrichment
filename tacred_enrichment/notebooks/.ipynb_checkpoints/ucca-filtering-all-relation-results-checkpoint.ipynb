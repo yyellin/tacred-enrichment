{
 "cells": [
  {
   "cell_type": "code",
   "execution_count": 1,
   "metadata": {},
   "outputs": [
    {
     "data": {
      "text/html": [
       "        <script type=\"text/javascript\">\n",
       "        window.PlotlyConfig = {MathJaxConfig: 'local'};\n",
       "        if (window.MathJax) {MathJax.Hub.Config({SVG: {font: \"STIX-Web\"}});}\n",
       "        if (typeof require !== 'undefined') {\n",
       "        require.undef(\"plotly\");\n",
       "        requirejs.config({\n",
       "            paths: {\n",
       "                'plotly': ['https://cdn.plot.ly/plotly-latest.min']\n",
       "            }\n",
       "        });\n",
       "        require(['plotly'], function(Plotly) {\n",
       "            window._Plotly = Plotly;\n",
       "        });\n",
       "        }\n",
       "        </script>\n",
       "        "
      ]
     },
     "metadata": {},
     "output_type": "display_data"
    }
   ],
   "source": [
    "from _plotly_future_ import v4_subplots\n",
    "from plotly.offline import download_plotlyjs, init_notebook_mode, plot, iplot\n",
    "from plotly.subplots import make_subplots\n",
    "import plotly.graph_objs as go\n",
    "\n",
    "init_notebook_mode(connected=True)"
   ]
  },
  {
   "cell_type": "code",
   "execution_count": 2,
   "metadata": {},
   "outputs": [],
   "source": [
    "batches = [1, 2, 3, 4, 5, 6, 7]\n",
    "filter_lengths = ['6f', '7f', '8f', '9f', '10f', '11f', '12f', '13f', '14f', 'nofilter']"
   ]
  },
  {
   "cell_type": "code",
   "execution_count": 3,
   "metadata": {},
   "outputs": [],
   "source": [
    "import pandas\n",
    "\n",
    "results = {}\n",
    "\n",
    "for filter_length in filter_lengths:\n",
    "    \n",
    "    file_name = filter_length\n",
    "    if file_name != 'nofilter':\n",
    "        file_name = file_name[:-1]\n",
    "    \n",
    "    all_batches = []\n",
    "    \n",
    "    for batch in batches:\n",
    "        \n",
    "        file_path = r'C:\\Users\\JYellin\\re_1\\tacred\\analysis\\filtering-by-path-length\\results\\batch{}-{}.csv'.format(batch, file_name)\n",
    "        df = pandas.read_csv(file_path).sort_values(['count'], ascending=[False])\n",
    "        \n",
    "        all_batches.append(df)\n",
    "        \n",
    "    results[filter_length] = pandas.concat(all_batches)\n",
    "    \n"
   ]
  },
  {
   "cell_type": "code",
   "execution_count": 4,
   "metadata": {},
   "outputs": [],
   "source": [
    "average_results = {}\n",
    "\n",
    "for filter_length in filter_lengths:\n",
    "    \n",
    "    result = results[filter_length].groupby('relation').mean().sort_values(['count'], ascending=[False])\n",
    "    \n",
    "    result.rename(columns={\n",
    "        'precision' : 'precision-{}'.format(filter_length),\n",
    "        'recall' : 'recall-{}'.format(filter_length),\n",
    "        'f1' : 'f1-{}'.format(filter_length),\n",
    "    }, inplace=True)\n",
    "    \n",
    "    #result.drop(columns=['count'], inplace=True)\n",
    "    \n",
    "    average_results[filter_length] = result\n",
    "    "
   ]
  },
  {
   "cell_type": "code",
   "execution_count": 5,
   "metadata": {},
   "outputs": [],
   "source": [
    "results_table = pandas.concat(average_results, axis=1)"
   ]
  },
  {
   "cell_type": "code",
   "execution_count": 6,
   "metadata": {},
   "outputs": [],
   "source": [
    "train = pandas.read_json(r'C:\\Users\\JYellin\\re_1\\tacred\\data\\json-enhanced\\train.json')\n",
    "dev = pandas.read_json(r'C:\\Users\\JYellin\\re_1\\tacred\\data\\json-enhanced\\dev.json')\n",
    "data = pandas.concat([train,dev])\n",
    "\n",
    "relations_count = data.groupby(['relation'])['id'].count().reset_index().rename(columns={'id': 'total'}).set_index(['relation'])\n",
    "relations_count_dict = relations_count.to_dict()['total']\n",
    "del relations_count_dict['no_relation']\n",
    "\n",
    "relations_count_dict['total'] = sum(relations_count_dict.values())"
   ]
  },
  {
   "cell_type": "code",
   "execution_count": 7,
   "metadata": {},
   "outputs": [],
   "source": [
    "#relations = results_table['6f']['precision-6f'].index.tolist()\n",
    "#counts = results_table['6f']['count'].tolist()\n",
    "#titles = ['{} ({})'.format(relation, count) for relation, count in zip(relations,counts)]\n",
    "\n",
    "relations = sorted(relations_count_dict, key=relations_count_dict.get, reverse=True) \n",
    "titles = ['{} ({:,})'.format(relation, relations_count_dict[relation]) for relation in relations]\n"
   ]
  },
  {
   "cell_type": "code",
   "execution_count": 8,
   "metadata": {},
   "outputs": [],
   "source": [
    "import math\n",
    "num_columns = 3\n",
    "num_rows = math.ceil(len(relations)/num_columns)"
   ]
  },
  {
   "cell_type": "code",
   "execution_count": 9,
   "metadata": {},
   "outputs": [
    {
     "data": {
      "application/vnd.plotly.v1+json": {
       "config": {
        "plotlyServerURL": "https://plot.ly"
       },
       "data": [
        {
         "line": {
          "color": "#CCEBC5"
         },
         "name": "total precision",
         "type": "scatter",
         "uid": "8be9abe7-7f7c-48cb-ab0f-bad8b9693d07",
         "x": [
          "6f",
          "7f",
          "8f",
          "9f",
          "10f",
          "11f",
          "12f",
          "13f",
          "14f",
          "nofilter"
         ],
         "xaxis": "x",
         "y": [
          0.6741666666666667,
          0.6920833333333333,
          0.6791666666666667,
          0.70045,
          0.7018666666666667,
          0.6899000000000001,
          0.7005166666666667,
          0.7103166666666666,
          0.7125833333333333,
          0.7061000000000001
         ],
         "yaxis": "y"
        },
        {
         "line": {
          "color": "#BC80BD"
         },
         "name": "total recall",
         "type": "scatter",
         "uid": "09cdddc6-4a8d-42d8-a597-71e63c1c814a",
         "x": [
          "6f",
          "7f",
          "8f",
          "9f",
          "10f",
          "11f",
          "12f",
          "13f",
          "14f",
          "nofilter"
         ],
         "xaxis": "x",
         "y": [
          0.63645,
          0.6412999999999999,
          0.6606833333333334,
          0.6457499999999999,
          0.63715,
          0.64305,
          0.6382,
          0.6308666666666666,
          0.6281,
          0.63435
         ],
         "yaxis": "y"
        },
        {
         "line": {
          "color": "#FCCDE5"
         },
         "name": "total f1",
         "type": "scatter",
         "uid": "cb1b8647-3abc-43af-8208-e9cbf9ae83a8",
         "x": [
          "6f",
          "7f",
          "8f",
          "9f",
          "10f",
          "11f",
          "12f",
          "13f",
          "14f",
          "nofilter"
         ],
         "xaxis": "x",
         "y": [
          0.6547333333333334,
          0.6656666666666666,
          0.6696666666666666,
          0.6719666666666667,
          0.6678999999999999,
          0.6656333333333333,
          0.6678333333333333,
          0.6681333333333334,
          0.6677166666666667,
          0.6682333333333333
         ],
         "yaxis": "y"
        },
        {
         "line": {
          "color": "#CCEBC5"
         },
         "name": "per:title precision",
         "type": "scatter",
         "uid": "83c4d779-0bb7-4f2d-bc83-3885e375a343",
         "x": [
          "6f",
          "7f",
          "8f",
          "9f",
          "10f",
          "11f",
          "12f",
          "13f",
          "14f",
          "nofilter"
         ],
         "xaxis": "x2",
         "y": [
          0.7963333333333332,
          0.8236333333333334,
          0.8082666666666666,
          0.8374,
          0.8052333333333332,
          0.8264833333333333,
          0.8172333333333334,
          0.8153000000000001,
          0.8320166666666667,
          0.8265333333333335
         ],
         "yaxis": "y2"
        },
        {
         "line": {
          "color": "#BC80BD"
         },
         "name": "per:title recall",
         "type": "scatter",
         "uid": "0e195d09-dbdb-4937-8ba2-cab695efe5cc",
         "x": [
          "6f",
          "7f",
          "8f",
          "9f",
          "10f",
          "11f",
          "12f",
          "13f",
          "14f",
          "nofilter"
         ],
         "xaxis": "x2",
         "y": [
          0.8163333333333332,
          0.8056666666666666,
          0.8376666666666667,
          0.7903333333333333,
          0.8303333333333333,
          0.8089999999999998,
          0.8130000000000001,
          0.82,
          0.8050000000000002,
          0.8073333333333333
         ],
         "yaxis": "y2"
        },
        {
         "line": {
          "color": "#FCCDE5"
         },
         "name": "per:title f1",
         "type": "scatter",
         "uid": "0fc0697a-51ba-463e-87cd-7c721a6bd8a1",
         "x": [
          "6f",
          "7f",
          "8f",
          "9f",
          "10f",
          "11f",
          "12f",
          "13f",
          "14f",
          "nofilter"
         ],
         "xaxis": "x2",
         "y": [
          0.8058833333333334,
          0.8144,
          0.8226333333333334,
          0.8130499999999999,
          0.8175500000000001,
          0.8175666666666667,
          0.8150000000000001,
          0.8174333333333332,
          0.8181999999999999,
          0.8167166666666668
         ],
         "yaxis": "y2"
        },
        {
         "line": {
          "color": "#CCEBC5"
         },
         "name": "org:top_members/employees precision",
         "type": "scatter",
         "uid": "5d3e9dd0-6929-4395-a129-fd2d2a05d151",
         "x": [
          "6f",
          "7f",
          "8f",
          "9f",
          "10f",
          "11f",
          "12f",
          "13f",
          "14f",
          "nofilter"
         ],
         "xaxis": "x3",
         "y": [
          0.6961333333333334,
          0.7293,
          0.7259000000000001,
          0.7234666666666666,
          0.7288,
          0.7150500000000001,
          0.7232166666666666,
          0.7174499999999999,
          0.7224499999999999,
          0.7169
         ],
         "yaxis": "y3"
        },
        {
         "line": {
          "color": "#BC80BD"
         },
         "name": "org:top_members/employees recall",
         "type": "scatter",
         "uid": "628f97a5-df33-4d8b-a619-b166c44b93ed",
         "x": [
          "6f",
          "7f",
          "8f",
          "9f",
          "10f",
          "11f",
          "12f",
          "13f",
          "14f",
          "nofilter"
         ],
         "xaxis": "x3",
         "y": [
          0.8265833333333332,
          0.7986500000000002,
          0.8126166666666667,
          0.8087666666666666,
          0.8164833333333332,
          0.8203166666666667,
          0.816,
          0.8164666666666668,
          0.8097166666666666,
          0.8227333333333333
         ],
         "yaxis": "y3"
        },
        {
         "line": {
          "color": "#FCCDE5"
         },
         "name": "org:top_members/employees f1",
         "type": "scatter",
         "uid": "58292714-9437-4a14-95ce-bed5ab88a482",
         "x": [
          "6f",
          "7f",
          "8f",
          "9f",
          "10f",
          "11f",
          "12f",
          "13f",
          "14f",
          "nofilter"
         ],
         "xaxis": "x3",
         "y": [
          0.7553166666666667,
          0.76235,
          0.7666666666666667,
          0.7635833333333334,
          0.7700666666666667,
          0.7636833333333334,
          0.7666499999999999,
          0.7635999999999998,
          0.7634500000000001,
          0.76605
         ],
         "yaxis": "y3"
        },
        {
         "line": {
          "color": "#CCEBC5"
         },
         "name": "per:employee_of precision",
         "type": "scatter",
         "uid": "c098391a-f19b-41d2-830f-39cccf254d77",
         "x": [
          "6f",
          "7f",
          "8f",
          "9f",
          "10f",
          "11f",
          "12f",
          "13f",
          "14f",
          "nofilter"
         ],
         "xaxis": "x4",
         "y": [
          0.64775,
          0.6626333333333333,
          0.6394833333333333,
          0.6739,
          0.6706833333333333,
          0.67515,
          0.6887833333333333,
          0.6732333333333332,
          0.6928666666666667,
          0.6917166666666666
         ],
         "yaxis": "y4"
        },
        {
         "line": {
          "color": "#BC80BD"
         },
         "name": "per:employee_of recall",
         "type": "scatter",
         "uid": "63d1a9c0-3bfd-4ac6-aede-103c32eaebf6",
         "x": [
          "6f",
          "7f",
          "8f",
          "9f",
          "10f",
          "11f",
          "12f",
          "13f",
          "14f",
          "nofilter"
         ],
         "xaxis": "x4",
         "y": [
          0.6736,
          0.649,
          0.6837,
          0.6553166666666667,
          0.65215,
          0.6552833333333333,
          0.6338333333333334,
          0.6710833333333334,
          0.62815,
          0.6319499999999999
         ],
         "yaxis": "y4"
        },
        {
         "line": {
          "color": "#FCCDE5"
         },
         "name": "per:employee_of f1",
         "type": "scatter",
         "uid": "52a39181-07a8-4116-95e6-a3debc5e5d3d",
         "x": [
          "6f",
          "7f",
          "8f",
          "9f",
          "10f",
          "11f",
          "12f",
          "13f",
          "14f",
          "nofilter"
         ],
         "xaxis": "x4",
         "y": [
          0.6601833333333333,
          0.6544833333333334,
          0.65975,
          0.6642000000000001,
          0.6608,
          0.6649166666666666,
          0.6598666666666666,
          0.6719333333333334,
          0.6581,
          0.6597666666666666
         ],
         "yaxis": "y4"
        },
        {
         "line": {
          "color": "#CCEBC5"
         },
         "name": "org:alternate_names precision",
         "type": "scatter",
         "uid": "7b3f275b-2a17-4abd-856e-6c4bb751bc9a",
         "x": [
          "6f",
          "7f",
          "8f",
          "9f",
          "10f",
          "11f",
          "12f",
          "13f",
          "14f",
          "nofilter"
         ],
         "xaxis": "x5",
         "y": [
          0.7507666666666667,
          0.7619000000000001,
          0.7540666666666667,
          0.7639,
          0.7563500000000002,
          0.7647666666666667,
          0.7645166666666667,
          0.7640166666666667,
          0.75815,
          0.7564666666666667
         ],
         "yaxis": "y5"
        },
        {
         "line": {
          "color": "#BC80BD"
         },
         "name": "org:alternate_names recall",
         "type": "scatter",
         "uid": "7ddae4e2-268b-489e-aaca-ca71133ec659",
         "x": [
          "6f",
          "7f",
          "8f",
          "9f",
          "10f",
          "11f",
          "12f",
          "13f",
          "14f",
          "nofilter"
         ],
         "xaxis": "x5",
         "y": [
          0.8294333333333332,
          0.831,
          0.8349166666666666,
          0.8302166666666668,
          0.8255166666666667,
          0.82395,
          0.8255166666666667,
          0.8231666666666667,
          0.8333499999999999,
          0.82395
         ],
         "yaxis": "y5"
        },
        {
         "line": {
          "color": "#FCCDE5"
         },
         "name": "org:alternate_names f1",
         "type": "scatter",
         "uid": "86653ab7-ba0b-49b8-86ee-30247720d2f3",
         "x": [
          "6f",
          "7f",
          "8f",
          "9f",
          "10f",
          "11f",
          "12f",
          "13f",
          "14f",
          "nofilter"
         ],
         "xaxis": "x5",
         "y": [
          0.7880833333333334,
          0.7949166666666666,
          0.79225,
          0.7956666666666666,
          0.7894,
          0.7932166666666666,
          0.7938333333333335,
          0.7924833333333333,
          0.7938999999999999,
          0.78875
         ],
         "yaxis": "y5"
        },
        {
         "line": {
          "color": "#CCEBC5"
         },
         "name": "per:countries_of_residence precision",
         "type": "scatter",
         "uid": "11b9a1bb-43bc-4c33-9aed-eb9ec6cdf37b",
         "x": [
          "6f",
          "7f",
          "8f",
          "9f",
          "10f",
          "11f",
          "12f",
          "13f",
          "14f",
          "nofilter"
         ],
         "xaxis": "x6",
         "y": [
          0.5419499999999999,
          0.5486833333333334,
          0.49770000000000003,
          0.54135,
          0.5534666666666667,
          0.5200833333333333,
          0.5365833333333333,
          0.5472,
          0.5516,
          0.5372499999999999
         ],
         "yaxis": "y6"
        },
        {
         "line": {
          "color": "#BC80BD"
         },
         "name": "per:countries_of_residence recall",
         "type": "scatter",
         "uid": "548b3023-7b62-493f-8061-9f353533d446",
         "x": [
          "6f",
          "7f",
          "8f",
          "9f",
          "10f",
          "11f",
          "12f",
          "13f",
          "14f",
          "nofilter"
         ],
         "xaxis": "x6",
         "y": [
          0.4696000000000001,
          0.5281666666666667,
          0.5450333333333334,
          0.4673333333333334,
          0.40653333333333336,
          0.5157666666666667,
          0.4673166666666666,
          0.4515833333333333,
          0.4211666666666667,
          0.4425666666666666
         ],
         "yaxis": "y6"
        },
        {
         "line": {
          "color": "#FCCDE5"
         },
         "name": "per:countries_of_residence f1",
         "type": "scatter",
         "uid": "c71eac98-2cb6-4aaa-96a4-d8441ab4b311",
         "x": [
          "6f",
          "7f",
          "8f",
          "9f",
          "10f",
          "11f",
          "12f",
          "13f",
          "14f",
          "nofilter"
         ],
         "xaxis": "x6",
         "y": [
          0.5025333333333334,
          0.5371833333333332,
          0.5185333333333334,
          0.5009333333333333,
          0.46809999999999996,
          0.5159166666666667,
          0.4991833333333333,
          0.49396666666666667,
          0.4773500000000001,
          0.4840500000000001
         ],
         "yaxis": "y6"
        },
        {
         "line": {
          "color": "#CCEBC5"
         },
         "name": "org:country_of_headquarters precision",
         "type": "scatter",
         "uid": "95c6dfce-64b0-4a24-a8dd-975d82d6311f",
         "x": [
          "6f",
          "7f",
          "8f",
          "9f",
          "10f",
          "11f",
          "12f",
          "13f",
          "14f",
          "nofilter"
         ],
         "xaxis": "x7",
         "y": [
          0.5996999999999999,
          0.63815,
          0.5768666666666666,
          0.6861166666666666,
          0.6511333333333333,
          0.6010166666666666,
          0.6709,
          0.6730833333333334,
          0.6853333333333333,
          0.6491333333333333
         ],
         "yaxis": "y7"
        },
        {
         "line": {
          "color": "#BC80BD"
         },
         "name": "org:country_of_headquarters recall",
         "type": "scatter",
         "uid": "1dcc0361-7421-4452-9149-5d2c69e8c8bb",
         "x": [
          "6f",
          "7f",
          "8f",
          "9f",
          "10f",
          "11f",
          "12f",
          "13f",
          "14f",
          "nofilter"
         ],
         "xaxis": "x7",
         "y": [
          0.38116666666666665,
          0.3379666666666667,
          0.3873333333333333,
          0.3426,
          0.30711666666666665,
          0.3673,
          0.32715,
          0.3179,
          0.30093333333333333,
          0.31171666666666664
         ],
         "yaxis": "y7"
        },
        {
         "line": {
          "color": "#FCCDE5"
         },
         "name": "org:country_of_headquarters f1",
         "type": "scatter",
         "uid": "2f74b24f-3762-4a63-8c97-03e6ff651708",
         "x": [
          "6f",
          "7f",
          "8f",
          "9f",
          "10f",
          "11f",
          "12f",
          "13f",
          "14f",
          "nofilter"
         ],
         "xaxis": "x7",
         "y": [
          0.46236666666666665,
          0.4406666666666667,
          0.4622166666666667,
          0.45659999999999995,
          0.41625,
          0.4550666666666667,
          0.4392833333333334,
          0.43168333333333336,
          0.41711666666666664,
          0.42026666666666673
         ],
         "yaxis": "y7"
        },
        {
         "line": {
          "color": "#CCEBC5"
         },
         "name": "per:age precision",
         "type": "scatter",
         "uid": "954d34d0-4be1-4da9-ae48-789179155ef5",
         "x": [
          "6f",
          "7f",
          "8f",
          "9f",
          "10f",
          "11f",
          "12f",
          "13f",
          "14f",
          "nofilter"
         ],
         "xaxis": "x8",
         "y": [
          0.8074,
          0.8083833333333333,
          0.8162166666666666,
          0.8354666666666667,
          0.8581666666666666,
          0.8203166666666668,
          0.8121166666666667,
          0.8658999999999999,
          0.8391833333333333,
          0.8416
         ],
         "yaxis": "y8"
        },
        {
         "line": {
          "color": "#BC80BD"
         },
         "name": "per:age recall",
         "type": "scatter",
         "uid": "3a299300-74c5-4213-8724-61f760dd2304",
         "x": [
          "6f",
          "7f",
          "8f",
          "9f",
          "10f",
          "11f",
          "12f",
          "13f",
          "14f",
          "nofilter"
         ],
         "xaxis": "x8",
         "y": [
          0.9474999999999999,
          0.9483333333333334,
          0.9474999999999999,
          0.9533333333333333,
          0.93,
          0.9424999999999999,
          0.9458333333333333,
          0.9283333333333333,
          0.9375,
          0.9366666666666666
         ],
         "yaxis": "y8"
        },
        {
         "line": {
          "color": "#FCCDE5"
         },
         "name": "per:age f1",
         "type": "scatter",
         "uid": "7dfae543-536a-4043-b042-4ef0b7eb4be9",
         "x": [
          "6f",
          "7f",
          "8f",
          "9f",
          "10f",
          "11f",
          "12f",
          "13f",
          "14f",
          "nofilter"
         ],
         "xaxis": "x8",
         "y": [
          0.8717333333333334,
          0.87255,
          0.8764166666666666,
          0.8903833333333334,
          0.8925333333333333,
          0.8767,
          0.8736333333333333,
          0.8957166666666666,
          0.8855166666666666,
          0.8862999999999999
         ],
         "yaxis": "y8"
        },
        {
         "line": {
          "color": "#CCEBC5"
         },
         "name": "per:cities_of_residence precision",
         "type": "scatter",
         "uid": "a5b5ebd5-adbc-4d7f-8011-52ec6814aec2",
         "x": [
          "6f",
          "7f",
          "8f",
          "9f",
          "10f",
          "11f",
          "12f",
          "13f",
          "14f",
          "nofilter"
         ],
         "xaxis": "x9",
         "y": [
          0.5241333333333333,
          0.5513666666666667,
          0.54565,
          0.5632833333333334,
          0.56775,
          0.5470333333333333,
          0.54835,
          0.5832666666666667,
          0.5679666666666667,
          0.5807166666666667
         ],
         "yaxis": "y9"
        },
        {
         "line": {
          "color": "#BC80BD"
         },
         "name": "per:cities_of_residence recall",
         "type": "scatter",
         "uid": "032b1fef-1fb7-4807-8b35-5be6b69316fb",
         "x": [
          "6f",
          "7f",
          "8f",
          "9f",
          "10f",
          "11f",
          "12f",
          "13f",
          "14f",
          "nofilter"
         ],
         "xaxis": "x9",
         "y": [
          0.5634833333333333,
          0.5388,
          0.5776,
          0.5626,
          0.5352666666666667,
          0.5449833333333333,
          0.5634833333333334,
          0.5264833333333333,
          0.5246833333333333,
          0.5291
         ],
         "yaxis": "y9"
        },
        {
         "line": {
          "color": "#FCCDE5"
         },
         "name": "per:cities_of_residence f1",
         "type": "scatter",
         "uid": "76737e7f-72ab-4f44-8278-5caffc43dcd1",
         "x": [
          "6f",
          "7f",
          "8f",
          "9f",
          "10f",
          "11f",
          "12f",
          "13f",
          "14f",
          "nofilter"
         ],
         "xaxis": "x9",
         "y": [
          0.5422833333333333,
          0.5442666666666667,
          0.5606833333333333,
          0.5617166666666666,
          0.5502833333333333,
          0.5456833333333333,
          0.55555,
          0.5527000000000001,
          0.5450333333333333,
          0.5531
         ],
         "yaxis": "y9"
        },
        {
         "line": {
          "color": "#CCEBC5"
         },
         "name": "per:origin precision",
         "type": "scatter",
         "uid": "10ac33f7-6a9c-4e1c-b025-5e2c460e27f8",
         "x": [
          "6f",
          "7f",
          "8f",
          "9f",
          "10f",
          "11f",
          "12f",
          "13f",
          "14f",
          "nofilter"
         ],
         "xaxis": "x10",
         "y": [
          0.7107666666666667,
          0.7005666666666667,
          0.6812333333333332,
          0.6816333333333334,
          0.7076166666666667,
          0.6734166666666667,
          0.6907000000000001,
          0.7169,
          0.706,
          0.6891166666666666
         ],
         "yaxis": "y10"
        },
        {
         "line": {
          "color": "#BC80BD"
         },
         "name": "per:origin recall",
         "type": "scatter",
         "uid": "42dc0070-38d3-480a-ab0b-4eef14d83563",
         "x": [
          "6f",
          "7f",
          "8f",
          "9f",
          "10f",
          "11f",
          "12f",
          "13f",
          "14f",
          "nofilter"
         ],
         "xaxis": "x10",
         "y": [
          0.5909166666666666,
          0.63765,
          0.6388833333333334,
          0.6085833333333334,
          0.5883833333333334,
          0.5997666666666667,
          0.6022666666666666,
          0.57955,
          0.59595,
          0.6136333333333334
         ],
         "yaxis": "y10"
        },
        {
         "line": {
          "color": "#FCCDE5"
         },
         "name": "per:origin f1",
         "type": "scatter",
         "uid": "334d0188-8f8e-482a-a60e-5d71dee2aa63",
         "x": [
          "6f",
          "7f",
          "8f",
          "9f",
          "10f",
          "11f",
          "12f",
          "13f",
          "14f",
          "nofilter"
         ],
         "xaxis": "x10",
         "y": [
          0.6447666666666666,
          0.6668666666666666,
          0.6586666666666666,
          0.6424833333333333,
          0.6417333333333333,
          0.6333666666666666,
          0.6432666666666668,
          0.64025,
          0.6451166666666667,
          0.648
         ],
         "yaxis": "y10"
        },
        {
         "line": {
          "color": "#CCEBC5"
         },
         "name": "org:city_of_headquarters precision",
         "type": "scatter",
         "uid": "7f7c3fb3-5c19-4912-9ecb-322675cef83e",
         "x": [
          "6f",
          "7f",
          "8f",
          "9f",
          "10f",
          "11f",
          "12f",
          "13f",
          "14f",
          "nofilter"
         ],
         "xaxis": "x11",
         "y": [
          0.7292166666666667,
          0.7547333333333333,
          0.7285499999999999,
          0.7264666666666667,
          0.7857333333333333,
          0.7609166666666667,
          0.7446,
          0.7690333333333333,
          0.7831166666666666,
          0.7878333333333334
         ],
         "yaxis": "y11"
        },
        {
         "line": {
          "color": "#BC80BD"
         },
         "name": "org:city_of_headquarters recall",
         "type": "scatter",
         "uid": "b96626ca-d6cc-4ae9-b995-c19e98d90078",
         "x": [
          "6f",
          "7f",
          "8f",
          "9f",
          "10f",
          "11f",
          "12f",
          "13f",
          "14f",
          "nofilter"
         ],
         "xaxis": "x11",
         "y": [
          0.6890000000000001,
          0.6808666666666666,
          0.7032333333333334,
          0.7174666666666667,
          0.65445,
          0.6788333333333334,
          0.6788333333333334,
          0.6382,
          0.6747833333333334,
          0.6666500000000001
         ],
         "yaxis": "y11"
        },
        {
         "line": {
          "color": "#FCCDE5"
         },
         "name": "org:city_of_headquarters f1",
         "type": "scatter",
         "uid": "3e6dd201-a043-4485-94fe-405b4af0f372",
         "x": [
          "6f",
          "7f",
          "8f",
          "9f",
          "10f",
          "11f",
          "12f",
          "13f",
          "14f",
          "nofilter"
         ],
         "xaxis": "x11",
         "y": [
          0.7077,
          0.7155666666666666,
          0.7140166666666666,
          0.72085,
          0.7134499999999999,
          0.7174499999999999,
          0.7098833333333333,
          0.6966833333333334,
          0.7246166666666668,
          0.7217166666666667
         ],
         "yaxis": "y11"
        },
        {
         "line": {
          "color": "#CCEBC5"
         },
         "name": "per:spouse precision",
         "type": "scatter",
         "uid": "e07b1c7d-d09b-4d7a-9085-4d288dd09a97",
         "x": [
          "6f",
          "7f",
          "8f",
          "9f",
          "10f",
          "11f",
          "12f",
          "13f",
          "14f",
          "nofilter"
         ],
         "xaxis": "x12",
         "y": [
          0.61705,
          0.5880166666666666,
          0.6138499999999999,
          0.6213666666666667,
          0.6211,
          0.58515,
          0.6339166666666666,
          0.6430166666666667,
          0.6243333333333333,
          0.5656833333333332
         ],
         "yaxis": "y12"
        },
        {
         "line": {
          "color": "#BC80BD"
         },
         "name": "per:spouse recall",
         "type": "scatter",
         "uid": "7c81f01d-6f6f-4574-aa26-9c13932734a7",
         "x": [
          "6f",
          "7f",
          "8f",
          "9f",
          "10f",
          "11f",
          "12f",
          "13f",
          "14f",
          "nofilter"
         ],
         "xaxis": "x12",
         "y": [
          0.7020333333333334,
          0.7020166666666666,
          0.6995,
          0.7222166666666666,
          0.7171833333333333,
          0.7171833333333333,
          0.7045499999999999,
          0.6894,
          0.7070833333333333,
          0.7247666666666666
         ],
         "yaxis": "y12"
        },
        {
         "line": {
          "color": "#FCCDE5"
         },
         "name": "per:spouse f1",
         "type": "scatter",
         "uid": "9eda638d-3334-4674-a47b-078884c86433",
         "x": [
          "6f",
          "7f",
          "8f",
          "9f",
          "10f",
          "11f",
          "12f",
          "13f",
          "14f",
          "nofilter"
         ],
         "xaxis": "x12",
         "y": [
          0.6563166666666667,
          0.6396000000000001,
          0.6534833333333333,
          0.6672666666666666,
          0.6643333333333333,
          0.6428,
          0.6670166666666667,
          0.6646666666666666,
          0.6622,
          0.6343166666666665
         ],
         "yaxis": "y12"
        },
        {
         "line": {
          "color": "#CCEBC5"
         },
         "name": "org:subsidiaries precision",
         "type": "scatter",
         "uid": "93850597-ac58-4c6e-b441-f0c949901762",
         "x": [
          "6f",
          "7f",
          "8f",
          "9f",
          "10f",
          "11f",
          "12f",
          "13f",
          "14f",
          "nofilter"
         ],
         "xaxis": "x13",
         "y": [
          0.5131666666666668,
          0.5149,
          0.5286333333333334,
          0.5199333333333334,
          0.4921166666666667,
          0.6084833333333334,
          0.5470833333333333,
          0.5246666666666667,
          0.5320999999999999,
          0.5301
         ],
         "yaxis": "y13"
        },
        {
         "line": {
          "color": "#BC80BD"
         },
         "name": "org:subsidiaries recall",
         "type": "scatter",
         "uid": "16940bfd-e4d8-4ec2-9ebd-b8743efdcf8d",
         "x": [
          "6f",
          "7f",
          "8f",
          "9f",
          "10f",
          "11f",
          "12f",
          "13f",
          "14f",
          "nofilter"
         ],
         "xaxis": "x13",
         "y": [
          0.35608333333333336,
          0.29545,
          0.3484833333333333,
          0.3106,
          0.29166666666666663,
          0.3106,
          0.2916666666666667,
          0.3181833333333333,
          0.2840833333333333,
          0.2992666666666666
         ],
         "yaxis": "y13"
        },
        {
         "line": {
          "color": "#FCCDE5"
         },
         "name": "org:subsidiaries f1",
         "type": "scatter",
         "uid": "768edb61-8965-4cf4-98fa-1808e658d14a",
         "x": [
          "6f",
          "7f",
          "8f",
          "9f",
          "10f",
          "11f",
          "12f",
          "13f",
          "14f",
          "nofilter"
         ],
         "xaxis": "x13",
         "y": [
          0.41586666666666666,
          0.3720666666666667,
          0.41948333333333326,
          0.3852166666666667,
          0.36365000000000003,
          0.4095166666666667,
          0.3787666666666667,
          0.39490000000000003,
          0.36403333333333326,
          0.3799333333333334
         ],
         "yaxis": "y13"
        },
        {
         "line": {
          "color": "#CCEBC5"
         },
         "name": "per:stateorprovinces_of_residence precision",
         "type": "scatter",
         "uid": "5013516c-557d-4aa8-8da6-a0194c5f9a10",
         "x": [
          "6f",
          "7f",
          "8f",
          "9f",
          "10f",
          "11f",
          "12f",
          "13f",
          "14f",
          "nofilter"
         ],
         "xaxis": "x14",
         "y": [
          0.5476666666666666,
          0.5761833333333334,
          0.5558833333333334,
          0.5750000000000001,
          0.60075,
          0.5382166666666667,
          0.5647000000000001,
          0.6158833333333332,
          0.5789166666666666,
          0.5962999999999999
         ],
         "yaxis": "y14"
        },
        {
         "line": {
          "color": "#BC80BD"
         },
         "name": "per:stateorprovinces_of_residence recall",
         "type": "scatter",
         "uid": "05d88ee9-5b22-493d-91be-cd78d8ea4151",
         "x": [
          "6f",
          "7f",
          "8f",
          "9f",
          "10f",
          "11f",
          "12f",
          "13f",
          "14f",
          "nofilter"
         ],
         "xaxis": "x14",
         "y": [
          0.5617166666666666,
          0.5267333333333333,
          0.6275666666666667,
          0.5638000000000001,
          0.49589999999999995,
          0.5699666666666666,
          0.5185333333333334,
          0.4876666666666667,
          0.5535,
          0.5288166666666666
         ],
         "yaxis": "y14"
        },
        {
         "line": {
          "color": "#FCCDE5"
         },
         "name": "per:stateorprovinces_of_residence f1",
         "type": "scatter",
         "uid": "e3c704ce-eaab-4e2e-a692-65d5954cbef0",
         "x": [
          "6f",
          "7f",
          "8f",
          "9f",
          "10f",
          "11f",
          "12f",
          "13f",
          "14f",
          "nofilter"
         ],
         "xaxis": "x14",
         "y": [
          0.5523333333333332,
          0.5493166666666666,
          0.58845,
          0.5689000000000001,
          0.5429666666666667,
          0.5527666666666666,
          0.5403666666666666,
          0.5437333333333333,
          0.56565,
          0.5595666666666668
         ],
         "yaxis": "y14"
        },
        {
         "line": {
          "color": "#CCEBC5"
         },
         "name": "org:parents precision",
         "type": "scatter",
         "uid": "ee44bc0e-7cdc-4dc7-af91-b654692fb041",
         "x": [
          "6f",
          "7f",
          "8f",
          "9f",
          "10f",
          "11f",
          "12f",
          "13f",
          "14f",
          "nofilter"
         ],
         "xaxis": "x15",
         "y": [
          0.42333333333333334,
          0.3391666666666666,
          0.4119,
          0.3945333333333334,
          0.38594999999999996,
          0.43131666666666674,
          0.42329999999999995,
          0.3855166666666667,
          0.3631,
          0.3972833333333334
         ],
         "yaxis": "y15"
        },
        {
         "line": {
          "color": "#BC80BD"
         },
         "name": "org:parents recall",
         "type": "scatter",
         "uid": "d6e04830-4b61-4f3e-a1c5-bb664bf09899",
         "x": [
          "6f",
          "7f",
          "8f",
          "9f",
          "10f",
          "11f",
          "12f",
          "13f",
          "14f",
          "nofilter"
         ],
         "xaxis": "x15",
         "y": [
          0.10753333333333333,
          0.12903333333333333,
          0.15051666666666666,
          0.16128333333333333,
          0.14785,
          0.19355,
          0.16128333333333333,
          0.16398333333333334,
          0.1129,
          0.16666666666666666
         ],
         "yaxis": "y15"
        },
        {
         "line": {
          "color": "#FCCDE5"
         },
         "name": "org:parents f1",
         "type": "scatter",
         "uid": "5a4ead67-9032-4fda-adfd-d588380c0a87",
         "x": [
          "6f",
          "7f",
          "8f",
          "9f",
          "10f",
          "11f",
          "12f",
          "13f",
          "14f",
          "nofilter"
         ],
         "xaxis": "x15",
         "y": [
          0.17073333333333332,
          0.18494999999999998,
          0.2181833333333333,
          0.22748333333333337,
          0.2127,
          0.26581666666666665,
          0.23316666666666666,
          0.2285,
          0.17138333333333333,
          0.23376666666666668
         ],
         "yaxis": "y15"
        },
        {
         "line": {
          "color": "#CCEBC5"
         },
         "name": "per:date_of_death precision",
         "type": "scatter",
         "uid": "45c94786-7cb1-4c32-841e-c9da9b781160",
         "x": [
          "6f",
          "7f",
          "8f",
          "9f",
          "10f",
          "11f",
          "12f",
          "13f",
          "14f",
          "nofilter"
         ],
         "xaxis": "x16",
         "y": [
          0.7315,
          0.6979166666666666,
          0.6002833333333333,
          0.6539333333333334,
          0.6971666666666666,
          0.6102833333333333,
          0.6259666666666667,
          0.6639666666666667,
          0.6342,
          0.6549
         ],
         "yaxis": "y16"
        },
        {
         "line": {
          "color": "#BC80BD"
         },
         "name": "per:date_of_death recall",
         "type": "scatter",
         "uid": "d5a2b16c-3f8c-4ff0-87b2-36885fc2ceee",
         "x": [
          "6f",
          "7f",
          "8f",
          "9f",
          "10f",
          "11f",
          "12f",
          "13f",
          "14f",
          "nofilter"
         ],
         "xaxis": "x16",
         "y": [
          0.25616666666666665,
          0.25309999999999994,
          0.33026666666666665,
          0.2870333333333333,
          0.2716166666666666,
          0.2932166666666667,
          0.29013333333333335,
          0.27776666666666666,
          0.29013333333333335,
          0.25
         ],
         "yaxis": "y16"
        },
        {
         "line": {
          "color": "#FCCDE5"
         },
         "name": "per:date_of_death f1",
         "type": "scatter",
         "uid": "11a189ab-096d-4757-abfc-b3dd82f13fa6",
         "x": [
          "6f",
          "7f",
          "8f",
          "9f",
          "10f",
          "11f",
          "12f",
          "13f",
          "14f",
          "nofilter"
         ],
         "xaxis": "x16",
         "y": [
          0.3784666666666667,
          0.3706833333333333,
          0.42286666666666667,
          0.3986166666666667,
          0.3899166666666667,
          0.3946333333333334,
          0.39514999999999995,
          0.38978333333333337,
          0.39713333333333334,
          0.3605833333333333
         ],
         "yaxis": "y16"
        },
        {
         "line": {
          "color": "#CCEBC5"
         },
         "name": "per:children precision",
         "type": "scatter",
         "uid": "66dbcba7-d0d5-4936-8393-97eaa37d365c",
         "x": [
          "6f",
          "7f",
          "8f",
          "9f",
          "10f",
          "11f",
          "12f",
          "13f",
          "14f",
          "nofilter"
         ],
         "xaxis": "x17",
         "y": [
          0.3022666666666667,
          0.4092833333333333,
          0.46678333333333333,
          0.4633833333333333,
          0.38756666666666667,
          0.4717166666666666,
          0.45175000000000004,
          0.43335000000000007,
          0.6294333333333334,
          0.5392666666666667
         ],
         "yaxis": "y17"
        },
        {
         "line": {
          "color": "#BC80BD"
         },
         "name": "per:children recall",
         "type": "scatter",
         "uid": "41b2b1a6-ed7c-43a4-9b12-ad17c2bba04e",
         "x": [
          "6f",
          "7f",
          "8f",
          "9f",
          "10f",
          "11f",
          "12f",
          "13f",
          "14f",
          "nofilter"
         ],
         "xaxis": "x17",
         "y": [
          0.40991666666666665,
          0.36034999999999995,
          0.4639499999999999,
          0.4099,
          0.39188333333333336,
          0.39189999999999997,
          0.41895,
          0.3918833333333333,
          0.38739999999999997,
          0.3963833333333333
         ],
         "yaxis": "y17"
        },
        {
         "line": {
          "color": "#FCCDE5"
         },
         "name": "per:children f1",
         "type": "scatter",
         "uid": "2e7a1286-c9bd-4df0-8a6c-17ce4d8054ea",
         "x": [
          "6f",
          "7f",
          "8f",
          "9f",
          "10f",
          "11f",
          "12f",
          "13f",
          "14f",
          "nofilter"
         ],
         "xaxis": "x17",
         "y": [
          0.3467833333333334,
          0.3740666666666667,
          0.46165000000000006,
          0.4290666666666667,
          0.38833333333333325,
          0.4189666666666667,
          0.43255,
          0.40825,
          0.4757,
          0.4522
         ],
         "yaxis": "y17"
        },
        {
         "line": {
          "color": "#CCEBC5"
         },
         "name": "org:stateorprovince_of_headquarters precision",
         "type": "scatter",
         "uid": "d9002b56-dce5-4bd2-b32d-c695ec3ed46a",
         "x": [
          "6f",
          "7f",
          "8f",
          "9f",
          "10f",
          "11f",
          "12f",
          "13f",
          "14f",
          "nofilter"
         ],
         "xaxis": "x18",
         "y": [
          0.7305166666666666,
          0.7083833333333334,
          0.7169,
          0.6969333333333333,
          0.7303333333333333,
          0.7139000000000001,
          0.7339166666666667,
          0.7405333333333334,
          0.7364333333333333,
          0.7359166666666667
         ],
         "yaxis": "y18"
        },
        {
         "line": {
          "color": "#BC80BD"
         },
         "name": "org:stateorprovince_of_headquarters recall",
         "type": "scatter",
         "uid": "20d6e9f7-bb86-4276-89a6-4297ea6c4dc3",
         "x": [
          "6f",
          "7f",
          "8f",
          "9f",
          "10f",
          "11f",
          "12f",
          "13f",
          "14f",
          "nofilter"
         ],
         "xaxis": "x18",
         "y": [
          0.6634333333333334,
          0.7059000000000001,
          0.7091666666666668,
          0.7026333333333333,
          0.7059000000000001,
          0.7385666666666667,
          0.6895666666666668,
          0.6438166666666667,
          0.7091666666666668,
          0.6830333333333334
         ],
         "yaxis": "y18"
        },
        {
         "line": {
          "color": "#FCCDE5"
         },
         "name": "org:stateorprovince_of_headquarters f1",
         "type": "scatter",
         "uid": "afb2612a-4a6d-4c5b-9053-4520b9ac403d",
         "x": [
          "6f",
          "7f",
          "8f",
          "9f",
          "10f",
          "11f",
          "12f",
          "13f",
          "14f",
          "nofilter"
         ],
         "xaxis": "x18",
         "y": [
          0.6950833333333334,
          0.7062,
          0.7123666666666667,
          0.6988500000000001,
          0.7175333333333334,
          0.7256166666666667,
          0.71055,
          0.6868166666666666,
          0.7217333333333332,
          0.7082333333333333
         ],
         "yaxis": "y18"
        },
        {
         "line": {
          "color": "#CCEBC5"
         },
         "name": "per:cause_of_death precision",
         "type": "scatter",
         "uid": "aa8f08dc-0f58-48ad-afe9-045aa61cdced",
         "x": [
          "6f",
          "7f",
          "8f",
          "9f",
          "10f",
          "11f",
          "12f",
          "13f",
          "14f",
          "nofilter"
         ],
         "xaxis": "x19",
         "y": [
          0.6689166666666667,
          0.66755,
          0.64775,
          0.7305166666666668,
          0.7087,
          0.6763166666666667,
          0.6592666666666667,
          0.7144666666666667,
          0.6756833333333333,
          0.68525
         ],
         "yaxis": "y19"
        },
        {
         "line": {
          "color": "#BC80BD"
         },
         "name": "per:cause_of_death recall",
         "type": "scatter",
         "uid": "855f7fc9-f185-452f-8f87-107cb9b040c8",
         "x": [
          "6f",
          "7f",
          "8f",
          "9f",
          "10f",
          "11f",
          "12f",
          "13f",
          "14f",
          "nofilter"
         ],
         "xaxis": "x19",
         "y": [
          0.33653333333333335,
          0.2980666666666667,
          0.3109166666666667,
          0.2980833333333333,
          0.24358333333333335,
          0.2628333333333333,
          0.26603333333333334,
          0.26281666666666664,
          0.22755,
          0.23718333333333333
         ],
         "yaxis": "y19"
        },
        {
         "line": {
          "color": "#FCCDE5"
         },
         "name": "per:cause_of_death f1",
         "type": "scatter",
         "uid": "a705815c-7e48-42c0-90f0-60e2010e0df2",
         "x": [
          "6f",
          "7f",
          "8f",
          "9f",
          "10f",
          "11f",
          "12f",
          "13f",
          "14f",
          "nofilter"
         ],
         "xaxis": "x19",
         "y": [
          0.44744999999999996,
          0.40976666666666667,
          0.41901666666666665,
          0.4214166666666667,
          0.3592666666666667,
          0.3741999999999999,
          0.37768333333333337,
          0.3784666666666667,
          0.3374,
          0.3518333333333333
         ],
         "yaxis": "y19"
        },
        {
         "line": {
          "color": "#CCEBC5"
         },
         "name": "per:other_family precision",
         "type": "scatter",
         "uid": "0376b719-2670-4e7c-b7ac-df05e2adc831",
         "x": [
          "6f",
          "7f",
          "8f",
          "9f",
          "10f",
          "11f",
          "12f",
          "13f",
          "14f",
          "nofilter"
         ],
         "xaxis": "x20",
         "y": [
          0.5886,
          0.6719833333333333,
          0.6156333333333334,
          0.7098666666666666,
          0.6900833333333334,
          0.6043999999999999,
          0.6264000000000001,
          0.72235,
          0.6353833333333333,
          0.6680999999999999
         ],
         "yaxis": "y20"
        },
        {
         "line": {
          "color": "#BC80BD"
         },
         "name": "per:other_family recall",
         "type": "scatter",
         "uid": "f032da0a-ddb6-4639-ab92-d9876684d03a",
         "x": [
          "6f",
          "7f",
          "8f",
          "9f",
          "10f",
          "11f",
          "12f",
          "13f",
          "14f",
          "nofilter"
         ],
         "xaxis": "x20",
         "y": [
          0.09443333333333336,
          0.225,
          0.19998333333333332,
          0.34723333333333334,
          0.2472,
          0.29723333333333335,
          0.28611666666666663,
          0.3055666666666667,
          0.2805666666666667,
          0.26943333333333336
         ],
         "yaxis": "y20"
        },
        {
         "line": {
          "color": "#FCCDE5"
         },
         "name": "per:other_family f1",
         "type": "scatter",
         "uid": "1f805156-4946-4ab1-8a47-5f6349f9b9f1",
         "x": [
          "6f",
          "7f",
          "8f",
          "9f",
          "10f",
          "11f",
          "12f",
          "13f",
          "14f",
          "nofilter"
         ],
         "xaxis": "x20",
         "y": [
          0.15396666666666667,
          0.32008333333333333,
          0.2984166666666667,
          0.4654833333333333,
          0.34908333333333336,
          0.3932,
          0.3871166666666666,
          0.4206833333333333,
          0.3832,
          0.3808833333333333
         ],
         "yaxis": "y20"
        },
        {
         "line": {
          "color": "#CCEBC5"
         },
         "name": "org:members precision",
         "type": "scatter",
         "uid": "a98a03f9-020a-48bd-9d42-f335fdf17eb0",
         "x": [
          "6f",
          "7f",
          "8f",
          "9f",
          "10f",
          "11f",
          "12f",
          "13f",
          "14f",
          "nofilter"
         ],
         "xaxis": "x21",
         "y": [
          0,
          0.075,
          0.14048333333333332,
          0.4722166666666667,
          0.375,
          0.4166666666666667,
          0.5,
          0.041666666666666664,
          0,
          0.3333333333333333
         ],
         "yaxis": "y21"
        },
        {
         "line": {
          "color": "#BC80BD"
         },
         "name": "org:members recall",
         "type": "scatter",
         "uid": "763022d4-ae68-4d55-a701-65aaa19a0be4",
         "x": [
          "6f",
          "7f",
          "8f",
          "9f",
          "10f",
          "11f",
          "12f",
          "13f",
          "14f",
          "nofilter"
         ],
         "xaxis": "x21",
         "y": [
          0,
          0.010766666666666667,
          0.021516666666666667,
          0.010766666666666667,
          0.021533333333333335,
          0.016133333333333333,
          0.010766666666666667,
          0.005383333333333334,
          0,
          0
         ],
         "yaxis": "y21"
        },
        {
         "line": {
          "color": "#FCCDE5"
         },
         "name": "org:members f1",
         "type": "scatter",
         "uid": "1e2785fb-29b9-4d27-b47a-013a897e7333",
         "x": [
          "6f",
          "7f",
          "8f",
          "9f",
          "10f",
          "11f",
          "12f",
          "13f",
          "14f",
          "nofilter"
         ],
         "xaxis": "x21",
         "y": [
          0,
          0.018783333333333332,
          0.03708333333333333,
          0.0199,
          0.04013333333333333,
          0.027033333333333336,
          0.020833333333333332,
          0.009516666666666666,
          0,
          0
         ],
         "yaxis": "y21"
        },
        {
         "line": {
          "color": "#CCEBC5"
         },
         "name": "per:parents precision",
         "type": "scatter",
         "uid": "a4afa8f3-c30f-4ef0-814a-0e05e9330726",
         "x": [
          "6f",
          "7f",
          "8f",
          "9f",
          "10f",
          "11f",
          "12f",
          "13f",
          "14f",
          "nofilter"
         ],
         "xaxis": "x22",
         "y": [
          0.7240500000000001,
          0.7001333333333332,
          0.7146666666666667,
          0.7372,
          0.7213666666666666,
          0.6774666666666666,
          0.7216,
          0.7068333333333333,
          0.7141000000000001,
          0.7268666666666667
         ],
         "yaxis": "y22"
        },
        {
         "line": {
          "color": "#BC80BD"
         },
         "name": "per:parents recall",
         "type": "scatter",
         "uid": "aabc309c-7fb5-48c9-9a8e-74b8308c8f6a",
         "x": [
          "6f",
          "7f",
          "8f",
          "9f",
          "10f",
          "11f",
          "12f",
          "13f",
          "14f",
          "nofilter"
         ],
         "xaxis": "x22",
         "y": [
          0.44694999999999996,
          0.5340833333333334,
          0.5909166666666666,
          0.5587166666666666,
          0.5473333333333333,
          0.5549333333333334,
          0.5530333333333334,
          0.5416666666666666,
          0.6155333333333334,
          0.5909
         ],
         "yaxis": "y22"
        },
        {
         "line": {
          "color": "#FCCDE5"
         },
         "name": "per:parents f1",
         "type": "scatter",
         "uid": "54bcfd84-912d-4f80-bbc6-d6c86075a348",
         "x": [
          "6f",
          "7f",
          "8f",
          "9f",
          "10f",
          "11f",
          "12f",
          "13f",
          "14f",
          "nofilter"
         ],
         "xaxis": "x22",
         "y": [
          0.5511666666666667,
          0.6042166666666667,
          0.6458833333333334,
          0.63435,
          0.6217833333333332,
          0.6063666666666666,
          0.6259333333333333,
          0.6114999999999999,
          0.6599333333333334,
          0.6486333333333333
         ],
         "yaxis": "y22"
        },
        {
         "line": {
          "color": "#CCEBC5"
         },
         "name": "org:founded_by precision",
         "type": "scatter",
         "uid": "b49a4f7f-dcde-4e86-b48d-c483e030f830",
         "x": [
          "6f",
          "7f",
          "8f",
          "9f",
          "10f",
          "11f",
          "12f",
          "13f",
          "14f",
          "nofilter"
         ],
         "xaxis": "x23",
         "y": [
          0.6819000000000001,
          0.7146499999999999,
          0.7030166666666666,
          0.7290666666666666,
          0.7398166666666667,
          0.7387,
          0.7162333333333333,
          0.7083,
          0.7626833333333334,
          0.7704166666666667
         ],
         "yaxis": "y23"
        },
        {
         "line": {
          "color": "#BC80BD"
         },
         "name": "org:founded_by recall",
         "type": "scatter",
         "uid": "cd264801-fec5-40c6-8066-819dd389c5ea",
         "x": [
          "6f",
          "7f",
          "8f",
          "9f",
          "10f",
          "11f",
          "12f",
          "13f",
          "14f",
          "nofilter"
         ],
         "xaxis": "x23",
         "y": [
          0.5049,
          0.5563666666666667,
          0.5343166666666667,
          0.5465666666666666,
          0.5171500000000001,
          0.4314,
          0.47303333333333336,
          0.43385,
          0.43385,
          0.44364999999999993
         ],
         "yaxis": "y23"
        },
        {
         "line": {
          "color": "#FCCDE5"
         },
         "name": "org:founded_by f1",
         "type": "scatter",
         "uid": "63a7856f-1956-4846-af41-8ab4ed38cb38",
         "x": [
          "6f",
          "7f",
          "8f",
          "9f",
          "10f",
          "11f",
          "12f",
          "13f",
          "14f",
          "nofilter"
         ],
         "xaxis": "x23",
         "y": [
          0.5788666666666666,
          0.6237166666666666,
          0.6025666666666667,
          0.6196666666666667,
          0.6053833333333333,
          0.5439833333333334,
          0.56495,
          0.5375833333333333,
          0.5519833333333334,
          0.5620666666666667
         ],
         "yaxis": "y23"
        },
        {
         "line": {
          "color": "#CCEBC5"
         },
         "name": "per:city_of_death precision",
         "type": "scatter",
         "uid": "494d2f3e-d8a4-4973-b002-2389cbe28fce",
         "x": [
          "6f",
          "7f",
          "8f",
          "9f",
          "10f",
          "11f",
          "12f",
          "13f",
          "14f",
          "nofilter"
         ],
         "xaxis": "x24",
         "y": [
          0.8653333333333334,
          0.8220000000000001,
          0.8293833333333334,
          0.8314833333333334,
          0.85655,
          0.8435166666666668,
          0.8450833333333333,
          0.8347333333333334,
          0.8314166666666667,
          0.8243833333333334
         ],
         "yaxis": "y24"
        },
        {
         "line": {
          "color": "#BC80BD"
         },
         "name": "per:city_of_death recall",
         "type": "scatter",
         "uid": "970c1151-d03b-4773-bd11-b7b39b9442ef",
         "x": [
          "6f",
          "7f",
          "8f",
          "9f",
          "10f",
          "11f",
          "12f",
          "13f",
          "14f",
          "nofilter"
         ],
         "xaxis": "x24",
         "y": [
          0.32143333333333335,
          0.26785,
          0.2857166666666667,
          0.31546666666666673,
          0.2381,
          0.21430000000000002,
          0.2619,
          0.3035666666666667,
          0.25001666666666666,
          0.2738
         ],
         "yaxis": "y24"
        },
        {
         "line": {
          "color": "#FCCDE5"
         },
         "name": "per:city_of_death f1",
         "type": "scatter",
         "uid": "f231d847-b591-485a-adb1-711b9b58e286",
         "x": [
          "6f",
          "7f",
          "8f",
          "9f",
          "10f",
          "11f",
          "12f",
          "13f",
          "14f",
          "nofilter"
         ],
         "xaxis": "x24",
         "y": [
          0.4652333333333334,
          0.39905000000000007,
          0.41950000000000004,
          0.4545666666666666,
          0.37105000000000005,
          0.33835,
          0.39643333333333336,
          0.44110000000000005,
          0.37965,
          0.4090666666666667
         ],
         "yaxis": "y24"
        },
        {
         "line": {
          "color": "#CCEBC5"
         },
         "name": "per:schools_attended precision",
         "type": "scatter",
         "uid": "9d8c1602-b20b-4f96-8780-fb25e7784137",
         "x": [
          "6f",
          "7f",
          "8f",
          "9f",
          "10f",
          "11f",
          "12f",
          "13f",
          "14f",
          "nofilter"
         ],
         "xaxis": "x25",
         "y": [
          0.7702333333333334,
          0.6561666666666667,
          0.6741333333333334,
          0.63755,
          0.6506,
          0.6533166666666667,
          0.6899666666666667,
          0.7101666666666667,
          0.6673,
          0.6585666666666667
         ],
         "yaxis": "y25"
        },
        {
         "line": {
          "color": "#BC80BD"
         },
         "name": "per:schools_attended recall",
         "type": "scatter",
         "uid": "093f6c17-87cc-42e0-a779-43db85c82633",
         "x": [
          "6f",
          "7f",
          "8f",
          "9f",
          "10f",
          "11f",
          "12f",
          "13f",
          "14f",
          "nofilter"
         ],
         "xaxis": "x25",
         "y": [
          0.40001666666666663,
          0.5166666666666667,
          0.5277833333333334,
          0.5388833333333334,
          0.5611,
          0.5555500000000001,
          0.5555500000000001,
          0.5277666666666667,
          0.54445,
          0.5666500000000001
         ],
         "yaxis": "y25"
        },
        {
         "line": {
          "color": "#FCCDE5"
         },
         "name": "per:schools_attended f1",
         "type": "scatter",
         "uid": "2436ff7c-4347-4f49-968d-fbbaf821bfd8",
         "x": [
          "6f",
          "7f",
          "8f",
          "9f",
          "10f",
          "11f",
          "12f",
          "13f",
          "14f",
          "nofilter"
         ],
         "xaxis": "x25",
         "y": [
          0.5247166666666667,
          0.578,
          0.5883499999999999,
          0.5834,
          0.5995,
          0.5979666666666666,
          0.6153,
          0.605,
          0.5952833333333333,
          0.6083666666666666
         ],
         "yaxis": "y25"
        },
        {
         "line": {
          "color": "#CCEBC5"
         },
         "name": "org:website precision",
         "type": "scatter",
         "uid": "2f40c1cf-2613-4ddf-b0d2-d8973bbb0a89",
         "x": [
          "6f",
          "7f",
          "8f",
          "9f",
          "10f",
          "11f",
          "12f",
          "13f",
          "14f",
          "nofilter"
         ],
         "xaxis": "x26",
         "y": [
          0.6351166666666667,
          0.5821500000000001,
          0.6211833333333333,
          0.5986666666666666,
          0.6212000000000001,
          0.6187166666666667,
          0.60045,
          0.6180166666666665,
          0.6163833333333333,
          0.61305
         ],
         "yaxis": "y26"
        },
        {
         "line": {
          "color": "#BC80BD"
         },
         "name": "org:website recall",
         "type": "scatter",
         "uid": "ed5bef8e-a53d-4519-af67-209ee2fc217c",
         "x": [
          "6f",
          "7f",
          "8f",
          "9f",
          "10f",
          "11f",
          "12f",
          "13f",
          "14f",
          "nofilter"
         ],
         "xaxis": "x26",
         "y": [
          0.8782333333333333,
          0.89745,
          0.8654000000000001,
          0.9166833333333333,
          0.8718166666666667,
          0.9102666666666667,
          0.9038666666666667,
          0.8910166666666667,
          0.8910333333333332,
          0.9166833333333333
         ],
         "yaxis": "y26"
        },
        {
         "line": {
          "color": "#FCCDE5"
         },
         "name": "org:website f1",
         "type": "scatter",
         "uid": "f7db786d-7450-4cd4-806e-3a99e054ee8f",
         "x": [
          "6f",
          "7f",
          "8f",
          "9f",
          "10f",
          "11f",
          "12f",
          "13f",
          "14f",
          "nofilter"
         ],
         "xaxis": "x26",
         "y": [
          0.7366833333333335,
          0.7049499999999999,
          0.7225166666666666,
          0.7233333333333335,
          0.7241833333333334,
          0.7362666666666665,
          0.7203166666666666,
          0.7289333333333334,
          0.7279833333333333,
          0.7342333333333334
         ],
         "yaxis": "y26"
        },
        {
         "line": {
          "color": "#CCEBC5"
         },
         "name": "per:siblings precision",
         "type": "scatter",
         "uid": "56eef257-f9c8-4783-9cf3-d92fb7e1d6dd",
         "x": [
          "6f",
          "7f",
          "8f",
          "9f",
          "10f",
          "11f",
          "12f",
          "13f",
          "14f",
          "nofilter"
         ],
         "xaxis": "x27",
         "y": [
          0.4996833333333333,
          0.6087333333333333,
          0.6079499999999999,
          0.6033833333333333,
          0.6055833333333333,
          0.6547999999999999,
          0.6540166666666668,
          0.6918666666666667,
          0.6890166666666667,
          0.6627
         ],
         "yaxis": "y27"
        },
        {
         "line": {
          "color": "#BC80BD"
         },
         "name": "per:siblings recall",
         "type": "scatter",
         "uid": "00a6127c-3449-44ae-afab-0aae50997d71",
         "x": [
          "6f",
          "7f",
          "8f",
          "9f",
          "10f",
          "11f",
          "12f",
          "13f",
          "14f",
          "nofilter"
         ],
         "xaxis": "x27",
         "y": [
          0.5181833333333333,
          0.6697000000000001,
          0.6303,
          0.6909000000000001,
          0.6818166666666666,
          0.6272666666666668,
          0.6393833333333333,
          0.6454666666666666,
          0.6575833333333333,
          0.6333166666666666
         ],
         "yaxis": "y27"
        },
        {
         "line": {
          "color": "#FCCDE5"
         },
         "name": "per:siblings f1",
         "type": "scatter",
         "uid": "1d0e18b6-1016-41b7-9b13-21e62bac0304",
         "x": [
          "6f",
          "7f",
          "8f",
          "9f",
          "10f",
          "11f",
          "12f",
          "13f",
          "14f",
          "nofilter"
         ],
         "xaxis": "x27",
         "y": [
          0.5077999999999999,
          0.6376333333333334,
          0.6148,
          0.6437166666666666,
          0.6398666666666667,
          0.6377999999999999,
          0.6457166666666667,
          0.6675333333333334,
          0.6714333333333333,
          0.646
         ],
         "yaxis": "y27"
        },
        {
         "line": {
          "color": "#CCEBC5"
         },
         "name": "per:charges precision",
         "type": "scatter",
         "uid": "f2ee4f50-ddd8-4cdc-802c-7f5c3c67d744",
         "x": [
          "6f",
          "7f",
          "8f",
          "9f",
          "10f",
          "11f",
          "12f",
          "13f",
          "14f",
          "nofilter"
         ],
         "xaxis": "x28",
         "y": [
          0.6198,
          0.6456666666666667,
          0.626,
          0.6639666666666667,
          0.6380166666666667,
          0.6395166666666667,
          0.6575666666666667,
          0.6602333333333333,
          0.64515,
          0.6347666666666667
         ],
         "yaxis": "y28"
        },
        {
         "line": {
          "color": "#BC80BD"
         },
         "name": "per:charges recall",
         "type": "scatter",
         "uid": "2d62936c-9747-49bc-9b17-4fd1fc262a15",
         "x": [
          "6f",
          "7f",
          "8f",
          "9f",
          "10f",
          "11f",
          "12f",
          "13f",
          "14f",
          "nofilter"
         ],
         "xaxis": "x28",
         "y": [
          0.8398,
          0.8770166666666667,
          0.8915833333333333,
          0.8867166666666667,
          0.9028999999999999,
          0.8721666666666668,
          0.8721833333333332,
          0.85115,
          0.8802499999999999,
          0.8867333333333333
         ],
         "yaxis": "y28"
        },
        {
         "line": {
          "color": "#FCCDE5"
         },
         "name": "per:charges f1",
         "type": "scatter",
         "uid": "9f9d163f-2f09-4405-bcc6-517db0fafe12",
         "x": [
          "6f",
          "7f",
          "8f",
          "9f",
          "10f",
          "11f",
          "12f",
          "13f",
          "14f",
          "nofilter"
         ],
         "xaxis": "x28",
         "y": [
          0.7125833333333333,
          0.7433000000000001,
          0.7349333333333333,
          0.7589666666666667,
          0.7469166666666668,
          0.7376999999999999,
          0.7491333333333333,
          0.7423666666666667,
          0.7439833333333334,
          0.7397166666666667
         ],
         "yaxis": "y28"
        },
        {
         "line": {
          "color": "#CCEBC5"
         },
         "name": "org:member_of precision",
         "type": "scatter",
         "uid": "6e19f12d-ff4a-49f0-be98-13904ead2fd4",
         "x": [
          "6f",
          "7f",
          "8f",
          "9f",
          "10f",
          "11f",
          "12f",
          "13f",
          "14f",
          "nofilter"
         ],
         "xaxis": "x29",
         "y": [
          1,
          1,
          1,
          1,
          0.8333333333333334,
          1,
          1,
          1,
          1,
          1
         ],
         "yaxis": "y29"
        },
        {
         "line": {
          "color": "#BC80BD"
         },
         "name": "org:member_of recall",
         "type": "scatter",
         "uid": "259b521d-7b8f-4ee0-a342-94df730b5d97",
         "x": [
          "6f",
          "7f",
          "8f",
          "9f",
          "10f",
          "11f",
          "12f",
          "13f",
          "14f",
          "nofilter"
         ],
         "xaxis": "x29",
         "y": [
          0,
          0,
          0,
          0,
          0,
          0,
          0,
          0,
          0,
          0
         ],
         "yaxis": "y29"
        },
        {
         "line": {
          "color": "#FCCDE5"
         },
         "name": "org:member_of f1",
         "type": "scatter",
         "uid": "e2db391a-6e7f-491e-9eb6-8a836043b00b",
         "x": [
          "6f",
          "7f",
          "8f",
          "9f",
          "10f",
          "11f",
          "12f",
          "13f",
          "14f",
          "nofilter"
         ],
         "xaxis": "x29",
         "y": [
          0,
          0,
          0,
          0,
          0,
          0,
          0,
          0,
          0,
          0
         ],
         "yaxis": "y29"
        },
        {
         "line": {
          "color": "#CCEBC5"
         },
         "name": "per:alternate_names precision",
         "type": "scatter",
         "uid": "06c4bcc0-da1a-4bd3-bd41-f0036eaf5c16",
         "x": [
          "6f",
          "7f",
          "8f",
          "9f",
          "10f",
          "11f",
          "12f",
          "13f",
          "14f",
          "nofilter"
         ],
         "xaxis": "x30",
         "y": [
          0,
          0,
          0,
          0,
          0,
          0,
          0,
          0,
          0,
          0
         ],
         "yaxis": "y30"
        },
        {
         "line": {
          "color": "#BC80BD"
         },
         "name": "per:alternate_names recall",
         "type": "scatter",
         "uid": "b675d7bd-f2ce-4731-841d-cc2b4bddf46b",
         "x": [
          "6f",
          "7f",
          "8f",
          "9f",
          "10f",
          "11f",
          "12f",
          "13f",
          "14f",
          "nofilter"
         ],
         "xaxis": "x30",
         "y": [
          0,
          0,
          0,
          0,
          0,
          0,
          0,
          0,
          0,
          0
         ],
         "yaxis": "y30"
        },
        {
         "line": {
          "color": "#FCCDE5"
         },
         "name": "per:alternate_names f1",
         "type": "scatter",
         "uid": "5843e534-f078-4dcb-9862-4d7a3ddd6e91",
         "x": [
          "6f",
          "7f",
          "8f",
          "9f",
          "10f",
          "11f",
          "12f",
          "13f",
          "14f",
          "nofilter"
         ],
         "xaxis": "x30",
         "y": [
          0,
          0,
          0,
          0,
          0,
          0,
          0,
          0,
          0,
          0
         ],
         "yaxis": "y30"
        },
        {
         "line": {
          "color": "#CCEBC5"
         },
         "name": "org:shareholders precision",
         "type": "scatter",
         "uid": "4d6cdfeb-b640-4bb2-b7b8-53d7a92fd390",
         "x": [
          "6f",
          "7f",
          "8f",
          "9f",
          "10f",
          "11f",
          "12f",
          "13f",
          "14f",
          "nofilter"
         ],
         "xaxis": "x31",
         "y": [
          1,
          0.9583333333333334,
          0.9583333333333334,
          0.9166666666666666,
          1,
          0.9583333333333334,
          0.7916666666666666,
          0.85,
          1,
          1
         ],
         "yaxis": "y31"
        },
        {
         "line": {
          "color": "#BC80BD"
         },
         "name": "org:shareholders recall",
         "type": "scatter",
         "uid": "67b572d9-c16f-4ec9-8a80-5c9d765f37d6",
         "x": [
          "6f",
          "7f",
          "8f",
          "9f",
          "10f",
          "11f",
          "12f",
          "13f",
          "14f",
          "nofilter"
         ],
         "xaxis": "x31",
         "y": [
          0.14101666666666665,
          0.23079999999999998,
          0.23079999999999998,
          0.23079999999999998,
          0.21796666666666664,
          0.23079999999999998,
          0.1795,
          0.23079999999999998,
          0.23079999999999998,
          0.2051333333333333
         ],
         "yaxis": "y31"
        },
        {
         "line": {
          "color": "#FCCDE5"
         },
         "name": "org:shareholders f1",
         "type": "scatter",
         "uid": "5d09dd77-dd41-4fbc-915c-e6a60731527b",
         "x": [
          "6f",
          "7f",
          "8f",
          "9f",
          "10f",
          "11f",
          "12f",
          "13f",
          "14f",
          "nofilter"
         ],
         "xaxis": "x31",
         "y": [
          0.23771666666666666,
          0.3713166666666667,
          0.3713166666666667,
          0.3676333333333333,
          0.35695000000000005,
          0.3713166666666667,
          0.2849833333333333,
          0.3606833333333333,
          0.375,
          0.3389
         ],
         "yaxis": "y31"
        },
        {
         "line": {
          "color": "#CCEBC5"
         },
         "name": "org:founded precision",
         "type": "scatter",
         "uid": "e47881db-4735-4568-aa34-5cbef566d79e",
         "x": [
          "6f",
          "7f",
          "8f",
          "9f",
          "10f",
          "11f",
          "12f",
          "13f",
          "14f",
          "nofilter"
         ],
         "xaxis": "x32",
         "y": [
          0.8216333333333333,
          0.8379166666666668,
          0.8222166666666667,
          0.8194833333333333,
          0.8334499999999999,
          0.8175333333333333,
          0.8265666666666666,
          0.8237666666666668,
          0.8564500000000002,
          0.8500500000000001
         ],
         "yaxis": "y32"
        },
        {
         "line": {
          "color": "#BC80BD"
         },
         "name": "org:founded recall",
         "type": "scatter",
         "uid": "f414d2d3-f55f-4cec-b356-4290e3357402",
         "x": [
          "6f",
          "7f",
          "8f",
          "9f",
          "10f",
          "11f",
          "12f",
          "13f",
          "14f",
          "nofilter"
         ],
         "xaxis": "x32",
         "y": [
          0.8288333333333334,
          0.8288166666666669,
          0.8243166666666667,
          0.8288166666666665,
          0.8288333333333334,
          0.8333333333333334,
          0.8333333333333334,
          0.8108000000000001,
          0.8018000000000001,
          0.8153
         ],
         "yaxis": "y32"
        },
        {
         "line": {
          "color": "#FCCDE5"
         },
         "name": "org:founded f1",
         "type": "scatter",
         "uid": "50bf0698-768d-4203-b03a-ee39840f1ddf",
         "x": [
          "6f",
          "7f",
          "8f",
          "9f",
          "10f",
          "11f",
          "12f",
          "13f",
          "14f",
          "nofilter"
         ],
         "xaxis": "x32",
         "y": [
          0.8250833333333332,
          0.8328666666666668,
          0.8229500000000001,
          0.8235000000000001,
          0.8307166666666667,
          0.8244833333333333,
          0.8296166666666666,
          0.8166833333333333,
          0.8278333333333334,
          0.8321666666666667
         ],
         "yaxis": "y32"
        },
        {
         "line": {
          "color": "#CCEBC5"
         },
         "name": "org:political/religious_affiliation precision",
         "type": "scatter",
         "uid": "78a4f7d0-39f2-41a2-a964-cbc4b5c96e7d",
         "x": [
          "6f",
          "7f",
          "8f",
          "9f",
          "10f",
          "11f",
          "12f",
          "13f",
          "14f",
          "nofilter"
         ],
         "xaxis": "x33",
         "y": [
          0.32108333333333333,
          0.4273,
          0.30338333333333334,
          0.38991666666666663,
          0.37915000000000004,
          0.32321666666666665,
          0.54445,
          0.44026666666666664,
          0.6095166666666666,
          0.4814166666666666
         ],
         "yaxis": "y33"
        },
        {
         "line": {
          "color": "#BC80BD"
         },
         "name": "org:political/religious_affiliation recall",
         "type": "scatter",
         "uid": "56124f31-ece0-47c7-b11a-9096aa849410",
         "x": [
          "6f",
          "7f",
          "8f",
          "9f",
          "10f",
          "11f",
          "12f",
          "13f",
          "14f",
          "nofilter"
         ],
         "xaxis": "x33",
         "y": [
          0.6833333333333335,
          0.44999999999999996,
          0.44999999999999996,
          0.48333333333333334,
          0.5333333333333333,
          0.4166666666666667,
          0.4166666666666667,
          0.4166666666666667,
          0.26666666666666666,
          0.5166666666666666
         ],
         "yaxis": "y33"
        },
        {
         "line": {
          "color": "#FCCDE5"
         },
         "name": "org:political/religious_affiliation f1",
         "type": "scatter",
         "uid": "2c97e8b6-969a-45af-8bc1-e50ed2c1b189",
         "x": [
          "6f",
          "7f",
          "8f",
          "9f",
          "10f",
          "11f",
          "12f",
          "13f",
          "14f",
          "nofilter"
         ],
         "xaxis": "x33",
         "y": [
          0.43238333333333334,
          0.42811666666666665,
          0.3474333333333333,
          0.41853333333333326,
          0.43375,
          0.35683333333333334,
          0.44893333333333335,
          0.41365,
          0.33149999999999996,
          0.4887166666666667
         ],
         "yaxis": "y33"
        },
        {
         "line": {
          "color": "#CCEBC5"
         },
         "name": "per:religion precision",
         "type": "scatter",
         "uid": "b7d1f6d0-7cd7-4161-accf-c1332537fe77",
         "x": [
          "6f",
          "7f",
          "8f",
          "9f",
          "10f",
          "11f",
          "12f",
          "13f",
          "14f",
          "nofilter"
         ],
         "xaxis": "x34",
         "y": [
          0.5865666666666667,
          0.5781999999999999,
          0.5870666666666666,
          0.5966666666666667,
          0.6014666666666667,
          0.6273,
          0.6091833333333333,
          0.6983666666666667,
          0.6513166666666667,
          0.5916166666666668
         ],
         "yaxis": "y34"
        },
        {
         "line": {
          "color": "#BC80BD"
         },
         "name": "per:religion recall",
         "type": "scatter",
         "uid": "a697b47a-2082-42d3-b056-34d35c3739c7",
         "x": [
          "6f",
          "7f",
          "8f",
          "9f",
          "10f",
          "11f",
          "12f",
          "13f",
          "14f",
          "nofilter"
         ],
         "xaxis": "x34",
         "y": [
          0.6489333333333334,
          0.6524833333333333,
          0.5815666666666667,
          0.6134833333333333,
          0.6418666666666666,
          0.5460999999999999,
          0.5602666666666666,
          0.4751666666666667,
          0.49291666666666667,
          0.6205666666666666
         ],
         "yaxis": "y34"
        },
        {
         "line": {
          "color": "#FCCDE5"
         },
         "name": "per:religion f1",
         "type": "scatter",
         "uid": "a4e4b33d-e15e-49f3-9ebd-944422a1dfb7",
         "x": [
          "6f",
          "7f",
          "8f",
          "9f",
          "10f",
          "11f",
          "12f",
          "13f",
          "14f",
          "nofilter"
         ],
         "xaxis": "x34",
         "y": [
          0.6144333333333333,
          0.6038833333333334,
          0.5822833333333334,
          0.59885,
          0.6182333333333333,
          0.5809833333333334,
          0.5816,
          0.5649000000000001,
          0.5532,
          0.6023833333333334
         ],
         "yaxis": "y34"
        },
        {
         "line": {
          "color": "#CCEBC5"
         },
         "name": "org:number_of_employees/members precision",
         "type": "scatter",
         "uid": "d4436591-af16-4e5c-a139-1cb21b2c4502",
         "x": [
          "6f",
          "7f",
          "8f",
          "9f",
          "10f",
          "11f",
          "12f",
          "13f",
          "14f",
          "nofilter"
         ],
         "xaxis": "x35",
         "y": [
          0.6311166666666667,
          0.6420666666666668,
          0.7385333333333334,
          0.7047166666666667,
          0.68615,
          0.67745,
          0.7427333333333332,
          0.6981666666666667,
          0.7570833333333332,
          0.7567333333333334
         ],
         "yaxis": "y35"
        },
        {
         "line": {
          "color": "#BC80BD"
         },
         "name": "org:number_of_employees/members recall",
         "type": "scatter",
         "uid": "3d565a22-dbf5-407f-8d32-64e0d74c3dce",
         "x": [
          "6f",
          "7f",
          "8f",
          "9f",
          "10f",
          "11f",
          "12f",
          "13f",
          "14f",
          "nofilter"
         ],
         "xaxis": "x35",
         "y": [
          0.48245,
          0.7807,
          0.6228000000000001,
          0.6929666666666666,
          0.7544,
          0.7105166666666668,
          0.7280500000000001,
          0.64035,
          0.5438500000000001,
          0.6403333333333333
         ],
         "yaxis": "y35"
        },
        {
         "line": {
          "color": "#FCCDE5"
         },
         "name": "org:number_of_employees/members f1",
         "type": "scatter",
         "uid": "3d297d27-b517-403c-ab77-395dc7a682aa",
         "x": [
          "6f",
          "7f",
          "8f",
          "9f",
          "10f",
          "11f",
          "12f",
          "13f",
          "14f",
          "nofilter"
         ],
         "xaxis": "x35",
         "y": [
          0.5423833333333333,
          0.7039833333333334,
          0.6698666666666667,
          0.6950833333333333,
          0.7169333333333334,
          0.69155,
          0.7313166666666667,
          0.6641833333333335,
          0.6207,
          0.6860666666666667
         ],
         "yaxis": "y35"
        },
        {
         "line": {
          "color": "#CCEBC5"
         },
         "name": "per:city_of_birth precision",
         "type": "scatter",
         "uid": "2dea6f9d-fd8a-4856-8535-c110ac751797",
         "x": [
          "6f",
          "7f",
          "8f",
          "9f",
          "10f",
          "11f",
          "12f",
          "13f",
          "14f",
          "nofilter"
         ],
         "xaxis": "x36",
         "y": [
          0.30316666666666664,
          0.3972166666666666,
          0.43426666666666663,
          0.4527833333333333,
          0.5528000000000001,
          0.48333333333333334,
          0.5031833333333333,
          0.35000000000000003,
          0.38253333333333334,
          0.44999999999999996
         ],
         "yaxis": "y36"
        },
        {
         "line": {
          "color": "#BC80BD"
         },
         "name": "per:city_of_birth recall",
         "type": "scatter",
         "uid": "a555b148-dfd5-40b8-9ce9-37a74203e584",
         "x": [
          "6f",
          "7f",
          "8f",
          "9f",
          "10f",
          "11f",
          "12f",
          "13f",
          "14f",
          "nofilter"
         ],
         "xaxis": "x36",
         "y": [
          0.26666666666666666,
          0.3,
          0.3666666666666667,
          0.36666666666666664,
          0.3666666666666667,
          0.39999999999999997,
          0.39999999999999997,
          0.3333333333333333,
          0.43333333333333335,
          0.3666666666666667
         ],
         "yaxis": "y36"
        },
        {
         "line": {
          "color": "#FCCDE5"
         },
         "name": "per:city_of_birth f1",
         "type": "scatter",
         "uid": "4e7dfec5-213e-4b59-bd9a-eb1da464e32d",
         "x": [
          "6f",
          "7f",
          "8f",
          "9f",
          "10f",
          "11f",
          "12f",
          "13f",
          "14f",
          "nofilter"
         ],
         "xaxis": "x36",
         "y": [
          0.2786833333333333,
          0.33371666666666666,
          0.38465,
          0.4018333333333333,
          0.43703333333333333,
          0.4328,
          0.4328166666666666,
          0.34073333333333333,
          0.40453333333333336,
          0.39575000000000005
         ],
         "yaxis": "y36"
        },
        {
         "line": {
          "color": "#CCEBC5"
         },
         "name": "per:date_of_birth precision",
         "type": "scatter",
         "uid": "f330e8dd-9852-416b-97e1-5f87ded7078b",
         "x": [
          "6f",
          "7f",
          "8f",
          "9f",
          "10f",
          "11f",
          "12f",
          "13f",
          "14f",
          "nofilter"
         ],
         "xaxis": "x37",
         "y": [
          0.7554500000000001,
          0.8151333333333334,
          0.7826666666666666,
          0.7933166666666667,
          0.8736666666666667,
          0.7785666666666667,
          0.8130666666666667,
          0.8551500000000001,
          0.8595166666666666,
          0.832
         ],
         "yaxis": "y37"
        },
        {
         "line": {
          "color": "#BC80BD"
         },
         "name": "per:date_of_birth recall",
         "type": "scatter",
         "uid": "bc6b437f-8585-4790-8628-7a09b769dbe4",
         "x": [
          "6f",
          "7f",
          "8f",
          "9f",
          "10f",
          "11f",
          "12f",
          "13f",
          "14f",
          "nofilter"
         ],
         "xaxis": "x37",
         "y": [
          0.7407666666666667,
          0.7037333333333334,
          0.7037333333333334,
          0.7407666666666667,
          0.72225,
          0.6481833333333333,
          0.6852166666666667,
          0.7037333333333334,
          0.7037333333333332,
          0.7037333333333334
         ],
         "yaxis": "y37"
        },
        {
         "line": {
          "color": "#FCCDE5"
         },
         "name": "per:date_of_birth f1",
         "type": "scatter",
         "uid": "a0a490fe-57c9-45b0-8f23-2d1e51135776",
         "x": [
          "6f",
          "7f",
          "8f",
          "9f",
          "10f",
          "11f",
          "12f",
          "13f",
          "14f",
          "nofilter"
         ],
         "xaxis": "x37",
         "y": [
          0.7428666666666667,
          0.753,
          0.7346666666666667,
          0.75995,
          0.7874666666666666,
          0.7030666666666668,
          0.74045,
          0.7689500000000001,
          0.7673166666666668,
          0.7607666666666666
         ],
         "yaxis": "y37"
        },
        {
         "line": {
          "color": "#CCEBC5"
         },
         "name": "per:stateorprovince_of_death precision",
         "type": "scatter",
         "uid": "8e2370f2-ae50-4d83-927f-34fd8344f73d",
         "x": [
          "6f",
          "7f",
          "8f",
          "9f",
          "10f",
          "11f",
          "12f",
          "13f",
          "14f",
          "nofilter"
         ],
         "xaxis": "x38",
         "y": [
          0.6944666666666666,
          0.6666833333333333,
          0.7222333333333334,
          0.6944666666666667,
          0.6666833333333333,
          0.6667,
          0.6694666666666667,
          0.6944666666666667,
          0.6111166666666666,
          0.68335
         ],
         "yaxis": "y38"
        },
        {
         "line": {
          "color": "#BC80BD"
         },
         "name": "per:stateorprovince_of_death recall",
         "type": "scatter",
         "uid": "7a41f607-b625-4fc8-9f2a-182ab362605a",
         "x": [
          "6f",
          "7f",
          "8f",
          "9f",
          "10f",
          "11f",
          "12f",
          "13f",
          "14f",
          "nofilter"
         ],
         "xaxis": "x38",
         "y": [
          0.1905,
          0.1667,
          0.19049999999999997,
          0.1667,
          0.1667,
          0.1429,
          0.1667,
          0.1667,
          0.1667,
          0.17859999999999998
         ],
         "yaxis": "y38"
        },
        {
         "line": {
          "color": "#FCCDE5"
         },
         "name": "per:stateorprovince_of_death f1",
         "type": "scatter",
         "uid": "9badb52a-f7dc-4200-9ae2-eb11dfccabf8",
         "x": [
          "6f",
          "7f",
          "8f",
          "9f",
          "10f",
          "11f",
          "12f",
          "13f",
          "14f",
          "nofilter"
         ],
         "xaxis": "x38",
         "y": [
          0.29541666666666666,
          0.2657833333333333,
          0.3006333333333333,
          0.2679666666666667,
          0.26578333333333337,
          0.23530000000000004,
          0.26505000000000006,
          0.2679666666666667,
          0.26141666666666663,
          0.2813833333333334
         ],
         "yaxis": "y38"
        },
        {
         "line": {
          "color": "#CCEBC5"
         },
         "name": "per:stateorprovince_of_birth precision",
         "type": "scatter",
         "uid": "ed1d830a-c227-4120-b3b1-3f4601e95d64",
         "x": [
          "6f",
          "7f",
          "8f",
          "9f",
          "10f",
          "11f",
          "12f",
          "13f",
          "14f",
          "nofilter"
         ],
         "xaxis": "x39",
         "y": [
          0.43146666666666667,
          0.4164833333333333,
          0.4026666666666667,
          0.437,
          0.44626666666666664,
          0.45366666666666666,
          0.40368333333333334,
          0.4439666666666666,
          0.4074,
          0.43283333333333335
         ],
         "yaxis": "y39"
        },
        {
         "line": {
          "color": "#BC80BD"
         },
         "name": "per:stateorprovince_of_birth recall",
         "type": "scatter",
         "uid": "a9eb1c5a-16cd-43f3-bb9a-4e8ad9ea82f4",
         "x": [
          "6f",
          "7f",
          "8f",
          "9f",
          "10f",
          "11f",
          "12f",
          "13f",
          "14f",
          "nofilter"
         ],
         "xaxis": "x39",
         "y": [
          0.5,
          0.5208333333333334,
          0.5,
          0.5,
          0.5,
          0.5,
          0.5,
          0.4791666666666667,
          0.5,
          0.4791666666666667
         ],
         "yaxis": "y39"
        },
        {
         "line": {
          "color": "#FCCDE5"
         },
         "name": "per:stateorprovince_of_birth f1",
         "type": "scatter",
         "uid": "1ee3b301-3922-40b4-9472-1a4ddf3c061c",
         "x": [
          "6f",
          "7f",
          "8f",
          "9f",
          "10f",
          "11f",
          "12f",
          "13f",
          "14f",
          "nofilter"
         ],
         "xaxis": "x39",
         "y": [
          0.4624000000000001,
          0.46241666666666664,
          0.4453666666666667,
          0.46623333333333344,
          0.47113333333333335,
          0.47550000000000003,
          0.4457333333333333,
          0.4601,
          0.4487666666666666,
          0.4546666666666667
         ],
         "yaxis": "y39"
        },
        {
         "line": {
          "color": "#CCEBC5"
         },
         "name": "per:country_of_death precision",
         "type": "scatter",
         "uid": "47d7632f-6809-4d81-a3c2-0cd843c4d8e7",
         "x": [
          "6f",
          "7f",
          "8f",
          "9f",
          "10f",
          "11f",
          "12f",
          "13f",
          "14f",
          "nofilter"
         ],
         "xaxis": "x40",
         "y": [
          1,
          1,
          1,
          1,
          1,
          1,
          1,
          1,
          1,
          1
         ],
         "yaxis": "y40"
        },
        {
         "line": {
          "color": "#BC80BD"
         },
         "name": "per:country_of_death recall",
         "type": "scatter",
         "uid": "e78dfd36-8089-4dbf-b408-afb40fad5c8e",
         "x": [
          "6f",
          "7f",
          "8f",
          "9f",
          "10f",
          "11f",
          "12f",
          "13f",
          "14f",
          "nofilter"
         ],
         "xaxis": "x40",
         "y": [
          0,
          0,
          0,
          0,
          0,
          0,
          0,
          0,
          0,
          0
         ],
         "yaxis": "y40"
        },
        {
         "line": {
          "color": "#FCCDE5"
         },
         "name": "per:country_of_death f1",
         "type": "scatter",
         "uid": "88445313-e071-4bfc-9576-aed01242bdfc",
         "x": [
          "6f",
          "7f",
          "8f",
          "9f",
          "10f",
          "11f",
          "12f",
          "13f",
          "14f",
          "nofilter"
         ],
         "xaxis": "x40",
         "y": [
          0,
          0,
          0,
          0,
          0,
          0,
          0,
          0,
          0,
          0
         ],
         "yaxis": "y40"
        },
        {
         "line": {
          "color": "#CCEBC5"
         },
         "name": "per:country_of_birth precision",
         "type": "scatter",
         "uid": "0576f39b-5860-471e-9e2a-ed1cc551857f",
         "x": [
          "6f",
          "7f",
          "8f",
          "9f",
          "10f",
          "11f",
          "12f",
          "13f",
          "14f",
          "nofilter"
         ],
         "xaxis": "x41",
         "y": [
          0.3333333333333333,
          0.16666666666666666,
          0.07196666666666666,
          0.16666666666666666,
          0.19999999999999998,
          0.16666666666666666,
          0.075,
          0,
          0.4083333333333334,
          0.3333333333333333
         ],
         "yaxis": "y41"
        },
        {
         "line": {
          "color": "#BC80BD"
         },
         "name": "per:country_of_birth recall",
         "type": "scatter",
         "uid": "6fda7366-1241-4432-9ef0-07b7e21407cc",
         "x": [
          "6f",
          "7f",
          "8f",
          "9f",
          "10f",
          "11f",
          "12f",
          "13f",
          "14f",
          "nofilter"
         ],
         "xaxis": "x41",
         "y": [
          0,
          0,
          0.10000000000000002,
          0,
          0.03333333333333333,
          0,
          0.06666666666666667,
          0,
          0.06666666666666667,
          0
         ],
         "yaxis": "y41"
        },
        {
         "line": {
          "color": "#FCCDE5"
         },
         "name": "per:country_of_birth f1",
         "type": "scatter",
         "uid": "a9b3fc32-cc7a-4860-a548-6abb62b48228",
         "x": [
          "6f",
          "7f",
          "8f",
          "9f",
          "10f",
          "11f",
          "12f",
          "13f",
          "14f",
          "nofilter"
         ],
         "xaxis": "x41",
         "y": [
          0,
          0,
          0.0787,
          0,
          0.03333333333333333,
          0,
          0.07036666666666667,
          0,
          0.07036666666666667,
          0
         ],
         "yaxis": "y41"
        },
        {
         "line": {
          "color": "#CCEBC5"
         },
         "name": "org:dissolved precision",
         "type": "scatter",
         "uid": "e2b07364-89a4-4d3f-a039-371424b45ae2",
         "x": [
          "6f",
          "7f",
          "8f",
          "9f",
          "10f",
          "11f",
          "12f",
          "13f",
          "14f",
          "nofilter"
         ],
         "xaxis": "x42",
         "y": [
          1,
          1,
          1,
          1,
          1,
          1,
          1,
          1,
          1,
          1
         ],
         "yaxis": "y42"
        },
        {
         "line": {
          "color": "#BC80BD"
         },
         "name": "org:dissolved recall",
         "type": "scatter",
         "uid": "c55aa758-a975-4533-8851-07d128fb412f",
         "x": [
          "6f",
          "7f",
          "8f",
          "9f",
          "10f",
          "11f",
          "12f",
          "13f",
          "14f",
          "nofilter"
         ],
         "xaxis": "x42",
         "y": [
          0,
          0,
          0,
          0,
          0,
          0,
          0,
          0,
          0,
          0
         ],
         "yaxis": "y42"
        },
        {
         "line": {
          "color": "#FCCDE5"
         },
         "name": "org:dissolved f1",
         "type": "scatter",
         "uid": "ad474085-bfec-457c-851f-d0f3b8aa55c1",
         "x": [
          "6f",
          "7f",
          "8f",
          "9f",
          "10f",
          "11f",
          "12f",
          "13f",
          "14f",
          "nofilter"
         ],
         "xaxis": "x42",
         "y": [
          0,
          0,
          0,
          0,
          0,
          0,
          0,
          0,
          0,
          0
         ],
         "yaxis": "y42"
        }
       ],
       "layout": {
        "annotations": [
         {
          "font": {
           "family": "Arial",
           "size": 10
          },
          "showarrow": false,
          "text": "total (18,448)",
          "x": 0.14444444444444446,
          "xanchor": "center",
          "xref": "paper",
          "y": 1,
          "yanchor": "bottom",
          "yref": "paper"
         },
         {
          "font": {
           "family": "Arial",
           "size": 10
          },
          "showarrow": false,
          "text": "per:title (3,362)",
          "x": 0.5,
          "xanchor": "center",
          "xref": "paper",
          "y": 1,
          "yanchor": "bottom",
          "yref": "paper"
         },
         {
          "font": {
           "family": "Arial",
           "size": 10
          },
          "showarrow": false,
          "text": "org:top_members/employees (2,424)",
          "x": 0.8555555555555556,
          "xanchor": "center",
          "xref": "paper",
          "y": 1,
          "yanchor": "bottom",
          "yref": "paper"
         },
         {
          "font": {
           "family": "Arial",
           "size": 10
          },
          "showarrow": false,
          "text": "per:employee_of (1,899)",
          "x": 0.14444444444444446,
          "xanchor": "center",
          "xref": "paper",
          "y": 0.9260204081632654,
          "yanchor": "bottom",
          "yref": "paper"
         },
         {
          "font": {
           "family": "Arial",
           "size": 10
          },
          "showarrow": false,
          "text": "org:alternate_names (1,146)",
          "x": 0.5,
          "xanchor": "center",
          "xref": "paper",
          "y": 0.9260204081632654,
          "yanchor": "bottom",
          "yref": "paper"
         },
         {
          "font": {
           "family": "Arial",
           "size": 10
          },
          "showarrow": false,
          "text": "per:countries_of_residence (671)",
          "x": 0.8555555555555556,
          "xanchor": "center",
          "xref": "paper",
          "y": 0.9260204081632654,
          "yanchor": "bottom",
          "yref": "paper"
         },
         {
          "font": {
           "family": "Arial",
           "size": 10
          },
          "showarrow": false,
          "text": "org:country_of_headquarters (645)",
          "x": 0.14444444444444446,
          "xanchor": "center",
          "xref": "paper",
          "y": 0.8520408163265307,
          "yanchor": "bottom",
          "yref": "paper"
         },
         {
          "font": {
           "family": "Arial",
           "size": 10
          },
          "showarrow": false,
          "text": "per:age (633)",
          "x": 0.5,
          "xanchor": "center",
          "xref": "paper",
          "y": 0.8520408163265307,
          "yanchor": "bottom",
          "yref": "paper"
         },
         {
          "font": {
           "family": "Arial",
           "size": 10
          },
          "showarrow": false,
          "text": "per:cities_of_residence (553)",
          "x": 0.8555555555555556,
          "xanchor": "center",
          "xref": "paper",
          "y": 0.8520408163265307,
          "yanchor": "bottom",
          "yref": "paper"
         },
         {
          "font": {
           "family": "Arial",
           "size": 10
          },
          "showarrow": false,
          "text": "per:origin (535)",
          "x": 0.14444444444444446,
          "xanchor": "center",
          "xref": "paper",
          "y": 0.778061224489796,
          "yanchor": "bottom",
          "yref": "paper"
         },
         {
          "font": {
           "family": "Arial",
           "size": 10
          },
          "showarrow": false,
          "text": "org:city_of_headquarters (491)",
          "x": 0.5,
          "xanchor": "center",
          "xref": "paper",
          "y": 0.778061224489796,
          "yanchor": "bottom",
          "yref": "paper"
         },
         {
          "font": {
           "family": "Arial",
           "size": 10
          },
          "showarrow": false,
          "text": "per:spouse (417)",
          "x": 0.8555555555555556,
          "xanchor": "center",
          "xref": "paper",
          "y": 0.778061224489796,
          "yanchor": "bottom",
          "yref": "paper"
         },
         {
          "font": {
           "family": "Arial",
           "size": 10
          },
          "showarrow": false,
          "text": "org:subsidiaries (409)",
          "x": 0.14444444444444446,
          "xanchor": "center",
          "xref": "paper",
          "y": 0.7040816326530612,
          "yanchor": "bottom",
          "yref": "paper"
         },
         {
          "font": {
           "family": "Arial",
           "size": 10
          },
          "showarrow": false,
          "text": "per:stateorprovinces_of_residence (403)",
          "x": 0.5,
          "xanchor": "center",
          "xref": "paper",
          "y": 0.7040816326530612,
          "yanchor": "bottom",
          "yref": "paper"
         },
         {
          "font": {
           "family": "Arial",
           "size": 10
          },
          "showarrow": false,
          "text": "org:parents (382)",
          "x": 0.8555555555555556,
          "xanchor": "center",
          "xref": "paper",
          "y": 0.7040816326530612,
          "yanchor": "bottom",
          "yref": "paper"
         },
         {
          "font": {
           "family": "Arial",
           "size": 10
          },
          "showarrow": false,
          "text": "per:date_of_death (340)",
          "x": 0.14444444444444446,
          "xanchor": "center",
          "xref": "paper",
          "y": 0.6301020408163265,
          "yanchor": "bottom",
          "yref": "paper"
         },
         {
          "font": {
           "family": "Arial",
           "size": 10
          },
          "showarrow": false,
          "text": "per:children (310)",
          "x": 0.5,
          "xanchor": "center",
          "xref": "paper",
          "y": 0.6301020408163265,
          "yanchor": "bottom",
          "yref": "paper"
         },
         {
          "font": {
           "family": "Arial",
           "size": 10
          },
          "showarrow": false,
          "text": "org:stateorprovince_of_headquarters (299)",
          "x": 0.8555555555555556,
          "xanchor": "center",
          "xref": "paper",
          "y": 0.6301020408163265,
          "yanchor": "bottom",
          "yref": "paper"
         },
         {
          "font": {
           "family": "Arial",
           "size": 10
          },
          "showarrow": false,
          "text": "per:cause_of_death (285)",
          "x": 0.14444444444444446,
          "xanchor": "center",
          "xref": "paper",
          "y": 0.5561224489795918,
          "yanchor": "bottom",
          "yref": "paper"
         },
         {
          "font": {
           "family": "Arial",
           "size": 10
          },
          "showarrow": false,
          "text": "per:other_family (259)",
          "x": 0.5,
          "xanchor": "center",
          "xref": "paper",
          "y": 0.5561224489795918,
          "yanchor": "bottom",
          "yref": "paper"
         },
         {
          "font": {
           "family": "Arial",
           "size": 10
          },
          "showarrow": false,
          "text": "org:members (255)",
          "x": 0.8555555555555556,
          "xanchor": "center",
          "xref": "paper",
          "y": 0.5561224489795918,
          "yanchor": "bottom",
          "yref": "paper"
         },
         {
          "font": {
           "family": "Arial",
           "size": 10
          },
          "showarrow": false,
          "text": "per:parents (208)",
          "x": 0.14444444444444446,
          "xanchor": "center",
          "xref": "paper",
          "y": 0.4821428571428572,
          "yanchor": "bottom",
          "yref": "paper"
         },
         {
          "font": {
           "family": "Arial",
           "size": 10
          },
          "showarrow": false,
          "text": "org:founded_by (200)",
          "x": 0.5,
          "xanchor": "center",
          "xref": "paper",
          "y": 0.4821428571428572,
          "yanchor": "bottom",
          "yref": "paper"
         },
         {
          "font": {
           "family": "Arial",
           "size": 10
          },
          "showarrow": false,
          "text": "per:city_of_death (199)",
          "x": 0.8555555555555556,
          "xanchor": "center",
          "xref": "paper",
          "y": 0.4821428571428572,
          "yanchor": "bottom",
          "yref": "paper"
         },
         {
          "font": {
           "family": "Arial",
           "size": 10
          },
          "showarrow": false,
          "text": "per:schools_attended (199)",
          "x": 0.14444444444444446,
          "xanchor": "center",
          "xref": "paper",
          "y": 0.4081632653061225,
          "yanchor": "bottom",
          "yref": "paper"
         },
         {
          "font": {
           "family": "Arial",
           "size": 10
          },
          "showarrow": false,
          "text": "org:website (197)",
          "x": 0.5,
          "xanchor": "center",
          "xref": "paper",
          "y": 0.4081632653061225,
          "yanchor": "bottom",
          "yref": "paper"
         },
         {
          "font": {
           "family": "Arial",
           "size": 10
          },
          "showarrow": false,
          "text": "per:siblings (195)",
          "x": 0.8555555555555556,
          "xanchor": "center",
          "xref": "paper",
          "y": 0.4081632653061225,
          "yanchor": "bottom",
          "yref": "paper"
         },
         {
          "font": {
           "family": "Arial",
           "size": 10
          },
          "showarrow": false,
          "text": "per:charges (177)",
          "x": 0.14444444444444446,
          "xanchor": "center",
          "xref": "paper",
          "y": 0.33418367346938777,
          "yanchor": "bottom",
          "yref": "paper"
         },
         {
          "font": {
           "family": "Arial",
           "size": 10
          },
          "showarrow": false,
          "text": "org:member_of (153)",
          "x": 0.5,
          "xanchor": "center",
          "xref": "paper",
          "y": 0.33418367346938777,
          "yanchor": "bottom",
          "yref": "paper"
         },
         {
          "font": {
           "family": "Arial",
           "size": 10
          },
          "showarrow": false,
          "text": "per:alternate_names (142)",
          "x": 0.8555555555555556,
          "xanchor": "center",
          "xref": "paper",
          "y": 0.33418367346938777,
          "yanchor": "bottom",
          "yref": "paper"
         },
         {
          "font": {
           "family": "Arial",
           "size": 10
          },
          "showarrow": false,
          "text": "org:shareholders (131)",
          "x": 0.14444444444444446,
          "xanchor": "center",
          "xref": "paper",
          "y": 0.2602040816326531,
          "yanchor": "bottom",
          "yref": "paper"
         },
         {
          "font": {
           "family": "Arial",
           "size": 10
          },
          "showarrow": false,
          "text": "org:founded (129)",
          "x": 0.5,
          "xanchor": "center",
          "xref": "paper",
          "y": 0.2602040816326531,
          "yanchor": "bottom",
          "yref": "paper"
         },
         {
          "font": {
           "family": "Arial",
           "size": 10
          },
          "showarrow": false,
          "text": "org:political/religious_affiliation (115)",
          "x": 0.8555555555555556,
          "xanchor": "center",
          "xref": "paper",
          "y": 0.2602040816326531,
          "yanchor": "bottom",
          "yref": "paper"
         },
         {
          "font": {
           "family": "Arial",
           "size": 10
          },
          "showarrow": false,
          "text": "per:religion (106)",
          "x": 0.14444444444444446,
          "xanchor": "center",
          "xref": "paper",
          "y": 0.18622448979591838,
          "yanchor": "bottom",
          "yref": "paper"
         },
         {
          "font": {
           "family": "Arial",
           "size": 10
          },
          "showarrow": false,
          "text": "org:number_of_employees/members (102)",
          "x": 0.5,
          "xanchor": "center",
          "xref": "paper",
          "y": 0.18622448979591838,
          "yanchor": "bottom",
          "yref": "paper"
         },
         {
          "font": {
           "family": "Arial",
           "size": 10
          },
          "showarrow": false,
          "text": "per:city_of_birth (98)",
          "x": 0.8555555555555556,
          "xanchor": "center",
          "xref": "paper",
          "y": 0.18622448979591838,
          "yanchor": "bottom",
          "yref": "paper"
         },
         {
          "font": {
           "family": "Arial",
           "size": 10
          },
          "showarrow": false,
          "text": "per:date_of_birth (94)",
          "x": 0.14444444444444446,
          "xanchor": "center",
          "xref": "paper",
          "y": 0.11224489795918369,
          "yanchor": "bottom",
          "yref": "paper"
         },
         {
          "font": {
           "family": "Arial",
           "size": 10
          },
          "showarrow": false,
          "text": "per:stateorprovince_of_death (90)",
          "x": 0.5,
          "xanchor": "center",
          "xref": "paper",
          "y": 0.11224489795918369,
          "yanchor": "bottom",
          "yref": "paper"
         },
         {
          "font": {
           "family": "Arial",
           "size": 10
          },
          "showarrow": false,
          "text": "per:stateorprovince_of_birth (64)",
          "x": 0.8555555555555556,
          "xanchor": "center",
          "xref": "paper",
          "y": 0.11224489795918369,
          "yanchor": "bottom",
          "yref": "paper"
         },
         {
          "font": {
           "family": "Arial",
           "size": 10
          },
          "showarrow": false,
          "text": "per:country_of_death (52)",
          "x": 0.14444444444444446,
          "xanchor": "center",
          "xref": "paper",
          "y": 0.03826530612244899,
          "yanchor": "bottom",
          "yref": "paper"
         },
         {
          "font": {
           "family": "Arial",
           "size": 10
          },
          "showarrow": false,
          "text": "per:country_of_birth (48)",
          "x": 0.5,
          "xanchor": "center",
          "xref": "paper",
          "y": 0.03826530612244899,
          "yanchor": "bottom",
          "yref": "paper"
         },
         {
          "font": {
           "family": "Arial",
           "size": 10
          },
          "showarrow": false,
          "text": "org:dissolved (31)",
          "x": 0.8555555555555556,
          "xanchor": "center",
          "xref": "paper",
          "y": 0.03826530612244899,
          "yanchor": "bottom",
          "yref": "paper"
         }
        ],
        "font": {
         "family": "Arial",
         "size": 12
        },
        "height": 3000,
        "title": {
         "text": "UCCA Filtering Results"
        },
        "width": 1500,
        "xaxis": {
         "anchor": "y",
         "domain": [
          0,
          0.2888888888888889
         ]
        },
        "xaxis10": {
         "anchor": "y10",
         "domain": [
          0,
          0.2888888888888889
         ]
        },
        "xaxis11": {
         "anchor": "y11",
         "domain": [
          0.35555555555555557,
          0.6444444444444445
         ]
        },
        "xaxis12": {
         "anchor": "y12",
         "domain": [
          0.7111111111111111,
          1
         ]
        },
        "xaxis13": {
         "anchor": "y13",
         "domain": [
          0,
          0.2888888888888889
         ]
        },
        "xaxis14": {
         "anchor": "y14",
         "domain": [
          0.35555555555555557,
          0.6444444444444445
         ]
        },
        "xaxis15": {
         "anchor": "y15",
         "domain": [
          0.7111111111111111,
          1
         ]
        },
        "xaxis16": {
         "anchor": "y16",
         "domain": [
          0,
          0.2888888888888889
         ]
        },
        "xaxis17": {
         "anchor": "y17",
         "domain": [
          0.35555555555555557,
          0.6444444444444445
         ]
        },
        "xaxis18": {
         "anchor": "y18",
         "domain": [
          0.7111111111111111,
          1
         ]
        },
        "xaxis19": {
         "anchor": "y19",
         "domain": [
          0,
          0.2888888888888889
         ]
        },
        "xaxis2": {
         "anchor": "y2",
         "domain": [
          0.35555555555555557,
          0.6444444444444445
         ]
        },
        "xaxis20": {
         "anchor": "y20",
         "domain": [
          0.35555555555555557,
          0.6444444444444445
         ]
        },
        "xaxis21": {
         "anchor": "y21",
         "domain": [
          0.7111111111111111,
          1
         ]
        },
        "xaxis22": {
         "anchor": "y22",
         "domain": [
          0,
          0.2888888888888889
         ]
        },
        "xaxis23": {
         "anchor": "y23",
         "domain": [
          0.35555555555555557,
          0.6444444444444445
         ]
        },
        "xaxis24": {
         "anchor": "y24",
         "domain": [
          0.7111111111111111,
          1
         ]
        },
        "xaxis25": {
         "anchor": "y25",
         "domain": [
          0,
          0.2888888888888889
         ]
        },
        "xaxis26": {
         "anchor": "y26",
         "domain": [
          0.35555555555555557,
          0.6444444444444445
         ]
        },
        "xaxis27": {
         "anchor": "y27",
         "domain": [
          0.7111111111111111,
          1
         ]
        },
        "xaxis28": {
         "anchor": "y28",
         "domain": [
          0,
          0.2888888888888889
         ]
        },
        "xaxis29": {
         "anchor": "y29",
         "domain": [
          0.35555555555555557,
          0.6444444444444445
         ]
        },
        "xaxis3": {
         "anchor": "y3",
         "domain": [
          0.7111111111111111,
          1
         ]
        },
        "xaxis30": {
         "anchor": "y30",
         "domain": [
          0.7111111111111111,
          1
         ]
        },
        "xaxis31": {
         "anchor": "y31",
         "domain": [
          0,
          0.2888888888888889
         ]
        },
        "xaxis32": {
         "anchor": "y32",
         "domain": [
          0.35555555555555557,
          0.6444444444444445
         ]
        },
        "xaxis33": {
         "anchor": "y33",
         "domain": [
          0.7111111111111111,
          1
         ]
        },
        "xaxis34": {
         "anchor": "y34",
         "domain": [
          0,
          0.2888888888888889
         ]
        },
        "xaxis35": {
         "anchor": "y35",
         "domain": [
          0.35555555555555557,
          0.6444444444444445
         ]
        },
        "xaxis36": {
         "anchor": "y36",
         "domain": [
          0.7111111111111111,
          1
         ]
        },
        "xaxis37": {
         "anchor": "y37",
         "domain": [
          0,
          0.2888888888888889
         ]
        },
        "xaxis38": {
         "anchor": "y38",
         "domain": [
          0.35555555555555557,
          0.6444444444444445
         ]
        },
        "xaxis39": {
         "anchor": "y39",
         "domain": [
          0.7111111111111111,
          1
         ]
        },
        "xaxis4": {
         "anchor": "y4",
         "domain": [
          0,
          0.2888888888888889
         ]
        },
        "xaxis40": {
         "anchor": "y40",
         "domain": [
          0,
          0.2888888888888889
         ]
        },
        "xaxis41": {
         "anchor": "y41",
         "domain": [
          0.35555555555555557,
          0.6444444444444445
         ]
        },
        "xaxis42": {
         "anchor": "y42",
         "domain": [
          0.7111111111111111,
          1
         ]
        },
        "xaxis5": {
         "anchor": "y5",
         "domain": [
          0.35555555555555557,
          0.6444444444444445
         ]
        },
        "xaxis6": {
         "anchor": "y6",
         "domain": [
          0.7111111111111111,
          1
         ]
        },
        "xaxis7": {
         "anchor": "y7",
         "domain": [
          0,
          0.2888888888888889
         ]
        },
        "xaxis8": {
         "anchor": "y8",
         "domain": [
          0.35555555555555557,
          0.6444444444444445
         ]
        },
        "xaxis9": {
         "anchor": "y9",
         "domain": [
          0.7111111111111111,
          1
         ]
        },
        "yaxis": {
         "anchor": "x",
         "domain": [
          0.9617346938775511,
          1
         ]
        },
        "yaxis10": {
         "anchor": "x10",
         "domain": [
          0.739795918367347,
          0.778061224489796
         ]
        },
        "yaxis11": {
         "anchor": "x11",
         "domain": [
          0.739795918367347,
          0.778061224489796
         ]
        },
        "yaxis12": {
         "anchor": "x12",
         "domain": [
          0.739795918367347,
          0.778061224489796
         ]
        },
        "yaxis13": {
         "anchor": "x13",
         "domain": [
          0.6658163265306123,
          0.7040816326530612
         ]
        },
        "yaxis14": {
         "anchor": "x14",
         "domain": [
          0.6658163265306123,
          0.7040816326530612
         ]
        },
        "yaxis15": {
         "anchor": "x15",
         "domain": [
          0.6658163265306123,
          0.7040816326530612
         ]
        },
        "yaxis16": {
         "anchor": "x16",
         "domain": [
          0.5918367346938775,
          0.6301020408163265
         ]
        },
        "yaxis17": {
         "anchor": "x17",
         "domain": [
          0.5918367346938775,
          0.6301020408163265
         ]
        },
        "yaxis18": {
         "anchor": "x18",
         "domain": [
          0.5918367346938775,
          0.6301020408163265
         ]
        },
        "yaxis19": {
         "anchor": "x19",
         "domain": [
          0.5178571428571429,
          0.5561224489795918
         ]
        },
        "yaxis2": {
         "anchor": "x2",
         "domain": [
          0.9617346938775511,
          1
         ]
        },
        "yaxis20": {
         "anchor": "x20",
         "domain": [
          0.5178571428571429,
          0.5561224489795918
         ]
        },
        "yaxis21": {
         "anchor": "x21",
         "domain": [
          0.5178571428571429,
          0.5561224489795918
         ]
        },
        "yaxis22": {
         "anchor": "x22",
         "domain": [
          0.4438775510204082,
          0.4821428571428572
         ]
        },
        "yaxis23": {
         "anchor": "x23",
         "domain": [
          0.4438775510204082,
          0.4821428571428572
         ]
        },
        "yaxis24": {
         "anchor": "x24",
         "domain": [
          0.4438775510204082,
          0.4821428571428572
         ]
        },
        "yaxis25": {
         "anchor": "x25",
         "domain": [
          0.3698979591836735,
          0.4081632653061225
         ]
        },
        "yaxis26": {
         "anchor": "x26",
         "domain": [
          0.3698979591836735,
          0.4081632653061225
         ]
        },
        "yaxis27": {
         "anchor": "x27",
         "domain": [
          0.3698979591836735,
          0.4081632653061225
         ]
        },
        "yaxis28": {
         "anchor": "x28",
         "domain": [
          0.29591836734693877,
          0.33418367346938777
         ]
        },
        "yaxis29": {
         "anchor": "x29",
         "domain": [
          0.29591836734693877,
          0.33418367346938777
         ]
        },
        "yaxis3": {
         "anchor": "x3",
         "domain": [
          0.9617346938775511,
          1
         ]
        },
        "yaxis30": {
         "anchor": "x30",
         "domain": [
          0.29591836734693877,
          0.33418367346938777
         ]
        },
        "yaxis31": {
         "anchor": "x31",
         "domain": [
          0.22193877551020408,
          0.2602040816326531
         ]
        },
        "yaxis32": {
         "anchor": "x32",
         "domain": [
          0.22193877551020408,
          0.2602040816326531
         ]
        },
        "yaxis33": {
         "anchor": "x33",
         "domain": [
          0.22193877551020408,
          0.2602040816326531
         ]
        },
        "yaxis34": {
         "anchor": "x34",
         "domain": [
          0.14795918367346939,
          0.18622448979591838
         ]
        },
        "yaxis35": {
         "anchor": "x35",
         "domain": [
          0.14795918367346939,
          0.18622448979591838
         ]
        },
        "yaxis36": {
         "anchor": "x36",
         "domain": [
          0.14795918367346939,
          0.18622448979591838
         ]
        },
        "yaxis37": {
         "anchor": "x37",
         "domain": [
          0.07397959183673469,
          0.11224489795918369
         ]
        },
        "yaxis38": {
         "anchor": "x38",
         "domain": [
          0.07397959183673469,
          0.11224489795918369
         ]
        },
        "yaxis39": {
         "anchor": "x39",
         "domain": [
          0.07397959183673469,
          0.11224489795918369
         ]
        },
        "yaxis4": {
         "anchor": "x4",
         "domain": [
          0.8877551020408164,
          0.9260204081632654
         ]
        },
        "yaxis40": {
         "anchor": "x40",
         "domain": [
          0,
          0.03826530612244899
         ]
        },
        "yaxis41": {
         "anchor": "x41",
         "domain": [
          0,
          0.03826530612244899
         ]
        },
        "yaxis42": {
         "anchor": "x42",
         "domain": [
          0,
          0.03826530612244899
         ]
        },
        "yaxis5": {
         "anchor": "x5",
         "domain": [
          0.8877551020408164,
          0.9260204081632654
         ]
        },
        "yaxis6": {
         "anchor": "x6",
         "domain": [
          0.8877551020408164,
          0.9260204081632654
         ]
        },
        "yaxis7": {
         "anchor": "x7",
         "domain": [
          0.8137755102040818,
          0.8520408163265307
         ]
        },
        "yaxis8": {
         "anchor": "x8",
         "domain": [
          0.8137755102040818,
          0.8520408163265307
         ]
        },
        "yaxis9": {
         "anchor": "x9",
         "domain": [
          0.8137755102040818,
          0.8520408163265307
         ]
        }
       }
      },
      "text/html": [
       "<div>\n",
       "        \n",
       "        \n",
       "            <div id=\"12af03b5-2c6c-4fd0-8a98-65fe137cb6e5\" class=\"plotly-graph-div\" style=\"height:3000px; width:1500px;\"></div>\n",
       "            <script type=\"text/javascript\">\n",
       "                require([\"plotly\"], function(Plotly) {\n",
       "                    window.PLOTLYENV=window.PLOTLYENV || {};\n",
       "                    window.PLOTLYENV.BASE_URL='https://plot.ly';\n",
       "                    \n",
       "                if (document.getElementById(\"12af03b5-2c6c-4fd0-8a98-65fe137cb6e5\")) {\n",
       "                    Plotly.newPlot(\n",
       "                        '12af03b5-2c6c-4fd0-8a98-65fe137cb6e5',\n",
       "                        [{\"line\": {\"color\": \"#CCEBC5\"}, \"name\": \"total precision\", \"type\": \"scatter\", \"uid\": \"8be9abe7-7f7c-48cb-ab0f-bad8b9693d07\", \"x\": [\"6f\", \"7f\", \"8f\", \"9f\", \"10f\", \"11f\", \"12f\", \"13f\", \"14f\", \"nofilter\"], \"xaxis\": \"x\", \"y\": [0.6741666666666667, 0.6920833333333333, 0.6791666666666667, 0.70045, 0.7018666666666667, 0.6899000000000001, 0.7005166666666667, 0.7103166666666666, 0.7125833333333333, 0.7061000000000001], \"yaxis\": \"y\"}, {\"line\": {\"color\": \"#BC80BD\"}, \"name\": \"total recall\", \"type\": \"scatter\", \"uid\": \"09cdddc6-4a8d-42d8-a597-71e63c1c814a\", \"x\": [\"6f\", \"7f\", \"8f\", \"9f\", \"10f\", \"11f\", \"12f\", \"13f\", \"14f\", \"nofilter\"], \"xaxis\": \"x\", \"y\": [0.63645, 0.6412999999999999, 0.6606833333333334, 0.6457499999999999, 0.63715, 0.64305, 0.6382, 0.6308666666666666, 0.6281, 0.63435], \"yaxis\": \"y\"}, {\"line\": {\"color\": \"#FCCDE5\"}, \"name\": \"total f1\", \"type\": \"scatter\", \"uid\": \"cb1b8647-3abc-43af-8208-e9cbf9ae83a8\", \"x\": [\"6f\", \"7f\", \"8f\", \"9f\", \"10f\", \"11f\", \"12f\", \"13f\", \"14f\", \"nofilter\"], \"xaxis\": \"x\", \"y\": [0.6547333333333334, 0.6656666666666666, 0.6696666666666666, 0.6719666666666667, 0.6678999999999999, 0.6656333333333333, 0.6678333333333333, 0.6681333333333334, 0.6677166666666667, 0.6682333333333333], \"yaxis\": \"y\"}, {\"line\": {\"color\": \"#CCEBC5\"}, \"name\": \"per:title precision\", \"type\": \"scatter\", \"uid\": \"83c4d779-0bb7-4f2d-bc83-3885e375a343\", \"x\": [\"6f\", \"7f\", \"8f\", \"9f\", \"10f\", \"11f\", \"12f\", \"13f\", \"14f\", \"nofilter\"], \"xaxis\": \"x2\", \"y\": [0.7963333333333332, 0.8236333333333334, 0.8082666666666666, 0.8374, 0.8052333333333332, 0.8264833333333333, 0.8172333333333334, 0.8153000000000001, 0.8320166666666667, 0.8265333333333335], \"yaxis\": \"y2\"}, {\"line\": {\"color\": \"#BC80BD\"}, \"name\": \"per:title recall\", \"type\": \"scatter\", \"uid\": \"0e195d09-dbdb-4937-8ba2-cab695efe5cc\", \"x\": [\"6f\", \"7f\", \"8f\", \"9f\", \"10f\", \"11f\", \"12f\", \"13f\", \"14f\", \"nofilter\"], \"xaxis\": \"x2\", \"y\": [0.8163333333333332, 0.8056666666666666, 0.8376666666666667, 0.7903333333333333, 0.8303333333333333, 0.8089999999999998, 0.8130000000000001, 0.82, 0.8050000000000002, 0.8073333333333333], \"yaxis\": \"y2\"}, {\"line\": {\"color\": \"#FCCDE5\"}, \"name\": \"per:title f1\", \"type\": \"scatter\", \"uid\": \"0fc0697a-51ba-463e-87cd-7c721a6bd8a1\", \"x\": [\"6f\", \"7f\", \"8f\", \"9f\", \"10f\", \"11f\", \"12f\", \"13f\", \"14f\", \"nofilter\"], \"xaxis\": \"x2\", \"y\": [0.8058833333333334, 0.8144, 0.8226333333333334, 0.8130499999999999, 0.8175500000000001, 0.8175666666666667, 0.8150000000000001, 0.8174333333333332, 0.8181999999999999, 0.8167166666666668], \"yaxis\": \"y2\"}, {\"line\": {\"color\": \"#CCEBC5\"}, \"name\": \"org:top_members/employees precision\", \"type\": \"scatter\", \"uid\": \"5d3e9dd0-6929-4395-a129-fd2d2a05d151\", \"x\": [\"6f\", \"7f\", \"8f\", \"9f\", \"10f\", \"11f\", \"12f\", \"13f\", \"14f\", \"nofilter\"], \"xaxis\": \"x3\", \"y\": [0.6961333333333334, 0.7293, 0.7259000000000001, 0.7234666666666666, 0.7288, 0.7150500000000001, 0.7232166666666666, 0.7174499999999999, 0.7224499999999999, 0.7169], \"yaxis\": \"y3\"}, {\"line\": {\"color\": \"#BC80BD\"}, \"name\": \"org:top_members/employees recall\", \"type\": \"scatter\", \"uid\": \"628f97a5-df33-4d8b-a619-b166c44b93ed\", \"x\": [\"6f\", \"7f\", \"8f\", \"9f\", \"10f\", \"11f\", \"12f\", \"13f\", \"14f\", \"nofilter\"], \"xaxis\": \"x3\", \"y\": [0.8265833333333332, 0.7986500000000002, 0.8126166666666667, 0.8087666666666666, 0.8164833333333332, 0.8203166666666667, 0.816, 0.8164666666666668, 0.8097166666666666, 0.8227333333333333], \"yaxis\": \"y3\"}, {\"line\": {\"color\": \"#FCCDE5\"}, \"name\": \"org:top_members/employees f1\", \"type\": \"scatter\", \"uid\": \"58292714-9437-4a14-95ce-bed5ab88a482\", \"x\": [\"6f\", \"7f\", \"8f\", \"9f\", \"10f\", \"11f\", \"12f\", \"13f\", \"14f\", \"nofilter\"], \"xaxis\": \"x3\", \"y\": [0.7553166666666667, 0.76235, 0.7666666666666667, 0.7635833333333334, 0.7700666666666667, 0.7636833333333334, 0.7666499999999999, 0.7635999999999998, 0.7634500000000001, 0.76605], \"yaxis\": \"y3\"}, {\"line\": {\"color\": \"#CCEBC5\"}, \"name\": \"per:employee_of precision\", \"type\": \"scatter\", \"uid\": \"c098391a-f19b-41d2-830f-39cccf254d77\", \"x\": [\"6f\", \"7f\", \"8f\", \"9f\", \"10f\", \"11f\", \"12f\", \"13f\", \"14f\", \"nofilter\"], \"xaxis\": \"x4\", \"y\": [0.64775, 0.6626333333333333, 0.6394833333333333, 0.6739, 0.6706833333333333, 0.67515, 0.6887833333333333, 0.6732333333333332, 0.6928666666666667, 0.6917166666666666], \"yaxis\": \"y4\"}, {\"line\": {\"color\": \"#BC80BD\"}, \"name\": \"per:employee_of recall\", \"type\": \"scatter\", \"uid\": \"63d1a9c0-3bfd-4ac6-aede-103c32eaebf6\", \"x\": [\"6f\", \"7f\", \"8f\", \"9f\", \"10f\", \"11f\", \"12f\", \"13f\", \"14f\", \"nofilter\"], \"xaxis\": \"x4\", \"y\": [0.6736, 0.649, 0.6837, 0.6553166666666667, 0.65215, 0.6552833333333333, 0.6338333333333334, 0.6710833333333334, 0.62815, 0.6319499999999999], \"yaxis\": \"y4\"}, {\"line\": {\"color\": \"#FCCDE5\"}, \"name\": \"per:employee_of f1\", \"type\": \"scatter\", \"uid\": \"52a39181-07a8-4116-95e6-a3debc5e5d3d\", \"x\": [\"6f\", \"7f\", \"8f\", \"9f\", \"10f\", \"11f\", \"12f\", \"13f\", \"14f\", \"nofilter\"], \"xaxis\": \"x4\", \"y\": [0.6601833333333333, 0.6544833333333334, 0.65975, 0.6642000000000001, 0.6608, 0.6649166666666666, 0.6598666666666666, 0.6719333333333334, 0.6581, 0.6597666666666666], \"yaxis\": \"y4\"}, {\"line\": {\"color\": \"#CCEBC5\"}, \"name\": \"org:alternate_names precision\", \"type\": \"scatter\", \"uid\": \"7b3f275b-2a17-4abd-856e-6c4bb751bc9a\", \"x\": [\"6f\", \"7f\", \"8f\", \"9f\", \"10f\", \"11f\", \"12f\", \"13f\", \"14f\", \"nofilter\"], \"xaxis\": \"x5\", \"y\": [0.7507666666666667, 0.7619000000000001, 0.7540666666666667, 0.7639, 0.7563500000000002, 0.7647666666666667, 0.7645166666666667, 0.7640166666666667, 0.75815, 0.7564666666666667], \"yaxis\": \"y5\"}, {\"line\": {\"color\": \"#BC80BD\"}, \"name\": \"org:alternate_names recall\", \"type\": \"scatter\", \"uid\": \"7ddae4e2-268b-489e-aaca-ca71133ec659\", \"x\": [\"6f\", \"7f\", \"8f\", \"9f\", \"10f\", \"11f\", \"12f\", \"13f\", \"14f\", \"nofilter\"], \"xaxis\": \"x5\", \"y\": [0.8294333333333332, 0.831, 0.8349166666666666, 0.8302166666666668, 0.8255166666666667, 0.82395, 0.8255166666666667, 0.8231666666666667, 0.8333499999999999, 0.82395], \"yaxis\": \"y5\"}, {\"line\": {\"color\": \"#FCCDE5\"}, \"name\": \"org:alternate_names f1\", \"type\": \"scatter\", \"uid\": \"86653ab7-ba0b-49b8-86ee-30247720d2f3\", \"x\": [\"6f\", \"7f\", \"8f\", \"9f\", \"10f\", \"11f\", \"12f\", \"13f\", \"14f\", \"nofilter\"], \"xaxis\": \"x5\", \"y\": [0.7880833333333334, 0.7949166666666666, 0.79225, 0.7956666666666666, 0.7894, 0.7932166666666666, 0.7938333333333335, 0.7924833333333333, 0.7938999999999999, 0.78875], \"yaxis\": \"y5\"}, {\"line\": {\"color\": \"#CCEBC5\"}, \"name\": \"per:countries_of_residence precision\", \"type\": \"scatter\", \"uid\": \"11b9a1bb-43bc-4c33-9aed-eb9ec6cdf37b\", \"x\": [\"6f\", \"7f\", \"8f\", \"9f\", \"10f\", \"11f\", \"12f\", \"13f\", \"14f\", \"nofilter\"], \"xaxis\": \"x6\", \"y\": [0.5419499999999999, 0.5486833333333334, 0.49770000000000003, 0.54135, 0.5534666666666667, 0.5200833333333333, 0.5365833333333333, 0.5472, 0.5516, 0.5372499999999999], \"yaxis\": \"y6\"}, {\"line\": {\"color\": \"#BC80BD\"}, \"name\": \"per:countries_of_residence recall\", \"type\": \"scatter\", \"uid\": \"548b3023-7b62-493f-8061-9f353533d446\", \"x\": [\"6f\", \"7f\", \"8f\", \"9f\", \"10f\", \"11f\", \"12f\", \"13f\", \"14f\", \"nofilter\"], \"xaxis\": \"x6\", \"y\": [0.4696000000000001, 0.5281666666666667, 0.5450333333333334, 0.4673333333333334, 0.40653333333333336, 0.5157666666666667, 0.4673166666666666, 0.4515833333333333, 0.4211666666666667, 0.4425666666666666], \"yaxis\": \"y6\"}, {\"line\": {\"color\": \"#FCCDE5\"}, \"name\": \"per:countries_of_residence f1\", \"type\": \"scatter\", \"uid\": \"c71eac98-2cb6-4aaa-96a4-d8441ab4b311\", \"x\": [\"6f\", \"7f\", \"8f\", \"9f\", \"10f\", \"11f\", \"12f\", \"13f\", \"14f\", \"nofilter\"], \"xaxis\": \"x6\", \"y\": [0.5025333333333334, 0.5371833333333332, 0.5185333333333334, 0.5009333333333333, 0.46809999999999996, 0.5159166666666667, 0.4991833333333333, 0.49396666666666667, 0.4773500000000001, 0.4840500000000001], \"yaxis\": \"y6\"}, {\"line\": {\"color\": \"#CCEBC5\"}, \"name\": \"org:country_of_headquarters precision\", \"type\": \"scatter\", \"uid\": \"95c6dfce-64b0-4a24-a8dd-975d82d6311f\", \"x\": [\"6f\", \"7f\", \"8f\", \"9f\", \"10f\", \"11f\", \"12f\", \"13f\", \"14f\", \"nofilter\"], \"xaxis\": \"x7\", \"y\": [0.5996999999999999, 0.63815, 0.5768666666666666, 0.6861166666666666, 0.6511333333333333, 0.6010166666666666, 0.6709, 0.6730833333333334, 0.6853333333333333, 0.6491333333333333], \"yaxis\": \"y7\"}, {\"line\": {\"color\": \"#BC80BD\"}, \"name\": \"org:country_of_headquarters recall\", \"type\": \"scatter\", \"uid\": \"1dcc0361-7421-4452-9149-5d2c69e8c8bb\", \"x\": [\"6f\", \"7f\", \"8f\", \"9f\", \"10f\", \"11f\", \"12f\", \"13f\", \"14f\", \"nofilter\"], \"xaxis\": \"x7\", \"y\": [0.38116666666666665, 0.3379666666666667, 0.3873333333333333, 0.3426, 0.30711666666666665, 0.3673, 0.32715, 0.3179, 0.30093333333333333, 0.31171666666666664], \"yaxis\": \"y7\"}, {\"line\": {\"color\": \"#FCCDE5\"}, \"name\": \"org:country_of_headquarters f1\", \"type\": \"scatter\", \"uid\": \"2f74b24f-3762-4a63-8c97-03e6ff651708\", \"x\": [\"6f\", \"7f\", \"8f\", \"9f\", \"10f\", \"11f\", \"12f\", \"13f\", \"14f\", \"nofilter\"], \"xaxis\": \"x7\", \"y\": [0.46236666666666665, 0.4406666666666667, 0.4622166666666667, 0.45659999999999995, 0.41625, 0.4550666666666667, 0.4392833333333334, 0.43168333333333336, 0.41711666666666664, 0.42026666666666673], \"yaxis\": \"y7\"}, {\"line\": {\"color\": \"#CCEBC5\"}, \"name\": \"per:age precision\", \"type\": \"scatter\", \"uid\": \"954d34d0-4be1-4da9-ae48-789179155ef5\", \"x\": [\"6f\", \"7f\", \"8f\", \"9f\", \"10f\", \"11f\", \"12f\", \"13f\", \"14f\", \"nofilter\"], \"xaxis\": \"x8\", \"y\": [0.8074, 0.8083833333333333, 0.8162166666666666, 0.8354666666666667, 0.8581666666666666, 0.8203166666666668, 0.8121166666666667, 0.8658999999999999, 0.8391833333333333, 0.8416], \"yaxis\": \"y8\"}, {\"line\": {\"color\": \"#BC80BD\"}, \"name\": \"per:age recall\", \"type\": \"scatter\", \"uid\": \"3a299300-74c5-4213-8724-61f760dd2304\", \"x\": [\"6f\", \"7f\", \"8f\", \"9f\", \"10f\", \"11f\", \"12f\", \"13f\", \"14f\", \"nofilter\"], \"xaxis\": \"x8\", \"y\": [0.9474999999999999, 0.9483333333333334, 0.9474999999999999, 0.9533333333333333, 0.93, 0.9424999999999999, 0.9458333333333333, 0.9283333333333333, 0.9375, 0.9366666666666666], \"yaxis\": \"y8\"}, {\"line\": {\"color\": \"#FCCDE5\"}, \"name\": \"per:age f1\", \"type\": \"scatter\", \"uid\": \"7dfae543-536a-4043-b042-4ef0b7eb4be9\", \"x\": [\"6f\", \"7f\", \"8f\", \"9f\", \"10f\", \"11f\", \"12f\", \"13f\", \"14f\", \"nofilter\"], \"xaxis\": \"x8\", \"y\": [0.8717333333333334, 0.87255, 0.8764166666666666, 0.8903833333333334, 0.8925333333333333, 0.8767, 0.8736333333333333, 0.8957166666666666, 0.8855166666666666, 0.8862999999999999], \"yaxis\": \"y8\"}, {\"line\": {\"color\": \"#CCEBC5\"}, \"name\": \"per:cities_of_residence precision\", \"type\": \"scatter\", \"uid\": \"a5b5ebd5-adbc-4d7f-8011-52ec6814aec2\", \"x\": [\"6f\", \"7f\", \"8f\", \"9f\", \"10f\", \"11f\", \"12f\", \"13f\", \"14f\", \"nofilter\"], \"xaxis\": \"x9\", \"y\": [0.5241333333333333, 0.5513666666666667, 0.54565, 0.5632833333333334, 0.56775, 0.5470333333333333, 0.54835, 0.5832666666666667, 0.5679666666666667, 0.5807166666666667], \"yaxis\": \"y9\"}, {\"line\": {\"color\": \"#BC80BD\"}, \"name\": \"per:cities_of_residence recall\", \"type\": \"scatter\", \"uid\": \"032b1fef-1fb7-4807-8b35-5be6b69316fb\", \"x\": [\"6f\", \"7f\", \"8f\", \"9f\", \"10f\", \"11f\", \"12f\", \"13f\", \"14f\", \"nofilter\"], \"xaxis\": \"x9\", \"y\": [0.5634833333333333, 0.5388, 0.5776, 0.5626, 0.5352666666666667, 0.5449833333333333, 0.5634833333333334, 0.5264833333333333, 0.5246833333333333, 0.5291], \"yaxis\": \"y9\"}, {\"line\": {\"color\": \"#FCCDE5\"}, \"name\": \"per:cities_of_residence f1\", \"type\": \"scatter\", \"uid\": \"76737e7f-72ab-4f44-8278-5caffc43dcd1\", \"x\": [\"6f\", \"7f\", \"8f\", \"9f\", \"10f\", \"11f\", \"12f\", \"13f\", \"14f\", \"nofilter\"], \"xaxis\": \"x9\", \"y\": [0.5422833333333333, 0.5442666666666667, 0.5606833333333333, 0.5617166666666666, 0.5502833333333333, 0.5456833333333333, 0.55555, 0.5527000000000001, 0.5450333333333333, 0.5531], \"yaxis\": \"y9\"}, {\"line\": {\"color\": \"#CCEBC5\"}, \"name\": \"per:origin precision\", \"type\": \"scatter\", \"uid\": \"10ac33f7-6a9c-4e1c-b025-5e2c460e27f8\", \"x\": [\"6f\", \"7f\", \"8f\", \"9f\", \"10f\", \"11f\", \"12f\", \"13f\", \"14f\", \"nofilter\"], \"xaxis\": \"x10\", \"y\": [0.7107666666666667, 0.7005666666666667, 0.6812333333333332, 0.6816333333333334, 0.7076166666666667, 0.6734166666666667, 0.6907000000000001, 0.7169, 0.706, 0.6891166666666666], \"yaxis\": \"y10\"}, {\"line\": {\"color\": \"#BC80BD\"}, \"name\": \"per:origin recall\", \"type\": \"scatter\", \"uid\": \"42dc0070-38d3-480a-ab0b-4eef14d83563\", \"x\": [\"6f\", \"7f\", \"8f\", \"9f\", \"10f\", \"11f\", \"12f\", \"13f\", \"14f\", \"nofilter\"], \"xaxis\": \"x10\", \"y\": [0.5909166666666666, 0.63765, 0.6388833333333334, 0.6085833333333334, 0.5883833333333334, 0.5997666666666667, 0.6022666666666666, 0.57955, 0.59595, 0.6136333333333334], \"yaxis\": \"y10\"}, {\"line\": {\"color\": \"#FCCDE5\"}, \"name\": \"per:origin f1\", \"type\": \"scatter\", \"uid\": \"334d0188-8f8e-482a-a60e-5d71dee2aa63\", \"x\": [\"6f\", \"7f\", \"8f\", \"9f\", \"10f\", \"11f\", \"12f\", \"13f\", \"14f\", \"nofilter\"], \"xaxis\": \"x10\", \"y\": [0.6447666666666666, 0.6668666666666666, 0.6586666666666666, 0.6424833333333333, 0.6417333333333333, 0.6333666666666666, 0.6432666666666668, 0.64025, 0.6451166666666667, 0.648], \"yaxis\": \"y10\"}, {\"line\": {\"color\": \"#CCEBC5\"}, \"name\": \"org:city_of_headquarters precision\", \"type\": \"scatter\", \"uid\": \"7f7c3fb3-5c19-4912-9ecb-322675cef83e\", \"x\": [\"6f\", \"7f\", \"8f\", \"9f\", \"10f\", \"11f\", \"12f\", \"13f\", \"14f\", \"nofilter\"], \"xaxis\": \"x11\", \"y\": [0.7292166666666667, 0.7547333333333333, 0.7285499999999999, 0.7264666666666667, 0.7857333333333333, 0.7609166666666667, 0.7446, 0.7690333333333333, 0.7831166666666666, 0.7878333333333334], \"yaxis\": \"y11\"}, {\"line\": {\"color\": \"#BC80BD\"}, \"name\": \"org:city_of_headquarters recall\", \"type\": \"scatter\", \"uid\": \"b96626ca-d6cc-4ae9-b995-c19e98d90078\", \"x\": [\"6f\", \"7f\", \"8f\", \"9f\", \"10f\", \"11f\", \"12f\", \"13f\", \"14f\", \"nofilter\"], \"xaxis\": \"x11\", \"y\": [0.6890000000000001, 0.6808666666666666, 0.7032333333333334, 0.7174666666666667, 0.65445, 0.6788333333333334, 0.6788333333333334, 0.6382, 0.6747833333333334, 0.6666500000000001], \"yaxis\": \"y11\"}, {\"line\": {\"color\": \"#FCCDE5\"}, \"name\": \"org:city_of_headquarters f1\", \"type\": \"scatter\", \"uid\": \"3e6dd201-a043-4485-94fe-405b4af0f372\", \"x\": [\"6f\", \"7f\", \"8f\", \"9f\", \"10f\", \"11f\", \"12f\", \"13f\", \"14f\", \"nofilter\"], \"xaxis\": \"x11\", \"y\": [0.7077, 0.7155666666666666, 0.7140166666666666, 0.72085, 0.7134499999999999, 0.7174499999999999, 0.7098833333333333, 0.6966833333333334, 0.7246166666666668, 0.7217166666666667], \"yaxis\": \"y11\"}, {\"line\": {\"color\": \"#CCEBC5\"}, \"name\": \"per:spouse precision\", \"type\": \"scatter\", \"uid\": \"e07b1c7d-d09b-4d7a-9085-4d288dd09a97\", \"x\": [\"6f\", \"7f\", \"8f\", \"9f\", \"10f\", \"11f\", \"12f\", \"13f\", \"14f\", \"nofilter\"], \"xaxis\": \"x12\", \"y\": [0.61705, 0.5880166666666666, 0.6138499999999999, 0.6213666666666667, 0.6211, 0.58515, 0.6339166666666666, 0.6430166666666667, 0.6243333333333333, 0.5656833333333332], \"yaxis\": \"y12\"}, {\"line\": {\"color\": \"#BC80BD\"}, \"name\": \"per:spouse recall\", \"type\": \"scatter\", \"uid\": \"7c81f01d-6f6f-4574-aa26-9c13932734a7\", \"x\": [\"6f\", \"7f\", \"8f\", \"9f\", \"10f\", \"11f\", \"12f\", \"13f\", \"14f\", \"nofilter\"], \"xaxis\": \"x12\", \"y\": [0.7020333333333334, 0.7020166666666666, 0.6995, 0.7222166666666666, 0.7171833333333333, 0.7171833333333333, 0.7045499999999999, 0.6894, 0.7070833333333333, 0.7247666666666666], \"yaxis\": \"y12\"}, {\"line\": {\"color\": \"#FCCDE5\"}, \"name\": \"per:spouse f1\", \"type\": \"scatter\", \"uid\": \"9eda638d-3334-4674-a47b-078884c86433\", \"x\": [\"6f\", \"7f\", \"8f\", \"9f\", \"10f\", \"11f\", \"12f\", \"13f\", \"14f\", \"nofilter\"], \"xaxis\": \"x12\", \"y\": [0.6563166666666667, 0.6396000000000001, 0.6534833333333333, 0.6672666666666666, 0.6643333333333333, 0.6428, 0.6670166666666667, 0.6646666666666666, 0.6622, 0.6343166666666665], \"yaxis\": \"y12\"}, {\"line\": {\"color\": \"#CCEBC5\"}, \"name\": \"org:subsidiaries precision\", \"type\": \"scatter\", \"uid\": \"93850597-ac58-4c6e-b441-f0c949901762\", \"x\": [\"6f\", \"7f\", \"8f\", \"9f\", \"10f\", \"11f\", \"12f\", \"13f\", \"14f\", \"nofilter\"], \"xaxis\": \"x13\", \"y\": [0.5131666666666668, 0.5149, 0.5286333333333334, 0.5199333333333334, 0.4921166666666667, 0.6084833333333334, 0.5470833333333333, 0.5246666666666667, 0.5320999999999999, 0.5301], \"yaxis\": \"y13\"}, {\"line\": {\"color\": \"#BC80BD\"}, \"name\": \"org:subsidiaries recall\", \"type\": \"scatter\", \"uid\": \"16940bfd-e4d8-4ec2-9ebd-b8743efdcf8d\", \"x\": [\"6f\", \"7f\", \"8f\", \"9f\", \"10f\", \"11f\", \"12f\", \"13f\", \"14f\", \"nofilter\"], \"xaxis\": \"x13\", \"y\": [0.35608333333333336, 0.29545, 0.3484833333333333, 0.3106, 0.29166666666666663, 0.3106, 0.2916666666666667, 0.3181833333333333, 0.2840833333333333, 0.2992666666666666], \"yaxis\": \"y13\"}, {\"line\": {\"color\": \"#FCCDE5\"}, \"name\": \"org:subsidiaries f1\", \"type\": \"scatter\", \"uid\": \"768edb61-8965-4cf4-98fa-1808e658d14a\", \"x\": [\"6f\", \"7f\", \"8f\", \"9f\", \"10f\", \"11f\", \"12f\", \"13f\", \"14f\", \"nofilter\"], \"xaxis\": \"x13\", \"y\": [0.41586666666666666, 0.3720666666666667, 0.41948333333333326, 0.3852166666666667, 0.36365000000000003, 0.4095166666666667, 0.3787666666666667, 0.39490000000000003, 0.36403333333333326, 0.3799333333333334], \"yaxis\": \"y13\"}, {\"line\": {\"color\": \"#CCEBC5\"}, \"name\": \"per:stateorprovinces_of_residence precision\", \"type\": \"scatter\", \"uid\": \"5013516c-557d-4aa8-8da6-a0194c5f9a10\", \"x\": [\"6f\", \"7f\", \"8f\", \"9f\", \"10f\", \"11f\", \"12f\", \"13f\", \"14f\", \"nofilter\"], \"xaxis\": \"x14\", \"y\": [0.5476666666666666, 0.5761833333333334, 0.5558833333333334, 0.5750000000000001, 0.60075, 0.5382166666666667, 0.5647000000000001, 0.6158833333333332, 0.5789166666666666, 0.5962999999999999], \"yaxis\": \"y14\"}, {\"line\": {\"color\": \"#BC80BD\"}, \"name\": \"per:stateorprovinces_of_residence recall\", \"type\": \"scatter\", \"uid\": \"05d88ee9-5b22-493d-91be-cd78d8ea4151\", \"x\": [\"6f\", \"7f\", \"8f\", \"9f\", \"10f\", \"11f\", \"12f\", \"13f\", \"14f\", \"nofilter\"], \"xaxis\": \"x14\", \"y\": [0.5617166666666666, 0.5267333333333333, 0.6275666666666667, 0.5638000000000001, 0.49589999999999995, 0.5699666666666666, 0.5185333333333334, 0.4876666666666667, 0.5535, 0.5288166666666666], \"yaxis\": \"y14\"}, {\"line\": {\"color\": \"#FCCDE5\"}, \"name\": \"per:stateorprovinces_of_residence f1\", \"type\": \"scatter\", \"uid\": \"e3c704ce-eaab-4e2e-a692-65d5954cbef0\", \"x\": [\"6f\", \"7f\", \"8f\", \"9f\", \"10f\", \"11f\", \"12f\", \"13f\", \"14f\", \"nofilter\"], \"xaxis\": \"x14\", \"y\": [0.5523333333333332, 0.5493166666666666, 0.58845, 0.5689000000000001, 0.5429666666666667, 0.5527666666666666, 0.5403666666666666, 0.5437333333333333, 0.56565, 0.5595666666666668], \"yaxis\": \"y14\"}, {\"line\": {\"color\": \"#CCEBC5\"}, \"name\": \"org:parents precision\", \"type\": \"scatter\", \"uid\": \"ee44bc0e-7cdc-4dc7-af91-b654692fb041\", \"x\": [\"6f\", \"7f\", \"8f\", \"9f\", \"10f\", \"11f\", \"12f\", \"13f\", \"14f\", \"nofilter\"], \"xaxis\": \"x15\", \"y\": [0.42333333333333334, 0.3391666666666666, 0.4119, 0.3945333333333334, 0.38594999999999996, 0.43131666666666674, 0.42329999999999995, 0.3855166666666667, 0.3631, 0.3972833333333334], \"yaxis\": \"y15\"}, {\"line\": {\"color\": \"#BC80BD\"}, \"name\": \"org:parents recall\", \"type\": \"scatter\", \"uid\": \"d6e04830-4b61-4f3e-a1c5-bb664bf09899\", \"x\": [\"6f\", \"7f\", \"8f\", \"9f\", \"10f\", \"11f\", \"12f\", \"13f\", \"14f\", \"nofilter\"], \"xaxis\": \"x15\", \"y\": [0.10753333333333333, 0.12903333333333333, 0.15051666666666666, 0.16128333333333333, 0.14785, 0.19355, 0.16128333333333333, 0.16398333333333334, 0.1129, 0.16666666666666666], \"yaxis\": \"y15\"}, {\"line\": {\"color\": \"#FCCDE5\"}, \"name\": \"org:parents f1\", \"type\": \"scatter\", \"uid\": \"5a4ead67-9032-4fda-adfd-d588380c0a87\", \"x\": [\"6f\", \"7f\", \"8f\", \"9f\", \"10f\", \"11f\", \"12f\", \"13f\", \"14f\", \"nofilter\"], \"xaxis\": \"x15\", \"y\": [0.17073333333333332, 0.18494999999999998, 0.2181833333333333, 0.22748333333333337, 0.2127, 0.26581666666666665, 0.23316666666666666, 0.2285, 0.17138333333333333, 0.23376666666666668], \"yaxis\": \"y15\"}, {\"line\": {\"color\": \"#CCEBC5\"}, \"name\": \"per:date_of_death precision\", \"type\": \"scatter\", \"uid\": \"45c94786-7cb1-4c32-841e-c9da9b781160\", \"x\": [\"6f\", \"7f\", \"8f\", \"9f\", \"10f\", \"11f\", \"12f\", \"13f\", \"14f\", \"nofilter\"], \"xaxis\": \"x16\", \"y\": [0.7315, 0.6979166666666666, 0.6002833333333333, 0.6539333333333334, 0.6971666666666666, 0.6102833333333333, 0.6259666666666667, 0.6639666666666667, 0.6342, 0.6549], \"yaxis\": \"y16\"}, {\"line\": {\"color\": \"#BC80BD\"}, \"name\": \"per:date_of_death recall\", \"type\": \"scatter\", \"uid\": \"d5a2b16c-3f8c-4ff0-87b2-36885fc2ceee\", \"x\": [\"6f\", \"7f\", \"8f\", \"9f\", \"10f\", \"11f\", \"12f\", \"13f\", \"14f\", \"nofilter\"], \"xaxis\": \"x16\", \"y\": [0.25616666666666665, 0.25309999999999994, 0.33026666666666665, 0.2870333333333333, 0.2716166666666666, 0.2932166666666667, 0.29013333333333335, 0.27776666666666666, 0.29013333333333335, 0.25], \"yaxis\": \"y16\"}, {\"line\": {\"color\": \"#FCCDE5\"}, \"name\": \"per:date_of_death f1\", \"type\": \"scatter\", \"uid\": \"11a189ab-096d-4757-abfc-b3dd82f13fa6\", \"x\": [\"6f\", \"7f\", \"8f\", \"9f\", \"10f\", \"11f\", \"12f\", \"13f\", \"14f\", \"nofilter\"], \"xaxis\": \"x16\", \"y\": [0.3784666666666667, 0.3706833333333333, 0.42286666666666667, 0.3986166666666667, 0.3899166666666667, 0.3946333333333334, 0.39514999999999995, 0.38978333333333337, 0.39713333333333334, 0.3605833333333333], \"yaxis\": \"y16\"}, {\"line\": {\"color\": \"#CCEBC5\"}, \"name\": \"per:children precision\", \"type\": \"scatter\", \"uid\": \"66dbcba7-d0d5-4936-8393-97eaa37d365c\", \"x\": [\"6f\", \"7f\", \"8f\", \"9f\", \"10f\", \"11f\", \"12f\", \"13f\", \"14f\", \"nofilter\"], \"xaxis\": \"x17\", \"y\": [0.3022666666666667, 0.4092833333333333, 0.46678333333333333, 0.4633833333333333, 0.38756666666666667, 0.4717166666666666, 0.45175000000000004, 0.43335000000000007, 0.6294333333333334, 0.5392666666666667], \"yaxis\": \"y17\"}, {\"line\": {\"color\": \"#BC80BD\"}, \"name\": \"per:children recall\", \"type\": \"scatter\", \"uid\": \"41b2b1a6-ed7c-43a4-9b12-ad17c2bba04e\", \"x\": [\"6f\", \"7f\", \"8f\", \"9f\", \"10f\", \"11f\", \"12f\", \"13f\", \"14f\", \"nofilter\"], \"xaxis\": \"x17\", \"y\": [0.40991666666666665, 0.36034999999999995, 0.4639499999999999, 0.4099, 0.39188333333333336, 0.39189999999999997, 0.41895, 0.3918833333333333, 0.38739999999999997, 0.3963833333333333], \"yaxis\": \"y17\"}, {\"line\": {\"color\": \"#FCCDE5\"}, \"name\": \"per:children f1\", \"type\": \"scatter\", \"uid\": \"2e7a1286-c9bd-4df0-8a6c-17ce4d8054ea\", \"x\": [\"6f\", \"7f\", \"8f\", \"9f\", \"10f\", \"11f\", \"12f\", \"13f\", \"14f\", \"nofilter\"], \"xaxis\": \"x17\", \"y\": [0.3467833333333334, 0.3740666666666667, 0.46165000000000006, 0.4290666666666667, 0.38833333333333325, 0.4189666666666667, 0.43255, 0.40825, 0.4757, 0.4522], \"yaxis\": \"y17\"}, {\"line\": {\"color\": \"#CCEBC5\"}, \"name\": \"org:stateorprovince_of_headquarters precision\", \"type\": \"scatter\", \"uid\": \"d9002b56-dce5-4bd2-b32d-c695ec3ed46a\", \"x\": [\"6f\", \"7f\", \"8f\", \"9f\", \"10f\", \"11f\", \"12f\", \"13f\", \"14f\", \"nofilter\"], \"xaxis\": \"x18\", \"y\": [0.7305166666666666, 0.7083833333333334, 0.7169, 0.6969333333333333, 0.7303333333333333, 0.7139000000000001, 0.7339166666666667, 0.7405333333333334, 0.7364333333333333, 0.7359166666666667], \"yaxis\": \"y18\"}, {\"line\": {\"color\": \"#BC80BD\"}, \"name\": \"org:stateorprovince_of_headquarters recall\", \"type\": \"scatter\", \"uid\": \"20d6e9f7-bb86-4276-89a6-4297ea6c4dc3\", \"x\": [\"6f\", \"7f\", \"8f\", \"9f\", \"10f\", \"11f\", \"12f\", \"13f\", \"14f\", \"nofilter\"], \"xaxis\": \"x18\", \"y\": [0.6634333333333334, 0.7059000000000001, 0.7091666666666668, 0.7026333333333333, 0.7059000000000001, 0.7385666666666667, 0.6895666666666668, 0.6438166666666667, 0.7091666666666668, 0.6830333333333334], \"yaxis\": \"y18\"}, {\"line\": {\"color\": \"#FCCDE5\"}, \"name\": \"org:stateorprovince_of_headquarters f1\", \"type\": \"scatter\", \"uid\": \"afb2612a-4a6d-4c5b-9053-4520b9ac403d\", \"x\": [\"6f\", \"7f\", \"8f\", \"9f\", \"10f\", \"11f\", \"12f\", \"13f\", \"14f\", \"nofilter\"], \"xaxis\": \"x18\", \"y\": [0.6950833333333334, 0.7062, 0.7123666666666667, 0.6988500000000001, 0.7175333333333334, 0.7256166666666667, 0.71055, 0.6868166666666666, 0.7217333333333332, 0.7082333333333333], \"yaxis\": \"y18\"}, {\"line\": {\"color\": \"#CCEBC5\"}, \"name\": \"per:cause_of_death precision\", \"type\": \"scatter\", \"uid\": \"aa8f08dc-0f58-48ad-afe9-045aa61cdced\", \"x\": [\"6f\", \"7f\", \"8f\", \"9f\", \"10f\", \"11f\", \"12f\", \"13f\", \"14f\", \"nofilter\"], \"xaxis\": \"x19\", \"y\": [0.6689166666666667, 0.66755, 0.64775, 0.7305166666666668, 0.7087, 0.6763166666666667, 0.6592666666666667, 0.7144666666666667, 0.6756833333333333, 0.68525], \"yaxis\": \"y19\"}, {\"line\": {\"color\": \"#BC80BD\"}, \"name\": \"per:cause_of_death recall\", \"type\": \"scatter\", \"uid\": \"855f7fc9-f185-452f-8f87-107cb9b040c8\", \"x\": [\"6f\", \"7f\", \"8f\", \"9f\", \"10f\", \"11f\", \"12f\", \"13f\", \"14f\", \"nofilter\"], \"xaxis\": \"x19\", \"y\": [0.33653333333333335, 0.2980666666666667, 0.3109166666666667, 0.2980833333333333, 0.24358333333333335, 0.2628333333333333, 0.26603333333333334, 0.26281666666666664, 0.22755, 0.23718333333333333], \"yaxis\": \"y19\"}, {\"line\": {\"color\": \"#FCCDE5\"}, \"name\": \"per:cause_of_death f1\", \"type\": \"scatter\", \"uid\": \"a705815c-7e48-42c0-90f0-60e2010e0df2\", \"x\": [\"6f\", \"7f\", \"8f\", \"9f\", \"10f\", \"11f\", \"12f\", \"13f\", \"14f\", \"nofilter\"], \"xaxis\": \"x19\", \"y\": [0.44744999999999996, 0.40976666666666667, 0.41901666666666665, 0.4214166666666667, 0.3592666666666667, 0.3741999999999999, 0.37768333333333337, 0.3784666666666667, 0.3374, 0.3518333333333333], \"yaxis\": \"y19\"}, {\"line\": {\"color\": \"#CCEBC5\"}, \"name\": \"per:other_family precision\", \"type\": \"scatter\", \"uid\": \"0376b719-2670-4e7c-b7ac-df05e2adc831\", \"x\": [\"6f\", \"7f\", \"8f\", \"9f\", \"10f\", \"11f\", \"12f\", \"13f\", \"14f\", \"nofilter\"], \"xaxis\": \"x20\", \"y\": [0.5886, 0.6719833333333333, 0.6156333333333334, 0.7098666666666666, 0.6900833333333334, 0.6043999999999999, 0.6264000000000001, 0.72235, 0.6353833333333333, 0.6680999999999999], \"yaxis\": \"y20\"}, {\"line\": {\"color\": \"#BC80BD\"}, \"name\": \"per:other_family recall\", \"type\": \"scatter\", \"uid\": \"f032da0a-ddb6-4639-ab92-d9876684d03a\", \"x\": [\"6f\", \"7f\", \"8f\", \"9f\", \"10f\", \"11f\", \"12f\", \"13f\", \"14f\", \"nofilter\"], \"xaxis\": \"x20\", \"y\": [0.09443333333333336, 0.225, 0.19998333333333332, 0.34723333333333334, 0.2472, 0.29723333333333335, 0.28611666666666663, 0.3055666666666667, 0.2805666666666667, 0.26943333333333336], \"yaxis\": \"y20\"}, {\"line\": {\"color\": \"#FCCDE5\"}, \"name\": \"per:other_family f1\", \"type\": \"scatter\", \"uid\": \"1f805156-4946-4ab1-8a47-5f6349f9b9f1\", \"x\": [\"6f\", \"7f\", \"8f\", \"9f\", \"10f\", \"11f\", \"12f\", \"13f\", \"14f\", \"nofilter\"], \"xaxis\": \"x20\", \"y\": [0.15396666666666667, 0.32008333333333333, 0.2984166666666667, 0.4654833333333333, 0.34908333333333336, 0.3932, 0.3871166666666666, 0.4206833333333333, 0.3832, 0.3808833333333333], \"yaxis\": \"y20\"}, {\"line\": {\"color\": \"#CCEBC5\"}, \"name\": \"org:members precision\", \"type\": \"scatter\", \"uid\": \"a98a03f9-020a-48bd-9d42-f335fdf17eb0\", \"x\": [\"6f\", \"7f\", \"8f\", \"9f\", \"10f\", \"11f\", \"12f\", \"13f\", \"14f\", \"nofilter\"], \"xaxis\": \"x21\", \"y\": [0.0, 0.075, 0.14048333333333332, 0.4722166666666667, 0.375, 0.4166666666666667, 0.5, 0.041666666666666664, 0.0, 0.3333333333333333], \"yaxis\": \"y21\"}, {\"line\": {\"color\": \"#BC80BD\"}, \"name\": \"org:members recall\", \"type\": \"scatter\", \"uid\": \"763022d4-ae68-4d55-a701-65aaa19a0be4\", \"x\": [\"6f\", \"7f\", \"8f\", \"9f\", \"10f\", \"11f\", \"12f\", \"13f\", \"14f\", \"nofilter\"], \"xaxis\": \"x21\", \"y\": [0.0, 0.010766666666666667, 0.021516666666666667, 0.010766666666666667, 0.021533333333333335, 0.016133333333333333, 0.010766666666666667, 0.005383333333333334, 0.0, 0.0], \"yaxis\": \"y21\"}, {\"line\": {\"color\": \"#FCCDE5\"}, \"name\": \"org:members f1\", \"type\": \"scatter\", \"uid\": \"1e2785fb-29b9-4d27-b47a-013a897e7333\", \"x\": [\"6f\", \"7f\", \"8f\", \"9f\", \"10f\", \"11f\", \"12f\", \"13f\", \"14f\", \"nofilter\"], \"xaxis\": \"x21\", \"y\": [0.0, 0.018783333333333332, 0.03708333333333333, 0.0199, 0.04013333333333333, 0.027033333333333336, 0.020833333333333332, 0.009516666666666666, 0.0, 0.0], \"yaxis\": \"y21\"}, {\"line\": {\"color\": \"#CCEBC5\"}, \"name\": \"per:parents precision\", \"type\": \"scatter\", \"uid\": \"a4afa8f3-c30f-4ef0-814a-0e05e9330726\", \"x\": [\"6f\", \"7f\", \"8f\", \"9f\", \"10f\", \"11f\", \"12f\", \"13f\", \"14f\", \"nofilter\"], \"xaxis\": \"x22\", \"y\": [0.7240500000000001, 0.7001333333333332, 0.7146666666666667, 0.7372, 0.7213666666666666, 0.6774666666666666, 0.7216, 0.7068333333333333, 0.7141000000000001, 0.7268666666666667], \"yaxis\": \"y22\"}, {\"line\": {\"color\": \"#BC80BD\"}, \"name\": \"per:parents recall\", \"type\": \"scatter\", \"uid\": \"aabc309c-7fb5-48c9-9a8e-74b8308c8f6a\", \"x\": [\"6f\", \"7f\", \"8f\", \"9f\", \"10f\", \"11f\", \"12f\", \"13f\", \"14f\", \"nofilter\"], \"xaxis\": \"x22\", \"y\": [0.44694999999999996, 0.5340833333333334, 0.5909166666666666, 0.5587166666666666, 0.5473333333333333, 0.5549333333333334, 0.5530333333333334, 0.5416666666666666, 0.6155333333333334, 0.5909], \"yaxis\": \"y22\"}, {\"line\": {\"color\": \"#FCCDE5\"}, \"name\": \"per:parents f1\", \"type\": \"scatter\", \"uid\": \"54bcfd84-912d-4f80-bbc6-d6c86075a348\", \"x\": [\"6f\", \"7f\", \"8f\", \"9f\", \"10f\", \"11f\", \"12f\", \"13f\", \"14f\", \"nofilter\"], \"xaxis\": \"x22\", \"y\": [0.5511666666666667, 0.6042166666666667, 0.6458833333333334, 0.63435, 0.6217833333333332, 0.6063666666666666, 0.6259333333333333, 0.6114999999999999, 0.6599333333333334, 0.6486333333333333], \"yaxis\": \"y22\"}, {\"line\": {\"color\": \"#CCEBC5\"}, \"name\": \"org:founded_by precision\", \"type\": \"scatter\", \"uid\": \"b49a4f7f-dcde-4e86-b48d-c483e030f830\", \"x\": [\"6f\", \"7f\", \"8f\", \"9f\", \"10f\", \"11f\", \"12f\", \"13f\", \"14f\", \"nofilter\"], \"xaxis\": \"x23\", \"y\": [0.6819000000000001, 0.7146499999999999, 0.7030166666666666, 0.7290666666666666, 0.7398166666666667, 0.7387, 0.7162333333333333, 0.7083, 0.7626833333333334, 0.7704166666666667], \"yaxis\": \"y23\"}, {\"line\": {\"color\": \"#BC80BD\"}, \"name\": \"org:founded_by recall\", \"type\": \"scatter\", \"uid\": \"cd264801-fec5-40c6-8066-819dd389c5ea\", \"x\": [\"6f\", \"7f\", \"8f\", \"9f\", \"10f\", \"11f\", \"12f\", \"13f\", \"14f\", \"nofilter\"], \"xaxis\": \"x23\", \"y\": [0.5049, 0.5563666666666667, 0.5343166666666667, 0.5465666666666666, 0.5171500000000001, 0.4314, 0.47303333333333336, 0.43385, 0.43385, 0.44364999999999993], \"yaxis\": \"y23\"}, {\"line\": {\"color\": \"#FCCDE5\"}, \"name\": \"org:founded_by f1\", \"type\": \"scatter\", \"uid\": \"63a7856f-1956-4846-af41-8ab4ed38cb38\", \"x\": [\"6f\", \"7f\", \"8f\", \"9f\", \"10f\", \"11f\", \"12f\", \"13f\", \"14f\", \"nofilter\"], \"xaxis\": \"x23\", \"y\": [0.5788666666666666, 0.6237166666666666, 0.6025666666666667, 0.6196666666666667, 0.6053833333333333, 0.5439833333333334, 0.56495, 0.5375833333333333, 0.5519833333333334, 0.5620666666666667], \"yaxis\": \"y23\"}, {\"line\": {\"color\": \"#CCEBC5\"}, \"name\": \"per:city_of_death precision\", \"type\": \"scatter\", \"uid\": \"494d2f3e-d8a4-4973-b002-2389cbe28fce\", \"x\": [\"6f\", \"7f\", \"8f\", \"9f\", \"10f\", \"11f\", \"12f\", \"13f\", \"14f\", \"nofilter\"], \"xaxis\": \"x24\", \"y\": [0.8653333333333334, 0.8220000000000001, 0.8293833333333334, 0.8314833333333334, 0.85655, 0.8435166666666668, 0.8450833333333333, 0.8347333333333334, 0.8314166666666667, 0.8243833333333334], \"yaxis\": \"y24\"}, {\"line\": {\"color\": \"#BC80BD\"}, \"name\": \"per:city_of_death recall\", \"type\": \"scatter\", \"uid\": \"970c1151-d03b-4773-bd11-b7b39b9442ef\", \"x\": [\"6f\", \"7f\", \"8f\", \"9f\", \"10f\", \"11f\", \"12f\", \"13f\", \"14f\", \"nofilter\"], \"xaxis\": \"x24\", \"y\": [0.32143333333333335, 0.26785, 0.2857166666666667, 0.31546666666666673, 0.2381, 0.21430000000000002, 0.2619, 0.3035666666666667, 0.25001666666666666, 0.2738], \"yaxis\": \"y24\"}, {\"line\": {\"color\": \"#FCCDE5\"}, \"name\": \"per:city_of_death f1\", \"type\": \"scatter\", \"uid\": \"f231d847-b591-485a-adb1-711b9b58e286\", \"x\": [\"6f\", \"7f\", \"8f\", \"9f\", \"10f\", \"11f\", \"12f\", \"13f\", \"14f\", \"nofilter\"], \"xaxis\": \"x24\", \"y\": [0.4652333333333334, 0.39905000000000007, 0.41950000000000004, 0.4545666666666666, 0.37105000000000005, 0.33835, 0.39643333333333336, 0.44110000000000005, 0.37965, 0.4090666666666667], \"yaxis\": \"y24\"}, {\"line\": {\"color\": \"#CCEBC5\"}, \"name\": \"per:schools_attended precision\", \"type\": \"scatter\", \"uid\": \"9d8c1602-b20b-4f96-8780-fb25e7784137\", \"x\": [\"6f\", \"7f\", \"8f\", \"9f\", \"10f\", \"11f\", \"12f\", \"13f\", \"14f\", \"nofilter\"], \"xaxis\": \"x25\", \"y\": [0.7702333333333334, 0.6561666666666667, 0.6741333333333334, 0.63755, 0.6506, 0.6533166666666667, 0.6899666666666667, 0.7101666666666667, 0.6673, 0.6585666666666667], \"yaxis\": \"y25\"}, {\"line\": {\"color\": \"#BC80BD\"}, \"name\": \"per:schools_attended recall\", \"type\": \"scatter\", \"uid\": \"093f6c17-87cc-42e0-a779-43db85c82633\", \"x\": [\"6f\", \"7f\", \"8f\", \"9f\", \"10f\", \"11f\", \"12f\", \"13f\", \"14f\", \"nofilter\"], \"xaxis\": \"x25\", \"y\": [0.40001666666666663, 0.5166666666666667, 0.5277833333333334, 0.5388833333333334, 0.5611, 0.5555500000000001, 0.5555500000000001, 0.5277666666666667, 0.54445, 0.5666500000000001], \"yaxis\": \"y25\"}, {\"line\": {\"color\": \"#FCCDE5\"}, \"name\": \"per:schools_attended f1\", \"type\": \"scatter\", \"uid\": \"2436ff7c-4347-4f49-968d-fbbaf821bfd8\", \"x\": [\"6f\", \"7f\", \"8f\", \"9f\", \"10f\", \"11f\", \"12f\", \"13f\", \"14f\", \"nofilter\"], \"xaxis\": \"x25\", \"y\": [0.5247166666666667, 0.578, 0.5883499999999999, 0.5834, 0.5995, 0.5979666666666666, 0.6153, 0.605, 0.5952833333333333, 0.6083666666666666], \"yaxis\": \"y25\"}, {\"line\": {\"color\": \"#CCEBC5\"}, \"name\": \"org:website precision\", \"type\": \"scatter\", \"uid\": \"2f40c1cf-2613-4ddf-b0d2-d8973bbb0a89\", \"x\": [\"6f\", \"7f\", \"8f\", \"9f\", \"10f\", \"11f\", \"12f\", \"13f\", \"14f\", \"nofilter\"], \"xaxis\": \"x26\", \"y\": [0.6351166666666667, 0.5821500000000001, 0.6211833333333333, 0.5986666666666666, 0.6212000000000001, 0.6187166666666667, 0.60045, 0.6180166666666665, 0.6163833333333333, 0.61305], \"yaxis\": \"y26\"}, {\"line\": {\"color\": \"#BC80BD\"}, \"name\": \"org:website recall\", \"type\": \"scatter\", \"uid\": \"ed5bef8e-a53d-4519-af67-209ee2fc217c\", \"x\": [\"6f\", \"7f\", \"8f\", \"9f\", \"10f\", \"11f\", \"12f\", \"13f\", \"14f\", \"nofilter\"], \"xaxis\": \"x26\", \"y\": [0.8782333333333333, 0.89745, 0.8654000000000001, 0.9166833333333333, 0.8718166666666667, 0.9102666666666667, 0.9038666666666667, 0.8910166666666667, 0.8910333333333332, 0.9166833333333333], \"yaxis\": \"y26\"}, {\"line\": {\"color\": \"#FCCDE5\"}, \"name\": \"org:website f1\", \"type\": \"scatter\", \"uid\": \"f7db786d-7450-4cd4-806e-3a99e054ee8f\", \"x\": [\"6f\", \"7f\", \"8f\", \"9f\", \"10f\", \"11f\", \"12f\", \"13f\", \"14f\", \"nofilter\"], \"xaxis\": \"x26\", \"y\": [0.7366833333333335, 0.7049499999999999, 0.7225166666666666, 0.7233333333333335, 0.7241833333333334, 0.7362666666666665, 0.7203166666666666, 0.7289333333333334, 0.7279833333333333, 0.7342333333333334], \"yaxis\": \"y26\"}, {\"line\": {\"color\": \"#CCEBC5\"}, \"name\": \"per:siblings precision\", \"type\": \"scatter\", \"uid\": \"56eef257-f9c8-4783-9cf3-d92fb7e1d6dd\", \"x\": [\"6f\", \"7f\", \"8f\", \"9f\", \"10f\", \"11f\", \"12f\", \"13f\", \"14f\", \"nofilter\"], \"xaxis\": \"x27\", \"y\": [0.4996833333333333, 0.6087333333333333, 0.6079499999999999, 0.6033833333333333, 0.6055833333333333, 0.6547999999999999, 0.6540166666666668, 0.6918666666666667, 0.6890166666666667, 0.6627], \"yaxis\": \"y27\"}, {\"line\": {\"color\": \"#BC80BD\"}, \"name\": \"per:siblings recall\", \"type\": \"scatter\", \"uid\": \"00a6127c-3449-44ae-afab-0aae50997d71\", \"x\": [\"6f\", \"7f\", \"8f\", \"9f\", \"10f\", \"11f\", \"12f\", \"13f\", \"14f\", \"nofilter\"], \"xaxis\": \"x27\", \"y\": [0.5181833333333333, 0.6697000000000001, 0.6303, 0.6909000000000001, 0.6818166666666666, 0.6272666666666668, 0.6393833333333333, 0.6454666666666666, 0.6575833333333333, 0.6333166666666666], \"yaxis\": \"y27\"}, {\"line\": {\"color\": \"#FCCDE5\"}, \"name\": \"per:siblings f1\", \"type\": \"scatter\", \"uid\": \"1d0e18b6-1016-41b7-9b13-21e62bac0304\", \"x\": [\"6f\", \"7f\", \"8f\", \"9f\", \"10f\", \"11f\", \"12f\", \"13f\", \"14f\", \"nofilter\"], \"xaxis\": \"x27\", \"y\": [0.5077999999999999, 0.6376333333333334, 0.6148, 0.6437166666666666, 0.6398666666666667, 0.6377999999999999, 0.6457166666666667, 0.6675333333333334, 0.6714333333333333, 0.646], \"yaxis\": \"y27\"}, {\"line\": {\"color\": \"#CCEBC5\"}, \"name\": \"per:charges precision\", \"type\": \"scatter\", \"uid\": \"f2ee4f50-ddd8-4cdc-802c-7f5c3c67d744\", \"x\": [\"6f\", \"7f\", \"8f\", \"9f\", \"10f\", \"11f\", \"12f\", \"13f\", \"14f\", \"nofilter\"], \"xaxis\": \"x28\", \"y\": [0.6198, 0.6456666666666667, 0.626, 0.6639666666666667, 0.6380166666666667, 0.6395166666666667, 0.6575666666666667, 0.6602333333333333, 0.64515, 0.6347666666666667], \"yaxis\": \"y28\"}, {\"line\": {\"color\": \"#BC80BD\"}, \"name\": \"per:charges recall\", \"type\": \"scatter\", \"uid\": \"2d62936c-9747-49bc-9b17-4fd1fc262a15\", \"x\": [\"6f\", \"7f\", \"8f\", \"9f\", \"10f\", \"11f\", \"12f\", \"13f\", \"14f\", \"nofilter\"], \"xaxis\": \"x28\", \"y\": [0.8398, 0.8770166666666667, 0.8915833333333333, 0.8867166666666667, 0.9028999999999999, 0.8721666666666668, 0.8721833333333332, 0.85115, 0.8802499999999999, 0.8867333333333333], \"yaxis\": \"y28\"}, {\"line\": {\"color\": \"#FCCDE5\"}, \"name\": \"per:charges f1\", \"type\": \"scatter\", \"uid\": \"9f9d163f-2f09-4405-bcc6-517db0fafe12\", \"x\": [\"6f\", \"7f\", \"8f\", \"9f\", \"10f\", \"11f\", \"12f\", \"13f\", \"14f\", \"nofilter\"], \"xaxis\": \"x28\", \"y\": [0.7125833333333333, 0.7433000000000001, 0.7349333333333333, 0.7589666666666667, 0.7469166666666668, 0.7376999999999999, 0.7491333333333333, 0.7423666666666667, 0.7439833333333334, 0.7397166666666667], \"yaxis\": \"y28\"}, {\"line\": {\"color\": \"#CCEBC5\"}, \"name\": \"org:member_of precision\", \"type\": \"scatter\", \"uid\": \"6e19f12d-ff4a-49f0-be98-13904ead2fd4\", \"x\": [\"6f\", \"7f\", \"8f\", \"9f\", \"10f\", \"11f\", \"12f\", \"13f\", \"14f\", \"nofilter\"], \"xaxis\": \"x29\", \"y\": [1.0, 1.0, 1.0, 1.0, 0.8333333333333334, 1.0, 1.0, 1.0, 1.0, 1.0], \"yaxis\": \"y29\"}, {\"line\": {\"color\": \"#BC80BD\"}, \"name\": \"org:member_of recall\", \"type\": \"scatter\", \"uid\": \"259b521d-7b8f-4ee0-a342-94df730b5d97\", \"x\": [\"6f\", \"7f\", \"8f\", \"9f\", \"10f\", \"11f\", \"12f\", \"13f\", \"14f\", \"nofilter\"], \"xaxis\": \"x29\", \"y\": [0.0, 0.0, 0.0, 0.0, 0.0, 0.0, 0.0, 0.0, 0.0, 0.0], \"yaxis\": \"y29\"}, {\"line\": {\"color\": \"#FCCDE5\"}, \"name\": \"org:member_of f1\", \"type\": \"scatter\", \"uid\": \"e2db391a-6e7f-491e-9eb6-8a836043b00b\", \"x\": [\"6f\", \"7f\", \"8f\", \"9f\", \"10f\", \"11f\", \"12f\", \"13f\", \"14f\", \"nofilter\"], \"xaxis\": \"x29\", \"y\": [0.0, 0.0, 0.0, 0.0, 0.0, 0.0, 0.0, 0.0, 0.0, 0.0], \"yaxis\": \"y29\"}, {\"line\": {\"color\": \"#CCEBC5\"}, \"name\": \"per:alternate_names precision\", \"type\": \"scatter\", \"uid\": \"06c4bcc0-da1a-4bd3-bd41-f0036eaf5c16\", \"x\": [\"6f\", \"7f\", \"8f\", \"9f\", \"10f\", \"11f\", \"12f\", \"13f\", \"14f\", \"nofilter\"], \"xaxis\": \"x30\", \"y\": [0.0, 0.0, 0.0, 0.0, 0.0, 0.0, 0.0, 0.0, 0.0, 0.0], \"yaxis\": \"y30\"}, {\"line\": {\"color\": \"#BC80BD\"}, \"name\": \"per:alternate_names recall\", \"type\": \"scatter\", \"uid\": \"b675d7bd-f2ce-4731-841d-cc2b4bddf46b\", \"x\": [\"6f\", \"7f\", \"8f\", \"9f\", \"10f\", \"11f\", \"12f\", \"13f\", \"14f\", \"nofilter\"], \"xaxis\": \"x30\", \"y\": [0.0, 0.0, 0.0, 0.0, 0.0, 0.0, 0.0, 0.0, 0.0, 0.0], \"yaxis\": \"y30\"}, {\"line\": {\"color\": \"#FCCDE5\"}, \"name\": \"per:alternate_names f1\", \"type\": \"scatter\", \"uid\": \"5843e534-f078-4dcb-9862-4d7a3ddd6e91\", \"x\": [\"6f\", \"7f\", \"8f\", \"9f\", \"10f\", \"11f\", \"12f\", \"13f\", \"14f\", \"nofilter\"], \"xaxis\": \"x30\", \"y\": [0.0, 0.0, 0.0, 0.0, 0.0, 0.0, 0.0, 0.0, 0.0, 0.0], \"yaxis\": \"y30\"}, {\"line\": {\"color\": \"#CCEBC5\"}, \"name\": \"org:shareholders precision\", \"type\": \"scatter\", \"uid\": \"4d6cdfeb-b640-4bb2-b7b8-53d7a92fd390\", \"x\": [\"6f\", \"7f\", \"8f\", \"9f\", \"10f\", \"11f\", \"12f\", \"13f\", \"14f\", \"nofilter\"], \"xaxis\": \"x31\", \"y\": [1.0, 0.9583333333333334, 0.9583333333333334, 0.9166666666666666, 1.0, 0.9583333333333334, 0.7916666666666666, 0.85, 1.0, 1.0], \"yaxis\": \"y31\"}, {\"line\": {\"color\": \"#BC80BD\"}, \"name\": \"org:shareholders recall\", \"type\": \"scatter\", \"uid\": \"67b572d9-c16f-4ec9-8a80-5c9d765f37d6\", \"x\": [\"6f\", \"7f\", \"8f\", \"9f\", \"10f\", \"11f\", \"12f\", \"13f\", \"14f\", \"nofilter\"], \"xaxis\": \"x31\", \"y\": [0.14101666666666665, 0.23079999999999998, 0.23079999999999998, 0.23079999999999998, 0.21796666666666664, 0.23079999999999998, 0.1795, 0.23079999999999998, 0.23079999999999998, 0.2051333333333333], \"yaxis\": \"y31\"}, {\"line\": {\"color\": \"#FCCDE5\"}, \"name\": \"org:shareholders f1\", \"type\": \"scatter\", \"uid\": \"5d09dd77-dd41-4fbc-915c-e6a60731527b\", \"x\": [\"6f\", \"7f\", \"8f\", \"9f\", \"10f\", \"11f\", \"12f\", \"13f\", \"14f\", \"nofilter\"], \"xaxis\": \"x31\", \"y\": [0.23771666666666666, 0.3713166666666667, 0.3713166666666667, 0.3676333333333333, 0.35695000000000005, 0.3713166666666667, 0.2849833333333333, 0.3606833333333333, 0.375, 0.3389], \"yaxis\": \"y31\"}, {\"line\": {\"color\": \"#CCEBC5\"}, \"name\": \"org:founded precision\", \"type\": \"scatter\", \"uid\": \"e47881db-4735-4568-aa34-5cbef566d79e\", \"x\": [\"6f\", \"7f\", \"8f\", \"9f\", \"10f\", \"11f\", \"12f\", \"13f\", \"14f\", \"nofilter\"], \"xaxis\": \"x32\", \"y\": [0.8216333333333333, 0.8379166666666668, 0.8222166666666667, 0.8194833333333333, 0.8334499999999999, 0.8175333333333333, 0.8265666666666666, 0.8237666666666668, 0.8564500000000002, 0.8500500000000001], \"yaxis\": \"y32\"}, {\"line\": {\"color\": \"#BC80BD\"}, \"name\": \"org:founded recall\", \"type\": \"scatter\", \"uid\": \"f414d2d3-f55f-4cec-b356-4290e3357402\", \"x\": [\"6f\", \"7f\", \"8f\", \"9f\", \"10f\", \"11f\", \"12f\", \"13f\", \"14f\", \"nofilter\"], \"xaxis\": \"x32\", \"y\": [0.8288333333333334, 0.8288166666666669, 0.8243166666666667, 0.8288166666666665, 0.8288333333333334, 0.8333333333333334, 0.8333333333333334, 0.8108000000000001, 0.8018000000000001, 0.8153], \"yaxis\": \"y32\"}, {\"line\": {\"color\": \"#FCCDE5\"}, \"name\": \"org:founded f1\", \"type\": \"scatter\", \"uid\": \"50bf0698-768d-4203-b03a-ee39840f1ddf\", \"x\": [\"6f\", \"7f\", \"8f\", \"9f\", \"10f\", \"11f\", \"12f\", \"13f\", \"14f\", \"nofilter\"], \"xaxis\": \"x32\", \"y\": [0.8250833333333332, 0.8328666666666668, 0.8229500000000001, 0.8235000000000001, 0.8307166666666667, 0.8244833333333333, 0.8296166666666666, 0.8166833333333333, 0.8278333333333334, 0.8321666666666667], \"yaxis\": \"y32\"}, {\"line\": {\"color\": \"#CCEBC5\"}, \"name\": \"org:political/religious_affiliation precision\", \"type\": \"scatter\", \"uid\": \"78a4f7d0-39f2-41a2-a964-cbc4b5c96e7d\", \"x\": [\"6f\", \"7f\", \"8f\", \"9f\", \"10f\", \"11f\", \"12f\", \"13f\", \"14f\", \"nofilter\"], \"xaxis\": \"x33\", \"y\": [0.32108333333333333, 0.4273, 0.30338333333333334, 0.38991666666666663, 0.37915000000000004, 0.32321666666666665, 0.54445, 0.44026666666666664, 0.6095166666666666, 0.4814166666666666], \"yaxis\": \"y33\"}, {\"line\": {\"color\": \"#BC80BD\"}, \"name\": \"org:political/religious_affiliation recall\", \"type\": \"scatter\", \"uid\": \"56124f31-ece0-47c7-b11a-9096aa849410\", \"x\": [\"6f\", \"7f\", \"8f\", \"9f\", \"10f\", \"11f\", \"12f\", \"13f\", \"14f\", \"nofilter\"], \"xaxis\": \"x33\", \"y\": [0.6833333333333335, 0.44999999999999996, 0.44999999999999996, 0.48333333333333334, 0.5333333333333333, 0.4166666666666667, 0.4166666666666667, 0.4166666666666667, 0.26666666666666666, 0.5166666666666666], \"yaxis\": \"y33\"}, {\"line\": {\"color\": \"#FCCDE5\"}, \"name\": \"org:political/religious_affiliation f1\", \"type\": \"scatter\", \"uid\": \"2c97e8b6-969a-45af-8bc1-e50ed2c1b189\", \"x\": [\"6f\", \"7f\", \"8f\", \"9f\", \"10f\", \"11f\", \"12f\", \"13f\", \"14f\", \"nofilter\"], \"xaxis\": \"x33\", \"y\": [0.43238333333333334, 0.42811666666666665, 0.3474333333333333, 0.41853333333333326, 0.43375, 0.35683333333333334, 0.44893333333333335, 0.41365, 0.33149999999999996, 0.4887166666666667], \"yaxis\": \"y33\"}, {\"line\": {\"color\": \"#CCEBC5\"}, \"name\": \"per:religion precision\", \"type\": \"scatter\", \"uid\": \"b7d1f6d0-7cd7-4161-accf-c1332537fe77\", \"x\": [\"6f\", \"7f\", \"8f\", \"9f\", \"10f\", \"11f\", \"12f\", \"13f\", \"14f\", \"nofilter\"], \"xaxis\": \"x34\", \"y\": [0.5865666666666667, 0.5781999999999999, 0.5870666666666666, 0.5966666666666667, 0.6014666666666667, 0.6273, 0.6091833333333333, 0.6983666666666667, 0.6513166666666667, 0.5916166666666668], \"yaxis\": \"y34\"}, {\"line\": {\"color\": \"#BC80BD\"}, \"name\": \"per:religion recall\", \"type\": \"scatter\", \"uid\": \"a697b47a-2082-42d3-b056-34d35c3739c7\", \"x\": [\"6f\", \"7f\", \"8f\", \"9f\", \"10f\", \"11f\", \"12f\", \"13f\", \"14f\", \"nofilter\"], \"xaxis\": \"x34\", \"y\": [0.6489333333333334, 0.6524833333333333, 0.5815666666666667, 0.6134833333333333, 0.6418666666666666, 0.5460999999999999, 0.5602666666666666, 0.4751666666666667, 0.49291666666666667, 0.6205666666666666], \"yaxis\": \"y34\"}, {\"line\": {\"color\": \"#FCCDE5\"}, \"name\": \"per:religion f1\", \"type\": \"scatter\", \"uid\": \"a4e4b33d-e15e-49f3-9ebd-944422a1dfb7\", \"x\": [\"6f\", \"7f\", \"8f\", \"9f\", \"10f\", \"11f\", \"12f\", \"13f\", \"14f\", \"nofilter\"], \"xaxis\": \"x34\", \"y\": [0.6144333333333333, 0.6038833333333334, 0.5822833333333334, 0.59885, 0.6182333333333333, 0.5809833333333334, 0.5816, 0.5649000000000001, 0.5532, 0.6023833333333334], \"yaxis\": \"y34\"}, {\"line\": {\"color\": \"#CCEBC5\"}, \"name\": \"org:number_of_employees/members precision\", \"type\": \"scatter\", \"uid\": \"d4436591-af16-4e5c-a139-1cb21b2c4502\", \"x\": [\"6f\", \"7f\", \"8f\", \"9f\", \"10f\", \"11f\", \"12f\", \"13f\", \"14f\", \"nofilter\"], \"xaxis\": \"x35\", \"y\": [0.6311166666666667, 0.6420666666666668, 0.7385333333333334, 0.7047166666666667, 0.68615, 0.67745, 0.7427333333333332, 0.6981666666666667, 0.7570833333333332, 0.7567333333333334], \"yaxis\": \"y35\"}, {\"line\": {\"color\": \"#BC80BD\"}, \"name\": \"org:number_of_employees/members recall\", \"type\": \"scatter\", \"uid\": \"3d565a22-dbf5-407f-8d32-64e0d74c3dce\", \"x\": [\"6f\", \"7f\", \"8f\", \"9f\", \"10f\", \"11f\", \"12f\", \"13f\", \"14f\", \"nofilter\"], \"xaxis\": \"x35\", \"y\": [0.48245, 0.7807, 0.6228000000000001, 0.6929666666666666, 0.7544, 0.7105166666666668, 0.7280500000000001, 0.64035, 0.5438500000000001, 0.6403333333333333], \"yaxis\": \"y35\"}, {\"line\": {\"color\": \"#FCCDE5\"}, \"name\": \"org:number_of_employees/members f1\", \"type\": \"scatter\", \"uid\": \"3d297d27-b517-403c-ab77-395dc7a682aa\", \"x\": [\"6f\", \"7f\", \"8f\", \"9f\", \"10f\", \"11f\", \"12f\", \"13f\", \"14f\", \"nofilter\"], \"xaxis\": \"x35\", \"y\": [0.5423833333333333, 0.7039833333333334, 0.6698666666666667, 0.6950833333333333, 0.7169333333333334, 0.69155, 0.7313166666666667, 0.6641833333333335, 0.6207, 0.6860666666666667], \"yaxis\": \"y35\"}, {\"line\": {\"color\": \"#CCEBC5\"}, \"name\": \"per:city_of_birth precision\", \"type\": \"scatter\", \"uid\": \"2dea6f9d-fd8a-4856-8535-c110ac751797\", \"x\": [\"6f\", \"7f\", \"8f\", \"9f\", \"10f\", \"11f\", \"12f\", \"13f\", \"14f\", \"nofilter\"], \"xaxis\": \"x36\", \"y\": [0.30316666666666664, 0.3972166666666666, 0.43426666666666663, 0.4527833333333333, 0.5528000000000001, 0.48333333333333334, 0.5031833333333333, 0.35000000000000003, 0.38253333333333334, 0.44999999999999996], \"yaxis\": \"y36\"}, {\"line\": {\"color\": \"#BC80BD\"}, \"name\": \"per:city_of_birth recall\", \"type\": \"scatter\", \"uid\": \"a555b148-dfd5-40b8-9ce9-37a74203e584\", \"x\": [\"6f\", \"7f\", \"8f\", \"9f\", \"10f\", \"11f\", \"12f\", \"13f\", \"14f\", \"nofilter\"], \"xaxis\": \"x36\", \"y\": [0.26666666666666666, 0.3, 0.3666666666666667, 0.36666666666666664, 0.3666666666666667, 0.39999999999999997, 0.39999999999999997, 0.3333333333333333, 0.43333333333333335, 0.3666666666666667], \"yaxis\": \"y36\"}, {\"line\": {\"color\": \"#FCCDE5\"}, \"name\": \"per:city_of_birth f1\", \"type\": \"scatter\", \"uid\": \"4e7dfec5-213e-4b59-bd9a-eb1da464e32d\", \"x\": [\"6f\", \"7f\", \"8f\", \"9f\", \"10f\", \"11f\", \"12f\", \"13f\", \"14f\", \"nofilter\"], \"xaxis\": \"x36\", \"y\": [0.2786833333333333, 0.33371666666666666, 0.38465, 0.4018333333333333, 0.43703333333333333, 0.4328, 0.4328166666666666, 0.34073333333333333, 0.40453333333333336, 0.39575000000000005], \"yaxis\": \"y36\"}, {\"line\": {\"color\": \"#CCEBC5\"}, \"name\": \"per:date_of_birth precision\", \"type\": \"scatter\", \"uid\": \"f330e8dd-9852-416b-97e1-5f87ded7078b\", \"x\": [\"6f\", \"7f\", \"8f\", \"9f\", \"10f\", \"11f\", \"12f\", \"13f\", \"14f\", \"nofilter\"], \"xaxis\": \"x37\", \"y\": [0.7554500000000001, 0.8151333333333334, 0.7826666666666666, 0.7933166666666667, 0.8736666666666667, 0.7785666666666667, 0.8130666666666667, 0.8551500000000001, 0.8595166666666666, 0.832], \"yaxis\": \"y37\"}, {\"line\": {\"color\": \"#BC80BD\"}, \"name\": \"per:date_of_birth recall\", \"type\": \"scatter\", \"uid\": \"bc6b437f-8585-4790-8628-7a09b769dbe4\", \"x\": [\"6f\", \"7f\", \"8f\", \"9f\", \"10f\", \"11f\", \"12f\", \"13f\", \"14f\", \"nofilter\"], \"xaxis\": \"x37\", \"y\": [0.7407666666666667, 0.7037333333333334, 0.7037333333333334, 0.7407666666666667, 0.72225, 0.6481833333333333, 0.6852166666666667, 0.7037333333333334, 0.7037333333333332, 0.7037333333333334], \"yaxis\": \"y37\"}, {\"line\": {\"color\": \"#FCCDE5\"}, \"name\": \"per:date_of_birth f1\", \"type\": \"scatter\", \"uid\": \"a0a490fe-57c9-45b0-8f23-2d1e51135776\", \"x\": [\"6f\", \"7f\", \"8f\", \"9f\", \"10f\", \"11f\", \"12f\", \"13f\", \"14f\", \"nofilter\"], \"xaxis\": \"x37\", \"y\": [0.7428666666666667, 0.753, 0.7346666666666667, 0.75995, 0.7874666666666666, 0.7030666666666668, 0.74045, 0.7689500000000001, 0.7673166666666668, 0.7607666666666666], \"yaxis\": \"y37\"}, {\"line\": {\"color\": \"#CCEBC5\"}, \"name\": \"per:stateorprovince_of_death precision\", \"type\": \"scatter\", \"uid\": \"8e2370f2-ae50-4d83-927f-34fd8344f73d\", \"x\": [\"6f\", \"7f\", \"8f\", \"9f\", \"10f\", \"11f\", \"12f\", \"13f\", \"14f\", \"nofilter\"], \"xaxis\": \"x38\", \"y\": [0.6944666666666666, 0.6666833333333333, 0.7222333333333334, 0.6944666666666667, 0.6666833333333333, 0.6667, 0.6694666666666667, 0.6944666666666667, 0.6111166666666666, 0.68335], \"yaxis\": \"y38\"}, {\"line\": {\"color\": \"#BC80BD\"}, \"name\": \"per:stateorprovince_of_death recall\", \"type\": \"scatter\", \"uid\": \"7a41f607-b625-4fc8-9f2a-182ab362605a\", \"x\": [\"6f\", \"7f\", \"8f\", \"9f\", \"10f\", \"11f\", \"12f\", \"13f\", \"14f\", \"nofilter\"], \"xaxis\": \"x38\", \"y\": [0.1905, 0.1667, 0.19049999999999997, 0.1667, 0.1667, 0.1429, 0.1667, 0.1667, 0.1667, 0.17859999999999998], \"yaxis\": \"y38\"}, {\"line\": {\"color\": \"#FCCDE5\"}, \"name\": \"per:stateorprovince_of_death f1\", \"type\": \"scatter\", \"uid\": \"9badb52a-f7dc-4200-9ae2-eb11dfccabf8\", \"x\": [\"6f\", \"7f\", \"8f\", \"9f\", \"10f\", \"11f\", \"12f\", \"13f\", \"14f\", \"nofilter\"], \"xaxis\": \"x38\", \"y\": [0.29541666666666666, 0.2657833333333333, 0.3006333333333333, 0.2679666666666667, 0.26578333333333337, 0.23530000000000004, 0.26505000000000006, 0.2679666666666667, 0.26141666666666663, 0.2813833333333334], \"yaxis\": \"y38\"}, {\"line\": {\"color\": \"#CCEBC5\"}, \"name\": \"per:stateorprovince_of_birth precision\", \"type\": \"scatter\", \"uid\": \"ed1d830a-c227-4120-b3b1-3f4601e95d64\", \"x\": [\"6f\", \"7f\", \"8f\", \"9f\", \"10f\", \"11f\", \"12f\", \"13f\", \"14f\", \"nofilter\"], \"xaxis\": \"x39\", \"y\": [0.43146666666666667, 0.4164833333333333, 0.4026666666666667, 0.437, 0.44626666666666664, 0.45366666666666666, 0.40368333333333334, 0.4439666666666666, 0.4074, 0.43283333333333335], \"yaxis\": \"y39\"}, {\"line\": {\"color\": \"#BC80BD\"}, \"name\": \"per:stateorprovince_of_birth recall\", \"type\": \"scatter\", \"uid\": \"a9eb1c5a-16cd-43f3-bb9a-4e8ad9ea82f4\", \"x\": [\"6f\", \"7f\", \"8f\", \"9f\", \"10f\", \"11f\", \"12f\", \"13f\", \"14f\", \"nofilter\"], \"xaxis\": \"x39\", \"y\": [0.5, 0.5208333333333334, 0.5, 0.5, 0.5, 0.5, 0.5, 0.4791666666666667, 0.5, 0.4791666666666667], \"yaxis\": \"y39\"}, {\"line\": {\"color\": \"#FCCDE5\"}, \"name\": \"per:stateorprovince_of_birth f1\", \"type\": \"scatter\", \"uid\": \"1ee3b301-3922-40b4-9472-1a4ddf3c061c\", \"x\": [\"6f\", \"7f\", \"8f\", \"9f\", \"10f\", \"11f\", \"12f\", \"13f\", \"14f\", \"nofilter\"], \"xaxis\": \"x39\", \"y\": [0.4624000000000001, 0.46241666666666664, 0.4453666666666667, 0.46623333333333344, 0.47113333333333335, 0.47550000000000003, 0.4457333333333333, 0.4601, 0.4487666666666666, 0.4546666666666667], \"yaxis\": \"y39\"}, {\"line\": {\"color\": \"#CCEBC5\"}, \"name\": \"per:country_of_death precision\", \"type\": \"scatter\", \"uid\": \"47d7632f-6809-4d81-a3c2-0cd843c4d8e7\", \"x\": [\"6f\", \"7f\", \"8f\", \"9f\", \"10f\", \"11f\", \"12f\", \"13f\", \"14f\", \"nofilter\"], \"xaxis\": \"x40\", \"y\": [1.0, 1.0, 1.0, 1.0, 1.0, 1.0, 1.0, 1.0, 1.0, 1.0], \"yaxis\": \"y40\"}, {\"line\": {\"color\": \"#BC80BD\"}, \"name\": \"per:country_of_death recall\", \"type\": \"scatter\", \"uid\": \"e78dfd36-8089-4dbf-b408-afb40fad5c8e\", \"x\": [\"6f\", \"7f\", \"8f\", \"9f\", \"10f\", \"11f\", \"12f\", \"13f\", \"14f\", \"nofilter\"], \"xaxis\": \"x40\", \"y\": [0.0, 0.0, 0.0, 0.0, 0.0, 0.0, 0.0, 0.0, 0.0, 0.0], \"yaxis\": \"y40\"}, {\"line\": {\"color\": \"#FCCDE5\"}, \"name\": \"per:country_of_death f1\", \"type\": \"scatter\", \"uid\": \"88445313-e071-4bfc-9576-aed01242bdfc\", \"x\": [\"6f\", \"7f\", \"8f\", \"9f\", \"10f\", \"11f\", \"12f\", \"13f\", \"14f\", \"nofilter\"], \"xaxis\": \"x40\", \"y\": [0.0, 0.0, 0.0, 0.0, 0.0, 0.0, 0.0, 0.0, 0.0, 0.0], \"yaxis\": \"y40\"}, {\"line\": {\"color\": \"#CCEBC5\"}, \"name\": \"per:country_of_birth precision\", \"type\": \"scatter\", \"uid\": \"0576f39b-5860-471e-9e2a-ed1cc551857f\", \"x\": [\"6f\", \"7f\", \"8f\", \"9f\", \"10f\", \"11f\", \"12f\", \"13f\", \"14f\", \"nofilter\"], \"xaxis\": \"x41\", \"y\": [0.3333333333333333, 0.16666666666666666, 0.07196666666666666, 0.16666666666666666, 0.19999999999999998, 0.16666666666666666, 0.075, 0.0, 0.4083333333333334, 0.3333333333333333], \"yaxis\": \"y41\"}, {\"line\": {\"color\": \"#BC80BD\"}, \"name\": \"per:country_of_birth recall\", \"type\": \"scatter\", \"uid\": \"6fda7366-1241-4432-9ef0-07b7e21407cc\", \"x\": [\"6f\", \"7f\", \"8f\", \"9f\", \"10f\", \"11f\", \"12f\", \"13f\", \"14f\", \"nofilter\"], \"xaxis\": \"x41\", \"y\": [0.0, 0.0, 0.10000000000000002, 0.0, 0.03333333333333333, 0.0, 0.06666666666666667, 0.0, 0.06666666666666667, 0.0], \"yaxis\": \"y41\"}, {\"line\": {\"color\": \"#FCCDE5\"}, \"name\": \"per:country_of_birth f1\", \"type\": \"scatter\", \"uid\": \"a9b3fc32-cc7a-4860-a548-6abb62b48228\", \"x\": [\"6f\", \"7f\", \"8f\", \"9f\", \"10f\", \"11f\", \"12f\", \"13f\", \"14f\", \"nofilter\"], \"xaxis\": \"x41\", \"y\": [0.0, 0.0, 0.0787, 0.0, 0.03333333333333333, 0.0, 0.07036666666666667, 0.0, 0.07036666666666667, 0.0], \"yaxis\": \"y41\"}, {\"line\": {\"color\": \"#CCEBC5\"}, \"name\": \"org:dissolved precision\", \"type\": \"scatter\", \"uid\": \"e2b07364-89a4-4d3f-a039-371424b45ae2\", \"x\": [\"6f\", \"7f\", \"8f\", \"9f\", \"10f\", \"11f\", \"12f\", \"13f\", \"14f\", \"nofilter\"], \"xaxis\": \"x42\", \"y\": [1.0, 1.0, 1.0, 1.0, 1.0, 1.0, 1.0, 1.0, 1.0, 1.0], \"yaxis\": \"y42\"}, {\"line\": {\"color\": \"#BC80BD\"}, \"name\": \"org:dissolved recall\", \"type\": \"scatter\", \"uid\": \"c55aa758-a975-4533-8851-07d128fb412f\", \"x\": [\"6f\", \"7f\", \"8f\", \"9f\", \"10f\", \"11f\", \"12f\", \"13f\", \"14f\", \"nofilter\"], \"xaxis\": \"x42\", \"y\": [0.0, 0.0, 0.0, 0.0, 0.0, 0.0, 0.0, 0.0, 0.0, 0.0], \"yaxis\": \"y42\"}, {\"line\": {\"color\": \"#FCCDE5\"}, \"name\": \"org:dissolved f1\", \"type\": \"scatter\", \"uid\": \"ad474085-bfec-457c-851f-d0f3b8aa55c1\", \"x\": [\"6f\", \"7f\", \"8f\", \"9f\", \"10f\", \"11f\", \"12f\", \"13f\", \"14f\", \"nofilter\"], \"xaxis\": \"x42\", \"y\": [0.0, 0.0, 0.0, 0.0, 0.0, 0.0, 0.0, 0.0, 0.0, 0.0], \"yaxis\": \"y42\"}],\n",
       "                        {\"annotations\": [{\"font\": {\"family\": \"Arial\", \"size\": 10}, \"showarrow\": false, \"text\": \"total (18,448)\", \"x\": 0.14444444444444446, \"xanchor\": \"center\", \"xref\": \"paper\", \"y\": 1.0, \"yanchor\": \"bottom\", \"yref\": \"paper\"}, {\"font\": {\"family\": \"Arial\", \"size\": 10}, \"showarrow\": false, \"text\": \"per:title (3,362)\", \"x\": 0.5, \"xanchor\": \"center\", \"xref\": \"paper\", \"y\": 1.0, \"yanchor\": \"bottom\", \"yref\": \"paper\"}, {\"font\": {\"family\": \"Arial\", \"size\": 10}, \"showarrow\": false, \"text\": \"org:top_members/employees (2,424)\", \"x\": 0.8555555555555556, \"xanchor\": \"center\", \"xref\": \"paper\", \"y\": 1.0, \"yanchor\": \"bottom\", \"yref\": \"paper\"}, {\"font\": {\"family\": \"Arial\", \"size\": 10}, \"showarrow\": false, \"text\": \"per:employee_of (1,899)\", \"x\": 0.14444444444444446, \"xanchor\": \"center\", \"xref\": \"paper\", \"y\": 0.9260204081632654, \"yanchor\": \"bottom\", \"yref\": \"paper\"}, {\"font\": {\"family\": \"Arial\", \"size\": 10}, \"showarrow\": false, \"text\": \"org:alternate_names (1,146)\", \"x\": 0.5, \"xanchor\": \"center\", \"xref\": \"paper\", \"y\": 0.9260204081632654, \"yanchor\": \"bottom\", \"yref\": \"paper\"}, {\"font\": {\"family\": \"Arial\", \"size\": 10}, \"showarrow\": false, \"text\": \"per:countries_of_residence (671)\", \"x\": 0.8555555555555556, \"xanchor\": \"center\", \"xref\": \"paper\", \"y\": 0.9260204081632654, \"yanchor\": \"bottom\", \"yref\": \"paper\"}, {\"font\": {\"family\": \"Arial\", \"size\": 10}, \"showarrow\": false, \"text\": \"org:country_of_headquarters (645)\", \"x\": 0.14444444444444446, \"xanchor\": \"center\", \"xref\": \"paper\", \"y\": 0.8520408163265307, \"yanchor\": \"bottom\", \"yref\": \"paper\"}, {\"font\": {\"family\": \"Arial\", \"size\": 10}, \"showarrow\": false, \"text\": \"per:age (633)\", \"x\": 0.5, \"xanchor\": \"center\", \"xref\": \"paper\", \"y\": 0.8520408163265307, \"yanchor\": \"bottom\", \"yref\": \"paper\"}, {\"font\": {\"family\": \"Arial\", \"size\": 10}, \"showarrow\": false, \"text\": \"per:cities_of_residence (553)\", \"x\": 0.8555555555555556, \"xanchor\": \"center\", \"xref\": \"paper\", \"y\": 0.8520408163265307, \"yanchor\": \"bottom\", \"yref\": \"paper\"}, {\"font\": {\"family\": \"Arial\", \"size\": 10}, \"showarrow\": false, \"text\": \"per:origin (535)\", \"x\": 0.14444444444444446, \"xanchor\": \"center\", \"xref\": \"paper\", \"y\": 0.778061224489796, \"yanchor\": \"bottom\", \"yref\": \"paper\"}, {\"font\": {\"family\": \"Arial\", \"size\": 10}, \"showarrow\": false, \"text\": \"org:city_of_headquarters (491)\", \"x\": 0.5, \"xanchor\": \"center\", \"xref\": \"paper\", \"y\": 0.778061224489796, \"yanchor\": \"bottom\", \"yref\": \"paper\"}, {\"font\": {\"family\": \"Arial\", \"size\": 10}, \"showarrow\": false, \"text\": \"per:spouse (417)\", \"x\": 0.8555555555555556, \"xanchor\": \"center\", \"xref\": \"paper\", \"y\": 0.778061224489796, \"yanchor\": \"bottom\", \"yref\": \"paper\"}, {\"font\": {\"family\": \"Arial\", \"size\": 10}, \"showarrow\": false, \"text\": \"org:subsidiaries (409)\", \"x\": 0.14444444444444446, \"xanchor\": \"center\", \"xref\": \"paper\", \"y\": 0.7040816326530612, \"yanchor\": \"bottom\", \"yref\": \"paper\"}, {\"font\": {\"family\": \"Arial\", \"size\": 10}, \"showarrow\": false, \"text\": \"per:stateorprovinces_of_residence (403)\", \"x\": 0.5, \"xanchor\": \"center\", \"xref\": \"paper\", \"y\": 0.7040816326530612, \"yanchor\": \"bottom\", \"yref\": \"paper\"}, {\"font\": {\"family\": \"Arial\", \"size\": 10}, \"showarrow\": false, \"text\": \"org:parents (382)\", \"x\": 0.8555555555555556, \"xanchor\": \"center\", \"xref\": \"paper\", \"y\": 0.7040816326530612, \"yanchor\": \"bottom\", \"yref\": \"paper\"}, {\"font\": {\"family\": \"Arial\", \"size\": 10}, \"showarrow\": false, \"text\": \"per:date_of_death (340)\", \"x\": 0.14444444444444446, \"xanchor\": \"center\", \"xref\": \"paper\", \"y\": 0.6301020408163265, \"yanchor\": \"bottom\", \"yref\": \"paper\"}, {\"font\": {\"family\": \"Arial\", \"size\": 10}, \"showarrow\": false, \"text\": \"per:children (310)\", \"x\": 0.5, \"xanchor\": \"center\", \"xref\": \"paper\", \"y\": 0.6301020408163265, \"yanchor\": \"bottom\", \"yref\": \"paper\"}, {\"font\": {\"family\": \"Arial\", \"size\": 10}, \"showarrow\": false, \"text\": \"org:stateorprovince_of_headquarters (299)\", \"x\": 0.8555555555555556, \"xanchor\": \"center\", \"xref\": \"paper\", \"y\": 0.6301020408163265, \"yanchor\": \"bottom\", \"yref\": \"paper\"}, {\"font\": {\"family\": \"Arial\", \"size\": 10}, \"showarrow\": false, \"text\": \"per:cause_of_death (285)\", \"x\": 0.14444444444444446, \"xanchor\": \"center\", \"xref\": \"paper\", \"y\": 0.5561224489795918, \"yanchor\": \"bottom\", \"yref\": \"paper\"}, {\"font\": {\"family\": \"Arial\", \"size\": 10}, \"showarrow\": false, \"text\": \"per:other_family (259)\", \"x\": 0.5, \"xanchor\": \"center\", \"xref\": \"paper\", \"y\": 0.5561224489795918, \"yanchor\": \"bottom\", \"yref\": \"paper\"}, {\"font\": {\"family\": \"Arial\", \"size\": 10}, \"showarrow\": false, \"text\": \"org:members (255)\", \"x\": 0.8555555555555556, \"xanchor\": \"center\", \"xref\": \"paper\", \"y\": 0.5561224489795918, \"yanchor\": \"bottom\", \"yref\": \"paper\"}, {\"font\": {\"family\": \"Arial\", \"size\": 10}, \"showarrow\": false, \"text\": \"per:parents (208)\", \"x\": 0.14444444444444446, \"xanchor\": \"center\", \"xref\": \"paper\", \"y\": 0.4821428571428572, \"yanchor\": \"bottom\", \"yref\": \"paper\"}, {\"font\": {\"family\": \"Arial\", \"size\": 10}, \"showarrow\": false, \"text\": \"org:founded_by (200)\", \"x\": 0.5, \"xanchor\": \"center\", \"xref\": \"paper\", \"y\": 0.4821428571428572, \"yanchor\": \"bottom\", \"yref\": \"paper\"}, {\"font\": {\"family\": \"Arial\", \"size\": 10}, \"showarrow\": false, \"text\": \"per:city_of_death (199)\", \"x\": 0.8555555555555556, \"xanchor\": \"center\", \"xref\": \"paper\", \"y\": 0.4821428571428572, \"yanchor\": \"bottom\", \"yref\": \"paper\"}, {\"font\": {\"family\": \"Arial\", \"size\": 10}, \"showarrow\": false, \"text\": \"per:schools_attended (199)\", \"x\": 0.14444444444444446, \"xanchor\": \"center\", \"xref\": \"paper\", \"y\": 0.4081632653061225, \"yanchor\": \"bottom\", \"yref\": \"paper\"}, {\"font\": {\"family\": \"Arial\", \"size\": 10}, \"showarrow\": false, \"text\": \"org:website (197)\", \"x\": 0.5, \"xanchor\": \"center\", \"xref\": \"paper\", \"y\": 0.4081632653061225, \"yanchor\": \"bottom\", \"yref\": \"paper\"}, {\"font\": {\"family\": \"Arial\", \"size\": 10}, \"showarrow\": false, \"text\": \"per:siblings (195)\", \"x\": 0.8555555555555556, \"xanchor\": \"center\", \"xref\": \"paper\", \"y\": 0.4081632653061225, \"yanchor\": \"bottom\", \"yref\": \"paper\"}, {\"font\": {\"family\": \"Arial\", \"size\": 10}, \"showarrow\": false, \"text\": \"per:charges (177)\", \"x\": 0.14444444444444446, \"xanchor\": \"center\", \"xref\": \"paper\", \"y\": 0.33418367346938777, \"yanchor\": \"bottom\", \"yref\": \"paper\"}, {\"font\": {\"family\": \"Arial\", \"size\": 10}, \"showarrow\": false, \"text\": \"org:member_of (153)\", \"x\": 0.5, \"xanchor\": \"center\", \"xref\": \"paper\", \"y\": 0.33418367346938777, \"yanchor\": \"bottom\", \"yref\": \"paper\"}, {\"font\": {\"family\": \"Arial\", \"size\": 10}, \"showarrow\": false, \"text\": \"per:alternate_names (142)\", \"x\": 0.8555555555555556, \"xanchor\": \"center\", \"xref\": \"paper\", \"y\": 0.33418367346938777, \"yanchor\": \"bottom\", \"yref\": \"paper\"}, {\"font\": {\"family\": \"Arial\", \"size\": 10}, \"showarrow\": false, \"text\": \"org:shareholders (131)\", \"x\": 0.14444444444444446, \"xanchor\": \"center\", \"xref\": \"paper\", \"y\": 0.2602040816326531, \"yanchor\": \"bottom\", \"yref\": \"paper\"}, {\"font\": {\"family\": \"Arial\", \"size\": 10}, \"showarrow\": false, \"text\": \"org:founded (129)\", \"x\": 0.5, \"xanchor\": \"center\", \"xref\": \"paper\", \"y\": 0.2602040816326531, \"yanchor\": \"bottom\", \"yref\": \"paper\"}, {\"font\": {\"family\": \"Arial\", \"size\": 10}, \"showarrow\": false, \"text\": \"org:political/religious_affiliation (115)\", \"x\": 0.8555555555555556, \"xanchor\": \"center\", \"xref\": \"paper\", \"y\": 0.2602040816326531, \"yanchor\": \"bottom\", \"yref\": \"paper\"}, {\"font\": {\"family\": \"Arial\", \"size\": 10}, \"showarrow\": false, \"text\": \"per:religion (106)\", \"x\": 0.14444444444444446, \"xanchor\": \"center\", \"xref\": \"paper\", \"y\": 0.18622448979591838, \"yanchor\": \"bottom\", \"yref\": \"paper\"}, {\"font\": {\"family\": \"Arial\", \"size\": 10}, \"showarrow\": false, \"text\": \"org:number_of_employees/members (102)\", \"x\": 0.5, \"xanchor\": \"center\", \"xref\": \"paper\", \"y\": 0.18622448979591838, \"yanchor\": \"bottom\", \"yref\": \"paper\"}, {\"font\": {\"family\": \"Arial\", \"size\": 10}, \"showarrow\": false, \"text\": \"per:city_of_birth (98)\", \"x\": 0.8555555555555556, \"xanchor\": \"center\", \"xref\": \"paper\", \"y\": 0.18622448979591838, \"yanchor\": \"bottom\", \"yref\": \"paper\"}, {\"font\": {\"family\": \"Arial\", \"size\": 10}, \"showarrow\": false, \"text\": \"per:date_of_birth (94)\", \"x\": 0.14444444444444446, \"xanchor\": \"center\", \"xref\": \"paper\", \"y\": 0.11224489795918369, \"yanchor\": \"bottom\", \"yref\": \"paper\"}, {\"font\": {\"family\": \"Arial\", \"size\": 10}, \"showarrow\": false, \"text\": \"per:stateorprovince_of_death (90)\", \"x\": 0.5, \"xanchor\": \"center\", \"xref\": \"paper\", \"y\": 0.11224489795918369, \"yanchor\": \"bottom\", \"yref\": \"paper\"}, {\"font\": {\"family\": \"Arial\", \"size\": 10}, \"showarrow\": false, \"text\": \"per:stateorprovince_of_birth (64)\", \"x\": 0.8555555555555556, \"xanchor\": \"center\", \"xref\": \"paper\", \"y\": 0.11224489795918369, \"yanchor\": \"bottom\", \"yref\": \"paper\"}, {\"font\": {\"family\": \"Arial\", \"size\": 10}, \"showarrow\": false, \"text\": \"per:country_of_death (52)\", \"x\": 0.14444444444444446, \"xanchor\": \"center\", \"xref\": \"paper\", \"y\": 0.03826530612244899, \"yanchor\": \"bottom\", \"yref\": \"paper\"}, {\"font\": {\"family\": \"Arial\", \"size\": 10}, \"showarrow\": false, \"text\": \"per:country_of_birth (48)\", \"x\": 0.5, \"xanchor\": \"center\", \"xref\": \"paper\", \"y\": 0.03826530612244899, \"yanchor\": \"bottom\", \"yref\": \"paper\"}, {\"font\": {\"family\": \"Arial\", \"size\": 10}, \"showarrow\": false, \"text\": \"org:dissolved (31)\", \"x\": 0.8555555555555556, \"xanchor\": \"center\", \"xref\": \"paper\", \"y\": 0.03826530612244899, \"yanchor\": \"bottom\", \"yref\": \"paper\"}], \"font\": {\"family\": \"Arial\", \"size\": 12}, \"height\": 3000, \"title\": {\"text\": \"UCCA Filtering Results\"}, \"width\": 1500, \"xaxis\": {\"anchor\": \"y\", \"domain\": [0.0, 0.2888888888888889]}, \"xaxis10\": {\"anchor\": \"y10\", \"domain\": [0.0, 0.2888888888888889]}, \"xaxis11\": {\"anchor\": \"y11\", \"domain\": [0.35555555555555557, 0.6444444444444445]}, \"xaxis12\": {\"anchor\": \"y12\", \"domain\": [0.7111111111111111, 1.0]}, \"xaxis13\": {\"anchor\": \"y13\", \"domain\": [0.0, 0.2888888888888889]}, \"xaxis14\": {\"anchor\": \"y14\", \"domain\": [0.35555555555555557, 0.6444444444444445]}, \"xaxis15\": {\"anchor\": \"y15\", \"domain\": [0.7111111111111111, 1.0]}, \"xaxis16\": {\"anchor\": \"y16\", \"domain\": [0.0, 0.2888888888888889]}, \"xaxis17\": {\"anchor\": \"y17\", \"domain\": [0.35555555555555557, 0.6444444444444445]}, \"xaxis18\": {\"anchor\": \"y18\", \"domain\": [0.7111111111111111, 1.0]}, \"xaxis19\": {\"anchor\": \"y19\", \"domain\": [0.0, 0.2888888888888889]}, \"xaxis2\": {\"anchor\": \"y2\", \"domain\": [0.35555555555555557, 0.6444444444444445]}, \"xaxis20\": {\"anchor\": \"y20\", \"domain\": [0.35555555555555557, 0.6444444444444445]}, \"xaxis21\": {\"anchor\": \"y21\", \"domain\": [0.7111111111111111, 1.0]}, \"xaxis22\": {\"anchor\": \"y22\", \"domain\": [0.0, 0.2888888888888889]}, \"xaxis23\": {\"anchor\": \"y23\", \"domain\": [0.35555555555555557, 0.6444444444444445]}, \"xaxis24\": {\"anchor\": \"y24\", \"domain\": [0.7111111111111111, 1.0]}, \"xaxis25\": {\"anchor\": \"y25\", \"domain\": [0.0, 0.2888888888888889]}, \"xaxis26\": {\"anchor\": \"y26\", \"domain\": [0.35555555555555557, 0.6444444444444445]}, \"xaxis27\": {\"anchor\": \"y27\", \"domain\": [0.7111111111111111, 1.0]}, \"xaxis28\": {\"anchor\": \"y28\", \"domain\": [0.0, 0.2888888888888889]}, \"xaxis29\": {\"anchor\": \"y29\", \"domain\": [0.35555555555555557, 0.6444444444444445]}, \"xaxis3\": {\"anchor\": \"y3\", \"domain\": [0.7111111111111111, 1.0]}, \"xaxis30\": {\"anchor\": \"y30\", \"domain\": [0.7111111111111111, 1.0]}, \"xaxis31\": {\"anchor\": \"y31\", \"domain\": [0.0, 0.2888888888888889]}, \"xaxis32\": {\"anchor\": \"y32\", \"domain\": [0.35555555555555557, 0.6444444444444445]}, \"xaxis33\": {\"anchor\": \"y33\", \"domain\": [0.7111111111111111, 1.0]}, \"xaxis34\": {\"anchor\": \"y34\", \"domain\": [0.0, 0.2888888888888889]}, \"xaxis35\": {\"anchor\": \"y35\", \"domain\": [0.35555555555555557, 0.6444444444444445]}, \"xaxis36\": {\"anchor\": \"y36\", \"domain\": [0.7111111111111111, 1.0]}, \"xaxis37\": {\"anchor\": \"y37\", \"domain\": [0.0, 0.2888888888888889]}, \"xaxis38\": {\"anchor\": \"y38\", \"domain\": [0.35555555555555557, 0.6444444444444445]}, \"xaxis39\": {\"anchor\": \"y39\", \"domain\": [0.7111111111111111, 1.0]}, \"xaxis4\": {\"anchor\": \"y4\", \"domain\": [0.0, 0.2888888888888889]}, \"xaxis40\": {\"anchor\": \"y40\", \"domain\": [0.0, 0.2888888888888889]}, \"xaxis41\": {\"anchor\": \"y41\", \"domain\": [0.35555555555555557, 0.6444444444444445]}, \"xaxis42\": {\"anchor\": \"y42\", \"domain\": [0.7111111111111111, 1.0]}, \"xaxis5\": {\"anchor\": \"y5\", \"domain\": [0.35555555555555557, 0.6444444444444445]}, \"xaxis6\": {\"anchor\": \"y6\", \"domain\": [0.7111111111111111, 1.0]}, \"xaxis7\": {\"anchor\": \"y7\", \"domain\": [0.0, 0.2888888888888889]}, \"xaxis8\": {\"anchor\": \"y8\", \"domain\": [0.35555555555555557, 0.6444444444444445]}, \"xaxis9\": {\"anchor\": \"y9\", \"domain\": [0.7111111111111111, 1.0]}, \"yaxis\": {\"anchor\": \"x\", \"domain\": [0.9617346938775511, 1.0]}, \"yaxis10\": {\"anchor\": \"x10\", \"domain\": [0.739795918367347, 0.778061224489796]}, \"yaxis11\": {\"anchor\": \"x11\", \"domain\": [0.739795918367347, 0.778061224489796]}, \"yaxis12\": {\"anchor\": \"x12\", \"domain\": [0.739795918367347, 0.778061224489796]}, \"yaxis13\": {\"anchor\": \"x13\", \"domain\": [0.6658163265306123, 0.7040816326530612]}, \"yaxis14\": {\"anchor\": \"x14\", \"domain\": [0.6658163265306123, 0.7040816326530612]}, \"yaxis15\": {\"anchor\": \"x15\", \"domain\": [0.6658163265306123, 0.7040816326530612]}, \"yaxis16\": {\"anchor\": \"x16\", \"domain\": [0.5918367346938775, 0.6301020408163265]}, \"yaxis17\": {\"anchor\": \"x17\", \"domain\": [0.5918367346938775, 0.6301020408163265]}, \"yaxis18\": {\"anchor\": \"x18\", \"domain\": [0.5918367346938775, 0.6301020408163265]}, \"yaxis19\": {\"anchor\": \"x19\", \"domain\": [0.5178571428571429, 0.5561224489795918]}, \"yaxis2\": {\"anchor\": \"x2\", \"domain\": [0.9617346938775511, 1.0]}, \"yaxis20\": {\"anchor\": \"x20\", \"domain\": [0.5178571428571429, 0.5561224489795918]}, \"yaxis21\": {\"anchor\": \"x21\", \"domain\": [0.5178571428571429, 0.5561224489795918]}, \"yaxis22\": {\"anchor\": \"x22\", \"domain\": [0.4438775510204082, 0.4821428571428572]}, \"yaxis23\": {\"anchor\": \"x23\", \"domain\": [0.4438775510204082, 0.4821428571428572]}, \"yaxis24\": {\"anchor\": \"x24\", \"domain\": [0.4438775510204082, 0.4821428571428572]}, \"yaxis25\": {\"anchor\": \"x25\", \"domain\": [0.3698979591836735, 0.4081632653061225]}, \"yaxis26\": {\"anchor\": \"x26\", \"domain\": [0.3698979591836735, 0.4081632653061225]}, \"yaxis27\": {\"anchor\": \"x27\", \"domain\": [0.3698979591836735, 0.4081632653061225]}, \"yaxis28\": {\"anchor\": \"x28\", \"domain\": [0.29591836734693877, 0.33418367346938777]}, \"yaxis29\": {\"anchor\": \"x29\", \"domain\": [0.29591836734693877, 0.33418367346938777]}, \"yaxis3\": {\"anchor\": \"x3\", \"domain\": [0.9617346938775511, 1.0]}, \"yaxis30\": {\"anchor\": \"x30\", \"domain\": [0.29591836734693877, 0.33418367346938777]}, \"yaxis31\": {\"anchor\": \"x31\", \"domain\": [0.22193877551020408, 0.2602040816326531]}, \"yaxis32\": {\"anchor\": \"x32\", \"domain\": [0.22193877551020408, 0.2602040816326531]}, \"yaxis33\": {\"anchor\": \"x33\", \"domain\": [0.22193877551020408, 0.2602040816326531]}, \"yaxis34\": {\"anchor\": \"x34\", \"domain\": [0.14795918367346939, 0.18622448979591838]}, \"yaxis35\": {\"anchor\": \"x35\", \"domain\": [0.14795918367346939, 0.18622448979591838]}, \"yaxis36\": {\"anchor\": \"x36\", \"domain\": [0.14795918367346939, 0.18622448979591838]}, \"yaxis37\": {\"anchor\": \"x37\", \"domain\": [0.07397959183673469, 0.11224489795918369]}, \"yaxis38\": {\"anchor\": \"x38\", \"domain\": [0.07397959183673469, 0.11224489795918369]}, \"yaxis39\": {\"anchor\": \"x39\", \"domain\": [0.07397959183673469, 0.11224489795918369]}, \"yaxis4\": {\"anchor\": \"x4\", \"domain\": [0.8877551020408164, 0.9260204081632654]}, \"yaxis40\": {\"anchor\": \"x40\", \"domain\": [0.0, 0.03826530612244899]}, \"yaxis41\": {\"anchor\": \"x41\", \"domain\": [0.0, 0.03826530612244899]}, \"yaxis42\": {\"anchor\": \"x42\", \"domain\": [0.0, 0.03826530612244899]}, \"yaxis5\": {\"anchor\": \"x5\", \"domain\": [0.8877551020408164, 0.9260204081632654]}, \"yaxis6\": {\"anchor\": \"x6\", \"domain\": [0.8877551020408164, 0.9260204081632654]}, \"yaxis7\": {\"anchor\": \"x7\", \"domain\": [0.8137755102040818, 0.8520408163265307]}, \"yaxis8\": {\"anchor\": \"x8\", \"domain\": [0.8137755102040818, 0.8520408163265307]}, \"yaxis9\": {\"anchor\": \"x9\", \"domain\": [0.8137755102040818, 0.8520408163265307]}},\n",
       "                        {\"plotlyServerURL\": \"https://plot.ly\", \"responsive\": true}\n",
       "                    ).then(function(){\n",
       "                            \n",
       "var gd = document.getElementById('12af03b5-2c6c-4fd0-8a98-65fe137cb6e5');\n",
       "var x = new MutationObserver(function (mutations, observer) {{\n",
       "        var display = window.getComputedStyle(gd).display;\n",
       "        if (!display || display === 'none') {{\n",
       "            console.log([gd, 'removed!']);\n",
       "            Plotly.purge(gd);\n",
       "            observer.disconnect();\n",
       "        }}\n",
       "}});\n",
       "\n",
       "// Listen for the removal of the full notebook cells\n",
       "var notebookContainer = gd.closest('#notebook-container');\n",
       "if (notebookContainer) {{\n",
       "    x.observe(notebookContainer, {childList: true});\n",
       "}}\n",
       "\n",
       "// Listen for the clearing of the current output cell\n",
       "var outputEl = gd.closest('.output');\n",
       "if (outputEl) {{\n",
       "    x.observe(outputEl, {childList: true});\n",
       "}}\n",
       "\n",
       "                        })\n",
       "                };\n",
       "                });\n",
       "            </script>\n",
       "        </div>"
      ]
     },
     "metadata": {},
     "output_type": "display_data"
    }
   ],
   "source": [
    "layout = go.Layout(\n",
    "    title='UCCA Filtering Results',\n",
    "    width=1500,\n",
    "    height=3000,\n",
    "    font=dict(family=\"Arial\", size=12)\n",
    ")\n",
    "\n",
    "fig = make_subplots(\n",
    "    rows=num_rows, \n",
    "    cols=num_columns,\n",
    "    subplot_titles=list(titles),\n",
    ")\n",
    "\n",
    "not_interestes_in_result = fig['layout'].update(layout)\n",
    "\n",
    "\n",
    "for ind, relation in enumerate(relations):\n",
    "    \n",
    "    row_num, column_num = divmod(ind,num_columns)\n",
    "    \n",
    "    column_num += 1\n",
    "    row_num +=1 \n",
    "    \n",
    "    precision_results = []\n",
    "    recall_results = []\n",
    "    f1_results = []\n",
    "    \n",
    "    for filter_length in filter_lengths:\n",
    "        precision_result = results_table[results_table.index ==relation][filter_length]['precision-{}'.format(filter_length)][0]\n",
    "        recall_result = results_table[results_table.index ==relation][filter_length]['recall-{}'.format(filter_length)][0]\n",
    "        f1_result = results_table[results_table.index ==relation][filter_length]['f1-{}'.format(filter_length)][0]\n",
    "    \n",
    "        precision_results.append(precision_result)\n",
    "        recall_results.append(recall_result)\n",
    "        f1_results.append(f1_result)\n",
    "        \n",
    "    fig.add_trace(\n",
    "        go.Scatter(\n",
    "            x=filter_lengths,\n",
    "            y=precision_results,\n",
    "            name='{} precision'.format(relation),\n",
    "            line=dict(color='#CCEBC5')),\n",
    "        row=row_num,\n",
    "        col=column_num)        \n",
    "\n",
    "    fig.add_trace(\n",
    "        go.Scatter(\n",
    "            x=filter_lengths,\n",
    "            y=recall_results,\n",
    "            name='{} recall'.format(relation),\n",
    "            line=dict(color='#BC80BD')),\n",
    "        row=row_num,\n",
    "        col=column_num)        \n",
    "\n",
    "    fig.add_trace(\n",
    "        go.Scatter(\n",
    "            x=filter_lengths,\n",
    "            y=f1_results,\n",
    "            name='{} f1'.format(relation),\n",
    "            line=dict(color='#FCCDE5')),\n",
    "        row=row_num,\n",
    "        col=column_num)        \n",
    "\n",
    "    \n",
    "        \n",
    "for i in fig['layout']['annotations']:\n",
    "    i['font'] = dict(family=\"Arial\", size=10)\n",
    "\n",
    "    \n",
    "\n",
    "fig.show()\n",
    "    "
   ]
  },
  {
   "cell_type": "code",
   "execution_count": null,
   "metadata": {},
   "outputs": [],
   "source": []
  }
 ],
 "metadata": {
  "kernelspec": {
   "display_name": "Python 3",
   "language": "python",
   "name": "python3"
  },
  "language_info": {
   "codemirror_mode": {
    "name": "ipython",
    "version": 3
   },
   "file_extension": ".py",
   "mimetype": "text/x-python",
   "name": "python",
   "nbconvert_exporter": "python",
   "pygments_lexer": "ipython3",
   "version": "3.7.6"
  }
 },
 "nbformat": 4,
 "nbformat_minor": 4
}
