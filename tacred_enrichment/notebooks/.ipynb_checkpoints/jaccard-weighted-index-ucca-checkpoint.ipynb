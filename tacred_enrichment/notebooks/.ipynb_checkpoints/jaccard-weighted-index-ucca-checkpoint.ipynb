{
 "cells": [
  {
   "cell_type": "code",
   "execution_count": 129,
   "metadata": {},
   "outputs": [],
   "source": [
    "import numpy\n",
    "import math\n",
    "import pandas"
   ]
  },
  {
   "cell_type": "code",
   "execution_count": 135,
   "metadata": {},
   "outputs": [],
   "source": [
    "ud_train = pandas.read_csv(r'C:\\Users\\jyellin\\re_1\\Code\\path_to_re\\train-ud_paths_per_relation.csv')"
   ]
  },
  {
   "cell_type": "code",
   "execution_count": 136,
   "metadata": {},
   "outputs": [],
   "source": [
    "ud_train_stats_by_relation_and_path = ud_train.groupby(['relation','path'])['id'].count().reset_index().rename(columns={'id': 'total'}).sort_values(['relation','total'], ascending=[True,False]).reset_index(drop=True)\n",
    "ud_train_stats_relation = ud_train.groupby(['relation'])['id'].count().reset_index().rename(columns={'id': 'total'}).sort_values(['relation'], ascending=[True]).set_index('relation')"
   ]
  },
  {
   "cell_type": "code",
   "execution_count": 137,
   "metadata": {},
   "outputs": [],
   "source": [
    "paths = ud_train_stats_by_relation_and_path['path'].unique().tolist()\n",
    "relations = ud_train_stats_by_relation_and_path['relation'].unique().tolist()\n",
    "\n",
    "path_to_index = {k: v for v, k in enumerate(paths)}\n",
    "relation_to_index = {k: v for v, k in enumerate(relations)}\n",
    "\n",
    "totals = ud_train_stats_relation['total'].to_list()\n",
    "mean_total = numpy.mean(totals)"
   ]
  },
  {
   "cell_type": "code",
   "execution_count": 138,
   "metadata": {},
   "outputs": [],
   "source": [
    "relation_to_count_matrix = numpy.zeros((len(relations), len(paths)), dtype=numpy.intc)\n",
    "\n",
    "for index, row in ud_train_stats_by_relation_and_path.iterrows():\n",
    "    relation_index = relation_to_index[row['relation']]\n",
    "    path_index = path_to_index[row['path']]\n",
    "    \n",
    "    total = row['total']\n",
    "    if total == 1:\n",
    "        total = 0\n",
    "    relation_to_count_matrix[relation_index, path_index] = total\n",
    "\n",
    "relation_to_count_df = pandas.DataFrame(relation_to_count_matrix, index=relations, columns=paths)\n",
    "#relation_to_count_matrix = numpy.concatenate((numpy.reshape(totals, (-1,1)),relation_to_count_matrix), axis=1)"
   ]
  },
  {
   "cell_type": "code",
   "execution_count": 140,
   "metadata": {},
   "outputs": [],
   "source": [
    "# create a single data frame from the total-relation counts and the relation-to-cound dataframe\n",
    "temp = pandas.concat([ud_train_stats_relation,relation_to_count_df], axis=1)\n",
    "\n",
    "# filter out all relations for which there are less than 25% of the mean total sentences in the training set\n",
    "temp = temp[temp['total'] >= mean_total/4]\n",
    "\n",
    "# normalize counts \n",
    "temp = temp.apply( lambda x: x / x['total'] * mean_total, axis=1).drop(columns=['total'])\n",
    "\n",
    "# round up to \n",
    "relation_to_count_normalized = temp.round(0).astype(int)"
   ]
  },
  {
   "cell_type": "code",
   "execution_count": 173,
   "metadata": {},
   "outputs": [],
   "source": [
    "relations = relation_to_count_normalized.index.to_list()\n",
    "paths = relation_to_count_normalized.columns.to_list()\n",
    "work = relation_to_count_normalized.to_numpy()\n",
    "\n",
    "jaccard_weighted_matrix = numpy.empty((len(relations), len(relations)))\n",
    "\n",
    "for i, i_relation in enumerate(relations):\n",
    "    i_row = work[i]\n",
    "\n",
    "    for j, j_relation in enumerate(relations):\n",
    "        \n",
    "        j_row = work[j]\n",
    "        \n",
    "        numerator = 0\n",
    "        denominator = 0\n",
    "        for k, k_path in enumerate(paths):\n",
    "            numerator = numerator + min(i_row[k], j_row[k])\n",
    "            denominator = denominator + max(i_row[k], j_row[k])\n",
    "        \n",
    "        jaccard_weighted_matrix[i,j] = numerator / denominator\n",
    "\n",
    "#df = pandas.DataFrame(matrix, index=relations, columns=relations)\n",
    "#df.to_csv('./matrix_ud.csv')\n"
   ]
  },
  {
   "cell_type": "code",
   "execution_count": 175,
   "metadata": {},
   "outputs": [],
   "source": [
    "df = pandas.DataFrame(jaccard_weighted_matrix, index=relations, columns=relations)\n",
    "df.to_csv('./ud-jaccard_weighted_matrix.csv')"
   ]
  },
  {
   "cell_type": "code",
   "execution_count": 93,
   "metadata": {},
   "outputs": [
    {
     "data": {
      "text/plain": [
       "[806,\n",
       " 382,\n",
       " 468,\n",
       " 23,\n",
       " 91,\n",
       " 124,\n",
       " 121,\n",
       " 170,\n",
       " 75,\n",
       " 283,\n",
       " 105,\n",
       " 75,\n",
       " 226,\n",
       " 293,\n",
       " 1888,\n",
       " 111,\n",
       " 390,\n",
       " 104,\n",
       " 117,\n",
       " 72,\n",
       " 211,\n",
       " 374,\n",
       " 65,\n",
       " 81,\n",
       " 445,\n",
       " 28,\n",
       " 6,\n",
       " 63,\n",
       " 134,\n",
       " 1523,\n",
       " 325,\n",
       " 179,\n",
       " 151,\n",
       " 53,\n",
       " 149,\n",
       " 165,\n",
       " 258,\n",
       " 38,\n",
       " 42,\n",
       " 330,\n",
       " 2442]"
      ]
     },
     "execution_count": 93,
     "metadata": {},
     "output_type": "execute_result"
    }
   ],
   "source": [
    "totals"
   ]
  },
  {
   "cell_type": "code",
   "execution_count": null,
   "metadata": {},
   "outputs": [],
   "source": []
  }
 ],
 "metadata": {
  "kernelspec": {
   "display_name": "Python 3",
   "language": "python",
   "name": "python3"
  },
  "language_info": {
   "codemirror_mode": {
    "name": "ipython",
    "version": 3
   },
   "file_extension": ".py",
   "mimetype": "text/x-python",
   "name": "python",
   "nbconvert_exporter": "python",
   "pygments_lexer": "ipython3",
   "version": "3.7.4"
  }
 },
 "nbformat": 4,
 "nbformat_minor": 2
}
