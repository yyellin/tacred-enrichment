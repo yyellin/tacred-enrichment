{
 "cells": [
  {
   "cell_type": "code",
   "execution_count": 1,
   "metadata": {},
   "outputs": [
    {
     "data": {
      "text/html": [
       "        <script type=\"text/javascript\">\n",
       "        window.PlotlyConfig = {MathJaxConfig: 'local'};\n",
       "        if (window.MathJax) {MathJax.Hub.Config({SVG: {font: \"STIX-Web\"}});}\n",
       "        if (typeof require !== 'undefined') {\n",
       "        require.undef(\"plotly\");\n",
       "        requirejs.config({\n",
       "            paths: {\n",
       "                'plotly': ['https://cdn.plot.ly/plotly-latest.min']\n",
       "            }\n",
       "        });\n",
       "        require(['plotly'], function(Plotly) {\n",
       "            window._Plotly = Plotly;\n",
       "        });\n",
       "        }\n",
       "        </script>\n",
       "        "
      ]
     },
     "metadata": {},
     "output_type": "display_data"
    }
   ],
   "source": [
    "from plotly.offline import download_plotlyjs, init_notebook_mode, plot, iplot\n",
    "init_notebook_mode(connected=True)"
   ]
  },
  {
   "cell_type": "code",
   "execution_count": 2,
   "metadata": {},
   "outputs": [],
   "source": [
    "import pandas\n",
    "\n",
    "train = pandas.read_csv(r'C:\\Users\\JYellin\\re_1\\tacred\\results\\general\\train-ucca_paths_v0.0.5.csv')\n",
    "test = pandas.read_csv(r'C:\\Users\\JYellin\\re_1\\tacred\\results\\general\\test-ucca_paths_v0.0.5.csv')"
   ]
  },
  {
   "cell_type": "code",
   "execution_count": 3,
   "metadata": {},
   "outputs": [],
   "source": [
    "relation_to_paths = train.groupby(['relation'])['path'].unique().to_dict()"
   ]
  },
  {
   "cell_type": "code",
   "execution_count": 4,
   "metadata": {},
   "outputs": [],
   "source": [
    "def label_sentence_recall(test_row, relation):\n",
    "    path = test_row['path']\n",
    "    true_relation = test_row['relation']\n",
    "    \n",
    "    if path in relation_to_paths[relation]:\n",
    "        if true_relation == relation:\n",
    "            return 'TP'\n",
    "        else:\n",
    "            return 'FP'\n",
    "    else:\n",
    "        return 'N'"
   ]
  },
  {
   "cell_type": "code",
   "execution_count": 5,
   "metadata": {},
   "outputs": [],
   "source": [
    "for relation in filter(lambda relation: relation != 'no_relation', relation_to_paths.keys()):\n",
    "    test[relation] = test.apply(lambda row : label_sentence_recall(row, relation), axis=1)    "
   ]
  },
  {
   "cell_type": "code",
   "execution_count": 6,
   "metadata": {},
   "outputs": [],
   "source": [
    "stats = []\n",
    "overall_tp = 0\n",
    "overall_fp = 0\n",
    "\n",
    "for relation in filter(lambda relation: relation != 'no_relation', relation_to_paths.keys()):\n",
    "\n",
    "    counts = test[relation].value_counts().to_dict()\n",
    "        \n",
    "    tp = counts.get('TP', 0)\n",
    "    fp = counts.get('FP', 0)\n",
    "    precision = tp / (tp+fp)\n",
    "\n",
    "    stats.append( (relation, round(precision,4)) )\n",
    "    \n",
    "    overall_tp += tp\n",
    "    overall_fp += fp\n",
    "    \n",
    "overall_precision = overall_tp / (overall_tp+overall_fp)\n",
    "\n",
    "    \n",
    "\n",
    "stats.append( ('overall', round(overall_precision,4)) )\n",
    "stats = sorted(stats, key=lambda x: x[1], reverse=True)"
   ]
  },
  {
   "cell_type": "code",
   "execution_count": 8,
   "metadata": {},
   "outputs": [
    {
     "data": {
      "application/vnd.plotly.v1+json": {
       "config": {
        "linkText": "Export to plot.ly",
        "plotlyServerURL": "https://plot.ly",
        "showLink": false
       },
       "data": [
        {
         "marker": {
          "color": [
           "rgb(58,200,225)",
           "rgb(58,200,225)",
           "rgb(58,200,225)",
           "rgb(58,200,225)",
           "rgb(58,200,225)",
           "rgb(58,200,225)",
           "rgb(58,200,225)",
           "rgb(58,200,225)",
           "rgb(58,200,225)",
           "rgb(58,200,225)",
           "rgb(181,59,89)",
           "rgb(58,200,225)",
           "rgb(58,200,225)",
           "rgb(58,200,225)",
           "rgb(58,200,225)",
           "rgb(58,200,225)",
           "rgb(58,200,225)",
           "rgb(58,200,225)",
           "rgb(58,200,225)",
           "rgb(58,200,225)",
           "rgb(58,200,225)",
           "rgb(58,200,225)",
           "rgb(58,200,225)",
           "rgb(58,200,225)",
           "rgb(58,200,225)",
           "rgb(58,200,225)",
           "rgb(58,200,225)",
           "rgb(58,200,225)",
           "rgb(58,200,225)",
           "rgb(58,200,225)",
           "rgb(58,200,225)",
           "rgb(58,200,225)",
           "rgb(58,200,225)",
           "rgb(58,200,225)",
           "rgb(58,200,225)",
           "rgb(58,200,225)",
           "rgb(58,200,225)",
           "rgb(58,200,225)",
           "rgb(58,200,225)",
           "rgb(58,200,225)",
           "rgb(58,200,225)",
           "rgb(58,200,225)"
          ],
          "line": {
           "color": "rgb(8,48,107)",
           "width": 0.5
          }
         },
         "name": "Precision",
         "opacity": 0.6,
         "type": "bar",
         "uid": "9c9bd59f-406d-4930-899c-1c0f7e3eb1bd",
         "width": 0.5,
         "x": [
          "per:title",
          "org:top_members/employees",
          "per:age",
          "org:alternate_names",
          "per:employee_of",
          "org:founded",
          "per:cities_of_residence",
          "per:origin",
          "per:countries_of_residence",
          "per:charges",
          "overall",
          "per:date_of_death",
          "org:city_of_headquarters",
          "per:stateorprovinces_of_residence",
          "per:date_of_birth",
          "org:founded_by",
          "per:parents",
          "org:country_of_headquarters",
          "per:siblings",
          "org:website",
          "per:religion",
          "org:parents",
          "per:spouse",
          "org:stateorprovince_of_headquarters",
          "per:other_family",
          "org:number_of_employees/members",
          "org:subsidiaries",
          "per:city_of_death",
          "per:schools_attended",
          "per:cause_of_death",
          "per:stateorprovince_of_birth",
          "per:children",
          "org:members",
          "org:political/religious_affiliation",
          "per:alternate_names",
          "org:member_of",
          "per:city_of_birth",
          "org:shareholders",
          "per:country_of_birth",
          "per:stateorprovince_of_death",
          "org:dissolved",
          "per:country_of_death"
         ],
         "y": [
          0.057,
          0.0484,
          0.0379,
          0.0315,
          0.0284,
          0.0277,
          0.0255,
          0.0196,
          0.0176,
          0.0164,
          0.0158,
          0.0149,
          0.0131,
          0.0113,
          0.0111,
          0.0108,
          0.0105,
          0.0103,
          0.008,
          0.0077,
          0.0077,
          0.0069,
          0.0069,
          0.0065,
          0.0062,
          0.0055,
          0.005,
          0.0047,
          0.0046,
          0.0044,
          0.0031,
          0.003,
          0.0026,
          0.0025,
          0.0019,
          0.0017,
          0.0015,
          0.0012,
          0.001,
          0.0007,
          0,
          0
         ]
        }
       ],
       "layout": {
        "barmode": "overlay",
        "title": {
         "text": "UCCA Path - Precision"
        },
        "width": 1200,
        "xaxis": {
         "automargin": true,
         "tickangle": 45,
         "title": {
          "text": "Relation"
         }
        },
        "yaxis": {
         "title": {
          "text": "Precision"
         }
        }
       }
      },
      "text/html": [
       "<div>\n",
       "        \n",
       "        \n",
       "            <div id=\"ae7672c3-657e-42fc-b1a4-4c5102b7795b\" class=\"plotly-graph-div\" style=\"height:525px; width:1200px;\"></div>\n",
       "            <script type=\"text/javascript\">\n",
       "                require([\"plotly\"], function(Plotly) {\n",
       "                    window.PLOTLYENV=window.PLOTLYENV || {};\n",
       "                    window.PLOTLYENV.BASE_URL='https://plot.ly';\n",
       "                    \n",
       "                if (document.getElementById(\"ae7672c3-657e-42fc-b1a4-4c5102b7795b\")) {\n",
       "                    Plotly.newPlot(\n",
       "                        'ae7672c3-657e-42fc-b1a4-4c5102b7795b',\n",
       "                        [{\"marker\": {\"color\": [\"rgb(58,200,225)\", \"rgb(58,200,225)\", \"rgb(58,200,225)\", \"rgb(58,200,225)\", \"rgb(58,200,225)\", \"rgb(58,200,225)\", \"rgb(58,200,225)\", \"rgb(58,200,225)\", \"rgb(58,200,225)\", \"rgb(58,200,225)\", \"rgb(181,59,89)\", \"rgb(58,200,225)\", \"rgb(58,200,225)\", \"rgb(58,200,225)\", \"rgb(58,200,225)\", \"rgb(58,200,225)\", \"rgb(58,200,225)\", \"rgb(58,200,225)\", \"rgb(58,200,225)\", \"rgb(58,200,225)\", \"rgb(58,200,225)\", \"rgb(58,200,225)\", \"rgb(58,200,225)\", \"rgb(58,200,225)\", \"rgb(58,200,225)\", \"rgb(58,200,225)\", \"rgb(58,200,225)\", \"rgb(58,200,225)\", \"rgb(58,200,225)\", \"rgb(58,200,225)\", \"rgb(58,200,225)\", \"rgb(58,200,225)\", \"rgb(58,200,225)\", \"rgb(58,200,225)\", \"rgb(58,200,225)\", \"rgb(58,200,225)\", \"rgb(58,200,225)\", \"rgb(58,200,225)\", \"rgb(58,200,225)\", \"rgb(58,200,225)\", \"rgb(58,200,225)\", \"rgb(58,200,225)\"], \"line\": {\"color\": \"rgb(8,48,107)\", \"width\": 0.5}}, \"name\": \"Precision\", \"opacity\": 0.6, \"type\": \"bar\", \"uid\": \"9c9bd59f-406d-4930-899c-1c0f7e3eb1bd\", \"width\": 0.5, \"x\": [\"per:title\", \"org:top_members/employees\", \"per:age\", \"org:alternate_names\", \"per:employee_of\", \"org:founded\", \"per:cities_of_residence\", \"per:origin\", \"per:countries_of_residence\", \"per:charges\", \"overall\", \"per:date_of_death\", \"org:city_of_headquarters\", \"per:stateorprovinces_of_residence\", \"per:date_of_birth\", \"org:founded_by\", \"per:parents\", \"org:country_of_headquarters\", \"per:siblings\", \"org:website\", \"per:religion\", \"org:parents\", \"per:spouse\", \"org:stateorprovince_of_headquarters\", \"per:other_family\", \"org:number_of_employees/members\", \"org:subsidiaries\", \"per:city_of_death\", \"per:schools_attended\", \"per:cause_of_death\", \"per:stateorprovince_of_birth\", \"per:children\", \"org:members\", \"org:political/religious_affiliation\", \"per:alternate_names\", \"org:member_of\", \"per:city_of_birth\", \"org:shareholders\", \"per:country_of_birth\", \"per:stateorprovince_of_death\", \"org:dissolved\", \"per:country_of_death\"], \"y\": [0.057, 0.0484, 0.0379, 0.0315, 0.0284, 0.0277, 0.0255, 0.0196, 0.0176, 0.0164, 0.0158, 0.0149, 0.0131, 0.0113, 0.0111, 0.0108, 0.0105, 0.0103, 0.008, 0.0077, 0.0077, 0.0069, 0.0069, 0.0065, 0.0062, 0.0055, 0.005, 0.0047, 0.0046, 0.0044, 0.0031, 0.003, 0.0026, 0.0025, 0.0019, 0.0017, 0.0015, 0.0012, 0.001, 0.0007, 0.0, 0.0]}],\n",
       "                        {\"barmode\": \"overlay\", \"title\": {\"text\": \"UCCA Path - Precision\"}, \"width\": 1200, \"xaxis\": {\"automargin\": true, \"tickangle\": 45, \"title\": {\"text\": \"Relation\"}}, \"yaxis\": {\"title\": {\"text\": \"Precision\"}}},\n",
       "                        {\"showLink\": false, \"linkText\": \"Export to plot.ly\", \"plotlyServerURL\": \"https://plot.ly\", \"responsive\": true}\n",
       "                    ).then(function(){\n",
       "                            \n",
       "var gd = document.getElementById('ae7672c3-657e-42fc-b1a4-4c5102b7795b');\n",
       "var x = new MutationObserver(function (mutations, observer) {{\n",
       "        var display = window.getComputedStyle(gd).display;\n",
       "        if (!display || display === 'none') {{\n",
       "            console.log([gd, 'removed!']);\n",
       "            Plotly.purge(gd);\n",
       "            observer.disconnect();\n",
       "        }}\n",
       "}});\n",
       "\n",
       "// Listen for the removal of the full notebook cells\n",
       "var notebookContainer = gd.closest('#notebook-container');\n",
       "if (notebookContainer) {{\n",
       "    x.observe(notebookContainer, {childList: true});\n",
       "}}\n",
       "\n",
       "// Listen for the clearing of the current output cell\n",
       "var outputEl = gd.closest('.output');\n",
       "if (outputEl) {{\n",
       "    x.observe(outputEl, {childList: true});\n",
       "}}\n",
       "\n",
       "                        })\n",
       "                };\n",
       "                });\n",
       "            </script>\n",
       "        </div>"
      ]
     },
     "metadata": {},
     "output_type": "display_data"
    }
   ],
   "source": [
    "import plotly.graph_objs as go\n",
    "\n",
    "overall_index = next(i for (i, (relation, score)) in enumerate(stats) if relation == 'overall')\n",
    "\n",
    "colors = ['rgb(58,200,225)'] * len(stats)\n",
    "colors[overall_index] = 'rgb(181,59,89)'\n",
    "\n",
    "\n",
    "trace = go.Bar(\n",
    "    x=[stat[0] for stat in stats],\n",
    "    y=[stat[1] for stat in stats],\n",
    "    name='Precision',\n",
    "    width=0.5,\n",
    "    marker=dict(\n",
    "        color=colors,\n",
    "        line=dict(\n",
    "            color='rgb(8,48,107)',\n",
    "            width=0.5),\n",
    "        ),\n",
    "    opacity=0.6\n",
    ")\n",
    "\n",
    "data = [trace]\n",
    "layout = go.Layout(\n",
    "    title='UCCA Path - Precision',\n",
    "    xaxis_title=\"Relation\",\n",
    "    yaxis_title=\"Precision\",        \n",
    "    barmode='overlay',\n",
    "    width=1200,\n",
    "    xaxis = go.layout.XAxis(\n",
    "        tickangle = 45,\n",
    "        automargin = True\n",
    "        \n",
    "    )\n",
    "    \n",
    "        \n",
    ")\n",
    "\n",
    "fig = go.Figure(data=data, layout=layout)\n",
    "iplot(fig)"
   ]
  },
  {
   "cell_type": "code",
   "execution_count": 9,
   "metadata": {},
   "outputs": [
    {
     "data": {
      "text/plain": [
       "[('per:title', 0.057),\n",
       " ('org:top_members/employees', 0.0484),\n",
       " ('per:age', 0.0379),\n",
       " ('org:alternate_names', 0.0315),\n",
       " ('per:employee_of', 0.0284),\n",
       " ('org:founded', 0.0277),\n",
       " ('per:cities_of_residence', 0.0255),\n",
       " ('per:origin', 0.0196),\n",
       " ('per:countries_of_residence', 0.0176),\n",
       " ('per:charges', 0.0164),\n",
       " ('overall', 0.0158),\n",
       " ('per:date_of_death', 0.0149),\n",
       " ('org:city_of_headquarters', 0.0131),\n",
       " ('per:stateorprovinces_of_residence', 0.0113),\n",
       " ('per:date_of_birth', 0.0111),\n",
       " ('org:founded_by', 0.0108),\n",
       " ('per:parents', 0.0105),\n",
       " ('org:country_of_headquarters', 0.0103),\n",
       " ('per:siblings', 0.008),\n",
       " ('org:website', 0.0077),\n",
       " ('per:religion', 0.0077),\n",
       " ('org:parents', 0.0069),\n",
       " ('per:spouse', 0.0069),\n",
       " ('org:stateorprovince_of_headquarters', 0.0065),\n",
       " ('per:other_family', 0.0062),\n",
       " ('org:number_of_employees/members', 0.0055),\n",
       " ('org:subsidiaries', 0.005),\n",
       " ('per:city_of_death', 0.0047),\n",
       " ('per:schools_attended', 0.0046),\n",
       " ('per:cause_of_death', 0.0044),\n",
       " ('per:stateorprovince_of_birth', 0.0031),\n",
       " ('per:children', 0.003),\n",
       " ('org:members', 0.0026),\n",
       " ('org:political/religious_affiliation', 0.0025),\n",
       " ('per:alternate_names', 0.0019),\n",
       " ('org:member_of', 0.0017),\n",
       " ('per:city_of_birth', 0.0015),\n",
       " ('org:shareholders', 0.0012),\n",
       " ('per:country_of_birth', 0.001),\n",
       " ('per:stateorprovince_of_death', 0.0007),\n",
       " ('org:dissolved', 0.0),\n",
       " ('per:country_of_death', 0.0)]"
      ]
     },
     "execution_count": 9,
     "metadata": {},
     "output_type": "execute_result"
    }
   ],
   "source": [
    "stats"
   ]
  },
  {
   "cell_type": "code",
   "execution_count": null,
   "metadata": {},
   "outputs": [],
   "source": []
  }
 ],
 "metadata": {
  "kernelspec": {
   "display_name": "Python 3",
   "language": "python",
   "name": "python3"
  },
  "language_info": {
   "codemirror_mode": {
    "name": "ipython",
    "version": 3
   },
   "file_extension": ".py",
   "mimetype": "text/x-python",
   "name": "python",
   "nbconvert_exporter": "python",
   "pygments_lexer": "ipython3",
   "version": "3.7.6"
  }
 },
 "nbformat": 4,
 "nbformat_minor": 2
}
